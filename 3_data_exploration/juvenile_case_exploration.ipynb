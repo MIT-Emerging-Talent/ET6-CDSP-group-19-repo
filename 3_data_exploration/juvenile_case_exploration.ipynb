{
 "cells": [
  {
   "cell_type": "markdown",
   "id": "376c4e75",
   "metadata": {},
   "source": [
    "# Juvenile Immigration Case Analysis – Data Exploration\n",
    "This notebook analyzes a large EOIR history dataset to explore patterns in juvenile immigration cases."
   ]
  },
  {
   "cell_type": "code",
   "execution_count": 3,
   "id": "520793e1",
   "metadata": {},
   "outputs": [],
   "source": [
    "import pandas as pd\n",
    "import matplotlib.pyplot as plt\n",
    "import os"
   ]
  },
  {
   "cell_type": "code",
   "execution_count": null,
   "id": "857ee52f",
   "metadata": {},
   "outputs": [],
   "source": [
    "df = pd.read_csv(\"YourFilePath.csv\")\n",
    "df.info()\n"
   ]
  },
  {
   "cell_type": "code",
   "execution_count": null,
   "id": "f7ed9c15",
   "metadata": {},
   "outputs": [],
   "source": [
    "total_juvenile_rows = df[df[\"idnJuvenile\"] == 1.0].shape[0]\n",
    "unique_juvenile_cases = df[df[\"idnJuvenile\"] == 1.0][\"idnCase\"].nunique()\n",
    "total_cases = df[\"idnCase\"].nunique()\n",
    "juvenile_ratio = round((unique_juvenile_cases / total_cases) * 100, 2)\n",
    "print(f\"Total juvenile rows: {total_juvenile_rows}\")\n",
    "print(f\"Unique juvenile cases: {unique_juvenile_cases}\")\n",
    "print(f\"Total cases: {total_cases}\")\n",
    "print(f\"Juvenile case ratio: {juvenile_ratio}%\")"
   ]
  },
  {
   "cell_type": "code",
   "execution_count": null,
   "id": "eff78599",
   "metadata": {},
   "outputs": [],
   "source": [
    "proceedings_per_case = df.groupby(\"idnCase\")[\"idnProceeding\"].nunique()\n",
    "proceedings_per_case.describe()"
   ]
  },
  {
   "cell_type": "code",
   "execution_count": null,
   "id": "0c87d7ef",
   "metadata": {},
   "outputs": [],
   "source": [
    "df.isnull().sum()"
   ]
  },
  {
   "cell_type": "code",
   "execution_count": null,
   "id": "6b227ec7",
   "metadata": {},
   "outputs": [],
   "source": [
    "duplicates = df.duplicated(subset=[\"idnCase\", \"idnProceeding\"]).sum()\n",
    "print(f\"Duplicate rows: {duplicates}\")"
   ]
  },
  {
   "cell_type": "code",
   "execution_count": null,
   "id": "a74e5374",
   "metadata": {},
   "outputs": [],
   "source": [
    "juvenile_df = df[df[\"idnJuvenile\"] == 1.0].copy()\n",
    "os.makedirs(\"output_data\", exist_ok=True)\n",
    "juvenile_df.to_csv(\"output_data/juvenile_cases_only.csv\", index=False)"
   ]
  },
  {
   "cell_type": "code",
   "execution_count": null,
   "id": "a40b1271",
   "metadata": {},
   "outputs": [],
   "source": [
    "proceedings_per_case.hist(bins=20, figsize=(8, 5))\n",
    "plt.title(\"Distribution of Proceedings per Case\")\n",
    "plt.xlabel(\"Number of Proceedings\")\n",
    "plt.ylabel(\"Number of Cases\")\n",
    "plt.grid(True)\n",
    "plt.show()"
   ]
  },
  {
   "cell_type": "code",
   "execution_count": null,
   "id": "2ba3a605",
   "metadata": {},
   "outputs": [],
   "source": [
    "sizes = [unique_juvenile_cases, total_cases - unique_juvenile_cases]\n",
    "labels = [\"Juvenile Cases\", \"Non-Juvenile Cases\"]\n",
    "plt.figure(figsize=(6, 6))\n",
    "plt.pie(sizes, labels=labels, autopct=\"%1.1f%%\", startangle=140)\n",
    "plt.axis(\"equal\")\n",
    "plt.title(\"Proportion of Juvenile vs Non-Juvenile Cases\")\n",
    "plt.show()"
   ]
  },
  {
   "cell_type": "markdown",
   "id": "2b7f7c96",
   "metadata": {},
   "source": [
    "### Conclusion\n",
    "- Juvenile cases make up around 6.6% of total cases.\n",
    "- Most cases involve 1–2 proceedings, with a few going up to 16.\n",
    "- There are data quality issues, including duplicates and missing values, that must be considered in downstream analysis."
   ]
  }
 ],
 "metadata": {
  "kernelspec": {
   "display_name": "base",
   "language": "python",
   "name": "python3"
  },
  "language_info": {
   "codemirror_mode": {
    "name": "ipython",
    "version": 3
   },
   "file_extension": ".py",
   "mimetype": "text/x-python",
   "name": "python",
   "nbconvert_exporter": "python",
   "pygments_lexer": "ipython3",
   "version": "3.12.7"
  }
 },
 "nbformat": 4,
 "nbformat_minor": 5
}
