{
 "cells": [
  {
   "cell_type": "code",
   "execution_count": 1,
   "id": "278926c0",
   "metadata": {},
   "outputs": [],
   "source": [
    "import pandas as pd\n",
    "import matplotlib.pyplot as plt\n",
    "import seaborn as sns"
   ]
  },
  {
   "cell_type": "code",
   "execution_count": 24,
   "id": "a31b5760",
   "metadata": {},
   "outputs": [],
   "source": [
    "juvenile_history_path = (\n",
    "    \"D:/Cleaned-data/Juvenile_cases_cleaned.csv/Juvenile_cases_cleaned.csv\"\n",
    ")\n",
    "juvenile_history = pd.read_csv(\n",
    "    filepath_or_buffer=juvenile_history_path,\n",
    "    dtype={\n",
    "        \"idnJuvenileHistory\": \"Int64\",\n",
    "        \"idnCase\": \"Int64\",\n",
    "        \"idnProceeding\": \"Int64\",\n",
    "        \"idnJuvenile\": \"category\",\n",
    "    },\n",
    "    low_memory=False,\n",
    ")"
   ]
  },
  {
   "cell_type": "markdown",
   "id": "eb69bbe9",
   "metadata": {},
   "source": [
    "### JuvenileHistory Table\n",
    "\n",
    "The `JuvenileHistory` table is a **junction table** that contains foreign keys linking to core case tables and lookup tables. It represents many-to-many relationships between juveniles and immigration proceedings.\n",
    "\n",
    "**Key columns:**\n",
    "- `idnJuvenileHistory` — Primary key\n",
    "- `idnCase` — Foreign key to the `Case` table\n",
    "- `idnProceeding` — Foreign key to the `Proceeding` table\n",
    "- `idnJuvenile` — Foreign key to the `Lookup Juvenile` table\n",
    "\n",
    "This table acts as a bridge, allowing multiple juveniles to be associated with multiple cases and proceedings."
   ]
  },
  {
   "cell_type": "code",
   "execution_count": 25,
   "id": "cd659e4e",
   "metadata": {},
   "outputs": [
    {
     "data": {
      "text/html": [
       "<div>\n",
       "<style scoped>\n",
       "    .dataframe tbody tr th:only-of-type {\n",
       "        vertical-align: middle;\n",
       "    }\n",
       "\n",
       "    .dataframe tbody tr th {\n",
       "        vertical-align: top;\n",
       "    }\n",
       "\n",
       "    .dataframe thead th {\n",
       "        text-align: right;\n",
       "    }\n",
       "</style>\n",
       "<table border=\"1\" class=\"dataframe\">\n",
       "  <thead>\n",
       "    <tr style=\"text-align: right;\">\n",
       "      <th></th>\n",
       "      <th>IDNCASE</th>\n",
       "      <th>NAT</th>\n",
       "      <th>LANG</th>\n",
       "      <th>CUSTODY</th>\n",
       "      <th>CASE_TYPE</th>\n",
       "      <th>LATEST_HEARING</th>\n",
       "      <th>LATEST_CAL_TYPE</th>\n",
       "      <th>DATE_OF_ENTRY</th>\n",
       "      <th>C_BIRTHDATE</th>\n",
       "      <th>GENDER</th>\n",
       "      <th>DATE_DETAINED</th>\n",
       "      <th>DATE_RELEASED</th>\n",
       "    </tr>\n",
       "  </thead>\n",
       "  <tbody>\n",
       "    <tr>\n",
       "      <th>0</th>\n",
       "      <td>13758313</td>\n",
       "      <td>GT</td>\n",
       "      <td>SP</td>\n",
       "      <td>N</td>\n",
       "      <td>RMV</td>\n",
       "      <td>NaN</td>\n",
       "      <td>NaN</td>\n",
       "      <td>2024-01-21</td>\n",
       "      <td>2008-02-01</td>\n",
       "      <td>F</td>\n",
       "      <td>NaN</td>\n",
       "      <td>NaN</td>\n",
       "    </tr>\n",
       "    <tr>\n",
       "      <th>1</th>\n",
       "      <td>14870586</td>\n",
       "      <td>MX</td>\n",
       "      <td>SP</td>\n",
       "      <td>D</td>\n",
       "      <td>RFR</td>\n",
       "      <td>2025-02-04</td>\n",
       "      <td>I</td>\n",
       "      <td>NaN</td>\n",
       "      <td>NaN</td>\n",
       "      <td>NaN</td>\n",
       "      <td>2025-01-22</td>\n",
       "      <td>NaN</td>\n",
       "    </tr>\n",
       "    <tr>\n",
       "      <th>2</th>\n",
       "      <td>14870588</td>\n",
       "      <td>GT</td>\n",
       "      <td>SP</td>\n",
       "      <td>R</td>\n",
       "      <td>WHO</td>\n",
       "      <td>2025-07-31</td>\n",
       "      <td>M</td>\n",
       "      <td>NaN</td>\n",
       "      <td>1997-06-01</td>\n",
       "      <td>F</td>\n",
       "      <td>2025-01-29</td>\n",
       "      <td>2025-02-06 00:00:00.000</td>\n",
       "    </tr>\n",
       "    <tr>\n",
       "      <th>3</th>\n",
       "      <td>13816559</td>\n",
       "      <td>MX</td>\n",
       "      <td>SP</td>\n",
       "      <td>N</td>\n",
       "      <td>RMV</td>\n",
       "      <td>2027-02-18</td>\n",
       "      <td>I</td>\n",
       "      <td>NaN</td>\n",
       "      <td>2020-05-01</td>\n",
       "      <td>M</td>\n",
       "      <td>NaN</td>\n",
       "      <td>NaN</td>\n",
       "    </tr>\n",
       "    <tr>\n",
       "      <th>4</th>\n",
       "      <td>13816560</td>\n",
       "      <td>MX</td>\n",
       "      <td>SP</td>\n",
       "      <td>N</td>\n",
       "      <td>RMV</td>\n",
       "      <td>2027-02-18</td>\n",
       "      <td>I</td>\n",
       "      <td>NaN</td>\n",
       "      <td>2021-05-01</td>\n",
       "      <td>F</td>\n",
       "      <td>NaN</td>\n",
       "      <td>NaN</td>\n",
       "    </tr>\n",
       "  </tbody>\n",
       "</table>\n",
       "</div>"
      ],
      "text/plain": [
       "    IDNCASE NAT LANG CUSTODY CASE_TYPE LATEST_HEARING LATEST_CAL_TYPE  \\\n",
       "0  13758313  GT   SP       N       RMV            NaN             NaN   \n",
       "1  14870586  MX   SP       D       RFR     2025-02-04               I   \n",
       "2  14870588  GT   SP       R       WHO     2025-07-31               M   \n",
       "3  13816559  MX   SP       N       RMV     2027-02-18               I   \n",
       "4  13816560  MX   SP       N       RMV     2027-02-18               I   \n",
       "\n",
       "  DATE_OF_ENTRY C_BIRTHDATE GENDER DATE_DETAINED            DATE_RELEASED  \n",
       "0    2024-01-21  2008-02-01      F           NaN                      NaN  \n",
       "1           NaN         NaN    NaN    2025-01-22                      NaN  \n",
       "2           NaN  1997-06-01      F    2025-01-29  2025-02-06 00:00:00.000  \n",
       "3           NaN  2020-05-01      M           NaN                      NaN  \n",
       "4           NaN  2021-05-01      F           NaN                      NaN  "
      ]
     },
     "execution_count": 25,
     "metadata": {},
     "output_type": "execute_result"
    }
   ],
   "source": [
    "juvenile_history.head()"
   ]
  },
  {
   "cell_type": "code",
   "execution_count": 26,
   "id": "0b9fc929",
   "metadata": {},
   "outputs": [
    {
     "name": "stdout",
     "output_type": "stream",
     "text": [
      "<class 'pandas.core.frame.DataFrame'>\n",
      "RangeIndex: 1858773 entries, 0 to 1858772\n",
      "Data columns (total 12 columns):\n",
      " #   Column           Dtype \n",
      "---  ------           ----- \n",
      " 0   IDNCASE          int64 \n",
      " 1   NAT              object\n",
      " 2   LANG             object\n",
      " 3   CUSTODY          object\n",
      " 4   CASE_TYPE        object\n",
      " 5   LATEST_HEARING   object\n",
      " 6   LATEST_CAL_TYPE  object\n",
      " 7   DATE_OF_ENTRY    object\n",
      " 8   C_BIRTHDATE      object\n",
      " 9   GENDER           object\n",
      " 10  DATE_DETAINED    object\n",
      " 11  DATE_RELEASED    object\n",
      "dtypes: int64(1), object(11)\n",
      "memory usage: 170.2+ MB\n"
     ]
    }
   ],
   "source": [
    "juvenile_history.info()"
   ]
  },
  {
   "cell_type": "code",
   "execution_count": 27,
   "id": "9e7e35a8",
   "metadata": {},
   "outputs": [
    {
     "name": "stdout",
     "output_type": "stream",
     "text": [
      "Since 2008, the EOIR database contains 1,858,773 juvenile records.\n",
      "The dataset includes 1,858,773 unique juvenile case IDs.\n",
      "Median records per case ID: 1.0\n",
      "Average records per case ID: 1.00\n",
      "Cases with only one record: 1858773\n"
     ]
    }
   ],
   "source": [
    "rows = juvenile_history.shape[0]\n",
    "unique_juvenile_case_ids_len = len(juvenile_history[\"IDNCASE\"].unique())\n",
    "case_counts = juvenile_history[\"IDNCASE\"].value_counts()\n",
    "\n",
    "print(f\"Since 2008, the EOIR database contains {rows:,} juvenile records.\")\n",
    "print(\n",
    "    f\"The dataset includes {unique_juvenile_case_ids_len:,} unique juvenile case IDs.\"\n",
    ")\n",
    "print(f\"Median records per case ID: {case_counts.median()}\")\n",
    "print(f\"Average records per case ID: {case_counts.mean():.2f}\")\n",
    "print(f\"Cases with only one record: {(case_counts == 1).sum()}\")"
   ]
  },
  {
   "cell_type": "code",
   "execution_count": 29,
   "id": "c0ac2a54",
   "metadata": {},
   "outputs": [],
   "source": [
    "lookup_juvenile_path = r\"D:\\New folder\\Lookup\\tblLookup_Juvenile.csv\"\n",
    "lookup_juvenile = pd.read_csv(\n",
    "    filepath_or_buffer=lookup_juvenile_path,\n",
    "    delimiter=\"\\t\",\n",
    "    dtype={\"idnJuvenile\": \"category\"},\n",
    ")"
   ]
  },
  {
   "cell_type": "code",
   "execution_count": 30,
   "id": "16d0c599",
   "metadata": {},
   "outputs": [
    {
     "data": {
      "text/html": [
       "<div>\n",
       "<style scoped>\n",
       "    .dataframe tbody tr th:only-of-type {\n",
       "        vertical-align: middle;\n",
       "    }\n",
       "\n",
       "    .dataframe tbody tr th {\n",
       "        vertical-align: top;\n",
       "    }\n",
       "\n",
       "    .dataframe thead th {\n",
       "        text-align: right;\n",
       "    }\n",
       "</style>\n",
       "<table border=\"1\" class=\"dataframe\">\n",
       "  <thead>\n",
       "    <tr style=\"text-align: right;\">\n",
       "      <th></th>\n",
       "      <th>idnJuvenile</th>\n",
       "      <th>strCode</th>\n",
       "      <th>strDescription</th>\n",
       "      <th>DATCREATEDON</th>\n",
       "      <th>DATMODIFIEDON</th>\n",
       "    </tr>\n",
       "  </thead>\n",
       "  <tbody>\n",
       "    <tr>\n",
       "      <th>0</th>\n",
       "      <td>1</td>\n",
       "      <td>J</td>\n",
       "      <td>Juvenile Case</td>\n",
       "      <td>2014-09-06 11:03:55.993</td>\n",
       "      <td>2017-04-07 21:42:18.000</td>\n",
       "    </tr>\n",
       "    <tr>\n",
       "      <th>1</th>\n",
       "      <td>2</td>\n",
       "      <td>J1</td>\n",
       "      <td>Juvenile has been released to guardian or has ...</td>\n",
       "      <td>2014-09-06 11:03:56.033</td>\n",
       "      <td>2017-04-07 21:42:34.000</td>\n",
       "    </tr>\n",
       "    <tr>\n",
       "      <th>2</th>\n",
       "      <td>3</td>\n",
       "      <td>J2</td>\n",
       "      <td>Unaccompanied Juvenile - Asylum</td>\n",
       "      <td>2014-09-06 11:03:56.033</td>\n",
       "      <td>2017-04-07 21:42:41.000</td>\n",
       "    </tr>\n",
       "    <tr>\n",
       "      <th>3</th>\n",
       "      <td>4</td>\n",
       "      <td>UJ</td>\n",
       "      <td>Unaccompanied Juvenile</td>\n",
       "      <td>2014-09-06 11:03:56.033</td>\n",
       "      <td>2014-09-06 17:39:29.000</td>\n",
       "    </tr>\n",
       "    <tr>\n",
       "      <th>4</th>\n",
       "      <td>5</td>\n",
       "      <td>NaN</td>\n",
       "      <td>Not Applicable</td>\n",
       "      <td>2017-10-20 22:32:47.537</td>\n",
       "      <td>2017-10-20 22:32:47.537</td>\n",
       "    </tr>\n",
       "    <tr>\n",
       "      <th>5</th>\n",
       "      <td>6</td>\n",
       "      <td>AJ</td>\n",
       "      <td>Accompanied Juvenile</td>\n",
       "      <td>2017-10-20 22:32:47.537</td>\n",
       "      <td>2017-10-20 22:32:47.537</td>\n",
       "    </tr>\n",
       "  </tbody>\n",
       "</table>\n",
       "</div>"
      ],
      "text/plain": [
       "  idnJuvenile strCode                                     strDescription  \\\n",
       "0           1       J                                      Juvenile Case   \n",
       "1           2      J1  Juvenile has been released to guardian or has ...   \n",
       "2           3      J2                    Unaccompanied Juvenile - Asylum   \n",
       "3           4      UJ                             Unaccompanied Juvenile   \n",
       "4           5     NaN                                     Not Applicable   \n",
       "5           6      AJ                               Accompanied Juvenile   \n",
       "\n",
       "              DATCREATEDON            DATMODIFIEDON  \n",
       "0  2014-09-06 11:03:55.993  2017-04-07 21:42:18.000  \n",
       "1  2014-09-06 11:03:56.033  2017-04-07 21:42:34.000  \n",
       "2  2014-09-06 11:03:56.033  2017-04-07 21:42:41.000  \n",
       "3  2014-09-06 11:03:56.033  2014-09-06 17:39:29.000  \n",
       "4  2017-10-20 22:32:47.537  2017-10-20 22:32:47.537  \n",
       "5  2017-10-20 22:32:47.537  2017-10-20 22:32:47.537  "
      ]
     },
     "metadata": {},
     "output_type": "display_data"
    }
   ],
   "source": [
    "display(lookup_juvenile)"
   ]
  },
  {
   "cell_type": "code",
   "execution_count": 37,
   "id": "253dfdad",
   "metadata": {},
   "outputs": [
    {
     "ename": "KeyError",
     "evalue": "'idnJuvenile'",
     "output_type": "error",
     "traceback": [
      "\u001b[1;31m---------------------------------------------------------------------------\u001b[0m",
      "\u001b[1;31mKeyError\u001b[0m                                  Traceback (most recent call last)",
      "File \u001b[1;32mc:\\Users\\engam\\anaconda3\\Lib\\site-packages\\pandas\\core\\indexes\\base.py:3805\u001b[0m, in \u001b[0;36mIndex.get_loc\u001b[1;34m(self, key)\u001b[0m\n\u001b[0;32m   3804\u001b[0m \u001b[38;5;28;01mtry\u001b[39;00m:\n\u001b[1;32m-> 3805\u001b[0m     \u001b[38;5;28;01mreturn\u001b[39;00m \u001b[38;5;28mself\u001b[39m\u001b[38;5;241m.\u001b[39m_engine\u001b[38;5;241m.\u001b[39mget_loc(casted_key)\n\u001b[0;32m   3806\u001b[0m \u001b[38;5;28;01mexcept\u001b[39;00m \u001b[38;5;167;01mKeyError\u001b[39;00m \u001b[38;5;28;01mas\u001b[39;00m err:\n",
      "File \u001b[1;32mindex.pyx:167\u001b[0m, in \u001b[0;36mpandas._libs.index.IndexEngine.get_loc\u001b[1;34m()\u001b[0m\n",
      "File \u001b[1;32mindex.pyx:196\u001b[0m, in \u001b[0;36mpandas._libs.index.IndexEngine.get_loc\u001b[1;34m()\u001b[0m\n",
      "File \u001b[1;32mpandas\\\\_libs\\\\hashtable_class_helper.pxi:7081\u001b[0m, in \u001b[0;36mpandas._libs.hashtable.PyObjectHashTable.get_item\u001b[1;34m()\u001b[0m\n",
      "File \u001b[1;32mpandas\\\\_libs\\\\hashtable_class_helper.pxi:7089\u001b[0m, in \u001b[0;36mpandas._libs.hashtable.PyObjectHashTable.get_item\u001b[1;34m()\u001b[0m\n",
      "\u001b[1;31mKeyError\u001b[0m: 'idnJuvenile'",
      "\nThe above exception was the direct cause of the following exception:\n",
      "\u001b[1;31mKeyError\u001b[0m                                  Traceback (most recent call last)",
      "Cell \u001b[1;32mIn[37], line 1\u001b[0m\n\u001b[1;32m----> 1\u001b[0m missing_count \u001b[38;5;241m=\u001b[39m juvenile_history[\u001b[38;5;124m\"\u001b[39m\u001b[38;5;124midnJuvenile\u001b[39m\u001b[38;5;124m\"\u001b[39m]\u001b[38;5;241m.\u001b[39misna()\u001b[38;5;241m.\u001b[39msum()\n\u001b[0;32m      2\u001b[0m \u001b[38;5;28mprint\u001b[39m(\u001b[38;5;124mf\u001b[39m\u001b[38;5;124m\"\u001b[39m\u001b[38;5;124mMissing idnJuvenile values: \u001b[39m\u001b[38;5;132;01m{\u001b[39;00mmissing_count\u001b[38;5;132;01m}\u001b[39;00m\u001b[38;5;124m\"\u001b[39m)\n",
      "File \u001b[1;32mc:\\Users\\engam\\anaconda3\\Lib\\site-packages\\pandas\\core\\frame.py:4102\u001b[0m, in \u001b[0;36mDataFrame.__getitem__\u001b[1;34m(self, key)\u001b[0m\n\u001b[0;32m   4100\u001b[0m \u001b[38;5;28;01mif\u001b[39;00m \u001b[38;5;28mself\u001b[39m\u001b[38;5;241m.\u001b[39mcolumns\u001b[38;5;241m.\u001b[39mnlevels \u001b[38;5;241m>\u001b[39m \u001b[38;5;241m1\u001b[39m:\n\u001b[0;32m   4101\u001b[0m     \u001b[38;5;28;01mreturn\u001b[39;00m \u001b[38;5;28mself\u001b[39m\u001b[38;5;241m.\u001b[39m_getitem_multilevel(key)\n\u001b[1;32m-> 4102\u001b[0m indexer \u001b[38;5;241m=\u001b[39m \u001b[38;5;28mself\u001b[39m\u001b[38;5;241m.\u001b[39mcolumns\u001b[38;5;241m.\u001b[39mget_loc(key)\n\u001b[0;32m   4103\u001b[0m \u001b[38;5;28;01mif\u001b[39;00m is_integer(indexer):\n\u001b[0;32m   4104\u001b[0m     indexer \u001b[38;5;241m=\u001b[39m [indexer]\n",
      "File \u001b[1;32mc:\\Users\\engam\\anaconda3\\Lib\\site-packages\\pandas\\core\\indexes\\base.py:3812\u001b[0m, in \u001b[0;36mIndex.get_loc\u001b[1;34m(self, key)\u001b[0m\n\u001b[0;32m   3807\u001b[0m     \u001b[38;5;28;01mif\u001b[39;00m \u001b[38;5;28misinstance\u001b[39m(casted_key, \u001b[38;5;28mslice\u001b[39m) \u001b[38;5;129;01mor\u001b[39;00m (\n\u001b[0;32m   3808\u001b[0m         \u001b[38;5;28misinstance\u001b[39m(casted_key, abc\u001b[38;5;241m.\u001b[39mIterable)\n\u001b[0;32m   3809\u001b[0m         \u001b[38;5;129;01mand\u001b[39;00m \u001b[38;5;28many\u001b[39m(\u001b[38;5;28misinstance\u001b[39m(x, \u001b[38;5;28mslice\u001b[39m) \u001b[38;5;28;01mfor\u001b[39;00m x \u001b[38;5;129;01min\u001b[39;00m casted_key)\n\u001b[0;32m   3810\u001b[0m     ):\n\u001b[0;32m   3811\u001b[0m         \u001b[38;5;28;01mraise\u001b[39;00m InvalidIndexError(key)\n\u001b[1;32m-> 3812\u001b[0m     \u001b[38;5;28;01mraise\u001b[39;00m \u001b[38;5;167;01mKeyError\u001b[39;00m(key) \u001b[38;5;28;01mfrom\u001b[39;00m \u001b[38;5;21;01merr\u001b[39;00m\n\u001b[0;32m   3813\u001b[0m \u001b[38;5;28;01mexcept\u001b[39;00m \u001b[38;5;167;01mTypeError\u001b[39;00m:\n\u001b[0;32m   3814\u001b[0m     \u001b[38;5;66;03m# If we have a listlike key, _check_indexing_error will raise\u001b[39;00m\n\u001b[0;32m   3815\u001b[0m     \u001b[38;5;66;03m#  InvalidIndexError. Otherwise we fall through and re-raise\u001b[39;00m\n\u001b[0;32m   3816\u001b[0m     \u001b[38;5;66;03m#  the TypeError.\u001b[39;00m\n\u001b[0;32m   3817\u001b[0m     \u001b[38;5;28mself\u001b[39m\u001b[38;5;241m.\u001b[39m_check_indexing_error(key)\n",
      "\u001b[1;31mKeyError\u001b[0m: 'idnJuvenile'"
     ]
    }
   ],
   "source": [
    "missing_count = juvenile_history[\"idnJuvenile\"].isna().sum()\n",
    "print(f\"Missing idnJuvenile values: {missing_count}\")"
   ]
  },
  {
   "cell_type": "code",
   "execution_count": 36,
   "id": "831a08fb",
   "metadata": {},
   "outputs": [
    {
     "ename": "KeyError",
     "evalue": "'idnJuvenile'",
     "output_type": "error",
     "traceback": [
      "\u001b[1;31m---------------------------------------------------------------------------\u001b[0m",
      "\u001b[1;31mKeyError\u001b[0m                                  Traceback (most recent call last)",
      "\u001b[1;32m~\\AppData\\Local\\Temp\\ipykernel_35812\\3604528384.py\u001b[0m in \u001b[0;36m?\u001b[1;34m()\u001b[0m\n\u001b[1;32m----> 1\u001b[1;33m juvenile_history_with_lookup = juvenile_history.merge(\n\u001b[0m\u001b[0;32m      2\u001b[0m     \u001b[0mlookup_juvenile\u001b[0m\u001b[1;33m,\u001b[0m \u001b[0mhow\u001b[0m\u001b[1;33m=\u001b[0m\u001b[1;34m\"left\"\u001b[0m\u001b[1;33m,\u001b[0m \u001b[0mon\u001b[0m\u001b[1;33m=\u001b[0m\u001b[1;34m\"idnJuvenile\"\u001b[0m\u001b[1;33m\u001b[0m\u001b[1;33m\u001b[0m\u001b[0m\n\u001b[0;32m      3\u001b[0m \u001b[1;33m)\u001b[0m\u001b[1;33m\u001b[0m\u001b[1;33m\u001b[0m\u001b[0m\n",
      "\u001b[1;32mc:\\Users\\engam\\anaconda3\\Lib\\site-packages\\pandas\\core\\frame.py\u001b[0m in \u001b[0;36m?\u001b[1;34m(self, right, how, on, left_on, right_on, left_index, right_index, sort, suffixes, copy, indicator, validate)\u001b[0m\n\u001b[0;32m  10828\u001b[0m         \u001b[0mvalidate\u001b[0m\u001b[1;33m:\u001b[0m \u001b[0mMergeValidate\u001b[0m \u001b[1;33m|\u001b[0m \u001b[1;32mNone\u001b[0m \u001b[1;33m=\u001b[0m \u001b[1;32mNone\u001b[0m\u001b[1;33m,\u001b[0m\u001b[1;33m\u001b[0m\u001b[1;33m\u001b[0m\u001b[0m\n\u001b[0;32m  10829\u001b[0m     \u001b[1;33m)\u001b[0m \u001b[1;33m->\u001b[0m \u001b[0mDataFrame\u001b[0m\u001b[1;33m:\u001b[0m\u001b[1;33m\u001b[0m\u001b[1;33m\u001b[0m\u001b[0m\n\u001b[0;32m  10830\u001b[0m         \u001b[1;32mfrom\u001b[0m \u001b[0mpandas\u001b[0m\u001b[1;33m.\u001b[0m\u001b[0mcore\u001b[0m\u001b[1;33m.\u001b[0m\u001b[0mreshape\u001b[0m\u001b[1;33m.\u001b[0m\u001b[0mmerge\u001b[0m \u001b[1;32mimport\u001b[0m \u001b[0mmerge\u001b[0m\u001b[1;33m\u001b[0m\u001b[1;33m\u001b[0m\u001b[0m\n\u001b[0;32m  10831\u001b[0m \u001b[1;33m\u001b[0m\u001b[0m\n\u001b[1;32m> 10832\u001b[1;33m         return merge(\n\u001b[0m\u001b[0;32m  10833\u001b[0m             \u001b[0mself\u001b[0m\u001b[1;33m,\u001b[0m\u001b[1;33m\u001b[0m\u001b[1;33m\u001b[0m\u001b[0m\n\u001b[0;32m  10834\u001b[0m             \u001b[0mright\u001b[0m\u001b[1;33m,\u001b[0m\u001b[1;33m\u001b[0m\u001b[1;33m\u001b[0m\u001b[0m\n\u001b[0;32m  10835\u001b[0m             \u001b[0mhow\u001b[0m\u001b[1;33m=\u001b[0m\u001b[0mhow\u001b[0m\u001b[1;33m,\u001b[0m\u001b[1;33m\u001b[0m\u001b[1;33m\u001b[0m\u001b[0m\n",
      "\u001b[1;32mc:\\Users\\engam\\anaconda3\\Lib\\site-packages\\pandas\\core\\reshape\\merge.py\u001b[0m in \u001b[0;36m?\u001b[1;34m(left, right, how, on, left_on, right_on, left_index, right_index, sort, suffixes, copy, indicator, validate)\u001b[0m\n\u001b[0;32m    166\u001b[0m             \u001b[0mvalidate\u001b[0m\u001b[1;33m=\u001b[0m\u001b[0mvalidate\u001b[0m\u001b[1;33m,\u001b[0m\u001b[1;33m\u001b[0m\u001b[1;33m\u001b[0m\u001b[0m\n\u001b[0;32m    167\u001b[0m             \u001b[0mcopy\u001b[0m\u001b[1;33m=\u001b[0m\u001b[0mcopy\u001b[0m\u001b[1;33m,\u001b[0m\u001b[1;33m\u001b[0m\u001b[1;33m\u001b[0m\u001b[0m\n\u001b[0;32m    168\u001b[0m         \u001b[1;33m)\u001b[0m\u001b[1;33m\u001b[0m\u001b[1;33m\u001b[0m\u001b[0m\n\u001b[0;32m    169\u001b[0m     \u001b[1;32melse\u001b[0m\u001b[1;33m:\u001b[0m\u001b[1;33m\u001b[0m\u001b[1;33m\u001b[0m\u001b[0m\n\u001b[1;32m--> 170\u001b[1;33m         op = _MergeOperation(\n\u001b[0m\u001b[0;32m    171\u001b[0m             \u001b[0mleft_df\u001b[0m\u001b[1;33m,\u001b[0m\u001b[1;33m\u001b[0m\u001b[1;33m\u001b[0m\u001b[0m\n\u001b[0;32m    172\u001b[0m             \u001b[0mright_df\u001b[0m\u001b[1;33m,\u001b[0m\u001b[1;33m\u001b[0m\u001b[1;33m\u001b[0m\u001b[0m\n\u001b[0;32m    173\u001b[0m             \u001b[0mhow\u001b[0m\u001b[1;33m=\u001b[0m\u001b[0mhow\u001b[0m\u001b[1;33m,\u001b[0m\u001b[1;33m\u001b[0m\u001b[1;33m\u001b[0m\u001b[0m\n",
      "\u001b[1;32mc:\\Users\\engam\\anaconda3\\Lib\\site-packages\\pandas\\core\\reshape\\merge.py\u001b[0m in \u001b[0;36m?\u001b[1;34m(self, left, right, how, on, left_on, right_on, left_index, right_index, sort, suffixes, indicator, validate)\u001b[0m\n\u001b[0;32m    790\u001b[0m             \u001b[0mself\u001b[0m\u001b[1;33m.\u001b[0m\u001b[0mright_join_keys\u001b[0m\u001b[1;33m,\u001b[0m\u001b[1;33m\u001b[0m\u001b[1;33m\u001b[0m\u001b[0m\n\u001b[0;32m    791\u001b[0m             \u001b[0mself\u001b[0m\u001b[1;33m.\u001b[0m\u001b[0mjoin_names\u001b[0m\u001b[1;33m,\u001b[0m\u001b[1;33m\u001b[0m\u001b[1;33m\u001b[0m\u001b[0m\n\u001b[0;32m    792\u001b[0m             \u001b[0mleft_drop\u001b[0m\u001b[1;33m,\u001b[0m\u001b[1;33m\u001b[0m\u001b[1;33m\u001b[0m\u001b[0m\n\u001b[0;32m    793\u001b[0m             \u001b[0mright_drop\u001b[0m\u001b[1;33m,\u001b[0m\u001b[1;33m\u001b[0m\u001b[1;33m\u001b[0m\u001b[0m\n\u001b[1;32m--> 794\u001b[1;33m         \u001b[1;33m)\u001b[0m \u001b[1;33m=\u001b[0m \u001b[0mself\u001b[0m\u001b[1;33m.\u001b[0m\u001b[0m_get_merge_keys\u001b[0m\u001b[1;33m(\u001b[0m\u001b[1;33m)\u001b[0m\u001b[1;33m\u001b[0m\u001b[1;33m\u001b[0m\u001b[0m\n\u001b[0m\u001b[0;32m    795\u001b[0m \u001b[1;33m\u001b[0m\u001b[0m\n\u001b[0;32m    796\u001b[0m         \u001b[1;32mif\u001b[0m \u001b[0mleft_drop\u001b[0m\u001b[1;33m:\u001b[0m\u001b[1;33m\u001b[0m\u001b[1;33m\u001b[0m\u001b[0m\n\u001b[0;32m    797\u001b[0m             \u001b[0mself\u001b[0m\u001b[1;33m.\u001b[0m\u001b[0mleft\u001b[0m \u001b[1;33m=\u001b[0m \u001b[0mself\u001b[0m\u001b[1;33m.\u001b[0m\u001b[0mleft\u001b[0m\u001b[1;33m.\u001b[0m\u001b[0m_drop_labels_or_levels\u001b[0m\u001b[1;33m(\u001b[0m\u001b[0mleft_drop\u001b[0m\u001b[1;33m)\u001b[0m\u001b[1;33m\u001b[0m\u001b[1;33m\u001b[0m\u001b[0m\n",
      "\u001b[1;32mc:\\Users\\engam\\anaconda3\\Lib\\site-packages\\pandas\\core\\reshape\\merge.py\u001b[0m in \u001b[0;36m?\u001b[1;34m(self)\u001b[0m\n\u001b[0;32m   1306\u001b[0m                     \u001b[1;32mif\u001b[0m \u001b[0mlk\u001b[0m \u001b[1;32mis\u001b[0m \u001b[1;32mnot\u001b[0m \u001b[1;32mNone\u001b[0m\u001b[1;33m:\u001b[0m\u001b[1;33m\u001b[0m\u001b[1;33m\u001b[0m\u001b[0m\n\u001b[0;32m   1307\u001b[0m                         \u001b[1;31m# Then we're either Hashable or a wrong-length arraylike,\u001b[0m\u001b[1;33m\u001b[0m\u001b[1;33m\u001b[0m\u001b[0m\n\u001b[0;32m   1308\u001b[0m                         \u001b[1;31m#  the latter of which will raise\u001b[0m\u001b[1;33m\u001b[0m\u001b[1;33m\u001b[0m\u001b[0m\n\u001b[0;32m   1309\u001b[0m                         \u001b[0mlk\u001b[0m \u001b[1;33m=\u001b[0m \u001b[0mcast\u001b[0m\u001b[1;33m(\u001b[0m\u001b[0mHashable\u001b[0m\u001b[1;33m,\u001b[0m \u001b[0mlk\u001b[0m\u001b[1;33m)\u001b[0m\u001b[1;33m\u001b[0m\u001b[1;33m\u001b[0m\u001b[0m\n\u001b[1;32m-> 1310\u001b[1;33m                         \u001b[0mleft_keys\u001b[0m\u001b[1;33m.\u001b[0m\u001b[0mappend\u001b[0m\u001b[1;33m(\u001b[0m\u001b[0mleft\u001b[0m\u001b[1;33m.\u001b[0m\u001b[0m_get_label_or_level_values\u001b[0m\u001b[1;33m(\u001b[0m\u001b[0mlk\u001b[0m\u001b[1;33m)\u001b[0m\u001b[1;33m)\u001b[0m\u001b[1;33m\u001b[0m\u001b[1;33m\u001b[0m\u001b[0m\n\u001b[0m\u001b[0;32m   1311\u001b[0m                         \u001b[0mjoin_names\u001b[0m\u001b[1;33m.\u001b[0m\u001b[0mappend\u001b[0m\u001b[1;33m(\u001b[0m\u001b[0mlk\u001b[0m\u001b[1;33m)\u001b[0m\u001b[1;33m\u001b[0m\u001b[1;33m\u001b[0m\u001b[0m\n\u001b[0;32m   1312\u001b[0m                     \u001b[1;32melse\u001b[0m\u001b[1;33m:\u001b[0m\u001b[1;33m\u001b[0m\u001b[1;33m\u001b[0m\u001b[0m\n\u001b[0;32m   1313\u001b[0m                         \u001b[1;31m# work-around for merge_asof(left_index=True)\u001b[0m\u001b[1;33m\u001b[0m\u001b[1;33m\u001b[0m\u001b[0m\n",
      "\u001b[1;32mc:\\Users\\engam\\anaconda3\\Lib\\site-packages\\pandas\\core\\generic.py\u001b[0m in \u001b[0;36m?\u001b[1;34m(self, key, axis)\u001b[0m\n\u001b[0;32m   1907\u001b[0m             \u001b[0mvalues\u001b[0m \u001b[1;33m=\u001b[0m \u001b[0mself\u001b[0m\u001b[1;33m.\u001b[0m\u001b[0mxs\u001b[0m\u001b[1;33m(\u001b[0m\u001b[0mkey\u001b[0m\u001b[1;33m,\u001b[0m \u001b[0maxis\u001b[0m\u001b[1;33m=\u001b[0m\u001b[0mother_axes\u001b[0m\u001b[1;33m[\u001b[0m\u001b[1;36m0\u001b[0m\u001b[1;33m]\u001b[0m\u001b[1;33m)\u001b[0m\u001b[1;33m.\u001b[0m\u001b[0m_values\u001b[0m\u001b[1;33m\u001b[0m\u001b[1;33m\u001b[0m\u001b[0m\n\u001b[0;32m   1908\u001b[0m         \u001b[1;32melif\u001b[0m \u001b[0mself\u001b[0m\u001b[1;33m.\u001b[0m\u001b[0m_is_level_reference\u001b[0m\u001b[1;33m(\u001b[0m\u001b[0mkey\u001b[0m\u001b[1;33m,\u001b[0m \u001b[0maxis\u001b[0m\u001b[1;33m=\u001b[0m\u001b[0maxis\u001b[0m\u001b[1;33m)\u001b[0m\u001b[1;33m:\u001b[0m\u001b[1;33m\u001b[0m\u001b[1;33m\u001b[0m\u001b[0m\n\u001b[0;32m   1909\u001b[0m             \u001b[0mvalues\u001b[0m \u001b[1;33m=\u001b[0m \u001b[0mself\u001b[0m\u001b[1;33m.\u001b[0m\u001b[0maxes\u001b[0m\u001b[1;33m[\u001b[0m\u001b[0maxis\u001b[0m\u001b[1;33m]\u001b[0m\u001b[1;33m.\u001b[0m\u001b[0mget_level_values\u001b[0m\u001b[1;33m(\u001b[0m\u001b[0mkey\u001b[0m\u001b[1;33m)\u001b[0m\u001b[1;33m.\u001b[0m\u001b[0m_values\u001b[0m\u001b[1;33m\u001b[0m\u001b[1;33m\u001b[0m\u001b[0m\n\u001b[0;32m   1910\u001b[0m         \u001b[1;32melse\u001b[0m\u001b[1;33m:\u001b[0m\u001b[1;33m\u001b[0m\u001b[1;33m\u001b[0m\u001b[0m\n\u001b[1;32m-> 1911\u001b[1;33m             \u001b[1;32mraise\u001b[0m \u001b[0mKeyError\u001b[0m\u001b[1;33m(\u001b[0m\u001b[0mkey\u001b[0m\u001b[1;33m)\u001b[0m\u001b[1;33m\u001b[0m\u001b[1;33m\u001b[0m\u001b[0m\n\u001b[0m\u001b[0;32m   1912\u001b[0m \u001b[1;33m\u001b[0m\u001b[0m\n\u001b[0;32m   1913\u001b[0m         \u001b[1;31m# Check for duplicates\u001b[0m\u001b[1;33m\u001b[0m\u001b[1;33m\u001b[0m\u001b[0m\n\u001b[0;32m   1914\u001b[0m         \u001b[1;32mif\u001b[0m \u001b[0mvalues\u001b[0m\u001b[1;33m.\u001b[0m\u001b[0mndim\u001b[0m \u001b[1;33m>\u001b[0m \u001b[1;36m1\u001b[0m\u001b[1;33m:\u001b[0m\u001b[1;33m\u001b[0m\u001b[1;33m\u001b[0m\u001b[0m\n",
      "\u001b[1;31mKeyError\u001b[0m: 'idnJuvenile'"
     ]
    }
   ],
   "source": [
    "juvenile_history_with_lookup = juvenile_history.merge(\n",
    "    lookup_juvenile, how=\"left\", on=\"idnJuvenile\"\n",
    ")"
   ]
  },
  {
   "cell_type": "code",
   "execution_count": 35,
   "id": "000b3c85",
   "metadata": {},
   "outputs": [
    {
     "ename": "NameError",
     "evalue": "name 'juvenile_history_with_lookup' is not defined",
     "output_type": "error",
     "traceback": [
      "\u001b[1;31m---------------------------------------------------------------------------\u001b[0m",
      "\u001b[1;31mNameError\u001b[0m                                 Traceback (most recent call last)",
      "Cell \u001b[1;32mIn[35], line 1\u001b[0m\n\u001b[1;32m----> 1\u001b[0m juvenile_history_with_lookup\u001b[38;5;241m.\u001b[39mcolumns\n",
      "\u001b[1;31mNameError\u001b[0m: name 'juvenile_history_with_lookup' is not defined"
     ]
    }
   ],
   "source": [
    "juvenile_history_with_lookup.columns"
   ]
  },
  {
   "cell_type": "code",
   "execution_count": 16,
   "id": "9c64f54e",
   "metadata": {},
   "outputs": [],
   "source": [
    "juvenile_history_with_lookup = juvenile_history_with_lookup[\n",
    "    [\"idnJuvenileHistory\", \"idnCase\", \"idnProceeding\", \"strCode\", \"strDescription\"]\n",
    "]"
   ]
  },
  {
   "cell_type": "code",
   "execution_count": 17,
   "id": "39ee4181",
   "metadata": {},
   "outputs": [
    {
     "name": "stdout",
     "output_type": "stream",
     "text": [
      "<class 'pandas.core.frame.DataFrame'>\n",
      "RangeIndex: 2857093 entries, 0 to 2857092\n",
      "Data columns (total 5 columns):\n",
      " #   Column              Dtype \n",
      "---  ------              ----- \n",
      " 0   idnJuvenileHistory  Int64 \n",
      " 1   idnCase             Int64 \n",
      " 2   idnProceeding       Int64 \n",
      " 3   strCode             object\n",
      " 4   strDescription      object\n",
      "dtypes: Int64(3), object(2)\n",
      "memory usage: 117.2+ MB\n"
     ]
    }
   ],
   "source": [
    "juvenile_history_with_lookup.info()"
   ]
  },
  {
   "cell_type": "code",
   "execution_count": 18,
   "id": "aac1a38d",
   "metadata": {},
   "outputs": [
    {
     "data": {
      "text/html": [
       "<div>\n",
       "<style scoped>\n",
       "    .dataframe tbody tr th:only-of-type {\n",
       "        vertical-align: middle;\n",
       "    }\n",
       "\n",
       "    .dataframe tbody tr th {\n",
       "        vertical-align: top;\n",
       "    }\n",
       "\n",
       "    .dataframe thead th {\n",
       "        text-align: right;\n",
       "    }\n",
       "</style>\n",
       "<table border=\"1\" class=\"dataframe\">\n",
       "  <thead>\n",
       "    <tr style=\"text-align: right;\">\n",
       "      <th></th>\n",
       "      <th>idnJuvenileHistory</th>\n",
       "      <th>idnCase</th>\n",
       "      <th>idnProceeding</th>\n",
       "      <th>strCode</th>\n",
       "      <th>strDescription</th>\n",
       "    </tr>\n",
       "  </thead>\n",
       "  <tbody>\n",
       "    <tr>\n",
       "      <th>0</th>\n",
       "      <td>5</td>\n",
       "      <td>2046990</td>\n",
       "      <td>3200129</td>\n",
       "      <td>J</td>\n",
       "      <td>Juvenile Case</td>\n",
       "    </tr>\n",
       "    <tr>\n",
       "      <th>1</th>\n",
       "      <td>6</td>\n",
       "      <td>2047179</td>\n",
       "      <td>3199488</td>\n",
       "      <td>J</td>\n",
       "      <td>Juvenile Case</td>\n",
       "    </tr>\n",
       "    <tr>\n",
       "      <th>2</th>\n",
       "      <td>7</td>\n",
       "      <td>2047179</td>\n",
       "      <td>3199489</td>\n",
       "      <td>J</td>\n",
       "      <td>Juvenile Case</td>\n",
       "    </tr>\n",
       "    <tr>\n",
       "      <th>3</th>\n",
       "      <td>8</td>\n",
       "      <td>2047199</td>\n",
       "      <td>3199497</td>\n",
       "      <td>J</td>\n",
       "      <td>Juvenile Case</td>\n",
       "    </tr>\n",
       "    <tr>\n",
       "      <th>4</th>\n",
       "      <td>9</td>\n",
       "      <td>2047199</td>\n",
       "      <td>3199498</td>\n",
       "      <td>J</td>\n",
       "      <td>Juvenile Case</td>\n",
       "    </tr>\n",
       "  </tbody>\n",
       "</table>\n",
       "</div>"
      ],
      "text/plain": [
       "   idnJuvenileHistory  idnCase  idnProceeding strCode strDescription\n",
       "0                   5  2046990        3200129       J  Juvenile Case\n",
       "1                   6  2047179        3199488       J  Juvenile Case\n",
       "2                   7  2047179        3199489       J  Juvenile Case\n",
       "3                   8  2047199        3199497       J  Juvenile Case\n",
       "4                   9  2047199        3199498       J  Juvenile Case"
      ]
     },
     "execution_count": 18,
     "metadata": {},
     "output_type": "execute_result"
    }
   ],
   "source": [
    "juvenile_history_with_lookup.head()"
   ]
  },
  {
   "cell_type": "code",
   "execution_count": 19,
   "id": "9f68eab8",
   "metadata": {},
   "outputs": [],
   "source": [
    "juvenile_history_with_lookup[\"strCode\"] = juvenile_history_with_lookup[\n",
    "    \"strCode\"\n",
    "].fillna(\"Unknown\")\n",
    "juvenile_history_with_lookup[\"strDescription\"] = juvenile_history_with_lookup[\n",
    "    \"strDescription\"\n",
    "].fillna(\"Not Applicable\")"
   ]
  },
  {
   "cell_type": "code",
   "execution_count": 20,
   "id": "e321b254",
   "metadata": {},
   "outputs": [
    {
     "data": {
      "text/plain": [
       "strCode\n",
       "Unknown    1883374\n",
       "UJ          452017\n",
       "J           233667\n",
       "AJ          227915\n",
       "J1           59386\n",
       "J2             734\n",
       "Name: count, dtype: int64"
      ]
     },
     "execution_count": 20,
     "metadata": {},
     "output_type": "execute_result"
    }
   ],
   "source": [
    "juvenile_history_with_lookup[\"strCode\"].value_counts(dropna=False)"
   ]
  },
  {
   "cell_type": "markdown",
   "id": "11894351",
   "metadata": {},
   "source": [
    "The plot below shows the frequency of juvenile types using the `strCode` field from the `juvenile_history_with_lookup` dataset.  \n",
    "Missing or unmatched `idnJuvenile` values were labeled as `\"Unknown\"` to ensure the dataset is complete and all records are represented.\n",
    "\n",
    "A **logarithmic scale** is applied to the y-axis because the data is highly imbalanced — for example, the `\"Unknown\"` category includes over 1.8 million records, while `\"AJ\"` has only 734.  \n",
    "Using a log scale allows smaller categories to remain visible and interpretable without compressing the larger bars too severely.\n",
    "\n",
    "Actual record counts are displayed above each bar for clarity."
   ]
  },
  {
   "cell_type": "code",
   "execution_count": 21,
   "id": "dd1dc016",
   "metadata": {},
   "outputs": [
    {
     "data": {
      "image/png": "[encoded data removed]",
      "text/plain": [
       "<Figure size 800x500 with 1 Axes>"
      ]
     },
     "metadata": {},
     "output_type": "display_data"
    }
   ],
   "source": [
    "plt.figure(figsize=(8, 5))\n",
    "ax = sns.countplot(data=juvenile_history_with_lookup, x=\"strCode\")\n",
    "\n",
    "ax.set_yscale(\"log\")\n",
    "ax.set_title(\"Distribution of Juvenile Types (log scale)\")\n",
    "ax.set_xlabel(\"Juvenile Type Code\")\n",
    "ax.set_ylabel(\"Record Count (log scale)\")\n",
    "\n",
    "for container in ax.containers:\n",
    "    ax.bar_label(\n",
    "        container,\n",
    "        labels=[f\"{int(v):,}\" for v in container.datavalues],\n",
    "        fontsize=10,\n",
    "        padding=3,\n",
    "    )\n",
    "\n",
    "plt.tight_layout()\n",
    "plt.show()"
   ]
  },
  {
   "cell_type": "markdown",
   "id": "7ee7a5f1",
   "metadata": {},
   "source": [
    "### Cases Table\n",
    "\n",
    "The `Cases` table has already been cleaned and filtered to include only **juvenile cases**, based on a prior match using the `idnCase` field.  \n",
    "Originally, the raw dataset contained over **11.7 million** records; after filtering, only juvenile-related entries were retained.\n",
    "\n",
    "The dataset includes the following columns:\n",
    "\n",
    "- `IDNCASE` – Primary key identifying each case\n",
    "- `NAT` – Nationality of the alien\n",
    "- `LANG` – Primary language spoken by the alien\n",
    "- `CUSTODY` – Current custody status of the alien\n",
    "- `CASE_TYPE` – Type of immigration case\n",
    "- `LATEST_HEARING` – Date of the latest appearance before an immigration judge\n",
    "- `LATEST_CAL_TYPE` – Type of hearing scheduled (`I` for individual, `M` for master)\n",
    "- `DATE_OF_ENTRY` – Date the alien entered the United States\n",
    "- `C_BIRTHDATE` – Birthdate of the alien\n",
    "- `GENDER` – Sex of the alien\n",
    "- `DATE_DETAINED` – Date the alien was detained\n",
    "- `DATE_RELEASED` – Actual release date of the detained alien\n",
    "- `DETENTION_DATE` – Date the alien entered the current detention facility\n",
    "\n",
    "This table serves as the core source for analyzing case-level demographics, legal status, and custody timelines for juvenile immigration cases."
   ]
  },
  {
   "cell_type": "code",
   "execution_count": 38,
   "id": "8d49865b",
   "metadata": {},
   "outputs": [],
   "source": [
    "cases_path = \"D:/Cleaned-data/Juvenile_cases_cleaned.csv/Juvenile_cases_cleaned.csv\"\n",
    "\n",
    "# the dtype schema below was pulled directly from the 02_clean_core_tables.ipynb notebook in the 2_data_preparation/notebooks/ folder\n",
    "dtype = {\n",
    "    \"IDNCASE\": \"Int64\",\n",
    "    \"NAT\": \"category\",\n",
    "    \"LANG\": \"category\",\n",
    "    \"CUSTODY\": \"category\",\n",
    "    \"CASE_TYPE\": \"category\",\n",
    "    \"LATEST_CAL_TYPE\": \"category\",\n",
    "    \"GENDER\": \"category\",\n",
    "}\n",
    "\n",
    "parse_dates = [\n",
    "    \"LATEST_HEARING\",\n",
    "    \"DATE_OF_ENTRY\",\n",
    "    \"C_BIRTHDATE\",\n",
    "    \"DATE_DETAINED\",\n",
    "    \"DATE_RELEASED\",\n",
    "]"
   ]
  },
  {
   "cell_type": "code",
   "execution_count": 39,
   "id": "e865a48f",
   "metadata": {},
   "outputs": [],
   "source": [
    "cases = pd.read_csv(\n",
    "    filepath_or_buffer=cases_path,\n",
    "    dtype=dtype,\n",
    "    parse_dates=parse_dates,\n",
    "    low_memory=False,\n",
    ")"
   ]
  },
  {
   "cell_type": "code",
   "execution_count": 40,
   "id": "e162cb9b",
   "metadata": {},
   "outputs": [
    {
     "data": {
      "text/plain": [
       "(1858773, 12)"
      ]
     },
     "execution_count": 40,
     "metadata": {},
     "output_type": "execute_result"
    }
   ],
   "source": [
    "cases.shape"
   ]
  },
  {
   "cell_type": "code",
   "execution_count": 41,
   "id": "ffd2654e",
   "metadata": {},
   "outputs": [
    {
     "data": {
      "text/html": [
       "<div>\n",
       "<style scoped>\n",
       "    .dataframe tbody tr th:only-of-type {\n",
       "        vertical-align: middle;\n",
       "    }\n",
       "\n",
       "    .dataframe tbody tr th {\n",
       "        vertical-align: top;\n",
       "    }\n",
       "\n",
       "    .dataframe thead th {\n",
       "        text-align: right;\n",
       "    }\n",
       "</style>\n",
       "<table border=\"1\" class=\"dataframe\">\n",
       "  <thead>\n",
       "    <tr style=\"text-align: right;\">\n",
       "      <th></th>\n",
       "      <th>IDNCASE</th>\n",
       "      <th>NAT</th>\n",
       "      <th>LANG</th>\n",
       "      <th>CUSTODY</th>\n",
       "      <th>CASE_TYPE</th>\n",
       "      <th>LATEST_HEARING</th>\n",
       "      <th>LATEST_CAL_TYPE</th>\n",
       "      <th>DATE_OF_ENTRY</th>\n",
       "      <th>C_BIRTHDATE</th>\n",
       "      <th>GENDER</th>\n",
       "      <th>DATE_DETAINED</th>\n",
       "      <th>DATE_RELEASED</th>\n",
       "    </tr>\n",
       "  </thead>\n",
       "  <tbody>\n",
       "    <tr>\n",
       "      <th>0</th>\n",
       "      <td>13758313</td>\n",
       "      <td>GT</td>\n",
       "      <td>SP</td>\n",
       "      <td>N</td>\n",
       "      <td>RMV</td>\n",
       "      <td>NaT</td>\n",
       "      <td>NaN</td>\n",
       "      <td>2024-01-21</td>\n",
       "      <td>2008-02-01</td>\n",
       "      <td>F</td>\n",
       "      <td>NaN</td>\n",
       "      <td>NaN</td>\n",
       "    </tr>\n",
       "    <tr>\n",
       "      <th>1</th>\n",
       "      <td>14870586</td>\n",
       "      <td>MX</td>\n",
       "      <td>SP</td>\n",
       "      <td>D</td>\n",
       "      <td>RFR</td>\n",
       "      <td>2025-02-04</td>\n",
       "      <td>I</td>\n",
       "      <td>NaN</td>\n",
       "      <td>NaT</td>\n",
       "      <td>NaN</td>\n",
       "      <td>2025-01-22</td>\n",
       "      <td>NaN</td>\n",
       "    </tr>\n",
       "    <tr>\n",
       "      <th>2</th>\n",
       "      <td>14870588</td>\n",
       "      <td>GT</td>\n",
       "      <td>SP</td>\n",
       "      <td>R</td>\n",
       "      <td>WHO</td>\n",
       "      <td>2025-07-31</td>\n",
       "      <td>M</td>\n",
       "      <td>NaN</td>\n",
       "      <td>1997-06-01</td>\n",
       "      <td>F</td>\n",
       "      <td>2025-01-29</td>\n",
       "      <td>2025-02-06 00:00:00.000</td>\n",
       "    </tr>\n",
       "    <tr>\n",
       "      <th>3</th>\n",
       "      <td>13816559</td>\n",
       "      <td>MX</td>\n",
       "      <td>SP</td>\n",
       "      <td>N</td>\n",
       "      <td>RMV</td>\n",
       "      <td>2027-02-18</td>\n",
       "      <td>I</td>\n",
       "      <td>NaN</td>\n",
       "      <td>2020-05-01</td>\n",
       "      <td>M</td>\n",
       "      <td>NaN</td>\n",
       "      <td>NaN</td>\n",
       "    </tr>\n",
       "    <tr>\n",
       "      <th>4</th>\n",
       "      <td>13816560</td>\n",
       "      <td>MX</td>\n",
       "      <td>SP</td>\n",
       "      <td>N</td>\n",
       "      <td>RMV</td>\n",
       "      <td>2027-02-18</td>\n",
       "      <td>I</td>\n",
       "      <td>NaN</td>\n",
       "      <td>2021-05-01</td>\n",
       "      <td>F</td>\n",
       "      <td>NaN</td>\n",
       "      <td>NaN</td>\n",
       "    </tr>\n",
       "  </tbody>\n",
       "</table>\n",
       "</div>"
      ],
      "text/plain": [
       "    IDNCASE NAT LANG CUSTODY CASE_TYPE LATEST_HEARING LATEST_CAL_TYPE  \\\n",
       "0  13758313  GT   SP       N       RMV            NaT             NaN   \n",
       "1  14870586  MX   SP       D       RFR     2025-02-04               I   \n",
       "2  14870588  GT   SP       R       WHO     2025-07-31               M   \n",
       "3  13816559  MX   SP       N       RMV     2027-02-18               I   \n",
       "4  13816560  MX   SP       N       RMV     2027-02-18               I   \n",
       "\n",
       "  DATE_OF_ENTRY C_BIRTHDATE GENDER DATE_DETAINED            DATE_RELEASED  \n",
       "0    2024-01-21  2008-02-01      F           NaN                      NaN  \n",
       "1           NaN         NaT    NaN    2025-01-22                      NaN  \n",
       "2           NaN  1997-06-01      F    2025-01-29  2025-02-06 00:00:00.000  \n",
       "3           NaN  2020-05-01      M           NaN                      NaN  \n",
       "4           NaN  2021-05-01      F           NaN                      NaN  "
      ]
     },
     "execution_count": 41,
     "metadata": {},
     "output_type": "execute_result"
    }
   ],
   "source": [
    "cases.head()"
   ]
  },
  {
   "cell_type": "code",
   "execution_count": 42,
   "id": "b85a8254",
   "metadata": {},
   "outputs": [
    {
     "name": "stdout",
     "output_type": "stream",
     "text": [
      "<class 'pandas.core.frame.DataFrame'>\n",
      "RangeIndex: 1858773 entries, 0 to 1858772\n",
      "Data columns (total 12 columns):\n",
      " #   Column           Dtype         \n",
      "---  ------           -----         \n",
      " 0   IDNCASE          Int64         \n",
      " 1   NAT              category      \n",
      " 2   LANG             category      \n",
      " 3   CUSTODY          category      \n",
      " 4   CASE_TYPE        category      \n",
      " 5   LATEST_HEARING   datetime64[ns]\n",
      " 6   LATEST_CAL_TYPE  category      \n",
      " 7   DATE_OF_ENTRY    object        \n",
      " 8   C_BIRTHDATE      datetime64[ns]\n",
      " 9   GENDER           category      \n",
      " 10  DATE_DETAINED    object        \n",
      " 11  DATE_RELEASED    object        \n",
      "dtypes: Int64(1), category(6), datetime64[ns](2), object(3)\n",
      "memory usage: 101.1+ MB\n"
     ]
    }
   ],
   "source": [
    "cases.info()"
   ]
  },
  {
   "cell_type": "markdown",
   "id": "82648eca",
   "metadata": {},
   "source": [
    "After using `parse_dates`, some date columns can remain as strings. The following steps address that:\n",
    "\n",
    "- Strip leading/trailing whitespace  \n",
    "- Convert to `datetime64[ns]`, coercing unparseable entries to `NaT` "
   ]
  },
  {
   "cell_type": "code",
   "execution_count": 43,
   "id": "f7e47adc",
   "metadata": {},
   "outputs": [],
   "source": [
    "date_cols = [\"DATE_OF_ENTRY\", \"DATE_DETAINED\", \"DATE_RELEASED\"]\n",
    "\n",
    "for col in date_cols:\n",
    "    cases[col] = pd.to_datetime(\n",
    "        cases[col].str.strip(),\n",
    "        errors=\"coerce\",\n",
    "    )"
   ]
  },
  {
   "cell_type": "code",
   "execution_count": 44,
   "id": "eed40306",
   "metadata": {},
   "outputs": [
    {
     "data": {
      "text/html": [
       "<div>\n",
       "<style scoped>\n",
       "    .dataframe tbody tr th:only-of-type {\n",
       "        vertical-align: middle;\n",
       "    }\n",
       "\n",
       "    .dataframe tbody tr th {\n",
       "        vertical-align: top;\n",
       "    }\n",
       "\n",
       "    .dataframe thead th {\n",
       "        text-align: right;\n",
       "    }\n",
       "</style>\n",
       "<table border=\"1\" class=\"dataframe\">\n",
       "  <thead>\n",
       "    <tr style=\"text-align: right;\">\n",
       "      <th></th>\n",
       "      <th>Missing Count</th>\n",
       "      <th>Missing %</th>\n",
       "    </tr>\n",
       "  </thead>\n",
       "  <tbody>\n",
       "    <tr>\n",
       "      <th>DATE_RELEASED</th>\n",
       "      <td>1411890</td>\n",
       "      <td>75.96</td>\n",
       "    </tr>\n",
       "    <tr>\n",
       "      <th>DATE_DETAINED</th>\n",
       "      <td>1090739</td>\n",
       "      <td>58.68</td>\n",
       "    </tr>\n",
       "    <tr>\n",
       "      <th>DATE_OF_ENTRY</th>\n",
       "      <td>493393</td>\n",
       "      <td>26.54</td>\n",
       "    </tr>\n",
       "    <tr>\n",
       "      <th>GENDER</th>\n",
       "      <td>488542</td>\n",
       "      <td>26.28</td>\n",
       "    </tr>\n",
       "    <tr>\n",
       "      <th>C_BIRTHDATE</th>\n",
       "      <td>446731</td>\n",
       "      <td>24.03</td>\n",
       "    </tr>\n",
       "    <tr>\n",
       "      <th>LATEST_CAL_TYPE</th>\n",
       "      <td>303570</td>\n",
       "      <td>16.33</td>\n",
       "    </tr>\n",
       "    <tr>\n",
       "      <th>LATEST_HEARING</th>\n",
       "      <td>296822</td>\n",
       "      <td>15.97</td>\n",
       "    </tr>\n",
       "    <tr>\n",
       "      <th>NAT</th>\n",
       "      <td>3057</td>\n",
       "      <td>0.16</td>\n",
       "    </tr>\n",
       "    <tr>\n",
       "      <th>LANG</th>\n",
       "      <td>1692</td>\n",
       "      <td>0.09</td>\n",
       "    </tr>\n",
       "    <tr>\n",
       "      <th>CUSTODY</th>\n",
       "      <td>4</td>\n",
       "      <td>0.00</td>\n",
       "    </tr>\n",
       "    <tr>\n",
       "      <th>CASE_TYPE</th>\n",
       "      <td>4</td>\n",
       "      <td>0.00</td>\n",
       "    </tr>\n",
       "    <tr>\n",
       "      <th>IDNCASE</th>\n",
       "      <td>0</td>\n",
       "      <td>0.00</td>\n",
       "    </tr>\n",
       "  </tbody>\n",
       "</table>\n",
       "</div>"
      ],
      "text/plain": [
       "                 Missing Count  Missing %\n",
       "DATE_RELEASED          1411890      75.96\n",
       "DATE_DETAINED          1090739      58.68\n",
       "DATE_OF_ENTRY           493393      26.54\n",
       "GENDER                  488542      26.28\n",
       "C_BIRTHDATE             446731      24.03\n",
       "LATEST_CAL_TYPE         303570      16.33\n",
       "LATEST_HEARING          296822      15.97\n",
       "NAT                       3057       0.16\n",
       "LANG                      1692       0.09\n",
       "CUSTODY                      4       0.00\n",
       "CASE_TYPE                    4       0.00\n",
       "IDNCASE                      0       0.00"
      ]
     },
     "metadata": {},
     "output_type": "display_data"
    }
   ],
   "source": [
    "null_counts = cases.isna().sum()\n",
    "percent_missing = (null_counts / len(cases)) * 100\n",
    "\n",
    "missing_summary = pd.DataFrame(\n",
    "    {\"Missing Count\": null_counts, \"Missing %\": percent_missing.round(2)}\n",
    ").sort_values(by=\"Missing Count\", ascending=False)\n",
    "\n",
    "display(missing_summary)"
   ]
  },
  {
   "cell_type": "code",
   "execution_count": 45,
   "id": "12cbafa8",
   "metadata": {},
   "outputs": [
    {
     "data": {
      "text/html": [
       "<div>\n",
       "<style scoped>\n",
       "    .dataframe tbody tr th:only-of-type {\n",
       "        vertical-align: middle;\n",
       "    }\n",
       "\n",
       "    .dataframe tbody tr th {\n",
       "        vertical-align: top;\n",
       "    }\n",
       "\n",
       "    .dataframe thead th {\n",
       "        text-align: right;\n",
       "    }\n",
       "</style>\n",
       "<table border=\"1\" class=\"dataframe\">\n",
       "  <thead>\n",
       "    <tr style=\"text-align: right;\">\n",
       "      <th></th>\n",
       "      <th>GENDER</th>\n",
       "      <th>COUNT</th>\n",
       "      <th>RATIO (%)</th>\n",
       "    </tr>\n",
       "  </thead>\n",
       "  <tbody>\n",
       "    <tr>\n",
       "      <th>0</th>\n",
       "      <td>M</td>\n",
       "      <td>875507</td>\n",
       "      <td>64.0</td>\n",
       "    </tr>\n",
       "    <tr>\n",
       "      <th>1</th>\n",
       "      <td>F</td>\n",
       "      <td>494724</td>\n",
       "      <td>36.0</td>\n",
       "    </tr>\n",
       "  </tbody>\n",
       "</table>\n",
       "</div>"
      ],
      "text/plain": [
       "  GENDER   COUNT  RATIO (%)\n",
       "0      M  875507       64.0\n",
       "1      F  494724       36.0"
      ]
     },
     "metadata": {},
     "output_type": "display_data"
    }
   ],
   "source": [
    "gender = cases[\"GENDER\"].value_counts().reset_index()\n",
    "gender.columns = [\"GENDER\", \"COUNT\"]\n",
    "\n",
    "gender[\"RATIO (%)\"] = (gender[\"COUNT\"] / gender[\"COUNT\"].sum()) * 100\n",
    "gender[\"RATIO (%)\"] = gender[\"RATIO (%)\"].round()\n",
    "\n",
    "display(gender)"
   ]
  },
  {
   "cell_type": "code",
   "execution_count": 46,
   "id": "09289a09",
   "metadata": {},
   "outputs": [
    {
     "data": {
      "image/png": "[encoded data removed]",
      "text/plain": [
       "<Figure size 640x480 with 1 Axes>"
      ]
     },
     "metadata": {},
     "output_type": "display_data"
    }
   ],
   "source": [
    "sns.barplot(data=gender, x=\"GENDER\", y=\"COUNT\")\n",
    "plt.title(\"Distribution of Gender\")\n",
    "plt.xlabel(\"Gender\")\n",
    "plt.ylabel(\"Count\")\n",
    "plt.show()"
   ]
  },
  {
   "cell_type": "markdown",
   "id": "c16e7cb4",
   "metadata": {},
   "source": [
    "\n",
    "\n",
    "## Purpose\n",
    "Run initial data exploration on the **cases** table:\n",
    "- Generate visualizations  \n",
    "- Compute descriptive statistics\n",
    "\n",
    "## Reference\n",
    "Full list of codes/abbreviations:  \n",
    "https://www.justice.gov/eoir/page/file/eoir-case-data-code-key/dl\n",
    "\n",
    "---\n",
    "\n",
    "## Categorical Features\n",
    "\n",
    "For each, **print top-10** values then create a **barplot** using a reusable helper function:\n",
    "\n",
    "- **NAT** (Nationality)  \n",
    "- **LANG** (Language)  \n",
    "  - Also compare English vs. non-English counts  \n",
    "- **CUSTODY** (Custody status)  \n",
    "- **CASE_TYPE** (Case type)  \n",
    "- **LATEST_CAL_TYPE** (Master vs. Individual)  \n",
    "- **GENDER** (Already completed)\n",
    "\n",
    "---\n",
    "\n",
    "## Date-Based Features\n",
    "\n",
    "- **LATEST_HEARING**, **DATE_OF_ENTRY**, **C_BIRTHDATE**  \n",
    "  - Calculate age at hearing or entry (C_BIRTHDATE has only month & year)\n",
    "- **DATE_DETAINED**, **DATE_RELEASED**  \n",
    "  - Calculate detention duration  "
   ]
  },
  {
   "cell_type": "code",
   "execution_count": 130,
   "id": "5cc142d5",
   "metadata": {},
   "outputs": [
    {
     "data": {
      "text/plain": [
       "NAT\n",
       "GT    428582\n",
       "HO    380966\n",
       "MX    273583\n",
       "ES    215345\n",
       "CU     62003\n",
       "NU     53242\n",
       "BR     52374\n",
       "VE     51313\n",
       "CO     51017\n",
       "EC     37500\n",
       "IN     35092\n",
       "HA     22693\n",
       "PE     21973\n",
       "DR     16895\n",
       "CH     15869\n",
       "TU     12286\n",
       "RU     12263\n",
       "BG      6912\n",
       "JM      5637\n",
       "RO      5187\n",
       "Name: count, dtype: int64"
      ]
     },
     "execution_count": 130,
     "metadata": {},
     "output_type": "execute_result"
    }
   ],
   "source": [
    "cases[\"NAT\"].value_counts().head(20)"
   ]
  },
  {
   "cell_type": "code",
   "execution_count": 131,
   "id": "7729c5bc",
   "metadata": {},
   "outputs": [
    {
     "data": {
      "text/plain": [
       "LANG\n",
       "SP     1504441\n",
       "ENG      80068\n",
       "POR      45998\n",
       "PUN      21887\n",
       "CRE      19854\n",
       "SP       17525\n",
       "RUS      15194\n",
       "MAN      14250\n",
       "TU       11688\n",
       "MAM      11365\n",
       "QUI       8904\n",
       "UNK       8030\n",
       "HIN       7631\n",
       "KON       6442\n",
       "BEN       6391\n",
       "KEK       5763\n",
       "AR        4825\n",
       "UZB       3454\n",
       "FR        3442\n",
       "ARM       3338\n",
       "Name: count, dtype: int64"
      ]
     },
     "execution_count": 131,
     "metadata": {},
     "output_type": "execute_result"
    }
   ],
   "source": [
    "cases[\"LANG\"].value_counts().head(20)"
   ]
  },
  {
   "cell_type": "code",
   "execution_count": 132,
   "id": "66d68865",
   "metadata": {},
   "outputs": [
    {
     "data": {
      "text/html": [
       "<div>\n",
       "<style scoped>\n",
       "    .dataframe tbody tr th:only-of-type {\n",
       "        vertical-align: middle;\n",
       "    }\n",
       "\n",
       "    .dataframe tbody tr th {\n",
       "        vertical-align: top;\n",
       "    }\n",
       "\n",
       "    .dataframe thead th {\n",
       "        text-align: right;\n",
       "    }\n",
       "</style>\n",
       "<table border=\"1\" class=\"dataframe\">\n",
       "  <thead>\n",
       "    <tr style=\"text-align: right;\">\n",
       "      <th></th>\n",
       "      <th>DATE_OF_ENTRY</th>\n",
       "      <th>C_BIRTHDATE</th>\n",
       "    </tr>\n",
       "  </thead>\n",
       "  <tbody>\n",
       "    <tr>\n",
       "      <th>0</th>\n",
       "      <td>2024-01-21</td>\n",
       "      <td>2008-02-01</td>\n",
       "    </tr>\n",
       "    <tr>\n",
       "      <th>1</th>\n",
       "      <td>NaT</td>\n",
       "      <td>NaT</td>\n",
       "    </tr>\n",
       "    <tr>\n",
       "      <th>2</th>\n",
       "      <td>NaT</td>\n",
       "      <td>1997-06-01</td>\n",
       "    </tr>\n",
       "    <tr>\n",
       "      <th>3</th>\n",
       "      <td>NaT</td>\n",
       "      <td>2020-05-01</td>\n",
       "    </tr>\n",
       "    <tr>\n",
       "      <th>4</th>\n",
       "      <td>NaT</td>\n",
       "      <td>2021-05-01</td>\n",
       "    </tr>\n",
       "    <tr>\n",
       "      <th>...</th>\n",
       "      <td>...</td>\n",
       "      <td>...</td>\n",
       "    </tr>\n",
       "    <tr>\n",
       "      <th>1858768</th>\n",
       "      <td>2019-06-03</td>\n",
       "      <td>2004-11-01</td>\n",
       "    </tr>\n",
       "    <tr>\n",
       "      <th>1858769</th>\n",
       "      <td>2018-04-03</td>\n",
       "      <td>NaT</td>\n",
       "    </tr>\n",
       "    <tr>\n",
       "      <th>1858770</th>\n",
       "      <td>2014-03-24</td>\n",
       "      <td>2003-11-01</td>\n",
       "    </tr>\n",
       "    <tr>\n",
       "      <th>1858771</th>\n",
       "      <td>2023-04-23</td>\n",
       "      <td>1993-03-01</td>\n",
       "    </tr>\n",
       "    <tr>\n",
       "      <th>1858772</th>\n",
       "      <td>NaT</td>\n",
       "      <td>1987-08-01</td>\n",
       "    </tr>\n",
       "  </tbody>\n",
       "</table>\n",
       "<p>1858773 rows × 2 columns</p>\n",
       "</div>"
      ],
      "text/plain": [
       "        DATE_OF_ENTRY C_BIRTHDATE\n",
       "0          2024-01-21  2008-02-01\n",
       "1                 NaT         NaT\n",
       "2                 NaT  1997-06-01\n",
       "3                 NaT  2020-05-01\n",
       "4                 NaT  2021-05-01\n",
       "...               ...         ...\n",
       "1858768    2019-06-03  2004-11-01\n",
       "1858769    2018-04-03         NaT\n",
       "1858770    2014-03-24  2003-11-01\n",
       "1858771    2023-04-23  1993-03-01\n",
       "1858772           NaT  1987-08-01\n",
       "\n",
       "[1858773 rows x 2 columns]"
      ]
     },
     "execution_count": 132,
     "metadata": {},
     "output_type": "execute_result"
    }
   ],
   "source": [
    "cases[[\"DATE_OF_ENTRY\", \"C_BIRTHDATE\"]]"
   ]
  },
  {
   "cell_type": "code",
   "execution_count": 133,
   "id": "b5e9be54",
   "metadata": {
    "vscode": {
     "languageId": "ruby"
    }
   },
   "outputs": [
    {
     "name": "stdout",
     "output_type": "stream",
     "text": [
      "Mean age at entry: 19.68 years\n",
      "Median age at entry: 17.14 years\n",
      "Min age at entry: 0.00 years\n",
      "Max age at entry: 118.00 years\n",
      "Standard deviation: 12.15 years\n"
     ]
    }
   ],
   "source": [
    "# Calculate age at entry (in years)\n",
    "age_at_entry = (cases[\"DATE_OF_ENTRY\"] - cases[\"C_BIRTHDATE\"]).dt.days / 365.25\n",
    "\n",
    "# Clean data: drop NaN and negative ages\n",
    "age_at_entry_clean = age_at_entry.dropna()\n",
    "age_at_entry_clean = age_at_entry_clean[age_at_entry_clean > 0]\n",
    "\n",
    "# Calculate statistics\n",
    "mean_age = age_at_entry_clean.mean()\n",
    "median_age = age_at_entry_clean.median()\n",
    "min_age = age_at_entry_clean.min()\n",
    "max_age = age_at_entry_clean.max()\n",
    "std_age = age_at_entry_clean.std()\n",
    "\n",
    "\n",
    "print(f\"Mean age at entry: {mean_age:.2f} years\")\n",
    "print(f\"Median age at entry: {median_age:.2f} years\")\n",
    "print(f\"Min age at entry: {min_age:.2f} years\")\n",
    "print(f\"Max age at entry: {max_age:.2f} years\")\n",
    "print(f\"Standard deviation: {std_age:.2f} years\")"
   ]
  },
  {
   "cell_type": "code",
   "execution_count": 134,
   "id": "ee03e530",
   "metadata": {},
   "outputs": [
    {
     "data": {
      "image/png": "[encoded data removed]",
      "text/plain": [
       "<Figure size 1000x600 with 1 Axes>"
      ]
     },
     "metadata": {},
     "output_type": "display_data"
    }
   ],
   "source": [
    "import numpy as np\n",
    "import matplotlib.pyplot as plt\n",
    "import matplotlib.pyplot as plt\n",
    "\n",
    "# Calculate age at entry (in years)\n",
    "age_at_entry = (cases[\"DATE_OF_ENTRY\"] - cases[\"C_BIRTHDATE\"]).dt.days / 365.25\n",
    "\n",
    "# Clean data\n",
    "age_at_entry_clean = age_at_entry.dropna()\n",
    "age_at_entry_clean = age_at_entry_clean[age_at_entry_clean > 0]\n",
    "\n",
    "# Define bins\n",
    "step = 5\n",
    "max_age = age_at_entry_clean.max()\n",
    "bins = np.arange(-10,np.ceil(max_age) + step, step)\n",
    "\n",
    "# Plot\n",
    "plt.figure(figsize=(10, 6))\n",
    "plt.hist(age_at_entry_clean, bins=bins, edgecolor=\"black\")\n",
    "\n",
    "# Customize x-axis ticks\n",
    "plt.xticks(np.arange(0, np.ceil(max_age) + 10, 10))\n",
    "\n",
    "# Labels\n",
    "plt.title(\"Age at Entry (years)\")\n",
    "plt.xlim(left=0)\n",
    "plt.xlabel(\"Age at Entry\")\n",
    "plt.ylabel(\"Number of Cases\")\n",
    "plt.tight_layout()\n",
    "plt.show()\n"
   ]
  },
  {
   "cell_type": "code",
   "execution_count": 139,
   "id": "abcc6039",
   "metadata": {},
   "outputs": [
    {
     "data": {
      "image/png": "[encoded data removed]",
      "text/plain": [
       "<Figure size 1000x600 with 1 Axes>"
      ]
     },
     "metadata": {},
     "output_type": "display_data"
    }
   ],
   "source": [
    "plt.figure(figsize=(10, 6))\n",
    "sns.countplot(data=cases, y=\"LANG\", order=cases[\"LANG\"].value_counts().index[:5])\n",
    "plt.title(\"Top 5 Languages in Juvenile Cases\")\n",
    "plt.xlabel(\"Number of Cases\")\n",
    "plt.ylabel(\"Language\")\n",
    "plt.tight_layout()\n",
    "plt.show()"
   ]
  },
  {
   "cell_type": "markdown",
   "id": "b8d14121",
   "metadata": {},
   "source": [
    "## Nationalities Abbreviations  \n",
    "\n",
    "| Code   | Country                                                                              |\n",
    "| ------ | ------------------------------------------------------------------------------------ |\n",
    "| **GT** | Guatemala                                                                            |\n",
    "| **HO** | Honduras                                                                             |\n",
    "| **MX** | Mexico                                                                               |\n",
    "| **ES** | El Salvador                                                                          |\n",
    "| **CU** | Cuba                                                                                 |\n",
    "| **NU** | Nicaragua (commonly `NI`, double-check this one)                                     |\n",
    "| **BR** | Brazil                                                                               |\n",
    "| **VE** | Venezuela                                                                            |\n",
    "| **CO** | Colombia                                                                             |\n",
    "| **EC** | Ecuador                                                                              |\n",
    "| **IN** | India                                                                                |\n",
    "| **HA** | Haiti                                                                                |\n",
    "| **PE** | Peru                                                                                 |\n",
    "| **DR** | Dominican Republic                                                                   |\n",
    "| **CH** | Switzerland (but often **China** in legacy immigration systems; confirm with lookup) |\n",
    "| **TU** | Turkey                                                                               |\n",
    "| **RU** | Russia                                                                               |\n",
    "| **BG** | Bulgaria                                                                             |\n",
    "| **JM** | Jamaica                                                                              |\n",
    "| **RO** | Romania                                                                              |\n"
   ]
  },
  {
   "cell_type": "code",
   "execution_count": 136,
   "id": "85029747",
   "metadata": {},
   "outputs": [
    {
     "data": {
      "image/png": "[encoded data removed]",
      "text/plain": [
       "<Figure size 1000x600 with 1 Axes>"
      ]
     },
     "metadata": {},
     "output_type": "display_data"
    }
   ],
   "source": [
    "plt.figure(figsize=(10, 6))\n",
    "sns.countplot(data=cases, y=\"NAT\", order=cases[\"NAT\"].value_counts().index[:20])\n",
    "plt.title(\"Top 20 Nationalities in Juvenile Cases\")\n",
    "plt.xlabel(\"Number of Cases\")\n",
    "plt.ylabel(\"Nationality\")\n",
    "plt.tight_layout()\n",
    "plt.show()"
   ]
  },
  {
   "cell_type": "markdown",
   "id": "61ff6b01",
   "metadata": {},
   "source": [
    "### 📊 Detention Duration Summary\n",
    "\n",
    "We took a sample of 100 cases and calculated the **mean number of days juveniles were detained** within that sample.  \n",
    "To provide broader context, we also calculated the **mean detention duration across all juvenile cases** in the dataset.  \n",
    "This comparison helps illustrate the average length of detention for both a small representative subset and the entire population, giving us insight into typical detention periods for juveniles."
   ]
  },
  {
   "cell_type": "code",
   "execution_count": 145,
   "id": "5b9f193a",
   "metadata": {},
   "outputs": [
    {
     "name": "stdout",
     "output_type": "stream",
     "text": [
      "Mean detention days (all cases): 61.81\n",
      "Mean detention days (first 100 cases): 49.56\n"
     ]
    },
    {
     "data": {
      "image/png": "[encoded data removed]",
      "text/plain": [
       "<Figure size 1200x600 with 1 Axes>"
      ]
     },
     "metadata": {},
     "output_type": "display_data"
    }
   ],
   "source": [
    "# Calculate detention duration in days for the first 100 cases with both DATE_DETAINED and DATE_RELEASED\n",
    "first_100 = cases.dropna(subset=[\"DATE_DETAINED\", \"DATE_RELEASED\"]).head(100)\n",
    "first_100_detention_days = (first_100[\"DATE_RELEASED\"] - first_100[\"DATE_DETAINED\"]).dt.days\n",
    "\n",
    "# calculate detention duration mean for all cases\n",
    "detention_days = (cases[\"DATE_RELEASED\"] - cases[\"DATE_DETAINED\"]).dt.days\n",
    "# Drop NaN values for detention days\n",
    "detention_days = detention_days.dropna()\n",
    "# Print the mean detention days for all cases\n",
    "mean_detention_days = detention_days.mean()\n",
    "print(f\"Mean detention days (all cases): {mean_detention_days:.2f}\")\n",
    "# Calculate and print the mean detention days for these 100 cases\n",
    "mean_detention_days_first_100 = first_100_detention_days.mean()\n",
    "print(f\"Mean detention days (first 100 cases): {mean_detention_days_first_100:.2f}\")\n",
    "\n",
    "# Plot detention days for the first 100 cases\n",
    "plt.figure(figsize=(12, 6))\n",
    "# Reset index to ensure x-axis is 0..99\n",
    "plt.bar(range(len(first_100_detention_days)), first_100_detention_days.values)\n",
    "plt.title(\"Detention Duration (Days) for First 100 Cases\")\n",
    "plt.xlim(left=0)\n",
    "plt.xlabel(\"Case Index\")\n",
    "plt.ylabel(\"Days Detained\")\n",
    "plt.tight_layout()\n",
    "plt.show()"
   ]
  },
  {
   "cell_type": "markdown",
   "id": "ec3075a5",
   "metadata": {},
   "source": [
    " ### We calculated **Detention Duration (Days) for Sampled Cases** and plotted the outcome using every 1000th record as a sample. This down sampling was necessary due to the large size of the dataset, ensuring the plot remains readable and interpretable."
   ]
  },
  {
   "cell_type": "code",
   "execution_count": 138,
   "id": "d7027ba0",
   "metadata": {},
   "outputs": [
    {
     "data": {
      "image/png": "[encoded data removed]",
      "text/plain": [
       "<Figure size 1200x600 with 1 Axes>"
      ]
     },
     "metadata": {},
     "output_type": "display_data"
    }
   ],
   "source": [
    "\n",
    "\n",
    "# Optional: downsample for readability (e.g., every 1000th record)\n",
    "step = 1000\n",
    "detention_sample = detention_days[::step]\n",
    "\n",
    "plt.figure(figsize=(12, 6))\n",
    "plt.scatter(\n",
    "    detention_sample.index,\n",
    "    detention_sample.values,\n",
    "    s=2,  # Small dot size\n",
    "    alpha=0.5,  # Transparency for overlap\n",
    "    color=\"tab:blue\",\n",
    ")\n",
    "\n",
    "plt.title(\"Detention Duration (Days) for Sampled Cases\")\n",
    "plt.xlim(left=0)\n",
    "plt.ylim(bottom=0)\n",
    "plt.xlabel(\"Case Index\")\n",
    "plt.ylabel(\"Days Detained\")\n",
    "plt.grid(True, linestyle=\"--\", linewidth=0.5, alpha=0.6)\n",
    "plt.tight_layout()\n",
    "plt.show()\n"
   ]
  }
 ],
 "metadata": {
  "kernelspec": {
   "display_name": "base",
   "language": "python",
   "name": "python3"
  },
  "language_info": {
   "codemirror_mode": {
    "name": "ipython",
    "version": 3
   },
   "file_extension": ".py",
   "mimetype": "text/x-python",
   "name": "python",
   "nbconvert_exporter": "python",
   "pygments_lexer": "ipython3",
   "version": "3.12.7"
  }
 },
 "nbformat": 4,
 "nbformat_minor": 5
}
