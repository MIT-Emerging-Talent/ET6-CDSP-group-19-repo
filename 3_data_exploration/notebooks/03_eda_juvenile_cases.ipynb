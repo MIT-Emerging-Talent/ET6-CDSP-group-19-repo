{
 "cells": [
  {
   "cell_type": "code",
   "execution_count": 83,
   "id": "278926c0",
   "metadata": {},
   "outputs": [],
   "source": [
    "import pandas as pd\n",
    "import matplotlib.pyplot as plt\n",
    "import seaborn as sns"
   ]
  },
  {
   "cell_type": "code",
   "execution_count": 84,
   "id": "a31b5760",
   "metadata": {},
   "outputs": [],
   "source": [
    "juvenile_history_path = '../../2_data_preparation/outputs/juvenile_history_cleaned.csv.gz'\n",
    "juvenile_history = pd.read_csv(\n",
    "    filepath_or_buffer=juvenile_history_path,\n",
    "    dtype={\n",
    "        \"idnJuvenileHistory\": \"Int64\",\n",
    "        \"idnCase\": \"Int64\",\n",
    "        \"idnProceeding\": \"Int64\",\n",
    "        \"idnJuvenile\": \"category\",\n",
    "    },\n",
    "    low_memory=False,\n",
    ")"
   ]
  },
  {
   "cell_type": "markdown",
   "id": "eb69bbe9",
   "metadata": {},
   "source": [
    "### JuvenileHistory Table\n",
    "\n",
    "The `JuvenileHistory` table is a **junction table** that contains foreign keys linking to core case tables and lookup tables. It represents many-to-many relationships between juveniles and immigration proceedings.\n",
    "\n",
    "**Key columns:**\n",
    "- `idnJuvenileHistory` — Primary key\n",
    "- `idnCase` — Foreign key to the `Case` table\n",
    "- `idnProceeding` — Foreign key to the `Proceeding` table\n",
    "- `idnJuvenile` — Foreign key to the `Lookup Juvenile` table\n",
    "\n",
    "This table acts as a bridge, allowing multiple juveniles to be associated with multiple cases and proceedings."
   ]
  },
  {
   "cell_type": "code",
   "execution_count": 85,
   "id": "cd659e4e",
   "metadata": {},
   "outputs": [
    {
     "data": {
      "text/html": [
       "<div>\n",
       "<style scoped>\n",
       "    .dataframe tbody tr th:only-of-type {\n",
       "        vertical-align: middle;\n",
       "    }\n",
       "\n",
       "    .dataframe tbody tr th {\n",
       "        vertical-align: top;\n",
       "    }\n",
       "\n",
       "    .dataframe thead th {\n",
       "        text-align: right;\n",
       "    }\n",
       "</style>\n",
       "<table border=\"1\" class=\"dataframe\">\n",
       "  <thead>\n",
       "    <tr style=\"text-align: right;\">\n",
       "      <th></th>\n",
       "      <th>idnJuvenileHistory</th>\n",
       "      <th>idnCase</th>\n",
       "      <th>idnProceeding</th>\n",
       "      <th>idnJuvenile</th>\n",
       "    </tr>\n",
       "  </thead>\n",
       "  <tbody>\n",
       "    <tr>\n",
       "      <th>0</th>\n",
       "      <td>5</td>\n",
       "      <td>2046990</td>\n",
       "      <td>3200129</td>\n",
       "      <td>1</td>\n",
       "    </tr>\n",
       "    <tr>\n",
       "      <th>1</th>\n",
       "      <td>6</td>\n",
       "      <td>2047179</td>\n",
       "      <td>3199488</td>\n",
       "      <td>1</td>\n",
       "    </tr>\n",
       "    <tr>\n",
       "      <th>2</th>\n",
       "      <td>7</td>\n",
       "      <td>2047179</td>\n",
       "      <td>3199489</td>\n",
       "      <td>1</td>\n",
       "    </tr>\n",
       "    <tr>\n",
       "      <th>3</th>\n",
       "      <td>8</td>\n",
       "      <td>2047199</td>\n",
       "      <td>3199497</td>\n",
       "      <td>1</td>\n",
       "    </tr>\n",
       "    <tr>\n",
       "      <th>4</th>\n",
       "      <td>9</td>\n",
       "      <td>2047199</td>\n",
       "      <td>3199498</td>\n",
       "      <td>1</td>\n",
       "    </tr>\n",
       "  </tbody>\n",
       "</table>\n",
       "</div>"
      ],
      "text/plain": [
       "   idnJuvenileHistory  idnCase  idnProceeding idnJuvenile\n",
       "0                   5  2046990        3200129           1\n",
       "1                   6  2047179        3199488           1\n",
       "2                   7  2047179        3199489           1\n",
       "3                   8  2047199        3199497           1\n",
       "4                   9  2047199        3199498           1"
      ]
     },
     "execution_count": 85,
     "metadata": {},
     "output_type": "execute_result"
    }
   ],
   "source": [
    "juvenile_history.head()"
   ]
  },
  {
   "cell_type": "code",
   "execution_count": 86,
   "id": "0b9fc929",
   "metadata": {},
   "outputs": [
    {
     "name": "stdout",
     "output_type": "stream",
     "text": [
      "<class 'pandas.core.frame.DataFrame'>\n",
      "RangeIndex: 2857093 entries, 0 to 2857092\n",
      "Data columns (total 4 columns):\n",
      " #   Column              Dtype   \n",
      "---  ------              -----   \n",
      " 0   idnJuvenileHistory  Int64   \n",
      " 1   idnCase             Int64   \n",
      " 2   idnProceeding       Int64   \n",
      " 3   idnJuvenile         category\n",
      "dtypes: Int64(3), category(1)\n",
      "memory usage: 76.3 MB\n"
     ]
    }
   ],
   "source": [
    "juvenile_history.info()"
   ]
  },
  {
   "cell_type": "code",
   "execution_count": 87,
   "id": "9e7e35a8",
   "metadata": {},
   "outputs": [
    {
     "name": "stdout",
     "output_type": "stream",
     "text": [
      "Since 2008, the EOIR database contains 2,857,093 juvenile records.\n",
      "The dataset includes 1,917,264 unique juvenile case IDs.\n",
      "Median records per case ID: 1.0\n",
      "Average records per case ID: 1.49\n",
      "Cases with only one record: 1269970\n"
     ]
    }
   ],
   "source": [
    "rows = juvenile_history.shape[0]\n",
    "unique_juvenile_case_ids_len = len(juvenile_history[\"idnCase\"].unique())\n",
    "case_counts = juvenile_history[\"idnCase\"].value_counts()\n",
    "\n",
    "print(f\"Since 2008, the EOIR database contains {rows:,} juvenile records.\")\n",
    "print(f\"The dataset includes {unique_juvenile_case_ids_len:,} unique juvenile case IDs.\")\n",
    "print(f\"Median records per case ID: {case_counts.median()}\")\n",
    "print(f\"Average records per case ID: {case_counts.mean():.2f}\")\n",
    "print(f\"Cases with only one record: {(case_counts == 1).sum()}\")"
   ]
  },
  {
   "cell_type": "code",
   "execution_count": 88,
   "id": "c0ac2a54",
   "metadata": {},
   "outputs": [],
   "source": [
    "lookup_juvenile_path = '../../2_data_preparation/outputs/tblLookup_Juvenile.csv'\n",
    "lookup_juvenile = pd.read_csv(\n",
    "  filepath_or_buffer=lookup_juvenile_path,\n",
    "  delimiter='\\t',\n",
    "  dtype={\"idnJuvenile\": \"category\"}  \n",
    ")"
   ]
  },
  {
   "cell_type": "code",
   "execution_count": 89,
   "id": "16d0c599",
   "metadata": {},
   "outputs": [
    {
     "data": {
      "text/html": [
       "<div>\n",
       "<style scoped>\n",
       "    .dataframe tbody tr th:only-of-type {\n",
       "        vertical-align: middle;\n",
       "    }\n",
       "\n",
       "    .dataframe tbody tr th {\n",
       "        vertical-align: top;\n",
       "    }\n",
       "\n",
       "    .dataframe thead th {\n",
       "        text-align: right;\n",
       "    }\n",
       "</style>\n",
       "<table border=\"1\" class=\"dataframe\">\n",
       "  <thead>\n",
       "    <tr style=\"text-align: right;\">\n",
       "      <th></th>\n",
       "      <th>idnJuvenile</th>\n",
       "      <th>strCode</th>\n",
       "      <th>strDescription</th>\n",
       "      <th>DATCREATEDON</th>\n",
       "      <th>DATMODIFIEDON</th>\n",
       "    </tr>\n",
       "  </thead>\n",
       "  <tbody>\n",
       "    <tr>\n",
       "      <th>0</th>\n",
       "      <td>1</td>\n",
       "      <td>J</td>\n",
       "      <td>Juvenile Case</td>\n",
       "      <td>2014-09-06 11:03:55.993</td>\n",
       "      <td>2017-04-07 21:42:18.000</td>\n",
       "    </tr>\n",
       "    <tr>\n",
       "      <th>1</th>\n",
       "      <td>2</td>\n",
       "      <td>J1</td>\n",
       "      <td>Juvenile has been released to guardian or has ...</td>\n",
       "      <td>2014-09-06 11:03:56.033</td>\n",
       "      <td>2017-04-07 21:42:34.000</td>\n",
       "    </tr>\n",
       "    <tr>\n",
       "      <th>2</th>\n",
       "      <td>3</td>\n",
       "      <td>J2</td>\n",
       "      <td>Unaccompanied Juvenile - Asylum</td>\n",
       "      <td>2014-09-06 11:03:56.033</td>\n",
       "      <td>2017-04-07 21:42:41.000</td>\n",
       "    </tr>\n",
       "    <tr>\n",
       "      <th>3</th>\n",
       "      <td>4</td>\n",
       "      <td>UJ</td>\n",
       "      <td>Unaccompanied Juvenile</td>\n",
       "      <td>2014-09-06 11:03:56.033</td>\n",
       "      <td>2014-09-06 17:39:29.000</td>\n",
       "    </tr>\n",
       "    <tr>\n",
       "      <th>4</th>\n",
       "      <td>5</td>\n",
       "      <td>NaN</td>\n",
       "      <td>Not Applicable</td>\n",
       "      <td>2017-10-20 22:32:47.537</td>\n",
       "      <td>2017-10-20 22:32:47.537</td>\n",
       "    </tr>\n",
       "    <tr>\n",
       "      <th>5</th>\n",
       "      <td>6</td>\n",
       "      <td>AJ</td>\n",
       "      <td>Accompanied Juvenile</td>\n",
       "      <td>2017-10-20 22:32:47.537</td>\n",
       "      <td>2017-10-20 22:32:47.537</td>\n",
       "    </tr>\n",
       "  </tbody>\n",
       "</table>\n",
       "</div>"
      ],
      "text/plain": [
       "  idnJuvenile strCode                                     strDescription  \\\n",
       "0           1       J                                      Juvenile Case   \n",
       "1           2      J1  Juvenile has been released to guardian or has ...   \n",
       "2           3      J2                    Unaccompanied Juvenile - Asylum   \n",
       "3           4      UJ                             Unaccompanied Juvenile   \n",
       "4           5     NaN                                     Not Applicable   \n",
       "5           6      AJ                               Accompanied Juvenile   \n",
       "\n",
       "              DATCREATEDON            DATMODIFIEDON  \n",
       "0  2014-09-06 11:03:55.993  2017-04-07 21:42:18.000  \n",
       "1  2014-09-06 11:03:56.033  2017-04-07 21:42:34.000  \n",
       "2  2014-09-06 11:03:56.033  2017-04-07 21:42:41.000  \n",
       "3  2014-09-06 11:03:56.033  2014-09-06 17:39:29.000  \n",
       "4  2017-10-20 22:32:47.537  2017-10-20 22:32:47.537  \n",
       "5  2017-10-20 22:32:47.537  2017-10-20 22:32:47.537  "
      ]
     },
     "metadata": {},
     "output_type": "display_data"
    }
   ],
   "source": [
    "display(lookup_juvenile)"
   ]
  },
  {
   "cell_type": "code",
   "execution_count": 90,
   "id": "253dfdad",
   "metadata": {},
   "outputs": [
    {
     "name": "stdout",
     "output_type": "stream",
     "text": [
      "Missing idnJuvenile values: 999\n"
     ]
    }
   ],
   "source": [
    "missing_count = juvenile_history[\"idnJuvenile\"].isna().sum()\n",
    "print(f\"Missing idnJuvenile values: {missing_count}\")"
   ]
  },
  {
   "cell_type": "code",
   "execution_count": 91,
   "id": "831a08fb",
   "metadata": {},
   "outputs": [],
   "source": [
    "juvenile_history_with_lookup = juvenile_history.merge(\n",
    "  lookup_juvenile,\n",
    "  how='left',\n",
    "  on='idnJuvenile'\n",
    ")"
   ]
  },
  {
   "cell_type": "code",
   "execution_count": 92,
   "id": "000b3c85",
   "metadata": {},
   "outputs": [
    {
     "data": {
      "text/plain": [
       "Index(['idnJuvenileHistory', 'idnCase', 'idnProceeding', 'idnJuvenile',\n",
       "       'strCode', 'strDescription', 'DATCREATEDON', 'DATMODIFIEDON'],\n",
       "      dtype='object')"
      ]
     },
     "execution_count": 92,
     "metadata": {},
     "output_type": "execute_result"
    }
   ],
   "source": [
    "juvenile_history_with_lookup.columns"
   ]
  },
  {
   "cell_type": "code",
   "execution_count": 93,
   "id": "9c64f54e",
   "metadata": {},
   "outputs": [],
   "source": [
    "juvenile_history_with_lookup = juvenile_history_with_lookup[['idnJuvenileHistory', 'idnCase', 'idnProceeding', 'strCode', 'strDescription']]"
   ]
  },
  {
   "cell_type": "code",
   "execution_count": 94,
   "id": "39ee4181",
   "metadata": {},
   "outputs": [
    {
     "name": "stdout",
     "output_type": "stream",
     "text": [
      "<class 'pandas.core.frame.DataFrame'>\n",
      "RangeIndex: 2857093 entries, 0 to 2857092\n",
      "Data columns (total 5 columns):\n",
      " #   Column              Dtype \n",
      "---  ------              ----- \n",
      " 0   idnJuvenileHistory  Int64 \n",
      " 1   idnCase             Int64 \n",
      " 2   idnProceeding       Int64 \n",
      " 3   strCode             object\n",
      " 4   strDescription      object\n",
      "dtypes: Int64(3), object(2)\n",
      "memory usage: 117.2+ MB\n"
     ]
    }
   ],
   "source": [
    "juvenile_history_with_lookup.info()\n"
   ]
  },
  {
   "cell_type": "code",
   "execution_count": 95,
   "id": "aac1a38d",
   "metadata": {},
   "outputs": [
    {
     "data": {
      "text/html": [
       "<div>\n",
       "<style scoped>\n",
       "    .dataframe tbody tr th:only-of-type {\n",
       "        vertical-align: middle;\n",
       "    }\n",
       "\n",
       "    .dataframe tbody tr th {\n",
       "        vertical-align: top;\n",
       "    }\n",
       "\n",
       "    .dataframe thead th {\n",
       "        text-align: right;\n",
       "    }\n",
       "</style>\n",
       "<table border=\"1\" class=\"dataframe\">\n",
       "  <thead>\n",
       "    <tr style=\"text-align: right;\">\n",
       "      <th></th>\n",
       "      <th>idnJuvenileHistory</th>\n",
       "      <th>idnCase</th>\n",
       "      <th>idnProceeding</th>\n",
       "      <th>strCode</th>\n",
       "      <th>strDescription</th>\n",
       "    </tr>\n",
       "  </thead>\n",
       "  <tbody>\n",
       "    <tr>\n",
       "      <th>0</th>\n",
       "      <td>5</td>\n",
       "      <td>2046990</td>\n",
       "      <td>3200129</td>\n",
       "      <td>J</td>\n",
       "      <td>Juvenile Case</td>\n",
       "    </tr>\n",
       "    <tr>\n",
       "      <th>1</th>\n",
       "      <td>6</td>\n",
       "      <td>2047179</td>\n",
       "      <td>3199488</td>\n",
       "      <td>J</td>\n",
       "      <td>Juvenile Case</td>\n",
       "    </tr>\n",
       "    <tr>\n",
       "      <th>2</th>\n",
       "      <td>7</td>\n",
       "      <td>2047179</td>\n",
       "      <td>3199489</td>\n",
       "      <td>J</td>\n",
       "      <td>Juvenile Case</td>\n",
       "    </tr>\n",
       "    <tr>\n",
       "      <th>3</th>\n",
       "      <td>8</td>\n",
       "      <td>2047199</td>\n",
       "      <td>3199497</td>\n",
       "      <td>J</td>\n",
       "      <td>Juvenile Case</td>\n",
       "    </tr>\n",
       "    <tr>\n",
       "      <th>4</th>\n",
       "      <td>9</td>\n",
       "      <td>2047199</td>\n",
       "      <td>3199498</td>\n",
       "      <td>J</td>\n",
       "      <td>Juvenile Case</td>\n",
       "    </tr>\n",
       "  </tbody>\n",
       "</table>\n",
       "</div>"
      ],
      "text/plain": [
       "   idnJuvenileHistory  idnCase  idnProceeding strCode strDescription\n",
       "0                   5  2046990        3200129       J  Juvenile Case\n",
       "1                   6  2047179        3199488       J  Juvenile Case\n",
       "2                   7  2047179        3199489       J  Juvenile Case\n",
       "3                   8  2047199        3199497       J  Juvenile Case\n",
       "4                   9  2047199        3199498       J  Juvenile Case"
      ]
     },
     "execution_count": 95,
     "metadata": {},
     "output_type": "execute_result"
    }
   ],
   "source": [
    "juvenile_history_with_lookup.head()\n"
   ]
  },
  {
   "cell_type": "code",
   "execution_count": 96,
   "id": "9f68eab8",
   "metadata": {},
   "outputs": [],
   "source": [
    "juvenile_history_with_lookup[\"strCode\"] = juvenile_history_with_lookup[\"strCode\"].fillna(\"Unknown\")\n",
    "juvenile_history_with_lookup[\"strDescription\"] = juvenile_history_with_lookup[\"strDescription\"].fillna(\"Not Applicable\")"
   ]
  },
  {
   "cell_type": "code",
   "execution_count": 97,
   "id": "e321b254",
   "metadata": {},
   "outputs": [
    {
     "data": {
      "text/plain": [
       "strCode\n",
       "Unknown    1883374\n",
       "UJ          452017\n",
       "J           233667\n",
       "AJ          227915\n",
       "J1           59386\n",
       "J2             734\n",
       "Name: count, dtype: int64"
      ]
     },
     "execution_count": 97,
     "metadata": {},
     "output_type": "execute_result"
    }
   ],
   "source": [
    "juvenile_history_with_lookup[\"strCode\"].value_counts(dropna=False)"
   ]
  },
  {
   "cell_type": "markdown",
   "id": "11894351",
   "metadata": {},
   "source": [
    "The plot below shows the frequency of juvenile types using the `strCode` field from the `juvenile_history_with_lookup` dataset.  \n",
    "Missing or unmatched `idnJuvenile` values were labeled as `\"Unknown\"` to ensure the dataset is complete and all records are represented.\n",
    "\n",
    "A **logarithmic scale** is applied to the y-axis because the data is highly imbalanced — for example, the `\"Unknown\"` category includes over 1.8 million records, while `\"AJ\"` has only 734.  \n",
    "Using a log scale allows smaller categories to remain visible and interpretable without compressing the larger bars too severely.\n",
    "\n",
    "Actual record counts are displayed above each bar for clarity."
   ]
  },
  {
   "cell_type": "code",
   "execution_count": 98,
   "id": "dd1dc016",
   "metadata": {},
   "outputs": [
    {
     "data": {
      "image/png": "[encoded data removed]",
      "text/plain": [
       "<Figure size 800x500 with 1 Axes>"
      ]
     },
     "metadata": {},
     "output_type": "display_data"
    }
   ],
   "source": [
    "plt.figure(figsize=(8, 5))\n",
    "ax = sns.countplot(\n",
    "    data=juvenile_history_with_lookup,\n",
    "    x=\"strCode\"\n",
    ")\n",
    "\n",
    "ax.set_yscale(\"log\")\n",
    "ax.set_title(\"Distribution of Juvenile Types (log scale)\")\n",
    "ax.set_xlabel(\"Juvenile Type Code\")\n",
    "ax.set_ylabel(\"Record Count (log scale)\")\n",
    "\n",
    "for container in ax.containers:\n",
    "    ax.bar_label(\n",
    "        container,\n",
    "        labels=[f\"{int(v):,}\" for v in container.datavalues],\n",
    "        fontsize=10,\n",
    "        padding=3\n",
    "    )\n",
    "\n",
    "plt.tight_layout()\n",
    "plt.show()"
   ]
  },
  {
   "cell_type": "markdown",
   "id": "7ee7a5f1",
   "metadata": {},
   "source": [
    "### Cases Table\n",
    "\n",
    "The `Cases` table has already been cleaned and filtered to include only **juvenile cases**, based on a prior match using the `idnCase` field.  \n",
    "Originally, the raw dataset contained over **11.7 million** records; after filtering, only juvenile-related entries were retained.\n",
    "\n",
    "The dataset includes the following columns:\n",
    "\n",
    "- `IDNCASE` – Primary key identifying each case\n",
    "- `NAT` – Nationality of the alien\n",
    "- `LANG` – Primary language spoken by the alien\n",
    "- `CUSTODY` – Current custody status of the alien\n",
    "- `CASE_TYPE` – Type of immigration case\n",
    "- `LATEST_HEARING` – Date of the latest appearance before an immigration judge\n",
    "- `LATEST_CAL_TYPE` – Type of hearing scheduled (`I` for individual, `M` for master)\n",
    "- `DATE_OF_ENTRY` – Date the alien entered the United States\n",
    "- `C_BIRTHDATE` – Birthdate of the alien\n",
    "- `GENDER` – Sex of the alien\n",
    "- `DATE_DETAINED` – Date the alien was detained\n",
    "- `DATE_RELEASED` – Actual release date of the detained alien\n",
    "- `DETENTION_DATE` – Date the alien entered the current detention facility\n",
    "\n",
    "This table serves as the core source for analyzing case-level demographics, legal status, and custody timelines for juvenile immigration cases."
   ]
  },
  {
   "cell_type": "code",
   "execution_count": 99,
   "id": "8d49865b",
   "metadata": {},
   "outputs": [],
   "source": [
    "cases_path = '../../2_data_preparation/outputs/juvenile_cases_cleaned.csv.gz'\n",
    "\n",
    "# the dtype schema below was pulled directly from the 02_clean_core_tables.ipynb notebook in the 2_data_preparation/notebooks/ folder\n",
    "dtype = {\n",
    "    \"IDNCASE\": \"Int64\",\n",
    "    \"NAT\": \"category\",\n",
    "    \"LANG\": \"category\",\n",
    "    \"CUSTODY\": \"category\",\n",
    "    \"CASE_TYPE\": \"category\",\n",
    "    \"LATEST_CAL_TYPE\": \"category\",\n",
    "    \"GENDER\": \"category\",\n",
    "    \"C_BIRTHDATE\": \"string\",\n",
    "    \"DETENTION_DATE\": \"float64\",\n",
    "}"
   ]
  },
  {
   "cell_type": "code",
   "execution_count": 100,
   "id": "e865a48f",
   "metadata": {},
   "outputs": [],
   "source": [
    "cases = pd.read_csv(\n",
    "    filepath_or_buffer=cases_path,\n",
    "    dtype=dtype,\n",
    "    parse_dates=[\"LATEST_HEARING\", \"DATE_OF_ENTRY\", \"DATE_DETAINED\", \"DATE_RELEASED\"],\n",
    "    low_memory=False\n",
    ")"
   ]
  },
  {
   "cell_type": "code",
   "execution_count": 101,
   "id": "e162cb9b",
   "metadata": {},
   "outputs": [
    {
     "data": {
      "text/plain": [
       "(1858773, 13)"
      ]
     },
     "execution_count": 101,
     "metadata": {},
     "output_type": "execute_result"
    }
   ],
   "source": [
    "cases.shape"
   ]
  },
  {
   "cell_type": "code",
   "execution_count": 102,
   "id": "ffd2654e",
   "metadata": {},
   "outputs": [
    {
     "data": {
      "text/html": [
       "<div>\n",
       "<style scoped>\n",
       "    .dataframe tbody tr th:only-of-type {\n",
       "        vertical-align: middle;\n",
       "    }\n",
       "\n",
       "    .dataframe tbody tr th {\n",
       "        vertical-align: top;\n",
       "    }\n",
       "\n",
       "    .dataframe thead th {\n",
       "        text-align: right;\n",
       "    }\n",
       "</style>\n",
       "<table border=\"1\" class=\"dataframe\">\n",
       "  <thead>\n",
       "    <tr style=\"text-align: right;\">\n",
       "      <th></th>\n",
       "      <th>IDNCASE</th>\n",
       "      <th>NAT</th>\n",
       "      <th>LANG</th>\n",
       "      <th>CUSTODY</th>\n",
       "      <th>CASE_TYPE</th>\n",
       "      <th>LATEST_HEARING</th>\n",
       "      <th>LATEST_CAL_TYPE</th>\n",
       "      <th>DATE_OF_ENTRY</th>\n",
       "      <th>C_BIRTHDATE</th>\n",
       "      <th>GENDER</th>\n",
       "      <th>DATE_DETAINED</th>\n",
       "      <th>DATE_RELEASED</th>\n",
       "      <th>DETENTION_DATE</th>\n",
       "    </tr>\n",
       "  </thead>\n",
       "  <tbody>\n",
       "    <tr>\n",
       "      <th>0</th>\n",
       "      <td>13758313</td>\n",
       "      <td>GT</td>\n",
       "      <td>SP</td>\n",
       "      <td>N</td>\n",
       "      <td>RMV</td>\n",
       "      <td>NaN</td>\n",
       "      <td>NaN</td>\n",
       "      <td>2024-01-21</td>\n",
       "      <td>2/2008</td>\n",
       "      <td>F</td>\n",
       "      <td>NaN</td>\n",
       "      <td>NaT</td>\n",
       "      <td>NaN</td>\n",
       "    </tr>\n",
       "    <tr>\n",
       "      <th>1</th>\n",
       "      <td>14870586</td>\n",
       "      <td>MX</td>\n",
       "      <td>SP</td>\n",
       "      <td>D</td>\n",
       "      <td>RFR</td>\n",
       "      <td>2025-02-04 00:00:00.000</td>\n",
       "      <td>I</td>\n",
       "      <td>NaT</td>\n",
       "      <td>&lt;NA&gt;</td>\n",
       "      <td>NaN</td>\n",
       "      <td>2025-01-22 00:00:00.000</td>\n",
       "      <td>NaT</td>\n",
       "      <td>NaN</td>\n",
       "    </tr>\n",
       "    <tr>\n",
       "      <th>2</th>\n",
       "      <td>14870588</td>\n",
       "      <td>GT</td>\n",
       "      <td>SP</td>\n",
       "      <td>R</td>\n",
       "      <td>WHO</td>\n",
       "      <td>2025-07-31 00:00:00.000</td>\n",
       "      <td>M</td>\n",
       "      <td>NaT</td>\n",
       "      <td>6/1997</td>\n",
       "      <td>F</td>\n",
       "      <td>2025-01-29 00:00:00.000</td>\n",
       "      <td>2025-02-06</td>\n",
       "      <td>NaN</td>\n",
       "    </tr>\n",
       "    <tr>\n",
       "      <th>3</th>\n",
       "      <td>13816559</td>\n",
       "      <td>MX</td>\n",
       "      <td>SP</td>\n",
       "      <td>N</td>\n",
       "      <td>RMV</td>\n",
       "      <td>2027-02-18 00:00:00.000</td>\n",
       "      <td>I</td>\n",
       "      <td>NaT</td>\n",
       "      <td>5/2020</td>\n",
       "      <td>M</td>\n",
       "      <td>NaN</td>\n",
       "      <td>NaT</td>\n",
       "      <td>NaN</td>\n",
       "    </tr>\n",
       "    <tr>\n",
       "      <th>4</th>\n",
       "      <td>13816560</td>\n",
       "      <td>MX</td>\n",
       "      <td>SP</td>\n",
       "      <td>N</td>\n",
       "      <td>RMV</td>\n",
       "      <td>2027-02-18 00:00:00.000</td>\n",
       "      <td>I</td>\n",
       "      <td>NaT</td>\n",
       "      <td>5/2021</td>\n",
       "      <td>F</td>\n",
       "      <td>NaN</td>\n",
       "      <td>NaT</td>\n",
       "      <td>NaN</td>\n",
       "    </tr>\n",
       "  </tbody>\n",
       "</table>\n",
       "</div>"
      ],
      "text/plain": [
       "    IDNCASE NAT LANG CUSTODY CASE_TYPE           LATEST_HEARING  \\\n",
       "0  13758313  GT   SP       N       RMV                      NaN   \n",
       "1  14870586  MX   SP       D       RFR  2025-02-04 00:00:00.000   \n",
       "2  14870588  GT   SP       R       WHO  2025-07-31 00:00:00.000   \n",
       "3  13816559  MX   SP       N       RMV  2027-02-18 00:00:00.000   \n",
       "4  13816560  MX   SP       N       RMV  2027-02-18 00:00:00.000   \n",
       "\n",
       "  LATEST_CAL_TYPE DATE_OF_ENTRY C_BIRTHDATE GENDER            DATE_DETAINED  \\\n",
       "0             NaN    2024-01-21      2/2008      F                      NaN   \n",
       "1               I           NaT        <NA>    NaN  2025-01-22 00:00:00.000   \n",
       "2               M           NaT      6/1997      F  2025-01-29 00:00:00.000   \n",
       "3               I           NaT      5/2020      M                      NaN   \n",
       "4               I           NaT      5/2021      F                      NaN   \n",
       "\n",
       "  DATE_RELEASED  DETENTION_DATE  \n",
       "0           NaT             NaN  \n",
       "1           NaT             NaN  \n",
       "2    2025-02-06             NaN  \n",
       "3           NaT             NaN  \n",
       "4           NaT             NaN  "
      ]
     },
     "execution_count": 102,
     "metadata": {},
     "output_type": "execute_result"
    }
   ],
   "source": [
    "cases.head()"
   ]
  },
  {
   "cell_type": "code",
   "execution_count": 103,
   "id": "b85a8254",
   "metadata": {},
   "outputs": [
    {
     "name": "stdout",
     "output_type": "stream",
     "text": [
      "<class 'pandas.core.frame.DataFrame'>\n",
      "RangeIndex: 1858773 entries, 0 to 1858772\n",
      "Data columns (total 13 columns):\n",
      " #   Column           Dtype         \n",
      "---  ------           -----         \n",
      " 0   IDNCASE          Int64         \n",
      " 1   NAT              category      \n",
      " 2   LANG             category      \n",
      " 3   CUSTODY          category      \n",
      " 4   CASE_TYPE        category      \n",
      " 5   LATEST_HEARING   object        \n",
      " 6   LATEST_CAL_TYPE  category      \n",
      " 7   DATE_OF_ENTRY    datetime64[ns]\n",
      " 8   C_BIRTHDATE      string        \n",
      " 9   GENDER           category      \n",
      " 10  DATE_DETAINED    object        \n",
      " 11  DATE_RELEASED    datetime64[ns]\n",
      " 12  DETENTION_DATE   float64       \n",
      "dtypes: Int64(1), category(6), datetime64[ns](2), float64(1), object(2), string(1)\n",
      "memory usage: 115.3+ MB\n"
     ]
    }
   ],
   "source": [
    "cases.info()"
   ]
  },
  {
   "cell_type": "code",
   "execution_count": 104,
   "id": "eed40306",
   "metadata": {},
   "outputs": [
    {
     "data": {
      "text/html": [
       "<div>\n",
       "<style scoped>\n",
       "    .dataframe tbody tr th:only-of-type {\n",
       "        vertical-align: middle;\n",
       "    }\n",
       "\n",
       "    .dataframe tbody tr th {\n",
       "        vertical-align: top;\n",
       "    }\n",
       "\n",
       "    .dataframe thead th {\n",
       "        text-align: right;\n",
       "    }\n",
       "</style>\n",
       "<table border=\"1\" class=\"dataframe\">\n",
       "  <thead>\n",
       "    <tr style=\"text-align: right;\">\n",
       "      <th></th>\n",
       "      <th>Missing Count</th>\n",
       "      <th>Missing %</th>\n",
       "    </tr>\n",
       "  </thead>\n",
       "  <tbody>\n",
       "    <tr>\n",
       "      <th>DETENTION_DATE</th>\n",
       "      <td>1858773</td>\n",
       "      <td>100.00</td>\n",
       "    </tr>\n",
       "    <tr>\n",
       "      <th>DATE_RELEASED</th>\n",
       "      <td>1411804</td>\n",
       "      <td>75.95</td>\n",
       "    </tr>\n",
       "    <tr>\n",
       "      <th>DATE_DETAINED</th>\n",
       "      <td>1053320</td>\n",
       "      <td>56.67</td>\n",
       "    </tr>\n",
       "    <tr>\n",
       "      <th>GENDER</th>\n",
       "      <td>488535</td>\n",
       "      <td>26.28</td>\n",
       "    </tr>\n",
       "    <tr>\n",
       "      <th>DATE_OF_ENTRY</th>\n",
       "      <td>480722</td>\n",
       "      <td>25.86</td>\n",
       "    </tr>\n",
       "    <tr>\n",
       "      <th>C_BIRTHDATE</th>\n",
       "      <td>446724</td>\n",
       "      <td>24.03</td>\n",
       "    </tr>\n",
       "    <tr>\n",
       "      <th>LATEST_CAL_TYPE</th>\n",
       "      <td>303538</td>\n",
       "      <td>16.33</td>\n",
       "    </tr>\n",
       "    <tr>\n",
       "      <th>LATEST_HEARING</th>\n",
       "      <td>296813</td>\n",
       "      <td>15.97</td>\n",
       "    </tr>\n",
       "    <tr>\n",
       "      <th>NAT</th>\n",
       "      <td>3057</td>\n",
       "      <td>0.16</td>\n",
       "    </tr>\n",
       "    <tr>\n",
       "      <th>LANG</th>\n",
       "      <td>1692</td>\n",
       "      <td>0.09</td>\n",
       "    </tr>\n",
       "    <tr>\n",
       "      <th>CUSTODY</th>\n",
       "      <td>4</td>\n",
       "      <td>0.00</td>\n",
       "    </tr>\n",
       "    <tr>\n",
       "      <th>CASE_TYPE</th>\n",
       "      <td>4</td>\n",
       "      <td>0.00</td>\n",
       "    </tr>\n",
       "    <tr>\n",
       "      <th>IDNCASE</th>\n",
       "      <td>0</td>\n",
       "      <td>0.00</td>\n",
       "    </tr>\n",
       "  </tbody>\n",
       "</table>\n",
       "</div>"
      ],
      "text/plain": [
       "                 Missing Count  Missing %\n",
       "DETENTION_DATE         1858773     100.00\n",
       "DATE_RELEASED          1411804      75.95\n",
       "DATE_DETAINED          1053320      56.67\n",
       "GENDER                  488535      26.28\n",
       "DATE_OF_ENTRY           480722      25.86\n",
       "C_BIRTHDATE             446724      24.03\n",
       "LATEST_CAL_TYPE         303538      16.33\n",
       "LATEST_HEARING          296813      15.97\n",
       "NAT                       3057       0.16\n",
       "LANG                      1692       0.09\n",
       "CUSTODY                      4       0.00\n",
       "CASE_TYPE                    4       0.00\n",
       "IDNCASE                      0       0.00"
      ]
     },
     "metadata": {},
     "output_type": "display_data"
    }
   ],
   "source": [
    "null_counts = cases.isna().sum()\n",
    "percent_missing = (null_counts / len(cases)) * 100\n",
    "\n",
    "missing_summary = pd.DataFrame({\n",
    "    \"Missing Count\": null_counts,\n",
    "    \"Missing %\": percent_missing.round(2)\n",
    "}).sort_values(by=\"Missing Count\", ascending=False)\n",
    "\n",
    "display(missing_summary)"
   ]
  },
  {
   "cell_type": "markdown",
   "id": "ae1ff348",
   "metadata": {},
   "source": [
    "The `DETENTION_DATE` column is entirely null (100% missing) and therefore will be dropped from the dataset"
   ]
  },
  {
   "cell_type": "code",
   "execution_count": 105,
   "id": "31f8eccc",
   "metadata": {},
   "outputs": [],
   "source": [
    "cases = cases.drop('DETENTION_DATE', axis=1)"
   ]
  },
  {
   "cell_type": "code",
   "execution_count": 106,
   "id": "b0ab5d0f",
   "metadata": {},
   "outputs": [
    {
     "data": {
      "text/html": [
       "<div>\n",
       "<style scoped>\n",
       "    .dataframe tbody tr th:only-of-type {\n",
       "        vertical-align: middle;\n",
       "    }\n",
       "\n",
       "    .dataframe tbody tr th {\n",
       "        vertical-align: top;\n",
       "    }\n",
       "\n",
       "    .dataframe thead th {\n",
       "        text-align: right;\n",
       "    }\n",
       "</style>\n",
       "<table border=\"1\" class=\"dataframe\">\n",
       "  <thead>\n",
       "    <tr style=\"text-align: right;\">\n",
       "      <th></th>\n",
       "      <th>GENDER</th>\n",
       "      <th>COUNT</th>\n",
       "      <th>RATIO (%)</th>\n",
       "    </tr>\n",
       "  </thead>\n",
       "  <tbody>\n",
       "    <tr>\n",
       "      <th>0</th>\n",
       "      <td>M</td>\n",
       "      <td>875507</td>\n",
       "      <td>64.0</td>\n",
       "    </tr>\n",
       "    <tr>\n",
       "      <th>1</th>\n",
       "      <td>F</td>\n",
       "      <td>494724</td>\n",
       "      <td>36.0</td>\n",
       "    </tr>\n",
       "  </tbody>\n",
       "</table>\n",
       "</div>"
      ],
      "text/plain": [
       "  GENDER   COUNT  RATIO (%)\n",
       "0      M  875507       64.0\n",
       "1      F  494724       36.0"
      ]
     },
     "metadata": {},
     "output_type": "display_data"
    }
   ],
   "source": [
    "filtered_cases = cases[cases['GENDER'].isin(['M', 'F'])].copy()\n",
    "\n",
    "# drop unused categories\n",
    "filtered_cases['GENDER'] = filtered_cases['GENDER'].cat.remove_unused_categories()\n",
    "\n",
    "gender = filtered_cases['GENDER'].value_counts().reset_index()\n",
    "gender.columns = ['GENDER', 'COUNT']\n",
    "\n",
    "gender[\"RATIO (%)\"] = (gender[\"COUNT\"] / gender[\"COUNT\"].sum()) * 100\n",
    "gender[\"RATIO (%)\"] = gender[\"RATIO (%)\"].round()\n",
    "\n",
    "display(gender)"
   ]
  },
  {
   "cell_type": "code",
   "execution_count": 107,
   "id": "09289a09",
   "metadata": {},
   "outputs": [
    {
     "data": {
      "image/png": "[encoded data removed]",
      "text/plain": [
       "<Figure size 640x480 with 1 Axes>"
      ]
     },
     "metadata": {},
     "output_type": "display_data"
    }
   ],
   "source": [
    "sns.barplot(data=gender, x='GENDER', y='COUNT')\n",
    "plt.title(\"Distribution of Gender\")\n",
    "plt.xlabel(\"Gender\")\n",
    "plt.ylabel(\"Count\")\n",
    "plt.show()"
   ]
  },
  {
   "cell_type": "markdown",
   "id": "50985699",
   "metadata": {},
   "source": [
    "### 🚧 Work in Progress\n",
    "\n",
    "This analysis is not yet complete. Please be patient as we continue working on the next steps."
   ]
  }
 ],
 "metadata": {
  "kernelspec": {
   "display_name": "ds",
   "language": "python",
   "name": "python3"
  },
  "language_info": {
   "codemirror_mode": {
    "name": "ipython",
    "version": 3
   },
   "file_extension": ".py",
   "mimetype": "text/x-python",
   "name": "python",
   "nbconvert_exporter": "python",
   "pygments_lexer": "ipython3",
   "version": "3.12.9"
  }
 },
 "nbformat": 4,
 "nbformat_minor": 5
}
