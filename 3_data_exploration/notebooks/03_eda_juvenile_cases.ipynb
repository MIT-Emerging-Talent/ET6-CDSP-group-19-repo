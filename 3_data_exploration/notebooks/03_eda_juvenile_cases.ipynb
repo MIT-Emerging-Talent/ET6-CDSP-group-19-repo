{
 "cells": [
  {
   "cell_type": "code",
   "execution_count": 5,
   "id": "278926c0",
   "metadata": {},
   "outputs": [],
   "source": [
    "import pandas as pd\n",
    "import matplotlib.pyplot as plt\n",
    "import seaborn as sns"
   ]
  },
  {
   "cell_type": "code",
   "execution_count": 24,
   "id": "a31b5760",
   "metadata": {},
   "outputs": [],
   "source": [
    "juvenile_history_path = (\n",
    "    \"D:/Cleaned-data/Juvenile_cases_cleaned.csv/Juvenile_cases_cleaned.csv\"\n",
    ")\n",
    "juvenile_history = pd.read_csv(\n",
    "    filepath_or_buffer=juvenile_history_path,\n",
    "    dtype={\n",
    "        \"idnJuvenileHistory\": \"Int64\",\n",
    "        \"idnCase\": \"Int64\",\n",
    "        \"idnProceeding\": \"Int64\",\n",
    "        \"idnJuvenile\": \"category\",\n",
    "    },\n",
    "    low_memory=False,\n",
    ")"
   ]
  },
  {
   "cell_type": "markdown",
   "id": "eb69bbe9",
   "metadata": {},
   "source": [
    "### JuvenileHistory Table\n",
    "\n",
    "The `JuvenileHistory` table is a **junction table** that contains foreign keys linking to core case tables and lookup tables. It represents many-to-many relationships between juveniles and immigration proceedings.\n",
    "\n",
    "**Key columns:**\n",
    "- `idnJuvenileHistory` — Primary key\n",
    "- `idnCase` — Foreign key to the `Case` table\n",
    "- `idnProceeding` — Foreign key to the `Proceeding` table\n",
    "- `idnJuvenile` — Foreign key to the `Lookup Juvenile` table\n",
    "\n",
    "This table acts as a bridge, allowing multiple juveniles to be associated with multiple cases and proceedings."
   ]
  },
  {
   "cell_type": "code",
   "execution_count": 25,
   "id": "cd659e4e",
   "metadata": {},
   "outputs": [
    {
     "data": {
      "text/html": [
       "<div>\n",
       "<style scoped>\n",
       "    .dataframe tbody tr th:only-of-type {\n",
       "        vertical-align: middle;\n",
       "    }\n",
       "\n",
       "    .dataframe tbody tr th {\n",
       "        vertical-align: top;\n",
       "    }\n",
       "\n",
       "    .dataframe thead th {\n",
       "        text-align: right;\n",
       "    }\n",
       "</style>\n",
       "<table border=\"1\" class=\"dataframe\">\n",
       "  <thead>\n",
       "    <tr style=\"text-align: right;\">\n",
       "      <th></th>\n",
       "      <th>IDNCASE</th>\n",
       "      <th>NAT</th>\n",
       "      <th>LANG</th>\n",
       "      <th>CUSTODY</th>\n",
       "      <th>CASE_TYPE</th>\n",
       "      <th>LATEST_HEARING</th>\n",
       "      <th>LATEST_CAL_TYPE</th>\n",
       "      <th>DATE_OF_ENTRY</th>\n",
       "      <th>C_BIRTHDATE</th>\n",
       "      <th>GENDER</th>\n",
       "      <th>DATE_DETAINED</th>\n",
       "      <th>DATE_RELEASED</th>\n",
       "    </tr>\n",
       "  </thead>\n",
       "  <tbody>\n",
       "    <tr>\n",
       "      <th>0</th>\n",
       "      <td>13758313</td>\n",
       "      <td>GT</td>\n",
       "      <td>SP</td>\n",
       "      <td>N</td>\n",
       "      <td>RMV</td>\n",
       "      <td>NaN</td>\n",
       "      <td>NaN</td>\n",
       "      <td>2024-01-21</td>\n",
       "      <td>2008-02-01</td>\n",
       "      <td>F</td>\n",
       "      <td>NaN</td>\n",
       "      <td>NaN</td>\n",
       "    </tr>\n",
       "    <tr>\n",
       "      <th>1</th>\n",
       "      <td>14870586</td>\n",
       "      <td>MX</td>\n",
       "      <td>SP</td>\n",
       "      <td>D</td>\n",
       "      <td>RFR</td>\n",
       "      <td>2025-02-04</td>\n",
       "      <td>I</td>\n",
       "      <td>NaN</td>\n",
       "      <td>NaN</td>\n",
       "      <td>NaN</td>\n",
       "      <td>2025-01-22</td>\n",
       "      <td>NaN</td>\n",
       "    </tr>\n",
       "    <tr>\n",
       "      <th>2</th>\n",
       "      <td>14870588</td>\n",
       "      <td>GT</td>\n",
       "      <td>SP</td>\n",
       "      <td>R</td>\n",
       "      <td>WHO</td>\n",
       "      <td>2025-07-31</td>\n",
       "      <td>M</td>\n",
       "      <td>NaN</td>\n",
       "      <td>1997-06-01</td>\n",
       "      <td>F</td>\n",
       "      <td>2025-01-29</td>\n",
       "      <td>2025-02-06 00:00:00.000</td>\n",
       "    </tr>\n",
       "    <tr>\n",
       "      <th>3</th>\n",
       "      <td>13816559</td>\n",
       "      <td>MX</td>\n",
       "      <td>SP</td>\n",
       "      <td>N</td>\n",
       "      <td>RMV</td>\n",
       "      <td>2027-02-18</td>\n",
       "      <td>I</td>\n",
       "      <td>NaN</td>\n",
       "      <td>2020-05-01</td>\n",
       "      <td>M</td>\n",
       "      <td>NaN</td>\n",
       "      <td>NaN</td>\n",
       "    </tr>\n",
       "    <tr>\n",
       "      <th>4</th>\n",
       "      <td>13816560</td>\n",
       "      <td>MX</td>\n",
       "      <td>SP</td>\n",
       "      <td>N</td>\n",
       "      <td>RMV</td>\n",
       "      <td>2027-02-18</td>\n",
       "      <td>I</td>\n",
       "      <td>NaN</td>\n",
       "      <td>2021-05-01</td>\n",
       "      <td>F</td>\n",
       "      <td>NaN</td>\n",
       "      <td>NaN</td>\n",
       "    </tr>\n",
       "  </tbody>\n",
       "</table>\n",
       "</div>"
      ],
      "text/plain": [
       "    IDNCASE NAT LANG CUSTODY CASE_TYPE LATEST_HEARING LATEST_CAL_TYPE  \\\n",
       "0  13758313  GT   SP       N       RMV            NaN             NaN   \n",
       "1  14870586  MX   SP       D       RFR     2025-02-04               I   \n",
       "2  14870588  GT   SP       R       WHO     2025-07-31               M   \n",
       "3  13816559  MX   SP       N       RMV     2027-02-18               I   \n",
       "4  13816560  MX   SP       N       RMV     2027-02-18               I   \n",
       "\n",
       "  DATE_OF_ENTRY C_BIRTHDATE GENDER DATE_DETAINED            DATE_RELEASED  \n",
       "0    2024-01-21  2008-02-01      F           NaN                      NaN  \n",
       "1           NaN         NaN    NaN    2025-01-22                      NaN  \n",
       "2           NaN  1997-06-01      F    2025-01-29  2025-02-06 00:00:00.000  \n",
       "3           NaN  2020-05-01      M           NaN                      NaN  \n",
       "4           NaN  2021-05-01      F           NaN                      NaN  "
      ]
     },
     "execution_count": 25,
     "metadata": {},
     "output_type": "execute_result"
    }
   ],
   "source": [
    "juvenile_history.head()"
   ]
  },
  {
   "cell_type": "code",
   "execution_count": 26,
   "id": "0b9fc929",
   "metadata": {},
   "outputs": [
    {
     "name": "stdout",
     "output_type": "stream",
     "text": [
      "<class 'pandas.core.frame.DataFrame'>\n",
      "RangeIndex: 1858773 entries, 0 to 1858772\n",
      "Data columns (total 12 columns):\n",
      " #   Column           Dtype \n",
      "---  ------           ----- \n",
      " 0   IDNCASE          int64 \n",
      " 1   NAT              object\n",
      " 2   LANG             object\n",
      " 3   CUSTODY          object\n",
      " 4   CASE_TYPE        object\n",
      " 5   LATEST_HEARING   object\n",
      " 6   LATEST_CAL_TYPE  object\n",
      " 7   DATE_OF_ENTRY    object\n",
      " 8   C_BIRTHDATE      object\n",
      " 9   GENDER           object\n",
      " 10  DATE_DETAINED    object\n",
      " 11  DATE_RELEASED    object\n",
      "dtypes: int64(1), object(11)\n",
      "memory usage: 170.2+ MB\n"
     ]
    }
   ],
   "source": [
    "juvenile_history.info()"
   ]
  },
  {
   "cell_type": "code",
   "execution_count": 27,
   "id": "9e7e35a8",
   "metadata": {},
   "outputs": [
    {
     "name": "stdout",
     "output_type": "stream",
     "text": [
      "Since 2008, the EOIR database contains 1,858,773 juvenile records.\n",
      "The dataset includes 1,858,773 unique juvenile case IDs.\n",
      "Median records per case ID: 1.0\n",
      "Average records per case ID: 1.00\n",
      "Cases with only one record: 1858773\n"
     ]
    }
   ],
   "source": [
    "rows = juvenile_history.shape[0]\n",
    "unique_juvenile_case_ids_len = len(juvenile_history[\"IDNCASE\"].unique())\n",
    "case_counts = juvenile_history[\"IDNCASE\"].value_counts()\n",
    "\n",
    "print(f\"Since 2008, the EOIR database contains {rows:,} juvenile records.\")\n",
    "print(\n",
    "    f\"The dataset includes {unique_juvenile_case_ids_len:,} unique juvenile case IDs.\"\n",
    ")\n",
    "print(f\"Median records per case ID: {case_counts.median()}\")\n",
    "print(f\"Average records per case ID: {case_counts.mean():.2f}\")\n",
    "print(f\"Cases with only one record: {(case_counts == 1).sum()}\")"
   ]
  },
  {
   "cell_type": "code",
   "execution_count": 29,
   "id": "c0ac2a54",
   "metadata": {},
   "outputs": [],
   "source": [
    "lookup_juvenile_path = r\"D:\\New folder\\Lookup\\tblLookup_Juvenile.csv\"\n",
    "lookup_juvenile = pd.read_csv(\n",
    "    filepath_or_buffer=lookup_juvenile_path,\n",
    "    delimiter=\"\\t\",\n",
    "    dtype={\"idnJuvenile\": \"category\"},\n",
    ")"
   ]
  },
  {
   "cell_type": "code",
   "execution_count": 30,
   "id": "16d0c599",
   "metadata": {},
   "outputs": [
    {
     "data": {
      "text/html": [
       "<div>\n",
       "<style scoped>\n",
       "    .dataframe tbody tr th:only-of-type {\n",
       "        vertical-align: middle;\n",
       "    }\n",
       "\n",
       "    .dataframe tbody tr th {\n",
       "        vertical-align: top;\n",
       "    }\n",
       "\n",
       "    .dataframe thead th {\n",
       "        text-align: right;\n",
       "    }\n",
       "</style>\n",
       "<table border=\"1\" class=\"dataframe\">\n",
       "  <thead>\n",
       "    <tr style=\"text-align: right;\">\n",
       "      <th></th>\n",
       "      <th>idnJuvenile</th>\n",
       "      <th>strCode</th>\n",
       "      <th>strDescription</th>\n",
       "      <th>DATCREATEDON</th>\n",
       "      <th>DATMODIFIEDON</th>\n",
       "    </tr>\n",
       "  </thead>\n",
       "  <tbody>\n",
       "    <tr>\n",
       "      <th>0</th>\n",
       "      <td>1</td>\n",
       "      <td>J</td>\n",
       "      <td>Juvenile Case</td>\n",
       "      <td>2014-09-06 11:03:55.993</td>\n",
       "      <td>2017-04-07 21:42:18.000</td>\n",
       "    </tr>\n",
       "    <tr>\n",
       "      <th>1</th>\n",
       "      <td>2</td>\n",
       "      <td>J1</td>\n",
       "      <td>Juvenile has been released to guardian or has ...</td>\n",
       "      <td>2014-09-06 11:03:56.033</td>\n",
       "      <td>2017-04-07 21:42:34.000</td>\n",
       "    </tr>\n",
       "    <tr>\n",
       "      <th>2</th>\n",
       "      <td>3</td>\n",
       "      <td>J2</td>\n",
       "      <td>Unaccompanied Juvenile - Asylum</td>\n",
       "      <td>2014-09-06 11:03:56.033</td>\n",
       "      <td>2017-04-07 21:42:41.000</td>\n",
       "    </tr>\n",
       "    <tr>\n",
       "      <th>3</th>\n",
       "      <td>4</td>\n",
       "      <td>UJ</td>\n",
       "      <td>Unaccompanied Juvenile</td>\n",
       "      <td>2014-09-06 11:03:56.033</td>\n",
       "      <td>2014-09-06 17:39:29.000</td>\n",
       "    </tr>\n",
       "    <tr>\n",
       "      <th>4</th>\n",
       "      <td>5</td>\n",
       "      <td>NaN</td>\n",
       "      <td>Not Applicable</td>\n",
       "      <td>2017-10-20 22:32:47.537</td>\n",
       "      <td>2017-10-20 22:32:47.537</td>\n",
       "    </tr>\n",
       "    <tr>\n",
       "      <th>5</th>\n",
       "      <td>6</td>\n",
       "      <td>AJ</td>\n",
       "      <td>Accompanied Juvenile</td>\n",
       "      <td>2017-10-20 22:32:47.537</td>\n",
       "      <td>2017-10-20 22:32:47.537</td>\n",
       "    </tr>\n",
       "  </tbody>\n",
       "</table>\n",
       "</div>"
      ],
      "text/plain": [
       "  idnJuvenile strCode                                     strDescription  \\\n",
       "0           1       J                                      Juvenile Case   \n",
       "1           2      J1  Juvenile has been released to guardian or has ...   \n",
       "2           3      J2                    Unaccompanied Juvenile - Asylum   \n",
       "3           4      UJ                             Unaccompanied Juvenile   \n",
       "4           5     NaN                                     Not Applicable   \n",
       "5           6      AJ                               Accompanied Juvenile   \n",
       "\n",
       "              DATCREATEDON            DATMODIFIEDON  \n",
       "0  2014-09-06 11:03:55.993  2017-04-07 21:42:18.000  \n",
       "1  2014-09-06 11:03:56.033  2017-04-07 21:42:34.000  \n",
       "2  2014-09-06 11:03:56.033  2017-04-07 21:42:41.000  \n",
       "3  2014-09-06 11:03:56.033  2014-09-06 17:39:29.000  \n",
       "4  2017-10-20 22:32:47.537  2017-10-20 22:32:47.537  \n",
       "5  2017-10-20 22:32:47.537  2017-10-20 22:32:47.537  "
      ]
     },
     "metadata": {},
     "output_type": "display_data"
    }
   ],
   "source": [
    "display(lookup_juvenile)"
   ]
  },
  {
   "cell_type": "code",
   "execution_count": null,
   "id": "253dfdad",
   "metadata": {},
   "outputs": [],
   "source": [
    "missing_count = juvenile_history[\"\"].isna().sum()\n",
    "print(f\"Missing idnJuvenile values: {missing_count}\")"
   ]
  },
  {
   "cell_type": "code",
   "execution_count": null,
   "id": "831a08fb",
   "metadata": {},
   "outputs": [],
   "source": [
    "juvenile_history_with_lookup = juvenile_history.merge(\n",
    "    lookup_juvenile, how=\"left\", on=\"idnJuvenile\"\n",
    ")"
   ]
  },
  {
   "cell_type": "code",
   "execution_count": null,
   "id": "000b3c85",
   "metadata": {},
   "outputs": [],
   "source": [
    "juvenile_history_with_lookup.columns"
   ]
  },
  {
   "cell_type": "code",
   "execution_count": 16,
   "id": "9c64f54e",
   "metadata": {},
   "outputs": [],
   "source": [
    "juvenile_history_with_lookup = juvenile_history_with_lookup[\n",
    "    [\"idnJuvenileHistory\", \"idnCase\", \"idnProceeding\", \"strCode\", \"strDescription\"]\n",
    "]"
   ]
  },
  {
   "cell_type": "code",
   "execution_count": 17,
   "id": "39ee4181",
   "metadata": {},
   "outputs": [
    {
     "name": "stdout",
     "output_type": "stream",
     "text": [
      "<class 'pandas.core.frame.DataFrame'>\n",
      "RangeIndex: 2857093 entries, 0 to 2857092\n",
      "Data columns (total 5 columns):\n",
      " #   Column              Dtype \n",
      "---  ------              ----- \n",
      " 0   idnJuvenileHistory  Int64 \n",
      " 1   idnCase             Int64 \n",
      " 2   idnProceeding       Int64 \n",
      " 3   strCode             object\n",
      " 4   strDescription      object\n",
      "dtypes: Int64(3), object(2)\n",
      "memory usage: 117.2+ MB\n"
     ]
    }
   ],
   "source": [
    "juvenile_history_with_lookup.info()"
   ]
  },
  {
   "cell_type": "code",
   "execution_count": 18,
   "id": "aac1a38d",
   "metadata": {},
   "outputs": [
    {
     "data": {
      "text/html": [
       "<div>\n",
       "<style scoped>\n",
       "    .dataframe tbody tr th:only-of-type {\n",
       "        vertical-align: middle;\n",
       "    }\n",
       "\n",
       "    .dataframe tbody tr th {\n",
       "        vertical-align: top;\n",
       "    }\n",
       "\n",
       "    .dataframe thead th {\n",
       "        text-align: right;\n",
       "    }\n",
       "</style>\n",
       "<table border=\"1\" class=\"dataframe\">\n",
       "  <thead>\n",
       "    <tr style=\"text-align: right;\">\n",
       "      <th></th>\n",
       "      <th>idnJuvenileHistory</th>\n",
       "      <th>idnCase</th>\n",
       "      <th>idnProceeding</th>\n",
       "      <th>strCode</th>\n",
       "      <th>strDescription</th>\n",
       "    </tr>\n",
       "  </thead>\n",
       "  <tbody>\n",
       "    <tr>\n",
       "      <th>0</th>\n",
       "      <td>5</td>\n",
       "      <td>2046990</td>\n",
       "      <td>3200129</td>\n",
       "      <td>J</td>\n",
       "      <td>Juvenile Case</td>\n",
       "    </tr>\n",
       "    <tr>\n",
       "      <th>1</th>\n",
       "      <td>6</td>\n",
       "      <td>2047179</td>\n",
       "      <td>3199488</td>\n",
       "      <td>J</td>\n",
       "      <td>Juvenile Case</td>\n",
       "    </tr>\n",
       "    <tr>\n",
       "      <th>2</th>\n",
       "      <td>7</td>\n",
       "      <td>2047179</td>\n",
       "      <td>3199489</td>\n",
       "      <td>J</td>\n",
       "      <td>Juvenile Case</td>\n",
       "    </tr>\n",
       "    <tr>\n",
       "      <th>3</th>\n",
       "      <td>8</td>\n",
       "      <td>2047199</td>\n",
       "      <td>3199497</td>\n",
       "      <td>J</td>\n",
       "      <td>Juvenile Case</td>\n",
       "    </tr>\n",
       "    <tr>\n",
       "      <th>4</th>\n",
       "      <td>9</td>\n",
       "      <td>2047199</td>\n",
       "      <td>3199498</td>\n",
       "      <td>J</td>\n",
       "      <td>Juvenile Case</td>\n",
       "    </tr>\n",
       "  </tbody>\n",
       "</table>\n",
       "</div>"
      ],
      "text/plain": [
       "   idnJuvenileHistory  idnCase  idnProceeding strCode strDescription\n",
       "0                   5  2046990        3200129       J  Juvenile Case\n",
       "1                   6  2047179        3199488       J  Juvenile Case\n",
       "2                   7  2047179        3199489       J  Juvenile Case\n",
       "3                   8  2047199        3199497       J  Juvenile Case\n",
       "4                   9  2047199        3199498       J  Juvenile Case"
      ]
     },
     "execution_count": 18,
     "metadata": {},
     "output_type": "execute_result"
    }
   ],
   "source": [
    "juvenile_history_with_lookup.head()"
   ]
  },
  {
   "cell_type": "code",
   "execution_count": 19,
   "id": "9f68eab8",
   "metadata": {},
   "outputs": [],
   "source": [
    "juvenile_history_with_lookup[\"strCode\"] = juvenile_history_with_lookup[\n",
    "    \"strCode\"\n",
    "].fillna(\"Unknown\")\n",
    "juvenile_history_with_lookup[\"strDescription\"] = juvenile_history_with_lookup[\n",
    "    \"strDescription\"\n",
    "].fillna(\"Not Applicable\")"
   ]
  },
  {
   "cell_type": "code",
   "execution_count": 20,
   "id": "e321b254",
   "metadata": {},
   "outputs": [
    {
     "data": {
      "text/plain": [
       "strCode\n",
       "Unknown    1883374\n",
       "UJ          452017\n",
       "J           233667\n",
       "AJ          227915\n",
       "J1           59386\n",
       "J2             734\n",
       "Name: count, dtype: int64"
      ]
     },
     "execution_count": 20,
     "metadata": {},
     "output_type": "execute_result"
    }
   ],
   "source": [
    "juvenile_history_with_lookup[\"strCode\"].value_counts(dropna=False)"
   ]
  },
  {
   "cell_type": "markdown",
   "id": "11894351",
   "metadata": {},
   "source": [
    "The plot below shows the frequency of juvenile types using the `strCode` field from the `juvenile_history_with_lookup` dataset.  \n",
    "Missing or unmatched `idnJuvenile` values were labeled as `\"Unknown\"` to ensure the dataset is complete and all records are represented.\n",
    "\n",
    "A **logarithmic scale** is applied to the y-axis because the data is highly imbalanced — for example, the `\"Unknown\"` category includes over 1.8 million records, while `\"AJ\"` has only 734.  \n",
    "Using a log scale allows smaller categories to remain visible and interpretable without compressing the larger bars too severely.\n",
    "\n",
    "Actual record counts are displayed above each bar for clarity."
   ]
  },
  {
   "cell_type": "code",
   "execution_count": 21,
   "id": "dd1dc016",
   "metadata": {},
   "outputs": [
    {
     "data": {
      "image/png": "[encoded data removed]",
      "text/plain": [
       "<Figure size 800x500 with 1 Axes>"
      ]
     },
     "metadata": {},
     "output_type": "display_data"
    }
   ],
   "source": [
    "plt.figure(figsize=(8, 5))\n",
    "ax = sns.countplot(data=juvenile_history_with_lookup, x=\"strCode\")\n",
    "\n",
    "ax.set_yscale(\"log\")\n",
    "ax.set_title(\"Distribution of Juvenile Types (log scale)\")\n",
    "ax.set_xlabel(\"Juvenile Type Code\")\n",
    "ax.set_ylabel(\"Record Count (log scale)\")\n",
    "\n",
    "for container in ax.containers:\n",
    "    ax.bar_label(\n",
    "        container,\n",
    "        labels=[f\"{int(v):,}\" for v in container.datavalues],\n",
    "        fontsize=10,\n",
    "        padding=3,\n",
    "    )\n",
    "\n",
    "plt.tight_layout()\n",
    "plt.show()"
   ]
  },
  {
   "cell_type": "markdown",
   "id": "7ee7a5f1",
   "metadata": {},
   "source": [
    "### Cases Table\n",
    "\n",
    "The `Cases` table has already been cleaned and filtered to include only **juvenile cases**, based on a prior match using the `idnCase` field.  \n",
    "Originally, the raw dataset contained over **11.7 million** records; after filtering, only juvenile-related entries were retained.\n",
    "\n",
    "The dataset includes the following columns:\n",
    "\n",
    "- `IDNCASE` – Primary key identifying each case\n",
    "- `NAT` – Nationality of the alien\n",
    "- `LANG` – Primary language spoken by the alien\n",
    "- `CUSTODY` – Current custody status of the alien\n",
    "- `CASE_TYPE` – Type of immigration case\n",
    "- `LATEST_HEARING` – Date of the latest appearance before an immigration judge\n",
    "- `LATEST_CAL_TYPE` – Type of hearing scheduled (`I` for individual, `M` for master)\n",
    "- `DATE_OF_ENTRY` – Date the alien entered the United States\n",
    "- `C_BIRTHDATE` – Birthdate of the alien\n",
    "- `GENDER` – Sex of the alien\n",
    "- `DATE_DETAINED` – Date the alien was detained\n",
    "- `DATE_RELEASED` – Actual release date of the detained alien\n",
    "- `DETENTION_DATE` – Date the alien entered the current detention facility\n",
    "\n",
    "This table serves as the core source for analyzing case-level demographics, legal status, and custody timelines for juvenile immigration cases."
   ]
  },
  {
   "cell_type": "code",
   "execution_count": 3,
   "id": "8d49865b",
   "metadata": {},
   "outputs": [],
   "source": [
    "cases_path = \"D:/Cleaned-data/Juvenile_cases_cleaned.csv/Juvenile_cases_cleaned.csv\"\n",
    "\n",
    "# the dtype schema below was pulled directly from the 02_clean_core_tables.ipynb notebook in the 2_data_preparation/notebooks/ folder\n",
    "dtype = {\n",
    "    \"IDNCASE\": \"Int64\",\n",
    "    \"NAT\": \"category\",\n",
    "    \"LANG\": \"category\",\n",
    "    \"CUSTODY\": \"category\",\n",
    "    \"CASE_TYPE\": \"category\",\n",
    "    \"LATEST_CAL_TYPE\": \"category\",\n",
    "    \"GENDER\": \"category\",\n",
    "}\n",
    "\n",
    "parse_dates = [\n",
    "    \"LATEST_HEARING\",\n",
    "    \"DATE_OF_ENTRY\",\n",
    "    \"C_BIRTHDATE\",\n",
    "    \"DATE_DETAINED\",\n",
    "    \"DATE_RELEASED\",\n",
    "]"
   ]
  },
  {
   "cell_type": "code",
   "execution_count": 6,
   "id": "e865a48f",
   "metadata": {},
   "outputs": [],
   "source": [
    "cases = pd.read_csv(\n",
    "    filepath_or_buffer=cases_path,\n",
    "    dtype=dtype,\n",
    "    parse_dates=parse_dates,\n",
    "    low_memory=False,\n",
    ")"
   ]
  },
  {
   "cell_type": "code",
   "execution_count": 7,
   "id": "e162cb9b",
   "metadata": {},
   "outputs": [
    {
     "data": {
      "text/plain": [
       "(1858773, 12)"
      ]
     },
     "execution_count": 7,
     "metadata": {},
     "output_type": "execute_result"
    }
   ],
   "source": [
    "cases.shape"
   ]
  },
  {
   "cell_type": "code",
   "execution_count": 8,
   "id": "ffd2654e",
   "metadata": {},
   "outputs": [
    {
     "data": {
      "text/html": [
       "<div>\n",
       "<style scoped>\n",
       "    .dataframe tbody tr th:only-of-type {\n",
       "        vertical-align: middle;\n",
       "    }\n",
       "\n",
       "    .dataframe tbody tr th {\n",
       "        vertical-align: top;\n",
       "    }\n",
       "\n",
       "    .dataframe thead th {\n",
       "        text-align: right;\n",
       "    }\n",
       "</style>\n",
       "<table border=\"1\" class=\"dataframe\">\n",
       "  <thead>\n",
       "    <tr style=\"text-align: right;\">\n",
       "      <th></th>\n",
       "      <th>IDNCASE</th>\n",
       "      <th>NAT</th>\n",
       "      <th>LANG</th>\n",
       "      <th>CUSTODY</th>\n",
       "      <th>CASE_TYPE</th>\n",
       "      <th>LATEST_HEARING</th>\n",
       "      <th>LATEST_CAL_TYPE</th>\n",
       "      <th>DATE_OF_ENTRY</th>\n",
       "      <th>C_BIRTHDATE</th>\n",
       "      <th>GENDER</th>\n",
       "      <th>DATE_DETAINED</th>\n",
       "      <th>DATE_RELEASED</th>\n",
       "    </tr>\n",
       "  </thead>\n",
       "  <tbody>\n",
       "    <tr>\n",
       "      <th>0</th>\n",
       "      <td>13758313</td>\n",
       "      <td>GT</td>\n",
       "      <td>SP</td>\n",
       "      <td>N</td>\n",
       "      <td>RMV</td>\n",
       "      <td>NaT</td>\n",
       "      <td>NaN</td>\n",
       "      <td>2024-01-21</td>\n",
       "      <td>2008-02-01</td>\n",
       "      <td>F</td>\n",
       "      <td>NaN</td>\n",
       "      <td>NaN</td>\n",
       "    </tr>\n",
       "    <tr>\n",
       "      <th>1</th>\n",
       "      <td>14870586</td>\n",
       "      <td>MX</td>\n",
       "      <td>SP</td>\n",
       "      <td>D</td>\n",
       "      <td>RFR</td>\n",
       "      <td>2025-02-04</td>\n",
       "      <td>I</td>\n",
       "      <td>NaN</td>\n",
       "      <td>NaT</td>\n",
       "      <td>NaN</td>\n",
       "      <td>2025-01-22</td>\n",
       "      <td>NaN</td>\n",
       "    </tr>\n",
       "    <tr>\n",
       "      <th>2</th>\n",
       "      <td>14870588</td>\n",
       "      <td>GT</td>\n",
       "      <td>SP</td>\n",
       "      <td>R</td>\n",
       "      <td>WHO</td>\n",
       "      <td>2025-07-31</td>\n",
       "      <td>M</td>\n",
       "      <td>NaN</td>\n",
       "      <td>1997-06-01</td>\n",
       "      <td>F</td>\n",
       "      <td>2025-01-29</td>\n",
       "      <td>2025-02-06 00:00:00.000</td>\n",
       "    </tr>\n",
       "    <tr>\n",
       "      <th>3</th>\n",
       "      <td>13816559</td>\n",
       "      <td>MX</td>\n",
       "      <td>SP</td>\n",
       "      <td>N</td>\n",
       "      <td>RMV</td>\n",
       "      <td>2027-02-18</td>\n",
       "      <td>I</td>\n",
       "      <td>NaN</td>\n",
       "      <td>2020-05-01</td>\n",
       "      <td>M</td>\n",
       "      <td>NaN</td>\n",
       "      <td>NaN</td>\n",
       "    </tr>\n",
       "    <tr>\n",
       "      <th>4</th>\n",
       "      <td>13816560</td>\n",
       "      <td>MX</td>\n",
       "      <td>SP</td>\n",
       "      <td>N</td>\n",
       "      <td>RMV</td>\n",
       "      <td>2027-02-18</td>\n",
       "      <td>I</td>\n",
       "      <td>NaN</td>\n",
       "      <td>2021-05-01</td>\n",
       "      <td>F</td>\n",
       "      <td>NaN</td>\n",
       "      <td>NaN</td>\n",
       "    </tr>\n",
       "  </tbody>\n",
       "</table>\n",
       "</div>"
      ],
      "text/plain": [
       "    IDNCASE NAT LANG CUSTODY CASE_TYPE LATEST_HEARING LATEST_CAL_TYPE  \\\n",
       "0  13758313  GT   SP       N       RMV            NaT             NaN   \n",
       "1  14870586  MX   SP       D       RFR     2025-02-04               I   \n",
       "2  14870588  GT   SP       R       WHO     2025-07-31               M   \n",
       "3  13816559  MX   SP       N       RMV     2027-02-18               I   \n",
       "4  13816560  MX   SP       N       RMV     2027-02-18               I   \n",
       "\n",
       "  DATE_OF_ENTRY C_BIRTHDATE GENDER DATE_DETAINED            DATE_RELEASED  \n",
       "0    2024-01-21  2008-02-01      F           NaN                      NaN  \n",
       "1           NaN         NaT    NaN    2025-01-22                      NaN  \n",
       "2           NaN  1997-06-01      F    2025-01-29  2025-02-06 00:00:00.000  \n",
       "3           NaN  2020-05-01      M           NaN                      NaN  \n",
       "4           NaN  2021-05-01      F           NaN                      NaN  "
      ]
     },
     "execution_count": 8,
     "metadata": {},
     "output_type": "execute_result"
    }
   ],
   "source": [
    "cases.head()"
   ]
  },
  {
   "cell_type": "code",
   "execution_count": 9,
   "id": "b85a8254",
   "metadata": {},
   "outputs": [
    {
     "name": "stdout",
     "output_type": "stream",
     "text": [
      "<class 'pandas.core.frame.DataFrame'>\n",
      "RangeIndex: 1858773 entries, 0 to 1858772\n",
      "Data columns (total 12 columns):\n",
      " #   Column           Dtype         \n",
      "---  ------           -----         \n",
      " 0   IDNCASE          Int64         \n",
      " 1   NAT              category      \n",
      " 2   LANG             category      \n",
      " 3   CUSTODY          category      \n",
      " 4   CASE_TYPE        category      \n",
      " 5   LATEST_HEARING   datetime64[ns]\n",
      " 6   LATEST_CAL_TYPE  category      \n",
      " 7   DATE_OF_ENTRY    object        \n",
      " 8   C_BIRTHDATE      datetime64[ns]\n",
      " 9   GENDER           category      \n",
      " 10  DATE_DETAINED    object        \n",
      " 11  DATE_RELEASED    object        \n",
      "dtypes: Int64(1), category(6), datetime64[ns](2), object(3)\n",
      "memory usage: 101.1+ MB\n"
     ]
    }
   ],
   "source": [
    "cases.info()"
   ]
  },
  {
   "cell_type": "markdown",
   "id": "82648eca",
   "metadata": {},
   "source": [
    "After using `parse_dates`, some date columns can remain as strings. The following steps address that:\n",
    "\n",
    "- Strip leading/trailing whitespace  \n",
    "- Convert to `datetime64[ns]`, coercing unparseable entries to `NaT` "
   ]
  },
  {
   "cell_type": "code",
   "execution_count": 10,
   "id": "f7e47adc",
   "metadata": {},
   "outputs": [],
   "source": [
    "date_cols = [\"DATE_OF_ENTRY\", \"DATE_DETAINED\", \"DATE_RELEASED\"]\n",
    "\n",
    "for col in date_cols:\n",
    "    cases[col] = pd.to_datetime(\n",
    "        cases[col].str.strip(),\n",
    "        errors=\"coerce\",\n",
    "    )"
   ]
  },
  {
   "cell_type": "code",
   "execution_count": 11,
   "id": "eed40306",
   "metadata": {},
   "outputs": [
    {
     "data": {
      "text/html": [
       "<div>\n",
       "<style scoped>\n",
       "    .dataframe tbody tr th:only-of-type {\n",
       "        vertical-align: middle;\n",
       "    }\n",
       "\n",
       "    .dataframe tbody tr th {\n",
       "        vertical-align: top;\n",
       "    }\n",
       "\n",
       "    .dataframe thead th {\n",
       "        text-align: right;\n",
       "    }\n",
       "</style>\n",
       "<table border=\"1\" class=\"dataframe\">\n",
       "  <thead>\n",
       "    <tr style=\"text-align: right;\">\n",
       "      <th></th>\n",
       "      <th>Missing Count</th>\n",
       "      <th>Missing %</th>\n",
       "    </tr>\n",
       "  </thead>\n",
       "  <tbody>\n",
       "    <tr>\n",
       "      <th>DATE_RELEASED</th>\n",
       "      <td>1411890</td>\n",
       "      <td>75.96</td>\n",
       "    </tr>\n",
       "    <tr>\n",
       "      <th>DATE_DETAINED</th>\n",
       "      <td>1090739</td>\n",
       "      <td>58.68</td>\n",
       "    </tr>\n",
       "    <tr>\n",
       "      <th>DATE_OF_ENTRY</th>\n",
       "      <td>493393</td>\n",
       "      <td>26.54</td>\n",
       "    </tr>\n",
       "    <tr>\n",
       "      <th>GENDER</th>\n",
       "      <td>488542</td>\n",
       "      <td>26.28</td>\n",
       "    </tr>\n",
       "    <tr>\n",
       "      <th>C_BIRTHDATE</th>\n",
       "      <td>446731</td>\n",
       "      <td>24.03</td>\n",
       "    </tr>\n",
       "    <tr>\n",
       "      <th>LATEST_CAL_TYPE</th>\n",
       "      <td>303570</td>\n",
       "      <td>16.33</td>\n",
       "    </tr>\n",
       "    <tr>\n",
       "      <th>LATEST_HEARING</th>\n",
       "      <td>296822</td>\n",
       "      <td>15.97</td>\n",
       "    </tr>\n",
       "    <tr>\n",
       "      <th>NAT</th>\n",
       "      <td>3057</td>\n",
       "      <td>0.16</td>\n",
       "    </tr>\n",
       "    <tr>\n",
       "      <th>LANG</th>\n",
       "      <td>1692</td>\n",
       "      <td>0.09</td>\n",
       "    </tr>\n",
       "    <tr>\n",
       "      <th>CUSTODY</th>\n",
       "      <td>4</td>\n",
       "      <td>0.00</td>\n",
       "    </tr>\n",
       "    <tr>\n",
       "      <th>CASE_TYPE</th>\n",
       "      <td>4</td>\n",
       "      <td>0.00</td>\n",
       "    </tr>\n",
       "    <tr>\n",
       "      <th>IDNCASE</th>\n",
       "      <td>0</td>\n",
       "      <td>0.00</td>\n",
       "    </tr>\n",
       "  </tbody>\n",
       "</table>\n",
       "</div>"
      ],
      "text/plain": [
       "                 Missing Count  Missing %\n",
       "DATE_RELEASED          1411890      75.96\n",
       "DATE_DETAINED          1090739      58.68\n",
       "DATE_OF_ENTRY           493393      26.54\n",
       "GENDER                  488542      26.28\n",
       "C_BIRTHDATE             446731      24.03\n",
       "LATEST_CAL_TYPE         303570      16.33\n",
       "LATEST_HEARING          296822      15.97\n",
       "NAT                       3057       0.16\n",
       "LANG                      1692       0.09\n",
       "CUSTODY                      4       0.00\n",
       "CASE_TYPE                    4       0.00\n",
       "IDNCASE                      0       0.00"
      ]
     },
     "metadata": {},
     "output_type": "display_data"
    }
   ],
   "source": [
    "null_counts = cases.isna().sum()\n",
    "percent_missing = (null_counts / len(cases)) * 100\n",
    "\n",
    "missing_summary = pd.DataFrame(\n",
    "    {\"Missing Count\": null_counts, \"Missing %\": percent_missing.round(2)}\n",
    ").sort_values(by=\"Missing Count\", ascending=False)\n",
    "\n",
    "display(missing_summary)"
   ]
  },
  {
   "cell_type": "code",
   "execution_count": 12,
   "id": "12cbafa8",
   "metadata": {},
   "outputs": [
    {
     "data": {
      "text/html": [
       "<div>\n",
       "<style scoped>\n",
       "    .dataframe tbody tr th:only-of-type {\n",
       "        vertical-align: middle;\n",
       "    }\n",
       "\n",
       "    .dataframe tbody tr th {\n",
       "        vertical-align: top;\n",
       "    }\n",
       "\n",
       "    .dataframe thead th {\n",
       "        text-align: right;\n",
       "    }\n",
       "</style>\n",
       "<table border=\"1\" class=\"dataframe\">\n",
       "  <thead>\n",
       "    <tr style=\"text-align: right;\">\n",
       "      <th></th>\n",
       "      <th>GENDER</th>\n",
       "      <th>COUNT</th>\n",
       "      <th>RATIO (%)</th>\n",
       "    </tr>\n",
       "  </thead>\n",
       "  <tbody>\n",
       "    <tr>\n",
       "      <th>0</th>\n",
       "      <td>M</td>\n",
       "      <td>875507</td>\n",
       "      <td>64.0</td>\n",
       "    </tr>\n",
       "    <tr>\n",
       "      <th>1</th>\n",
       "      <td>F</td>\n",
       "      <td>494724</td>\n",
       "      <td>36.0</td>\n",
       "    </tr>\n",
       "  </tbody>\n",
       "</table>\n",
       "</div>"
      ],
      "text/plain": [
       "  GENDER   COUNT  RATIO (%)\n",
       "0      M  875507       64.0\n",
       "1      F  494724       36.0"
      ]
     },
     "metadata": {},
     "output_type": "display_data"
    }
   ],
   "source": [
    "gender = cases[\"GENDER\"].value_counts().reset_index()\n",
    "gender.columns = [\"GENDER\", \"COUNT\"]\n",
    "\n",
    "gender[\"RATIO (%)\"] = (gender[\"COUNT\"] / gender[\"COUNT\"].sum()) * 100\n",
    "gender[\"RATIO (%)\"] = gender[\"RATIO (%)\"].round()\n",
    "\n",
    "display(gender)"
   ]
  },
  {
   "cell_type": "code",
   "execution_count": 13,
   "id": "09289a09",
   "metadata": {},
   "outputs": [
    {
     "data": {
      "image/png": "[encoded data removed]",
      "text/plain": [
       "<Figure size 640x480 with 1 Axes>"
      ]
     },
     "metadata": {},
     "output_type": "display_data"
    }
   ],
   "source": [
    "sns.barplot(data=gender, x=\"GENDER\", y=\"COUNT\")\n",
    "plt.title(\"Distribution of Gender\")\n",
    "plt.xlabel(\"Gender\")\n",
    "plt.ylabel(\"Count\")\n",
    "plt.show()"
   ]
  },
  {
   "cell_type": "code",
   "execution_count": 14,
   "id": "5cc142d5",
   "metadata": {},
   "outputs": [
    {
     "data": {
      "text/plain": [
       "NAT\n",
       "GT    428582\n",
       "HO    380966\n",
       "MX    273583\n",
       "ES    215345\n",
       "CU     62003\n",
       "NU     53242\n",
       "BR     52374\n",
       "VE     51313\n",
       "CO     51017\n",
       "EC     37500\n",
       "IN     35092\n",
       "HA     22693\n",
       "PE     21973\n",
       "DR     16895\n",
       "CH     15869\n",
       "TU     12286\n",
       "RU     12263\n",
       "BG      6912\n",
       "JM      5637\n",
       "RO      5187\n",
       "Name: count, dtype: int64"
      ]
     },
     "execution_count": 14,
     "metadata": {},
     "output_type": "execute_result"
    }
   ],
   "source": [
    "cases[\"NAT\"].value_counts().head(20)"
   ]
  },
  {
   "cell_type": "code",
   "execution_count": 15,
   "id": "7729c5bc",
   "metadata": {},
   "outputs": [
    {
     "data": {
      "text/plain": [
       "LANG\n",
       "SP     1504441\n",
       "ENG      80068\n",
       "POR      45998\n",
       "PUN      21887\n",
       "CRE      19854\n",
       "SP       17525\n",
       "RUS      15194\n",
       "MAN      14250\n",
       "TU       11688\n",
       "MAM      11365\n",
       "QUI       8904\n",
       "UNK       8030\n",
       "HIN       7631\n",
       "KON       6442\n",
       "BEN       6391\n",
       "KEK       5763\n",
       "AR        4825\n",
       "UZB       3454\n",
       "FR        3442\n",
       "ARM       3338\n",
       "Name: count, dtype: int64"
      ]
     },
     "execution_count": 15,
     "metadata": {},
     "output_type": "execute_result"
    }
   ],
   "source": [
    "cases[\"LANG\"].value_counts().head(20)"
   ]
  },
  {
   "cell_type": "markdown",
   "id": "dc952ac3",
   "metadata": {},
   "source": [
    "C_BIRTHDATE originally lacked day-level precision and was defaulted to the first day of the month during datetime conversion."
   ]
  },
  {
   "cell_type": "code",
   "execution_count": 16,
   "id": "66d68865",
   "metadata": {},
   "outputs": [
    {
     "data": {
      "text/html": [
       "<div>\n",
       "<style scoped>\n",
       "    .dataframe tbody tr th:only-of-type {\n",
       "        vertical-align: middle;\n",
       "    }\n",
       "\n",
       "    .dataframe tbody tr th {\n",
       "        vertical-align: top;\n",
       "    }\n",
       "\n",
       "    .dataframe thead th {\n",
       "        text-align: right;\n",
       "    }\n",
       "</style>\n",
       "<table border=\"1\" class=\"dataframe\">\n",
       "  <thead>\n",
       "    <tr style=\"text-align: right;\">\n",
       "      <th></th>\n",
       "      <th>DATE_OF_ENTRY</th>\n",
       "      <th>C_BIRTHDATE</th>\n",
       "    </tr>\n",
       "  </thead>\n",
       "  <tbody>\n",
       "    <tr>\n",
       "      <th>0</th>\n",
       "      <td>2024-01-21</td>\n",
       "      <td>2008-02-01</td>\n",
       "    </tr>\n",
       "    <tr>\n",
       "      <th>1</th>\n",
       "      <td>NaT</td>\n",
       "      <td>NaT</td>\n",
       "    </tr>\n",
       "    <tr>\n",
       "      <th>2</th>\n",
       "      <td>NaT</td>\n",
       "      <td>1997-06-01</td>\n",
       "    </tr>\n",
       "    <tr>\n",
       "      <th>3</th>\n",
       "      <td>NaT</td>\n",
       "      <td>2020-05-01</td>\n",
       "    </tr>\n",
       "    <tr>\n",
       "      <th>4</th>\n",
       "      <td>NaT</td>\n",
       "      <td>2021-05-01</td>\n",
       "    </tr>\n",
       "    <tr>\n",
       "      <th>...</th>\n",
       "      <td>...</td>\n",
       "      <td>...</td>\n",
       "    </tr>\n",
       "    <tr>\n",
       "      <th>1858768</th>\n",
       "      <td>2019-06-03</td>\n",
       "      <td>2004-11-01</td>\n",
       "    </tr>\n",
       "    <tr>\n",
       "      <th>1858769</th>\n",
       "      <td>2018-04-03</td>\n",
       "      <td>NaT</td>\n",
       "    </tr>\n",
       "    <tr>\n",
       "      <th>1858770</th>\n",
       "      <td>2014-03-24</td>\n",
       "      <td>2003-11-01</td>\n",
       "    </tr>\n",
       "    <tr>\n",
       "      <th>1858771</th>\n",
       "      <td>2023-04-23</td>\n",
       "      <td>1993-03-01</td>\n",
       "    </tr>\n",
       "    <tr>\n",
       "      <th>1858772</th>\n",
       "      <td>NaT</td>\n",
       "      <td>1987-08-01</td>\n",
       "    </tr>\n",
       "  </tbody>\n",
       "</table>\n",
       "<p>1858773 rows × 2 columns</p>\n",
       "</div>"
      ],
      "text/plain": [
       "        DATE_OF_ENTRY C_BIRTHDATE\n",
       "0          2024-01-21  2008-02-01\n",
       "1                 NaT         NaT\n",
       "2                 NaT  1997-06-01\n",
       "3                 NaT  2020-05-01\n",
       "4                 NaT  2021-05-01\n",
       "...               ...         ...\n",
       "1858768    2019-06-03  2004-11-01\n",
       "1858769    2018-04-03         NaT\n",
       "1858770    2014-03-24  2003-11-01\n",
       "1858771    2023-04-23  1993-03-01\n",
       "1858772           NaT  1987-08-01\n",
       "\n",
       "[1858773 rows x 2 columns]"
      ]
     },
     "execution_count": 16,
     "metadata": {},
     "output_type": "execute_result"
    }
   ],
   "source": [
    "cases[[\"DATE_OF_ENTRY\", \"C_BIRTHDATE\"]]"
   ]
  },
  {
   "cell_type": "markdown",
   "id": "0c4a82f6",
   "metadata": {},
   "source": [
    "#### The calculated mean, median, minimum, and standard deviation of age at entry were within expected ranges; however, the maximum age was 118 years, indicating a likely error in the recoding of birth dates or entry dates for one or more juveniles.\n"
   ]
  },
  {
   "cell_type": "code",
   "execution_count": 25,
   "id": "b5e9be54",
   "metadata": {
    "vscode": {
     "languageId": "ruby"
    }
   },
   "outputs": [
    {
     "name": "stdout",
     "output_type": "stream",
     "text": [
      "Mean age at entry: 19.68 years\n",
      "Median age at entry: 17.14 years\n",
      "Min age at entry: 0.00 years\n",
      "Max age at entry: 118.00 years\n",
      "Standard deviation: 12.15 years\n"
     ]
    }
   ],
   "source": [
    "# Drop rows with missing birthdate or entry date\n",
    "df_cleaned = cases.dropna(subset=[\"C_BIRTHDATE\", \"DATE_OF_ENTRY\"]).copy()\n",
    "\n",
    "# Calculate age at entry\n",
    "df_cleaned[\"AGE_AT_ENTRY\"] = (df_cleaned[\"DATE_OF_ENTRY\"] - df_cleaned[\"C_BIRTHDATE\"]).dt.days / 365.25\n",
    "\n",
    "# Filter out negative ages\n",
    "df_cleaned = df_cleaned[df_cleaned[\"AGE_AT_ENTRY\"] >= 0]\n",
    "\n",
    "# Calculate statistics from the cleaned AGE_AT_ENTRY column\n",
    "mean_age = df_cleaned[\"AGE_AT_ENTRY\"].mean()\n",
    "median_age = df_cleaned[\"AGE_AT_ENTRY\"].median()\n",
    "min_age = df_cleaned[\"AGE_AT_ENTRY\"].min()\n",
    "max_age = df_cleaned[\"AGE_AT_ENTRY\"].max()\n",
    "std_age = df_cleaned[\"AGE_AT_ENTRY\"].std()\n",
    "\n",
    "# Print results\n",
    "print(f\"Mean age at entry: {mean_age:.2f} years\")\n",
    "print(f\"Median age at entry: {median_age:.2f} years\")\n",
    "print(f\"Min age at entry: {min_age:.2f} years\")\n",
    "print(f\"Max age at entry: {max_age:.2f} years\")\n",
    "print(f\"Standard deviation: {std_age:.2f} years\")\n"
   ]
  },
  {
   "cell_type": "markdown",
   "id": "90d17524",
   "metadata": {},
   "source": [
    "### PLot of age at entry "
   ]
  },
  {
   "cell_type": "code",
   "execution_count": 32,
   "id": "ee03e530",
   "metadata": {},
   "outputs": [
    {
     "data": {
      "image/png": "[encoded data removed]",
      "text/plain": [
       "<Figure size 1000x600 with 1 Axes>"
      ]
     },
     "metadata": {},
     "output_type": "display_data"
    }
   ],
   "source": [
    "import numpy as np\n",
    "import matplotlib.pyplot as plt\n",
    "\n",
    "# Ensure dates are valid and calculate AGE_AT_ENTRY\n",
    "df_cleaned = cases.dropna(subset=[\"C_BIRTHDATE\", \"DATE_OF_ENTRY\"]).copy()\n",
    "df_cleaned[\"AGE_AT_ENTRY\"] = (\n",
    "    df_cleaned[\"DATE_OF_ENTRY\"] - df_cleaned[\"C_BIRTHDATE\"]\n",
    ").dt.days / 365.25\n",
    "# df_cleaned = df_cleaned[df_cleaned[\"AGE_AT_ENTRY\"] < 21]\n",
    "df_cleaned_error = df_cleaned[df_cleaned[\"AGE_AT_ENTRY\"] > 0]\n",
    "# Define bins\n",
    "step = 5\n",
    "max_age = df_cleaned[\"AGE_AT_ENTRY\"].max()\n",
    "bins = np.arange(0, np.ceil(max_age) + step, step)\n",
    "\n",
    "# Plot histogram\n",
    "plt.figure(figsize=(10, 6))\n",
    "# plt.hist(df_cleaned[\"AGE_AT_ENTRY\"], bins=bins, edgecolor=\"black\")\n",
    "plt.hist(df_cleaned_error[\"AGE_AT_ENTRY\"], bins=bins, edgecolor=\"black\")\n",
    "# Customize x-axis ticks\n",
    "plt.xticks(np.arange(0, np.ceil(max_age) + step, 10))\n",
    "\n",
    "# Labels and formatting\n",
    "plt.title(\"Age at Entry (years)\")\n",
    "plt.xlabel(\"Age at Entry\")\n",
    "plt.ylabel(\"Number of Cases\")\n",
    "plt.xlim(0, np.ceil(max_age) + step)\n",
    "plt.tight_layout()\n",
    "plt.show()"
   ]
  },
  {
   "cell_type": "markdown",
   "id": "3e6c6d7a",
   "metadata": {},
   "source": [
    "### Plot of the age at entry with the condition that age <21"
   ]
  },
  {
   "cell_type": "code",
   "execution_count": 35,
   "id": "4e9d3951",
   "metadata": {},
   "outputs": [
    {
     "data": {
      "image/png": "[encoded data removed]",
      "text/plain": [
       "<Figure size 1000x600 with 1 Axes>"
      ]
     },
     "metadata": {},
     "output_type": "display_data"
    }
   ],
   "source": [
    "step = 5\n",
    "max_age = df_cleaned[\"AGE_AT_ENTRY\"].max()\n",
    "bins = np.arange(0, np.ceil(max_age) + step, step)\n",
    "\n",
    "\n",
    "df_cleaned = df_cleaned[df_cleaned[\"AGE_AT_ENTRY\"] < 21]\n",
    "plt.figure(figsize=(10, 6))\n",
    "plt.hist(df_cleaned[\"AGE_AT_ENTRY\"], bins=bins, edgecolor=\"black\")\n",
    "# Customize x-axis ticks\n",
    "plt.xticks(np.arange(0, np.ceil(max_age) + step, 5))\n",
    "\n",
    "# Labels and formatting\n",
    "plt.title(\"Age at Entry (years)\")\n",
    "plt.xlabel(\"Age at Entry\")\n",
    "plt.ylabel(\"Number of Cases\")\n",
    "plt.xlim(0, np.ceil(max_age) + step)\n",
    "plt.tight_layout()\n",
    "plt.show()"
   ]
  },
  {
   "cell_type": "code",
   "execution_count": null,
   "id": "abcc6039",
   "metadata": {},
   "outputs": [
    {
     "data": {
      "image/png": "[encoded data removed]",
      "text/plain": [
       "<Figure size 1000x600 with 1 Axes>"
      ]
     },
     "metadata": {},
     "output_type": "display_data"
    }
   ],
   "source": [
    "plt.figure(figsize=(10, 6))\n",
    "sns.countplot(data=cases, y=\"LANG\", order=cases[\"LANG\"].value_counts().index[:5])\n",
    "plt.title(\"Top 5 Languages in Juvenile Cases\")\n",
    "plt.xlabel(\"Number of Cases\")\n",
    "plt.ylabel(\"Language\")\n",
    "plt.tight_layout()\n",
    "plt.show()"
   ]
  },
  {
   "cell_type": "markdown",
   "id": "b8d14121",
   "metadata": {},
   "source": [
    "## Nationalities Abbreviations  \n",
    "\n",
    "| Code   | Country                                                                              |\n",
    "| ------ | ------------------------------------------------------------------------------------ |\n",
    "| **GT** | Guatemala                                                                            |\n",
    "| **HO** | Honduras                                                                             |\n",
    "| **MX** | Mexico                                                                               |\n",
    "| **ES** | El Salvador                                                                          |\n",
    "| **CU** | Cuba                                                                                 |\n",
    "| **NU** | Nicaragua (commonly `NI`, double-check this one)                                     |\n",
    "| **BR** | Brazil                                                                               |\n",
    "| **VE** | Venezuela                                                                            |\n",
    "| **CO** | Colombia                                                                             |\n",
    "| **EC** | Ecuador                                                                              |\n",
    "| **IN** | India                                                                                |\n",
    "| **HA** | Haiti                                                                                |\n",
    "| **PE** | Peru                                                                                 |\n",
    "| **DR** | Dominican Republic                                                                   |\n",
    "| **CH** | Switzerland (but often **China** in legacy immigration systems; confirm with lookup) |\n",
    "| **TU** | Turkey                                                                               |\n",
    "| **RU** | Russia                                                                               |\n",
    "| **BG** | Bulgaria                                                                             |\n",
    "| **JM** | Jamaica                                                                              |\n",
    "| **RO** | Romania                                                                              |\n"
   ]
  },
  {
   "cell_type": "code",
   "execution_count": 136,
   "id": "85029747",
   "metadata": {},
   "outputs": [
    {
     "data": {
      "image/png": "[encoded data removed]",
      "text/plain": [
       "<Figure size 1000x600 with 1 Axes>"
      ]
     },
     "metadata": {},
     "output_type": "display_data"
    }
   ],
   "source": [
    "plt.figure(figsize=(10, 6))\n",
    "sns.countplot(data=cases, y=\"NAT\", order=cases[\"NAT\"].value_counts().index[:20])\n",
    "plt.title(\"Top 20 Nationalities in Juvenile Cases\")\n",
    "plt.xlabel(\"Number of Cases\")\n",
    "plt.ylabel(\"Nationality\")\n",
    "plt.tight_layout()\n",
    "plt.show()"
   ]
  },
  {
   "cell_type": "markdown",
   "id": "61ff6b01",
   "metadata": {},
   "source": [
    "### 📊 Detention Duration Summary\n",
    "\n",
    "We took a sample of 100 cases and calculated the **mean number of days juveniles were detained** within that sample.  \n",
    "To provide broader context, we also calculated the **mean detention duration across all juvenile cases** in the dataset.  \n",
    "This comparison helps illustrate the average length of detention for both a small representative subset and the entire population, giving us insight into typical detention periods for juveniles."
   ]
  },
  {
   "cell_type": "code",
   "execution_count": 54,
   "id": "5b9f193a",
   "metadata": {},
   "outputs": [
    {
     "name": "stdout",
     "output_type": "stream",
     "text": [
      "Mean detention days (all cases): 61.81\n",
      "Mean detention days (first 1000 cases): 65.91\n"
     ]
    },
    {
     "data": {
      "image/png": "[encoded data removed]",
      "text/plain": [
       "<Figure size 1200x600 with 1 Axes>"
      ]
     },
     "metadata": {},
     "output_type": "display_data"
    }
   ],
   "source": [
    "import numpy as np\n",
    "import matplotlib.pyplot as plt\n",
    "\n",
    "# Filter valid detention cases (first 1000)\n",
    "first_1000 = cases.dropna(subset=[\"DATE_DETAINED\", \"DATE_RELEASED\"]).head(1000)\n",
    "first_1000_detention_days = (\n",
    "    first_1000[\"DATE_RELEASED\"] - first_1000[\"DATE_DETAINED\"]\n",
    ").dt.days\n",
    "\n",
    "# Calculate mean detention durations\n",
    "detention_days = (cases[\"DATE_RELEASED\"] - cases[\"DATE_DETAINED\"]).dt.days\n",
    "mean_detention_days = detention_days.mean()\n",
    "mean_detention_days_first_1000 = first_1000_detention_days.mean()\n",
    "\n",
    "# Print statistics\n",
    "print(f\"Mean detention days (all cases): {mean_detention_days:.2f}\")\n",
    "print(f\"Mean detention days (first 1000 cases): {mean_detention_days_first_1000:.2f}\")\n",
    "\n",
    "# Define histogram bins\n",
    "step = 20\n",
    "max_days = first_1000_detention_days.max()\n",
    "bins = np.arange(0, np.ceil(max_days) + step, step)\n",
    "\n",
    "# Define bin size and max days\n",
    "step = 20\n",
    "max_days = first_1000_detention_days.max()\n",
    "\n",
    "# Optional: Clip extreme values to improve visibility\n",
    "max_plot = min(np.ceil(max_days), 180)  # show up to 180 days\n",
    "bins = np.arange(0, max_plot + step, step)\n",
    "\n",
    "# Plot histogram\n",
    "plt.figure(figsize=(12, 6))\n",
    "plt.hist(first_1000_detention_days.clip(upper=max_plot), bins=bins, edgecolor=\"black\")\n",
    "\n",
    "# Adjust x-axis ticks (every 20 days for better readability)\n",
    "plt.xticks(np.arange(0, max_plot + 1, 20))\n",
    "\n",
    "# Labels and layout\n",
    "plt.title(\"Detention Duration (Days) for First 1000 Cases\")\n",
    "plt.xlabel(\"Days Detained\")\n",
    "plt.ylabel(\"Number of Cases\")\n",
    "plt.xlim(0, max_plot)\n",
    "plt.tight_layout()\n",
    "plt.show()"
   ]
  },
  {
   "cell_type": "code",
   "execution_count": null,
   "id": "e6004841",
   "metadata": {},
   "outputs": [
    {
     "name": "stderr",
     "output_type": "stream",
     "text": [
      "C:\\Users\\engam\\AppData\\Local\\Temp\\ipykernel_18360\\2986115506.py:17: FutureWarning: The default of observed=False is deprecated and will be changed to True in a future version of pandas. Pass observed=False to retain current behavior or observed=True to adopt the future default and silence this warning.\n",
      "  df_detained.groupby(\"CASE_TYPE\")[\"DAYS_DETAINED\"]\n",
      "C:\\Users\\engam\\AppData\\Local\\Temp\\ipykernel_18360\\2986115506.py:25: FutureWarning: \n",
      "\n",
      "Passing `palette` without assigning `hue` is deprecated and will be removed in v0.14.0. Assign the `y` variable to `hue` and set `legend=False` for the same effect.\n",
      "\n",
      "  ax = sns.barplot(\n"
     ]
    },
    {
     "data": {
      "image/png": "[encoded data removed]",
      "text/plain": [
       "<Figure size 800x800 with 1 Axes>"
      ]
     },
     "metadata": {},
     "output_type": "display_data"
    }
   ],
   "source": [
    "import seaborn as sns\n",
    "import matplotlib.pyplot as plt\n",
    "\n",
    "# Step 1: Drop rows with missing or zero detention days\n",
    "df_detained = cases.dropna(\n",
    "    subset=[\"DATE_DETAINED\", \"DATE_RELEASED\", \"CASE_TYPE\"]\n",
    ").copy()\n",
    "df_detained[\"DAYS_DETAINED\"] = (\n",
    "    df_detained[\"DATE_RELEASED\"] - df_detained[\"DATE_DETAINED\"]\n",
    ").dt.days\n",
    "\n",
    "# Keep only rows with positive detention duration\n",
    "df_detained = df_detained[df_detained[\"DAYS_DETAINED\"] > 0]\n",
    "\n",
    "# Step 2: Group by CASE_TYPE and compute average, then sort descending\n",
    "df_grouped = (\n",
    "    df_detained.groupby(\"CASE_TYPE\")[\"DAYS_DETAINED\"]\n",
    "    .mean()\n",
    "    .sort_values(ascending=False)  # <-- key change\n",
    "    .reset_index()\n",
    ")\n",
    "\n",
    "# Step 3: Plot\n",
    "plt.figure(figsize=(8, 8))\n",
    "ax = sns.barplot(y=\"CASE_TYPE\", x=\"DAYS_DETAINED\", data=df_grouped, palette=\"Set2\")\n",
    "\n",
    "# Step 4: Add data labels\n",
    "for bar in ax.patches:\n",
    "    ax.text(\n",
    "        bar.get_width() + 0.5,\n",
    "        bar.get_y() + bar.get_height() / 2,\n",
    "        f\"{bar.get_width():.1f} days\",\n",
    "        va=\"center\",\n",
    "    )\n",
    "\n",
    "# Step 5: Customize and display\n",
    "plt.title(\"Average Detention Duration by Case Type\")\n",
    "plt.xlabel(\"Average Days Detained\")\n",
    "plt.ylabel(\"Case Type\")\n",
    "plt.xlim(0, df_grouped[\"DAYS_DETAINED\"].max() + 10)\n",
    "plt.tight_layout()\n",
    "plt.show()"
   ]
  }
 ],
 "metadata": {
  "kernelspec": {
   "display_name": "base",
   "language": "python",
   "name": "python3"
  },
  "language_info": {
   "codemirror_mode": {
    "name": "ipython",
    "version": 3
   },
   "file_extension": ".py",
   "mimetype": "text/x-python",
   "name": "python",
   "nbconvert_exporter": "python",
   "pygments_lexer": "ipython3",
   "version": "3.12.7"
  }
 },
 "nbformat": 4,
 "nbformat_minor": 5
}
