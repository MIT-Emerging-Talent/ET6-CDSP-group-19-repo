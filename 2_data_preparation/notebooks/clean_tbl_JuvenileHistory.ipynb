{
 "cells": [
  {
   "cell_type": "code",
   "execution_count": 23,
   "id": "67beb334",
   "metadata": {},
   "outputs": [],
   "source": [
    "import pandas as pd"
   ]
  },
  {
   "cell_type": "code",
   "execution_count": 24,
   "id": "f1a62f48",
   "metadata": {},
   "outputs": [],
   "source": [
    "pd.options.display.max_columns = False"
   ]
  },
  {
   "cell_type": "markdown",
   "id": "60630f26",
   "metadata": {},
   "source": [
    "### Clean `tbl_JuvenileHistory` table"
   ]
  },
  {
   "cell_type": "markdown",
   "id": "49c5cf5d",
   "metadata": {},
   "source": [
    "#### Initial Data Inspection\n",
    "\n",
    "The dataset contains approximately 3 million rows. To avoid memory issues and reduce unnecessary processing, only the first 100 rows will be inspected initially:\n",
    "\n",
    "- Get an overview of the data types (`dtypes`)\n",
    "- Identify columns/features worth keeping for the EDA\n",
    "- Skip any columns that appear to be irrelevant or redundant\n",
    "\n",
    "This initial check will help streamline the analysis and focus only on useful information."
   ]
  },
  {
   "cell_type": "code",
   "execution_count": 25,
   "id": "bb12c9a5",
   "metadata": {},
   "outputs": [],
   "source": [
    "juvenile_history_path = \"../../data/raw/tbl_JuvenileHistory.csv\"\n",
    "\n",
    "juvenile_history = pd.read_csv(\n",
    "    filepath_or_buffer=juvenile_history_path, delimiter=\"\\t\", nrows=100\n",
    ")"
   ]
  },
  {
   "cell_type": "code",
   "execution_count": 26,
   "id": "298fd664",
   "metadata": {},
   "outputs": [
    {
     "data": {
      "text/html": [
       "<div>\n",
       "<style scoped>\n",
       "    .dataframe tbody tr th:only-of-type {\n",
       "        vertical-align: middle;\n",
       "    }\n",
       "\n",
       "    .dataframe tbody tr th {\n",
       "        vertical-align: top;\n",
       "    }\n",
       "\n",
       "    .dataframe thead th {\n",
       "        text-align: right;\n",
       "    }\n",
       "</style>\n",
       "<table border=\"1\" class=\"dataframe\">\n",
       "  <thead>\n",
       "    <tr style=\"text-align: right;\">\n",
       "      <th></th>\n",
       "      <th>idnJuvenileHistory</th>\n",
       "      <th>idnCase</th>\n",
       "      <th>idnProceeding</th>\n",
       "      <th>idnJuvenile</th>\n",
       "      <th>DATCREATEDON</th>\n",
       "      <th>DATMODIFIEDON</th>\n",
       "    </tr>\n",
       "  </thead>\n",
       "  <tbody>\n",
       "    <tr>\n",
       "      <th>0</th>\n",
       "      <td>5</td>\n",
       "      <td>2046990</td>\n",
       "      <td>3200129</td>\n",
       "      <td>1</td>\n",
       "      <td>2014-09-06 19:24:46.373</td>\n",
       "      <td>NaN</td>\n",
       "    </tr>\n",
       "    <tr>\n",
       "      <th>1</th>\n",
       "      <td>6</td>\n",
       "      <td>2047179</td>\n",
       "      <td>3199488</td>\n",
       "      <td>1</td>\n",
       "      <td>2014-09-06 19:24:46.373</td>\n",
       "      <td>NaN</td>\n",
       "    </tr>\n",
       "    <tr>\n",
       "      <th>2</th>\n",
       "      <td>7</td>\n",
       "      <td>2047179</td>\n",
       "      <td>3199489</td>\n",
       "      <td>1</td>\n",
       "      <td>2014-09-06 19:24:46.373</td>\n",
       "      <td>NaN</td>\n",
       "    </tr>\n",
       "    <tr>\n",
       "      <th>3</th>\n",
       "      <td>8</td>\n",
       "      <td>2047199</td>\n",
       "      <td>3199497</td>\n",
       "      <td>1</td>\n",
       "      <td>2014-09-06 19:24:46.373</td>\n",
       "      <td>NaN</td>\n",
       "    </tr>\n",
       "    <tr>\n",
       "      <th>4</th>\n",
       "      <td>9</td>\n",
       "      <td>2047199</td>\n",
       "      <td>3199498</td>\n",
       "      <td>1</td>\n",
       "      <td>2014-09-06 19:24:46.373</td>\n",
       "      <td>NaN</td>\n",
       "    </tr>\n",
       "  </tbody>\n",
       "</table>\n",
       "</div>"
      ],
      "text/plain": [
       "   idnJuvenileHistory  idnCase  ...             DATCREATEDON  DATMODIFIEDON\n",
       "0                   5  2046990  ...  2014-09-06 19:24:46.373            NaN\n",
       "1                   6  2047179  ...  2014-09-06 19:24:46.373            NaN\n",
       "2                   7  2047179  ...  2014-09-06 19:24:46.373            NaN\n",
       "3                   8  2047199  ...  2014-09-06 19:24:46.373            NaN\n",
       "4                   9  2047199  ...  2014-09-06 19:24:46.373            NaN\n",
       "\n",
       "[5 rows x 6 columns]"
      ]
     },
     "execution_count": 26,
     "metadata": {},
     "output_type": "execute_result"
    }
   ],
   "source": [
    "juvenile_history.head()"
   ]
  },
  {
   "cell_type": "code",
   "execution_count": 27,
   "id": "b88a0d61",
   "metadata": {},
   "outputs": [
    {
     "name": "stdout",
     "output_type": "stream",
     "text": [
      "<class 'pandas.core.frame.DataFrame'>\n",
      "RangeIndex: 100 entries, 0 to 99\n",
      "Data columns (total 6 columns):\n",
      " #   Column              Non-Null Count  Dtype  \n",
      "---  ------              --------------  -----  \n",
      " 0   idnJuvenileHistory  100 non-null    int64  \n",
      " 1   idnCase             100 non-null    int64  \n",
      " 2   idnProceeding       100 non-null    int64  \n",
      " 3   idnJuvenile         100 non-null    int64  \n",
      " 4   DATCREATEDON        100 non-null    object \n",
      " 5   DATMODIFIEDON       0 non-null      float64\n",
      "dtypes: float64(1), int64(4), object(1)\n",
      "memory usage: 4.8+ KB\n"
     ]
    }
   ],
   "source": [
    "juvenile_history.info()"
   ]
  },
  {
   "cell_type": "code",
   "execution_count": 28,
   "id": "73cc42b5",
   "metadata": {},
   "outputs": [
    {
     "data": {
      "text/plain": [
       "Index(['idnJuvenileHistory', 'idnCase', 'idnProceeding', 'idnJuvenile',\n",
       "       'DATCREATEDON', 'DATMODIFIEDON'],\n",
       "      dtype='object')"
      ]
     },
     "execution_count": 28,
     "metadata": {},
     "output_type": "execute_result"
    }
   ],
   "source": [
    "juvenile_history.columns"
   ]
  },
  {
   "cell_type": "code",
   "execution_count": 29,
   "id": "0e458712",
   "metadata": {},
   "outputs": [
    {
     "data": {
      "text/plain": [
       "array(['2014-09-06 19:24:46.373'], dtype=object)"
      ]
     },
     "execution_count": 29,
     "metadata": {},
     "output_type": "execute_result"
    }
   ],
   "source": [
    "juvenile_history[\"DATCREATEDON\"].unique()"
   ]
  },
  {
   "cell_type": "markdown",
   "id": "e9ca5ece",
   "metadata": {},
   "source": [
    "#### Column Notes\n",
    "\n",
    "- **`idnJuvenile`**:  \n",
    "  Although stored as `int64`, this column only contains values from 1 to 6 (based on `Lookup/tblLookup_Juvenile.csv`). It should be treated as a categorical feature.\n",
    "\n",
    "- **`DATCREATEDON`** and **`DATMODIFIEDON`**:  \n",
    "  These columns likely reflect internal system activity rather than meaningful case-level events:\n",
    "  - `DATCREATEDON` has the same value across all rows in the sample.\n",
    "  - `DATMODIFIEDON` is completely null in the sample.\n",
    "\n",
    "  Both columns were excluded from further analysis."
   ]
  },
  {
   "cell_type": "code",
   "execution_count": 30,
   "id": "40ccc394",
   "metadata": {},
   "outputs": [],
   "source": [
    "dtype = {\n",
    "    \"idnJuvenileHistory\": \"Int64\",\n",
    "    \"idnCase\": \"Int64\",\n",
    "    \"idnProceeding\": \"Int64\",\n",
    "    \"idnJuvenile\": \"category\",\n",
    "}"
   ]
  },
  {
   "cell_type": "code",
   "execution_count": 31,
   "id": "4e5aace0",
   "metadata": {},
   "outputs": [],
   "source": [
    "juvenile_history = pd.read_csv(\n",
    "    filepath_or_buffer=juvenile_history_path,\n",
    "    delimiter=\"\\t\",\n",
    "    usecols=[\"idnJuvenileHistory\", \"idnCase\", \"idnProceeding\", \"idnJuvenile\"],\n",
    "    dtype=dtype,\n",
    "    low_memory=False,\n",
    ")"
   ]
  },
  {
   "cell_type": "markdown",
   "id": "ed0c8030",
   "metadata": {},
   "source": [
    "### Data Inspection"
   ]
  },
  {
   "cell_type": "code",
   "execution_count": 32,
   "id": "eb45312f",
   "metadata": {},
   "outputs": [
    {
     "data": {
      "text/html": [
       "<div>\n",
       "<style scoped>\n",
       "    .dataframe tbody tr th:only-of-type {\n",
       "        vertical-align: middle;\n",
       "    }\n",
       "\n",
       "    .dataframe tbody tr th {\n",
       "        vertical-align: top;\n",
       "    }\n",
       "\n",
       "    .dataframe thead th {\n",
       "        text-align: right;\n",
       "    }\n",
       "</style>\n",
       "<table border=\"1\" class=\"dataframe\">\n",
       "  <thead>\n",
       "    <tr style=\"text-align: right;\">\n",
       "      <th></th>\n",
       "      <th>idnJuvenileHistory</th>\n",
       "      <th>idnCase</th>\n",
       "      <th>idnProceeding</th>\n",
       "      <th>idnJuvenile</th>\n",
       "    </tr>\n",
       "  </thead>\n",
       "  <tbody>\n",
       "    <tr>\n",
       "      <th>0</th>\n",
       "      <td>5</td>\n",
       "      <td>2046990</td>\n",
       "      <td>3200129</td>\n",
       "      <td>1</td>\n",
       "    </tr>\n",
       "    <tr>\n",
       "      <th>1</th>\n",
       "      <td>6</td>\n",
       "      <td>2047179</td>\n",
       "      <td>3199488</td>\n",
       "      <td>1</td>\n",
       "    </tr>\n",
       "    <tr>\n",
       "      <th>2</th>\n",
       "      <td>7</td>\n",
       "      <td>2047179</td>\n",
       "      <td>3199489</td>\n",
       "      <td>1</td>\n",
       "    </tr>\n",
       "    <tr>\n",
       "      <th>3</th>\n",
       "      <td>8</td>\n",
       "      <td>2047199</td>\n",
       "      <td>3199497</td>\n",
       "      <td>1</td>\n",
       "    </tr>\n",
       "    <tr>\n",
       "      <th>4</th>\n",
       "      <td>9</td>\n",
       "      <td>2047199</td>\n",
       "      <td>3199498</td>\n",
       "      <td>1</td>\n",
       "    </tr>\n",
       "  </tbody>\n",
       "</table>\n",
       "</div>"
      ],
      "text/plain": [
       "   idnJuvenileHistory  idnCase  idnProceeding idnJuvenile\n",
       "0                   5  2046990        3200129           1\n",
       "1                   6  2047179        3199488           1\n",
       "2                   7  2047179        3199489           1\n",
       "3                   8  2047199        3199497           1\n",
       "4                   9  2047199        3199498           1"
      ]
     },
     "execution_count": 32,
     "metadata": {},
     "output_type": "execute_result"
    }
   ],
   "source": [
    "juvenile_history.head()"
   ]
  },
  {
   "cell_type": "code",
   "execution_count": 33,
   "id": "a3c5ca68",
   "metadata": {},
   "outputs": [
    {
     "data": {
      "text/plain": [
       "(2876040, 4)"
      ]
     },
     "execution_count": 33,
     "metadata": {},
     "output_type": "execute_result"
    }
   ],
   "source": [
    "juvenile_history.shape"
   ]
  },
  {
   "cell_type": "code",
   "execution_count": 34,
   "id": "f262c221",
   "metadata": {},
   "outputs": [
    {
     "name": "stdout",
     "output_type": "stream",
     "text": [
      "<class 'pandas.core.frame.DataFrame'>\n",
      "RangeIndex: 2876040 entries, 0 to 2876039\n",
      "Data columns (total 4 columns):\n",
      " #   Column              Dtype   \n",
      "---  ------              -----   \n",
      " 0   idnJuvenileHistory  Int64   \n",
      " 1   idnCase             Int64   \n",
      " 2   idnProceeding       Int64   \n",
      " 3   idnJuvenile         category\n",
      "dtypes: Int64(3), category(1)\n",
      "memory usage: 76.8 MB\n"
     ]
    }
   ],
   "source": [
    "juvenile_history.info()"
   ]
  },
  {
   "cell_type": "code",
   "execution_count": 35,
   "id": "4f00c706",
   "metadata": {},
   "outputs": [
    {
     "data": {
      "text/plain": [
       "idnJuvenileHistory      0\n",
       "idnCase                 0\n",
       "idnProceeding          99\n",
       "idnJuvenile           999\n",
       "dtype: int64"
      ]
     },
     "execution_count": 35,
     "metadata": {},
     "output_type": "execute_result"
    }
   ],
   "source": [
    "juvenile_history.isna().sum()"
   ]
  },
  {
   "cell_type": "code",
   "execution_count": 36,
   "id": "2e17e840",
   "metadata": {},
   "outputs": [
    {
     "data": {
      "text/plain": [
       "np.int64(0)"
      ]
     },
     "execution_count": 36,
     "metadata": {},
     "output_type": "execute_result"
    }
   ],
   "source": [
    "juvenile_history.duplicated().sum()"
   ]
  },
  {
   "cell_type": "code",
   "execution_count": 38,
   "id": "f4fe0af2",
   "metadata": {},
   "outputs": [],
   "source": [
    "juvenile_history.to_csv(\n",
    "    \"../../data/cleaned/juvenile_history_cleaned.csv.gz\",\n",
    "    index=False,\n",
    "    compression=\"gzip\",\n",
    ")"
   ]
  },
  {
   "cell_type": "markdown",
   "id": "a2765035",
   "metadata": {},
   "source": [
    "### Cleaned `tbl_JuvenileHistory`\n",
    "\n",
    "- Loaded ~2.87M rows from the raw CSV file.\n",
    "- Dropped irrelevant or fully null columns.\n",
    "- Converted `idnJuvenile` to a categorical variable.\n",
    "- Retained only 4 key fields:\n",
    "  - `idnJuvenileHistory`: primary key\n",
    "  - `idnCase`: foreign key to `tbl_Case`\n",
    "  - `idnProceeding`: foreign key to `tbl_Proceeding`\n",
    "  - `idnJuvenile`: foreign key to `tblLookup_Juvenile`\n",
    "- Missing values:\n",
    "  - `idnProceeding`: 99 missing\n",
    "  - `idnJuvenile`: 999 missing\n",
    "\n",
    "Saved cleaned file as:\n",
    "- `juvenile_history_cleaned.csv.gz` "
   ]
  }
 ],
 "metadata": {
  "kernelspec": {
   "display_name": "ds",
   "language": "python",
   "name": "python3"
  },
  "language_info": {
   "codemirror_mode": {
    "name": "ipython",
    "version": 3
   },
   "file_extension": ".py",
   "mimetype": "text/x-python",
   "name": "python",
   "nbconvert_exporter": "python",
   "pygments_lexer": "ipython3",
   "version": "3.12.9"
  }
 },
 "nbformat": 4,
 "nbformat_minor": 5
}
