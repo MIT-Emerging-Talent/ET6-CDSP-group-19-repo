{
 "cells": [
  {
   "cell_type": "code",
   "execution_count": 34,
   "id": "fd02d1d4",
   "metadata": {},
   "outputs": [],
   "source": [
    "import pandas as pd"
   ]
  },
  {
   "cell_type": "code",
   "execution_count": 35,
   "id": "d4480073",
   "metadata": {},
   "outputs": [],
   "source": [
    "pd.options.display.max_columns = False"
   ]
  },
  {
   "cell_type": "markdown",
   "id": "637394eb",
   "metadata": {},
   "source": [
    "### Clean `tbl_RepsAssigned` table"
   ]
  },
  {
   "cell_type": "markdown",
   "id": "106d855e",
   "metadata": {},
   "source": [
    "The `tbl_RepsAssigned` table contains detailed records of represented cases in the immigration system, including both noncitizen (Alien) and government (INS) representation. Each row represents an instance of legal representation assigned to a case.\n",
    "\n",
    "It is essential for identifying the presence and type of legal representation in each case."
   ]
  },
  {
   "cell_type": "markdown",
   "id": "0bdf37b1",
   "metadata": {},
   "source": [
    "#### Initial Data Inspection"
   ]
  },
  {
   "cell_type": "code",
   "execution_count": 36,
   "id": "0f56b785",
   "metadata": {},
   "outputs": [],
   "source": [
    "reps_assigned_path = \"../../data/raw/tbl_RepsAssigned.csv\"\n",
    "\n",
    "reps_assigned = pd.read_csv(\n",
    "    filepath_or_buffer=reps_assigned_path, delimiter=\"\\t\", low_memory=False\n",
    ")"
   ]
  },
  {
   "cell_type": "code",
   "execution_count": 37,
   "id": "d9b1695f",
   "metadata": {},
   "outputs": [
    {
     "data": {
      "text/html": [
       "<div>\n",
       "<style scoped>\n",
       "    .dataframe tbody tr th:only-of-type {\n",
       "        vertical-align: middle;\n",
       "    }\n",
       "\n",
       "    .dataframe tbody tr th {\n",
       "        vertical-align: top;\n",
       "    }\n",
       "\n",
       "    .dataframe thead th {\n",
       "        text-align: right;\n",
       "    }\n",
       "</style>\n",
       "<table border=\"1\" class=\"dataframe\">\n",
       "  <thead>\n",
       "    <tr style=\"text-align: right;\">\n",
       "      <th></th>\n",
       "      <th>IDNREPSASSIGNED</th>\n",
       "      <th>IDNCASE</th>\n",
       "      <th>STRATTYLEVEL</th>\n",
       "      <th>STRATTYTYPE</th>\n",
       "      <th>PARENT_TABLE</th>\n",
       "      <th>PARENT_IDN</th>\n",
       "      <th>BASE_CITY_CODE</th>\n",
       "      <th>INS_TA_DATE_ASSIGNED</th>\n",
       "      <th>E_27_DATE</th>\n",
       "      <th>E_28_DATE</th>\n",
       "      <th>BLNPRIMEATTY</th>\n",
       "    </tr>\n",
       "  </thead>\n",
       "  <tbody>\n",
       "    <tr>\n",
       "      <th>0</th>\n",
       "      <td>5945062</td>\n",
       "      <td>2047751</td>\n",
       "      <td>COURT</td>\n",
       "      <td>ALIEN</td>\n",
       "      <td>A_Tblcase</td>\n",
       "      <td>2047751.0</td>\n",
       "      <td>WAS</td>\n",
       "      <td>NaN</td>\n",
       "      <td>NaN</td>\n",
       "      <td>2004-04-06 00:00:00.000</td>\n",
       "      <td>1</td>\n",
       "    </tr>\n",
       "    <tr>\n",
       "      <th>1</th>\n",
       "      <td>5945065</td>\n",
       "      <td>2052183</td>\n",
       "      <td>COURT</td>\n",
       "      <td>ALIEN</td>\n",
       "      <td>A_Tblcase</td>\n",
       "      <td>2052183.0</td>\n",
       "      <td>WAS</td>\n",
       "      <td>NaN</td>\n",
       "      <td>NaN</td>\n",
       "      <td>2004-04-15 00:00:00.000</td>\n",
       "      <td>1</td>\n",
       "    </tr>\n",
       "    <tr>\n",
       "      <th>2</th>\n",
       "      <td>5945066</td>\n",
       "      <td>2052595</td>\n",
       "      <td>COURT</td>\n",
       "      <td>ALIEN</td>\n",
       "      <td>A_Tblcase</td>\n",
       "      <td>2052595.0</td>\n",
       "      <td>WAS</td>\n",
       "      <td>NaN</td>\n",
       "      <td>NaN</td>\n",
       "      <td>1987-07-21 00:00:00.000</td>\n",
       "      <td>1</td>\n",
       "    </tr>\n",
       "    <tr>\n",
       "      <th>3</th>\n",
       "      <td>5945067</td>\n",
       "      <td>2054039</td>\n",
       "      <td>COURT</td>\n",
       "      <td>ALIEN</td>\n",
       "      <td>A_Tblcase</td>\n",
       "      <td>2054039.0</td>\n",
       "      <td>WAS</td>\n",
       "      <td>NaN</td>\n",
       "      <td>NaN</td>\n",
       "      <td>1994-06-15 00:00:00.000</td>\n",
       "      <td>1</td>\n",
       "    </tr>\n",
       "    <tr>\n",
       "      <th>4</th>\n",
       "      <td>5945068</td>\n",
       "      <td>2056837</td>\n",
       "      <td>COURT</td>\n",
       "      <td>ALIEN</td>\n",
       "      <td>A_Tblcase</td>\n",
       "      <td>2056837.0</td>\n",
       "      <td>WAS</td>\n",
       "      <td>NaN</td>\n",
       "      <td>NaN</td>\n",
       "      <td>2003-05-15 00:00:00.000</td>\n",
       "      <td>1</td>\n",
       "    </tr>\n",
       "  </tbody>\n",
       "</table>\n",
       "</div>"
      ],
      "text/plain": [
       "   IDNREPSASSIGNED  IDNCASE  ...                E_28_DATE BLNPRIMEATTY\n",
       "0          5945062  2047751  ...  2004-04-06 00:00:00.000            1\n",
       "1          5945065  2052183  ...  2004-04-15 00:00:00.000            1\n",
       "2          5945066  2052595  ...  1987-07-21 00:00:00.000            1\n",
       "3          5945067  2054039  ...  1994-06-15 00:00:00.000            1\n",
       "4          5945068  2056837  ...  2003-05-15 00:00:00.000            1\n",
       "\n",
       "[5 rows x 11 columns]"
      ]
     },
     "execution_count": 37,
     "metadata": {},
     "output_type": "execute_result"
    }
   ],
   "source": [
    "reps_assigned.head()"
   ]
  },
  {
   "cell_type": "code",
   "execution_count": 38,
   "id": "70234721",
   "metadata": {},
   "outputs": [
    {
     "data": {
      "text/plain": [
       "(24350854, 11)"
      ]
     },
     "execution_count": 38,
     "metadata": {},
     "output_type": "execute_result"
    }
   ],
   "source": [
    "reps_assigned.shape"
   ]
  },
  {
   "cell_type": "code",
   "execution_count": 39,
   "id": "4daa9ea1",
   "metadata": {},
   "outputs": [
    {
     "name": "stdout",
     "output_type": "stream",
     "text": [
      "<class 'pandas.core.frame.DataFrame'>\n",
      "RangeIndex: 24350854 entries, 0 to 24350853\n",
      "Data columns (total 11 columns):\n",
      " #   Column                Dtype  \n",
      "---  ------                -----  \n",
      " 0   IDNREPSASSIGNED       int64  \n",
      " 1   IDNCASE               int64  \n",
      " 2   STRATTYLEVEL          object \n",
      " 3   STRATTYTYPE           object \n",
      " 4   PARENT_TABLE          object \n",
      " 5   PARENT_IDN            float64\n",
      " 6   BASE_CITY_CODE        object \n",
      " 7   INS_TA_DATE_ASSIGNED  object \n",
      " 8   E_27_DATE             object \n",
      " 9   E_28_DATE             object \n",
      " 10  BLNPRIMEATTY          int64  \n",
      "dtypes: float64(1), int64(3), object(7)\n",
      "memory usage: 2.0+ GB\n"
     ]
    }
   ],
   "source": [
    "reps_assigned.info()"
   ]
  },
  {
   "cell_type": "markdown",
   "id": "f6ecbc50",
   "metadata": {},
   "source": [
    "#### Missing Values Summary\n",
    "\n",
    "Compute the count and percentage of missing values for each column in `tbl_RepsAssigned` to assess data completeness.  \n",
    "Use `.isna().sum()` for the count, divide by the total row count for the percentage, and sort columns by missing count to highlight those requiring cleaning attention."
   ]
  },
  {
   "cell_type": "code",
   "execution_count": 40,
   "id": "575be75b",
   "metadata": {},
   "outputs": [
    {
     "data": {
      "text/html": [
       "<div>\n",
       "<style scoped>\n",
       "    .dataframe tbody tr th:only-of-type {\n",
       "        vertical-align: middle;\n",
       "    }\n",
       "\n",
       "    .dataframe tbody tr th {\n",
       "        vertical-align: top;\n",
       "    }\n",
       "\n",
       "    .dataframe thead th {\n",
       "        text-align: right;\n",
       "    }\n",
       "</style>\n",
       "<table border=\"1\" class=\"dataframe\">\n",
       "  <thead>\n",
       "    <tr style=\"text-align: right;\">\n",
       "      <th></th>\n",
       "      <th>Missing Count</th>\n",
       "      <th>Missing %</th>\n",
       "    </tr>\n",
       "  </thead>\n",
       "  <tbody>\n",
       "    <tr>\n",
       "      <th>E_27_DATE</th>\n",
       "      <td>23405446</td>\n",
       "      <td>96.12</td>\n",
       "    </tr>\n",
       "    <tr>\n",
       "      <th>E_28_DATE</th>\n",
       "      <td>12693828</td>\n",
       "      <td>52.13</td>\n",
       "    </tr>\n",
       "    <tr>\n",
       "      <th>INS_TA_DATE_ASSIGNED</th>\n",
       "      <td>11642124</td>\n",
       "      <td>47.81</td>\n",
       "    </tr>\n",
       "    <tr>\n",
       "      <th>BASE_CITY_CODE</th>\n",
       "      <td>7912377</td>\n",
       "      <td>32.49</td>\n",
       "    </tr>\n",
       "    <tr>\n",
       "      <th>PARENT_IDN</th>\n",
       "      <td>1</td>\n",
       "      <td>0.00</td>\n",
       "    </tr>\n",
       "    <tr>\n",
       "      <th>IDNREPSASSIGNED</th>\n",
       "      <td>0</td>\n",
       "      <td>0.00</td>\n",
       "    </tr>\n",
       "    <tr>\n",
       "      <th>IDNCASE</th>\n",
       "      <td>0</td>\n",
       "      <td>0.00</td>\n",
       "    </tr>\n",
       "    <tr>\n",
       "      <th>STRATTYLEVEL</th>\n",
       "      <td>0</td>\n",
       "      <td>0.00</td>\n",
       "    </tr>\n",
       "    <tr>\n",
       "      <th>STRATTYTYPE</th>\n",
       "      <td>0</td>\n",
       "      <td>0.00</td>\n",
       "    </tr>\n",
       "    <tr>\n",
       "      <th>PARENT_TABLE</th>\n",
       "      <td>0</td>\n",
       "      <td>0.00</td>\n",
       "    </tr>\n",
       "    <tr>\n",
       "      <th>BLNPRIMEATTY</th>\n",
       "      <td>0</td>\n",
       "      <td>0.00</td>\n",
       "    </tr>\n",
       "  </tbody>\n",
       "</table>\n",
       "</div>"
      ],
      "text/plain": [
       "                      Missing Count  Missing %\n",
       "E_27_DATE                  23405446      96.12\n",
       "E_28_DATE                  12693828      52.13\n",
       "INS_TA_DATE_ASSIGNED       11642124      47.81\n",
       "BASE_CITY_CODE              7912377      32.49\n",
       "PARENT_IDN                        1       0.00\n",
       "IDNREPSASSIGNED                   0       0.00\n",
       "IDNCASE                           0       0.00\n",
       "STRATTYLEVEL                      0       0.00\n",
       "STRATTYTYPE                       0       0.00\n",
       "PARENT_TABLE                      0       0.00\n",
       "BLNPRIMEATTY                      0       0.00"
      ]
     },
     "metadata": {},
     "output_type": "display_data"
    }
   ],
   "source": [
    "null_counts = reps_assigned.isna().sum()\n",
    "percent_missing = (null_counts / len(reps_assigned)) * 100\n",
    "\n",
    "missing_summary = pd.DataFrame(\n",
    "    {\"Missing Count\": null_counts, \"Missing %\": percent_missing.round(2)}\n",
    ").sort_values(by=\"Missing Count\", ascending=False)\n",
    "\n",
    "display(missing_summary)"
   ]
  },
  {
   "cell_type": "code",
   "execution_count": 41,
   "id": "7c963856",
   "metadata": {},
   "outputs": [
    {
     "data": {
      "text/plain": [
       "np.int64(0)"
      ]
     },
     "execution_count": 41,
     "metadata": {},
     "output_type": "execute_result"
    }
   ],
   "source": [
    "reps_assigned.duplicated().sum()"
   ]
  },
  {
   "cell_type": "markdown",
   "id": "805a3906",
   "metadata": {},
   "source": [
    "#### Filtering for Alien Representation\n",
    "\n",
    "The `reps_assigned` table contains representation records for both respondents (noncitizens) and the government (DHS/INS).  \n",
    "To retain only respondent-side representation, filter rows where `STRATTYTYPE` equals `ALIEN`.  \n",
    "This ensures the dataset reflects legal counsel for the individual rather than government attorneys."
   ]
  },
  {
   "cell_type": "code",
   "execution_count": null,
   "id": "e7b224aa",
   "metadata": {},
   "outputs": [],
   "source": [
    "reps_assigned[\"STRATTYTYPE\"].unique()"
   ]
  },
  {
   "cell_type": "code",
   "execution_count": null,
   "id": "832277f2",
   "metadata": {},
   "outputs": [],
   "source": [
    "reps_assigned = reps_assigned[reps_assigned[\"STRATTYTYPE\"] == \"ALIEN\"].reset_index(\n",
    "    drop=True\n",
    ")"
   ]
  },
  {
   "cell_type": "code",
   "execution_count": null,
   "id": "4ba31cc3",
   "metadata": {},
   "outputs": [],
   "source": [
    "reps_assigned.shape"
   ]
  },
  {
   "cell_type": "markdown",
   "id": "c87f792f",
   "metadata": {},
   "source": [
    "#### Filtering for Juvenile Cases\n",
    "\n",
    "Filter `tbl_RepsAssigned` to retain only records where `IDNCASE` matches values from `tbl_JuvenileHistory`.  \n",
    "This subset operation replaces a full table join, reducing memory usage and improving processing speed."
   ]
  },
  {
   "cell_type": "code",
   "execution_count": 45,
   "id": "ed7a0d16",
   "metadata": {},
   "outputs": [],
   "source": [
    "juvenile_history = pd.read_csv(\n",
    "    \"../../data/cleaned/juvenile_history_cleaned.csv.gz\",\n",
    "    usecols=[\"idnCase\"],\n",
    "    dtype={\"idnCase\": \"Int64\"},\n",
    ")"
   ]
  },
  {
   "cell_type": "code",
   "execution_count": 46,
   "id": "fd9578bd",
   "metadata": {},
   "outputs": [],
   "source": [
    "juvenile_case_ids = juvenile_history[\"idnCase\"].dropna().unique()"
   ]
  },
  {
   "cell_type": "code",
   "execution_count": 47,
   "id": "0b028436",
   "metadata": {},
   "outputs": [],
   "source": [
    "juvenile_reps_assigned = reps_assigned[\n",
    "    reps_assigned[\"IDNCASE\"].isin(juvenile_case_ids)\n",
    "].reset_index(drop=True)"
   ]
  },
  {
   "cell_type": "code",
   "execution_count": 48,
   "id": "33f20fbc",
   "metadata": {},
   "outputs": [
    {
     "name": "stdout",
     "output_type": "stream",
     "text": [
      "Number of idnCase keys in tbl_JuvenileHistory table: 1,924,938\n",
      "Number of matched juvenile rows in tbl_RepsAssigned.csv based on those keys: 5,277,401\n"
     ]
    }
   ],
   "source": [
    "print(\n",
    "    f\"Number of idnCase keys in tbl_JuvenileHistory table: {len(juvenile_case_ids):,}\"\n",
    ")\n",
    "print(\n",
    "    f\"Number of matched juvenile rows in tbl_RepsAssigned.csv based on those keys: {juvenile_reps_assigned.shape[0]:,}\"\n",
    ")"
   ]
  },
  {
   "cell_type": "markdown",
   "id": "abb0e88a",
   "metadata": {},
   "source": [
    "#### Context for Choosing Between `IDNCASE` and `PARENT_IDN` for Merging\n",
    "\n",
    "Although records have already been filtered using `IDNCASE` from `tbl_JuvenileHistory`,  \n",
    "it is important to understand the relationship between `IDNCASE` and `PARENT_IDN` before any future merge with the cases table.\n",
    "\n",
    "- `PARENT_IDN`: Identifier of the case in the parent table, which may not always be `tblCase`.\n",
    "- `IDNCASE`: Foreign key referencing the case in `tblCase`.\n",
    "\n",
    "For accurate merging, it is critical to confirm whether these two fields hold identical values for rows where the parent table is `tbl_case`.  \n",
    "If discrepancies exist, merge results may be incomplete or inaccurate."
   ]
  },
  {
   "cell_type": "code",
   "execution_count": 49,
   "id": "722f7354",
   "metadata": {},
   "outputs": [
    {
     "data": {
      "text/plain": [
       "PARENT_TABLE\n",
       "a_tblcase          2529175\n",
       "b_tblproceeding    2512689\n",
       "tblappeal            89456\n",
       "B_TblProceeding      60105\n",
       "A_Tblcase            50325\n",
       "tblAppeal            34703\n",
       "A_TblCase              948\n",
       "Name: count, dtype: int64"
      ]
     },
     "execution_count": 49,
     "metadata": {},
     "output_type": "execute_result"
    }
   ],
   "source": [
    "juvenile_reps_assigned[\"PARENT_TABLE\"].value_counts()"
   ]
  },
  {
   "cell_type": "markdown",
   "id": "710520af",
   "metadata": {},
   "source": [
    "Retain only records with `PARENT_TABLE` set to `a_tblcase` to focus on attorney assignments linked to original case records rather than appeals or other parent entities."
   ]
  },
  {
   "cell_type": "code",
   "execution_count": 50,
   "id": "00dcb869",
   "metadata": {},
   "outputs": [],
   "source": [
    "juvenile_reps_assigned = juvenile_reps_assigned[\n",
    "    juvenile_reps_assigned[\"PARENT_TABLE\"].isin([\"A_TblCase\", \"A_Tblcase\", \"a_tblcase\"])\n",
    "].reset_index(drop=True)"
   ]
  },
  {
   "cell_type": "code",
   "execution_count": 62,
   "id": "437b1edc",
   "metadata": {},
   "outputs": [
    {
     "data": {
      "text/plain": [
       "PARENT_TABLE\n",
       "a_tblcase    2529175\n",
       "A_Tblcase      50325\n",
       "A_TblCase        948\n",
       "Name: count, dtype: int64"
      ]
     },
     "execution_count": 62,
     "metadata": {},
     "output_type": "execute_result"
    }
   ],
   "source": [
    "juvenile_reps_assigned[\"PARENT_TABLE\"].value_counts()"
   ]
  },
  {
   "cell_type": "markdown",
   "id": "941d3a4b",
   "metadata": {},
   "source": [
    "Verify if `IDNCASE` and `PARENT_IDN` hold identical case IDs to confirm merge key choice."
   ]
  },
  {
   "cell_type": "code",
   "execution_count": 52,
   "id": "f315beba",
   "metadata": {},
   "outputs": [
    {
     "name": "stdout",
     "output_type": "stream",
     "text": [
      "True     2580425\n",
      "False         23\n",
      "Name: count, dtype: int64\n"
     ]
    }
   ],
   "source": [
    "matches = juvenile_reps_assigned[\"IDNCASE\"] == juvenile_reps_assigned[\"PARENT_IDN\"]\n",
    "print(matches.value_counts())"
   ]
  },
  {
   "cell_type": "code",
   "execution_count": 53,
   "id": "79ada260",
   "metadata": {},
   "outputs": [],
   "source": [
    "mismatched_rows = juvenile_reps_assigned.query(\"IDNCASE != PARENT_IDN\")"
   ]
  },
  {
   "cell_type": "code",
   "execution_count": 61,
   "id": "dede59d5",
   "metadata": {},
   "outputs": [
    {
     "data": {
      "text/html": [
       "<div>\n",
       "<style scoped>\n",
       "    .dataframe tbody tr th:only-of-type {\n",
       "        vertical-align: middle;\n",
       "    }\n",
       "\n",
       "    .dataframe tbody tr th {\n",
       "        vertical-align: top;\n",
       "    }\n",
       "\n",
       "    .dataframe thead th {\n",
       "        text-align: right;\n",
       "    }\n",
       "</style>\n",
       "<table border=\"1\" class=\"dataframe\">\n",
       "  <thead>\n",
       "    <tr style=\"text-align: right;\">\n",
       "      <th></th>\n",
       "      <th>IDNREPSASSIGNED</th>\n",
       "      <th>IDNCASE</th>\n",
       "      <th>STRATTYLEVEL</th>\n",
       "      <th>STRATTYTYPE</th>\n",
       "      <th>PARENT_TABLE</th>\n",
       "      <th>PARENT_IDN</th>\n",
       "      <th>BASE_CITY_CODE</th>\n",
       "      <th>INS_TA_DATE_ASSIGNED</th>\n",
       "      <th>E_27_DATE</th>\n",
       "      <th>E_28_DATE</th>\n",
       "      <th>BLNPRIMEATTY</th>\n",
       "    </tr>\n",
       "  </thead>\n",
       "  <tbody>\n",
       "    <tr>\n",
       "      <th>28197</th>\n",
       "      <td>12086960</td>\n",
       "      <td>6163622</td>\n",
       "      <td>COURT</td>\n",
       "      <td>ALIEN</td>\n",
       "      <td>a_tblcase</td>\n",
       "      <td>3317728.0</td>\n",
       "      <td>NYC</td>\n",
       "      <td>NaN</td>\n",
       "      <td>NaN</td>\n",
       "      <td>2009-03-05 00:00:00.000</td>\n",
       "      <td>0</td>\n",
       "    </tr>\n",
       "    <tr>\n",
       "      <th>31780</th>\n",
       "      <td>12573607</td>\n",
       "      <td>6271339</td>\n",
       "      <td>COURT</td>\n",
       "      <td>ALIEN</td>\n",
       "      <td>a_tblcase</td>\n",
       "      <td>6271917.0</td>\n",
       "      <td>DET</td>\n",
       "      <td>NaN</td>\n",
       "      <td>NaN</td>\n",
       "      <td>2010-01-28 00:00:00.000</td>\n",
       "      <td>1</td>\n",
       "    </tr>\n",
       "    <tr>\n",
       "      <th>35667</th>\n",
       "      <td>13110143</td>\n",
       "      <td>6597692</td>\n",
       "      <td>COURT</td>\n",
       "      <td>ALIEN</td>\n",
       "      <td>a_tblcase</td>\n",
       "      <td>6622225.0</td>\n",
       "      <td>HON</td>\n",
       "      <td>NaN</td>\n",
       "      <td>NaN</td>\n",
       "      <td>2010-12-06 00:00:00.000</td>\n",
       "      <td>1</td>\n",
       "    </tr>\n",
       "    <tr>\n",
       "      <th>57232</th>\n",
       "      <td>15128637</td>\n",
       "      <td>7304902</td>\n",
       "      <td>COURT</td>\n",
       "      <td>ALIEN</td>\n",
       "      <td>a_tblcase</td>\n",
       "      <td>7258006.0</td>\n",
       "      <td>NaN</td>\n",
       "      <td>NaN</td>\n",
       "      <td>NaN</td>\n",
       "      <td>2015-11-27 00:00:00.000</td>\n",
       "      <td>1</td>\n",
       "    </tr>\n",
       "    <tr>\n",
       "      <th>127551</th>\n",
       "      <td>16946073</td>\n",
       "      <td>6163622</td>\n",
       "      <td>COURT</td>\n",
       "      <td>ALIEN</td>\n",
       "      <td>a_tblcase</td>\n",
       "      <td>3317728.0</td>\n",
       "      <td>NYC</td>\n",
       "      <td>NaN</td>\n",
       "      <td>NaN</td>\n",
       "      <td>2009-03-05 00:00:00.000</td>\n",
       "      <td>0</td>\n",
       "    </tr>\n",
       "  </tbody>\n",
       "</table>\n",
       "</div>"
      ],
      "text/plain": [
       "        IDNREPSASSIGNED  IDNCASE  ...                E_28_DATE BLNPRIMEATTY\n",
       "28197          12086960  6163622  ...  2009-03-05 00:00:00.000            0\n",
       "31780          12573607  6271339  ...  2010-01-28 00:00:00.000            1\n",
       "35667          13110143  6597692  ...  2010-12-06 00:00:00.000            1\n",
       "57232          15128637  7304902  ...  2015-11-27 00:00:00.000            1\n",
       "127551         16946073  6163622  ...  2009-03-05 00:00:00.000            0\n",
       "\n",
       "[5 rows x 11 columns]"
      ]
     },
     "execution_count": 61,
     "metadata": {},
     "output_type": "execute_result"
    }
   ],
   "source": [
    "mismatched_rows.head()"
   ]
  },
  {
   "cell_type": "markdown",
   "id": "1e5966c9",
   "metadata": {},
   "source": [
    "Only 23 out of ~2.5M records have mismatched values between `IDNCASE` and `PARENT_IDN`.  \n",
    "Given the high match rate and consistency with other tables, `IDNCASE` will be used as the merge key."
   ]
  },
  {
   "cell_type": "markdown",
   "id": "347ce249",
   "metadata": {},
   "source": [
    "#### Rechecking Missing Values After Juvenile Case Filtering\n",
    "\n",
    "Since the dataset has been filtered to only include juvenile cases,  \n",
    "some columns may now be entirely empty or contain significantly fewer values than in the full table.  \n",
    "A recheck of missing values is required to identify columns that are now fully null and can be safely dropped without losing relevant information."
   ]
  },
  {
   "cell_type": "code",
   "execution_count": 69,
   "id": "43efda6f",
   "metadata": {},
   "outputs": [
    {
     "data": {
      "text/html": [
       "<div>\n",
       "<style scoped>\n",
       "    .dataframe tbody tr th:only-of-type {\n",
       "        vertical-align: middle;\n",
       "    }\n",
       "\n",
       "    .dataframe tbody tr th {\n",
       "        vertical-align: top;\n",
       "    }\n",
       "\n",
       "    .dataframe thead th {\n",
       "        text-align: right;\n",
       "    }\n",
       "</style>\n",
       "<table border=\"1\" class=\"dataframe\">\n",
       "  <thead>\n",
       "    <tr style=\"text-align: right;\">\n",
       "      <th></th>\n",
       "      <th>Missing Count</th>\n",
       "      <th>Missing %</th>\n",
       "    </tr>\n",
       "  </thead>\n",
       "  <tbody>\n",
       "    <tr>\n",
       "      <th>E_27_DATE</th>\n",
       "      <td>2580448</td>\n",
       "      <td>100.00</td>\n",
       "    </tr>\n",
       "    <tr>\n",
       "      <th>BASE_CITY_CODE</th>\n",
       "      <td>2467902</td>\n",
       "      <td>95.64</td>\n",
       "    </tr>\n",
       "    <tr>\n",
       "      <th>INS_TA_DATE_ASSIGNED</th>\n",
       "      <td>1313248</td>\n",
       "      <td>50.89</td>\n",
       "    </tr>\n",
       "    <tr>\n",
       "      <th>E_28_DATE</th>\n",
       "      <td>40</td>\n",
       "      <td>0.00</td>\n",
       "    </tr>\n",
       "    <tr>\n",
       "      <th>IDNREPSASSIGNED</th>\n",
       "      <td>0</td>\n",
       "      <td>0.00</td>\n",
       "    </tr>\n",
       "    <tr>\n",
       "      <th>IDNCASE</th>\n",
       "      <td>0</td>\n",
       "      <td>0.00</td>\n",
       "    </tr>\n",
       "    <tr>\n",
       "      <th>STRATTYLEVEL</th>\n",
       "      <td>0</td>\n",
       "      <td>0.00</td>\n",
       "    </tr>\n",
       "    <tr>\n",
       "      <th>STRATTYTYPE</th>\n",
       "      <td>0</td>\n",
       "      <td>0.00</td>\n",
       "    </tr>\n",
       "    <tr>\n",
       "      <th>PARENT_TABLE</th>\n",
       "      <td>0</td>\n",
       "      <td>0.00</td>\n",
       "    </tr>\n",
       "    <tr>\n",
       "      <th>PARENT_IDN</th>\n",
       "      <td>0</td>\n",
       "      <td>0.00</td>\n",
       "    </tr>\n",
       "    <tr>\n",
       "      <th>BLNPRIMEATTY</th>\n",
       "      <td>0</td>\n",
       "      <td>0.00</td>\n",
       "    </tr>\n",
       "  </tbody>\n",
       "</table>\n",
       "</div>"
      ],
      "text/plain": [
       "                      Missing Count  Missing %\n",
       "E_27_DATE                   2580448     100.00\n",
       "BASE_CITY_CODE              2467902      95.64\n",
       "INS_TA_DATE_ASSIGNED        1313248      50.89\n",
       "E_28_DATE                        40       0.00\n",
       "IDNREPSASSIGNED                   0       0.00\n",
       "IDNCASE                           0       0.00\n",
       "STRATTYLEVEL                      0       0.00\n",
       "STRATTYTYPE                       0       0.00\n",
       "PARENT_TABLE                      0       0.00\n",
       "PARENT_IDN                        0       0.00\n",
       "BLNPRIMEATTY                      0       0.00"
      ]
     },
     "metadata": {},
     "output_type": "display_data"
    }
   ],
   "source": [
    "null_counts = juvenile_reps_assigned.isna().sum()\n",
    "percent_missing = (null_counts / len(juvenile_reps_assigned)) * 100\n",
    "\n",
    "missing_summary = pd.DataFrame(\n",
    "    {\"Missing Count\": null_counts, \"Missing %\": percent_missing.round(2)}\n",
    ").sort_values(by=\"Missing Count\", ascending=False)\n",
    "\n",
    "display(missing_summary)"
   ]
  },
  {
   "cell_type": "markdown",
   "id": "364c0a3c",
   "metadata": {},
   "source": [
    "Several columns are now fully null after filtering to juvenile cases, most notably `E_27_DATE` (100% missing) and `BASE_CITY_CODE` (~96% missing). "
   ]
  },
  {
   "cell_type": "markdown",
   "id": "1b63268c",
   "metadata": {},
   "source": [
    "#### Selected Features – `tbl_RepsAssigned`\n",
    "\n",
    "- **`IDNREPSASSIGNED`** – Primary key for this table.  \n",
    "- **`IDNCASE`** – Foreign key linking to `tblCase`.  \n",
    "- **`STRATTYLEVEL`** – Stage or jurisdiction level where the attorney participates:  \n",
    "  - `\"COURT\"` → Immigration Court  \n",
    "  - `\"BOARD\"` → Board of Immigration Appeals  \n",
    "- **`STRATTYTYPE`** – Identifies who the attorney or representative is representing:  \n",
    "  - `ALIEN` → Represents the noncitizen in the case (indicates representation)  \n",
    "  - `INS` → Represents the government (Department of Homeland Security); removed from analysis.  \n",
    "- **`E_28_DATE`** – Date of submission of **Form EOIR-28** (*Notice of Entry of Appearance as Attorney or Representative Before the Immigration Court*).  "
   ]
  },
  {
   "cell_type": "code",
   "execution_count": 70,
   "id": "22a029b3",
   "metadata": {},
   "outputs": [],
   "source": [
    "selected_columns = [\n",
    "    \"IDNREPSASSIGNED\",\n",
    "    \"IDNCASE\",\n",
    "    \"STRATTYLEVEL\",\n",
    "    \"STRATTYTYPE\",\n",
    "    \"E_28_DATE\",\n",
    "]"
   ]
  },
  {
   "cell_type": "code",
   "execution_count": 71,
   "id": "e644fb36",
   "metadata": {},
   "outputs": [],
   "source": [
    "juvenile_reps_assigned = juvenile_reps_assigned[selected_columns]"
   ]
  },
  {
   "cell_type": "code",
   "execution_count": null,
   "id": "bab455a4",
   "metadata": {},
   "outputs": [
    {
     "data": {
      "text/html": [
       "<div>\n",
       "<style scoped>\n",
       "    .dataframe tbody tr th:only-of-type {\n",
       "        vertical-align: middle;\n",
       "    }\n",
       "\n",
       "    .dataframe tbody tr th {\n",
       "        vertical-align: top;\n",
       "    }\n",
       "\n",
       "    .dataframe thead th {\n",
       "        text-align: right;\n",
       "    }\n",
       "</style>\n",
       "<table border=\"1\" class=\"dataframe\">\n",
       "  <thead>\n",
       "    <tr style=\"text-align: right;\">\n",
       "      <th></th>\n",
       "      <th>IDNREPSASSIGNED</th>\n",
       "      <th>IDNCASE</th>\n",
       "      <th>STRATTYLEVEL</th>\n",
       "      <th>STRATTYTYPE</th>\n",
       "      <th>E_28_DATE</th>\n",
       "    </tr>\n",
       "  </thead>\n",
       "  <tbody>\n",
       "    <tr>\n",
       "      <th>0</th>\n",
       "      <td>5947072</td>\n",
       "      <td>2607017</td>\n",
       "      <td>COURT</td>\n",
       "      <td>ALIEN</td>\n",
       "      <td>2004-09-23 00:00:00.000</td>\n",
       "    </tr>\n",
       "    <tr>\n",
       "      <th>1</th>\n",
       "      <td>5947352</td>\n",
       "      <td>2848551</td>\n",
       "      <td>COURT</td>\n",
       "      <td>ALIEN</td>\n",
       "      <td>1991-10-29 00:00:00.000</td>\n",
       "    </tr>\n",
       "    <tr>\n",
       "      <th>2</th>\n",
       "      <td>5948254</td>\n",
       "      <td>2824744</td>\n",
       "      <td>COURT</td>\n",
       "      <td>ALIEN</td>\n",
       "      <td>1999-06-25 00:00:00.000</td>\n",
       "    </tr>\n",
       "    <tr>\n",
       "      <th>3</th>\n",
       "      <td>5948542</td>\n",
       "      <td>2047758</td>\n",
       "      <td>COURT</td>\n",
       "      <td>ALIEN</td>\n",
       "      <td>2004-07-15 00:00:00.000</td>\n",
       "    </tr>\n",
       "    <tr>\n",
       "      <th>4</th>\n",
       "      <td>5949322</td>\n",
       "      <td>3131023</td>\n",
       "      <td>COURT</td>\n",
       "      <td>ALIEN</td>\n",
       "      <td>2005-05-26 00:00:00.000</td>\n",
       "    </tr>\n",
       "  </tbody>\n",
       "</table>\n",
       "</div>"
      ],
      "text/plain": [
       "   IDNREPSASSIGNED  IDNCASE STRATTYLEVEL STRATTYTYPE                E_28_DATE\n",
       "0          5947072  2607017        COURT       ALIEN  2004-09-23 00:00:00.000\n",
       "1          5947352  2848551        COURT       ALIEN  1991-10-29 00:00:00.000\n",
       "2          5948254  2824744        COURT       ALIEN  1999-06-25 00:00:00.000\n",
       "3          5948542  2047758        COURT       ALIEN  2004-07-15 00:00:00.000\n",
       "4          5949322  3131023        COURT       ALIEN  2005-05-26 00:00:00.000"
      ]
     },
     "execution_count": 72,
     "metadata": {},
     "output_type": "execute_result"
    }
   ],
   "source": [
    "juvenile_reps_assigned.head()"
   ]
  },
  {
   "cell_type": "markdown",
   "id": "3556fe44",
   "metadata": {},
   "source": [
    "#### Specifying Column Data Types\n",
    "\n",
    "- `STRATTYLEVEL`, `STRATTYTYPE`: categorical — stored as `category` to ensure consistency and reduce memory usage.  \n",
    "- `E_28_DATE`: datetime — stored as `datetime64[ns]` for accurate temporal analysis."
   ]
  },
  {
   "cell_type": "code",
   "execution_count": 79,
   "id": "9fd8677b",
   "metadata": {},
   "outputs": [
    {
     "data": {
      "text/plain": [
       "IDNREPSASSIGNED             int64\n",
       "IDNCASE                     int64\n",
       "STRATTYLEVEL               object\n",
       "STRATTYTYPE                object\n",
       "E_28_DATE          datetime64[ns]\n",
       "dtype: object"
      ]
     },
     "execution_count": 79,
     "metadata": {},
     "output_type": "execute_result"
    }
   ],
   "source": [
    "juvenile_reps_assigned.dtypes"
   ]
  },
  {
   "cell_type": "code",
   "execution_count": 81,
   "id": "2cf20e2f",
   "metadata": {},
   "outputs": [],
   "source": [
    "juvenile_reps_assigned = juvenile_reps_assigned.astype(\n",
    "    {\"STRATTYLEVEL\": \"category\", \"STRATTYTYPE\": \"category\"}\n",
    ")"
   ]
  },
  {
   "cell_type": "code",
   "execution_count": 83,
   "id": "71ac72eb",
   "metadata": {},
   "outputs": [],
   "source": [
    "for col in juvenile_reps_assigned.select_dtypes(include=\"category\"):\n",
    "    juvenile_reps_assigned[col] = juvenile_reps_assigned[\n",
    "        col\n",
    "    ].cat.remove_unused_categories()"
   ]
  },
  {
   "cell_type": "markdown",
   "id": "ac6a36d6",
   "metadata": {},
   "source": [
    "#### Datetime Format Validation\n",
    "\n",
    "Target feature for validation and conversion:\n",
    "- `E_28_DATE`\n",
    "\n",
    "All values follow the pattern `YYYY-MM-DD 00:00:00.000` (e.g., `2025-02-04 00:00:00.000`).  \n",
    "Validation will be performed by checking all non-null entries against this format to ensure compatibility before applying `pd.to_datetime(errors=\"coerce\")`.  \n",
    "\n",
    "During transformation, only the `YYYY-MM-DD` portion of each timestamp will be retained for analysis."
   ]
  },
  {
   "cell_type": "code",
   "execution_count": 73,
   "id": "ebd912e0",
   "metadata": {},
   "outputs": [],
   "source": [
    "def find_invalid_dates(df, column):\n",
    "    \"\"\"\n",
    "    Returns non-null rows that don’t match the `YYYY-MM-DD` pattern.\n",
    "    \"\"\"\n",
    "    return df[\n",
    "        df[column].notna()\n",
    "        & ~df[column].astype(str).str.contains(r\"\\d{4}-\\d{2}-\\d{2}\", regex=True)\n",
    "    ][[column]]"
   ]
  },
  {
   "cell_type": "code",
   "execution_count": 74,
   "id": "a6c02310",
   "metadata": {},
   "outputs": [],
   "source": [
    "invalid_E_28_DATE = find_invalid_dates(juvenile_reps_assigned, \"E_28_DATE\")"
   ]
  },
  {
   "cell_type": "code",
   "execution_count": 75,
   "id": "5cc3cfdb",
   "metadata": {},
   "outputs": [],
   "source": [
    "def report_invalid(name, df):\n",
    "    \"\"\"\n",
    "    Prints the number of invalid entries and displays the DataFrame if not empty.\n",
    "    \"\"\"\n",
    "    count = len(df)\n",
    "    print(f\"{name}: {count} invalid entr{'y' if count == 1 else 'ies'}\")\n",
    "    if count > 0:\n",
    "        display(df)"
   ]
  },
  {
   "cell_type": "code",
   "execution_count": 76,
   "id": "36767eb6",
   "metadata": {},
   "outputs": [
    {
     "name": "stdout",
     "output_type": "stream",
     "text": [
      "E_28_DATE: 0 invalid entries\n"
     ]
    }
   ],
   "source": [
    "report_invalid(\"E_28_DATE\", invalid_E_28_DATE)"
   ]
  },
  {
   "cell_type": "code",
   "execution_count": 78,
   "id": "1383b949",
   "metadata": {},
   "outputs": [],
   "source": [
    "juvenile_reps_assigned[\"E_28_DATE\"] = pd.to_datetime(\n",
    "    juvenile_reps_assigned[\"E_28_DATE\"], errors=\"coerce\"\n",
    ")"
   ]
  },
  {
   "cell_type": "code",
   "execution_count": 84,
   "id": "faac421d",
   "metadata": {},
   "outputs": [
    {
     "data": {
      "text/plain": [
       "IDNREPSASSIGNED             int64\n",
       "IDNCASE                     int64\n",
       "STRATTYLEVEL             category\n",
       "STRATTYTYPE              category\n",
       "E_28_DATE          datetime64[ns]\n",
       "dtype: object"
      ]
     },
     "execution_count": 84,
     "metadata": {},
     "output_type": "execute_result"
    }
   ],
   "source": [
    "juvenile_reps_assigned.dtypes"
   ]
  },
  {
   "cell_type": "markdown",
   "id": "445ce7dc",
   "metadata": {},
   "source": [
    "#### Representation Identification Logic\n",
    "\n",
    "The `tbl_RepsAssigned` table serves as the primary source for determining whether a person is represented by legal counsel.  \n",
    "Representation status is inferred from the `STRATTYTYPE` column:\n",
    "\n",
    "- **Represented** — Case has at least one matching `IDNCASE` in `tbl_RepsAssigned` with `STRATTYTYPE = \"ALIEN\"`, indicating the attorney is representing the noncitizen.  \n",
    "- **Not Represented** — Case `IDNCASE` does not appear in `tbl_RepsAssigned` with `STRATTYTYPE = \"ALIEN\"`.  \n",
    "\n",
    "This method also allows counting the number of representatives per case by aggregating matching rows for each `IDNCASE`.  \n",
    "\n",
    "Since the dataset does not provide a direct representation flag, this classification relies on accurate and consistent data entry by EOIR in `STRATTYTYPE`."
   ]
  },
  {
   "cell_type": "code",
   "execution_count": 85,
   "id": "b6555c68",
   "metadata": {},
   "outputs": [
    {
     "name": "stdout",
     "output_type": "stream",
     "text": [
      "Total representative records: 2580448\n",
      "Unique represented cases: 1031166\n",
      "Average representatives per represented case: 2.50\n"
     ]
    }
   ],
   "source": [
    "total_records = juvenile_reps_assigned[\"IDNCASE\"].count()\n",
    "unique_cases = juvenile_reps_assigned[\"IDNCASE\"].nunique()\n",
    "avg_reps_per_case = total_records / unique_cases\n",
    "\n",
    "print(f\"Total representative records: {total_records}\")\n",
    "print(f\"Unique represented cases: {unique_cases}\")\n",
    "print(f\"Average representatives per represented case: {avg_reps_per_case:.2f}\")"
   ]
  }
 ],
 "metadata": {
  "kernelspec": {
   "display_name": "ds",
   "language": "python",
   "name": "python3"
  },
  "language_info": {
   "codemirror_mode": {
    "name": "ipython",
    "version": 3
   },
   "file_extension": ".py",
   "mimetype": "text/x-python",
   "name": "python",
   "nbconvert_exporter": "python",
   "pygments_lexer": "ipython3",
   "version": "3.12.9"
  }
 },
 "nbformat": 4,
 "nbformat_minor": 5
}
