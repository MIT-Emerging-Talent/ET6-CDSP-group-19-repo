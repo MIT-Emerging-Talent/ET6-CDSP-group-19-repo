{
 "cells": [
  {
   "cell_type": "code",
   "execution_count": 1,
   "id": "2e71b40b",
   "metadata": {},
   "outputs": [],
   "source": [
    "import pandas as pd"
   ]
  },
  {
   "cell_type": "code",
   "execution_count": 2,
   "id": "21541b75",
   "metadata": {},
   "outputs": [],
   "source": [
    "pd.options.display.max_columns = False"
   ]
  },
  {
   "cell_type": "markdown",
   "id": "cc82d9df",
   "metadata": {},
   "source": [
    "### Clean `B_TblProceeding` table"
   ]
  },
  {
   "cell_type": "markdown",
   "id": "61e0233d",
   "metadata": {},
   "source": [
    "#### Initial Data Inspection\n",
    "\n",
    "The dataset contains approximately 16 million rows. To avoid memory issues and reduce unnecessary processing, only the first 1000 rows will be inspected initially:\n",
    "\n",
    "- Get an overview of the data types (`dtypes`)\n",
    "- Identify columns/features worth keeping for the EDA\n",
    "- Skip any columns that appear to be irrelevant or redundant\n",
    "\n",
    "This initial check will help streamline the analysis and focus only on useful information."
   ]
  },
  {
   "cell_type": "code",
   "execution_count": 3,
   "id": "6c3fcbb0",
   "metadata": {},
   "outputs": [],
   "source": [
    "proceedings_path = \"../../data/raw/B_TblProceeding.csv\"\n",
    "\n",
    "proceedings = pd.read_csv(\n",
    "    filepath_or_buffer=proceedings_path, delimiter=\"\\t\", nrows=1000\n",
    ")"
   ]
  },
  {
   "cell_type": "code",
   "execution_count": 4,
   "id": "7c9183c6",
   "metadata": {},
   "outputs": [
    {
     "data": {
      "text/html": [
       "<div>\n",
       "<style scoped>\n",
       "    .dataframe tbody tr th:only-of-type {\n",
       "        vertical-align: middle;\n",
       "    }\n",
       "\n",
       "    .dataframe tbody tr th {\n",
       "        vertical-align: top;\n",
       "    }\n",
       "\n",
       "    .dataframe thead th {\n",
       "        text-align: right;\n",
       "    }\n",
       "</style>\n",
       "<table border=\"1\" class=\"dataframe\">\n",
       "  <thead>\n",
       "    <tr style=\"text-align: right;\">\n",
       "      <th></th>\n",
       "      <th>IDNPROCEEDING</th>\n",
       "      <th>IDNCASE</th>\n",
       "      <th>OSC_DATE</th>\n",
       "      <th>INPUT_DATE</th>\n",
       "      <th>BASE_CITY_CODE</th>\n",
       "      <th>HEARING_LOC_CODE</th>\n",
       "      <th>IJ_CODE</th>\n",
       "      <th>TRANS_IN_DATE</th>\n",
       "      <th>PREV_HEARING_LOC</th>\n",
       "      <th>PREV_HEARING_BASE</th>\n",
       "      <th>PREV_IJ_CODE</th>\n",
       "      <th>TRANS_NBR</th>\n",
       "      <th>HEARING_DATE</th>\n",
       "      <th>HEARING_TIME</th>\n",
       "      <th>DEC_TYPE</th>\n",
       "      <th>DEC_CODE</th>\n",
       "      <th>DEPORTED_1</th>\n",
       "      <th>DEPORTED_2</th>\n",
       "      <th>OTHER_COMP</th>\n",
       "      <th>APPEAL_RSVD</th>\n",
       "      <th>APPEAL_NOT_FILED</th>\n",
       "      <th>COMP_DATE</th>\n",
       "      <th>ABSENTIA</th>\n",
       "      <th>VENUE_CHG_GRANTED</th>\n",
       "      <th>TRANSFER_TO</th>\n",
       "      <th>DATE_APPEAL_DUE_STATUS</th>\n",
       "      <th>TRANSFER_STATUS</th>\n",
       "      <th>CUSTODY</th>\n",
       "      <th>CASE_TYPE</th>\n",
       "      <th>NAT</th>\n",
       "      <th>LANG</th>\n",
       "      <th>SCHEDULED_HEAR_LOC</th>\n",
       "      <th>CORRECTIONAL_FAC</th>\n",
       "      <th>CRIM_IND</th>\n",
       "      <th>IHP</th>\n",
       "      <th>AGGRAVATE_FELON</th>\n",
       "      <th>DATE_DETAINED</th>\n",
       "      <th>DATE_RELEASED</th>\n",
       "    </tr>\n",
       "  </thead>\n",
       "  <tbody>\n",
       "    <tr>\n",
       "      <th>0</th>\n",
       "      <td>9329335</td>\n",
       "      <td>9431121</td>\n",
       "      <td>2019-12-22 00:00:00.000</td>\n",
       "      <td>2020-01-31 00:00:00.000</td>\n",
       "      <td>CHL</td>\n",
       "      <td>CHL</td>\n",
       "      <td>SC2</td>\n",
       "      <td>NaN</td>\n",
       "      <td>NaN</td>\n",
       "      <td>NaN</td>\n",
       "      <td>NaN</td>\n",
       "      <td>NaN</td>\n",
       "      <td>2022-02-22 00:00:00.000</td>\n",
       "      <td>800.0</td>\n",
       "      <td>NaN</td>\n",
       "      <td>NaN</td>\n",
       "      <td>NaN</td>\n",
       "      <td>NaN</td>\n",
       "      <td>NaN</td>\n",
       "      <td>NaN</td>\n",
       "      <td>NaN</td>\n",
       "      <td>NaN</td>\n",
       "      <td>NaN</td>\n",
       "      <td>NaN</td>\n",
       "      <td>NaN</td>\n",
       "      <td>NaN</td>\n",
       "      <td>NaN</td>\n",
       "      <td>N</td>\n",
       "      <td>RMV</td>\n",
       "      <td>MX</td>\n",
       "      <td>SP</td>\n",
       "      <td>NaN</td>\n",
       "      <td>NaN</td>\n",
       "      <td>N</td>\n",
       "      <td>NaN</td>\n",
       "      <td>0.0</td>\n",
       "      <td>NaN</td>\n",
       "      <td>NaN</td>\n",
       "    </tr>\n",
       "    <tr>\n",
       "      <th>1</th>\n",
       "      <td>9329336</td>\n",
       "      <td>9431122</td>\n",
       "      <td>2019-12-22 00:00:00.000</td>\n",
       "      <td>2020-01-31 00:00:00.000</td>\n",
       "      <td>CHL</td>\n",
       "      <td>CHL</td>\n",
       "      <td>SC2</td>\n",
       "      <td>NaN</td>\n",
       "      <td>NaN</td>\n",
       "      <td>NaN</td>\n",
       "      <td>NaN</td>\n",
       "      <td>NaN</td>\n",
       "      <td>2022-02-22 00:00:00.000</td>\n",
       "      <td>800.0</td>\n",
       "      <td>NaN</td>\n",
       "      <td>NaN</td>\n",
       "      <td>NaN</td>\n",
       "      <td>NaN</td>\n",
       "      <td>NaN</td>\n",
       "      <td>NaN</td>\n",
       "      <td>NaN</td>\n",
       "      <td>NaN</td>\n",
       "      <td>NaN</td>\n",
       "      <td>NaN</td>\n",
       "      <td>NaN</td>\n",
       "      <td>NaN</td>\n",
       "      <td>NaN</td>\n",
       "      <td>N</td>\n",
       "      <td>RMV</td>\n",
       "      <td>MX</td>\n",
       "      <td>SP</td>\n",
       "      <td>NaN</td>\n",
       "      <td>NaN</td>\n",
       "      <td>N</td>\n",
       "      <td>NaN</td>\n",
       "      <td>0.0</td>\n",
       "      <td>NaN</td>\n",
       "      <td>NaN</td>\n",
       "    </tr>\n",
       "    <tr>\n",
       "      <th>2</th>\n",
       "      <td>9329337</td>\n",
       "      <td>9431123</td>\n",
       "      <td>2019-12-22 00:00:00.000</td>\n",
       "      <td>2020-01-31 00:00:00.000</td>\n",
       "      <td>CHL</td>\n",
       "      <td>CHL</td>\n",
       "      <td>SC2</td>\n",
       "      <td>NaN</td>\n",
       "      <td>NaN</td>\n",
       "      <td>NaN</td>\n",
       "      <td>NaN</td>\n",
       "      <td>NaN</td>\n",
       "      <td>2022-02-22 00:00:00.000</td>\n",
       "      <td>800.0</td>\n",
       "      <td>NaN</td>\n",
       "      <td>NaN</td>\n",
       "      <td>NaN</td>\n",
       "      <td>NaN</td>\n",
       "      <td>NaN</td>\n",
       "      <td>NaN</td>\n",
       "      <td>NaN</td>\n",
       "      <td>NaN</td>\n",
       "      <td>NaN</td>\n",
       "      <td>NaN</td>\n",
       "      <td>NaN</td>\n",
       "      <td>NaN</td>\n",
       "      <td>NaN</td>\n",
       "      <td>N</td>\n",
       "      <td>RMV</td>\n",
       "      <td>MX</td>\n",
       "      <td>SP</td>\n",
       "      <td>NaN</td>\n",
       "      <td>NaN</td>\n",
       "      <td>N</td>\n",
       "      <td>NaN</td>\n",
       "      <td>0.0</td>\n",
       "      <td>NaN</td>\n",
       "      <td>NaN</td>\n",
       "    </tr>\n",
       "    <tr>\n",
       "      <th>3</th>\n",
       "      <td>9329338</td>\n",
       "      <td>9431124</td>\n",
       "      <td>2019-12-09 00:00:00.000</td>\n",
       "      <td>2020-02-13 00:00:00.000</td>\n",
       "      <td>KRO</td>\n",
       "      <td>BCJ</td>\n",
       "      <td>DL</td>\n",
       "      <td>NaN</td>\n",
       "      <td>NaN</td>\n",
       "      <td>NaN</td>\n",
       "      <td>NaN</td>\n",
       "      <td>NaN</td>\n",
       "      <td>2020-02-24 00:00:00.000</td>\n",
       "      <td>830.0</td>\n",
       "      <td>O</td>\n",
       "      <td>X</td>\n",
       "      <td>CU</td>\n",
       "      <td>NaN</td>\n",
       "      <td>NaN</td>\n",
       "      <td>NaN</td>\n",
       "      <td>NaN</td>\n",
       "      <td>2020-02-24 00:00:00.000</td>\n",
       "      <td>N</td>\n",
       "      <td>NaN</td>\n",
       "      <td>NaN</td>\n",
       "      <td>2020-03-25 00:00:00.000</td>\n",
       "      <td>NaN</td>\n",
       "      <td>D</td>\n",
       "      <td>RMV</td>\n",
       "      <td>CU</td>\n",
       "      <td>SP</td>\n",
       "      <td>NaN</td>\n",
       "      <td>NaN</td>\n",
       "      <td>Y</td>\n",
       "      <td>NaN</td>\n",
       "      <td>0.0</td>\n",
       "      <td>2020-02-07 00:00:00.000</td>\n",
       "      <td>NaN</td>\n",
       "    </tr>\n",
       "    <tr>\n",
       "      <th>4</th>\n",
       "      <td>9329339</td>\n",
       "      <td>9431125</td>\n",
       "      <td>2019-12-12 00:00:00.000</td>\n",
       "      <td>2020-01-31 00:00:00.000</td>\n",
       "      <td>CHL</td>\n",
       "      <td>CHL</td>\n",
       "      <td>SC2</td>\n",
       "      <td>NaN</td>\n",
       "      <td>NaN</td>\n",
       "      <td>NaN</td>\n",
       "      <td>NaN</td>\n",
       "      <td>NaN</td>\n",
       "      <td>2022-02-22 00:00:00.000</td>\n",
       "      <td>800.0</td>\n",
       "      <td>NaN</td>\n",
       "      <td>NaN</td>\n",
       "      <td>NaN</td>\n",
       "      <td>NaN</td>\n",
       "      <td>NaN</td>\n",
       "      <td>NaN</td>\n",
       "      <td>NaN</td>\n",
       "      <td>NaN</td>\n",
       "      <td>NaN</td>\n",
       "      <td>NaN</td>\n",
       "      <td>NaN</td>\n",
       "      <td>NaN</td>\n",
       "      <td>NaN</td>\n",
       "      <td>R</td>\n",
       "      <td>RMV</td>\n",
       "      <td>MX</td>\n",
       "      <td>SP</td>\n",
       "      <td>NaN</td>\n",
       "      <td>NaN</td>\n",
       "      <td>N</td>\n",
       "      <td>NaN</td>\n",
       "      <td>0.0</td>\n",
       "      <td>2020-01-31 00:00:00.000</td>\n",
       "      <td>2020-01-31 00:00:00.000</td>\n",
       "    </tr>\n",
       "  </tbody>\n",
       "</table>\n",
       "</div>"
      ],
      "text/plain": [
       "   IDNPROCEEDING  IDNCASE  ...            DATE_DETAINED            DATE_RELEASED\n",
       "0        9329335  9431121  ...                      NaN                      NaN\n",
       "1        9329336  9431122  ...                      NaN                      NaN\n",
       "2        9329337  9431123  ...                      NaN                      NaN\n",
       "3        9329338  9431124  ...  2020-02-07 00:00:00.000                      NaN\n",
       "4        9329339  9431125  ...  2020-01-31 00:00:00.000  2020-01-31 00:00:00.000\n",
       "\n",
       "[5 rows x 38 columns]"
      ]
     },
     "execution_count": 4,
     "metadata": {},
     "output_type": "execute_result"
    }
   ],
   "source": [
    "proceedings.head()"
   ]
  },
  {
   "cell_type": "code",
   "execution_count": 5,
   "id": "f35a1b74",
   "metadata": {},
   "outputs": [
    {
     "name": "stdout",
     "output_type": "stream",
     "text": [
      "<class 'pandas.core.frame.DataFrame'>\n",
      "RangeIndex: 1000 entries, 0 to 999\n",
      "Data columns (total 38 columns):\n",
      " #   Column                  Non-Null Count  Dtype  \n",
      "---  ------                  --------------  -----  \n",
      " 0   IDNPROCEEDING           1000 non-null   int64  \n",
      " 1   IDNCASE                 1000 non-null   int64  \n",
      " 2   OSC_DATE                1000 non-null   object \n",
      " 3   INPUT_DATE              971 non-null    object \n",
      " 4   BASE_CITY_CODE          1000 non-null   object \n",
      " 5   HEARING_LOC_CODE        1000 non-null   object \n",
      " 6   IJ_CODE                 983 non-null    object \n",
      " 7   TRANS_IN_DATE           208 non-null    object \n",
      " 8   PREV_HEARING_LOC        430 non-null    object \n",
      " 9   PREV_HEARING_BASE       430 non-null    object \n",
      " 10  PREV_IJ_CODE            426 non-null    object \n",
      " 11  TRANS_NBR               436 non-null    float64\n",
      " 12  HEARING_DATE            965 non-null    object \n",
      " 13  HEARING_TIME            965 non-null    float64\n",
      " 14  DEC_TYPE                624 non-null    object \n",
      " 15  DEC_CODE                546 non-null    object \n",
      " 16  DEPORTED_1              432 non-null    object \n",
      " 17  DEPORTED_2              246 non-null    object \n",
      " 18  OTHER_COMP              372 non-null    object \n",
      " 19  APPEAL_RSVD             288 non-null    object \n",
      " 20  APPEAL_NOT_FILED        244 non-null    object \n",
      " 21  COMP_DATE               675 non-null    object \n",
      " 22  ABSENTIA                657 non-null    object \n",
      " 23  VENUE_CHG_GRANTED       130 non-null    object \n",
      " 24  TRANSFER_TO             338 non-null    object \n",
      " 25  DATE_APPEAL_DUE_STATUS  591 non-null    object \n",
      " 26  TRANSFER_STATUS         505 non-null    object \n",
      " 27  CUSTODY                 1000 non-null   object \n",
      " 28  CASE_TYPE               1000 non-null   object \n",
      " 29  NAT                     998 non-null    object \n",
      " 30  LANG                    1000 non-null   object \n",
      " 31  SCHEDULED_HEAR_LOC      249 non-null    object \n",
      " 32  CORRECTIONAL_FAC        226 non-null    object \n",
      " 33  CRIM_IND                983 non-null    object \n",
      " 34  IHP                     226 non-null    object \n",
      " 35  AGGRAVATE_FELON         740 non-null    float64\n",
      " 36  DATE_DETAINED           213 non-null    object \n",
      " 37  DATE_RELEASED           110 non-null    object \n",
      "dtypes: float64(3), int64(2), object(33)\n",
      "memory usage: 297.0+ KB\n"
     ]
    }
   ],
   "source": [
    "proceedings.info()"
   ]
  },
  {
   "cell_type": "code",
   "execution_count": 6,
   "id": "cf0ecd15",
   "metadata": {},
   "outputs": [
    {
     "data": {
      "text/plain": [
       "Index(['IDNPROCEEDING', 'IDNCASE', 'OSC_DATE', 'INPUT_DATE', 'BASE_CITY_CODE',\n",
       "       'HEARING_LOC_CODE', 'IJ_CODE', 'TRANS_IN_DATE', 'PREV_HEARING_LOC',\n",
       "       'PREV_HEARING_BASE', 'PREV_IJ_CODE', 'TRANS_NBR', 'HEARING_DATE',\n",
       "       'HEARING_TIME', 'DEC_TYPE', 'DEC_CODE', 'DEPORTED_1', 'DEPORTED_2',\n",
       "       'OTHER_COMP', 'APPEAL_RSVD', 'APPEAL_NOT_FILED', 'COMP_DATE',\n",
       "       'ABSENTIA', 'VENUE_CHG_GRANTED', 'TRANSFER_TO',\n",
       "       'DATE_APPEAL_DUE_STATUS', 'TRANSFER_STATUS', 'CUSTODY', 'CASE_TYPE',\n",
       "       'NAT', 'LANG', 'SCHEDULED_HEAR_LOC', 'CORRECTIONAL_FAC', 'CRIM_IND',\n",
       "       'IHP', 'AGGRAVATE_FELON', 'DATE_DETAINED', 'DATE_RELEASED'],\n",
       "      dtype='object')"
      ]
     },
     "execution_count": 6,
     "metadata": {},
     "output_type": "execute_result"
    }
   ],
   "source": [
    "proceedings.columns"
   ]
  },
  {
   "cell_type": "markdown",
   "id": "d4a9c479",
   "metadata": {},
   "source": [
    "#### Selected Features for EDA – `B_TblProceeding`\n",
    "\n",
    "The selected columns below are core proceeding-level features relevant to analyzing juvenile immigration cases. They were chosen based on the source dataset documentation and their importance for understanding case timelines, decisions, and access to justice.\n",
    "\n",
    "These fields include:\n",
    "\n",
    "- **Case timeline**: `OSC_DATE`, `COMP_DATE`, `INPUT_DATE`\n",
    "- **Case outcomes**: `DEC_CODE`, `ABSENTIA`, `CRIM_IND`\n",
    "- **Demographics & access**: `NAT`, `LANG`, `CUSTODY`, `CASE_TYPE`\n",
    "- **Court geography**: `BASE_CITY_CODE`, `HEARING_LOC_CODE`\n",
    "\n",
    "These variables allow us to track the duration of proceedings, categorize outcomes, and evaluate regional disparities and vulnerability factors."
   ]
  },
  {
   "cell_type": "code",
   "execution_count": 7,
   "id": "fec78b0e",
   "metadata": {},
   "outputs": [],
   "source": [
    "selected_columns = [\n",
    "    \"IDNPROCEEDING\",\n",
    "    \"IDNCASE\",\n",
    "    \"OSC_DATE\",\n",
    "    \"INPUT_DATE\",\n",
    "    \"COMP_DATE\",\n",
    "    \"BASE_CITY_CODE\",\n",
    "    \"HEARING_LOC_CODE\",\n",
    "    \"DEC_CODE\",\n",
    "    \"ABSENTIA\",\n",
    "    \"CRIM_IND\",\n",
    "    \"NAT\",\n",
    "    \"LANG\",\n",
    "    \"CASE_TYPE\",\n",
    "    \"CUSTODY\",\n",
    "    \"DATE_DETAINED\",\n",
    "    \"DATE_RELEASED\",\n",
    "]"
   ]
  },
  {
   "cell_type": "markdown",
   "id": "7c36e364",
   "metadata": {},
   "source": [
    "#### Specifying Column Data Types\n",
    "\n",
    "- `Int64`: Assigned to `IDNPROCEEDING` (primary key) and `IDNCASE` (foreign key to `cases` table) to support nullable integer identifiers.  \n",
    "- `category`: Applied to repeated string fields for memory efficiency:\n",
    "  `BASE_CITY_CODE`, `HEARING_LOC_CODE`, `DEC_CODE`, `ABSENTIA`, `CRIM_IND`, `NAT`, `LANG`, `CASE_TYPE`, `CUSTODY`.  \n",
    "- `object`: Used for date fields (`OSC_DATE`, `INPUT_DATE`, `COMP_DATE`, `DATE_DETAINED`, `DATE_RELEASED`) to preserve original formats before validation and conversion to `datetime`."
   ]
  },
  {
   "cell_type": "code",
   "execution_count": 8,
   "id": "57d44479",
   "metadata": {},
   "outputs": [],
   "source": [
    "dtypes = {\n",
    "    \"IDNPROCEEDING\": \"Int64\",\n",
    "    \"IDNCASE\": \"Int64\",\n",
    "    \"OSC_DATE\": \"object\",\n",
    "    \"INPUT_DATE\": \"object\",\n",
    "    \"COMP_DATE\": \"object\",\n",
    "    \"BASE_CITY_CODE\": \"category\",\n",
    "    \"HEARING_LOC_CODE\": \"category\",\n",
    "    \"DEC_CODE\": \"category\",\n",
    "    \"ABSENTIA\": \"category\",\n",
    "    \"CRIM_IND\": \"category\",\n",
    "    \"NAT\": \"category\",\n",
    "    \"LANG\": \"category\",\n",
    "    \"CASE_TYPE\": \"category\",\n",
    "    \"CUSTODY\": \"category\",\n",
    "    \"DATE_DETAINED\": \"object\",\n",
    "    \"DATE_RELEASED\": \"object\",\n",
    "}"
   ]
  },
  {
   "cell_type": "markdown",
   "id": "1c9216bb",
   "metadata": {},
   "source": [
    "#### Skipping Malformed Rows\n",
    "\n",
    "Some lines in the dataset have an incorrect number of tab-separated fields, which can cause parsing errors during loading.  \n",
    "The script first determines the expected number of columns from the header, then identifies and skips any rows that don't match.  \n",
    "This approach ensures only properly structured records are read without triggering errors or discarding valid data."
   ]
  },
  {
   "cell_type": "code",
   "execution_count": 9,
   "id": "96ff620a",
   "metadata": {},
   "outputs": [
    {
     "name": "stdout",
     "output_type": "stream",
     "text": [
      "Rows to skip: [97835, 570096, 570097, 711871, 808187, 925893, 1340981, 1374429, 1375092, 1526869, 1540198, 1634092, 2027082, 2178293, 2178294, 2799401, 2833726, 2845396, 2874449, 2874454, 3050966, 3072502, 3089401, 3094348, 3314332, 3314333, 3499731, 3529540, 3834981, 4010908, 4192732, 4192733, 4247596, 4328751, 4328752, 4402946, 4456120, 4485669, 4485670, 4594041, 4594042, 4777655, 5037195, 5289573, 5294225, 5460027, 5505089, 5685628, 5765052, 5767554, 5770037, 6079161, 6079162, 6354988, 6372650, 6720545, 6720546, 6906838, 7537286, 7537287, 7903157, 7903158, 8106585, 8106586, 8192257, 8296762, 8561598, 8660111, 8738299, 8738764, 8744904, 8831487, 8914785, 9882723, 9973801, 10102404, 10244630, 10284073, 10438487, 10551043, 10813073, 10894138, 10894139, 10937485, 11256349, 11256350, 11415193, 11415194, 11451606, 11482022, 11523116, 11539956, 11551964, 11586386, 11668880, 13514773, 13514774, 13529532, 13529533, 13535869, 14139697, 14139698, 14392108, 14392109, 14464216, 14557193, 14557194, 14796190, 14796191, 14856170, 14856171, 14908476, 14914396, 14944438, 14980851, 14980852, 15011263]\n"
     ]
    }
   ],
   "source": [
    "import csv\n",
    "\n",
    "with open(proceedings_path, \"r\", encoding=\"utf-8\", errors=\"ignore\") as f:\n",
    "    header = f.readline().rstrip(\"\\n\").split(\"\\t\")\n",
    "n_fields = len(header)\n",
    "\n",
    "bad_rows = []\n",
    "with open(proceedings_path, \"r\", encoding=\"utf-8\", errors=\"ignore\") as f:\n",
    "    for i, line in enumerate(f):\n",
    "        if i == 0:\n",
    "            continue  # skip header\n",
    "        if len(line.rstrip(\"\\n\").split(\"\\t\")) != n_fields:\n",
    "            bad_rows.append(i)\n",
    "\n",
    "print(\"Rows to skip:\", bad_rows)"
   ]
  },
  {
   "cell_type": "code",
   "execution_count": 10,
   "id": "9fbbcd34",
   "metadata": {},
   "outputs": [],
   "source": [
    "proceedings = pd.read_csv(\n",
    "    proceedings_path,\n",
    "    sep=\"\\t\",\n",
    "    usecols=selected_columns,\n",
    "    dtype=str,\n",
    "    skiprows=bad_rows,\n",
    "    quoting=csv.QUOTE_NONE,\n",
    ")"
   ]
  },
  {
   "cell_type": "code",
   "execution_count": 11,
   "id": "6060d49e",
   "metadata": {},
   "outputs": [],
   "source": [
    "proceedings = proceedings.astype(dtypes)"
   ]
  },
  {
   "cell_type": "code",
   "execution_count": 12,
   "id": "554204ba",
   "metadata": {},
   "outputs": [
    {
     "data": {
      "text/plain": [
       "(15560384, 16)"
      ]
     },
     "execution_count": 12,
     "metadata": {},
     "output_type": "execute_result"
    }
   ],
   "source": [
    "proceedings.shape"
   ]
  },
  {
   "cell_type": "markdown",
   "id": "bec50a2b",
   "metadata": {},
   "source": [
    "#### Filtering for Juvenile Proceedings\n",
    "\n",
    "To isolate juvenile records from the `proceedings` DataFrame, apply a filter using `idnProceeding` values from `tbl_JuvenileHistory`.  \n",
    "This approach avoids an expensive join operation and reduces memory usage while ensuring that only juvenile-related proceedings are retained."
   ]
  },
  {
   "cell_type": "code",
   "execution_count": 13,
   "id": "a131ba12",
   "metadata": {},
   "outputs": [],
   "source": [
    "juvenile_history = pd.read_csv(\n",
    "    \"../../data/cleaned/juvenile_history_cleaned.csv.gz\",\n",
    "    usecols=[\"idnProceeding\"],\n",
    "    dtype={\"idnProceeding\": \"Int64\"},\n",
    ")"
   ]
  },
  {
   "cell_type": "code",
   "execution_count": 14,
   "id": "2500595d",
   "metadata": {},
   "outputs": [],
   "source": [
    "juvenile_proceeding_ids = juvenile_history[\"idnProceeding\"].dropna().unique()"
   ]
  },
  {
   "cell_type": "code",
   "execution_count": 15,
   "id": "e0dfc000",
   "metadata": {},
   "outputs": [],
   "source": [
    "juvenile_proceedings = proceedings[\n",
    "    proceedings[\"IDNPROCEEDING\"].isin(juvenile_proceeding_ids)\n",
    "].reset_index(drop=True)"
   ]
  },
  {
   "cell_type": "code",
   "execution_count": 16,
   "id": "d9ebe8e9",
   "metadata": {},
   "outputs": [
    {
     "name": "stdout",
     "output_type": "stream",
     "text": [
      "Number of idnProceeding keys in tbl_JuvenileHistory.csv table: 2,819,053\n",
      "Number of matched juvenile rows in B_TblProceeding.csv based on those keys: 2,819,051\n"
     ]
    }
   ],
   "source": [
    "print(\n",
    "    f\"Number of idnProceeding keys in tbl_JuvenileHistory.csv table: {len(juvenile_proceeding_ids):,}\"\n",
    ")\n",
    "print(\n",
    "    f\"Number of matched juvenile rows in B_TblProceeding.csv based on those keys: {juvenile_proceedings.shape[0]:,}\"\n",
    ")"
   ]
  },
  {
   "cell_type": "markdown",
   "id": "eb08ff8d",
   "metadata": {},
   "source": [
    "#### Data Inspection"
   ]
  },
  {
   "cell_type": "code",
   "execution_count": 17,
   "id": "b2fdd0a7",
   "metadata": {},
   "outputs": [
    {
     "data": {
      "text/html": [
       "<div>\n",
       "<style scoped>\n",
       "    .dataframe tbody tr th:only-of-type {\n",
       "        vertical-align: middle;\n",
       "    }\n",
       "\n",
       "    .dataframe tbody tr th {\n",
       "        vertical-align: top;\n",
       "    }\n",
       "\n",
       "    .dataframe thead th {\n",
       "        text-align: right;\n",
       "    }\n",
       "</style>\n",
       "<table border=\"1\" class=\"dataframe\">\n",
       "  <thead>\n",
       "    <tr style=\"text-align: right;\">\n",
       "      <th></th>\n",
       "      <th>IDNPROCEEDING</th>\n",
       "      <th>IDNCASE</th>\n",
       "      <th>OSC_DATE</th>\n",
       "      <th>INPUT_DATE</th>\n",
       "      <th>BASE_CITY_CODE</th>\n",
       "      <th>HEARING_LOC_CODE</th>\n",
       "      <th>DEC_CODE</th>\n",
       "      <th>COMP_DATE</th>\n",
       "      <th>ABSENTIA</th>\n",
       "      <th>CUSTODY</th>\n",
       "      <th>CASE_TYPE</th>\n",
       "      <th>NAT</th>\n",
       "      <th>LANG</th>\n",
       "      <th>CRIM_IND</th>\n",
       "      <th>DATE_DETAINED</th>\n",
       "      <th>DATE_RELEASED</th>\n",
       "    </tr>\n",
       "  </thead>\n",
       "  <tbody>\n",
       "    <tr>\n",
       "      <th>0</th>\n",
       "      <td>9329335</td>\n",
       "      <td>9431121</td>\n",
       "      <td>2019-12-22 00:00:00.000</td>\n",
       "      <td>2020-01-31 00:00:00.000</td>\n",
       "      <td>CHL</td>\n",
       "      <td>CHL</td>\n",
       "      <td>NaN</td>\n",
       "      <td>NaN</td>\n",
       "      <td>NaN</td>\n",
       "      <td>N</td>\n",
       "      <td>RMV</td>\n",
       "      <td>MX</td>\n",
       "      <td>SP</td>\n",
       "      <td>N</td>\n",
       "      <td>NaN</td>\n",
       "      <td>NaN</td>\n",
       "    </tr>\n",
       "    <tr>\n",
       "      <th>1</th>\n",
       "      <td>9329336</td>\n",
       "      <td>9431122</td>\n",
       "      <td>2019-12-22 00:00:00.000</td>\n",
       "      <td>2020-01-31 00:00:00.000</td>\n",
       "      <td>CHL</td>\n",
       "      <td>CHL</td>\n",
       "      <td>NaN</td>\n",
       "      <td>NaN</td>\n",
       "      <td>NaN</td>\n",
       "      <td>N</td>\n",
       "      <td>RMV</td>\n",
       "      <td>MX</td>\n",
       "      <td>SP</td>\n",
       "      <td>N</td>\n",
       "      <td>NaN</td>\n",
       "      <td>NaN</td>\n",
       "    </tr>\n",
       "    <tr>\n",
       "      <th>2</th>\n",
       "      <td>9329337</td>\n",
       "      <td>9431123</td>\n",
       "      <td>2019-12-22 00:00:00.000</td>\n",
       "      <td>2020-01-31 00:00:00.000</td>\n",
       "      <td>CHL</td>\n",
       "      <td>CHL</td>\n",
       "      <td>NaN</td>\n",
       "      <td>NaN</td>\n",
       "      <td>NaN</td>\n",
       "      <td>N</td>\n",
       "      <td>RMV</td>\n",
       "      <td>MX</td>\n",
       "      <td>SP</td>\n",
       "      <td>N</td>\n",
       "      <td>NaN</td>\n",
       "      <td>NaN</td>\n",
       "    </tr>\n",
       "    <tr>\n",
       "      <th>3</th>\n",
       "      <td>9329338</td>\n",
       "      <td>9431124</td>\n",
       "      <td>2019-12-09 00:00:00.000</td>\n",
       "      <td>2020-02-13 00:00:00.000</td>\n",
       "      <td>KRO</td>\n",
       "      <td>BCJ</td>\n",
       "      <td>X</td>\n",
       "      <td>2020-02-24 00:00:00.000</td>\n",
       "      <td>N</td>\n",
       "      <td>D</td>\n",
       "      <td>RMV</td>\n",
       "      <td>CU</td>\n",
       "      <td>SP</td>\n",
       "      <td>Y</td>\n",
       "      <td>2020-02-07 00:00:00.000</td>\n",
       "      <td>NaN</td>\n",
       "    </tr>\n",
       "    <tr>\n",
       "      <th>4</th>\n",
       "      <td>9329339</td>\n",
       "      <td>9431125</td>\n",
       "      <td>2019-12-12 00:00:00.000</td>\n",
       "      <td>2020-01-31 00:00:00.000</td>\n",
       "      <td>CHL</td>\n",
       "      <td>CHL</td>\n",
       "      <td>NaN</td>\n",
       "      <td>NaN</td>\n",
       "      <td>NaN</td>\n",
       "      <td>R</td>\n",
       "      <td>RMV</td>\n",
       "      <td>MX</td>\n",
       "      <td>SP</td>\n",
       "      <td>N</td>\n",
       "      <td>2020-01-31 00:00:00.000</td>\n",
       "      <td>2020-01-31 00:00:00.000</td>\n",
       "    </tr>\n",
       "  </tbody>\n",
       "</table>\n",
       "</div>"
      ],
      "text/plain": [
       "   IDNPROCEEDING  IDNCASE  ...            DATE_DETAINED            DATE_RELEASED\n",
       "0        9329335  9431121  ...                      NaN                      NaN\n",
       "1        9329336  9431122  ...                      NaN                      NaN\n",
       "2        9329337  9431123  ...                      NaN                      NaN\n",
       "3        9329338  9431124  ...  2020-02-07 00:00:00.000                      NaN\n",
       "4        9329339  9431125  ...  2020-01-31 00:00:00.000  2020-01-31 00:00:00.000\n",
       "\n",
       "[5 rows x 16 columns]"
      ]
     },
     "execution_count": 17,
     "metadata": {},
     "output_type": "execute_result"
    }
   ],
   "source": [
    "juvenile_proceedings.head()"
   ]
  },
  {
   "cell_type": "code",
   "execution_count": 18,
   "id": "6516d08c",
   "metadata": {},
   "outputs": [
    {
     "name": "stdout",
     "output_type": "stream",
     "text": [
      "<class 'pandas.core.frame.DataFrame'>\n",
      "RangeIndex: 2819051 entries, 0 to 2819050\n",
      "Data columns (total 16 columns):\n",
      " #   Column            Dtype   \n",
      "---  ------            -----   \n",
      " 0   IDNPROCEEDING     Int64   \n",
      " 1   IDNCASE           Int64   \n",
      " 2   OSC_DATE          object  \n",
      " 3   INPUT_DATE        object  \n",
      " 4   BASE_CITY_CODE    category\n",
      " 5   HEARING_LOC_CODE  category\n",
      " 6   DEC_CODE          category\n",
      " 7   COMP_DATE         object  \n",
      " 8   ABSENTIA          category\n",
      " 9   CUSTODY           category\n",
      " 10  CASE_TYPE         category\n",
      " 11  NAT               category\n",
      " 12  LANG              category\n",
      " 13  CRIM_IND          category\n",
      " 14  DATE_DETAINED     object  \n",
      " 15  DATE_RELEASED     object  \n",
      "dtypes: Int64(2), category(9), object(5)\n",
      "memory usage: 188.3+ MB\n"
     ]
    }
   ],
   "source": [
    "juvenile_proceedings.info()"
   ]
  },
  {
   "cell_type": "markdown",
   "id": "fa38a2d8",
   "metadata": {},
   "source": [
    "#### Datetime Format Validation\n",
    "\n",
    "The following date-related features will be the focus of the next stage of preprocessing:  \n",
    "- `OSC_DATE`  \n",
    "- `INPUT_DATE`  \n",
    "- `COMP_DATE`  \n",
    "- `DATE_DETAINED`  \n",
    "- `DATE_RELEASED`  \n",
    "\n",
    "These features may require format standardization and conversion to datetime objects to enable accurate temporal analysis.\n",
    "\n",
    "Every datetime feature (except `C_BIRTHDATE`) follows the format `'YYYY-MM-DD 00:00:00.000'` (e.g., `'2025-02-04 00:00:00.000'`).\n",
    "\n",
    "Before conversion, each feature will be tested against this pattern to ensure values are valid.  \n",
    "All non-null entries will be checked to avoid unintended data loss during transformation with `pd.to_datetime()`.\n",
    "\n",
    "Only the **`YYYY-MM-DD`** portion of each timestamp will be retained."
   ]
  },
  {
   "cell_type": "code",
   "execution_count": 19,
   "id": "0a4105fe",
   "metadata": {},
   "outputs": [],
   "source": [
    "def find_invalid_dates(df, column):\n",
    "    \"\"\"\n",
    "    Returns non-null rows that don’t match the `YYYY-MM-DD` pattern.\n",
    "    \"\"\"\n",
    "    return df[\n",
    "        df[column].notna()\n",
    "        & ~df[column].astype(str).str.contains(r\"\\d{4}-\\d{2}-\\d{2}\", regex=True)\n",
    "    ][[column]]"
   ]
  },
  {
   "cell_type": "code",
   "execution_count": 20,
   "id": "11c45f0a",
   "metadata": {},
   "outputs": [],
   "source": [
    "invalid_osc_date = find_invalid_dates(juvenile_proceedings, \"OSC_DATE\")\n",
    "invalid_input_date = find_invalid_dates(juvenile_proceedings, \"INPUT_DATE\")\n",
    "invalid_comp_date = find_invalid_dates(juvenile_proceedings, \"COMP_DATE\")\n",
    "invalid_date_detained = find_invalid_dates(juvenile_proceedings, \"DATE_DETAINED\")\n",
    "invalid_date_released = find_invalid_dates(juvenile_proceedings, \"DATE_RELEASED\")"
   ]
  },
  {
   "cell_type": "code",
   "execution_count": 21,
   "id": "f895fb8d",
   "metadata": {},
   "outputs": [],
   "source": [
    "def report_invalid(name, df):\n",
    "    \"\"\"\n",
    "    Prints the number of invalid entries and displays the DataFrame if not empty.\n",
    "    \"\"\"\n",
    "    count = len(df)\n",
    "    print(f\"{name}: {count} invalid entr{'y' if count == 1 else 'ies'}\")\n",
    "    if count > 0:\n",
    "        display(df)"
   ]
  },
  {
   "cell_type": "code",
   "execution_count": 22,
   "id": "b826f297",
   "metadata": {},
   "outputs": [
    {
     "name": "stdout",
     "output_type": "stream",
     "text": [
      "OSC_DATE: 0 invalid entries\n",
      "INPUT_DATE: 0 invalid entries\n",
      "COMP_DATE: 0 invalid entries\n",
      "DATE_DETAINED: 0 invalid entries\n",
      "DATE_RELEASED: 0 invalid entries\n"
     ]
    }
   ],
   "source": [
    "report_invalid(\"OSC_DATE\", invalid_osc_date)\n",
    "report_invalid(\"INPUT_DATE\", invalid_input_date)\n",
    "report_invalid(\"COMP_DATE\", invalid_comp_date)\n",
    "report_invalid(\"DATE_DETAINED\", invalid_date_detained)\n",
    "report_invalid(\"DATE_RELEASED\", invalid_date_released)"
   ]
  },
  {
   "cell_type": "code",
   "execution_count": 23,
   "id": "38824a41",
   "metadata": {},
   "outputs": [],
   "source": [
    "date_cols = [\"OSC_DATE\", \"INPUT_DATE\", \"COMP_DATE\", \"DATE_DETAINED\", \"DATE_RELEASED\"]\n",
    "\n",
    "juvenile_proceedings[date_cols] = juvenile_proceedings[date_cols].apply(\n",
    "    lambda col: pd.to_datetime(col, errors=\"coerce\")\n",
    ")"
   ]
  },
  {
   "cell_type": "code",
   "execution_count": 24,
   "id": "cc5f096c",
   "metadata": {},
   "outputs": [
    {
     "data": {
      "text/plain": [
       "IDNPROCEEDING                Int64\n",
       "IDNCASE                      Int64\n",
       "OSC_DATE            datetime64[ns]\n",
       "INPUT_DATE          datetime64[ns]\n",
       "BASE_CITY_CODE            category\n",
       "HEARING_LOC_CODE          category\n",
       "DEC_CODE                  category\n",
       "COMP_DATE           datetime64[ns]\n",
       "ABSENTIA                  category\n",
       "CUSTODY                   category\n",
       "CASE_TYPE                 category\n",
       "NAT                       category\n",
       "LANG                      category\n",
       "CRIM_IND                  category\n",
       "DATE_DETAINED       datetime64[ns]\n",
       "DATE_RELEASED       datetime64[ns]\n",
       "dtype: object"
      ]
     },
     "execution_count": 24,
     "metadata": {},
     "output_type": "execute_result"
    }
   ],
   "source": [
    "juvenile_proceedings.dtypes"
   ]
  },
  {
   "cell_type": "code",
   "execution_count": 25,
   "id": "269876a9",
   "metadata": {},
   "outputs": [
    {
     "data": {
      "text/html": [
       "<div>\n",
       "<style scoped>\n",
       "    .dataframe tbody tr th:only-of-type {\n",
       "        vertical-align: middle;\n",
       "    }\n",
       "\n",
       "    .dataframe tbody tr th {\n",
       "        vertical-align: top;\n",
       "    }\n",
       "\n",
       "    .dataframe thead th {\n",
       "        text-align: right;\n",
       "    }\n",
       "</style>\n",
       "<table border=\"1\" class=\"dataframe\">\n",
       "  <thead>\n",
       "    <tr style=\"text-align: right;\">\n",
       "      <th></th>\n",
       "      <th>Missing Count</th>\n",
       "      <th>Missing %</th>\n",
       "    </tr>\n",
       "  </thead>\n",
       "  <tbody>\n",
       "    <tr>\n",
       "      <th>DATE_RELEASED</th>\n",
       "      <td>1797051</td>\n",
       "      <td>63.75</td>\n",
       "    </tr>\n",
       "    <tr>\n",
       "      <th>DATE_DETAINED</th>\n",
       "      <td>1339487</td>\n",
       "      <td>47.52</td>\n",
       "    </tr>\n",
       "    <tr>\n",
       "      <th>DEC_CODE</th>\n",
       "      <td>1325544</td>\n",
       "      <td>47.02</td>\n",
       "    </tr>\n",
       "    <tr>\n",
       "      <th>ABSENTIA</th>\n",
       "      <td>443884</td>\n",
       "      <td>15.75</td>\n",
       "    </tr>\n",
       "    <tr>\n",
       "      <th>COMP_DATE</th>\n",
       "      <td>419983</td>\n",
       "      <td>14.90</td>\n",
       "    </tr>\n",
       "    <tr>\n",
       "      <th>CRIM_IND</th>\n",
       "      <td>173907</td>\n",
       "      <td>6.17</td>\n",
       "    </tr>\n",
       "    <tr>\n",
       "      <th>OSC_DATE</th>\n",
       "      <td>24218</td>\n",
       "      <td>0.86</td>\n",
       "    </tr>\n",
       "    <tr>\n",
       "      <th>INPUT_DATE</th>\n",
       "      <td>11182</td>\n",
       "      <td>0.40</td>\n",
       "    </tr>\n",
       "    <tr>\n",
       "      <th>NAT</th>\n",
       "      <td>8194</td>\n",
       "      <td>0.29</td>\n",
       "    </tr>\n",
       "    <tr>\n",
       "      <th>LANG</th>\n",
       "      <td>1919</td>\n",
       "      <td>0.07</td>\n",
       "    </tr>\n",
       "    <tr>\n",
       "      <th>HEARING_LOC_CODE</th>\n",
       "      <td>73</td>\n",
       "      <td>0.00</td>\n",
       "    </tr>\n",
       "    <tr>\n",
       "      <th>CUSTODY</th>\n",
       "      <td>15</td>\n",
       "      <td>0.00</td>\n",
       "    </tr>\n",
       "    <tr>\n",
       "      <th>BASE_CITY_CODE</th>\n",
       "      <td>1</td>\n",
       "      <td>0.00</td>\n",
       "    </tr>\n",
       "    <tr>\n",
       "      <th>IDNPROCEEDING</th>\n",
       "      <td>0</td>\n",
       "      <td>0.00</td>\n",
       "    </tr>\n",
       "    <tr>\n",
       "      <th>IDNCASE</th>\n",
       "      <td>0</td>\n",
       "      <td>0.00</td>\n",
       "    </tr>\n",
       "    <tr>\n",
       "      <th>CASE_TYPE</th>\n",
       "      <td>0</td>\n",
       "      <td>0.00</td>\n",
       "    </tr>\n",
       "  </tbody>\n",
       "</table>\n",
       "</div>"
      ],
      "text/plain": [
       "                  Missing Count  Missing %\n",
       "DATE_RELEASED           1797051      63.75\n",
       "DATE_DETAINED           1339487      47.52\n",
       "DEC_CODE                1325544      47.02\n",
       "ABSENTIA                 443884      15.75\n",
       "COMP_DATE                419983      14.90\n",
       "CRIM_IND                 173907       6.17\n",
       "OSC_DATE                  24218       0.86\n",
       "INPUT_DATE                11182       0.40\n",
       "NAT                        8194       0.29\n",
       "LANG                       1919       0.07\n",
       "HEARING_LOC_CODE             73       0.00\n",
       "CUSTODY                      15       0.00\n",
       "BASE_CITY_CODE                1       0.00\n",
       "IDNPROCEEDING                 0       0.00\n",
       "IDNCASE                       0       0.00\n",
       "CASE_TYPE                     0       0.00"
      ]
     },
     "metadata": {},
     "output_type": "display_data"
    }
   ],
   "source": [
    "null_counts = juvenile_proceedings.isna().sum()\n",
    "percent_missing = (null_counts / len(juvenile_proceedings)) * 100\n",
    "\n",
    "missing_summary = pd.DataFrame(\n",
    "    {\"Missing Count\": null_counts, \"Missing %\": percent_missing.round(2)}\n",
    ").sort_values(by=\"Missing Count\", ascending=False)\n",
    "\n",
    "display(missing_summary)"
   ]
  },
  {
   "cell_type": "markdown",
   "id": "18451d72",
   "metadata": {},
   "source": [
    "#### Categorical Value Cleanup\n",
    "\n",
    "Reviewing key categorical columns to detect and standardize inconsistent or invalid entries.  \n",
    "Suspicious values (e.g., empty strings, control characters, or rare codes) are converted to `NaN` to improve data clarity and ensure compatibility with downstream tasks.\n",
    "\n",
    "**Target columns:**\n",
    "- `BASE_CITY_CODE`\n",
    "- `HEARING_LOC_CODE`\n",
    "- `DEC_CODE`\n",
    "- `ABSENTIA`\n",
    "- `CUSTODY`\n",
    "- `CASE_TYPE`\n",
    "- `NAT`\n",
    "- `LANG`\n",
    "- `CRIM_IND`\n",
    "\n",
    "This step ensures categorical fields are clean, consistent, and analysis-ready."
   ]
  },
  {
   "cell_type": "markdown",
   "id": "95080812",
   "metadata": {},
   "source": [
    "Remove unused category levels after filtering to ensure all categorical columns reflect only the values present in the `juvenile_proceedings` subset."
   ]
  },
  {
   "cell_type": "code",
   "execution_count": 26,
   "id": "27e3a34b",
   "metadata": {},
   "outputs": [],
   "source": [
    "for col in juvenile_proceedings.select_dtypes(include=\"category\"):\n",
    "    juvenile_proceedings[col] = juvenile_proceedings[col].cat.remove_unused_categories()"
   ]
  },
  {
   "cell_type": "code",
   "execution_count": 27,
   "id": "5a60de7c",
   "metadata": {},
   "outputs": [
    {
     "data": {
      "text/plain": [
       "BASE_CITY_CODE\n",
       "MIA    130860\n",
       "NYC    121506\n",
       "SFR    105165\n",
       "SNA    103132\n",
       "DAL     95447\n",
       "        ...  \n",
       "AGA       362\n",
       "SAI       299\n",
       "LOS        10\n",
       "OIT         2\n",
       "YOR         1\n",
       "Name: count, Length: 80, dtype: int64"
      ]
     },
     "execution_count": 27,
     "metadata": {},
     "output_type": "execute_result"
    }
   ],
   "source": [
    "juvenile_proceedings[\"BASE_CITY_CODE\"].value_counts()"
   ]
  },
  {
   "cell_type": "code",
   "execution_count": 28,
   "id": "89094d39",
   "metadata": {},
   "outputs": [
    {
     "data": {
      "text/plain": [
       "HEARING_LOC_CODE\n",
       "MIA    123648\n",
       "NYC    117607\n",
       "SFR     82208\n",
       "DAL     76035\n",
       "CHL     75154\n",
       "        ...  \n",
       "CLI         1\n",
       "HUG         1\n",
       "CJD         1\n",
       "CHV         1\n",
       "ELD         1\n",
       "Name: count, Length: 612, dtype: int64"
      ]
     },
     "execution_count": 28,
     "metadata": {},
     "output_type": "execute_result"
    }
   ],
   "source": [
    "juvenile_proceedings[\"HEARING_LOC_CODE\"].value_counts()"
   ]
  },
  {
   "cell_type": "code",
   "execution_count": 29,
   "id": "ff1717e2",
   "metadata": {},
   "outputs": [
    {
     "data": {
      "text/html": [
       "<div>\n",
       "<style scoped>\n",
       "    .dataframe tbody tr th:only-of-type {\n",
       "        vertical-align: middle;\n",
       "    }\n",
       "\n",
       "    .dataframe tbody tr th {\n",
       "        vertical-align: top;\n",
       "    }\n",
       "\n",
       "    .dataframe thead th {\n",
       "        text-align: right;\n",
       "    }\n",
       "</style>\n",
       "<table border=\"1\" class=\"dataframe\">\n",
       "  <thead>\n",
       "    <tr style=\"text-align: right;\">\n",
       "      <th></th>\n",
       "      <th>CASE_TYPE</th>\n",
       "      <th>DEC_CODE</th>\n",
       "    </tr>\n",
       "  </thead>\n",
       "  <tbody>\n",
       "    <tr>\n",
       "      <th>3</th>\n",
       "      <td>RMV</td>\n",
       "      <td>X</td>\n",
       "    </tr>\n",
       "    <tr>\n",
       "      <th>5</th>\n",
       "      <td>RMV</td>\n",
       "      <td>V</td>\n",
       "    </tr>\n",
       "    <tr>\n",
       "      <th>7</th>\n",
       "      <td>RMV</td>\n",
       "      <td>X</td>\n",
       "    </tr>\n",
       "    <tr>\n",
       "      <th>8</th>\n",
       "      <td>RMV</td>\n",
       "      <td>X</td>\n",
       "    </tr>\n",
       "    <tr>\n",
       "      <th>9</th>\n",
       "      <td>CFR</td>\n",
       "      <td>A</td>\n",
       "    </tr>\n",
       "    <tr>\n",
       "      <th>...</th>\n",
       "      <td>...</td>\n",
       "      <td>...</td>\n",
       "    </tr>\n",
       "    <tr>\n",
       "      <th>2819042</th>\n",
       "      <td>RMV</td>\n",
       "      <td>X</td>\n",
       "    </tr>\n",
       "    <tr>\n",
       "      <th>2819044</th>\n",
       "      <td>CFR</td>\n",
       "      <td>V</td>\n",
       "    </tr>\n",
       "    <tr>\n",
       "      <th>2819045</th>\n",
       "      <td>RMV</td>\n",
       "      <td>X</td>\n",
       "    </tr>\n",
       "    <tr>\n",
       "      <th>2819046</th>\n",
       "      <td>RMV</td>\n",
       "      <td>X</td>\n",
       "    </tr>\n",
       "    <tr>\n",
       "      <th>2819050</th>\n",
       "      <td>RMV</td>\n",
       "      <td>X</td>\n",
       "    </tr>\n",
       "  </tbody>\n",
       "</table>\n",
       "<p>1493507 rows × 2 columns</p>\n",
       "</div>"
      ],
      "text/plain": [
       "        CASE_TYPE DEC_CODE\n",
       "3             RMV        X\n",
       "5             RMV        V\n",
       "7             RMV        X\n",
       "8             RMV        X\n",
       "9             CFR        A\n",
       "...           ...      ...\n",
       "2819042       RMV        X\n",
       "2819044       CFR        V\n",
       "2819045       RMV        X\n",
       "2819046       RMV        X\n",
       "2819050       RMV        X\n",
       "\n",
       "[1493507 rows x 2 columns]"
      ]
     },
     "metadata": {},
     "output_type": "display_data"
    }
   ],
   "source": [
    "display(\n",
    "    juvenile_proceedings[\n",
    "        juvenile_proceedings[\"CASE_TYPE\"].notna()\n",
    "        & juvenile_proceedings[\"DEC_CODE\"].notna()\n",
    "    ][[\"CASE_TYPE\", \"DEC_CODE\"]]\n",
    ")"
   ]
  },
  {
   "cell_type": "code",
   "execution_count": 30,
   "id": "680d72d9",
   "metadata": {},
   "outputs": [
    {
     "data": {
      "text/plain": [
       "DEC_CODE\n",
       "X    712195\n",
       "U    284771\n",
       "T    183240\n",
       "V    105445\n",
       "A     84170\n",
       "R     82231\n",
       "      14761\n",
       "D     11935\n",
       "W      5522\n",
       "G      2843\n",
       "O      2084\n",
       "E      1479\n",
       "Z      1457\n",
       "L       953\n",
       "H       342\n",
       "J        71\n",
       "S         4\n",
       "C         3\n",
       "K         1\n",
       "Name: count, dtype: int64"
      ]
     },
     "execution_count": 30,
     "metadata": {},
     "output_type": "execute_result"
    }
   ],
   "source": [
    "juvenile_proceedings[\"DEC_CODE\"].value_counts()"
   ]
  },
  {
   "cell_type": "code",
   "execution_count": 31,
   "id": "2a69b9f2",
   "metadata": {},
   "outputs": [
    {
     "data": {
      "text/plain": [
       "ABSENTIA\n",
       "N    1969135\n",
       "Y     406018\n",
       "          14\n",
       "Name: count, dtype: int64"
      ]
     },
     "execution_count": 31,
     "metadata": {},
     "output_type": "execute_result"
    }
   ],
   "source": [
    "juvenile_proceedings[\"ABSENTIA\"].value_counts()"
   ]
  },
  {
   "cell_type": "code",
   "execution_count": 32,
   "id": "b980521d",
   "metadata": {},
   "outputs": [],
   "source": [
    "juvenile_proceedings[\"ABSENTIA\"] = juvenile_proceedings[\"ABSENTIA\"].replace(\n",
    "    r\"^\\s*$\", pd.NA, regex=True\n",
    ")"
   ]
  },
  {
   "cell_type": "code",
   "execution_count": 33,
   "id": "038295af",
   "metadata": {},
   "outputs": [
    {
     "data": {
      "text/plain": [
       "ABSENTIA\n",
       "N    1969135\n",
       "Y     406018\n",
       "           0\n",
       "Name: count, dtype: int64"
      ]
     },
     "execution_count": 33,
     "metadata": {},
     "output_type": "execute_result"
    }
   ],
   "source": [
    "juvenile_proceedings[\"ABSENTIA\"].value_counts()"
   ]
  },
  {
   "cell_type": "code",
   "execution_count": 34,
   "id": "7edf3554",
   "metadata": {},
   "outputs": [
    {
     "data": {
      "text/plain": [
       "CUSTODY\n",
       "N    1257933\n",
       "R    1076461\n",
       "D     484641\n",
       "\u001b          1\n",
       "Name: count, dtype: int64"
      ]
     },
     "execution_count": 34,
     "metadata": {},
     "output_type": "execute_result"
    }
   ],
   "source": [
    "juvenile_proceedings[\"CUSTODY\"].value_counts()"
   ]
  },
  {
   "cell_type": "code",
   "execution_count": 35,
   "id": "916d3518",
   "metadata": {},
   "outputs": [],
   "source": [
    "juvenile_proceedings[\"CUSTODY\"] = juvenile_proceedings[\"CUSTODY\"].replace(\n",
    "    r\"^[\\s\\x00-\\x1F\\x7F]*$\", pd.NA, regex=True\n",
    ")"
   ]
  },
  {
   "cell_type": "code",
   "execution_count": 36,
   "id": "4524939c",
   "metadata": {},
   "outputs": [
    {
     "data": {
      "text/plain": [
       "CUSTODY\n",
       "N    1257933\n",
       "R    1076461\n",
       "D     484641\n",
       "\u001b          0\n",
       "Name: count, dtype: int64"
      ]
     },
     "execution_count": 36,
     "metadata": {},
     "output_type": "execute_result"
    }
   ],
   "source": [
    "juvenile_proceedings[\"CUSTODY\"].value_counts()"
   ]
  },
  {
   "cell_type": "code",
   "execution_count": 37,
   "id": "681e62c8",
   "metadata": {},
   "outputs": [
    {
     "data": {
      "text/plain": [
       "CRIM_IND\n",
       "N           2586750\n",
       "Y             58378\n",
       "                 16\n",
       "Name: count, dtype: int64"
      ]
     },
     "execution_count": 37,
     "metadata": {},
     "output_type": "execute_result"
    }
   ],
   "source": [
    "juvenile_proceedings[[\"CRIM_IND\"]].value_counts()"
   ]
  },
  {
   "cell_type": "code",
   "execution_count": 38,
   "id": "622dd4ae",
   "metadata": {},
   "outputs": [],
   "source": [
    "juvenile_proceedings[\"CRIM_IND\"] = juvenile_proceedings[\"CRIM_IND\"].replace(\n",
    "    r\"^[\\s\\x00-\\x1F\\x7F]*$\", pd.NA, regex=True\n",
    ")"
   ]
  },
  {
   "cell_type": "code",
   "execution_count": 39,
   "id": "104c1b5f",
   "metadata": {},
   "outputs": [
    {
     "data": {
      "text/plain": [
       "CRIM_IND\n",
       "N           2586750\n",
       "Y             58378\n",
       "                  0\n",
       "Name: count, dtype: int64"
      ]
     },
     "execution_count": 39,
     "metadata": {},
     "output_type": "execute_result"
    }
   ],
   "source": [
    "juvenile_proceedings[[\"CRIM_IND\"]].value_counts()"
   ]
  },
  {
   "cell_type": "code",
   "execution_count": 40,
   "id": "df78cd5b",
   "metadata": {},
   "outputs": [
    {
     "data": {
      "text/plain": [
       "LANG\n",
       "SP     2225917\n",
       "ENG     121951\n",
       "POR      62926\n",
       "PUN      48666\n",
       "CRE      30086\n",
       "        ...   \n",
       "KAM          1\n",
       "FLE          1\n",
       "TAT          1\n",
       "BAV          1\n",
       "BKM          1\n",
       "Name: count, Length: 462, dtype: int64"
      ]
     },
     "execution_count": 40,
     "metadata": {},
     "output_type": "execute_result"
    }
   ],
   "source": [
    "juvenile_proceedings[\"LANG\"].value_counts()"
   ]
  },
  {
   "cell_type": "code",
   "execution_count": 41,
   "id": "1cb5e1d9",
   "metadata": {},
   "outputs": [],
   "source": [
    "for col in juvenile_proceedings.select_dtypes(include=\"category\"):\n",
    "    juvenile_proceedings[col] = juvenile_proceedings[col].cat.remove_unused_categories()"
   ]
  },
  {
   "cell_type": "code",
   "execution_count": 42,
   "id": "43f8c928",
   "metadata": {},
   "outputs": [
    {
     "data": {
      "text/plain": [
       "np.int64(0)"
      ]
     },
     "execution_count": 42,
     "metadata": {},
     "output_type": "execute_result"
    }
   ],
   "source": [
    "juvenile_proceedings.duplicated().sum()"
   ]
  },
  {
   "cell_type": "code",
   "execution_count": 43,
   "id": "d115d848",
   "metadata": {},
   "outputs": [
    {
     "data": {
      "text/html": [
       "<div>\n",
       "<style scoped>\n",
       "    .dataframe tbody tr th:only-of-type {\n",
       "        vertical-align: middle;\n",
       "    }\n",
       "\n",
       "    .dataframe tbody tr th {\n",
       "        vertical-align: top;\n",
       "    }\n",
       "\n",
       "    .dataframe thead th {\n",
       "        text-align: right;\n",
       "    }\n",
       "</style>\n",
       "<table border=\"1\" class=\"dataframe\">\n",
       "  <thead>\n",
       "    <tr style=\"text-align: right;\">\n",
       "      <th></th>\n",
       "      <th>IDNPROCEEDING</th>\n",
       "      <th>IDNCASE</th>\n",
       "      <th>OSC_DATE</th>\n",
       "      <th>INPUT_DATE</th>\n",
       "      <th>BASE_CITY_CODE</th>\n",
       "      <th>HEARING_LOC_CODE</th>\n",
       "      <th>DEC_CODE</th>\n",
       "      <th>COMP_DATE</th>\n",
       "      <th>ABSENTIA</th>\n",
       "      <th>CUSTODY</th>\n",
       "      <th>CASE_TYPE</th>\n",
       "      <th>NAT</th>\n",
       "      <th>LANG</th>\n",
       "      <th>CRIM_IND</th>\n",
       "      <th>DATE_DETAINED</th>\n",
       "      <th>DATE_RELEASED</th>\n",
       "    </tr>\n",
       "  </thead>\n",
       "  <tbody>\n",
       "    <tr>\n",
       "      <th>0</th>\n",
       "      <td>9329335</td>\n",
       "      <td>9431121</td>\n",
       "      <td>2019-12-22</td>\n",
       "      <td>2020-01-31</td>\n",
       "      <td>CHL</td>\n",
       "      <td>CHL</td>\n",
       "      <td>NaN</td>\n",
       "      <td>NaT</td>\n",
       "      <td>NaN</td>\n",
       "      <td>N</td>\n",
       "      <td>RMV</td>\n",
       "      <td>MX</td>\n",
       "      <td>SP</td>\n",
       "      <td>N</td>\n",
       "      <td>NaT</td>\n",
       "      <td>NaT</td>\n",
       "    </tr>\n",
       "    <tr>\n",
       "      <th>1</th>\n",
       "      <td>9329336</td>\n",
       "      <td>9431122</td>\n",
       "      <td>2019-12-22</td>\n",
       "      <td>2020-01-31</td>\n",
       "      <td>CHL</td>\n",
       "      <td>CHL</td>\n",
       "      <td>NaN</td>\n",
       "      <td>NaT</td>\n",
       "      <td>NaN</td>\n",
       "      <td>N</td>\n",
       "      <td>RMV</td>\n",
       "      <td>MX</td>\n",
       "      <td>SP</td>\n",
       "      <td>N</td>\n",
       "      <td>NaT</td>\n",
       "      <td>NaT</td>\n",
       "    </tr>\n",
       "    <tr>\n",
       "      <th>2</th>\n",
       "      <td>9329337</td>\n",
       "      <td>9431123</td>\n",
       "      <td>2019-12-22</td>\n",
       "      <td>2020-01-31</td>\n",
       "      <td>CHL</td>\n",
       "      <td>CHL</td>\n",
       "      <td>NaN</td>\n",
       "      <td>NaT</td>\n",
       "      <td>NaN</td>\n",
       "      <td>N</td>\n",
       "      <td>RMV</td>\n",
       "      <td>MX</td>\n",
       "      <td>SP</td>\n",
       "      <td>N</td>\n",
       "      <td>NaT</td>\n",
       "      <td>NaT</td>\n",
       "    </tr>\n",
       "    <tr>\n",
       "      <th>3</th>\n",
       "      <td>9329338</td>\n",
       "      <td>9431124</td>\n",
       "      <td>2019-12-09</td>\n",
       "      <td>2020-02-13</td>\n",
       "      <td>KRO</td>\n",
       "      <td>BCJ</td>\n",
       "      <td>X</td>\n",
       "      <td>2020-02-24</td>\n",
       "      <td>N</td>\n",
       "      <td>D</td>\n",
       "      <td>RMV</td>\n",
       "      <td>CU</td>\n",
       "      <td>SP</td>\n",
       "      <td>Y</td>\n",
       "      <td>2020-02-07</td>\n",
       "      <td>NaT</td>\n",
       "    </tr>\n",
       "    <tr>\n",
       "      <th>4</th>\n",
       "      <td>9329339</td>\n",
       "      <td>9431125</td>\n",
       "      <td>2019-12-12</td>\n",
       "      <td>2020-01-31</td>\n",
       "      <td>CHL</td>\n",
       "      <td>CHL</td>\n",
       "      <td>NaN</td>\n",
       "      <td>NaT</td>\n",
       "      <td>NaN</td>\n",
       "      <td>R</td>\n",
       "      <td>RMV</td>\n",
       "      <td>MX</td>\n",
       "      <td>SP</td>\n",
       "      <td>N</td>\n",
       "      <td>2020-01-31</td>\n",
       "      <td>2020-01-31</td>\n",
       "    </tr>\n",
       "  </tbody>\n",
       "</table>\n",
       "</div>"
      ],
      "text/plain": [
       "   IDNPROCEEDING  IDNCASE   OSC_DATE  ... CRIM_IND DATE_DETAINED DATE_RELEASED\n",
       "0        9329335  9431121 2019-12-22  ...        N           NaT           NaT\n",
       "1        9329336  9431122 2019-12-22  ...        N           NaT           NaT\n",
       "2        9329337  9431123 2019-12-22  ...        N           NaT           NaT\n",
       "3        9329338  9431124 2019-12-09  ...        Y    2020-02-07           NaT\n",
       "4        9329339  9431125 2019-12-12  ...        N    2020-01-31    2020-01-31\n",
       "\n",
       "[5 rows x 16 columns]"
      ]
     },
     "execution_count": 43,
     "metadata": {},
     "output_type": "execute_result"
    }
   ],
   "source": [
    "juvenile_proceedings.head()"
   ]
  }
 ],
 "metadata": {
  "kernelspec": {
   "display_name": "ds",
   "language": "python",
   "name": "python3"
  },
  "language_info": {
   "codemirror_mode": {
    "name": "ipython",
    "version": 3
   },
   "file_extension": ".py",
   "mimetype": "text/x-python",
   "name": "python",
   "nbconvert_exporter": "python",
   "pygments_lexer": "ipython3",
   "version": "3.12.9"
  }
 },
 "nbformat": 4,
 "nbformat_minor": 5
}
