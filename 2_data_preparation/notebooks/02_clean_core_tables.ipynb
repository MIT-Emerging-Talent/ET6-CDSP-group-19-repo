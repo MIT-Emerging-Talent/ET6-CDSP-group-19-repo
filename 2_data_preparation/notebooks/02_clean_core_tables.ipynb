{
 "cells": [
  {
   "cell_type": "code",
   "execution_count": 15,
   "id": "f7e07d7c",
   "metadata": {},
   "outputs": [],
   "source": [
    "import pandas as pd\n",
    "import numpy as np\n",
    "import matplotlib.pyplot as plt"
   ]
  },
  {
   "cell_type": "code",
   "execution_count": 16,
   "id": "1236199e",
   "metadata": {},
   "outputs": [],
   "source": [
    "pd.options.display.max_columns = False"
   ]
  },
  {
   "cell_type": "markdown",
   "id": "a2ae9747",
   "metadata": {},
   "source": [
    "## 1. Clean tbl_JuvenileHistory"
   ]
  },
  {
   "cell_type": "markdown",
   "id": "05a708b3",
   "metadata": {},
   "source": [
    "### Initial Data Inspection"
   ]
  },
  {
   "cell_type": "markdown",
   "id": "7dc3ad1e",
   "metadata": {},
   "source": [
    "\n",
    "The dataset contains approximately 3 million rows. To avoid memory issues and reduce unnecessary processing, only the first 100 rows will be inspected initially:\n",
    "\n",
    "- Get an overview of the data types (`dtypes`)\n",
    "- Identify columns/features worth keeping for the EDA\n",
    "- Skip any columns that appear to be irrelevant or redundant\n",
    "\n",
    "This initial check will help streamline the analysis and focus only on useful information."
   ]
  },
  {
   "cell_type": "code",
   "execution_count": 17,
   "id": "04bf6b36",
   "metadata": {},
   "outputs": [],
   "source": [
    "juvenile_history_path = 'tbl_JuvenileHistory.csv'\n",
    "juvenile_history = pd.read_csv(\n",
    "    filepath_or_buffer=juvenile_history_path,\n",
    "    delimiter='\\t',\n",
    "    nrows=100\n",
    ")"
   ]
  },
  {
   "cell_type": "code",
   "execution_count": 18,
   "id": "e14b26a5",
   "metadata": {},
   "outputs": [
    {
     "data": {
      "text/html": [
       "<div>\n",
       "<style scoped>\n",
       "    .dataframe tbody tr th:only-of-type {\n",
       "        vertical-align: middle;\n",
       "    }\n",
       "\n",
       "    .dataframe tbody tr th {\n",
       "        vertical-align: top;\n",
       "    }\n",
       "\n",
       "    .dataframe thead th {\n",
       "        text-align: right;\n",
       "    }\n",
       "</style>\n",
       "<table border=\"1\" class=\"dataframe\">\n",
       "  <thead>\n",
       "    <tr style=\"text-align: right;\">\n",
       "      <th></th>\n",
       "      <th>idnJuvenileHistory</th>\n",
       "      <th>idnCase</th>\n",
       "      <th>idnProceeding</th>\n",
       "      <th>idnJuvenile</th>\n",
       "      <th>DATCREATEDON</th>\n",
       "      <th>DATMODIFIEDON</th>\n",
       "    </tr>\n",
       "  </thead>\n",
       "  <tbody>\n",
       "    <tr>\n",
       "      <th>0</th>\n",
       "      <td>5</td>\n",
       "      <td>2046990</td>\n",
       "      <td>3200129</td>\n",
       "      <td>1</td>\n",
       "      <td>2014-09-06 19:24:46.373</td>\n",
       "      <td>NaN</td>\n",
       "    </tr>\n",
       "    <tr>\n",
       "      <th>1</th>\n",
       "      <td>6</td>\n",
       "      <td>2047179</td>\n",
       "      <td>3199488</td>\n",
       "      <td>1</td>\n",
       "      <td>2014-09-06 19:24:46.373</td>\n",
       "      <td>NaN</td>\n",
       "    </tr>\n",
       "    <tr>\n",
       "      <th>2</th>\n",
       "      <td>7</td>\n",
       "      <td>2047179</td>\n",
       "      <td>3199489</td>\n",
       "      <td>1</td>\n",
       "      <td>2014-09-06 19:24:46.373</td>\n",
       "      <td>NaN</td>\n",
       "    </tr>\n",
       "    <tr>\n",
       "      <th>3</th>\n",
       "      <td>8</td>\n",
       "      <td>2047199</td>\n",
       "      <td>3199497</td>\n",
       "      <td>1</td>\n",
       "      <td>2014-09-06 19:24:46.373</td>\n",
       "      <td>NaN</td>\n",
       "    </tr>\n",
       "    <tr>\n",
       "      <th>4</th>\n",
       "      <td>9</td>\n",
       "      <td>2047199</td>\n",
       "      <td>3199498</td>\n",
       "      <td>1</td>\n",
       "      <td>2014-09-06 19:24:46.373</td>\n",
       "      <td>NaN</td>\n",
       "    </tr>\n",
       "  </tbody>\n",
       "</table>\n",
       "</div>"
      ],
      "text/plain": [
       "   idnJuvenileHistory  idnCase  ...             DATCREATEDON  DATMODIFIEDON\n",
       "0                   5  2046990  ...  2014-09-06 19:24:46.373            NaN\n",
       "1                   6  2047179  ...  2014-09-06 19:24:46.373            NaN\n",
       "2                   7  2047179  ...  2014-09-06 19:24:46.373            NaN\n",
       "3                   8  2047199  ...  2014-09-06 19:24:46.373            NaN\n",
       "4                   9  2047199  ...  2014-09-06 19:24:46.373            NaN\n",
       "\n",
       "[5 rows x 6 columns]"
      ]
     },
     "execution_count": 18,
     "metadata": {},
     "output_type": "execute_result"
    }
   ],
   "source": [
    "juvenile_history.head()"
   ]
  },
  {
   "cell_type": "code",
   "execution_count": 19,
   "id": "9e39b1b3",
   "metadata": {},
   "outputs": [
    {
     "name": "stdout",
     "output_type": "stream",
     "text": [
      "<class 'pandas.core.frame.DataFrame'>\n",
      "RangeIndex: 100 entries, 0 to 99\n",
      "Data columns (total 6 columns):\n",
      " #   Column              Non-Null Count  Dtype  \n",
      "---  ------              --------------  -----  \n",
      " 0   idnJuvenileHistory  100 non-null    int64  \n",
      " 1   idnCase             100 non-null    int64  \n",
      " 2   idnProceeding       100 non-null    int64  \n",
      " 3   idnJuvenile         100 non-null    int64  \n",
      " 4   DATCREATEDON        100 non-null    object \n",
      " 5   DATMODIFIEDON       0 non-null      float64\n",
      "dtypes: float64(1), int64(4), object(1)\n",
      "memory usage: 4.8+ KB\n"
     ]
    }
   ],
   "source": [
    "juvenile_history.info()"
   ]
  },
  {
   "cell_type": "code",
   "execution_count": 20,
   "id": "6be91f1e",
   "metadata": {},
   "outputs": [
    {
     "data": {
      "text/plain": [
       "Index(['idnJuvenileHistory', 'idnCase', 'idnProceeding', 'idnJuvenile',\n",
       "       'DATCREATEDON', 'DATMODIFIEDON'],\n",
       "      dtype='object')"
      ]
     },
     "execution_count": 20,
     "metadata": {},
     "output_type": "execute_result"
    }
   ],
   "source": [
    "juvenile_history.columns"
   ]
  },
  {
   "cell_type": "markdown",
   "id": "fc941c74",
   "metadata": {},
   "source": [
    "**`idnJuvenile`**: Although stored as `int64`, this column only contains values from 1 to 6 (as per `Lookup/tblLookup_Juvenile.csv`). It should be treated as a categorical feature.\n",
    "\n",
    "**`DATCREATEDON`** and **`DATMODIFIEDON`**:\n",
    "  - `DATCREATEDON` likely reflects the date when the record was entered into the system, not when the case itself was initiated.\n",
    "  - `DATMODIFIEDON` contains only null values and may be dropped."
   ]
  },
  {
   "cell_type": "code",
   "execution_count": 21,
   "id": "5df0de0b",
   "metadata": {},
   "outputs": [],
   "source": [
    "juvenile_history = pd.read_csv(\n",
    "    filepath_or_buffer=juvenile_history_path,\n",
    "    delimiter='\\t',\n",
    "    usecols=['idnJuvenileHistory', \n",
    "             'idnCase', \n",
    "             'idnProceeding', \n",
    "             'idnJuvenile'\n",
    "             ],\n",
    "    dtype={\n",
    "        'idnJuvenileHistory': 'Int64',\n",
    "        'idnCase': 'Int64',\n",
    "        'idnProceeding': 'Int64',\n",
    "        'idnJuvenile': 'category'\n",
    "    },\n",
    "    low_memory=False,\n",
    ")"
   ]
  },
  {
   "cell_type": "markdown",
   "id": "02daed51",
   "metadata": {},
   "source": [
    "### Data Inspection"
   ]
  },
  {
   "cell_type": "code",
   "execution_count": 22,
   "id": "09ebe5c1",
   "metadata": {},
   "outputs": [
    {
     "data": {
      "text/html": [
       "<div>\n",
       "<style scoped>\n",
       "    .dataframe tbody tr th:only-of-type {\n",
       "        vertical-align: middle;\n",
       "    }\n",
       "\n",
       "    .dataframe tbody tr th {\n",
       "        vertical-align: top;\n",
       "    }\n",
       "\n",
       "    .dataframe thead th {\n",
       "        text-align: right;\n",
       "    }\n",
       "</style>\n",
       "<table border=\"1\" class=\"dataframe\">\n",
       "  <thead>\n",
       "    <tr style=\"text-align: right;\">\n",
       "      <th></th>\n",
       "      <th>idnJuvenileHistory</th>\n",
       "      <th>idnCase</th>\n",
       "      <th>idnProceeding</th>\n",
       "      <th>idnJuvenile</th>\n",
       "    </tr>\n",
       "  </thead>\n",
       "  <tbody>\n",
       "    <tr>\n",
       "      <th>0</th>\n",
       "      <td>5</td>\n",
       "      <td>2046990</td>\n",
       "      <td>3200129</td>\n",
       "      <td>1</td>\n",
       "    </tr>\n",
       "    <tr>\n",
       "      <th>1</th>\n",
       "      <td>6</td>\n",
       "      <td>2047179</td>\n",
       "      <td>3199488</td>\n",
       "      <td>1</td>\n",
       "    </tr>\n",
       "    <tr>\n",
       "      <th>2</th>\n",
       "      <td>7</td>\n",
       "      <td>2047179</td>\n",
       "      <td>3199489</td>\n",
       "      <td>1</td>\n",
       "    </tr>\n",
       "    <tr>\n",
       "      <th>3</th>\n",
       "      <td>8</td>\n",
       "      <td>2047199</td>\n",
       "      <td>3199497</td>\n",
       "      <td>1</td>\n",
       "    </tr>\n",
       "    <tr>\n",
       "      <th>4</th>\n",
       "      <td>9</td>\n",
       "      <td>2047199</td>\n",
       "      <td>3199498</td>\n",
       "      <td>1</td>\n",
       "    </tr>\n",
       "  </tbody>\n",
       "</table>\n",
       "</div>"
      ],
      "text/plain": [
       "   idnJuvenileHistory  idnCase  idnProceeding idnJuvenile\n",
       "0                   5  2046990        3200129           1\n",
       "1                   6  2047179        3199488           1\n",
       "2                   7  2047179        3199489           1\n",
       "3                   8  2047199        3199497           1\n",
       "4                   9  2047199        3199498           1"
      ]
     },
     "execution_count": 22,
     "metadata": {},
     "output_type": "execute_result"
    }
   ],
   "source": [
    "juvenile_history.head()"
   ]
  },
  {
   "cell_type": "code",
   "execution_count": 23,
   "id": "9f863a1a",
   "metadata": {},
   "outputs": [
    {
     "data": {
      "text/plain": [
       "(2857093, 4)"
      ]
     },
     "execution_count": 23,
     "metadata": {},
     "output_type": "execute_result"
    }
   ],
   "source": [
    "juvenile_history.shape"
   ]
  },
  {
   "cell_type": "code",
   "execution_count": 24,
   "id": "98b8463b",
   "metadata": {},
   "outputs": [
    {
     "name": "stdout",
     "output_type": "stream",
     "text": [
      "<class 'pandas.core.frame.DataFrame'>\n",
      "RangeIndex: 2857093 entries, 0 to 2857092\n",
      "Data columns (total 4 columns):\n",
      " #   Column              Dtype   \n",
      "---  ------              -----   \n",
      " 0   idnJuvenileHistory  Int64   \n",
      " 1   idnCase             Int64   \n",
      " 2   idnProceeding       Int64   \n",
      " 3   idnJuvenile         category\n",
      "dtypes: Int64(3), category(1)\n",
      "memory usage: 76.3 MB\n"
     ]
    }
   ],
   "source": [
    "juvenile_history.info()"
   ]
  },
  {
   "cell_type": "code",
   "execution_count": 25,
   "id": "eb0ab55f",
   "metadata": {},
   "outputs": [
    {
     "data": {
      "text/plain": [
       "idnJuvenileHistory      0\n",
       "idnCase                 0\n",
       "idnProceeding          98\n",
       "idnJuvenile           999\n",
       "dtype: int64"
      ]
     },
     "execution_count": 25,
     "metadata": {},
     "output_type": "execute_result"
    }
   ],
   "source": [
    "juvenile_history.isna().sum()"
   ]
  },
  {
   "cell_type": "code",
   "execution_count": 26,
   "id": "0755ae12",
   "metadata": {},
   "outputs": [
    {
     "data": {
      "text/plain": [
       "0"
      ]
     },
     "execution_count": 26,
     "metadata": {},
     "output_type": "execute_result"
    }
   ],
   "source": [
    "juvenile_history.duplicated().sum()"
   ]
  },
  {
   "cell_type": "markdown",
   "id": "5e6ae9d2",
   "metadata": {},
   "source": [
    "#### `idnCase` List\n",
    "\n",
    "Before working with `A_TblCase`, we extract the list of `idnCase` values  \n",
    "associated with juvenile records. This will allow us to filter the case-level  \n",
    "dataset to include only juvenile-related cases, without performing a full merge."
   ]
  },
  {
   "cell_type": "code",
   "execution_count": 27,
   "id": "2b018068",
   "metadata": {},
   "outputs": [],
   "source": [
    "juvenile_case_ids = juvenile_history['idnCase'].unique()"
   ]
  },
  {
   "cell_type": "code",
   "execution_count": 28,
   "id": "2d268d29",
   "metadata": {},
   "outputs": [],
   "source": [
    "juvenile_history.to_csv(\n",
    "    '../outputs/juvenile_history_cleaned.csv.gz',\n",
    "    index=False,\n",
    "    compression='gzip'\n",
    ")"
   ]
  },
  {
   "cell_type": "markdown",
   "id": "905af58c",
   "metadata": {},
   "source": [
    "### Cleaned `tbl_JuvenileHistory`\n",
    "\n",
    "- Loaded ~2.85M rows from the raw CSV file.\n",
    "- Dropped irrelevant or fully null columns.\n",
    "- Converted `idnJuvenile` to a categorical variable.\n",
    "- Retained only 4 key fields:\n",
    "  - `idnJuvenileHistory`: primary key\n",
    "  - `idnCase`: foreign key to `tbl_Case`\n",
    "  - `idnProceeding`: foreign key to `tbl_Proceeding`\n",
    "  - `idnJuvenile`: foreign key to `tblLookup_Juvenile`\n",
    "- Missing values:\n",
    "  - `idnProceeding`: 98 missing\n",
    "  - `idnJuvenile`: 999 missing\n",
    "\n",
    "Saved cleaned file as:\n",
    "- `juvenile_history_cleaned.csv.gz` "
   ]
  },
  {
   "cell_type": "markdown",
   "id": "d4861f54",
   "metadata": {},
   "source": [
    "## 2. Clean A_TblCase"
   ]
  },
  {
   "cell_type": "markdown",
   "id": "0ae6dcda",
   "metadata": {},
   "source": [
    "### Initial Data Inspection"
   ]
  },
  {
   "cell_type": "markdown",
   "id": "9adff737",
   "metadata": {},
   "source": [
    "\n",
    "The dataset contains approximately 12 million rows. To avoid memory issues and reduce unnecessary processing, only the first 1000 rows will be inspected initially:\n",
    "\n",
    "- Get an overview of the data types (`dtypes`)\n",
    "- Identify columns/features worth keeping for the EDA\n",
    "- Skip any columns that appear to be irrelevant or redundant\n",
    "\n",
    "This initial check will help streamline the analysis and focus only on useful information."
   ]
  },
  {
   "cell_type": "code",
   "execution_count": 29,
   "id": "e82f073f",
   "metadata": {},
   "outputs": [],
   "source": [
    "case_path = 'A_TblCase.csv'\n",
    "cases = pd.read_csv(\n",
    "    filepath_or_buffer=case_path,\n",
    "    delimiter='\\t',\n",
    "    nrows=1000\n",
    ")"
   ]
  },
  {
   "cell_type": "code",
   "execution_count": 30,
   "id": "9daa5c67",
   "metadata": {},
   "outputs": [
    {
     "data": {
      "text/html": [
       "<div>\n",
       "<style scoped>\n",
       "    .dataframe tbody tr th:only-of-type {\n",
       "        vertical-align: middle;\n",
       "    }\n",
       "\n",
       "    .dataframe tbody tr th {\n",
       "        vertical-align: top;\n",
       "    }\n",
       "\n",
       "    .dataframe thead th {\n",
       "        text-align: right;\n",
       "    }\n",
       "</style>\n",
       "<table border=\"1\" class=\"dataframe\">\n",
       "  <thead>\n",
       "    <tr style=\"text-align: right;\">\n",
       "      <th></th>\n",
       "      <th>IDNCASE</th>\n",
       "      <th>ALIEN_CITY</th>\n",
       "      <th>ALIEN_STATE</th>\n",
       "      <th>ALIEN_ZIPCODE</th>\n",
       "      <th>UPDATED_ZIPCODE</th>\n",
       "      <th>UPDATED_CITY</th>\n",
       "      <th>NAT</th>\n",
       "      <th>LANG</th>\n",
       "      <th>CUSTODY</th>\n",
       "      <th>SITE_TYPE</th>\n",
       "      <th>E_28_DATE</th>\n",
       "      <th>ATTY_NBR</th>\n",
       "      <th>CASE_TYPE</th>\n",
       "      <th>UPDATE_SITE</th>\n",
       "      <th>LATEST_HEARING</th>\n",
       "      <th>LATEST_TIME</th>\n",
       "      <th>LATEST_CAL_TYPE</th>\n",
       "      <th>UP_BOND_DATE</th>\n",
       "      <th>UP_BOND_RSN</th>\n",
       "      <th>CORRECTIONAL_FAC</th>\n",
       "      <th>RELEASE_MONTH</th>\n",
       "      <th>RELEASE_YEAR</th>\n",
       "      <th>INMATE_HOUSING</th>\n",
       "      <th>DATE_OF_ENTRY</th>\n",
       "      <th>C_ASY_TYPE</th>\n",
       "      <th>C_BIRTHDATE</th>\n",
       "      <th>C_RELEASE_DATE</th>\n",
       "      <th>UPDATED_STATE</th>\n",
       "      <th>ADDRESS_CHANGEDON</th>\n",
       "      <th>ZBOND_MRG_FLAG</th>\n",
       "      <th>GENDER</th>\n",
       "      <th>DATE_DETAINED</th>\n",
       "      <th>DATE_RELEASED</th>\n",
       "      <th>LPR</th>\n",
       "      <th>DETENTION_DATE</th>\n",
       "      <th>DETENTION_LOCATION</th>\n",
       "      <th>DCO_LOCATION</th>\n",
       "      <th>DETENTION_FACILITY_TYPE</th>\n",
       "      <th>CASEPRIORITY_CODE</th>\n",
       "    </tr>\n",
       "  </thead>\n",
       "  <tbody>\n",
       "    <tr>\n",
       "      <th>0</th>\n",
       "      <td>11782069</td>\n",
       "      <td>SAINT CHARLES</td>\n",
       "      <td>IL</td>\n",
       "      <td>60174</td>\n",
       "      <td>NaN</td>\n",
       "      <td>NaN</td>\n",
       "      <td>VE</td>\n",
       "      <td>SP</td>\n",
       "      <td>N</td>\n",
       "      <td>M</td>\n",
       "      <td>NaN</td>\n",
       "      <td>NaN</td>\n",
       "      <td>RMV</td>\n",
       "      <td>CHI</td>\n",
       "      <td>2026-01-20 00:00:00.000</td>\n",
       "      <td>900.0</td>\n",
       "      <td>M</td>\n",
       "      <td>NaN</td>\n",
       "      <td>NaN</td>\n",
       "      <td>NaN</td>\n",
       "      <td>NaN</td>\n",
       "      <td>NaN</td>\n",
       "      <td>NaN</td>\n",
       "      <td>2023-05-04 00:00:00.000</td>\n",
       "      <td>NaN</td>\n",
       "      <td>11/1999</td>\n",
       "      <td>NaN</td>\n",
       "      <td>NaN</td>\n",
       "      <td>NaN</td>\n",
       "      <td>NaN</td>\n",
       "      <td>F</td>\n",
       "      <td>NaN</td>\n",
       "      <td>NaN</td>\n",
       "      <td>NaN</td>\n",
       "      <td>NaN</td>\n",
       "      <td>NaN</td>\n",
       "      <td>NaN</td>\n",
       "      <td>NaN</td>\n",
       "      <td>NaN</td>\n",
       "    </tr>\n",
       "    <tr>\n",
       "      <th>1</th>\n",
       "      <td>11782070</td>\n",
       "      <td>PLYMOUTH</td>\n",
       "      <td>MA</td>\n",
       "      <td>02360</td>\n",
       "      <td>NaN</td>\n",
       "      <td>NaN</td>\n",
       "      <td>EC</td>\n",
       "      <td>SP</td>\n",
       "      <td>D</td>\n",
       "      <td>M</td>\n",
       "      <td>NaN</td>\n",
       "      <td>NaN</td>\n",
       "      <td>RMV</td>\n",
       "      <td>CHE</td>\n",
       "      <td>NaN</td>\n",
       "      <td>NaN</td>\n",
       "      <td>NaN</td>\n",
       "      <td>NaN</td>\n",
       "      <td>NaN</td>\n",
       "      <td>NaN</td>\n",
       "      <td>NaN</td>\n",
       "      <td>NaN</td>\n",
       "      <td>NaN</td>\n",
       "      <td>2023-04-30 00:00:00.000</td>\n",
       "      <td>NaN</td>\n",
       "      <td>11/1983</td>\n",
       "      <td>NaN</td>\n",
       "      <td>NaN</td>\n",
       "      <td>2024-11-19 08:32:39.000</td>\n",
       "      <td>NaN</td>\n",
       "      <td>M</td>\n",
       "      <td>2024-11-14 00:00:00.000</td>\n",
       "      <td>NaN</td>\n",
       "      <td>NaN</td>\n",
       "      <td>NaN</td>\n",
       "      <td>NaN</td>\n",
       "      <td>NaN</td>\n",
       "      <td>NaN</td>\n",
       "      <td>NaN</td>\n",
       "    </tr>\n",
       "    <tr>\n",
       "      <th>2</th>\n",
       "      <td>11782071</td>\n",
       "      <td>WEST SACRAMENTO</td>\n",
       "      <td>CA</td>\n",
       "      <td>95691</td>\n",
       "      <td>NaN</td>\n",
       "      <td>NaN</td>\n",
       "      <td>RU</td>\n",
       "      <td>RUS</td>\n",
       "      <td>N</td>\n",
       "      <td>M</td>\n",
       "      <td>NaN</td>\n",
       "      <td>NaN</td>\n",
       "      <td>RMV</td>\n",
       "      <td>SFR</td>\n",
       "      <td>2026-08-19 00:00:00.000</td>\n",
       "      <td>1330.0</td>\n",
       "      <td>M</td>\n",
       "      <td>NaN</td>\n",
       "      <td>NaN</td>\n",
       "      <td>NaN</td>\n",
       "      <td>NaN</td>\n",
       "      <td>NaN</td>\n",
       "      <td>NaN</td>\n",
       "      <td>2023-05-04 00:00:00.000</td>\n",
       "      <td>E</td>\n",
       "      <td>5/1985</td>\n",
       "      <td>NaN</td>\n",
       "      <td>NaN</td>\n",
       "      <td>2024-11-01 12:22:02.000</td>\n",
       "      <td>NaN</td>\n",
       "      <td>F</td>\n",
       "      <td>NaN</td>\n",
       "      <td>NaN</td>\n",
       "      <td>NaN</td>\n",
       "      <td>NaN</td>\n",
       "      <td>NaN</td>\n",
       "      <td>NaN</td>\n",
       "      <td>NaN</td>\n",
       "      <td>NaN</td>\n",
       "    </tr>\n",
       "    <tr>\n",
       "      <th>3</th>\n",
       "      <td>11782072</td>\n",
       "      <td>SAN JOSE</td>\n",
       "      <td>CA</td>\n",
       "      <td>95117</td>\n",
       "      <td>NaN</td>\n",
       "      <td>NaN</td>\n",
       "      <td>MX</td>\n",
       "      <td>SP</td>\n",
       "      <td>N</td>\n",
       "      <td>M</td>\n",
       "      <td>2024-04-19 11:32:17.227</td>\n",
       "      <td>0.0</td>\n",
       "      <td>RMV</td>\n",
       "      <td>SFR</td>\n",
       "      <td>2028-02-17 00:00:00.000</td>\n",
       "      <td>1330.0</td>\n",
       "      <td>M</td>\n",
       "      <td>NaN</td>\n",
       "      <td>NaN</td>\n",
       "      <td>NaN</td>\n",
       "      <td>NaN</td>\n",
       "      <td>NaN</td>\n",
       "      <td>NaN</td>\n",
       "      <td>2023-05-03 00:00:00.000</td>\n",
       "      <td>E</td>\n",
       "      <td>9/1999</td>\n",
       "      <td>NaN</td>\n",
       "      <td>NaN</td>\n",
       "      <td>2025-03-17 14:07:53.000</td>\n",
       "      <td>NaN</td>\n",
       "      <td>F</td>\n",
       "      <td>NaN</td>\n",
       "      <td>NaN</td>\n",
       "      <td>NaN</td>\n",
       "      <td>NaN</td>\n",
       "      <td>NaN</td>\n",
       "      <td>NaN</td>\n",
       "      <td>NaN</td>\n",
       "      <td>NaN</td>\n",
       "    </tr>\n",
       "    <tr>\n",
       "      <th>4</th>\n",
       "      <td>11782074</td>\n",
       "      <td>KEARNS</td>\n",
       "      <td>UT</td>\n",
       "      <td>84118</td>\n",
       "      <td>NaN</td>\n",
       "      <td>NaN</td>\n",
       "      <td>VE</td>\n",
       "      <td>SP</td>\n",
       "      <td>N</td>\n",
       "      <td>M</td>\n",
       "      <td>NaN</td>\n",
       "      <td>NaN</td>\n",
       "      <td>RMV</td>\n",
       "      <td>SLC</td>\n",
       "      <td>2025-11-25 00:00:00.000</td>\n",
       "      <td>1400.0</td>\n",
       "      <td>M</td>\n",
       "      <td>NaN</td>\n",
       "      <td>NaN</td>\n",
       "      <td>NaN</td>\n",
       "      <td>NaN</td>\n",
       "      <td>NaN</td>\n",
       "      <td>NaN</td>\n",
       "      <td>2023-04-30 00:00:00.000</td>\n",
       "      <td>E</td>\n",
       "      <td>9/2004</td>\n",
       "      <td>NaN</td>\n",
       "      <td>NaN</td>\n",
       "      <td>NaN</td>\n",
       "      <td>NaN</td>\n",
       "      <td>F</td>\n",
       "      <td>NaN</td>\n",
       "      <td>NaN</td>\n",
       "      <td>NaN</td>\n",
       "      <td>NaN</td>\n",
       "      <td>NaN</td>\n",
       "      <td>NaN</td>\n",
       "      <td>NaN</td>\n",
       "      <td>NaN</td>\n",
       "    </tr>\n",
       "  </tbody>\n",
       "</table>\n",
       "</div>"
      ],
      "text/plain": [
       "    IDNCASE       ALIEN_CITY  ... DETENTION_FACILITY_TYPE CASEPRIORITY_CODE\n",
       "0  11782069    SAINT CHARLES  ...                     NaN               NaN\n",
       "1  11782070         PLYMOUTH  ...                     NaN               NaN\n",
       "2  11782071  WEST SACRAMENTO  ...                     NaN               NaN\n",
       "3  11782072         SAN JOSE  ...                     NaN               NaN\n",
       "4  11782074           KEARNS  ...                     NaN               NaN\n",
       "\n",
       "[5 rows x 39 columns]"
      ]
     },
     "execution_count": 30,
     "metadata": {},
     "output_type": "execute_result"
    }
   ],
   "source": [
    "cases.head()"
   ]
  },
  {
   "cell_type": "code",
   "execution_count": 31,
   "id": "48cb779a",
   "metadata": {},
   "outputs": [
    {
     "name": "stdout",
     "output_type": "stream",
     "text": [
      "<class 'pandas.core.frame.DataFrame'>\n",
      "RangeIndex: 1000 entries, 0 to 999\n",
      "Data columns (total 39 columns):\n",
      " #   Column                   Non-Null Count  Dtype  \n",
      "---  ------                   --------------  -----  \n",
      " 0   IDNCASE                  1000 non-null   int64  \n",
      " 1   ALIEN_CITY               958 non-null    object \n",
      " 2   ALIEN_STATE              974 non-null    object \n",
      " 3   ALIEN_ZIPCODE            974 non-null    object \n",
      " 4   UPDATED_ZIPCODE          0 non-null      float64\n",
      " 5   UPDATED_CITY             0 non-null      float64\n",
      " 6   NAT                      1000 non-null   object \n",
      " 7   LANG                     1000 non-null   object \n",
      " 8   CUSTODY                  1000 non-null   object \n",
      " 9   SITE_TYPE                878 non-null    object \n",
      " 10  E_28_DATE                271 non-null    object \n",
      " 11  ATTY_NBR                 526 non-null    float64\n",
      " 12  CASE_TYPE                1000 non-null   object \n",
      " 13  UPDATE_SITE              1000 non-null   object \n",
      " 14  LATEST_HEARING           859 non-null    object \n",
      " 15  LATEST_TIME              859 non-null    float64\n",
      " 16  LATEST_CAL_TYPE          854 non-null    object \n",
      " 17  UP_BOND_DATE             0 non-null      float64\n",
      " 18  UP_BOND_RSN              116 non-null    object \n",
      " 19  CORRECTIONAL_FAC         134 non-null    object \n",
      " 20  RELEASE_MONTH            214 non-null    object \n",
      " 21  RELEASE_YEAR             214 non-null    object \n",
      " 22  INMATE_HOUSING           118 non-null    object \n",
      " 23  DATE_OF_ENTRY            643 non-null    object \n",
      " 24  C_ASY_TYPE               430 non-null    object \n",
      " 25  C_BIRTHDATE              558 non-null    object \n",
      " 26  C_RELEASE_DATE           1 non-null      object \n",
      " 27  UPDATED_STATE            0 non-null      float64\n",
      " 28  ADDRESS_CHANGEDON        292 non-null    object \n",
      " 29  ZBOND_MRG_FLAG           116 non-null    object \n",
      " 30  GENDER                   554 non-null    object \n",
      " 31  DATE_DETAINED            39 non-null     object \n",
      " 32  DATE_RELEASED            5 non-null      object \n",
      " 33  LPR                      42 non-null     float64\n",
      " 34  DETENTION_DATE           0 non-null      float64\n",
      " 35  DETENTION_LOCATION       0 non-null      float64\n",
      " 36  DCO_LOCATION             0 non-null      float64\n",
      " 37  DETENTION_FACILITY_TYPE  0 non-null      float64\n",
      " 38  CASEPRIORITY_CODE        1 non-null      object \n",
      "dtypes: float64(11), int64(1), object(27)\n",
      "memory usage: 304.8+ KB\n"
     ]
    }
   ],
   "source": [
    "cases.info()"
   ]
  },
  {
   "cell_type": "code",
   "execution_count": 32,
   "id": "7ebe49ca",
   "metadata": {},
   "outputs": [
    {
     "data": {
      "text/plain": [
       "Index(['IDNCASE', 'ALIEN_CITY', 'ALIEN_STATE', 'ALIEN_ZIPCODE',\n",
       "       'UPDATED_ZIPCODE', 'UPDATED_CITY', 'NAT', 'LANG', 'CUSTODY',\n",
       "       'SITE_TYPE', 'E_28_DATE', 'ATTY_NBR', 'CASE_TYPE', 'UPDATE_SITE',\n",
       "       'LATEST_HEARING', 'LATEST_TIME', 'LATEST_CAL_TYPE', 'UP_BOND_DATE',\n",
       "       'UP_BOND_RSN', 'CORRECTIONAL_FAC', 'RELEASE_MONTH', 'RELEASE_YEAR',\n",
       "       'INMATE_HOUSING', 'DATE_OF_ENTRY', 'C_ASY_TYPE', 'C_BIRTHDATE',\n",
       "       'C_RELEASE_DATE', 'UPDATED_STATE', 'ADDRESS_CHANGEDON',\n",
       "       'ZBOND_MRG_FLAG', 'GENDER', 'DATE_DETAINED', 'DATE_RELEASED', 'LPR',\n",
       "       'DETENTION_DATE', 'DETENTION_LOCATION', 'DCO_LOCATION',\n",
       "       'DETENTION_FACILITY_TYPE', 'CASEPRIORITY_CODE'],\n",
       "      dtype='object')"
      ]
     },
     "execution_count": 32,
     "metadata": {},
     "output_type": "execute_result"
    }
   ],
   "source": [
    "cases.columns"
   ]
  },
  {
   "cell_type": "markdown",
   "id": "11b75805",
   "metadata": {},
   "source": [
    "#### Selected Features for EDA\n",
    "\n",
    "The list of selected columns below was discussed earlier in the documentation for the source dataset. It represents the core case-level features relevant to our analysis of juvenile immigration cases.\n",
    "\n",
    "These fields include:\n",
    "\n",
    "- Demographic information (e.g., `GENDER`, `NAT`, `LANG`)  \n",
    "- Case characteristics (e.g., `CASE_TYPE`, `CUSTODY`, `LATEST_HEARING`)  \n",
    "- Key dates (e.g., `DATE_OF_ENTRY`, `DETENTION_DATE`, `C_BIRTHDATE`)"
   ]
  },
  {
   "cell_type": "code",
   "execution_count": 33,
   "id": "2f51ac3d",
   "metadata": {},
   "outputs": [],
   "source": [
    "selected_columns = [\n",
    "    'IDNCASE',\n",
    "    'NAT',\n",
    "    'LANG',\n",
    "    'CUSTODY',\n",
    "    'CASE_TYPE',\n",
    "    'LATEST_HEARING', 'LATEST_CAL_TYPE',\n",
    "    'DATE_OF_ENTRY',\n",
    "    'C_BIRTHDATE',\n",
    "    'GENDER',\n",
    "    'DATE_DETAINED', 'DATE_RELEASED',\n",
    "    'DETENTION_DATE'\n",
    "]"
   ]
  },
  {
   "cell_type": "code",
   "execution_count": 34,
   "id": "adfb9c3c",
   "metadata": {},
   "outputs": [],
   "source": [
    "cases = cases[selected_columns]"
   ]
  },
  {
   "cell_type": "code",
   "execution_count": 35,
   "id": "b6e68d35",
   "metadata": {},
   "outputs": [
    {
     "data": {
      "text/html": [
       "<div>\n",
       "<style scoped>\n",
       "    .dataframe tbody tr th:only-of-type {\n",
       "        vertical-align: middle;\n",
       "    }\n",
       "\n",
       "    .dataframe tbody tr th {\n",
       "        vertical-align: top;\n",
       "    }\n",
       "\n",
       "    .dataframe thead th {\n",
       "        text-align: right;\n",
       "    }\n",
       "</style>\n",
       "<table border=\"1\" class=\"dataframe\">\n",
       "  <thead>\n",
       "    <tr style=\"text-align: right;\">\n",
       "      <th></th>\n",
       "      <th>IDNCASE</th>\n",
       "      <th>NAT</th>\n",
       "      <th>LANG</th>\n",
       "      <th>CUSTODY</th>\n",
       "      <th>CASE_TYPE</th>\n",
       "      <th>LATEST_HEARING</th>\n",
       "      <th>LATEST_CAL_TYPE</th>\n",
       "      <th>DATE_OF_ENTRY</th>\n",
       "      <th>C_BIRTHDATE</th>\n",
       "      <th>GENDER</th>\n",
       "      <th>DATE_DETAINED</th>\n",
       "      <th>DATE_RELEASED</th>\n",
       "      <th>DETENTION_DATE</th>\n",
       "    </tr>\n",
       "  </thead>\n",
       "  <tbody>\n",
       "    <tr>\n",
       "      <th>0</th>\n",
       "      <td>11782069</td>\n",
       "      <td>VE</td>\n",
       "      <td>SP</td>\n",
       "      <td>N</td>\n",
       "      <td>RMV</td>\n",
       "      <td>2026-01-20 00:00:00.000</td>\n",
       "      <td>M</td>\n",
       "      <td>2023-05-04 00:00:00.000</td>\n",
       "      <td>11/1999</td>\n",
       "      <td>F</td>\n",
       "      <td>NaN</td>\n",
       "      <td>NaN</td>\n",
       "      <td>NaN</td>\n",
       "    </tr>\n",
       "    <tr>\n",
       "      <th>1</th>\n",
       "      <td>11782070</td>\n",
       "      <td>EC</td>\n",
       "      <td>SP</td>\n",
       "      <td>D</td>\n",
       "      <td>RMV</td>\n",
       "      <td>NaN</td>\n",
       "      <td>NaN</td>\n",
       "      <td>2023-04-30 00:00:00.000</td>\n",
       "      <td>11/1983</td>\n",
       "      <td>M</td>\n",
       "      <td>2024-11-14 00:00:00.000</td>\n",
       "      <td>NaN</td>\n",
       "      <td>NaN</td>\n",
       "    </tr>\n",
       "    <tr>\n",
       "      <th>2</th>\n",
       "      <td>11782071</td>\n",
       "      <td>RU</td>\n",
       "      <td>RUS</td>\n",
       "      <td>N</td>\n",
       "      <td>RMV</td>\n",
       "      <td>2026-08-19 00:00:00.000</td>\n",
       "      <td>M</td>\n",
       "      <td>2023-05-04 00:00:00.000</td>\n",
       "      <td>5/1985</td>\n",
       "      <td>F</td>\n",
       "      <td>NaN</td>\n",
       "      <td>NaN</td>\n",
       "      <td>NaN</td>\n",
       "    </tr>\n",
       "    <tr>\n",
       "      <th>3</th>\n",
       "      <td>11782072</td>\n",
       "      <td>MX</td>\n",
       "      <td>SP</td>\n",
       "      <td>N</td>\n",
       "      <td>RMV</td>\n",
       "      <td>2028-02-17 00:00:00.000</td>\n",
       "      <td>M</td>\n",
       "      <td>2023-05-03 00:00:00.000</td>\n",
       "      <td>9/1999</td>\n",
       "      <td>F</td>\n",
       "      <td>NaN</td>\n",
       "      <td>NaN</td>\n",
       "      <td>NaN</td>\n",
       "    </tr>\n",
       "    <tr>\n",
       "      <th>4</th>\n",
       "      <td>11782074</td>\n",
       "      <td>VE</td>\n",
       "      <td>SP</td>\n",
       "      <td>N</td>\n",
       "      <td>RMV</td>\n",
       "      <td>2025-11-25 00:00:00.000</td>\n",
       "      <td>M</td>\n",
       "      <td>2023-04-30 00:00:00.000</td>\n",
       "      <td>9/2004</td>\n",
       "      <td>F</td>\n",
       "      <td>NaN</td>\n",
       "      <td>NaN</td>\n",
       "      <td>NaN</td>\n",
       "    </tr>\n",
       "  </tbody>\n",
       "</table>\n",
       "</div>"
      ],
      "text/plain": [
       "    IDNCASE NAT LANG  ...            DATE_DETAINED DATE_RELEASED DETENTION_DATE\n",
       "0  11782069  VE   SP  ...                      NaN           NaN            NaN\n",
       "1  11782070  EC   SP  ...  2024-11-14 00:00:00.000           NaN            NaN\n",
       "2  11782071  RU  RUS  ...                      NaN           NaN            NaN\n",
       "3  11782072  MX   SP  ...                      NaN           NaN            NaN\n",
       "4  11782074  VE   SP  ...                      NaN           NaN            NaN\n",
       "\n",
       "[5 rows x 13 columns]"
      ]
     },
     "execution_count": 35,
     "metadata": {},
     "output_type": "execute_result"
    }
   ],
   "source": [
    "cases.head()"
   ]
  },
  {
   "cell_type": "code",
   "execution_count": 36,
   "id": "aacbbf42",
   "metadata": {},
   "outputs": [
    {
     "name": "stdout",
     "output_type": "stream",
     "text": [
      "<class 'pandas.core.frame.DataFrame'>\n",
      "RangeIndex: 1000 entries, 0 to 999\n",
      "Data columns (total 13 columns):\n",
      " #   Column           Non-Null Count  Dtype  \n",
      "---  ------           --------------  -----  \n",
      " 0   IDNCASE          1000 non-null   int64  \n",
      " 1   NAT              1000 non-null   object \n",
      " 2   LANG             1000 non-null   object \n",
      " 3   CUSTODY          1000 non-null   object \n",
      " 4   CASE_TYPE        1000 non-null   object \n",
      " 5   LATEST_HEARING   859 non-null    object \n",
      " 6   LATEST_CAL_TYPE  854 non-null    object \n",
      " 7   DATE_OF_ENTRY    643 non-null    object \n",
      " 8   C_BIRTHDATE      558 non-null    object \n",
      " 9   GENDER           554 non-null    object \n",
      " 10  DATE_DETAINED    39 non-null     object \n",
      " 11  DATE_RELEASED    5 non-null      object \n",
      " 12  DETENTION_DATE   0 non-null      float64\n",
      "dtypes: float64(1), int64(1), object(11)\n",
      "memory usage: 101.7+ KB\n"
     ]
    }
   ],
   "source": [
    "cases.info()"
   ]
  },
  {
   "cell_type": "markdown",
   "id": "2a812a28",
   "metadata": {},
   "source": [
    "#### Note on `DETENTION_DATE`\n",
    "\n",
    "This field is entirely null in the sample, but we'll reassess after  \n",
    "loading the full dataset."
   ]
  },
  {
   "cell_type": "code",
   "execution_count": 37,
   "id": "e932d3cd",
   "metadata": {},
   "outputs": [
    {
     "data": {
      "text/plain": [
       "IDNCASE              int64\n",
       "NAT                 object\n",
       "LANG                object\n",
       "CUSTODY             object\n",
       "CASE_TYPE           object\n",
       "LATEST_HEARING      object\n",
       "LATEST_CAL_TYPE     object\n",
       "DATE_OF_ENTRY       object\n",
       "C_BIRTHDATE         object\n",
       "GENDER              object\n",
       "DATE_DETAINED       object\n",
       "DATE_RELEASED       object\n",
       "DETENTION_DATE     float64\n",
       "dtype: object"
      ]
     },
     "execution_count": 37,
     "metadata": {},
     "output_type": "execute_result"
    }
   ],
   "source": [
    "cases.dtypes"
   ]
  },
  {
   "cell_type": "markdown",
   "id": "c08b9fa7",
   "metadata": {},
   "source": [
    "#### Specifying Column Data Types\n",
    "\n",
    "- `Int64`: Used for `IDNCASE` to allow nullable integer values.\n",
    "- `category`: Applied to string columns with repeated values  \n",
    "  (e.g., `NAT`, `LANG`, `CUSTODY`, `CASE_TYPE`, `LATEST_CAL_TYPE`, `GENDER`)  \n",
    "  for efficient storage and faster processing.\n",
    "- `string`: Used for `C_BIRTHDATE` since it uses a partial date format (`MM/YYYY`)  \n",
    "  and may contain nulls.\n",
    "- `float64`: Used for `DETENTION_DATE`, which appears to contain only nulls in the  \n",
    "  sample but may include numeric timestamps or intervals in the full dataset."
   ]
  },
  {
   "cell_type": "code",
   "execution_count": 38,
   "id": "bba89a2f",
   "metadata": {},
   "outputs": [],
   "source": [
    "dtype = {\n",
    "    'IDNCASE': 'Int64',\n",
    "    'NAT': 'category',\n",
    "    'LANG': 'category',\n",
    "    'CUSTODY': 'category',\n",
    "    'CASE_TYPE': 'category',\n",
    "    'LATEST_CAL_TYPE': 'category',\n",
    "    'GENDER': 'category',\n",
    "    'C_BIRTHDATE': 'string',        \n",
    "    'DETENTION_DATE': 'float64'     \n",
    "}"
   ]
  },
  {
   "cell_type": "code",
   "execution_count": 39,
   "id": "29dc9806",
   "metadata": {},
   "outputs": [],
   "source": [
    "cases = pd.read_csv(\n",
    "    filepath_or_buffer=case_path,\n",
    "    delimiter='\\t',\n",
    "    on_bad_lines='skip',\n",
    "    usecols=selected_columns,\n",
    "    dtype=dtype,\n",
    "    parse_dates=[\n",
    "        'LATEST_HEARING',\n",
    "        'DATE_OF_ENTRY',\n",
    "        'DATE_DETAINED',\n",
    "        'DATE_RELEASED'\n",
    "    ],\n",
    "    low_memory=False,\n",
    "    skiprows=[11711221]  # skip malformed row: C error - EOF inside string on this line\n",
    ")"
   ]
  },
  {
   "cell_type": "markdown",
   "id": "0ed0e49a",
   "metadata": {},
   "source": [
    "### Data Inspection"
   ]
  },
  {
   "cell_type": "code",
   "execution_count": 40,
   "id": "ec1375ba",
   "metadata": {},
   "outputs": [
    {
     "data": {
      "text/html": [
       "<div>\n",
       "<style scoped>\n",
       "    .dataframe tbody tr th:only-of-type {\n",
       "        vertical-align: middle;\n",
       "    }\n",
       "\n",
       "    .dataframe tbody tr th {\n",
       "        vertical-align: top;\n",
       "    }\n",
       "\n",
       "    .dataframe thead th {\n",
       "        text-align: right;\n",
       "    }\n",
       "</style>\n",
       "<table border=\"1\" class=\"dataframe\">\n",
       "  <thead>\n",
       "    <tr style=\"text-align: right;\">\n",
       "      <th></th>\n",
       "      <th>IDNCASE</th>\n",
       "      <th>NAT</th>\n",
       "      <th>LANG</th>\n",
       "      <th>CUSTODY</th>\n",
       "      <th>CASE_TYPE</th>\n",
       "      <th>LATEST_HEARING</th>\n",
       "      <th>LATEST_CAL_TYPE</th>\n",
       "      <th>DATE_OF_ENTRY</th>\n",
       "      <th>C_BIRTHDATE</th>\n",
       "      <th>GENDER</th>\n",
       "      <th>DATE_DETAINED</th>\n",
       "      <th>DATE_RELEASED</th>\n",
       "      <th>DETENTION_DATE</th>\n",
       "    </tr>\n",
       "  </thead>\n",
       "  <tbody>\n",
       "    <tr>\n",
       "      <th>0</th>\n",
       "      <td>11782069</td>\n",
       "      <td>VE</td>\n",
       "      <td>SP</td>\n",
       "      <td>N</td>\n",
       "      <td>RMV</td>\n",
       "      <td>2026-01-20 00:00:00.000</td>\n",
       "      <td>M</td>\n",
       "      <td>2023-05-04 00:00:00.000</td>\n",
       "      <td>11/1999</td>\n",
       "      <td>F</td>\n",
       "      <td>NaN</td>\n",
       "      <td>NaN</td>\n",
       "      <td>NaN</td>\n",
       "    </tr>\n",
       "    <tr>\n",
       "      <th>1</th>\n",
       "      <td>11782070</td>\n",
       "      <td>EC</td>\n",
       "      <td>SP</td>\n",
       "      <td>D</td>\n",
       "      <td>RMV</td>\n",
       "      <td>NaN</td>\n",
       "      <td>NaN</td>\n",
       "      <td>2023-04-30 00:00:00.000</td>\n",
       "      <td>11/1983</td>\n",
       "      <td>M</td>\n",
       "      <td>2024-11-14 00:00:00.000</td>\n",
       "      <td>NaN</td>\n",
       "      <td>NaN</td>\n",
       "    </tr>\n",
       "    <tr>\n",
       "      <th>2</th>\n",
       "      <td>11782071</td>\n",
       "      <td>RU</td>\n",
       "      <td>RUS</td>\n",
       "      <td>N</td>\n",
       "      <td>RMV</td>\n",
       "      <td>2026-08-19 00:00:00.000</td>\n",
       "      <td>M</td>\n",
       "      <td>2023-05-04 00:00:00.000</td>\n",
       "      <td>5/1985</td>\n",
       "      <td>F</td>\n",
       "      <td>NaN</td>\n",
       "      <td>NaN</td>\n",
       "      <td>NaN</td>\n",
       "    </tr>\n",
       "    <tr>\n",
       "      <th>3</th>\n",
       "      <td>11782072</td>\n",
       "      <td>MX</td>\n",
       "      <td>SP</td>\n",
       "      <td>N</td>\n",
       "      <td>RMV</td>\n",
       "      <td>2028-02-17 00:00:00.000</td>\n",
       "      <td>M</td>\n",
       "      <td>2023-05-03 00:00:00.000</td>\n",
       "      <td>9/1999</td>\n",
       "      <td>F</td>\n",
       "      <td>NaN</td>\n",
       "      <td>NaN</td>\n",
       "      <td>NaN</td>\n",
       "    </tr>\n",
       "    <tr>\n",
       "      <th>4</th>\n",
       "      <td>11782074</td>\n",
       "      <td>VE</td>\n",
       "      <td>SP</td>\n",
       "      <td>N</td>\n",
       "      <td>RMV</td>\n",
       "      <td>2025-11-25 00:00:00.000</td>\n",
       "      <td>M</td>\n",
       "      <td>2023-04-30 00:00:00.000</td>\n",
       "      <td>9/2004</td>\n",
       "      <td>F</td>\n",
       "      <td>NaN</td>\n",
       "      <td>NaN</td>\n",
       "      <td>NaN</td>\n",
       "    </tr>\n",
       "  </tbody>\n",
       "</table>\n",
       "</div>"
      ],
      "text/plain": [
       "    IDNCASE NAT LANG  ...            DATE_DETAINED DATE_RELEASED DETENTION_DATE\n",
       "0  11782069  VE   SP  ...                      NaN           NaN            NaN\n",
       "1  11782070  EC   SP  ...  2024-11-14 00:00:00.000           NaN            NaN\n",
       "2  11782071  RU  RUS  ...                      NaN           NaN            NaN\n",
       "3  11782072  MX   SP  ...                      NaN           NaN            NaN\n",
       "4  11782074  VE   SP  ...                      NaN           NaN            NaN\n",
       "\n",
       "[5 rows x 13 columns]"
      ]
     },
     "execution_count": 40,
     "metadata": {},
     "output_type": "execute_result"
    }
   ],
   "source": [
    "cases.head()"
   ]
  },
  {
   "cell_type": "code",
   "execution_count": 41,
   "id": "2a6fe9bd",
   "metadata": {},
   "outputs": [
    {
     "name": "stdout",
     "output_type": "stream",
     "text": [
      "<class 'pandas.core.frame.DataFrame'>\n",
      "RangeIndex: 11711220 entries, 0 to 11711219\n",
      "Data columns (total 13 columns):\n",
      " #   Column           Dtype   \n",
      "---  ------           -----   \n",
      " 0   IDNCASE          Int64   \n",
      " 1   NAT              category\n",
      " 2   LANG             category\n",
      " 3   CUSTODY          category\n",
      " 4   CASE_TYPE        category\n",
      " 5   LATEST_HEARING   object  \n",
      " 6   LATEST_CAL_TYPE  category\n",
      " 7   DATE_OF_ENTRY    object  \n",
      " 8   C_BIRTHDATE      string  \n",
      " 9   GENDER           category\n",
      " 10  DATE_DETAINED    object  \n",
      " 11  DATE_RELEASED    object  \n",
      " 12  DETENTION_DATE   float64 \n",
      "dtypes: Int64(1), category(6), float64(1), object(4), string(1)\n",
      "memory usage: 726.0+ MB\n"
     ]
    }
   ],
   "source": [
    "cases.info()"
   ]
  },
  {
   "cell_type": "code",
   "execution_count": 42,
   "id": "20bf1c35",
   "metadata": {},
   "outputs": [
    {
     "data": {
      "text/plain": [
       "(11711220, 13)"
      ]
     },
     "execution_count": 42,
     "metadata": {},
     "output_type": "execute_result"
    }
   ],
   "source": [
    "cases.shape"
   ]
  },
  {
   "cell_type": "markdown",
   "id": "7a868b39",
   "metadata": {},
   "source": [
    "#### Filtering for Juvenile Cases\n",
    "\n",
    "The current `cases` DataFrame includes both adult and juvenile records.  \n",
    "To isolate only juvenile cases, we will filter it using the list of  \n",
    "`idnCase` values from `tbl_JuvenileHistory`, without performing a full merge."
   ]
  },
  {
   "cell_type": "code",
   "execution_count": 43,
   "id": "0be3f313",
   "metadata": {},
   "outputs": [],
   "source": [
    "juvenile_cases = cases[cases['IDNCASE'].isin(juvenile_case_ids)]"
   ]
  },
  {
   "cell_type": "code",
   "execution_count": 44,
   "id": "301b7ea5",
   "metadata": {},
   "outputs": [
    {
     "data": {
      "text/html": [
       "<div>\n",
       "<style scoped>\n",
       "    .dataframe tbody tr th:only-of-type {\n",
       "        vertical-align: middle;\n",
       "    }\n",
       "\n",
       "    .dataframe tbody tr th {\n",
       "        vertical-align: top;\n",
       "    }\n",
       "\n",
       "    .dataframe thead th {\n",
       "        text-align: right;\n",
       "    }\n",
       "</style>\n",
       "<table border=\"1\" class=\"dataframe\">\n",
       "  <thead>\n",
       "    <tr style=\"text-align: right;\">\n",
       "      <th></th>\n",
       "      <th>IDNCASE</th>\n",
       "      <th>NAT</th>\n",
       "      <th>LANG</th>\n",
       "      <th>CUSTODY</th>\n",
       "      <th>CASE_TYPE</th>\n",
       "      <th>LATEST_HEARING</th>\n",
       "      <th>LATEST_CAL_TYPE</th>\n",
       "      <th>DATE_OF_ENTRY</th>\n",
       "      <th>C_BIRTHDATE</th>\n",
       "      <th>GENDER</th>\n",
       "      <th>DATE_DETAINED</th>\n",
       "      <th>DATE_RELEASED</th>\n",
       "      <th>DETENTION_DATE</th>\n",
       "    </tr>\n",
       "  </thead>\n",
       "  <tbody>\n",
       "    <tr>\n",
       "      <th>18</th>\n",
       "      <td>13758313</td>\n",
       "      <td>GT</td>\n",
       "      <td>SP</td>\n",
       "      <td>N</td>\n",
       "      <td>RMV</td>\n",
       "      <td>NaN</td>\n",
       "      <td>NaN</td>\n",
       "      <td>2024-01-21 00:00:00.000</td>\n",
       "      <td>2/2008</td>\n",
       "      <td>F</td>\n",
       "      <td>NaN</td>\n",
       "      <td>NaN</td>\n",
       "      <td>NaN</td>\n",
       "    </tr>\n",
       "    <tr>\n",
       "      <th>34</th>\n",
       "      <td>14870586</td>\n",
       "      <td>MX</td>\n",
       "      <td>SP</td>\n",
       "      <td>D</td>\n",
       "      <td>RFR</td>\n",
       "      <td>2025-02-04 00:00:00.000</td>\n",
       "      <td>I</td>\n",
       "      <td>NaN</td>\n",
       "      <td>&lt;NA&gt;</td>\n",
       "      <td>NaN</td>\n",
       "      <td>2025-01-22 00:00:00.000</td>\n",
       "      <td>NaN</td>\n",
       "      <td>NaN</td>\n",
       "    </tr>\n",
       "    <tr>\n",
       "      <th>35</th>\n",
       "      <td>14870588</td>\n",
       "      <td>GT</td>\n",
       "      <td>SP</td>\n",
       "      <td>R</td>\n",
       "      <td>WHO</td>\n",
       "      <td>2025-07-31 00:00:00.000</td>\n",
       "      <td>M</td>\n",
       "      <td>NaN</td>\n",
       "      <td>6/1997</td>\n",
       "      <td>F</td>\n",
       "      <td>2025-01-29 00:00:00.000</td>\n",
       "      <td>2025-02-06 00:00:00.000</td>\n",
       "      <td>NaN</td>\n",
       "    </tr>\n",
       "    <tr>\n",
       "      <th>69</th>\n",
       "      <td>13816559</td>\n",
       "      <td>MX</td>\n",
       "      <td>SP</td>\n",
       "      <td>N</td>\n",
       "      <td>RMV</td>\n",
       "      <td>2027-02-18 00:00:00.000</td>\n",
       "      <td>I</td>\n",
       "      <td>NaN</td>\n",
       "      <td>5/2020</td>\n",
       "      <td>M</td>\n",
       "      <td>NaN</td>\n",
       "      <td>NaN</td>\n",
       "      <td>NaN</td>\n",
       "    </tr>\n",
       "    <tr>\n",
       "      <th>70</th>\n",
       "      <td>13816560</td>\n",
       "      <td>MX</td>\n",
       "      <td>SP</td>\n",
       "      <td>N</td>\n",
       "      <td>RMV</td>\n",
       "      <td>2027-02-18 00:00:00.000</td>\n",
       "      <td>I</td>\n",
       "      <td>NaN</td>\n",
       "      <td>5/2021</td>\n",
       "      <td>F</td>\n",
       "      <td>NaN</td>\n",
       "      <td>NaN</td>\n",
       "      <td>NaN</td>\n",
       "    </tr>\n",
       "  </tbody>\n",
       "</table>\n",
       "</div>"
      ],
      "text/plain": [
       "     IDNCASE NAT  ...            DATE_RELEASED DETENTION_DATE\n",
       "18  13758313  GT  ...                      NaN            NaN\n",
       "34  14870586  MX  ...                      NaN            NaN\n",
       "35  14870588  GT  ...  2025-02-06 00:00:00.000            NaN\n",
       "69  13816559  MX  ...                      NaN            NaN\n",
       "70  13816560  MX  ...                      NaN            NaN\n",
       "\n",
       "[5 rows x 13 columns]"
      ]
     },
     "execution_count": 44,
     "metadata": {},
     "output_type": "execute_result"
    }
   ],
   "source": [
    "juvenile_cases.head()"
   ]
  },
  {
   "cell_type": "code",
   "execution_count": 45,
   "id": "386544e7",
   "metadata": {},
   "outputs": [
    {
     "data": {
      "text/plain": [
       "(1858773, 13)"
      ]
     },
     "execution_count": 45,
     "metadata": {},
     "output_type": "execute_result"
    }
   ],
   "source": [
    "juvenile_cases.shape"
   ]
  }
 ],
 "metadata": {
  "kernelspec": {
   "display_name": "ds",
   "language": "python",
   "name": "python3"
  },
  "language_info": {
   "codemirror_mode": {
    "name": "ipython",
    "version": 3
   },
   "file_extension": ".py",
   "mimetype": "text/x-python",
   "name": "python",
   "nbconvert_exporter": "python",
   "pygments_lexer": "ipython3",
   "version": "3.12.9"
  }
 },
 "nbformat": 4,
 "nbformat_minor": 5
}
