{
 "cells": [
  {
   "cell_type": "code",
   "execution_count": 2,
   "id": "f7e07d7c",
   "metadata": {},
   "outputs": [],
   "source": [
    "import pandas as pd\n",
    "import numpy as np"
   ]
  },
  {
   "cell_type": "code",
   "execution_count": 3,
   "id": "1236199e",
   "metadata": {},
   "outputs": [],
   "source": [
    "pd.options.display.max_columns = False"
   ]
  },
  {
   "cell_type": "markdown",
   "id": "a2ae9747",
   "metadata": {},
   "source": [
    "## 1. Clean tbl_JuvenileHistory"
   ]
  },
  {
   "cell_type": "markdown",
   "id": "05a708b3",
   "metadata": {},
   "source": [
    "### Initial Data Inspection"
   ]
  },
  {
   "cell_type": "markdown",
   "id": "7dc3ad1e",
   "metadata": {},
   "source": [
    "\n",
    "The dataset contains approximately 3 million rows. To avoid memory issues and reduce unnecessary processing, only the first 100 rows will be inspected initially:\n",
    "\n",
    "- Get an overview of the data types (`dtypes`)\n",
    "- Identify columns/features worth keeping for the EDA\n",
    "- Skip any columns that appear to be irrelevant or redundant\n",
    "\n",
    "This initial check will help streamline the analysis and focus only on useful information."
   ]
  },
  {
   "cell_type": "code",
   "execution_count": 4,
   "id": "04bf6b36",
   "metadata": {},
   "outputs": [],
   "source": [
    "juvenile_history_path = \"tbl_JuvenileHistory.csv\"\n",
    "juvenile_history = pd.read_csv(\n",
    "    filepath_or_buffer=juvenile_history_path, delimiter=\"\\t\", nrows=100\n",
    ")"
   ]
  },
  {
   "cell_type": "code",
   "execution_count": 5,
   "id": "e14b26a5",
   "metadata": {},
   "outputs": [
    {
     "data": {
      "text/html": [
       "<div>\n",
       "<style scoped>\n",
       "    .dataframe tbody tr th:only-of-type {\n",
       "        vertical-align: middle;\n",
       "    }\n",
       "\n",
       "    .dataframe tbody tr th {\n",
       "        vertical-align: top;\n",
       "    }\n",
       "\n",
       "    .dataframe thead th {\n",
       "        text-align: right;\n",
       "    }\n",
       "</style>\n",
       "<table border=\"1\" class=\"dataframe\">\n",
       "  <thead>\n",
       "    <tr style=\"text-align: right;\">\n",
       "      <th></th>\n",
       "      <th>idnJuvenileHistory</th>\n",
       "      <th>idnCase</th>\n",
       "      <th>idnProceeding</th>\n",
       "      <th>idnJuvenile</th>\n",
       "      <th>DATCREATEDON</th>\n",
       "      <th>DATMODIFIEDON</th>\n",
       "    </tr>\n",
       "  </thead>\n",
       "  <tbody>\n",
       "    <tr>\n",
       "      <th>0</th>\n",
       "      <td>5</td>\n",
       "      <td>2046990</td>\n",
       "      <td>3200129</td>\n",
       "      <td>1</td>\n",
       "      <td>2014-09-06 19:24:46.373</td>\n",
       "      <td>NaN</td>\n",
       "    </tr>\n",
       "    <tr>\n",
       "      <th>1</th>\n",
       "      <td>6</td>\n",
       "      <td>2047179</td>\n",
       "      <td>3199488</td>\n",
       "      <td>1</td>\n",
       "      <td>2014-09-06 19:24:46.373</td>\n",
       "      <td>NaN</td>\n",
       "    </tr>\n",
       "    <tr>\n",
       "      <th>2</th>\n",
       "      <td>7</td>\n",
       "      <td>2047179</td>\n",
       "      <td>3199489</td>\n",
       "      <td>1</td>\n",
       "      <td>2014-09-06 19:24:46.373</td>\n",
       "      <td>NaN</td>\n",
       "    </tr>\n",
       "    <tr>\n",
       "      <th>3</th>\n",
       "      <td>8</td>\n",
       "      <td>2047199</td>\n",
       "      <td>3199497</td>\n",
       "      <td>1</td>\n",
       "      <td>2014-09-06 19:24:46.373</td>\n",
       "      <td>NaN</td>\n",
       "    </tr>\n",
       "    <tr>\n",
       "      <th>4</th>\n",
       "      <td>9</td>\n",
       "      <td>2047199</td>\n",
       "      <td>3199498</td>\n",
       "      <td>1</td>\n",
       "      <td>2014-09-06 19:24:46.373</td>\n",
       "      <td>NaN</td>\n",
       "    </tr>\n",
       "  </tbody>\n",
       "</table>\n",
       "</div>"
      ],
      "text/plain": [
       "   idnJuvenileHistory  idnCase  ...             DATCREATEDON  DATMODIFIEDON\n",
       "0                   5  2046990  ...  2014-09-06 19:24:46.373            NaN\n",
       "1                   6  2047179  ...  2014-09-06 19:24:46.373            NaN\n",
       "2                   7  2047179  ...  2014-09-06 19:24:46.373            NaN\n",
       "3                   8  2047199  ...  2014-09-06 19:24:46.373            NaN\n",
       "4                   9  2047199  ...  2014-09-06 19:24:46.373            NaN\n",
       "\n",
       "[5 rows x 6 columns]"
      ]
     },
     "execution_count": 5,
     "metadata": {},
     "output_type": "execute_result"
    }
   ],
   "source": [
    "juvenile_history.head()"
   ]
  },
  {
   "cell_type": "code",
   "execution_count": 6,
   "id": "9e39b1b3",
   "metadata": {},
   "outputs": [
    {
     "name": "stdout",
     "output_type": "stream",
     "text": [
      "<class 'pandas.core.frame.DataFrame'>\n",
      "RangeIndex: 100 entries, 0 to 99\n",
      "Data columns (total 6 columns):\n",
      " #   Column              Non-Null Count  Dtype  \n",
      "---  ------              --------------  -----  \n",
      " 0   idnJuvenileHistory  100 non-null    int64  \n",
      " 1   idnCase             100 non-null    int64  \n",
      " 2   idnProceeding       100 non-null    int64  \n",
      " 3   idnJuvenile         100 non-null    int64  \n",
      " 4   DATCREATEDON        100 non-null    object \n",
      " 5   DATMODIFIEDON       0 non-null      float64\n",
      "dtypes: float64(1), int64(4), object(1)\n",
      "memory usage: 4.8+ KB\n"
     ]
    }
   ],
   "source": [
    "juvenile_history.info()"
   ]
  },
  {
   "cell_type": "code",
   "execution_count": 7,
   "id": "6be91f1e",
   "metadata": {},
   "outputs": [
    {
     "data": {
      "text/plain": [
       "Index(['idnJuvenileHistory', 'idnCase', 'idnProceeding', 'idnJuvenile',\n",
       "       'DATCREATEDON', 'DATMODIFIEDON'],\n",
       "      dtype='object')"
      ]
     },
     "execution_count": 7,
     "metadata": {},
     "output_type": "execute_result"
    }
   ],
   "source": [
    "juvenile_history.columns"
   ]
  },
  {
   "cell_type": "markdown",
   "id": "fc941c74",
   "metadata": {},
   "source": [
    "**`idnJuvenile`**: Although stored as `int64`, this column only contains values from 1 to 6 (as per `Lookup/tblLookup_Juvenile.csv`). It should be treated as a categorical feature.\n",
    "\n",
    "**`DATCREATEDON`** and **`DATMODIFIEDON`**:\n",
    "  - `DATCREATEDON` likely reflects the date when the record was entered into the system, not when the case itself was initiated.\n",
    "  - `DATMODIFIEDON` contains only null values and may be dropped."
   ]
  },
  {
   "cell_type": "code",
   "execution_count": 8,
   "id": "5df0de0b",
   "metadata": {},
   "outputs": [],
   "source": [
    "juvenile_history = pd.read_csv(\n",
    "    filepath_or_buffer=juvenile_history_path,\n",
    "    delimiter=\"\\t\",\n",
    "    usecols=[\"idnJuvenileHistory\", \"idnCase\", \"idnProceeding\", \"idnJuvenile\"],\n",
    "    dtype={\n",
    "        \"idnJuvenileHistory\": \"Int64\",\n",
    "        \"idnCase\": \"Int64\",\n",
    "        \"idnProceeding\": \"Int64\",\n",
    "        \"idnJuvenile\": \"category\",\n",
    "    },\n",
    "    low_memory=False,\n",
    ")"
   ]
  },
  {
   "cell_type": "markdown",
   "id": "02daed51",
   "metadata": {},
   "source": [
    "### Data Inspection"
   ]
  },
  {
   "cell_type": "code",
   "execution_count": 9,
   "id": "09ebe5c1",
   "metadata": {},
   "outputs": [
    {
     "data": {
      "text/html": [
       "<div>\n",
       "<style scoped>\n",
       "    .dataframe tbody tr th:only-of-type {\n",
       "        vertical-align: middle;\n",
       "    }\n",
       "\n",
       "    .dataframe tbody tr th {\n",
       "        vertical-align: top;\n",
       "    }\n",
       "\n",
       "    .dataframe thead th {\n",
       "        text-align: right;\n",
       "    }\n",
       "</style>\n",
       "<table border=\"1\" class=\"dataframe\">\n",
       "  <thead>\n",
       "    <tr style=\"text-align: right;\">\n",
       "      <th></th>\n",
       "      <th>idnJuvenileHistory</th>\n",
       "      <th>idnCase</th>\n",
       "      <th>idnProceeding</th>\n",
       "      <th>idnJuvenile</th>\n",
       "    </tr>\n",
       "  </thead>\n",
       "  <tbody>\n",
       "    <tr>\n",
       "      <th>0</th>\n",
       "      <td>5</td>\n",
       "      <td>2046990</td>\n",
       "      <td>3200129</td>\n",
       "      <td>1</td>\n",
       "    </tr>\n",
       "    <tr>\n",
       "      <th>1</th>\n",
       "      <td>6</td>\n",
       "      <td>2047179</td>\n",
       "      <td>3199488</td>\n",
       "      <td>1</td>\n",
       "    </tr>\n",
       "    <tr>\n",
       "      <th>2</th>\n",
       "      <td>7</td>\n",
       "      <td>2047179</td>\n",
       "      <td>3199489</td>\n",
       "      <td>1</td>\n",
       "    </tr>\n",
       "    <tr>\n",
       "      <th>3</th>\n",
       "      <td>8</td>\n",
       "      <td>2047199</td>\n",
       "      <td>3199497</td>\n",
       "      <td>1</td>\n",
       "    </tr>\n",
       "    <tr>\n",
       "      <th>4</th>\n",
       "      <td>9</td>\n",
       "      <td>2047199</td>\n",
       "      <td>3199498</td>\n",
       "      <td>1</td>\n",
       "    </tr>\n",
       "  </tbody>\n",
       "</table>\n",
       "</div>"
      ],
      "text/plain": [
       "   idnJuvenileHistory  idnCase  idnProceeding idnJuvenile\n",
       "0                   5  2046990        3200129           1\n",
       "1                   6  2047179        3199488           1\n",
       "2                   7  2047179        3199489           1\n",
       "3                   8  2047199        3199497           1\n",
       "4                   9  2047199        3199498           1"
      ]
     },
     "execution_count": 9,
     "metadata": {},
     "output_type": "execute_result"
    }
   ],
   "source": [
    "juvenile_history.head()"
   ]
  },
  {
   "cell_type": "code",
   "execution_count": 10,
   "id": "9f863a1a",
   "metadata": {},
   "outputs": [
    {
     "data": {
      "text/plain": [
       "(2857093, 4)"
      ]
     },
     "execution_count": 10,
     "metadata": {},
     "output_type": "execute_result"
    }
   ],
   "source": [
    "juvenile_history.shape"
   ]
  },
  {
   "cell_type": "code",
   "execution_count": 11,
   "id": "98b8463b",
   "metadata": {},
   "outputs": [
    {
     "name": "stdout",
     "output_type": "stream",
     "text": [
      "<class 'pandas.core.frame.DataFrame'>\n",
      "RangeIndex: 2857093 entries, 0 to 2857092\n",
      "Data columns (total 4 columns):\n",
      " #   Column              Dtype   \n",
      "---  ------              -----   \n",
      " 0   idnJuvenileHistory  Int64   \n",
      " 1   idnCase             Int64   \n",
      " 2   idnProceeding       Int64   \n",
      " 3   idnJuvenile         category\n",
      "dtypes: Int64(3), category(1)\n",
      "memory usage: 76.3 MB\n"
     ]
    }
   ],
   "source": [
    "juvenile_history.info()"
   ]
  },
  {
   "cell_type": "code",
   "execution_count": 12,
   "id": "eb0ab55f",
   "metadata": {},
   "outputs": [
    {
     "data": {
      "text/plain": [
       "idnJuvenileHistory      0\n",
       "idnCase                 0\n",
       "idnProceeding          98\n",
       "idnJuvenile           999\n",
       "dtype: int64"
      ]
     },
     "execution_count": 12,
     "metadata": {},
     "output_type": "execute_result"
    }
   ],
   "source": [
    "juvenile_history.isna().sum()"
   ]
  },
  {
   "cell_type": "code",
   "execution_count": 13,
   "id": "0755ae12",
   "metadata": {},
   "outputs": [
    {
     "data": {
      "text/plain": [
       "0"
      ]
     },
     "execution_count": 13,
     "metadata": {},
     "output_type": "execute_result"
    }
   ],
   "source": [
    "juvenile_history.duplicated().sum()"
   ]
  },
  {
   "cell_type": "markdown",
   "id": "5e6ae9d2",
   "metadata": {},
   "source": [
    "#### `idnCase` List\n",
    "\n",
    "Extracted unique `idnCase` values from `tbl_JuvenileHistory`  \n",
    "to filter `A_TblCase` and retain only juvenile-related records  \n",
    "without performing a full table join."
   ]
  },
  {
   "cell_type": "code",
   "execution_count": 14,
   "id": "2b018068",
   "metadata": {},
   "outputs": [],
   "source": [
    "juvenile_case_ids = juvenile_history[\"idnCase\"].unique()"
   ]
  },
  {
   "cell_type": "markdown",
   "id": "a76c9b87",
   "metadata": {},
   "source": [
    "#### `idnProceeding` List\n",
    "\n",
    "Extracted unique `idnProceeding` values from `tbl_JuvenileHistory`  \n",
    "to filter `B_TblProceeding` and retain only juvenile-related records  \n",
    "without performing a full table join."
   ]
  },
  {
   "cell_type": "code",
   "execution_count": 15,
   "id": "bd854447",
   "metadata": {},
   "outputs": [],
   "source": [
    "juvenile_proceeding_ids = juvenile_history[\"idnProceeding\"].dropna().unique()"
   ]
  },
  {
   "cell_type": "code",
   "execution_count": 16,
   "id": "2d268d29",
   "metadata": {},
   "outputs": [],
   "source": [
    "juvenile_history.to_csv(\n",
    "    \"../outputs/juvenile_history_cleaned.csv.gz\", index=False, compression=\"gzip\"\n",
    ")"
   ]
  },
  {
   "cell_type": "markdown",
   "id": "905af58c",
   "metadata": {},
   "source": [
    "### Cleaned `tbl_JuvenileHistory`\n",
    "\n",
    "- Loaded ~2.85M rows from the raw CSV file.\n",
    "- Dropped irrelevant or fully null columns.\n",
    "- Converted `idnJuvenile` to a categorical variable.\n",
    "- Retained only 4 key fields:\n",
    "  - `idnJuvenileHistory`: primary key\n",
    "  - `idnCase`: foreign key to `tbl_Case`\n",
    "  - `idnProceeding`: foreign key to `tbl_Proceeding`\n",
    "  - `idnJuvenile`: foreign key to `tblLookup_Juvenile`\n",
    "- Missing values:\n",
    "  - `idnProceeding`: 98 missing\n",
    "  - `idnJuvenile`: 999 missing\n",
    "\n",
    "Saved cleaned file as:\n",
    "- `juvenile_history_cleaned.csv.gz` "
   ]
  },
  {
   "cell_type": "markdown",
   "id": "d4861f54",
   "metadata": {},
   "source": [
    "## 2. Clean A_TblCase"
   ]
  },
  {
   "cell_type": "markdown",
   "id": "0ae6dcda",
   "metadata": {},
   "source": [
    "### Initial Data Inspection"
   ]
  },
  {
   "cell_type": "markdown",
   "id": "9adff737",
   "metadata": {},
   "source": [
    "\n",
    "The dataset contains approximately 12 million rows. To avoid memory issues and reduce unnecessary processing, only the first 1000 rows will be inspected initially:\n",
    "\n",
    "- Get an overview of the data types (`dtypes`)\n",
    "- Identify columns/features worth keeping for the EDA\n",
    "- Skip any columns that appear to be irrelevant or redundant\n",
    "\n",
    "This initial check will help streamline the analysis and focus only on useful information."
   ]
  },
  {
   "cell_type": "code",
   "execution_count": 17,
   "id": "e82f073f",
   "metadata": {},
   "outputs": [],
   "source": [
    "case_path = \"A_TblCase.csv\"\n",
    "cases = pd.read_csv(filepath_or_buffer=case_path, delimiter=\"\\t\", nrows=1000)"
   ]
  },
  {
   "cell_type": "code",
   "execution_count": 18,
   "id": "9daa5c67",
   "metadata": {},
   "outputs": [
    {
     "data": {
      "text/html": [
       "<div>\n",
       "<style scoped>\n",
       "    .dataframe tbody tr th:only-of-type {\n",
       "        vertical-align: middle;\n",
       "    }\n",
       "\n",
       "    .dataframe tbody tr th {\n",
       "        vertical-align: top;\n",
       "    }\n",
       "\n",
       "    .dataframe thead th {\n",
       "        text-align: right;\n",
       "    }\n",
       "</style>\n",
       "<table border=\"1\" class=\"dataframe\">\n",
       "  <thead>\n",
       "    <tr style=\"text-align: right;\">\n",
       "      <th></th>\n",
       "      <th>IDNCASE</th>\n",
       "      <th>ALIEN_CITY</th>\n",
       "      <th>ALIEN_STATE</th>\n",
       "      <th>ALIEN_ZIPCODE</th>\n",
       "      <th>UPDATED_ZIPCODE</th>\n",
       "      <th>UPDATED_CITY</th>\n",
       "      <th>NAT</th>\n",
       "      <th>LANG</th>\n",
       "      <th>CUSTODY</th>\n",
       "      <th>SITE_TYPE</th>\n",
       "      <th>E_28_DATE</th>\n",
       "      <th>ATTY_NBR</th>\n",
       "      <th>CASE_TYPE</th>\n",
       "      <th>UPDATE_SITE</th>\n",
       "      <th>LATEST_HEARING</th>\n",
       "      <th>LATEST_TIME</th>\n",
       "      <th>LATEST_CAL_TYPE</th>\n",
       "      <th>UP_BOND_DATE</th>\n",
       "      <th>UP_BOND_RSN</th>\n",
       "      <th>CORRECTIONAL_FAC</th>\n",
       "      <th>RELEASE_MONTH</th>\n",
       "      <th>RELEASE_YEAR</th>\n",
       "      <th>INMATE_HOUSING</th>\n",
       "      <th>DATE_OF_ENTRY</th>\n",
       "      <th>C_ASY_TYPE</th>\n",
       "      <th>C_BIRTHDATE</th>\n",
       "      <th>C_RELEASE_DATE</th>\n",
       "      <th>UPDATED_STATE</th>\n",
       "      <th>ADDRESS_CHANGEDON</th>\n",
       "      <th>ZBOND_MRG_FLAG</th>\n",
       "      <th>GENDER</th>\n",
       "      <th>DATE_DETAINED</th>\n",
       "      <th>DATE_RELEASED</th>\n",
       "      <th>LPR</th>\n",
       "      <th>DETENTION_DATE</th>\n",
       "      <th>DETENTION_LOCATION</th>\n",
       "      <th>DCO_LOCATION</th>\n",
       "      <th>DETENTION_FACILITY_TYPE</th>\n",
       "      <th>CASEPRIORITY_CODE</th>\n",
       "    </tr>\n",
       "  </thead>\n",
       "  <tbody>\n",
       "    <tr>\n",
       "      <th>0</th>\n",
       "      <td>11782069</td>\n",
       "      <td>SAINT CHARLES</td>\n",
       "      <td>IL</td>\n",
       "      <td>60174</td>\n",
       "      <td>NaN</td>\n",
       "      <td>NaN</td>\n",
       "      <td>VE</td>\n",
       "      <td>SP</td>\n",
       "      <td>N</td>\n",
       "      <td>M</td>\n",
       "      <td>NaN</td>\n",
       "      <td>NaN</td>\n",
       "      <td>RMV</td>\n",
       "      <td>CHI</td>\n",
       "      <td>2026-01-20 00:00:00.000</td>\n",
       "      <td>900.0</td>\n",
       "      <td>M</td>\n",
       "      <td>NaN</td>\n",
       "      <td>NaN</td>\n",
       "      <td>NaN</td>\n",
       "      <td>NaN</td>\n",
       "      <td>NaN</td>\n",
       "      <td>NaN</td>\n",
       "      <td>2023-05-04 00:00:00.000</td>\n",
       "      <td>NaN</td>\n",
       "      <td>11/1999</td>\n",
       "      <td>NaN</td>\n",
       "      <td>NaN</td>\n",
       "      <td>NaN</td>\n",
       "      <td>NaN</td>\n",
       "      <td>F</td>\n",
       "      <td>NaN</td>\n",
       "      <td>NaN</td>\n",
       "      <td>NaN</td>\n",
       "      <td>NaN</td>\n",
       "      <td>NaN</td>\n",
       "      <td>NaN</td>\n",
       "      <td>NaN</td>\n",
       "      <td>NaN</td>\n",
       "    </tr>\n",
       "    <tr>\n",
       "      <th>1</th>\n",
       "      <td>11782070</td>\n",
       "      <td>PLYMOUTH</td>\n",
       "      <td>MA</td>\n",
       "      <td>02360</td>\n",
       "      <td>NaN</td>\n",
       "      <td>NaN</td>\n",
       "      <td>EC</td>\n",
       "      <td>SP</td>\n",
       "      <td>D</td>\n",
       "      <td>M</td>\n",
       "      <td>NaN</td>\n",
       "      <td>NaN</td>\n",
       "      <td>RMV</td>\n",
       "      <td>CHE</td>\n",
       "      <td>NaN</td>\n",
       "      <td>NaN</td>\n",
       "      <td>NaN</td>\n",
       "      <td>NaN</td>\n",
       "      <td>NaN</td>\n",
       "      <td>NaN</td>\n",
       "      <td>NaN</td>\n",
       "      <td>NaN</td>\n",
       "      <td>NaN</td>\n",
       "      <td>2023-04-30 00:00:00.000</td>\n",
       "      <td>NaN</td>\n",
       "      <td>11/1983</td>\n",
       "      <td>NaN</td>\n",
       "      <td>NaN</td>\n",
       "      <td>2024-11-19 08:32:39.000</td>\n",
       "      <td>NaN</td>\n",
       "      <td>M</td>\n",
       "      <td>2024-11-14 00:00:00.000</td>\n",
       "      <td>NaN</td>\n",
       "      <td>NaN</td>\n",
       "      <td>NaN</td>\n",
       "      <td>NaN</td>\n",
       "      <td>NaN</td>\n",
       "      <td>NaN</td>\n",
       "      <td>NaN</td>\n",
       "    </tr>\n",
       "    <tr>\n",
       "      <th>2</th>\n",
       "      <td>11782071</td>\n",
       "      <td>WEST SACRAMENTO</td>\n",
       "      <td>CA</td>\n",
       "      <td>95691</td>\n",
       "      <td>NaN</td>\n",
       "      <td>NaN</td>\n",
       "      <td>RU</td>\n",
       "      <td>RUS</td>\n",
       "      <td>N</td>\n",
       "      <td>M</td>\n",
       "      <td>NaN</td>\n",
       "      <td>NaN</td>\n",
       "      <td>RMV</td>\n",
       "      <td>SFR</td>\n",
       "      <td>2026-08-19 00:00:00.000</td>\n",
       "      <td>1330.0</td>\n",
       "      <td>M</td>\n",
       "      <td>NaN</td>\n",
       "      <td>NaN</td>\n",
       "      <td>NaN</td>\n",
       "      <td>NaN</td>\n",
       "      <td>NaN</td>\n",
       "      <td>NaN</td>\n",
       "      <td>2023-05-04 00:00:00.000</td>\n",
       "      <td>E</td>\n",
       "      <td>5/1985</td>\n",
       "      <td>NaN</td>\n",
       "      <td>NaN</td>\n",
       "      <td>2024-11-01 12:22:02.000</td>\n",
       "      <td>NaN</td>\n",
       "      <td>F</td>\n",
       "      <td>NaN</td>\n",
       "      <td>NaN</td>\n",
       "      <td>NaN</td>\n",
       "      <td>NaN</td>\n",
       "      <td>NaN</td>\n",
       "      <td>NaN</td>\n",
       "      <td>NaN</td>\n",
       "      <td>NaN</td>\n",
       "    </tr>\n",
       "    <tr>\n",
       "      <th>3</th>\n",
       "      <td>11782072</td>\n",
       "      <td>SAN JOSE</td>\n",
       "      <td>CA</td>\n",
       "      <td>95117</td>\n",
       "      <td>NaN</td>\n",
       "      <td>NaN</td>\n",
       "      <td>MX</td>\n",
       "      <td>SP</td>\n",
       "      <td>N</td>\n",
       "      <td>M</td>\n",
       "      <td>2024-04-19 11:32:17.227</td>\n",
       "      <td>0.0</td>\n",
       "      <td>RMV</td>\n",
       "      <td>SFR</td>\n",
       "      <td>2028-02-17 00:00:00.000</td>\n",
       "      <td>1330.0</td>\n",
       "      <td>M</td>\n",
       "      <td>NaN</td>\n",
       "      <td>NaN</td>\n",
       "      <td>NaN</td>\n",
       "      <td>NaN</td>\n",
       "      <td>NaN</td>\n",
       "      <td>NaN</td>\n",
       "      <td>2023-05-03 00:00:00.000</td>\n",
       "      <td>E</td>\n",
       "      <td>9/1999</td>\n",
       "      <td>NaN</td>\n",
       "      <td>NaN</td>\n",
       "      <td>2025-03-17 14:07:53.000</td>\n",
       "      <td>NaN</td>\n",
       "      <td>F</td>\n",
       "      <td>NaN</td>\n",
       "      <td>NaN</td>\n",
       "      <td>NaN</td>\n",
       "      <td>NaN</td>\n",
       "      <td>NaN</td>\n",
       "      <td>NaN</td>\n",
       "      <td>NaN</td>\n",
       "      <td>NaN</td>\n",
       "    </tr>\n",
       "    <tr>\n",
       "      <th>4</th>\n",
       "      <td>11782074</td>\n",
       "      <td>KEARNS</td>\n",
       "      <td>UT</td>\n",
       "      <td>84118</td>\n",
       "      <td>NaN</td>\n",
       "      <td>NaN</td>\n",
       "      <td>VE</td>\n",
       "      <td>SP</td>\n",
       "      <td>N</td>\n",
       "      <td>M</td>\n",
       "      <td>NaN</td>\n",
       "      <td>NaN</td>\n",
       "      <td>RMV</td>\n",
       "      <td>SLC</td>\n",
       "      <td>2025-11-25 00:00:00.000</td>\n",
       "      <td>1400.0</td>\n",
       "      <td>M</td>\n",
       "      <td>NaN</td>\n",
       "      <td>NaN</td>\n",
       "      <td>NaN</td>\n",
       "      <td>NaN</td>\n",
       "      <td>NaN</td>\n",
       "      <td>NaN</td>\n",
       "      <td>2023-04-30 00:00:00.000</td>\n",
       "      <td>E</td>\n",
       "      <td>9/2004</td>\n",
       "      <td>NaN</td>\n",
       "      <td>NaN</td>\n",
       "      <td>NaN</td>\n",
       "      <td>NaN</td>\n",
       "      <td>F</td>\n",
       "      <td>NaN</td>\n",
       "      <td>NaN</td>\n",
       "      <td>NaN</td>\n",
       "      <td>NaN</td>\n",
       "      <td>NaN</td>\n",
       "      <td>NaN</td>\n",
       "      <td>NaN</td>\n",
       "      <td>NaN</td>\n",
       "    </tr>\n",
       "  </tbody>\n",
       "</table>\n",
       "</div>"
      ],
      "text/plain": [
       "    IDNCASE       ALIEN_CITY  ... DETENTION_FACILITY_TYPE CASEPRIORITY_CODE\n",
       "0  11782069    SAINT CHARLES  ...                     NaN               NaN\n",
       "1  11782070         PLYMOUTH  ...                     NaN               NaN\n",
       "2  11782071  WEST SACRAMENTO  ...                     NaN               NaN\n",
       "3  11782072         SAN JOSE  ...                     NaN               NaN\n",
       "4  11782074           KEARNS  ...                     NaN               NaN\n",
       "\n",
       "[5 rows x 39 columns]"
      ]
     },
     "execution_count": 18,
     "metadata": {},
     "output_type": "execute_result"
    }
   ],
   "source": [
    "cases.head()"
   ]
  },
  {
   "cell_type": "code",
   "execution_count": 19,
   "id": "48cb779a",
   "metadata": {},
   "outputs": [
    {
     "name": "stdout",
     "output_type": "stream",
     "text": [
      "<class 'pandas.core.frame.DataFrame'>\n",
      "RangeIndex: 1000 entries, 0 to 999\n",
      "Data columns (total 39 columns):\n",
      " #   Column                   Non-Null Count  Dtype  \n",
      "---  ------                   --------------  -----  \n",
      " 0   IDNCASE                  1000 non-null   int64  \n",
      " 1   ALIEN_CITY               958 non-null    object \n",
      " 2   ALIEN_STATE              974 non-null    object \n",
      " 3   ALIEN_ZIPCODE            974 non-null    object \n",
      " 4   UPDATED_ZIPCODE          0 non-null      float64\n",
      " 5   UPDATED_CITY             0 non-null      float64\n",
      " 6   NAT                      1000 non-null   object \n",
      " 7   LANG                     1000 non-null   object \n",
      " 8   CUSTODY                  1000 non-null   object \n",
      " 9   SITE_TYPE                878 non-null    object \n",
      " 10  E_28_DATE                271 non-null    object \n",
      " 11  ATTY_NBR                 526 non-null    float64\n",
      " 12  CASE_TYPE                1000 non-null   object \n",
      " 13  UPDATE_SITE              1000 non-null   object \n",
      " 14  LATEST_HEARING           859 non-null    object \n",
      " 15  LATEST_TIME              859 non-null    float64\n",
      " 16  LATEST_CAL_TYPE          854 non-null    object \n",
      " 17  UP_BOND_DATE             0 non-null      float64\n",
      " 18  UP_BOND_RSN              116 non-null    object \n",
      " 19  CORRECTIONAL_FAC         134 non-null    object \n",
      " 20  RELEASE_MONTH            214 non-null    object \n",
      " 21  RELEASE_YEAR             214 non-null    object \n",
      " 22  INMATE_HOUSING           118 non-null    object \n",
      " 23  DATE_OF_ENTRY            643 non-null    object \n",
      " 24  C_ASY_TYPE               430 non-null    object \n",
      " 25  C_BIRTHDATE              558 non-null    object \n",
      " 26  C_RELEASE_DATE           1 non-null      object \n",
      " 27  UPDATED_STATE            0 non-null      float64\n",
      " 28  ADDRESS_CHANGEDON        292 non-null    object \n",
      " 29  ZBOND_MRG_FLAG           116 non-null    object \n",
      " 30  GENDER                   554 non-null    object \n",
      " 31  DATE_DETAINED            39 non-null     object \n",
      " 32  DATE_RELEASED            5 non-null      object \n",
      " 33  LPR                      42 non-null     float64\n",
      " 34  DETENTION_DATE           0 non-null      float64\n",
      " 35  DETENTION_LOCATION       0 non-null      float64\n",
      " 36  DCO_LOCATION             0 non-null      float64\n",
      " 37  DETENTION_FACILITY_TYPE  0 non-null      float64\n",
      " 38  CASEPRIORITY_CODE        1 non-null      object \n",
      "dtypes: float64(11), int64(1), object(27)\n",
      "memory usage: 304.8+ KB\n"
     ]
    }
   ],
   "source": [
    "cases.info()"
   ]
  },
  {
   "cell_type": "code",
   "execution_count": 20,
   "id": "7ebe49ca",
   "metadata": {},
   "outputs": [
    {
     "data": {
      "text/plain": [
       "Index(['IDNCASE', 'ALIEN_CITY', 'ALIEN_STATE', 'ALIEN_ZIPCODE',\n",
       "       'UPDATED_ZIPCODE', 'UPDATED_CITY', 'NAT', 'LANG', 'CUSTODY',\n",
       "       'SITE_TYPE', 'E_28_DATE', 'ATTY_NBR', 'CASE_TYPE', 'UPDATE_SITE',\n",
       "       'LATEST_HEARING', 'LATEST_TIME', 'LATEST_CAL_TYPE', 'UP_BOND_DATE',\n",
       "       'UP_BOND_RSN', 'CORRECTIONAL_FAC', 'RELEASE_MONTH', 'RELEASE_YEAR',\n",
       "       'INMATE_HOUSING', 'DATE_OF_ENTRY', 'C_ASY_TYPE', 'C_BIRTHDATE',\n",
       "       'C_RELEASE_DATE', 'UPDATED_STATE', 'ADDRESS_CHANGEDON',\n",
       "       'ZBOND_MRG_FLAG', 'GENDER', 'DATE_DETAINED', 'DATE_RELEASED', 'LPR',\n",
       "       'DETENTION_DATE', 'DETENTION_LOCATION', 'DCO_LOCATION',\n",
       "       'DETENTION_FACILITY_TYPE', 'CASEPRIORITY_CODE'],\n",
       "      dtype='object')"
      ]
     },
     "execution_count": 20,
     "metadata": {},
     "output_type": "execute_result"
    }
   ],
   "source": [
    "cases.columns"
   ]
  },
  {
   "cell_type": "markdown",
   "id": "11b75805",
   "metadata": {},
   "source": [
    "### Selected Features for EDA – `A_TblCase`\n",
    "\n",
    "The list of selected columns below was discussed earlier in the documentation for the source dataset. It represents the core case-level features relevant to our analysis of juvenile immigration cases.\n",
    "\n",
    "These fields include:\n",
    "\n",
    "- Demographic information (e.g., `GENDER`, `NAT`, `LANG`)  \n",
    "- Case characteristics (e.g., `CASE_TYPE`, `CUSTODY`, `LATEST_HEARING`)  \n",
    "- Key dates (e.g., `DATE_OF_ENTRY`, `DETENTION_DATE`, `C_BIRTHDATE`)"
   ]
  },
  {
   "cell_type": "code",
   "execution_count": 21,
   "id": "2f51ac3d",
   "metadata": {},
   "outputs": [],
   "source": [
    "selected_columns = [\n",
    "    \"IDNCASE\",\n",
    "    \"NAT\",\n",
    "    \"LANG\",\n",
    "    \"CUSTODY\",\n",
    "    \"CASE_TYPE\",\n",
    "    \"LATEST_HEARING\",\n",
    "    \"LATEST_CAL_TYPE\",\n",
    "    \"DATE_OF_ENTRY\",\n",
    "    \"C_BIRTHDATE\",\n",
    "    \"GENDER\",\n",
    "    \"DATE_DETAINED\",\n",
    "    \"DATE_RELEASED\",\n",
    "    \"DETENTION_DATE\",\n",
    "]"
   ]
  },
  {
   "cell_type": "code",
   "execution_count": 22,
   "id": "adfb9c3c",
   "metadata": {},
   "outputs": [],
   "source": [
    "cases = cases[selected_columns]"
   ]
  },
  {
   "cell_type": "code",
   "execution_count": 23,
   "id": "b6e68d35",
   "metadata": {},
   "outputs": [
    {
     "data": {
      "text/html": [
       "<div>\n",
       "<style scoped>\n",
       "    .dataframe tbody tr th:only-of-type {\n",
       "        vertical-align: middle;\n",
       "    }\n",
       "\n",
       "    .dataframe tbody tr th {\n",
       "        vertical-align: top;\n",
       "    }\n",
       "\n",
       "    .dataframe thead th {\n",
       "        text-align: right;\n",
       "    }\n",
       "</style>\n",
       "<table border=\"1\" class=\"dataframe\">\n",
       "  <thead>\n",
       "    <tr style=\"text-align: right;\">\n",
       "      <th></th>\n",
       "      <th>IDNCASE</th>\n",
       "      <th>NAT</th>\n",
       "      <th>LANG</th>\n",
       "      <th>CUSTODY</th>\n",
       "      <th>CASE_TYPE</th>\n",
       "      <th>LATEST_HEARING</th>\n",
       "      <th>LATEST_CAL_TYPE</th>\n",
       "      <th>DATE_OF_ENTRY</th>\n",
       "      <th>C_BIRTHDATE</th>\n",
       "      <th>GENDER</th>\n",
       "      <th>DATE_DETAINED</th>\n",
       "      <th>DATE_RELEASED</th>\n",
       "      <th>DETENTION_DATE</th>\n",
       "    </tr>\n",
       "  </thead>\n",
       "  <tbody>\n",
       "    <tr>\n",
       "      <th>0</th>\n",
       "      <td>11782069</td>\n",
       "      <td>VE</td>\n",
       "      <td>SP</td>\n",
       "      <td>N</td>\n",
       "      <td>RMV</td>\n",
       "      <td>2026-01-20 00:00:00.000</td>\n",
       "      <td>M</td>\n",
       "      <td>2023-05-04 00:00:00.000</td>\n",
       "      <td>11/1999</td>\n",
       "      <td>F</td>\n",
       "      <td>NaN</td>\n",
       "      <td>NaN</td>\n",
       "      <td>NaN</td>\n",
       "    </tr>\n",
       "    <tr>\n",
       "      <th>1</th>\n",
       "      <td>11782070</td>\n",
       "      <td>EC</td>\n",
       "      <td>SP</td>\n",
       "      <td>D</td>\n",
       "      <td>RMV</td>\n",
       "      <td>NaN</td>\n",
       "      <td>NaN</td>\n",
       "      <td>2023-04-30 00:00:00.000</td>\n",
       "      <td>11/1983</td>\n",
       "      <td>M</td>\n",
       "      <td>2024-11-14 00:00:00.000</td>\n",
       "      <td>NaN</td>\n",
       "      <td>NaN</td>\n",
       "    </tr>\n",
       "    <tr>\n",
       "      <th>2</th>\n",
       "      <td>11782071</td>\n",
       "      <td>RU</td>\n",
       "      <td>RUS</td>\n",
       "      <td>N</td>\n",
       "      <td>RMV</td>\n",
       "      <td>2026-08-19 00:00:00.000</td>\n",
       "      <td>M</td>\n",
       "      <td>2023-05-04 00:00:00.000</td>\n",
       "      <td>5/1985</td>\n",
       "      <td>F</td>\n",
       "      <td>NaN</td>\n",
       "      <td>NaN</td>\n",
       "      <td>NaN</td>\n",
       "    </tr>\n",
       "    <tr>\n",
       "      <th>3</th>\n",
       "      <td>11782072</td>\n",
       "      <td>MX</td>\n",
       "      <td>SP</td>\n",
       "      <td>N</td>\n",
       "      <td>RMV</td>\n",
       "      <td>2028-02-17 00:00:00.000</td>\n",
       "      <td>M</td>\n",
       "      <td>2023-05-03 00:00:00.000</td>\n",
       "      <td>9/1999</td>\n",
       "      <td>F</td>\n",
       "      <td>NaN</td>\n",
       "      <td>NaN</td>\n",
       "      <td>NaN</td>\n",
       "    </tr>\n",
       "    <tr>\n",
       "      <th>4</th>\n",
       "      <td>11782074</td>\n",
       "      <td>VE</td>\n",
       "      <td>SP</td>\n",
       "      <td>N</td>\n",
       "      <td>RMV</td>\n",
       "      <td>2025-11-25 00:00:00.000</td>\n",
       "      <td>M</td>\n",
       "      <td>2023-04-30 00:00:00.000</td>\n",
       "      <td>9/2004</td>\n",
       "      <td>F</td>\n",
       "      <td>NaN</td>\n",
       "      <td>NaN</td>\n",
       "      <td>NaN</td>\n",
       "    </tr>\n",
       "  </tbody>\n",
       "</table>\n",
       "</div>"
      ],
      "text/plain": [
       "    IDNCASE NAT LANG  ...            DATE_DETAINED DATE_RELEASED DETENTION_DATE\n",
       "0  11782069  VE   SP  ...                      NaN           NaN            NaN\n",
       "1  11782070  EC   SP  ...  2024-11-14 00:00:00.000           NaN            NaN\n",
       "2  11782071  RU  RUS  ...                      NaN           NaN            NaN\n",
       "3  11782072  MX   SP  ...                      NaN           NaN            NaN\n",
       "4  11782074  VE   SP  ...                      NaN           NaN            NaN\n",
       "\n",
       "[5 rows x 13 columns]"
      ]
     },
     "execution_count": 23,
     "metadata": {},
     "output_type": "execute_result"
    }
   ],
   "source": [
    "cases.head()"
   ]
  },
  {
   "cell_type": "code",
   "execution_count": 24,
   "id": "aacbbf42",
   "metadata": {},
   "outputs": [
    {
     "name": "stdout",
     "output_type": "stream",
     "text": [
      "<class 'pandas.core.frame.DataFrame'>\n",
      "RangeIndex: 1000 entries, 0 to 999\n",
      "Data columns (total 13 columns):\n",
      " #   Column           Non-Null Count  Dtype  \n",
      "---  ------           --------------  -----  \n",
      " 0   IDNCASE          1000 non-null   int64  \n",
      " 1   NAT              1000 non-null   object \n",
      " 2   LANG             1000 non-null   object \n",
      " 3   CUSTODY          1000 non-null   object \n",
      " 4   CASE_TYPE        1000 non-null   object \n",
      " 5   LATEST_HEARING   859 non-null    object \n",
      " 6   LATEST_CAL_TYPE  854 non-null    object \n",
      " 7   DATE_OF_ENTRY    643 non-null    object \n",
      " 8   C_BIRTHDATE      558 non-null    object \n",
      " 9   GENDER           554 non-null    object \n",
      " 10  DATE_DETAINED    39 non-null     object \n",
      " 11  DATE_RELEASED    5 non-null      object \n",
      " 12  DETENTION_DATE   0 non-null      float64\n",
      "dtypes: float64(1), int64(1), object(11)\n",
      "memory usage: 101.7+ KB\n"
     ]
    }
   ],
   "source": [
    "cases.info()"
   ]
  },
  {
   "cell_type": "markdown",
   "id": "2a812a28",
   "metadata": {},
   "source": [
    "#### Note on `DETENTION_DATE`\n",
    "\n",
    "This field is entirely null in the sample, but we'll reassess after  \n",
    "loading the full dataset."
   ]
  },
  {
   "cell_type": "code",
   "execution_count": 25,
   "id": "e932d3cd",
   "metadata": {},
   "outputs": [
    {
     "data": {
      "text/plain": [
       "IDNCASE              int64\n",
       "NAT                 object\n",
       "LANG                object\n",
       "CUSTODY             object\n",
       "CASE_TYPE           object\n",
       "LATEST_HEARING      object\n",
       "LATEST_CAL_TYPE     object\n",
       "DATE_OF_ENTRY       object\n",
       "C_BIRTHDATE         object\n",
       "GENDER              object\n",
       "DATE_DETAINED       object\n",
       "DATE_RELEASED       object\n",
       "DETENTION_DATE     float64\n",
       "dtype: object"
      ]
     },
     "execution_count": 25,
     "metadata": {},
     "output_type": "execute_result"
    }
   ],
   "source": [
    "cases.dtypes"
   ]
  },
  {
   "cell_type": "markdown",
   "id": "c08b9fa7",
   "metadata": {},
   "source": [
    "#### Specifying Column Data Types\n",
    "\n",
    "- `Int64`: Used for `IDNCASE` to allow nullable integer values.\n",
    "- `category`: Applied to string columns with repeated values  \n",
    "  (e.g., `NAT`, `LANG`, `CUSTODY`, `CASE_TYPE`, `LATEST_CAL_TYPE`, `GENDER`)  \n",
    "  for efficient storage and faster processing.\n",
    "- `string`: Used for `C_BIRTHDATE` since it uses a partial date format (`MM/YYYY`)  \n",
    "  and may contain nulls.\n",
    "- `float64`: Used for `DETENTION_DATE`, which appears to contain only nulls in the  \n",
    "  sample but may include numeric timestamps or intervals in the full dataset."
   ]
  },
  {
   "cell_type": "code",
   "execution_count": 26,
   "id": "bba89a2f",
   "metadata": {},
   "outputs": [],
   "source": [
    "dtype = {\n",
    "    \"IDNCASE\": \"Int64\",\n",
    "    \"NAT\": \"category\",\n",
    "    \"LANG\": \"category\",\n",
    "    \"CUSTODY\": \"category\",\n",
    "    \"CASE_TYPE\": \"category\",\n",
    "    \"LATEST_CAL_TYPE\": \"category\",\n",
    "    \"GENDER\": \"category\",\n",
    "    \"C_BIRTHDATE\": \"string\",\n",
    "    \"DETENTION_DATE\": \"float64\",\n",
    "}"
   ]
  },
  {
   "cell_type": "code",
   "execution_count": 27,
   "id": "29dc9806",
   "metadata": {},
   "outputs": [],
   "source": [
    "cases = pd.read_csv(\n",
    "    filepath_or_buffer=case_path,\n",
    "    delimiter=\"\\t\",\n",
    "    on_bad_lines=\"skip\",\n",
    "    usecols=selected_columns,\n",
    "    dtype=dtype,\n",
    "    parse_dates=[\"LATEST_HEARING\", \"DATE_OF_ENTRY\", \"DATE_DETAINED\", \"DATE_RELEASED\"],\n",
    "    low_memory=False,\n",
    "    skiprows=[11711221],  # skip malformed row: C error - EOF inside string on this line\n",
    ")"
   ]
  },
  {
   "cell_type": "markdown",
   "id": "0ed0e49a",
   "metadata": {},
   "source": [
    "### Data Inspection"
   ]
  },
  {
   "cell_type": "code",
   "execution_count": 28,
   "id": "ec1375ba",
   "metadata": {},
   "outputs": [
    {
     "data": {
      "text/html": [
       "<div>\n",
       "<style scoped>\n",
       "    .dataframe tbody tr th:only-of-type {\n",
       "        vertical-align: middle;\n",
       "    }\n",
       "\n",
       "    .dataframe tbody tr th {\n",
       "        vertical-align: top;\n",
       "    }\n",
       "\n",
       "    .dataframe thead th {\n",
       "        text-align: right;\n",
       "    }\n",
       "</style>\n",
       "<table border=\"1\" class=\"dataframe\">\n",
       "  <thead>\n",
       "    <tr style=\"text-align: right;\">\n",
       "      <th></th>\n",
       "      <th>IDNCASE</th>\n",
       "      <th>NAT</th>\n",
       "      <th>LANG</th>\n",
       "      <th>CUSTODY</th>\n",
       "      <th>CASE_TYPE</th>\n",
       "      <th>LATEST_HEARING</th>\n",
       "      <th>LATEST_CAL_TYPE</th>\n",
       "      <th>DATE_OF_ENTRY</th>\n",
       "      <th>C_BIRTHDATE</th>\n",
       "      <th>GENDER</th>\n",
       "      <th>DATE_DETAINED</th>\n",
       "      <th>DATE_RELEASED</th>\n",
       "      <th>DETENTION_DATE</th>\n",
       "    </tr>\n",
       "  </thead>\n",
       "  <tbody>\n",
       "    <tr>\n",
       "      <th>0</th>\n",
       "      <td>11782069</td>\n",
       "      <td>VE</td>\n",
       "      <td>SP</td>\n",
       "      <td>N</td>\n",
       "      <td>RMV</td>\n",
       "      <td>2026-01-20 00:00:00.000</td>\n",
       "      <td>M</td>\n",
       "      <td>2023-05-04 00:00:00.000</td>\n",
       "      <td>11/1999</td>\n",
       "      <td>F</td>\n",
       "      <td>NaN</td>\n",
       "      <td>NaN</td>\n",
       "      <td>NaN</td>\n",
       "    </tr>\n",
       "    <tr>\n",
       "      <th>1</th>\n",
       "      <td>11782070</td>\n",
       "      <td>EC</td>\n",
       "      <td>SP</td>\n",
       "      <td>D</td>\n",
       "      <td>RMV</td>\n",
       "      <td>NaN</td>\n",
       "      <td>NaN</td>\n",
       "      <td>2023-04-30 00:00:00.000</td>\n",
       "      <td>11/1983</td>\n",
       "      <td>M</td>\n",
       "      <td>2024-11-14 00:00:00.000</td>\n",
       "      <td>NaN</td>\n",
       "      <td>NaN</td>\n",
       "    </tr>\n",
       "    <tr>\n",
       "      <th>2</th>\n",
       "      <td>11782071</td>\n",
       "      <td>RU</td>\n",
       "      <td>RUS</td>\n",
       "      <td>N</td>\n",
       "      <td>RMV</td>\n",
       "      <td>2026-08-19 00:00:00.000</td>\n",
       "      <td>M</td>\n",
       "      <td>2023-05-04 00:00:00.000</td>\n",
       "      <td>5/1985</td>\n",
       "      <td>F</td>\n",
       "      <td>NaN</td>\n",
       "      <td>NaN</td>\n",
       "      <td>NaN</td>\n",
       "    </tr>\n",
       "    <tr>\n",
       "      <th>3</th>\n",
       "      <td>11782072</td>\n",
       "      <td>MX</td>\n",
       "      <td>SP</td>\n",
       "      <td>N</td>\n",
       "      <td>RMV</td>\n",
       "      <td>2028-02-17 00:00:00.000</td>\n",
       "      <td>M</td>\n",
       "      <td>2023-05-03 00:00:00.000</td>\n",
       "      <td>9/1999</td>\n",
       "      <td>F</td>\n",
       "      <td>NaN</td>\n",
       "      <td>NaN</td>\n",
       "      <td>NaN</td>\n",
       "    </tr>\n",
       "    <tr>\n",
       "      <th>4</th>\n",
       "      <td>11782074</td>\n",
       "      <td>VE</td>\n",
       "      <td>SP</td>\n",
       "      <td>N</td>\n",
       "      <td>RMV</td>\n",
       "      <td>2025-11-25 00:00:00.000</td>\n",
       "      <td>M</td>\n",
       "      <td>2023-04-30 00:00:00.000</td>\n",
       "      <td>9/2004</td>\n",
       "      <td>F</td>\n",
       "      <td>NaN</td>\n",
       "      <td>NaN</td>\n",
       "      <td>NaN</td>\n",
       "    </tr>\n",
       "  </tbody>\n",
       "</table>\n",
       "</div>"
      ],
      "text/plain": [
       "    IDNCASE NAT LANG  ...            DATE_DETAINED DATE_RELEASED DETENTION_DATE\n",
       "0  11782069  VE   SP  ...                      NaN           NaN            NaN\n",
       "1  11782070  EC   SP  ...  2024-11-14 00:00:00.000           NaN            NaN\n",
       "2  11782071  RU  RUS  ...                      NaN           NaN            NaN\n",
       "3  11782072  MX   SP  ...                      NaN           NaN            NaN\n",
       "4  11782074  VE   SP  ...                      NaN           NaN            NaN\n",
       "\n",
       "[5 rows x 13 columns]"
      ]
     },
     "execution_count": 28,
     "metadata": {},
     "output_type": "execute_result"
    }
   ],
   "source": [
    "cases.head()"
   ]
  },
  {
   "cell_type": "code",
   "execution_count": 29,
   "id": "2a6fe9bd",
   "metadata": {},
   "outputs": [
    {
     "name": "stdout",
     "output_type": "stream",
     "text": [
      "<class 'pandas.core.frame.DataFrame'>\n",
      "RangeIndex: 11711220 entries, 0 to 11711219\n",
      "Data columns (total 13 columns):\n",
      " #   Column           Dtype   \n",
      "---  ------           -----   \n",
      " 0   IDNCASE          Int64   \n",
      " 1   NAT              category\n",
      " 2   LANG             category\n",
      " 3   CUSTODY          category\n",
      " 4   CASE_TYPE        category\n",
      " 5   LATEST_HEARING   object  \n",
      " 6   LATEST_CAL_TYPE  category\n",
      " 7   DATE_OF_ENTRY    object  \n",
      " 8   C_BIRTHDATE      string  \n",
      " 9   GENDER           category\n",
      " 10  DATE_DETAINED    object  \n",
      " 11  DATE_RELEASED    object  \n",
      " 12  DETENTION_DATE   float64 \n",
      "dtypes: Int64(1), category(6), float64(1), object(4), string(1)\n",
      "memory usage: 726.0+ MB\n"
     ]
    }
   ],
   "source": [
    "cases.info()"
   ]
  },
  {
   "cell_type": "code",
   "execution_count": 30,
   "id": "20bf1c35",
   "metadata": {},
   "outputs": [
    {
     "data": {
      "text/plain": [
       "(11711220, 13)"
      ]
     },
     "execution_count": 30,
     "metadata": {},
     "output_type": "execute_result"
    }
   ],
   "source": [
    "cases.shape"
   ]
  },
  {
   "cell_type": "markdown",
   "id": "7a868b39",
   "metadata": {},
   "source": [
    "#### Filtering for Juvenile Cases\n",
    "\n",
    "The current `cases` DataFrame includes both adult and juvenile records.  \n",
    "To isolate only juvenile cases, we will filter it using the list of  \n",
    "`idnCase` values from `tbl_JuvenileHistory`, without performing a full merge."
   ]
  },
  {
   "cell_type": "code",
   "execution_count": 31,
   "id": "0be3f313",
   "metadata": {},
   "outputs": [],
   "source": [
    "juvenile_cases = cases[cases[\"IDNCASE\"].isin(juvenile_case_ids)].reset_index(drop=True)"
   ]
  },
  {
   "cell_type": "markdown",
   "id": "f074e344",
   "metadata": {},
   "source": [
    "#### Category Cleanup\n",
    "\n",
    "Removed unused category levels after filtering to ensure all categorical columns reflect only the values present in the `juvenile_cases` subset."
   ]
  },
  {
   "cell_type": "code",
   "execution_count": 32,
   "id": "52b81ac1",
   "metadata": {},
   "outputs": [],
   "source": [
    "for col in juvenile_cases.select_dtypes(include=\"category\"):\n",
    "    juvenile_cases[col] = juvenile_cases[col].cat.remove_unused_categories()"
   ]
  },
  {
   "cell_type": "code",
   "execution_count": 33,
   "id": "301b7ea5",
   "metadata": {},
   "outputs": [
    {
     "data": {
      "text/html": [
       "<div>\n",
       "<style scoped>\n",
       "    .dataframe tbody tr th:only-of-type {\n",
       "        vertical-align: middle;\n",
       "    }\n",
       "\n",
       "    .dataframe tbody tr th {\n",
       "        vertical-align: top;\n",
       "    }\n",
       "\n",
       "    .dataframe thead th {\n",
       "        text-align: right;\n",
       "    }\n",
       "</style>\n",
       "<table border=\"1\" class=\"dataframe\">\n",
       "  <thead>\n",
       "    <tr style=\"text-align: right;\">\n",
       "      <th></th>\n",
       "      <th>IDNCASE</th>\n",
       "      <th>NAT</th>\n",
       "      <th>LANG</th>\n",
       "      <th>CUSTODY</th>\n",
       "      <th>CASE_TYPE</th>\n",
       "      <th>LATEST_HEARING</th>\n",
       "      <th>LATEST_CAL_TYPE</th>\n",
       "      <th>DATE_OF_ENTRY</th>\n",
       "      <th>C_BIRTHDATE</th>\n",
       "      <th>GENDER</th>\n",
       "      <th>DATE_DETAINED</th>\n",
       "      <th>DATE_RELEASED</th>\n",
       "      <th>DETENTION_DATE</th>\n",
       "    </tr>\n",
       "  </thead>\n",
       "  <tbody>\n",
       "    <tr>\n",
       "      <th>0</th>\n",
       "      <td>13758313</td>\n",
       "      <td>GT</td>\n",
       "      <td>SP</td>\n",
       "      <td>N</td>\n",
       "      <td>RMV</td>\n",
       "      <td>NaN</td>\n",
       "      <td>NaN</td>\n",
       "      <td>2024-01-21 00:00:00.000</td>\n",
       "      <td>2/2008</td>\n",
       "      <td>F</td>\n",
       "      <td>NaN</td>\n",
       "      <td>NaN</td>\n",
       "      <td>NaN</td>\n",
       "    </tr>\n",
       "    <tr>\n",
       "      <th>1</th>\n",
       "      <td>14870586</td>\n",
       "      <td>MX</td>\n",
       "      <td>SP</td>\n",
       "      <td>D</td>\n",
       "      <td>RFR</td>\n",
       "      <td>2025-02-04 00:00:00.000</td>\n",
       "      <td>I</td>\n",
       "      <td>NaN</td>\n",
       "      <td>&lt;NA&gt;</td>\n",
       "      <td>NaN</td>\n",
       "      <td>2025-01-22 00:00:00.000</td>\n",
       "      <td>NaN</td>\n",
       "      <td>NaN</td>\n",
       "    </tr>\n",
       "    <tr>\n",
       "      <th>2</th>\n",
       "      <td>14870588</td>\n",
       "      <td>GT</td>\n",
       "      <td>SP</td>\n",
       "      <td>R</td>\n",
       "      <td>WHO</td>\n",
       "      <td>2025-07-31 00:00:00.000</td>\n",
       "      <td>M</td>\n",
       "      <td>NaN</td>\n",
       "      <td>6/1997</td>\n",
       "      <td>F</td>\n",
       "      <td>2025-01-29 00:00:00.000</td>\n",
       "      <td>2025-02-06 00:00:00.000</td>\n",
       "      <td>NaN</td>\n",
       "    </tr>\n",
       "    <tr>\n",
       "      <th>3</th>\n",
       "      <td>13816559</td>\n",
       "      <td>MX</td>\n",
       "      <td>SP</td>\n",
       "      <td>N</td>\n",
       "      <td>RMV</td>\n",
       "      <td>2027-02-18 00:00:00.000</td>\n",
       "      <td>I</td>\n",
       "      <td>NaN</td>\n",
       "      <td>5/2020</td>\n",
       "      <td>M</td>\n",
       "      <td>NaN</td>\n",
       "      <td>NaN</td>\n",
       "      <td>NaN</td>\n",
       "    </tr>\n",
       "    <tr>\n",
       "      <th>4</th>\n",
       "      <td>13816560</td>\n",
       "      <td>MX</td>\n",
       "      <td>SP</td>\n",
       "      <td>N</td>\n",
       "      <td>RMV</td>\n",
       "      <td>2027-02-18 00:00:00.000</td>\n",
       "      <td>I</td>\n",
       "      <td>NaN</td>\n",
       "      <td>5/2021</td>\n",
       "      <td>F</td>\n",
       "      <td>NaN</td>\n",
       "      <td>NaN</td>\n",
       "      <td>NaN</td>\n",
       "    </tr>\n",
       "  </tbody>\n",
       "</table>\n",
       "</div>"
      ],
      "text/plain": [
       "    IDNCASE NAT  ...            DATE_RELEASED DETENTION_DATE\n",
       "0  13758313  GT  ...                      NaN            NaN\n",
       "1  14870586  MX  ...                      NaN            NaN\n",
       "2  14870588  GT  ...  2025-02-06 00:00:00.000            NaN\n",
       "3  13816559  MX  ...                      NaN            NaN\n",
       "4  13816560  MX  ...                      NaN            NaN\n",
       "\n",
       "[5 rows x 13 columns]"
      ]
     },
     "execution_count": 33,
     "metadata": {},
     "output_type": "execute_result"
    }
   ],
   "source": [
    "juvenile_cases.head()"
   ]
  },
  {
   "cell_type": "code",
   "execution_count": 34,
   "id": "386544e7",
   "metadata": {},
   "outputs": [
    {
     "data": {
      "text/plain": [
       "(1858773, 13)"
      ]
     },
     "execution_count": 34,
     "metadata": {},
     "output_type": "execute_result"
    }
   ],
   "source": [
    "juvenile_cases.shape"
   ]
  },
  {
   "cell_type": "code",
   "execution_count": 35,
   "id": "9f0bcc9c",
   "metadata": {},
   "outputs": [
    {
     "name": "stdout",
     "output_type": "stream",
     "text": [
      "<class 'pandas.core.frame.DataFrame'>\n",
      "RangeIndex: 1858773 entries, 0 to 1858772\n",
      "Data columns (total 13 columns):\n",
      " #   Column           Dtype   \n",
      "---  ------           -----   \n",
      " 0   IDNCASE          Int64   \n",
      " 1   NAT              category\n",
      " 2   LANG             category\n",
      " 3   CUSTODY          category\n",
      " 4   CASE_TYPE        category\n",
      " 5   LATEST_HEARING   object  \n",
      " 6   LATEST_CAL_TYPE  category\n",
      " 7   DATE_OF_ENTRY    object  \n",
      " 8   C_BIRTHDATE      string  \n",
      " 9   GENDER           category\n",
      " 10  DATE_DETAINED    object  \n",
      " 11  DATE_RELEASED    object  \n",
      " 12  DETENTION_DATE   float64 \n",
      "dtypes: Int64(1), category(6), float64(1), object(4), string(1)\n",
      "memory usage: 115.2+ MB\n"
     ]
    }
   ],
   "source": [
    "juvenile_cases.info()"
   ]
  },
  {
   "cell_type": "markdown",
   "id": "70050a50",
   "metadata": {},
   "source": [
    "### Missing Values Summary\n",
    "\n",
    "Counts and percentages of missing values were calculated for each column in the `juvenile_cases` dataset to assess data completeness.  \n",
    "`.isna().sum()` computes the total number of missing entries, and the percentage is derived by dividing by the total number of rows.  \n",
    "Columns are sorted by missing count to highlight those requiring attention during data cleaning."
   ]
  },
  {
   "cell_type": "code",
   "execution_count": 36,
   "id": "34071448",
   "metadata": {},
   "outputs": [
    {
     "data": {
      "text/html": [
       "<div>\n",
       "<style scoped>\n",
       "    .dataframe tbody tr th:only-of-type {\n",
       "        vertical-align: middle;\n",
       "    }\n",
       "\n",
       "    .dataframe tbody tr th {\n",
       "        vertical-align: top;\n",
       "    }\n",
       "\n",
       "    .dataframe thead th {\n",
       "        text-align: right;\n",
       "    }\n",
       "</style>\n",
       "<table border=\"1\" class=\"dataframe\">\n",
       "  <thead>\n",
       "    <tr style=\"text-align: right;\">\n",
       "      <th></th>\n",
       "      <th>Missing Count</th>\n",
       "      <th>Missing %</th>\n",
       "    </tr>\n",
       "  </thead>\n",
       "  <tbody>\n",
       "    <tr>\n",
       "      <th>DETENTION_DATE</th>\n",
       "      <td>1858773</td>\n",
       "      <td>100.00</td>\n",
       "    </tr>\n",
       "    <tr>\n",
       "      <th>DATE_RELEASED</th>\n",
       "      <td>1411804</td>\n",
       "      <td>75.95</td>\n",
       "    </tr>\n",
       "    <tr>\n",
       "      <th>DATE_DETAINED</th>\n",
       "      <td>1053320</td>\n",
       "      <td>56.67</td>\n",
       "    </tr>\n",
       "    <tr>\n",
       "      <th>GENDER</th>\n",
       "      <td>488535</td>\n",
       "      <td>26.28</td>\n",
       "    </tr>\n",
       "    <tr>\n",
       "      <th>DATE_OF_ENTRY</th>\n",
       "      <td>480722</td>\n",
       "      <td>25.86</td>\n",
       "    </tr>\n",
       "    <tr>\n",
       "      <th>C_BIRTHDATE</th>\n",
       "      <td>446724</td>\n",
       "      <td>24.03</td>\n",
       "    </tr>\n",
       "    <tr>\n",
       "      <th>LATEST_CAL_TYPE</th>\n",
       "      <td>303538</td>\n",
       "      <td>16.33</td>\n",
       "    </tr>\n",
       "    <tr>\n",
       "      <th>LATEST_HEARING</th>\n",
       "      <td>296813</td>\n",
       "      <td>15.97</td>\n",
       "    </tr>\n",
       "    <tr>\n",
       "      <th>NAT</th>\n",
       "      <td>3057</td>\n",
       "      <td>0.16</td>\n",
       "    </tr>\n",
       "    <tr>\n",
       "      <th>LANG</th>\n",
       "      <td>1692</td>\n",
       "      <td>0.09</td>\n",
       "    </tr>\n",
       "    <tr>\n",
       "      <th>CUSTODY</th>\n",
       "      <td>4</td>\n",
       "      <td>0.00</td>\n",
       "    </tr>\n",
       "    <tr>\n",
       "      <th>CASE_TYPE</th>\n",
       "      <td>4</td>\n",
       "      <td>0.00</td>\n",
       "    </tr>\n",
       "    <tr>\n",
       "      <th>IDNCASE</th>\n",
       "      <td>0</td>\n",
       "      <td>0.00</td>\n",
       "    </tr>\n",
       "  </tbody>\n",
       "</table>\n",
       "</div>"
      ],
      "text/plain": [
       "                 Missing Count  Missing %\n",
       "DETENTION_DATE         1858773     100.00\n",
       "DATE_RELEASED          1411804      75.95\n",
       "DATE_DETAINED          1053320      56.67\n",
       "GENDER                  488535      26.28\n",
       "DATE_OF_ENTRY           480722      25.86\n",
       "C_BIRTHDATE             446724      24.03\n",
       "LATEST_CAL_TYPE         303538      16.33\n",
       "LATEST_HEARING          296813      15.97\n",
       "NAT                       3057       0.16\n",
       "LANG                      1692       0.09\n",
       "CUSTODY                      4       0.00\n",
       "CASE_TYPE                    4       0.00\n",
       "IDNCASE                      0       0.00"
      ]
     },
     "metadata": {},
     "output_type": "display_data"
    }
   ],
   "source": [
    "null_counts = juvenile_cases.isna().sum()\n",
    "percent_missing = (null_counts / len(juvenile_cases)) * 100\n",
    "\n",
    "missing_summary = pd.DataFrame(\n",
    "    {\"Missing Count\": null_counts, \"Missing %\": percent_missing.round(2)}\n",
    ").sort_values(by=\"Missing Count\", ascending=False)\n",
    "\n",
    "display(missing_summary)"
   ]
  },
  {
   "cell_type": "markdown",
   "id": "1e8721b0",
   "metadata": {},
   "source": [
    "The `DETENTION_DATE` column is entirely null (100% missing) and therefore will be dropped from the dataset"
   ]
  },
  {
   "cell_type": "code",
   "execution_count": 37,
   "id": "e7e16ffc",
   "metadata": {},
   "outputs": [],
   "source": [
    "juvenile_cases = juvenile_cases.drop(\"DETENTION_DATE\", axis=1)"
   ]
  },
  {
   "cell_type": "markdown",
   "id": "e5c5e7fc",
   "metadata": {},
   "source": [
    "#### Datetime Format Validation\n",
    "\n",
    "The following date-related features will be the focus of the next stage of preprocessing:  \n",
    "- `LATEST_HEARING`  \n",
    "- `DATE_OF_ENTRY`  \n",
    "- `C_BIRTHDATE`  \n",
    "- `DATE_DETAINED`  \n",
    "- `DATE_RELEASED`  \n",
    "\n",
    "These features may require format standardization and conversion to datetime objects to enable accurate temporal analysis.\n",
    "\n",
    "Every datetime feature (except `C_BIRTHDATE`) follows the format `'YYYY-MM-DD 00:00:00.000'` (e.g., `'2025-02-04 00:00:00.000'`).\n",
    "\n",
    "Before conversion, each feature will be tested against this pattern to ensure values are valid.  \n",
    "All non-null entries will be checked to avoid unintended data loss during transformation with `pd.to_datetime()`.\n",
    "\n",
    "Only the **`YYYY-MM-DD`** portion of each timestamp will be retained."
   ]
  },
  {
   "cell_type": "code",
   "execution_count": 38,
   "id": "d688d84a",
   "metadata": {},
   "outputs": [],
   "source": [
    "def find_invalid_dates(df, column):\n",
    "    \"\"\"\n",
    "    Returns non-null rows that don’t match the `YYYY-MM-DD` pattern.\n",
    "    \"\"\"\n",
    "    return df[\n",
    "        df[column].notna()\n",
    "        & ~df[column].astype(str).str.contains(r\"\\d{4}-\\d{2}-\\d{2}\", regex=True)\n",
    "    ][[column]]"
   ]
  },
  {
   "cell_type": "code",
   "execution_count": 39,
   "id": "b7f2fc5b",
   "metadata": {},
   "outputs": [],
   "source": [
    "invalid_latest_hearing = find_invalid_dates(juvenile_cases, \"LATEST_HEARING\")\n",
    "invalid_date_of_entry = find_invalid_dates(juvenile_cases, \"DATE_OF_ENTRY\")\n",
    "invalid_date_detained = find_invalid_dates(juvenile_cases, \"DATE_DETAINED\")\n",
    "invalid_date_released = find_invalid_dates(juvenile_cases, \"DATE_RELEASED\")"
   ]
  },
  {
   "cell_type": "code",
   "execution_count": 40,
   "id": "44a1058a",
   "metadata": {},
   "outputs": [],
   "source": [
    "def report_invalid(name, df):\n",
    "    \"\"\"\n",
    "    Prints the number of invalid entries and displays the DataFrame if not empty.\n",
    "    \"\"\"\n",
    "    count = len(df)\n",
    "    print(f\"{name}: {count} invalid entr{'y' if count == 1 else 'ies'}\")\n",
    "    if count > 0:\n",
    "        display(df)"
   ]
  },
  {
   "cell_type": "code",
   "execution_count": 41,
   "id": "3fa4d4c5",
   "metadata": {},
   "outputs": [
    {
     "name": "stdout",
     "output_type": "stream",
     "text": [
      "LATEST_HEARING: 9 invalid entries\n"
     ]
    },
    {
     "data": {
      "text/html": [
       "<div>\n",
       "<style scoped>\n",
       "    .dataframe tbody tr th:only-of-type {\n",
       "        vertical-align: middle;\n",
       "    }\n",
       "\n",
       "    .dataframe tbody tr th {\n",
       "        vertical-align: top;\n",
       "    }\n",
       "\n",
       "    .dataframe thead th {\n",
       "        text-align: right;\n",
       "    }\n",
       "</style>\n",
       "<table border=\"1\" class=\"dataframe\">\n",
       "  <thead>\n",
       "    <tr style=\"text-align: right;\">\n",
       "      <th></th>\n",
       "      <th>LATEST_HEARING</th>\n",
       "    </tr>\n",
       "  </thead>\n",
       "  <tbody>\n",
       "    <tr>\n",
       "      <th>1676217</th>\n",
       "      <td>SFR</td>\n",
       "    </tr>\n",
       "    <tr>\n",
       "      <th>1678888</th>\n",
       "      <td>PHI</td>\n",
       "    </tr>\n",
       "    <tr>\n",
       "      <th>1701983</th>\n",
       "      <td>NEW</td>\n",
       "    </tr>\n",
       "    <tr>\n",
       "      <th>1774914</th>\n",
       "      <td>NYV</td>\n",
       "    </tr>\n",
       "    <tr>\n",
       "      <th>1775104</th>\n",
       "      <td>NYV</td>\n",
       "    </tr>\n",
       "    <tr>\n",
       "      <th>1788271</th>\n",
       "      <td>PHI</td>\n",
       "    </tr>\n",
       "    <tr>\n",
       "      <th>1790694</th>\n",
       "      <td>HAR</td>\n",
       "    </tr>\n",
       "    <tr>\n",
       "      <th>1796974</th>\n",
       "      <td>DAL</td>\n",
       "    </tr>\n",
       "    <tr>\n",
       "      <th>1842725</th>\n",
       "      <td>SNA</td>\n",
       "    </tr>\n",
       "  </tbody>\n",
       "</table>\n",
       "</div>"
      ],
      "text/plain": [
       "        LATEST_HEARING\n",
       "1676217            SFR\n",
       "1678888            PHI\n",
       "1701983            NEW\n",
       "1774914            NYV\n",
       "1775104            NYV\n",
       "1788271            PHI\n",
       "1790694            HAR\n",
       "1796974            DAL\n",
       "1842725            SNA"
      ]
     },
     "metadata": {},
     "output_type": "display_data"
    },
    {
     "name": "stdout",
     "output_type": "stream",
     "text": [
      "DATE_OF_ENTRY: 0 invalid entries\n",
      "DATE_DETAINED: 7 invalid entries\n"
     ]
    },
    {
     "data": {
      "text/html": [
       "<div>\n",
       "<style scoped>\n",
       "    .dataframe tbody tr th:only-of-type {\n",
       "        vertical-align: middle;\n",
       "    }\n",
       "\n",
       "    .dataframe tbody tr th {\n",
       "        vertical-align: top;\n",
       "    }\n",
       "\n",
       "    .dataframe thead th {\n",
       "        text-align: right;\n",
       "    }\n",
       "</style>\n",
       "<table border=\"1\" class=\"dataframe\">\n",
       "  <thead>\n",
       "    <tr style=\"text-align: right;\">\n",
       "      <th></th>\n",
       "      <th>DATE_DETAINED</th>\n",
       "    </tr>\n",
       "  </thead>\n",
       "  <tbody>\n",
       "    <tr>\n",
       "      <th>1676217</th>\n",
       "      <td>M</td>\n",
       "    </tr>\n",
       "    <tr>\n",
       "      <th>1678888</th>\n",
       "      <td>F</td>\n",
       "    </tr>\n",
       "    <tr>\n",
       "      <th>1774914</th>\n",
       "      <td>M</td>\n",
       "    </tr>\n",
       "    <tr>\n",
       "      <th>1775104</th>\n",
       "      <td>M</td>\n",
       "    </tr>\n",
       "    <tr>\n",
       "      <th>1788271</th>\n",
       "      <td>M</td>\n",
       "    </tr>\n",
       "    <tr>\n",
       "      <th>1790694</th>\n",
       "      <td>F</td>\n",
       "    </tr>\n",
       "    <tr>\n",
       "      <th>1842725</th>\n",
       "      <td>M</td>\n",
       "    </tr>\n",
       "  </tbody>\n",
       "</table>\n",
       "</div>"
      ],
      "text/plain": [
       "        DATE_DETAINED\n",
       "1676217             M\n",
       "1678888             F\n",
       "1774914             M\n",
       "1775104             M\n",
       "1788271             M\n",
       "1790694             F\n",
       "1842725             M"
      ]
     },
     "metadata": {},
     "output_type": "display_data"
    },
    {
     "name": "stdout",
     "output_type": "stream",
     "text": [
      "DATE_RELEASED: 0 invalid entries\n"
     ]
    }
   ],
   "source": [
    "report_invalid(\"LATEST_HEARING\", invalid_latest_hearing)\n",
    "report_invalid(\"DATE_OF_ENTRY\", invalid_date_of_entry)\n",
    "report_invalid(\"DATE_DETAINED\", invalid_date_detained)\n",
    "report_invalid(\"DATE_RELEASED\", invalid_date_released)"
   ]
  },
  {
   "cell_type": "markdown",
   "id": "4e82cdfa",
   "metadata": {},
   "source": [
    "Invalid date values were not counted separately, as `errors='coerce'` was used in `pd.to_datetime()`.  \n",
    "This automatically handles invalid formats by converting them to `NaT`, simplifying the cleaning process."
   ]
  },
  {
   "cell_type": "code",
   "execution_count": 42,
   "id": "38405366",
   "metadata": {},
   "outputs": [],
   "source": [
    "date_cols = [\"LATEST_HEARING\", \"DATE_OF_ENTRY\", \"DATE_DETAINED\", \"DATE_RELEASED\"]\n",
    "\n",
    "juvenile_cases[date_cols] = juvenile_cases[date_cols].apply(\n",
    "    lambda col: pd.to_datetime(col, errors=\"coerce\")\n",
    ")"
   ]
  },
  {
   "cell_type": "markdown",
   "id": "8a679ecb",
   "metadata": {},
   "source": [
    "Identified non-null `C_BIRTHDATE` values that do not match the expected `MM/YYYY` format.  \n",
    "This helps reveal alternate formats and prevents unintended data loss during conversion."
   ]
  },
  {
   "cell_type": "code",
   "execution_count": 43,
   "id": "89ce0eb9",
   "metadata": {},
   "outputs": [],
   "source": [
    "invalid_birthdates = juvenile_cases[\n",
    "    juvenile_cases[\"C_BIRTHDATE\"].notna()\n",
    "    & ~juvenile_cases[\"C_BIRTHDATE\"]\n",
    "    .astype(str)\n",
    "    .str.contains(r\"^\\d{1,2}/\\d{4}$\", regex=True)\n",
    "][[\"C_BIRTHDATE\"]]"
   ]
  },
  {
   "cell_type": "code",
   "execution_count": 44,
   "id": "c44d1d38",
   "metadata": {},
   "outputs": [
    {
     "name": "stdout",
     "output_type": "stream",
     "text": [
      "Invalid C_BIRTHDATE entries: 7\n"
     ]
    },
    {
     "data": {
      "text/html": [
       "<div>\n",
       "<style scoped>\n",
       "    .dataframe tbody tr th:only-of-type {\n",
       "        vertical-align: middle;\n",
       "    }\n",
       "\n",
       "    .dataframe tbody tr th {\n",
       "        vertical-align: top;\n",
       "    }\n",
       "\n",
       "    .dataframe thead th {\n",
       "        text-align: right;\n",
       "    }\n",
       "</style>\n",
       "<table border=\"1\" class=\"dataframe\">\n",
       "  <thead>\n",
       "    <tr style=\"text-align: right;\">\n",
       "      <th></th>\n",
       "      <th>C_BIRTHDATE</th>\n",
       "    </tr>\n",
       "  </thead>\n",
       "  <tbody>\n",
       "    <tr>\n",
       "      <th>1678888</th>\n",
       "      <td>E</td>\n",
       "    </tr>\n",
       "    <tr>\n",
       "      <th>1774914</th>\n",
       "      <td>E</td>\n",
       "    </tr>\n",
       "    <tr>\n",
       "      <th>1775104</th>\n",
       "      <td>E</td>\n",
       "    </tr>\n",
       "    <tr>\n",
       "      <th>1788271</th>\n",
       "      <td>E</td>\n",
       "    </tr>\n",
       "    <tr>\n",
       "      <th>1790694</th>\n",
       "      <td>E</td>\n",
       "    </tr>\n",
       "    <tr>\n",
       "      <th>1796974</th>\n",
       "      <td>E</td>\n",
       "    </tr>\n",
       "    <tr>\n",
       "      <th>1842725</th>\n",
       "      <td>E</td>\n",
       "    </tr>\n",
       "  </tbody>\n",
       "</table>\n",
       "</div>"
      ],
      "text/plain": [
       "        C_BIRTHDATE\n",
       "1678888           E\n",
       "1774914           E\n",
       "1775104           E\n",
       "1788271           E\n",
       "1790694           E\n",
       "1796974           E\n",
       "1842725           E"
      ]
     },
     "metadata": {},
     "output_type": "display_data"
    }
   ],
   "source": [
    "print(f\"Invalid C_BIRTHDATE entries: {len(invalid_birthdates)}\")\n",
    "display(invalid_birthdates)"
   ]
  },
  {
   "cell_type": "code",
   "execution_count": 45,
   "id": "430f3a4d",
   "metadata": {},
   "outputs": [],
   "source": [
    "juvenile_cases[\"C_BIRTHDATE\"] = pd.to_datetime(\n",
    "    juvenile_cases[\"C_BIRTHDATE\"], format=\"%m/%Y\", errors=\"coerce\"\n",
    ")"
   ]
  },
  {
   "cell_type": "markdown",
   "id": "bb6e0720",
   "metadata": {},
   "source": [
    "#### Date Conversion Check\n",
    "\n",
    "Confirmed that all date columns were successfully converted to `datetime64[ns]` format."
   ]
  },
  {
   "cell_type": "code",
   "execution_count": 46,
   "id": "3930c1ea",
   "metadata": {},
   "outputs": [
    {
     "name": "stdout",
     "output_type": "stream",
     "text": [
      "LATEST_HEARING    datetime64[ns]\n",
      "DATE_OF_ENTRY     datetime64[ns]\n",
      "DATE_DETAINED     datetime64[ns]\n",
      "DATE_RELEASED     datetime64[ns]\n",
      "C_BIRTHDATE       datetime64[ns]\n",
      "dtype: object\n"
     ]
    }
   ],
   "source": [
    "date_cols = [\n",
    "    \"LATEST_HEARING\",\n",
    "    \"DATE_OF_ENTRY\",\n",
    "    \"DATE_DETAINED\",\n",
    "    \"DATE_RELEASED\",\n",
    "    \"C_BIRTHDATE\",\n",
    "]\n",
    "print(juvenile_cases[date_cols].dtypes)"
   ]
  },
  {
   "cell_type": "code",
   "execution_count": 47,
   "id": "2fd7dcbb",
   "metadata": {},
   "outputs": [
    {
     "name": "stdout",
     "output_type": "stream",
     "text": [
      "<class 'pandas.core.frame.DataFrame'>\n",
      "RangeIndex: 1858773 entries, 0 to 1858772\n",
      "Data columns (total 12 columns):\n",
      " #   Column           Dtype         \n",
      "---  ------           -----         \n",
      " 0   IDNCASE          Int64         \n",
      " 1   NAT              category      \n",
      " 2   LANG             category      \n",
      " 3   CUSTODY          category      \n",
      " 4   CASE_TYPE        category      \n",
      " 5   LATEST_HEARING   datetime64[ns]\n",
      " 6   LATEST_CAL_TYPE  category      \n",
      " 7   DATE_OF_ENTRY    datetime64[ns]\n",
      " 8   C_BIRTHDATE      datetime64[ns]\n",
      " 9   GENDER           category      \n",
      " 10  DATE_DETAINED    datetime64[ns]\n",
      " 11  DATE_RELEASED    datetime64[ns]\n",
      "dtypes: Int64(1), category(6), datetime64[ns](5)\n",
      "memory usage: 101.0 MB\n"
     ]
    }
   ],
   "source": [
    "juvenile_cases.info()"
   ]
  },
  {
   "cell_type": "code",
   "execution_count": 48,
   "id": "5d518a08",
   "metadata": {},
   "outputs": [
    {
     "data": {
      "text/html": [
       "<div>\n",
       "<style scoped>\n",
       "    .dataframe tbody tr th:only-of-type {\n",
       "        vertical-align: middle;\n",
       "    }\n",
       "\n",
       "    .dataframe tbody tr th {\n",
       "        vertical-align: top;\n",
       "    }\n",
       "\n",
       "    .dataframe thead th {\n",
       "        text-align: right;\n",
       "    }\n",
       "</style>\n",
       "<table border=\"1\" class=\"dataframe\">\n",
       "  <thead>\n",
       "    <tr style=\"text-align: right;\">\n",
       "      <th></th>\n",
       "      <th>IDNCASE</th>\n",
       "      <th>NAT</th>\n",
       "      <th>LANG</th>\n",
       "      <th>CUSTODY</th>\n",
       "      <th>CASE_TYPE</th>\n",
       "      <th>LATEST_HEARING</th>\n",
       "      <th>LATEST_CAL_TYPE</th>\n",
       "      <th>DATE_OF_ENTRY</th>\n",
       "      <th>C_BIRTHDATE</th>\n",
       "      <th>GENDER</th>\n",
       "      <th>DATE_DETAINED</th>\n",
       "      <th>DATE_RELEASED</th>\n",
       "    </tr>\n",
       "  </thead>\n",
       "  <tbody>\n",
       "    <tr>\n",
       "      <th>0</th>\n",
       "      <td>13758313</td>\n",
       "      <td>GT</td>\n",
       "      <td>SP</td>\n",
       "      <td>N</td>\n",
       "      <td>RMV</td>\n",
       "      <td>NaT</td>\n",
       "      <td>NaN</td>\n",
       "      <td>2024-01-21</td>\n",
       "      <td>2008-02-01</td>\n",
       "      <td>F</td>\n",
       "      <td>NaT</td>\n",
       "      <td>NaT</td>\n",
       "    </tr>\n",
       "    <tr>\n",
       "      <th>1</th>\n",
       "      <td>14870586</td>\n",
       "      <td>MX</td>\n",
       "      <td>SP</td>\n",
       "      <td>D</td>\n",
       "      <td>RFR</td>\n",
       "      <td>2025-02-04</td>\n",
       "      <td>I</td>\n",
       "      <td>NaT</td>\n",
       "      <td>NaT</td>\n",
       "      <td>NaN</td>\n",
       "      <td>2025-01-22</td>\n",
       "      <td>NaT</td>\n",
       "    </tr>\n",
       "    <tr>\n",
       "      <th>2</th>\n",
       "      <td>14870588</td>\n",
       "      <td>GT</td>\n",
       "      <td>SP</td>\n",
       "      <td>R</td>\n",
       "      <td>WHO</td>\n",
       "      <td>2025-07-31</td>\n",
       "      <td>M</td>\n",
       "      <td>NaT</td>\n",
       "      <td>1997-06-01</td>\n",
       "      <td>F</td>\n",
       "      <td>2025-01-29</td>\n",
       "      <td>2025-02-06</td>\n",
       "    </tr>\n",
       "    <tr>\n",
       "      <th>3</th>\n",
       "      <td>13816559</td>\n",
       "      <td>MX</td>\n",
       "      <td>SP</td>\n",
       "      <td>N</td>\n",
       "      <td>RMV</td>\n",
       "      <td>2027-02-18</td>\n",
       "      <td>I</td>\n",
       "      <td>NaT</td>\n",
       "      <td>2020-05-01</td>\n",
       "      <td>M</td>\n",
       "      <td>NaT</td>\n",
       "      <td>NaT</td>\n",
       "    </tr>\n",
       "    <tr>\n",
       "      <th>4</th>\n",
       "      <td>13816560</td>\n",
       "      <td>MX</td>\n",
       "      <td>SP</td>\n",
       "      <td>N</td>\n",
       "      <td>RMV</td>\n",
       "      <td>2027-02-18</td>\n",
       "      <td>I</td>\n",
       "      <td>NaT</td>\n",
       "      <td>2021-05-01</td>\n",
       "      <td>F</td>\n",
       "      <td>NaT</td>\n",
       "      <td>NaT</td>\n",
       "    </tr>\n",
       "  </tbody>\n",
       "</table>\n",
       "</div>"
      ],
      "text/plain": [
       "    IDNCASE NAT LANG CUSTODY  ... C_BIRTHDATE GENDER DATE_DETAINED DATE_RELEASED\n",
       "0  13758313  GT   SP       N  ...  2008-02-01      F           NaT           NaT\n",
       "1  14870586  MX   SP       D  ...         NaT    NaN    2025-01-22           NaT\n",
       "2  14870588  GT   SP       R  ...  1997-06-01      F    2025-01-29    2025-02-06\n",
       "3  13816559  MX   SP       N  ...  2020-05-01      M           NaT           NaT\n",
       "4  13816560  MX   SP       N  ...  2021-05-01      F           NaT           NaT\n",
       "\n",
       "[5 rows x 12 columns]"
      ]
     },
     "execution_count": 48,
     "metadata": {},
     "output_type": "execute_result"
    }
   ],
   "source": [
    "juvenile_cases.head()"
   ]
  },
  {
   "cell_type": "markdown",
   "id": "0ba76eeb",
   "metadata": {},
   "source": [
    "#### Categorical Value Cleanup\n",
    "\n",
    "Standardized and cleaned values in key categorical features (`NAT`, `LANG`, `CUSTODY`, `CASE_TYPE`, `LATEST_CAL_TYPE`, `GENDER`)  \n",
    "to ensure consistency and prevent issues caused by typos or rare variants.\n",
    "\n",
    "`NAT` and `LANG` contain a large number of unique values.  \n",
    "These were retained in full to preserve detail and will be grouped or simplified as needed during analysis."
   ]
  },
  {
   "cell_type": "code",
   "execution_count": 49,
   "id": "f230711a",
   "metadata": {},
   "outputs": [
    {
     "data": {
      "text/plain": [
       "CUSTODY\n",
       "N      1010878\n",
       "R       471998\n",
       "D       375884\n",
       "SP           8\n",
       "POR          1\n",
       "Name: count, dtype: int64"
      ]
     },
     "execution_count": 49,
     "metadata": {},
     "output_type": "execute_result"
    }
   ],
   "source": [
    "juvenile_cases[\"CUSTODY\"].value_counts()"
   ]
  },
  {
   "cell_type": "code",
   "execution_count": 50,
   "id": "3f0221e0",
   "metadata": {},
   "outputs": [
    {
     "data": {
      "text/plain": [
       "CASE_TYPE\n",
       "RMV    1721295\n",
       "CFR      88087\n",
       "RFR      21395\n",
       "WHO      21372\n",
       "AOC       4358\n",
       "DEP       1830\n",
       "REC        218\n",
       "EXC        153\n",
       "CSR         51\n",
       "0            5\n",
       "AOL          2\n",
       "NAC          2\n",
       "DCC          1\n",
       "Name: count, dtype: int64"
      ]
     },
     "execution_count": 50,
     "metadata": {},
     "output_type": "execute_result"
    }
   ],
   "source": [
    "juvenile_cases[\"CASE_TYPE\"].value_counts()"
   ]
  },
  {
   "cell_type": "code",
   "execution_count": 51,
   "id": "d9ed6b49",
   "metadata": {},
   "outputs": [
    {
     "data": {
      "text/plain": [
       "LATEST_CAL_TYPE\n",
       "M       1069154\n",
       "I        486049\n",
       "N            22\n",
       "0900          4\n",
       "1300          2\n",
       "R             2\n",
       "0830          1\n",
       "1030          1\n",
       "Name: count, dtype: int64"
      ]
     },
     "execution_count": 51,
     "metadata": {},
     "output_type": "execute_result"
    }
   ],
   "source": [
    "juvenile_cases[\"LATEST_CAL_TYPE\"].value_counts()"
   ]
  },
  {
   "cell_type": "markdown",
   "id": "acdd6319",
   "metadata": {},
   "source": [
    "Cleaned `LATEST_CAL_TYPE` by keeping known values (`M` = Master, `I` = Individual) and replacing unexpected entries (e.g., time strings or unknown codes) with `NaN`."
   ]
  },
  {
   "cell_type": "code",
   "execution_count": 52,
   "id": "93aa16b4",
   "metadata": {},
   "outputs": [],
   "source": [
    "valid_types = [\"M\", \"I\"]\n",
    "\n",
    "juvenile_cases[\"LATEST_CAL_TYPE\"] = (\n",
    "    juvenile_cases[\"LATEST_CAL_TYPE\"]\n",
    "    .apply(lambda x: x if x in valid_types else pd.NA)\n",
    "    .astype(\"category\")\n",
    ")\n",
    "\n",
    "juvenile_cases[\"LATEST_CAL_TYPE\"] = juvenile_cases[\n",
    "    \"LATEST_CAL_TYPE\"\n",
    "].cat.remove_unused_categories()"
   ]
  },
  {
   "cell_type": "code",
   "execution_count": 53,
   "id": "0de7129e",
   "metadata": {},
   "outputs": [
    {
     "data": {
      "text/plain": [
       "GENDER\n",
       "M    875507\n",
       "F    494724\n",
       "N         6\n",
       "U         1\n",
       "Name: count, dtype: int64"
      ]
     },
     "execution_count": 53,
     "metadata": {},
     "output_type": "execute_result"
    }
   ],
   "source": [
    "juvenile_cases[\"GENDER\"].value_counts()"
   ]
  },
  {
   "cell_type": "markdown",
   "id": "e000f733",
   "metadata": {},
   "source": [
    "Cleaned `GENDER` by keeping known values (`M` = Male, `F` = Female) and replaced rare or unclear codes (`N`, `U`) with `NaN` to ensure consistency and avoid ambiguity in gender-related analysis."
   ]
  },
  {
   "cell_type": "code",
   "execution_count": 54,
   "id": "7dd13367",
   "metadata": {},
   "outputs": [],
   "source": [
    "juvenile_cases[\"GENDER\"] = (\n",
    "    juvenile_cases[\"GENDER\"]\n",
    "    .apply(lambda x: x if x in [\"M\", \"F\"] else pd.NA)\n",
    "    .astype(\"category\")\n",
    ")\n",
    "\n",
    "juvenile_cases[\"GENDER\"] = juvenile_cases[\"GENDER\"].cat.remove_unused_categories()"
   ]
  },
  {
   "cell_type": "code",
   "execution_count": 55,
   "id": "29409321",
   "metadata": {},
   "outputs": [
    {
     "data": {
      "text/html": [
       "<div>\n",
       "<style scoped>\n",
       "    .dataframe tbody tr th:only-of-type {\n",
       "        vertical-align: middle;\n",
       "    }\n",
       "\n",
       "    .dataframe tbody tr th {\n",
       "        vertical-align: top;\n",
       "    }\n",
       "\n",
       "    .dataframe thead th {\n",
       "        text-align: right;\n",
       "    }\n",
       "</style>\n",
       "<table border=\"1\" class=\"dataframe\">\n",
       "  <thead>\n",
       "    <tr style=\"text-align: right;\">\n",
       "      <th></th>\n",
       "      <th>IDNCASE</th>\n",
       "      <th>NAT</th>\n",
       "      <th>LANG</th>\n",
       "      <th>CUSTODY</th>\n",
       "      <th>CASE_TYPE</th>\n",
       "      <th>LATEST_HEARING</th>\n",
       "      <th>LATEST_CAL_TYPE</th>\n",
       "      <th>DATE_OF_ENTRY</th>\n",
       "      <th>C_BIRTHDATE</th>\n",
       "      <th>GENDER</th>\n",
       "      <th>DATE_DETAINED</th>\n",
       "      <th>DATE_RELEASED</th>\n",
       "    </tr>\n",
       "  </thead>\n",
       "  <tbody>\n",
       "    <tr>\n",
       "      <th>0</th>\n",
       "      <td>13758313</td>\n",
       "      <td>GT</td>\n",
       "      <td>SP</td>\n",
       "      <td>N</td>\n",
       "      <td>RMV</td>\n",
       "      <td>NaT</td>\n",
       "      <td>NaN</td>\n",
       "      <td>2024-01-21</td>\n",
       "      <td>2008-02-01</td>\n",
       "      <td>F</td>\n",
       "      <td>NaT</td>\n",
       "      <td>NaT</td>\n",
       "    </tr>\n",
       "    <tr>\n",
       "      <th>1</th>\n",
       "      <td>14870586</td>\n",
       "      <td>MX</td>\n",
       "      <td>SP</td>\n",
       "      <td>D</td>\n",
       "      <td>RFR</td>\n",
       "      <td>2025-02-04</td>\n",
       "      <td>I</td>\n",
       "      <td>NaT</td>\n",
       "      <td>NaT</td>\n",
       "      <td>NaN</td>\n",
       "      <td>2025-01-22</td>\n",
       "      <td>NaT</td>\n",
       "    </tr>\n",
       "    <tr>\n",
       "      <th>2</th>\n",
       "      <td>14870588</td>\n",
       "      <td>GT</td>\n",
       "      <td>SP</td>\n",
       "      <td>R</td>\n",
       "      <td>WHO</td>\n",
       "      <td>2025-07-31</td>\n",
       "      <td>M</td>\n",
       "      <td>NaT</td>\n",
       "      <td>1997-06-01</td>\n",
       "      <td>F</td>\n",
       "      <td>2025-01-29</td>\n",
       "      <td>2025-02-06</td>\n",
       "    </tr>\n",
       "    <tr>\n",
       "      <th>3</th>\n",
       "      <td>13816559</td>\n",
       "      <td>MX</td>\n",
       "      <td>SP</td>\n",
       "      <td>N</td>\n",
       "      <td>RMV</td>\n",
       "      <td>2027-02-18</td>\n",
       "      <td>I</td>\n",
       "      <td>NaT</td>\n",
       "      <td>2020-05-01</td>\n",
       "      <td>M</td>\n",
       "      <td>NaT</td>\n",
       "      <td>NaT</td>\n",
       "    </tr>\n",
       "    <tr>\n",
       "      <th>4</th>\n",
       "      <td>13816560</td>\n",
       "      <td>MX</td>\n",
       "      <td>SP</td>\n",
       "      <td>N</td>\n",
       "      <td>RMV</td>\n",
       "      <td>2027-02-18</td>\n",
       "      <td>I</td>\n",
       "      <td>NaT</td>\n",
       "      <td>2021-05-01</td>\n",
       "      <td>F</td>\n",
       "      <td>NaT</td>\n",
       "      <td>NaT</td>\n",
       "    </tr>\n",
       "  </tbody>\n",
       "</table>\n",
       "</div>"
      ],
      "text/plain": [
       "    IDNCASE NAT LANG CUSTODY  ... C_BIRTHDATE GENDER DATE_DETAINED DATE_RELEASED\n",
       "0  13758313  GT   SP       N  ...  2008-02-01      F           NaT           NaT\n",
       "1  14870586  MX   SP       D  ...         NaT    NaN    2025-01-22           NaT\n",
       "2  14870588  GT   SP       R  ...  1997-06-01      F    2025-01-29    2025-02-06\n",
       "3  13816559  MX   SP       N  ...  2020-05-01      M           NaT           NaT\n",
       "4  13816560  MX   SP       N  ...  2021-05-01      F           NaT           NaT\n",
       "\n",
       "[5 rows x 12 columns]"
      ]
     },
     "execution_count": 55,
     "metadata": {},
     "output_type": "execute_result"
    }
   ],
   "source": [
    "juvenile_cases.head()"
   ]
  },
  {
   "cell_type": "code",
   "execution_count": 56,
   "id": "5fa5868b",
   "metadata": {},
   "outputs": [],
   "source": [
    "juvenile_cases.to_csv(\n",
    "    \"../outputs/juvenile_cases_cleaned.csv.gz\", index=False, compression=\"gzip\"\n",
    ")"
   ]
  },
  {
   "cell_type": "markdown",
   "id": "e8ba56c7",
   "metadata": {},
   "source": [
    "### Cleaned `tbl_Case`\n",
    "\n",
    "- Filtered to ~1.86M juvenile-related cases based on `IDNCASE`.\n",
    "- Reset index after filtering.\n",
    "- Removed unused categories from categorical columns.\n",
    "- Converted date fields to `datetime64[ns]`:\n",
    "  - `LATEST_HEARING`\n",
    "  - `DATE_OF_ENTRY`\n",
    "  - `C_BIRTHDATE` (parsed from `MM/YYYY` format)\n",
    "  - `DATE_DETAINED`\n",
    "  - `DATE_RELEASED`\n",
    "- Cleaned categorical features:\n",
    "  - `LATEST_CAL_TYPE`: kept only `M` (Master) and `I` (Individual); others set to `NaN`\n",
    "  - `GENDER`: kept only `M` and `F`; others set to `NaN`\n",
    "\n",
    "Saved cleaned file as:  \n",
    "`cases_juvenile_cleaned.csv.gz`"
   ]
  },
  {
   "cell_type": "markdown",
   "id": "b0355e40",
   "metadata": {},
   "source": [
    "## 3. Clean B_TblProceeding"
   ]
  },
  {
   "cell_type": "markdown",
   "id": "d245b1c5",
   "metadata": {},
   "source": [
    "### Initial Data Inspection"
   ]
  },
  {
   "cell_type": "markdown",
   "id": "812913ae",
   "metadata": {},
   "source": [
    "\n",
    "The dataset contains approximately 12 million rows. To avoid memory issues and reduce unnecessary processing, only the first 1000 rows will be inspected initially:\n",
    "\n",
    "- Get an overview of the data types (`dtypes`)\n",
    "- Identify columns/features worth keeping for the EDA\n",
    "- Skip any columns that appear to be irrelevant or redundant\n",
    "\n",
    "This initial check will help streamline the analysis and focus only on useful information."
   ]
  },
  {
   "cell_type": "code",
   "execution_count": 57,
   "id": "11ef247f",
   "metadata": {},
   "outputs": [],
   "source": [
    "proceedings_path = \"B_TblProceeding.csv\"\n",
    "proceedings = pd.read_csv(\n",
    "    filepath_or_buffer=proceedings_path, delimiter=\"\\t\", nrows=1000\n",
    ")"
   ]
  },
  {
   "cell_type": "code",
   "execution_count": 58,
   "id": "988f935c",
   "metadata": {},
   "outputs": [
    {
     "data": {
      "text/html": [
       "<div>\n",
       "<style scoped>\n",
       "    .dataframe tbody tr th:only-of-type {\n",
       "        vertical-align: middle;\n",
       "    }\n",
       "\n",
       "    .dataframe tbody tr th {\n",
       "        vertical-align: top;\n",
       "    }\n",
       "\n",
       "    .dataframe thead th {\n",
       "        text-align: right;\n",
       "    }\n",
       "</style>\n",
       "<table border=\"1\" class=\"dataframe\">\n",
       "  <thead>\n",
       "    <tr style=\"text-align: right;\">\n",
       "      <th></th>\n",
       "      <th>IDNPROCEEDING</th>\n",
       "      <th>IDNCASE</th>\n",
       "      <th>OSC_DATE</th>\n",
       "      <th>INPUT_DATE</th>\n",
       "      <th>BASE_CITY_CODE</th>\n",
       "      <th>HEARING_LOC_CODE</th>\n",
       "      <th>IJ_CODE</th>\n",
       "      <th>TRANS_IN_DATE</th>\n",
       "      <th>PREV_HEARING_LOC</th>\n",
       "      <th>PREV_HEARING_BASE</th>\n",
       "      <th>PREV_IJ_CODE</th>\n",
       "      <th>TRANS_NBR</th>\n",
       "      <th>HEARING_DATE</th>\n",
       "      <th>HEARING_TIME</th>\n",
       "      <th>DEC_TYPE</th>\n",
       "      <th>DEC_CODE</th>\n",
       "      <th>DEPORTED_1</th>\n",
       "      <th>DEPORTED_2</th>\n",
       "      <th>OTHER_COMP</th>\n",
       "      <th>APPEAL_RSVD</th>\n",
       "      <th>APPEAL_NOT_FILED</th>\n",
       "      <th>COMP_DATE</th>\n",
       "      <th>ABSENTIA</th>\n",
       "      <th>VENUE_CHG_GRANTED</th>\n",
       "      <th>TRANSFER_TO</th>\n",
       "      <th>DATE_APPEAL_DUE_STATUS</th>\n",
       "      <th>TRANSFER_STATUS</th>\n",
       "      <th>CUSTODY</th>\n",
       "      <th>CASE_TYPE</th>\n",
       "      <th>NAT</th>\n",
       "      <th>LANG</th>\n",
       "      <th>SCHEDULED_HEAR_LOC</th>\n",
       "      <th>CORRECTIONAL_FAC</th>\n",
       "      <th>CRIM_IND</th>\n",
       "      <th>IHP</th>\n",
       "      <th>AGGRAVATE_FELON</th>\n",
       "      <th>DATE_DETAINED</th>\n",
       "      <th>DATE_RELEASED</th>\n",
       "    </tr>\n",
       "  </thead>\n",
       "  <tbody>\n",
       "    <tr>\n",
       "      <th>0</th>\n",
       "      <td>1895123</td>\n",
       "      <td>3562707</td>\n",
       "      <td>1996-03-11 00:00:00.000</td>\n",
       "      <td>1996-05-08 00:00:00.000</td>\n",
       "      <td>DET</td>\n",
       "      <td>DET</td>\n",
       "      <td>MKS</td>\n",
       "      <td>NaN</td>\n",
       "      <td></td>\n",
       "      <td></td>\n",
       "      <td></td>\n",
       "      <td>0.0</td>\n",
       "      <td>1997-01-16 00:00:00.000</td>\n",
       "      <td>100.0</td>\n",
       "      <td>W</td>\n",
       "      <td>D</td>\n",
       "      <td>HO</td>\n",
       "      <td></td>\n",
       "      <td></td>\n",
       "      <td></td>\n",
       "      <td></td>\n",
       "      <td>1997-01-16 00:00:00.000</td>\n",
       "      <td>Y</td>\n",
       "      <td>NaN</td>\n",
       "      <td></td>\n",
       "      <td>1997-02-18 00:00:00.000</td>\n",
       "      <td></td>\n",
       "      <td>N</td>\n",
       "      <td>DEP</td>\n",
       "      <td>HO</td>\n",
       "      <td>SP</td>\n",
       "      <td>DET</td>\n",
       "      <td></td>\n",
       "      <td>N</td>\n",
       "      <td></td>\n",
       "      <td>NaN</td>\n",
       "      <td>NaN</td>\n",
       "      <td>NaN</td>\n",
       "    </tr>\n",
       "    <tr>\n",
       "      <th>1</th>\n",
       "      <td>1895124</td>\n",
       "      <td>3562708</td>\n",
       "      <td>1996-03-13 00:00:00.000</td>\n",
       "      <td>1996-05-08 00:00:00.000</td>\n",
       "      <td>DET</td>\n",
       "      <td>DET</td>\n",
       "      <td>MKS</td>\n",
       "      <td>NaN</td>\n",
       "      <td></td>\n",
       "      <td></td>\n",
       "      <td></td>\n",
       "      <td>0.0</td>\n",
       "      <td>1997-01-16 00:00:00.000</td>\n",
       "      <td>100.0</td>\n",
       "      <td>W</td>\n",
       "      <td>D</td>\n",
       "      <td>ES</td>\n",
       "      <td></td>\n",
       "      <td></td>\n",
       "      <td></td>\n",
       "      <td></td>\n",
       "      <td>1997-01-16 00:00:00.000</td>\n",
       "      <td>Y</td>\n",
       "      <td>NaN</td>\n",
       "      <td></td>\n",
       "      <td>1997-02-18 00:00:00.000</td>\n",
       "      <td></td>\n",
       "      <td>N</td>\n",
       "      <td>DEP</td>\n",
       "      <td>ES</td>\n",
       "      <td>SP</td>\n",
       "      <td>DET</td>\n",
       "      <td></td>\n",
       "      <td>N</td>\n",
       "      <td></td>\n",
       "      <td>NaN</td>\n",
       "      <td>NaN</td>\n",
       "      <td>NaN</td>\n",
       "    </tr>\n",
       "    <tr>\n",
       "      <th>2</th>\n",
       "      <td>1895125</td>\n",
       "      <td>3562709</td>\n",
       "      <td>1996-03-13 00:00:00.000</td>\n",
       "      <td>1996-05-02 00:00:00.000</td>\n",
       "      <td>OAK</td>\n",
       "      <td>ADC</td>\n",
       "      <td>CAW</td>\n",
       "      <td>NaN</td>\n",
       "      <td></td>\n",
       "      <td></td>\n",
       "      <td></td>\n",
       "      <td>0.0</td>\n",
       "      <td>1996-05-09 00:00:00.000</td>\n",
       "      <td>100.0</td>\n",
       "      <td>7</td>\n",
       "      <td>D</td>\n",
       "      <td>GT</td>\n",
       "      <td></td>\n",
       "      <td></td>\n",
       "      <td></td>\n",
       "      <td></td>\n",
       "      <td>1996-05-09 00:00:00.000</td>\n",
       "      <td>N</td>\n",
       "      <td>NaN</td>\n",
       "      <td></td>\n",
       "      <td>NaN</td>\n",
       "      <td></td>\n",
       "      <td>D</td>\n",
       "      <td>DEP</td>\n",
       "      <td>GT</td>\n",
       "      <td>SP</td>\n",
       "      <td>ADC</td>\n",
       "      <td></td>\n",
       "      <td>Y</td>\n",
       "      <td></td>\n",
       "      <td>NaN</td>\n",
       "      <td>NaN</td>\n",
       "      <td>NaN</td>\n",
       "    </tr>\n",
       "    <tr>\n",
       "      <th>3</th>\n",
       "      <td>1895126</td>\n",
       "      <td>3562710</td>\n",
       "      <td>1997-02-10 00:00:00.000</td>\n",
       "      <td>1997-03-24 00:00:00.000</td>\n",
       "      <td>DET</td>\n",
       "      <td>DET</td>\n",
       "      <td>JFW</td>\n",
       "      <td>NaN</td>\n",
       "      <td></td>\n",
       "      <td></td>\n",
       "      <td></td>\n",
       "      <td>0.0</td>\n",
       "      <td>1997-06-17 00:00:00.000</td>\n",
       "      <td>900.0</td>\n",
       "      <td>O</td>\n",
       "      <td>D</td>\n",
       "      <td>MX</td>\n",
       "      <td></td>\n",
       "      <td></td>\n",
       "      <td></td>\n",
       "      <td></td>\n",
       "      <td>1997-06-17 00:00:00.000</td>\n",
       "      <td>Y</td>\n",
       "      <td>NaN</td>\n",
       "      <td></td>\n",
       "      <td>1997-07-17 00:00:00.000</td>\n",
       "      <td></td>\n",
       "      <td>N</td>\n",
       "      <td>DEP</td>\n",
       "      <td>MX</td>\n",
       "      <td>SP</td>\n",
       "      <td>DET</td>\n",
       "      <td></td>\n",
       "      <td>N</td>\n",
       "      <td></td>\n",
       "      <td>NaN</td>\n",
       "      <td>NaN</td>\n",
       "      <td>NaN</td>\n",
       "    </tr>\n",
       "    <tr>\n",
       "      <th>4</th>\n",
       "      <td>1895127</td>\n",
       "      <td>3562711</td>\n",
       "      <td>1996-03-18 00:00:00.000</td>\n",
       "      <td>1996-05-09 00:00:00.000</td>\n",
       "      <td>OAK</td>\n",
       "      <td>ADC</td>\n",
       "      <td>JAD</td>\n",
       "      <td>NaN</td>\n",
       "      <td></td>\n",
       "      <td></td>\n",
       "      <td></td>\n",
       "      <td>0.0</td>\n",
       "      <td>1996-05-13 00:00:00.000</td>\n",
       "      <td>1000.0</td>\n",
       "      <td>7</td>\n",
       "      <td>D</td>\n",
       "      <td>MX</td>\n",
       "      <td></td>\n",
       "      <td></td>\n",
       "      <td></td>\n",
       "      <td></td>\n",
       "      <td>1996-05-13 00:00:00.000</td>\n",
       "      <td>N</td>\n",
       "      <td>NaN</td>\n",
       "      <td></td>\n",
       "      <td>NaN</td>\n",
       "      <td></td>\n",
       "      <td>D</td>\n",
       "      <td>DEP</td>\n",
       "      <td>MX</td>\n",
       "      <td>SP</td>\n",
       "      <td>ADC</td>\n",
       "      <td></td>\n",
       "      <td>Y</td>\n",
       "      <td></td>\n",
       "      <td>NaN</td>\n",
       "      <td>NaN</td>\n",
       "      <td>NaN</td>\n",
       "    </tr>\n",
       "  </tbody>\n",
       "</table>\n",
       "</div>"
      ],
      "text/plain": [
       "   IDNPROCEEDING  IDNCASE  ... DATE_DETAINED DATE_RELEASED\n",
       "0        1895123  3562707  ...           NaN           NaN\n",
       "1        1895124  3562708  ...           NaN           NaN\n",
       "2        1895125  3562709  ...           NaN           NaN\n",
       "3        1895126  3562710  ...           NaN           NaN\n",
       "4        1895127  3562711  ...           NaN           NaN\n",
       "\n",
       "[5 rows x 38 columns]"
      ]
     },
     "execution_count": 58,
     "metadata": {},
     "output_type": "execute_result"
    }
   ],
   "source": [
    "proceedings.head()"
   ]
  },
  {
   "cell_type": "code",
   "execution_count": 59,
   "id": "4d38dea6",
   "metadata": {},
   "outputs": [
    {
     "name": "stdout",
     "output_type": "stream",
     "text": [
      "<class 'pandas.core.frame.DataFrame'>\n",
      "RangeIndex: 1000 entries, 0 to 999\n",
      "Data columns (total 38 columns):\n",
      " #   Column                  Non-Null Count  Dtype  \n",
      "---  ------                  --------------  -----  \n",
      " 0   IDNPROCEEDING           1000 non-null   int64  \n",
      " 1   IDNCASE                 1000 non-null   int64  \n",
      " 2   OSC_DATE                988 non-null    object \n",
      " 3   INPUT_DATE              986 non-null    object \n",
      " 4   BASE_CITY_CODE          1000 non-null   object \n",
      " 5   HEARING_LOC_CODE        1000 non-null   object \n",
      " 6   IJ_CODE                 981 non-null    object \n",
      " 7   TRANS_IN_DATE           152 non-null    object \n",
      " 8   PREV_HEARING_LOC        326 non-null    object \n",
      " 9   PREV_HEARING_BASE       326 non-null    object \n",
      " 10  PREV_IJ_CODE            321 non-null    object \n",
      " 11  TRANS_NBR               358 non-null    float64\n",
      " 12  HEARING_DATE            954 non-null    object \n",
      " 13  HEARING_TIME            954 non-null    float64\n",
      " 14  DEC_TYPE                826 non-null    object \n",
      " 15  DEC_CODE                717 non-null    object \n",
      " 16  DEPORTED_1              488 non-null    object \n",
      " 17  DEPORTED_2              194 non-null    object \n",
      " 18  OTHER_COMP              388 non-null    object \n",
      " 19  APPEAL_RSVD             269 non-null    object \n",
      " 20  APPEAL_NOT_FILED        209 non-null    object \n",
      " 21  COMP_DATE               922 non-null    object \n",
      " 22  ABSENTIA                906 non-null    object \n",
      " 23  VENUE_CHG_GRANTED       162 non-null    object \n",
      " 24  TRANSFER_TO             335 non-null    object \n",
      " 25  DATE_APPEAL_DUE_STATUS  870 non-null    object \n",
      " 26  TRANSFER_STATUS         442 non-null    object \n",
      " 27  CUSTODY                 1000 non-null   object \n",
      " 28  CASE_TYPE               1000 non-null   object \n",
      " 29  NAT                     983 non-null    object \n",
      " 30  LANG                    995 non-null    object \n",
      " 31  SCHEDULED_HEAR_LOC      282 non-null    object \n",
      " 32  CORRECTIONAL_FAC        196 non-null    object \n",
      " 33  CRIM_IND                973 non-null    object \n",
      " 34  IHP                     196 non-null    object \n",
      " 35  AGGRAVATE_FELON         789 non-null    float64\n",
      " 36  DATE_DETAINED           271 non-null    object \n",
      " 37  DATE_RELEASED           124 non-null    object \n",
      "dtypes: float64(3), int64(2), object(33)\n",
      "memory usage: 297.0+ KB\n"
     ]
    }
   ],
   "source": [
    "proceedings.info()"
   ]
  },
  {
   "cell_type": "code",
   "execution_count": 60,
   "id": "bd25b6a2",
   "metadata": {},
   "outputs": [
    {
     "data": {
      "text/plain": [
       "Index(['IDNPROCEEDING', 'IDNCASE', 'OSC_DATE', 'INPUT_DATE', 'BASE_CITY_CODE',\n",
       "       'HEARING_LOC_CODE', 'IJ_CODE', 'TRANS_IN_DATE', 'PREV_HEARING_LOC',\n",
       "       'PREV_HEARING_BASE', 'PREV_IJ_CODE', 'TRANS_NBR', 'HEARING_DATE',\n",
       "       'HEARING_TIME', 'DEC_TYPE', 'DEC_CODE', 'DEPORTED_1', 'DEPORTED_2',\n",
       "       'OTHER_COMP', 'APPEAL_RSVD', 'APPEAL_NOT_FILED', 'COMP_DATE',\n",
       "       'ABSENTIA', 'VENUE_CHG_GRANTED', 'TRANSFER_TO',\n",
       "       'DATE_APPEAL_DUE_STATUS', 'TRANSFER_STATUS', 'CUSTODY', 'CASE_TYPE',\n",
       "       'NAT', 'LANG', 'SCHEDULED_HEAR_LOC', 'CORRECTIONAL_FAC', 'CRIM_IND',\n",
       "       'IHP', 'AGGRAVATE_FELON', 'DATE_DETAINED', 'DATE_RELEASED'],\n",
       "      dtype='object')"
      ]
     },
     "execution_count": 60,
     "metadata": {},
     "output_type": "execute_result"
    }
   ],
   "source": [
    "proceedings.columns"
   ]
  },
  {
   "cell_type": "markdown",
   "id": "0dfd7be9",
   "metadata": {},
   "source": [
    "### Selected Features for EDA – `B_TblProceeding`\n",
    "\n",
    "The selected columns below are core proceeding-level features relevant to analyzing juvenile immigration cases. They were chosen based on the source dataset documentation and their importance for understanding case timelines, decisions, and access to justice.\n",
    "\n",
    "These fields include:\n",
    "\n",
    "- **Case timeline**: `OSC_DATE`, `COMP_DATE`, `INPUT_DATE`\n",
    "- **Case outcomes**: `DEC_CODE`, `ABSENTIA`, `CRIM_IND`\n",
    "- **Demographics & access**: `NAT`, `LANG`, `CUSTODY`, `CASE_TYPE`\n",
    "- **Court geography**: `BASE_CITY_CODE`, `HEARING_LOC_CODE`\n",
    "\n",
    "These variables allow us to track the duration of proceedings, categorize outcomes, and evaluate regional disparities and vulnerability factors."
   ]
  },
  {
   "cell_type": "code",
   "execution_count": 61,
   "id": "a08266bb",
   "metadata": {},
   "outputs": [],
   "source": [
    "selected_columns = [\n",
    "    \"IDNPROCEEDING\",\n",
    "    \"IDNCASE\",\n",
    "    \"OSC_DATE\",\n",
    "    \"INPUT_DATE\",\n",
    "    \"COMP_DATE\",\n",
    "    \"BASE_CITY_CODE\",\n",
    "    \"HEARING_LOC_CODE\",\n",
    "    \"DEC_CODE\",\n",
    "    \"ABSENTIA\",\n",
    "    \"CRIM_IND\",\n",
    "    \"NAT\",\n",
    "    \"LANG\",\n",
    "    \"CASE_TYPE\",\n",
    "    \"CUSTODY\",\n",
    "    \"DATE_DETAINED\",\n",
    "    \"DATE_RELEASED\",\n",
    "]"
   ]
  },
  {
   "cell_type": "code",
   "execution_count": 62,
   "id": "642648e1",
   "metadata": {},
   "outputs": [],
   "source": [
    "proceedings = proceedings[selected_columns]"
   ]
  },
  {
   "cell_type": "code",
   "execution_count": 63,
   "id": "4c561305",
   "metadata": {},
   "outputs": [
    {
     "data": {
      "text/html": [
       "<div>\n",
       "<style scoped>\n",
       "    .dataframe tbody tr th:only-of-type {\n",
       "        vertical-align: middle;\n",
       "    }\n",
       "\n",
       "    .dataframe tbody tr th {\n",
       "        vertical-align: top;\n",
       "    }\n",
       "\n",
       "    .dataframe thead th {\n",
       "        text-align: right;\n",
       "    }\n",
       "</style>\n",
       "<table border=\"1\" class=\"dataframe\">\n",
       "  <thead>\n",
       "    <tr style=\"text-align: right;\">\n",
       "      <th></th>\n",
       "      <th>IDNPROCEEDING</th>\n",
       "      <th>IDNCASE</th>\n",
       "      <th>OSC_DATE</th>\n",
       "      <th>INPUT_DATE</th>\n",
       "      <th>COMP_DATE</th>\n",
       "      <th>BASE_CITY_CODE</th>\n",
       "      <th>HEARING_LOC_CODE</th>\n",
       "      <th>DEC_CODE</th>\n",
       "      <th>ABSENTIA</th>\n",
       "      <th>CRIM_IND</th>\n",
       "      <th>NAT</th>\n",
       "      <th>LANG</th>\n",
       "      <th>CASE_TYPE</th>\n",
       "      <th>CUSTODY</th>\n",
       "      <th>DATE_DETAINED</th>\n",
       "      <th>DATE_RELEASED</th>\n",
       "    </tr>\n",
       "  </thead>\n",
       "  <tbody>\n",
       "    <tr>\n",
       "      <th>0</th>\n",
       "      <td>1895123</td>\n",
       "      <td>3562707</td>\n",
       "      <td>1996-03-11 00:00:00.000</td>\n",
       "      <td>1996-05-08 00:00:00.000</td>\n",
       "      <td>1997-01-16 00:00:00.000</td>\n",
       "      <td>DET</td>\n",
       "      <td>DET</td>\n",
       "      <td>D</td>\n",
       "      <td>Y</td>\n",
       "      <td>N</td>\n",
       "      <td>HO</td>\n",
       "      <td>SP</td>\n",
       "      <td>DEP</td>\n",
       "      <td>N</td>\n",
       "      <td>NaN</td>\n",
       "      <td>NaN</td>\n",
       "    </tr>\n",
       "    <tr>\n",
       "      <th>1</th>\n",
       "      <td>1895124</td>\n",
       "      <td>3562708</td>\n",
       "      <td>1996-03-13 00:00:00.000</td>\n",
       "      <td>1996-05-08 00:00:00.000</td>\n",
       "      <td>1997-01-16 00:00:00.000</td>\n",
       "      <td>DET</td>\n",
       "      <td>DET</td>\n",
       "      <td>D</td>\n",
       "      <td>Y</td>\n",
       "      <td>N</td>\n",
       "      <td>ES</td>\n",
       "      <td>SP</td>\n",
       "      <td>DEP</td>\n",
       "      <td>N</td>\n",
       "      <td>NaN</td>\n",
       "      <td>NaN</td>\n",
       "    </tr>\n",
       "    <tr>\n",
       "      <th>2</th>\n",
       "      <td>1895125</td>\n",
       "      <td>3562709</td>\n",
       "      <td>1996-03-13 00:00:00.000</td>\n",
       "      <td>1996-05-02 00:00:00.000</td>\n",
       "      <td>1996-05-09 00:00:00.000</td>\n",
       "      <td>OAK</td>\n",
       "      <td>ADC</td>\n",
       "      <td>D</td>\n",
       "      <td>N</td>\n",
       "      <td>Y</td>\n",
       "      <td>GT</td>\n",
       "      <td>SP</td>\n",
       "      <td>DEP</td>\n",
       "      <td>D</td>\n",
       "      <td>NaN</td>\n",
       "      <td>NaN</td>\n",
       "    </tr>\n",
       "    <tr>\n",
       "      <th>3</th>\n",
       "      <td>1895126</td>\n",
       "      <td>3562710</td>\n",
       "      <td>1997-02-10 00:00:00.000</td>\n",
       "      <td>1997-03-24 00:00:00.000</td>\n",
       "      <td>1997-06-17 00:00:00.000</td>\n",
       "      <td>DET</td>\n",
       "      <td>DET</td>\n",
       "      <td>D</td>\n",
       "      <td>Y</td>\n",
       "      <td>N</td>\n",
       "      <td>MX</td>\n",
       "      <td>SP</td>\n",
       "      <td>DEP</td>\n",
       "      <td>N</td>\n",
       "      <td>NaN</td>\n",
       "      <td>NaN</td>\n",
       "    </tr>\n",
       "    <tr>\n",
       "      <th>4</th>\n",
       "      <td>1895127</td>\n",
       "      <td>3562711</td>\n",
       "      <td>1996-03-18 00:00:00.000</td>\n",
       "      <td>1996-05-09 00:00:00.000</td>\n",
       "      <td>1996-05-13 00:00:00.000</td>\n",
       "      <td>OAK</td>\n",
       "      <td>ADC</td>\n",
       "      <td>D</td>\n",
       "      <td>N</td>\n",
       "      <td>Y</td>\n",
       "      <td>MX</td>\n",
       "      <td>SP</td>\n",
       "      <td>DEP</td>\n",
       "      <td>D</td>\n",
       "      <td>NaN</td>\n",
       "      <td>NaN</td>\n",
       "    </tr>\n",
       "  </tbody>\n",
       "</table>\n",
       "</div>"
      ],
      "text/plain": [
       "   IDNPROCEEDING  IDNCASE  ... DATE_DETAINED DATE_RELEASED\n",
       "0        1895123  3562707  ...           NaN           NaN\n",
       "1        1895124  3562708  ...           NaN           NaN\n",
       "2        1895125  3562709  ...           NaN           NaN\n",
       "3        1895126  3562710  ...           NaN           NaN\n",
       "4        1895127  3562711  ...           NaN           NaN\n",
       "\n",
       "[5 rows x 16 columns]"
      ]
     },
     "execution_count": 63,
     "metadata": {},
     "output_type": "execute_result"
    }
   ],
   "source": [
    "proceedings.head()"
   ]
  },
  {
   "cell_type": "code",
   "execution_count": 64,
   "id": "e0e2af86",
   "metadata": {},
   "outputs": [
    {
     "name": "stdout",
     "output_type": "stream",
     "text": [
      "<class 'pandas.core.frame.DataFrame'>\n",
      "RangeIndex: 1000 entries, 0 to 999\n",
      "Data columns (total 16 columns):\n",
      " #   Column            Non-Null Count  Dtype \n",
      "---  ------            --------------  ----- \n",
      " 0   IDNPROCEEDING     1000 non-null   int64 \n",
      " 1   IDNCASE           1000 non-null   int64 \n",
      " 2   OSC_DATE          988 non-null    object\n",
      " 3   INPUT_DATE        986 non-null    object\n",
      " 4   COMP_DATE         922 non-null    object\n",
      " 5   BASE_CITY_CODE    1000 non-null   object\n",
      " 6   HEARING_LOC_CODE  1000 non-null   object\n",
      " 7   DEC_CODE          717 non-null    object\n",
      " 8   ABSENTIA          906 non-null    object\n",
      " 9   CRIM_IND          973 non-null    object\n",
      " 10  NAT               983 non-null    object\n",
      " 11  LANG              995 non-null    object\n",
      " 12  CASE_TYPE         1000 non-null   object\n",
      " 13  CUSTODY           1000 non-null   object\n",
      " 14  DATE_DETAINED     271 non-null    object\n",
      " 15  DATE_RELEASED     124 non-null    object\n",
      "dtypes: int64(2), object(14)\n",
      "memory usage: 125.1+ KB\n"
     ]
    }
   ],
   "source": [
    "proceedings.info()"
   ]
  },
  {
   "cell_type": "code",
   "execution_count": 65,
   "id": "25048e9e",
   "metadata": {},
   "outputs": [
    {
     "data": {
      "text/plain": [
       "IDNPROCEEDING        int64\n",
       "IDNCASE              int64\n",
       "OSC_DATE            object\n",
       "INPUT_DATE          object\n",
       "COMP_DATE           object\n",
       "BASE_CITY_CODE      object\n",
       "HEARING_LOC_CODE    object\n",
       "DEC_CODE            object\n",
       "ABSENTIA            object\n",
       "CRIM_IND            object\n",
       "NAT                 object\n",
       "LANG                object\n",
       "CASE_TYPE           object\n",
       "CUSTODY             object\n",
       "DATE_DETAINED       object\n",
       "DATE_RELEASED       object\n",
       "dtype: object"
      ]
     },
     "execution_count": 65,
     "metadata": {},
     "output_type": "execute_result"
    }
   ],
   "source": [
    "proceedings.dtypes"
   ]
  },
  {
   "cell_type": "markdown",
   "id": "c31e1a2d",
   "metadata": {},
   "source": [
    "#### Specifying Column Data Types\n",
    "\n",
    "- `Int64`: Used for `IDNPROCEEDING`, `IDNCASE` to support nullable integer IDs.  \n",
    "- `category`: Applied to repeated string fields for memory efficiency:\n",
    "  `BASE_CITY_CODE`, `HEARING_LOC_CODE`, `DEC_CODE`, `ABSENTIA`, `CRIM_IND`,\n",
    "  `NAT`, `LANG`, `CASE_TYPE`, `CUSTODY`.  \n",
    "- `object`: Used for date fields (`OSC_DATE`, `INPUT_DATE`, `COMP_DATE`,\n",
    "  `DATE_DETAINED`, `DATE_RELEASED`) to preserve original formats before validation\n",
    "  and conversion to `datetime`."
   ]
  },
  {
   "cell_type": "code",
   "execution_count": 66,
   "id": "323ec7cd",
   "metadata": {},
   "outputs": [],
   "source": [
    "dtypes = {\n",
    "    \"IDNPROCEEDING\": \"Int64\",\n",
    "    \"IDNCASE\": \"Int64\",\n",
    "    \"OSC_DATE\": \"object\",\n",
    "    \"INPUT_DATE\": \"object\",\n",
    "    \"COMP_DATE\": \"object\",\n",
    "    \"BASE_CITY_CODE\": \"category\",\n",
    "    \"HEARING_LOC_CODE\": \"category\",\n",
    "    \"DEC_CODE\": \"category\",\n",
    "    \"ABSENTIA\": \"category\",\n",
    "    \"CRIM_IND\": \"category\",\n",
    "    \"NAT\": \"category\",\n",
    "    \"LANG\": \"category\",\n",
    "    \"CASE_TYPE\": \"category\",\n",
    "    \"CUSTODY\": \"category\",\n",
    "    \"DATE_DETAINED\": \"object\",\n",
    "    \"DATE_RELEASED\": \"object\",\n",
    "}"
   ]
  },
  {
   "cell_type": "markdown",
   "id": "0643aaae",
   "metadata": {},
   "source": [
    "### Skipping Malformed Rows\n",
    "\n",
    "Some lines in the dataset have an incorrect number of tab-separated fields, which can cause parsing errors during loading.  \n",
    "The script first determines the expected number of columns from the header, then identifies and skips any rows that don't match.  \n",
    "This approach ensures only properly structured records are read without triggering errors or discarding valid data."
   ]
  },
  {
   "cell_type": "code",
   "execution_count": 97,
   "id": "c6e63e8d",
   "metadata": {},
   "outputs": [
    {
     "name": "stdout",
     "output_type": "stream",
     "text": [
      "Rows to skip: [117890, 563337, 563338, 722315, 794097, 938519, 1366545, 1373710, 1395626, 1511267, 1562922, 1649431, 2050527, 2170523, 2170524, 2838351, 2855408, 2859489, 2904629, 2904634, 3063925, 3103156, 3123548, 3126517, 3357244, 3357245, 3515658, 3574849, 3892279, 4044809, 4222977, 4222978, 4313871, 4407579, 4407580, 4470517, 4530822, 4596683, 4596684, 4650381, 4650382, 4849910, 5135396, 5351734, 5360366, 5529260, 5590946, 5764513, 5841776, 5855546, 5860447, 6191226, 6191227, 6426355, 6437813, 6791634, 6791635, 6973432, 7595760, 7595761, 7975619, 7975620, 8188518, 8188519, 8274309, 8392830, 8674736, 8736603, 8818448, 8830778, 8835154, 8901758, 9026644, 10005142, 10098223, 10209459, 10382229, 10396299, 10536022, 10663477, 10913832, 11001843, 11001844, 11057429, 11433037, 11433038, 11538809, 11538810, 11582439, 11606069, 11651505, 11665575, 11709931, 11729020, 11794080, 13676775, 13679075, 13679076, 13693685, 13693686, 14286701, 14286702, 14572463, 14572464, 14630377, 14732890, 14732891, 14978019, 14978020, 15014837, 15014838, 15062949, 15063769, 15117433, 15158777, 15158778, 15165575]\n"
     ]
    }
   ],
   "source": [
    "import csv\n",
    "\n",
    "with open(proceedings_path, \"r\", encoding=\"utf-8\", errors=\"ignore\") as f:\n",
    "    header = f.readline().rstrip(\"\\n\").split(\"\\t\")\n",
    "n_fields = len(header)\n",
    "\n",
    "bad_rows = []\n",
    "with open(proceedings_path, \"r\", encoding=\"utf-8\", errors=\"ignore\") as f:\n",
    "    for i, line in enumerate(f):\n",
    "        if i == 0:\n",
    "            continue  # skip header\n",
    "        if len(line.rstrip(\"\\n\").split(\"\\t\")) != n_fields:\n",
    "            bad_rows.append(i)\n",
    "\n",
    "print(\"Rows to skip:\", bad_rows)"
   ]
  },
  {
   "cell_type": "code",
   "execution_count": 98,
   "id": "fe00596e",
   "metadata": {},
   "outputs": [],
   "source": [
    "proceedings = pd.read_csv(\n",
    "    proceedings_path,\n",
    "    sep=\"\\t\",\n",
    "    usecols=selected_columns,\n",
    "    dtype=str,\n",
    "    skiprows=bad_rows,\n",
    "    quoting=csv.QUOTE_NONE,\n",
    ")"
   ]
  },
  {
   "cell_type": "code",
   "execution_count": 99,
   "id": "36834681",
   "metadata": {},
   "outputs": [],
   "source": [
    "proceedings = proceedings.astype(dtypes)"
   ]
  },
  {
   "cell_type": "code",
   "execution_count": 100,
   "id": "24d47fbf",
   "metadata": {},
   "outputs": [],
   "source": [
    "juvenile_proceedings = proceedings[\n",
    "    proceedings[\"IDNPROCEEDING\"].isin(juvenile_proceeding_ids)\n",
    "].reset_index(drop=True)"
   ]
  },
  {
   "cell_type": "code",
   "execution_count": 101,
   "id": "02f6933f",
   "metadata": {},
   "outputs": [
    {
     "name": "stdout",
     "output_type": "stream",
     "text": [
      "Number of idnProceeding keys in tbl_JuvenileHistory.csv table: 2,801,192\n",
      "Number of matched juvenile rows in B_TblProceeding.csv based on those keys: 2,801,190\n"
     ]
    }
   ],
   "source": [
    "print(\n",
    "    f\"Number of idnProceeding keys in tbl_JuvenileHistory.csv table: {len(juvenile_proceeding_ids):,}\"\n",
    ")\n",
    "print(\n",
    "    f\"Number of matched juvenile rows in B_TblProceeding.csv based on those keys: {juvenile_proceedings.shape[0]:,}\"\n",
    ")"
   ]
  },
  {
   "cell_type": "code",
   "execution_count": 102,
   "id": "2953b7a9",
   "metadata": {},
   "outputs": [
    {
     "data": {
      "text/html": [
       "<div>\n",
       "<style scoped>\n",
       "    .dataframe tbody tr th:only-of-type {\n",
       "        vertical-align: middle;\n",
       "    }\n",
       "\n",
       "    .dataframe tbody tr th {\n",
       "        vertical-align: top;\n",
       "    }\n",
       "\n",
       "    .dataframe thead th {\n",
       "        text-align: right;\n",
       "    }\n",
       "</style>\n",
       "<table border=\"1\" class=\"dataframe\">\n",
       "  <thead>\n",
       "    <tr style=\"text-align: right;\">\n",
       "      <th></th>\n",
       "      <th>IDNPROCEEDING</th>\n",
       "      <th>IDNCASE</th>\n",
       "      <th>OSC_DATE</th>\n",
       "      <th>INPUT_DATE</th>\n",
       "      <th>BASE_CITY_CODE</th>\n",
       "      <th>HEARING_LOC_CODE</th>\n",
       "      <th>DEC_CODE</th>\n",
       "      <th>COMP_DATE</th>\n",
       "      <th>ABSENTIA</th>\n",
       "      <th>CUSTODY</th>\n",
       "      <th>CASE_TYPE</th>\n",
       "      <th>NAT</th>\n",
       "      <th>LANG</th>\n",
       "      <th>CRIM_IND</th>\n",
       "      <th>DATE_DETAINED</th>\n",
       "      <th>DATE_RELEASED</th>\n",
       "    </tr>\n",
       "  </thead>\n",
       "  <tbody>\n",
       "    <tr>\n",
       "      <th>0</th>\n",
       "      <td>12885856</td>\n",
       "      <td>9825244</td>\n",
       "      <td>2021-03-13 00:00:00.000</td>\n",
       "      <td>2023-08-30 00:00:00.000</td>\n",
       "      <td>POR</td>\n",
       "      <td>H99</td>\n",
       "      <td>NaN</td>\n",
       "      <td>NaN</td>\n",
       "      <td>NaN</td>\n",
       "      <td>N</td>\n",
       "      <td>RMV</td>\n",
       "      <td>HO</td>\n",
       "      <td>SP</td>\n",
       "      <td>N</td>\n",
       "      <td>NaN</td>\n",
       "      <td>NaN</td>\n",
       "    </tr>\n",
       "    <tr>\n",
       "      <th>1</th>\n",
       "      <td>12885874</td>\n",
       "      <td>12304962</td>\n",
       "      <td>2023-08-14 00:00:00.000</td>\n",
       "      <td>2023-08-30 00:00:00.000</td>\n",
       "      <td>NEW</td>\n",
       "      <td>NEW</td>\n",
       "      <td>NaN</td>\n",
       "      <td>NaN</td>\n",
       "      <td>NaN</td>\n",
       "      <td>R</td>\n",
       "      <td>RMV</td>\n",
       "      <td>GT</td>\n",
       "      <td>SP</td>\n",
       "      <td>N</td>\n",
       "      <td>2023-08-14 00:00:00.000</td>\n",
       "      <td>2023-08-28 00:00:00.000</td>\n",
       "    </tr>\n",
       "    <tr>\n",
       "      <th>2</th>\n",
       "      <td>12885882</td>\n",
       "      <td>12397184</td>\n",
       "      <td>2023-08-18 00:00:00.000</td>\n",
       "      <td>2023-08-30 00:00:00.000</td>\n",
       "      <td>PSD</td>\n",
       "      <td>PSD</td>\n",
       "      <td>NaN</td>\n",
       "      <td>2023-12-27 00:00:00.000</td>\n",
       "      <td>N</td>\n",
       "      <td>D</td>\n",
       "      <td>RMV</td>\n",
       "      <td>ES</td>\n",
       "      <td>SP</td>\n",
       "      <td>N</td>\n",
       "      <td>2023-08-18 00:00:00.000</td>\n",
       "      <td>NaN</td>\n",
       "    </tr>\n",
       "    <tr>\n",
       "      <th>3</th>\n",
       "      <td>12885885</td>\n",
       "      <td>12369932</td>\n",
       "      <td>2023-08-18 00:00:00.000</td>\n",
       "      <td>2023-08-28 00:00:00.000</td>\n",
       "      <td>LVG</td>\n",
       "      <td>LVG</td>\n",
       "      <td>NaN</td>\n",
       "      <td>2024-05-20 00:00:00.000</td>\n",
       "      <td>N</td>\n",
       "      <td>R</td>\n",
       "      <td>RMV</td>\n",
       "      <td>EC</td>\n",
       "      <td>SP</td>\n",
       "      <td>N</td>\n",
       "      <td>2023-08-25 00:00:00.000</td>\n",
       "      <td>2023-08-28 00:00:00.000</td>\n",
       "    </tr>\n",
       "    <tr>\n",
       "      <th>4</th>\n",
       "      <td>12885886</td>\n",
       "      <td>12198504</td>\n",
       "      <td>2023-07-06 00:00:00.000</td>\n",
       "      <td>2023-08-30 00:00:00.000</td>\n",
       "      <td>NYB</td>\n",
       "      <td>NYB</td>\n",
       "      <td>NaN</td>\n",
       "      <td>2024-03-06 00:00:00.000</td>\n",
       "      <td>N</td>\n",
       "      <td>R</td>\n",
       "      <td>RMV</td>\n",
       "      <td>MR</td>\n",
       "      <td>AR</td>\n",
       "      <td>N</td>\n",
       "      <td>2023-07-06 00:00:00.000</td>\n",
       "      <td>2023-08-29 00:00:00.000</td>\n",
       "    </tr>\n",
       "  </tbody>\n",
       "</table>\n",
       "</div>"
      ],
      "text/plain": [
       "   IDNPROCEEDING   IDNCASE  ...            DATE_DETAINED            DATE_RELEASED\n",
       "0       12885856   9825244  ...                      NaN                      NaN\n",
       "1       12885874  12304962  ...  2023-08-14 00:00:00.000  2023-08-28 00:00:00.000\n",
       "2       12885882  12397184  ...  2023-08-18 00:00:00.000                      NaN\n",
       "3       12885885  12369932  ...  2023-08-25 00:00:00.000  2023-08-28 00:00:00.000\n",
       "4       12885886  12198504  ...  2023-07-06 00:00:00.000  2023-08-29 00:00:00.000\n",
       "\n",
       "[5 rows x 16 columns]"
      ]
     },
     "execution_count": 102,
     "metadata": {},
     "output_type": "execute_result"
    }
   ],
   "source": [
    "juvenile_proceedings.head()"
   ]
  },
  {
   "cell_type": "code",
   "execution_count": 103,
   "id": "f61d3792",
   "metadata": {},
   "outputs": [
    {
     "name": "stdout",
     "output_type": "stream",
     "text": [
      "<class 'pandas.core.frame.DataFrame'>\n",
      "RangeIndex: 2801190 entries, 0 to 2801189\n",
      "Data columns (total 16 columns):\n",
      " #   Column            Dtype   \n",
      "---  ------            -----   \n",
      " 0   IDNPROCEEDING     Int64   \n",
      " 1   IDNCASE           Int64   \n",
      " 2   OSC_DATE          object  \n",
      " 3   INPUT_DATE        object  \n",
      " 4   BASE_CITY_CODE    category\n",
      " 5   HEARING_LOC_CODE  category\n",
      " 6   DEC_CODE          category\n",
      " 7   COMP_DATE         object  \n",
      " 8   ABSENTIA          category\n",
      " 9   CUSTODY           category\n",
      " 10  CASE_TYPE         category\n",
      " 11  NAT               category\n",
      " 12  LANG              category\n",
      " 13  CRIM_IND          category\n",
      " 14  DATE_DETAINED     object  \n",
      " 15  DATE_RELEASED     object  \n",
      "dtypes: Int64(2), category(9), object(5)\n",
      "memory usage: 187.1+ MB\n"
     ]
    }
   ],
   "source": [
    "juvenile_proceedings.info()"
   ]
  },
  {
   "cell_type": "markdown",
   "id": "65ebd2cb",
   "metadata": {},
   "source": [
    "#### Datetime Format Validation\n",
    "\n",
    "The following date-related features will be the focus of the next stage of preprocessing:  \n",
    "- `OSC_DATE`  \n",
    "- `INPUT_DATE`  \n",
    "- `COMP_DATE`  \n",
    "- `DATE_DETAINED`  \n",
    "- `DATE_RELEASED`  \n",
    "\n",
    "These features may require format standardization and conversion to datetime objects to enable accurate temporal analysis.\n",
    "\n",
    "Every datetime feature (except `C_BIRTHDATE`) follows the format `'YYYY-MM-DD 00:00:00.000'` (e.g., `'2025-02-04 00:00:00.000'`).\n",
    "\n",
    "Before conversion, each feature will be tested against this pattern to ensure values are valid.  \n",
    "All non-null entries will be checked to avoid unintended data loss during transformation with `pd.to_datetime()`.\n",
    "\n",
    "Only the **`YYYY-MM-DD`** portion of each timestamp will be retained."
   ]
  },
  {
   "cell_type": "code",
   "execution_count": 104,
   "id": "1b0430df",
   "metadata": {},
   "outputs": [],
   "source": [
    "invalid_osc_date = find_invalid_dates(juvenile_proceedings, \"OSC_DATE\")\n",
    "invalid_input_date = find_invalid_dates(juvenile_proceedings, \"INPUT_DATE\")\n",
    "invalid_comp_date = find_invalid_dates(juvenile_proceedings, \"COMP_DATE\")\n",
    "invalid_date_detained = find_invalid_dates(juvenile_proceedings, \"DATE_DETAINED\")\n",
    "invalid_date_released = find_invalid_dates(juvenile_proceedings, \"DATE_RELEASED\")"
   ]
  },
  {
   "cell_type": "code",
   "execution_count": 105,
   "id": "ad0b74c4",
   "metadata": {},
   "outputs": [
    {
     "name": "stdout",
     "output_type": "stream",
     "text": [
      "OSC_DATE: 0 invalid entries\n",
      "INPUT_DATE: 0 invalid entries\n",
      "COMP_DATE: 0 invalid entries\n",
      "DATE_DETAINED: 0 invalid entries\n",
      "DATE_RELEASED: 0 invalid entries\n"
     ]
    }
   ],
   "source": [
    "report_invalid(\"OSC_DATE\", invalid_osc_date)\n",
    "report_invalid(\"INPUT_DATE\", invalid_input_date)\n",
    "report_invalid(\"COMP_DATE\", invalid_comp_date)\n",
    "report_invalid(\"DATE_DETAINED\", invalid_date_detained)\n",
    "report_invalid(\"DATE_RELEASED\", invalid_date_released)"
   ]
  },
  {
   "cell_type": "code",
   "execution_count": 106,
   "id": "363be51f",
   "metadata": {},
   "outputs": [],
   "source": [
    "date_cols = [\"OSC_DATE\", \"INPUT_DATE\", \"COMP_DATE\", \"DATE_DETAINED\", \"DATE_RELEASED\"]\n",
    "\n",
    "juvenile_proceedings[date_cols] = juvenile_proceedings[date_cols].apply(\n",
    "    lambda col: pd.to_datetime(col, errors=\"coerce\")\n",
    ")"
   ]
  },
  {
   "cell_type": "code",
   "execution_count": 107,
   "id": "c1caf625",
   "metadata": {},
   "outputs": [
    {
     "name": "stdout",
     "output_type": "stream",
     "text": [
      "<class 'pandas.core.frame.DataFrame'>\n",
      "RangeIndex: 2801190 entries, 0 to 2801189\n",
      "Data columns (total 16 columns):\n",
      " #   Column            Dtype         \n",
      "---  ------            -----         \n",
      " 0   IDNPROCEEDING     Int64         \n",
      " 1   IDNCASE           Int64         \n",
      " 2   OSC_DATE          datetime64[ns]\n",
      " 3   INPUT_DATE        datetime64[ns]\n",
      " 4   BASE_CITY_CODE    category      \n",
      " 5   HEARING_LOC_CODE  category      \n",
      " 6   DEC_CODE          category      \n",
      " 7   COMP_DATE         datetime64[ns]\n",
      " 8   ABSENTIA          category      \n",
      " 9   CUSTODY           category      \n",
      " 10  CASE_TYPE         category      \n",
      " 11  NAT               category      \n",
      " 12  LANG              category      \n",
      " 13  CRIM_IND          category      \n",
      " 14  DATE_DETAINED     datetime64[ns]\n",
      " 15  DATE_RELEASED     datetime64[ns]\n",
      "dtypes: Int64(2), category(9), datetime64[ns](5)\n",
      "memory usage: 187.1 MB\n"
     ]
    }
   ],
   "source": [
    "juvenile_proceedings.info()"
   ]
  },
  {
   "cell_type": "code",
   "execution_count": 108,
   "id": "303194d9",
   "metadata": {},
   "outputs": [
    {
     "data": {
      "text/html": [
       "<div>\n",
       "<style scoped>\n",
       "    .dataframe tbody tr th:only-of-type {\n",
       "        vertical-align: middle;\n",
       "    }\n",
       "\n",
       "    .dataframe tbody tr th {\n",
       "        vertical-align: top;\n",
       "    }\n",
       "\n",
       "    .dataframe thead th {\n",
       "        text-align: right;\n",
       "    }\n",
       "</style>\n",
       "<table border=\"1\" class=\"dataframe\">\n",
       "  <thead>\n",
       "    <tr style=\"text-align: right;\">\n",
       "      <th></th>\n",
       "      <th>Missing Count</th>\n",
       "      <th>Missing %</th>\n",
       "    </tr>\n",
       "  </thead>\n",
       "  <tbody>\n",
       "    <tr>\n",
       "      <th>DATE_RELEASED</th>\n",
       "      <td>1783737</td>\n",
       "      <td>63.68</td>\n",
       "    </tr>\n",
       "    <tr>\n",
       "      <th>DATE_DETAINED</th>\n",
       "      <td>1335076</td>\n",
       "      <td>47.66</td>\n",
       "    </tr>\n",
       "    <tr>\n",
       "      <th>DEC_CODE</th>\n",
       "      <td>1331104</td>\n",
       "      <td>47.52</td>\n",
       "    </tr>\n",
       "    <tr>\n",
       "      <th>ABSENTIA</th>\n",
       "      <td>458485</td>\n",
       "      <td>16.37</td>\n",
       "    </tr>\n",
       "    <tr>\n",
       "      <th>COMP_DATE</th>\n",
       "      <td>436265</td>\n",
       "      <td>15.57</td>\n",
       "    </tr>\n",
       "    <tr>\n",
       "      <th>CRIM_IND</th>\n",
       "      <td>170702</td>\n",
       "      <td>6.09</td>\n",
       "    </tr>\n",
       "    <tr>\n",
       "      <th>OSC_DATE</th>\n",
       "      <td>22470</td>\n",
       "      <td>0.80</td>\n",
       "    </tr>\n",
       "    <tr>\n",
       "      <th>INPUT_DATE</th>\n",
       "      <td>10757</td>\n",
       "      <td>0.38</td>\n",
       "    </tr>\n",
       "    <tr>\n",
       "      <th>NAT</th>\n",
       "      <td>7927</td>\n",
       "      <td>0.28</td>\n",
       "    </tr>\n",
       "    <tr>\n",
       "      <th>LANG</th>\n",
       "      <td>1759</td>\n",
       "      <td>0.06</td>\n",
       "    </tr>\n",
       "    <tr>\n",
       "      <th>HEARING_LOC_CODE</th>\n",
       "      <td>56</td>\n",
       "      <td>0.00</td>\n",
       "    </tr>\n",
       "    <tr>\n",
       "      <th>CUSTODY</th>\n",
       "      <td>15</td>\n",
       "      <td>0.00</td>\n",
       "    </tr>\n",
       "    <tr>\n",
       "      <th>BASE_CITY_CODE</th>\n",
       "      <td>1</td>\n",
       "      <td>0.00</td>\n",
       "    </tr>\n",
       "    <tr>\n",
       "      <th>IDNPROCEEDING</th>\n",
       "      <td>0</td>\n",
       "      <td>0.00</td>\n",
       "    </tr>\n",
       "    <tr>\n",
       "      <th>IDNCASE</th>\n",
       "      <td>0</td>\n",
       "      <td>0.00</td>\n",
       "    </tr>\n",
       "    <tr>\n",
       "      <th>CASE_TYPE</th>\n",
       "      <td>0</td>\n",
       "      <td>0.00</td>\n",
       "    </tr>\n",
       "  </tbody>\n",
       "</table>\n",
       "</div>"
      ],
      "text/plain": [
       "                  Missing Count  Missing %\n",
       "DATE_RELEASED           1783737      63.68\n",
       "DATE_DETAINED           1335076      47.66\n",
       "DEC_CODE                1331104      47.52\n",
       "ABSENTIA                 458485      16.37\n",
       "COMP_DATE                436265      15.57\n",
       "CRIM_IND                 170702       6.09\n",
       "OSC_DATE                  22470       0.80\n",
       "INPUT_DATE                10757       0.38\n",
       "NAT                        7927       0.28\n",
       "LANG                       1759       0.06\n",
       "HEARING_LOC_CODE             56       0.00\n",
       "CUSTODY                      15       0.00\n",
       "BASE_CITY_CODE                1       0.00\n",
       "IDNPROCEEDING                 0       0.00\n",
       "IDNCASE                       0       0.00\n",
       "CASE_TYPE                     0       0.00"
      ]
     },
     "metadata": {},
     "output_type": "display_data"
    }
   ],
   "source": [
    "null_counts = juvenile_proceedings.isna().sum()\n",
    "percent_missing = (null_counts / len(juvenile_proceedings)) * 100\n",
    "\n",
    "missing_summary = pd.DataFrame(\n",
    "    {\"Missing Count\": null_counts, \"Missing %\": percent_missing.round(2)}\n",
    ").sort_values(by=\"Missing Count\", ascending=False)\n",
    "\n",
    "display(missing_summary)"
   ]
  },
  {
   "cell_type": "markdown",
   "id": "1eb3dde3",
   "metadata": {},
   "source": [
    "### Categorical Value Cleanup\n",
    "\n",
    "Currently reviewing categorical columns to identify and clean inconsistent or invalid entries.  \n",
    "Suspicious values (e.g., empty strings, control characters, or rare invalid codes) will be converted to `NaN` for clarity and downstream compatibility.\n",
    "\n",
    "Target columns:\n",
    "- BASE_CITY_CODE\n",
    "- HEARING_LOC_CODE\n",
    "- DEC_CODE\n",
    "- ABSENTIA\n",
    "- CUSTODY\n",
    "- CASE_TYPE\n",
    "- NAT\n",
    "- LANG\n",
    "- CRIM_IND\n",
    "\n",
    "This step ensures categorical data is standardized and ready for analysis."
   ]
  },
  {
   "cell_type": "code",
   "execution_count": null,
   "id": "7ce1ca9b",
   "metadata": {},
   "outputs": [
    {
     "data": {
      "text/plain": [
       "BASE_CITY_CODE\n",
       "MIA               130120\n",
       "NYC               121116\n",
       "SFR               104828\n",
       "SNA               102935\n",
       "DAL                95197\n",
       "                   ...  \n",
       "FCI                    0\n",
       "ELC                    0\n",
       "TST                    0\n",
       "BDC                    0\n",
       "NYD                    0\n",
       "Name: count, Length: 88, dtype: int64"
      ]
     },
     "execution_count": 109,
     "metadata": {},
     "output_type": "execute_result"
    }
   ],
   "source": [
    "juvenile_proceedings[\"BASE_CITY_CODE\"].value_counts()"
   ]
  },
  {
   "cell_type": "code",
   "execution_count": null,
   "id": "c968ebe6",
   "metadata": {},
   "outputs": [
    {
     "data": {
      "text/plain": [
       "HEARING_LOC_CODE\n",
       "MIA                 122951\n",
       "NYC                 117270\n",
       "SFR                  82003\n",
       "DAL                  75773\n",
       "CHL                  74774\n",
       "                     ...  \n",
       "EPZ                      0\n",
       "EPO                      0\n",
       "EOL                      0\n",
       "RA3                      0\n",
       "1AC                      0\n",
       "Name: count, Length: 818, dtype: int64"
      ]
     },
     "execution_count": 110,
     "metadata": {},
     "output_type": "execute_result"
    }
   ],
   "source": [
    "juvenile_proceedings[\"HEARING_LOC_CODE\"].value_counts()"
   ]
  },
  {
   "cell_type": "code",
   "execution_count": 111,
   "id": "0b0937ea",
   "metadata": {},
   "outputs": [
    {
     "data": {
      "text/html": [
       "<div>\n",
       "<style scoped>\n",
       "    .dataframe tbody tr th:only-of-type {\n",
       "        vertical-align: middle;\n",
       "    }\n",
       "\n",
       "    .dataframe tbody tr th {\n",
       "        vertical-align: top;\n",
       "    }\n",
       "\n",
       "    .dataframe thead th {\n",
       "        text-align: right;\n",
       "    }\n",
       "</style>\n",
       "<table border=\"1\" class=\"dataframe\">\n",
       "  <thead>\n",
       "    <tr style=\"text-align: right;\">\n",
       "      <th></th>\n",
       "      <th>CASE_TYPE</th>\n",
       "      <th>DEC_CODE</th>\n",
       "    </tr>\n",
       "  </thead>\n",
       "  <tbody>\n",
       "    <tr>\n",
       "      <th>5</th>\n",
       "      <td>CFR</td>\n",
       "      <td>A</td>\n",
       "    </tr>\n",
       "    <tr>\n",
       "      <th>6</th>\n",
       "      <td>RMV</td>\n",
       "      <td>X</td>\n",
       "    </tr>\n",
       "    <tr>\n",
       "      <th>7</th>\n",
       "      <td>RMV</td>\n",
       "      <td>T</td>\n",
       "    </tr>\n",
       "    <tr>\n",
       "      <th>9</th>\n",
       "      <td>RMV</td>\n",
       "      <td>X</td>\n",
       "    </tr>\n",
       "    <tr>\n",
       "      <th>11</th>\n",
       "      <td>RMV</td>\n",
       "      <td>X</td>\n",
       "    </tr>\n",
       "    <tr>\n",
       "      <th>...</th>\n",
       "      <td>...</td>\n",
       "      <td>...</td>\n",
       "    </tr>\n",
       "    <tr>\n",
       "      <th>2801156</th>\n",
       "      <td>RMV</td>\n",
       "      <td>X</td>\n",
       "    </tr>\n",
       "    <tr>\n",
       "      <th>2801158</th>\n",
       "      <td>RMV</td>\n",
       "      <td>X</td>\n",
       "    </tr>\n",
       "    <tr>\n",
       "      <th>2801176</th>\n",
       "      <td>RMV</td>\n",
       "      <td>T</td>\n",
       "    </tr>\n",
       "    <tr>\n",
       "      <th>2801179</th>\n",
       "      <td>CFR</td>\n",
       "      <td>A</td>\n",
       "    </tr>\n",
       "    <tr>\n",
       "      <th>2801185</th>\n",
       "      <td>RMV</td>\n",
       "      <td>U</td>\n",
       "    </tr>\n",
       "  </tbody>\n",
       "</table>\n",
       "<p>1470086 rows × 2 columns</p>\n",
       "</div>"
      ],
      "text/plain": [
       "        CASE_TYPE DEC_CODE\n",
       "5             CFR        A\n",
       "6             RMV        X\n",
       "7             RMV        T\n",
       "9             RMV        X\n",
       "11            RMV        X\n",
       "...           ...      ...\n",
       "2801156       RMV        X\n",
       "2801158       RMV        X\n",
       "2801176       RMV        T\n",
       "2801179       CFR        A\n",
       "2801185       RMV        U\n",
       "\n",
       "[1470086 rows x 2 columns]"
      ]
     },
     "metadata": {},
     "output_type": "display_data"
    }
   ],
   "source": [
    "display(\n",
    "    juvenile_proceedings[\n",
    "        juvenile_proceedings[\"CASE_TYPE\"].notna()\n",
    "        & juvenile_proceedings[\"DEC_CODE\"].notna()\n",
    "    ][[\"CASE_TYPE\", \"DEC_CODE\"]]\n",
    ")"
   ]
  },
  {
   "cell_type": "code",
   "execution_count": null,
   "id": "1aa0bcb8",
   "metadata": {},
   "outputs": [
    {
     "data": {
      "text/plain": [
       "DEC_CODE\n",
       "X           696714\n",
       "U           284055\n",
       "T           179644\n",
       "V           104375\n",
       "A            83552\n",
       "R            80902\n",
       "             14761\n",
       "D            11646\n",
       "W             5351\n",
       "G             2807\n",
       "O             2087\n",
       "Z             1417\n",
       "E             1410\n",
       "L              953\n",
       "H              337\n",
       "J               67\n",
       "S                4\n",
       "C                3\n",
       "K                1\n",
       "2                0\n",
       "Name: count, dtype: int64"
      ]
     },
     "execution_count": 112,
     "metadata": {},
     "output_type": "execute_result"
    }
   ],
   "source": [
    "juvenile_proceedings[\"DEC_CODE\"].value_counts()"
   ]
  },
  {
   "cell_type": "code",
   "execution_count": null,
   "id": "e7b501d0",
   "metadata": {},
   "outputs": [],
   "source": [
    "juvenile_proceedings[\"DEC_CODE\"] = juvenile_proceedings[\"DEC_CODE\"].replace(\"2\", np.nan)"
   ]
  },
  {
   "cell_type": "code",
   "execution_count": null,
   "id": "df3d3a74",
   "metadata": {},
   "outputs": [
    {
     "data": {
      "text/plain": [
       "ABSENTIA\n",
       "N           1944976\n",
       "Y            397715\n",
       "                 14\n",
       "5                 0\n",
       "Name: count, dtype: int64"
      ]
     },
     "execution_count": 114,
     "metadata": {},
     "output_type": "execute_result"
    }
   ],
   "source": [
    "juvenile_proceedings[\"ABSENTIA\"].value_counts()"
   ]
  },
  {
   "cell_type": "code",
   "execution_count": null,
   "id": "c40e6f9c",
   "metadata": {},
   "outputs": [],
   "source": [
    "juvenile_proceedings[\"ABSENTIA\"] = juvenile_proceedings[\"ABSENTIA\"].replace(\n",
    "    {\"\": np.nan, \"5\": np.nan}\n",
    ")"
   ]
  },
  {
   "cell_type": "code",
   "execution_count": null,
   "id": "69d61ba4",
   "metadata": {},
   "outputs": [
    {
     "data": {
      "text/plain": [
       "CUSTODY\n",
       "N          1253877\n",
       "R          1071870\n",
       "D           475427\n",
       "\u001b                1\n",
       "\u0003                0\n",
       "\u000f                0\n",
       "\u0013                0\n",
       "C                0\n",
       "Name: count, dtype: int64"
      ]
     },
     "execution_count": 116,
     "metadata": {},
     "output_type": "execute_result"
    }
   ],
   "source": [
    "juvenile_proceedings[\"CUSTODY\"].value_counts()"
   ]
  },
  {
   "cell_type": "code",
   "execution_count": 117,
   "id": "44e5ab2b",
   "metadata": {},
   "outputs": [],
   "source": [
    "valid_custody = [\"N\", \"R\", \"D\"]\n",
    "juvenile_proceedings[\"CUSTODY\"] = juvenile_proceedings[\"CUSTODY\"].where(\n",
    "    juvenile_proceedings[\"CUSTODY\"].isin(valid_custody), np.nan\n",
    ")"
   ]
  },
  {
   "cell_type": "code",
   "execution_count": 118,
   "id": "bc0f457e",
   "metadata": {},
   "outputs": [
    {
     "data": {
      "text/plain": [
       "CRIM_IND\n",
       "N           2572330\n",
       "Y             58142\n",
       "                 16\n",
       "Name: count, dtype: int64"
      ]
     },
     "execution_count": 118,
     "metadata": {},
     "output_type": "execute_result"
    }
   ],
   "source": [
    "juvenile_proceedings[[\"CRIM_IND\"]].value_counts()"
   ]
  },
  {
   "cell_type": "code",
   "execution_count": 119,
   "id": "834a6049",
   "metadata": {},
   "outputs": [],
   "source": [
    "juvenile_proceedings[\"CRIM_IND\"] = juvenile_proceedings[\"CRIM_IND\"].replace(\n",
    "    r\"^\\s*$\", np.nan, regex=True\n",
    ")"
   ]
  },
  {
   "cell_type": "code",
   "execution_count": 123,
   "id": "406bf1c3",
   "metadata": {},
   "outputs": [
    {
     "data": {
      "text/plain": [
       "LANG\n",
       "SP     2212406\n",
       "ENG     120922\n",
       "POR      62403\n",
       "PUN      48400\n",
       "SP       29962\n",
       "        ...   \n",
       "BMY          0\n",
       "BMO          0\n",
       "BLE          0\n",
       "FAA          0\n",
       "GA           0\n",
       "Name: count, Length: 561, dtype: int64"
      ]
     },
     "execution_count": 123,
     "metadata": {},
     "output_type": "execute_result"
    }
   ],
   "source": [
    "juvenile_proceedings[\"LANG\"].value_counts()"
   ]
  },
  {
   "cell_type": "code",
   "execution_count": 124,
   "id": "64b85d7a",
   "metadata": {},
   "outputs": [
    {
     "data": {
      "text/plain": [
       "NAT\n",
       "GT    595840\n",
       "HO    530506\n",
       "MX    368362\n",
       "ES    332344\n",
       "CU    108914\n",
       "       ...  \n",
       "PC         0\n",
       "PF         0\n",
       "RQ         0\n",
       "SB         0\n",
       "b6         0\n",
       "Name: count, Length: 264, dtype: int64"
      ]
     },
     "execution_count": 124,
     "metadata": {},
     "output_type": "execute_result"
    }
   ],
   "source": [
    "juvenile_proceedings[\"NAT\"].value_counts()"
   ]
  },
  {
   "cell_type": "markdown",
   "id": "b05b4fc2",
   "metadata": {},
   "source": [
    "Replaced invalid values with `NaN` and removed unused categories for cleaner analysis."
   ]
  },
  {
   "cell_type": "code",
   "execution_count": 127,
   "id": "9158727c",
   "metadata": {},
   "outputs": [],
   "source": [
    "categorical_cols = [\n",
    "    \"BASE_CITY_CODE\",\n",
    "    \"HEARING_LOC_CODE\",\n",
    "    \"DEC_CODE\",\n",
    "    \"ABSENTIA\",\n",
    "    \"CUSTODY\",\n",
    "    \"CASE_TYPE\",\n",
    "    \"NAT\",\n",
    "    \"LANG\",\n",
    "    \"CRIM_IND\",\n",
    "]\n",
    "\n",
    "for col in categorical_cols:\n",
    "    if isinstance(juvenile_proceedings[col].dtype, pd.CategoricalDtype):\n",
    "        juvenile_proceedings[col] = juvenile_proceedings[\n",
    "            col\n",
    "        ].cat.remove_unused_categories()"
   ]
  },
  {
   "cell_type": "code",
   "execution_count": 129,
   "id": "4beccabd",
   "metadata": {},
   "outputs": [
    {
     "data": {
      "text/plain": [
       "0"
      ]
     },
     "execution_count": 129,
     "metadata": {},
     "output_type": "execute_result"
    }
   ],
   "source": [
    "juvenile_proceedings.duplicated().sum()"
   ]
  },
  {
   "cell_type": "code",
   "execution_count": 130,
   "id": "8a560fb8",
   "metadata": {},
   "outputs": [
    {
     "data": {
      "text/html": [
       "<div>\n",
       "<style scoped>\n",
       "    .dataframe tbody tr th:only-of-type {\n",
       "        vertical-align: middle;\n",
       "    }\n",
       "\n",
       "    .dataframe tbody tr th {\n",
       "        vertical-align: top;\n",
       "    }\n",
       "\n",
       "    .dataframe thead th {\n",
       "        text-align: right;\n",
       "    }\n",
       "</style>\n",
       "<table border=\"1\" class=\"dataframe\">\n",
       "  <thead>\n",
       "    <tr style=\"text-align: right;\">\n",
       "      <th></th>\n",
       "      <th>IDNPROCEEDING</th>\n",
       "      <th>IDNCASE</th>\n",
       "      <th>OSC_DATE</th>\n",
       "      <th>INPUT_DATE</th>\n",
       "      <th>BASE_CITY_CODE</th>\n",
       "      <th>HEARING_LOC_CODE</th>\n",
       "      <th>DEC_CODE</th>\n",
       "      <th>COMP_DATE</th>\n",
       "      <th>ABSENTIA</th>\n",
       "      <th>CUSTODY</th>\n",
       "      <th>CASE_TYPE</th>\n",
       "      <th>NAT</th>\n",
       "      <th>LANG</th>\n",
       "      <th>CRIM_IND</th>\n",
       "      <th>DATE_DETAINED</th>\n",
       "      <th>DATE_RELEASED</th>\n",
       "    </tr>\n",
       "  </thead>\n",
       "  <tbody>\n",
       "    <tr>\n",
       "      <th>0</th>\n",
       "      <td>12885856</td>\n",
       "      <td>9825244</td>\n",
       "      <td>2021-03-13</td>\n",
       "      <td>2023-08-30</td>\n",
       "      <td>POR</td>\n",
       "      <td>H99</td>\n",
       "      <td>NaN</td>\n",
       "      <td>NaT</td>\n",
       "      <td>NaN</td>\n",
       "      <td>N</td>\n",
       "      <td>RMV</td>\n",
       "      <td>HO</td>\n",
       "      <td>SP</td>\n",
       "      <td>N</td>\n",
       "      <td>NaT</td>\n",
       "      <td>NaT</td>\n",
       "    </tr>\n",
       "    <tr>\n",
       "      <th>1</th>\n",
       "      <td>12885874</td>\n",
       "      <td>12304962</td>\n",
       "      <td>2023-08-14</td>\n",
       "      <td>2023-08-30</td>\n",
       "      <td>NEW</td>\n",
       "      <td>NEW</td>\n",
       "      <td>NaN</td>\n",
       "      <td>NaT</td>\n",
       "      <td>NaN</td>\n",
       "      <td>R</td>\n",
       "      <td>RMV</td>\n",
       "      <td>GT</td>\n",
       "      <td>SP</td>\n",
       "      <td>N</td>\n",
       "      <td>2023-08-14</td>\n",
       "      <td>2023-08-28</td>\n",
       "    </tr>\n",
       "    <tr>\n",
       "      <th>2</th>\n",
       "      <td>12885882</td>\n",
       "      <td>12397184</td>\n",
       "      <td>2023-08-18</td>\n",
       "      <td>2023-08-30</td>\n",
       "      <td>PSD</td>\n",
       "      <td>PSD</td>\n",
       "      <td>NaN</td>\n",
       "      <td>2023-12-27</td>\n",
       "      <td>N</td>\n",
       "      <td>D</td>\n",
       "      <td>RMV</td>\n",
       "      <td>ES</td>\n",
       "      <td>SP</td>\n",
       "      <td>N</td>\n",
       "      <td>2023-08-18</td>\n",
       "      <td>NaT</td>\n",
       "    </tr>\n",
       "    <tr>\n",
       "      <th>3</th>\n",
       "      <td>12885885</td>\n",
       "      <td>12369932</td>\n",
       "      <td>2023-08-18</td>\n",
       "      <td>2023-08-28</td>\n",
       "      <td>LVG</td>\n",
       "      <td>LVG</td>\n",
       "      <td>NaN</td>\n",
       "      <td>2024-05-20</td>\n",
       "      <td>N</td>\n",
       "      <td>R</td>\n",
       "      <td>RMV</td>\n",
       "      <td>EC</td>\n",
       "      <td>SP</td>\n",
       "      <td>N</td>\n",
       "      <td>2023-08-25</td>\n",
       "      <td>2023-08-28</td>\n",
       "    </tr>\n",
       "    <tr>\n",
       "      <th>4</th>\n",
       "      <td>12885886</td>\n",
       "      <td>12198504</td>\n",
       "      <td>2023-07-06</td>\n",
       "      <td>2023-08-30</td>\n",
       "      <td>NYB</td>\n",
       "      <td>NYB</td>\n",
       "      <td>NaN</td>\n",
       "      <td>2024-03-06</td>\n",
       "      <td>N</td>\n",
       "      <td>R</td>\n",
       "      <td>RMV</td>\n",
       "      <td>MR</td>\n",
       "      <td>AR</td>\n",
       "      <td>N</td>\n",
       "      <td>2023-07-06</td>\n",
       "      <td>2023-08-29</td>\n",
       "    </tr>\n",
       "  </tbody>\n",
       "</table>\n",
       "</div>"
      ],
      "text/plain": [
       "   IDNPROCEEDING   IDNCASE   OSC_DATE  ... CRIM_IND DATE_DETAINED DATE_RELEASED\n",
       "0       12885856   9825244 2021-03-13  ...        N           NaT           NaT\n",
       "1       12885874  12304962 2023-08-14  ...        N    2023-08-14    2023-08-28\n",
       "2       12885882  12397184 2023-08-18  ...        N    2023-08-18           NaT\n",
       "3       12885885  12369932 2023-08-18  ...        N    2023-08-25    2023-08-28\n",
       "4       12885886  12198504 2023-07-06  ...        N    2023-07-06    2023-08-29\n",
       "\n",
       "[5 rows x 16 columns]"
      ]
     },
     "execution_count": 130,
     "metadata": {},
     "output_type": "execute_result"
    }
   ],
   "source": [
    "juvenile_proceedings.head()"
   ]
  },
  {
   "cell_type": "code",
   "execution_count": 131,
   "id": "e65871ca",
   "metadata": {},
   "outputs": [],
   "source": [
    "juvenile_proceedings.to_csv(\n",
    "    \"../outputs/juvenile_proceedings_cleaned.csv.gz\", index=False, compression=\"gzip\"\n",
    ")"
   ]
  }
 ],
 "metadata": {
  "kernelspec": {
   "display_name": "base",
   "language": "python",
   "name": "python3"
  },
  "language_info": {
   "codemirror_mode": {
    "name": "ipython",
    "version": 3
   },
   "file_extension": ".py",
   "mimetype": "text/x-python",
   "name": "python",
   "nbconvert_exporter": "python",
   "pygments_lexer": "ipython3",
   "version": "3.12.7"
  }
 },
 "nbformat": 4,
 "nbformat_minor": 5
}
