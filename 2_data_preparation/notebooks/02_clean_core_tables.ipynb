{
 "cells": [
  {
   "cell_type": "code",
   "execution_count": 480,
   "id": "f7e07d7c",
   "metadata": {},
   "outputs": [],
   "source": [
    "import pandas as pd\n",
    "import numpy as np"
   ]
  },
  {
   "cell_type": "code",
   "execution_count": 481,
   "id": "1236199e",
   "metadata": {},
   "outputs": [],
   "source": [
    "pd.options.display.max_columns = False"
   ]
  },
  {
   "cell_type": "markdown",
   "id": "a2ae9747",
   "metadata": {},
   "source": [
    "## 1. Clean tbl_JuvenileHistory"
   ]
  },
  {
   "cell_type": "markdown",
   "id": "05a708b3",
   "metadata": {},
   "source": [
    "### Initial Data Inspection"
   ]
  },
  {
   "cell_type": "markdown",
   "id": "7dc3ad1e",
   "metadata": {},
   "source": [
    "\n",
    "The dataset contains approximately 3 million rows. To avoid memory issues and reduce unnecessary processing, only the first 100 rows will be inspected initially:\n",
    "\n",
    "- Get an overview of the data types (`dtypes`)\n",
    "- Identify columns/features worth keeping for the EDA\n",
    "- Skip any columns that appear to be irrelevant or redundant\n",
    "\n",
    "This initial check will help streamline the analysis and focus only on useful information."
   ]
  },
  {
   "cell_type": "code",
   "execution_count": 482,
   "id": "04bf6b36",
   "metadata": {},
   "outputs": [],
   "source": [
    "juvenile_history_path = \"tbl_JuvenileHistory.csv\"\n",
    "juvenile_history = pd.read_csv(\n",
    "    filepath_or_buffer=juvenile_history_path, delimiter=\"\\t\", nrows=100\n",
    ")"
   ]
  },
  {
   "cell_type": "code",
   "execution_count": 483,
   "id": "e14b26a5",
   "metadata": {},
   "outputs": [
    {
     "data": {
      "text/html": [
       "<div>\n",
       "<style scoped>\n",
       "    .dataframe tbody tr th:only-of-type {\n",
       "        vertical-align: middle;\n",
       "    }\n",
       "\n",
       "    .dataframe tbody tr th {\n",
       "        vertical-align: top;\n",
       "    }\n",
       "\n",
       "    .dataframe thead th {\n",
       "        text-align: right;\n",
       "    }\n",
       "</style>\n",
       "<table border=\"1\" class=\"dataframe\">\n",
       "  <thead>\n",
       "    <tr style=\"text-align: right;\">\n",
       "      <th></th>\n",
       "      <th>idnJuvenileHistory</th>\n",
       "      <th>idnCase</th>\n",
       "      <th>idnProceeding</th>\n",
       "      <th>idnJuvenile</th>\n",
       "      <th>DATCREATEDON</th>\n",
       "      <th>DATMODIFIEDON</th>\n",
       "    </tr>\n",
       "  </thead>\n",
       "  <tbody>\n",
       "    <tr>\n",
       "      <th>0</th>\n",
       "      <td>5</td>\n",
       "      <td>2046990</td>\n",
       "      <td>3200129</td>\n",
       "      <td>1</td>\n",
       "      <td>2014-09-06 19:24:46.373</td>\n",
       "      <td>NaN</td>\n",
       "    </tr>\n",
       "    <tr>\n",
       "      <th>1</th>\n",
       "      <td>6</td>\n",
       "      <td>2047179</td>\n",
       "      <td>3199488</td>\n",
       "      <td>1</td>\n",
       "      <td>2014-09-06 19:24:46.373</td>\n",
       "      <td>NaN</td>\n",
       "    </tr>\n",
       "    <tr>\n",
       "      <th>2</th>\n",
       "      <td>7</td>\n",
       "      <td>2047179</td>\n",
       "      <td>3199489</td>\n",
       "      <td>1</td>\n",
       "      <td>2014-09-06 19:24:46.373</td>\n",
       "      <td>NaN</td>\n",
       "    </tr>\n",
       "    <tr>\n",
       "      <th>3</th>\n",
       "      <td>8</td>\n",
       "      <td>2047199</td>\n",
       "      <td>3199497</td>\n",
       "      <td>1</td>\n",
       "      <td>2014-09-06 19:24:46.373</td>\n",
       "      <td>NaN</td>\n",
       "    </tr>\n",
       "    <tr>\n",
       "      <th>4</th>\n",
       "      <td>9</td>\n",
       "      <td>2047199</td>\n",
       "      <td>3199498</td>\n",
       "      <td>1</td>\n",
       "      <td>2014-09-06 19:24:46.373</td>\n",
       "      <td>NaN</td>\n",
       "    </tr>\n",
       "  </tbody>\n",
       "</table>\n",
       "</div>"
      ],
      "text/plain": [
       "   idnJuvenileHistory  idnCase  ...             DATCREATEDON  DATMODIFIEDON\n",
       "0                   5  2046990  ...  2014-09-06 19:24:46.373            NaN\n",
       "1                   6  2047179  ...  2014-09-06 19:24:46.373            NaN\n",
       "2                   7  2047179  ...  2014-09-06 19:24:46.373            NaN\n",
       "3                   8  2047199  ...  2014-09-06 19:24:46.373            NaN\n",
       "4                   9  2047199  ...  2014-09-06 19:24:46.373            NaN\n",
       "\n",
       "[5 rows x 6 columns]"
      ]
     },
     "execution_count": 483,
     "metadata": {},
     "output_type": "execute_result"
    }
   ],
   "source": [
    "juvenile_history.head()"
   ]
  },
  {
   "cell_type": "code",
   "execution_count": 484,
   "id": "9e39b1b3",
   "metadata": {},
   "outputs": [
    {
     "name": "stdout",
     "output_type": "stream",
     "text": [
      "<class 'pandas.core.frame.DataFrame'>\n",
      "RangeIndex: 100 entries, 0 to 99\n",
      "Data columns (total 6 columns):\n",
      " #   Column              Non-Null Count  Dtype  \n",
      "---  ------              --------------  -----  \n",
      " 0   idnJuvenileHistory  100 non-null    int64  \n",
      " 1   idnCase             100 non-null    int64  \n",
      " 2   idnProceeding       100 non-null    int64  \n",
      " 3   idnJuvenile         100 non-null    int64  \n",
      " 4   DATCREATEDON        100 non-null    object \n",
      " 5   DATMODIFIEDON       0 non-null      float64\n",
      "dtypes: float64(1), int64(4), object(1)\n",
      "memory usage: 4.8+ KB\n"
     ]
    }
   ],
   "source": [
    "juvenile_history.info()"
   ]
  },
  {
   "cell_type": "code",
   "execution_count": 485,
   "id": "6be91f1e",
   "metadata": {},
   "outputs": [
    {
     "data": {
      "text/plain": [
       "Index(['idnJuvenileHistory', 'idnCase', 'idnProceeding', 'idnJuvenile',\n",
       "       'DATCREATEDON', 'DATMODIFIEDON'],\n",
       "      dtype='object')"
      ]
     },
     "execution_count": 485,
     "metadata": {},
     "output_type": "execute_result"
    }
   ],
   "source": [
    "juvenile_history.columns"
   ]
  },
  {
   "cell_type": "markdown",
   "id": "fc941c74",
   "metadata": {},
   "source": [
    "**`idnJuvenile`**: Although stored as `int64`, this column only contains values from 1 to 6 (as per `Lookup/tblLookup_Juvenile.csv`). It should be treated as a categorical feature.\n",
    "\n",
    "**`DATCREATEDON`** and **`DATMODIFIEDON`**:\n",
    "  - `DATCREATEDON` likely reflects the date when the record was entered into the system, not when the case itself was initiated.\n",
    "  - `DATMODIFIEDON` likely reflects the date when the record was edited in the system, not when the case itself was updated."
   ]
  },
  {
   "cell_type": "code",
   "execution_count": 486,
   "id": "5df0de0b",
   "metadata": {},
   "outputs": [],
   "source": [
    "juvenile_history = pd.read_csv(\n",
    "    filepath_or_buffer=juvenile_history_path,\n",
    "    delimiter=\"\\t\",\n",
    "    usecols=[\"idnJuvenileHistory\", \"idnCase\", \"idnProceeding\", \"idnJuvenile\"],\n",
    "    dtype={\n",
    "        \"idnJuvenileHistory\": \"Int64\",\n",
    "        \"idnCase\": \"Int64\",\n",
    "        \"idnProceeding\": \"Int64\",\n",
    "        \"idnJuvenile\": \"category\",\n",
    "    },\n",
    "    low_memory=False,\n",
    ")"
   ]
  },
  {
   "cell_type": "markdown",
   "id": "02daed51",
   "metadata": {},
   "source": [
    "### Data Inspection"
   ]
  },
  {
   "cell_type": "code",
   "execution_count": 487,
   "id": "09ebe5c1",
   "metadata": {},
   "outputs": [
    {
     "data": {
      "text/html": [
       "<div>\n",
       "<style scoped>\n",
       "    .dataframe tbody tr th:only-of-type {\n",
       "        vertical-align: middle;\n",
       "    }\n",
       "\n",
       "    .dataframe tbody tr th {\n",
       "        vertical-align: top;\n",
       "    }\n",
       "\n",
       "    .dataframe thead th {\n",
       "        text-align: right;\n",
       "    }\n",
       "</style>\n",
       "<table border=\"1\" class=\"dataframe\">\n",
       "  <thead>\n",
       "    <tr style=\"text-align: right;\">\n",
       "      <th></th>\n",
       "      <th>idnJuvenileHistory</th>\n",
       "      <th>idnCase</th>\n",
       "      <th>idnProceeding</th>\n",
       "      <th>idnJuvenile</th>\n",
       "    </tr>\n",
       "  </thead>\n",
       "  <tbody>\n",
       "    <tr>\n",
       "      <th>0</th>\n",
       "      <td>5</td>\n",
       "      <td>2046990</td>\n",
       "      <td>3200129</td>\n",
       "      <td>1</td>\n",
       "    </tr>\n",
       "    <tr>\n",
       "      <th>1</th>\n",
       "      <td>6</td>\n",
       "      <td>2047179</td>\n",
       "      <td>3199488</td>\n",
       "      <td>1</td>\n",
       "    </tr>\n",
       "    <tr>\n",
       "      <th>2</th>\n",
       "      <td>7</td>\n",
       "      <td>2047179</td>\n",
       "      <td>3199489</td>\n",
       "      <td>1</td>\n",
       "    </tr>\n",
       "    <tr>\n",
       "      <th>3</th>\n",
       "      <td>8</td>\n",
       "      <td>2047199</td>\n",
       "      <td>3199497</td>\n",
       "      <td>1</td>\n",
       "    </tr>\n",
       "    <tr>\n",
       "      <th>4</th>\n",
       "      <td>9</td>\n",
       "      <td>2047199</td>\n",
       "      <td>3199498</td>\n",
       "      <td>1</td>\n",
       "    </tr>\n",
       "  </tbody>\n",
       "</table>\n",
       "</div>"
      ],
      "text/plain": [
       "   idnJuvenileHistory  idnCase  idnProceeding idnJuvenile\n",
       "0                   5  2046990        3200129           1\n",
       "1                   6  2047179        3199488           1\n",
       "2                   7  2047179        3199489           1\n",
       "3                   8  2047199        3199497           1\n",
       "4                   9  2047199        3199498           1"
      ]
     },
     "execution_count": 487,
     "metadata": {},
     "output_type": "execute_result"
    }
   ],
   "source": [
    "juvenile_history.head()"
   ]
  },
  {
   "cell_type": "code",
   "execution_count": 488,
   "id": "9f863a1a",
   "metadata": {},
   "outputs": [
    {
     "data": {
      "text/plain": [
       "(2876040, 4)"
      ]
     },
     "execution_count": 488,
     "metadata": {},
     "output_type": "execute_result"
    }
   ],
   "source": [
    "juvenile_history.shape"
   ]
  },
  {
   "cell_type": "code",
   "execution_count": 489,
   "id": "98b8463b",
   "metadata": {},
   "outputs": [
    {
     "name": "stdout",
     "output_type": "stream",
     "text": [
      "<class 'pandas.core.frame.DataFrame'>\n",
      "RangeIndex: 2876040 entries, 0 to 2876039\n",
      "Data columns (total 4 columns):\n",
      " #   Column              Dtype   \n",
      "---  ------              -----   \n",
      " 0   idnJuvenileHistory  Int64   \n",
      " 1   idnCase             Int64   \n",
      " 2   idnProceeding       Int64   \n",
      " 3   idnJuvenile         category\n",
      "dtypes: Int64(3), category(1)\n",
      "memory usage: 76.8 MB\n"
     ]
    }
   ],
   "source": [
    "juvenile_history.info()"
   ]
  },
  {
   "cell_type": "code",
   "execution_count": 490,
   "id": "eb0ab55f",
   "metadata": {},
   "outputs": [
    {
     "data": {
      "text/plain": [
       "idnJuvenileHistory      0\n",
       "idnCase                 0\n",
       "idnProceeding          99\n",
       "idnJuvenile           999\n",
       "dtype: int64"
      ]
     },
     "execution_count": 490,
     "metadata": {},
     "output_type": "execute_result"
    }
   ],
   "source": [
    "juvenile_history.isna().sum()"
   ]
  },
  {
   "cell_type": "code",
   "execution_count": 491,
   "id": "0755ae12",
   "metadata": {},
   "outputs": [
    {
     "data": {
      "text/plain": [
       "0"
      ]
     },
     "execution_count": 491,
     "metadata": {},
     "output_type": "execute_result"
    }
   ],
   "source": [
    "juvenile_history.duplicated().sum()"
   ]
  },
  {
   "cell_type": "markdown",
   "id": "5e6ae9d2",
   "metadata": {},
   "source": [
    "#### `idnCase` List\n",
    "\n",
    "Extracted unique `idnCase` values from `tbl_JuvenileHistory`  \n",
    "to filter `A_TblCase` and retain only juvenile-related records  \n",
    "without performing a full table join."
   ]
  },
  {
   "cell_type": "code",
   "execution_count": 492,
   "id": "2b018068",
   "metadata": {},
   "outputs": [],
   "source": [
    "juvenile_case_ids = juvenile_history[\"idnCase\"].unique()"
   ]
  },
  {
   "cell_type": "markdown",
   "id": "a76c9b87",
   "metadata": {},
   "source": [
    "#### `idnProceeding` List\n",
    "\n",
    "Extracted unique `idnProceeding` values from `tbl_JuvenileHistory`  \n",
    "to filter `B_TblProceeding` and retain only juvenile-related records  \n",
    "without performing a full table join."
   ]
  },
  {
   "cell_type": "code",
   "execution_count": 493,
   "id": "bd854447",
   "metadata": {},
   "outputs": [],
   "source": [
    "juvenile_proceeding_ids = juvenile_history[\"idnProceeding\"].dropna().unique()"
   ]
  },
  {
   "cell_type": "code",
   "execution_count": 494,
   "id": "2d268d29",
   "metadata": {},
   "outputs": [],
   "source": [
    "juvenile_history.to_csv(\n",
    "    \"../cleaned/juvenile_cases_cleaned.csv.gz\", index=False, compression=\"gzip\"\n",
    ")"
   ]
  },
  {
   "cell_type": "markdown",
   "id": "905af58c",
   "metadata": {},
   "source": [
    "### Cleaned `tbl_JuvenileHistory`\n",
    "\n",
    "- Loaded ~2.87M rows from the raw CSV file.\n",
    "- Dropped irrelevant or fully null columns.\n",
    "- Converted `idnJuvenile` to a categorical variable.\n",
    "- Retained only 4 key fields:\n",
    "  - `idnJuvenileHistory`: primary key\n",
    "  - `idnCase`: foreign key to `tbl_Case`\n",
    "  - `idnProceeding`: foreign key to `tbl_Proceeding`\n",
    "  - `idnJuvenile`: foreign key to `tblLookup_Juvenile`\n",
    "- Missing values:\n",
    "  - `idnProceeding`: 99 missing\n",
    "  - `idnJuvenile`: 999 missing\n",
    "\n",
    "Saved cleaned file as:\n",
    "- `juvenile_history_cleaned.csv.gz` "
   ]
  },
  {
   "cell_type": "markdown",
   "id": "d4861f54",
   "metadata": {},
   "source": [
    "## 2. Clean A_TblCase"
   ]
  },
  {
   "cell_type": "markdown",
   "id": "0ae6dcda",
   "metadata": {},
   "source": [
    "### Initial Data Inspection"
   ]
  },
  {
   "cell_type": "markdown",
   "id": "9adff737",
   "metadata": {},
   "source": [
    "\n",
    "The dataset contains approximately 12 million rows. To avoid memory issues and reduce unnecessary processing, only the first 1000 rows will be inspected initially:\n",
    "\n",
    "- Get an overview of the data types (`dtypes`)\n",
    "- Identify columns/features worth keeping for the EDA\n",
    "- Skip any columns that appear to be irrelevant or redundant\n",
    "\n",
    "This initial check will help streamline the analysis and focus only on useful information."
   ]
  },
  {
   "cell_type": "code",
   "execution_count": 495,
   "id": "e82f073f",
   "metadata": {},
   "outputs": [],
   "source": [
    "case_path = \"A_TblCase.csv\"\n",
    "cases = pd.read_csv(filepath_or_buffer=case_path, delimiter=\"\\t\", nrows=1000)"
   ]
  },
  {
   "cell_type": "code",
   "execution_count": 496,
   "id": "9daa5c67",
   "metadata": {},
   "outputs": [
    {
     "data": {
      "text/html": [
       "<div>\n",
       "<style scoped>\n",
       "    .dataframe tbody tr th:only-of-type {\n",
       "        vertical-align: middle;\n",
       "    }\n",
       "\n",
       "    .dataframe tbody tr th {\n",
       "        vertical-align: top;\n",
       "    }\n",
       "\n",
       "    .dataframe thead th {\n",
       "        text-align: right;\n",
       "    }\n",
       "</style>\n",
       "<table border=\"1\" class=\"dataframe\">\n",
       "  <thead>\n",
       "    <tr style=\"text-align: right;\">\n",
       "      <th></th>\n",
       "      <th>IDNCASE</th>\n",
       "      <th>ALIEN_CITY</th>\n",
       "      <th>ALIEN_STATE</th>\n",
       "      <th>ALIEN_ZIPCODE</th>\n",
       "      <th>UPDATED_ZIPCODE</th>\n",
       "      <th>UPDATED_CITY</th>\n",
       "      <th>NAT</th>\n",
       "      <th>LANG</th>\n",
       "      <th>CUSTODY</th>\n",
       "      <th>SITE_TYPE</th>\n",
       "      <th>E_28_DATE</th>\n",
       "      <th>ATTY_NBR</th>\n",
       "      <th>CASE_TYPE</th>\n",
       "      <th>UPDATE_SITE</th>\n",
       "      <th>LATEST_HEARING</th>\n",
       "      <th>LATEST_TIME</th>\n",
       "      <th>LATEST_CAL_TYPE</th>\n",
       "      <th>UP_BOND_DATE</th>\n",
       "      <th>UP_BOND_RSN</th>\n",
       "      <th>CORRECTIONAL_FAC</th>\n",
       "      <th>RELEASE_MONTH</th>\n",
       "      <th>RELEASE_YEAR</th>\n",
       "      <th>INMATE_HOUSING</th>\n",
       "      <th>DATE_OF_ENTRY</th>\n",
       "      <th>C_ASY_TYPE</th>\n",
       "      <th>C_BIRTHDATE</th>\n",
       "      <th>C_RELEASE_DATE</th>\n",
       "      <th>UPDATED_STATE</th>\n",
       "      <th>ADDRESS_CHANGEDON</th>\n",
       "      <th>ZBOND_MRG_FLAG</th>\n",
       "      <th>Sex</th>\n",
       "      <th>DATE_DETAINED</th>\n",
       "      <th>DATE_RELEASED</th>\n",
       "      <th>LPR</th>\n",
       "      <th>DETENTION_DATE</th>\n",
       "      <th>DETENTION_LOCATION</th>\n",
       "      <th>DCO_LOCATION</th>\n",
       "      <th>DETENTION_FACILITY_TYPE</th>\n",
       "      <th>CASEPRIORITY_CODE</th>\n",
       "    </tr>\n",
       "  </thead>\n",
       "  <tbody>\n",
       "    <tr>\n",
       "      <th>0</th>\n",
       "      <td>6807606</td>\n",
       "      <td>TACOMA</td>\n",
       "      <td>WA</td>\n",
       "      <td>98421</td>\n",
       "      <td>NaN</td>\n",
       "      <td>NaN</td>\n",
       "      <td>MX</td>\n",
       "      <td>SP</td>\n",
       "      <td>D</td>\n",
       "      <td>NaN</td>\n",
       "      <td>NaN</td>\n",
       "      <td>NaN</td>\n",
       "      <td>RMV</td>\n",
       "      <td>TAC</td>\n",
       "      <td>NaN</td>\n",
       "      <td>NaN</td>\n",
       "      <td>NaN</td>\n",
       "      <td>NaN</td>\n",
       "      <td>NaN</td>\n",
       "      <td>NaN</td>\n",
       "      <td>NaN</td>\n",
       "      <td>NaN</td>\n",
       "      <td>NaN</td>\n",
       "      <td>NaN</td>\n",
       "      <td>NaN</td>\n",
       "      <td>NaN</td>\n",
       "      <td>NaN</td>\n",
       "      <td>NaN</td>\n",
       "      <td>NaN</td>\n",
       "      <td>NaN</td>\n",
       "      <td>NaN</td>\n",
       "      <td>NaN</td>\n",
       "      <td>NaN</td>\n",
       "      <td>NaN</td>\n",
       "      <td>NaN</td>\n",
       "      <td>NaN</td>\n",
       "      <td>NaN</td>\n",
       "      <td>NaN</td>\n",
       "      <td>NaN</td>\n",
       "    </tr>\n",
       "    <tr>\n",
       "      <th>1</th>\n",
       "      <td>6807608</td>\n",
       "      <td>GRANITE CITY</td>\n",
       "      <td>IL</td>\n",
       "      <td>62040</td>\n",
       "      <td>NaN</td>\n",
       "      <td>NaN</td>\n",
       "      <td>RP</td>\n",
       "      <td>ENG</td>\n",
       "      <td>R</td>\n",
       "      <td>NaN</td>\n",
       "      <td>2012-03-05 00:00:00.000</td>\n",
       "      <td>3.0</td>\n",
       "      <td>RMV</td>\n",
       "      <td>KAN</td>\n",
       "      <td>2012-08-16 00:00:00.000</td>\n",
       "      <td>1300.0</td>\n",
       "      <td>M</td>\n",
       "      <td>NaN</td>\n",
       "      <td>NaN</td>\n",
       "      <td>NaN</td>\n",
       "      <td>NaN</td>\n",
       "      <td>NaN</td>\n",
       "      <td>NaN</td>\n",
       "      <td>1996-02-19 00:00:00.000</td>\n",
       "      <td>NaN</td>\n",
       "      <td>7/1969</td>\n",
       "      <td>NaN</td>\n",
       "      <td>NaN</td>\n",
       "      <td>2012-02-27 12:50:34.993</td>\n",
       "      <td>NaN</td>\n",
       "      <td>NaN</td>\n",
       "      <td>2011-07-19 00:00:00.000</td>\n",
       "      <td>2011-08-24 00:00:00.000</td>\n",
       "      <td>0.0</td>\n",
       "      <td>NaN</td>\n",
       "      <td>NaN</td>\n",
       "      <td>NaN</td>\n",
       "      <td>NaN</td>\n",
       "      <td>NaN</td>\n",
       "    </tr>\n",
       "    <tr>\n",
       "      <th>2</th>\n",
       "      <td>6807609</td>\n",
       "      <td>PEARSALL</td>\n",
       "      <td>TX</td>\n",
       "      <td>78061</td>\n",
       "      <td>NaN</td>\n",
       "      <td>NaN</td>\n",
       "      <td>MX</td>\n",
       "      <td>SP</td>\n",
       "      <td>D</td>\n",
       "      <td>NaN</td>\n",
       "      <td>2020-04-08 00:00:00.000</td>\n",
       "      <td>0.0</td>\n",
       "      <td>RMV</td>\n",
       "      <td>PSD</td>\n",
       "      <td>2021-07-19 00:00:00.000</td>\n",
       "      <td>1330.0</td>\n",
       "      <td>M</td>\n",
       "      <td>NaN</td>\n",
       "      <td>NaN</td>\n",
       "      <td>NaN</td>\n",
       "      <td>NaN</td>\n",
       "      <td>NaN</td>\n",
       "      <td>NaN</td>\n",
       "      <td>NaN</td>\n",
       "      <td>NaN</td>\n",
       "      <td>NaN</td>\n",
       "      <td>NaN</td>\n",
       "      <td>NaN</td>\n",
       "      <td>2020-02-10 17:03:43.040</td>\n",
       "      <td>NaN</td>\n",
       "      <td>NaN</td>\n",
       "      <td>2020-02-03 00:00:00.000</td>\n",
       "      <td>NaN</td>\n",
       "      <td>NaN</td>\n",
       "      <td>NaN</td>\n",
       "      <td>NaN</td>\n",
       "      <td>NaN</td>\n",
       "      <td>NaN</td>\n",
       "      <td>NaN</td>\n",
       "    </tr>\n",
       "    <tr>\n",
       "      <th>3</th>\n",
       "      <td>6807610</td>\n",
       "      <td>ANNANDALE</td>\n",
       "      <td>VA</td>\n",
       "      <td>22003</td>\n",
       "      <td>NaN</td>\n",
       "      <td>NaN</td>\n",
       "      <td>ES</td>\n",
       "      <td>SP</td>\n",
       "      <td>R</td>\n",
       "      <td>NaN</td>\n",
       "      <td>2023-01-17 00:00:00.000</td>\n",
       "      <td>0.0</td>\n",
       "      <td>RMV</td>\n",
       "      <td>ANN</td>\n",
       "      <td>2024-09-09 00:00:00.000</td>\n",
       "      <td>1430.0</td>\n",
       "      <td>I</td>\n",
       "      <td>NaN</td>\n",
       "      <td>NaN</td>\n",
       "      <td>NaN</td>\n",
       "      <td>NaN</td>\n",
       "      <td>NaN</td>\n",
       "      <td>NaN</td>\n",
       "      <td>NaN</td>\n",
       "      <td>E</td>\n",
       "      <td>5/1971</td>\n",
       "      <td>NaN</td>\n",
       "      <td>NaN</td>\n",
       "      <td>2023-04-28 10:46:46.000</td>\n",
       "      <td>NaN</td>\n",
       "      <td>NaN</td>\n",
       "      <td>2011-07-07 00:00:00.000</td>\n",
       "      <td>2011-09-15 00:00:00.000</td>\n",
       "      <td>NaN</td>\n",
       "      <td>NaN</td>\n",
       "      <td>NaN</td>\n",
       "      <td>NaN</td>\n",
       "      <td>NaN</td>\n",
       "      <td>NaN</td>\n",
       "    </tr>\n",
       "    <tr>\n",
       "      <th>4</th>\n",
       "      <td>6807611</td>\n",
       "      <td>ORANGE</td>\n",
       "      <td>CA</td>\n",
       "      <td>92868</td>\n",
       "      <td>NaN</td>\n",
       "      <td>NaN</td>\n",
       "      <td>MX</td>\n",
       "      <td>SP</td>\n",
       "      <td>D</td>\n",
       "      <td>NaN</td>\n",
       "      <td>NaN</td>\n",
       "      <td>NaN</td>\n",
       "      <td>RMV</td>\n",
       "      <td>NLA</td>\n",
       "      <td>NaN</td>\n",
       "      <td>NaN</td>\n",
       "      <td>NaN</td>\n",
       "      <td>NaN</td>\n",
       "      <td>NaN</td>\n",
       "      <td>NaN</td>\n",
       "      <td>NaN</td>\n",
       "      <td>NaN</td>\n",
       "      <td>NaN</td>\n",
       "      <td>NaN</td>\n",
       "      <td>NaN</td>\n",
       "      <td>7/1981</td>\n",
       "      <td>NaN</td>\n",
       "      <td>NaN</td>\n",
       "      <td>NaN</td>\n",
       "      <td>NaN</td>\n",
       "      <td>NaN</td>\n",
       "      <td>NaN</td>\n",
       "      <td>NaN</td>\n",
       "      <td>NaN</td>\n",
       "      <td>NaN</td>\n",
       "      <td>NaN</td>\n",
       "      <td>NaN</td>\n",
       "      <td>NaN</td>\n",
       "      <td>NaN</td>\n",
       "    </tr>\n",
       "  </tbody>\n",
       "</table>\n",
       "</div>"
      ],
      "text/plain": [
       "   IDNCASE    ALIEN_CITY  ... DETENTION_FACILITY_TYPE CASEPRIORITY_CODE\n",
       "0  6807606        TACOMA  ...                     NaN               NaN\n",
       "1  6807608  GRANITE CITY  ...                     NaN               NaN\n",
       "2  6807609      PEARSALL  ...                     NaN               NaN\n",
       "3  6807610     ANNANDALE  ...                     NaN               NaN\n",
       "4  6807611        ORANGE  ...                     NaN               NaN\n",
       "\n",
       "[5 rows x 39 columns]"
      ]
     },
     "execution_count": 496,
     "metadata": {},
     "output_type": "execute_result"
    }
   ],
   "source": [
    "cases.head()"
   ]
  },
  {
   "cell_type": "code",
   "execution_count": 497,
   "id": "48cb779a",
   "metadata": {},
   "outputs": [
    {
     "name": "stdout",
     "output_type": "stream",
     "text": [
      "<class 'pandas.core.frame.DataFrame'>\n",
      "RangeIndex: 1000 entries, 0 to 999\n",
      "Data columns (total 39 columns):\n",
      " #   Column                   Non-Null Count  Dtype  \n",
      "---  ------                   --------------  -----  \n",
      " 0   IDNCASE                  1000 non-null   int64  \n",
      " 1   ALIEN_CITY               998 non-null    object \n",
      " 2   ALIEN_STATE              999 non-null    object \n",
      " 3   ALIEN_ZIPCODE            999 non-null    object \n",
      " 4   UPDATED_ZIPCODE          6 non-null      float64\n",
      " 5   UPDATED_CITY             6 non-null      object \n",
      " 6   NAT                      983 non-null    object \n",
      " 7   LANG                     985 non-null    object \n",
      " 8   CUSTODY                  985 non-null    object \n",
      " 9   SITE_TYPE                601 non-null    object \n",
      " 10  E_28_DATE                485 non-null    object \n",
      " 11  ATTY_NBR                 775 non-null    float64\n",
      " 12  CASE_TYPE                1000 non-null   object \n",
      " 13  UPDATE_SITE              985 non-null    object \n",
      " 14  LATEST_HEARING           817 non-null    object \n",
      " 15  LATEST_TIME              817 non-null    float64\n",
      " 16  LATEST_CAL_TYPE          818 non-null    object \n",
      " 17  UP_BOND_DATE             0 non-null      float64\n",
      " 18  UP_BOND_RSN              338 non-null    object \n",
      " 19  CORRECTIONAL_FAC         344 non-null    object \n",
      " 20  RELEASE_MONTH            442 non-null    object \n",
      " 21  RELEASE_YEAR             442 non-null    object \n",
      " 22  INMATE_HOUSING           366 non-null    object \n",
      " 23  DATE_OF_ENTRY            723 non-null    object \n",
      " 24  C_ASY_TYPE               525 non-null    object \n",
      " 25  C_BIRTHDATE              249 non-null    object \n",
      " 26  C_RELEASE_DATE           39 non-null     object \n",
      " 27  UPDATED_STATE            6 non-null      object \n",
      " 28  ADDRESS_CHANGEDON        267 non-null    object \n",
      " 29  ZBOND_MRG_FLAG           338 non-null    object \n",
      " 30  Sex                      253 non-null    object \n",
      " 31  DATE_DETAINED            195 non-null    object \n",
      " 32  DATE_RELEASED            78 non-null     object \n",
      " 33  LPR                      106 non-null    float64\n",
      " 34  DETENTION_DATE           0 non-null      float64\n",
      " 35  DETENTION_LOCATION       0 non-null      float64\n",
      " 36  DCO_LOCATION             0 non-null      float64\n",
      " 37  DETENTION_FACILITY_TYPE  0 non-null      float64\n",
      " 38  CASEPRIORITY_CODE        13 non-null     object \n",
      "dtypes: float64(9), int64(1), object(29)\n",
      "memory usage: 304.8+ KB\n"
     ]
    }
   ],
   "source": [
    "cases.info()"
   ]
  },
  {
   "cell_type": "code",
   "execution_count": 498,
   "id": "7ebe49ca",
   "metadata": {},
   "outputs": [
    {
     "data": {
      "text/plain": [
       "Index(['IDNCASE', 'ALIEN_CITY', 'ALIEN_STATE', 'ALIEN_ZIPCODE',\n",
       "       'UPDATED_ZIPCODE', 'UPDATED_CITY', 'NAT', 'LANG', 'CUSTODY',\n",
       "       'SITE_TYPE', 'E_28_DATE', 'ATTY_NBR', 'CASE_TYPE', 'UPDATE_SITE',\n",
       "       'LATEST_HEARING', 'LATEST_TIME', 'LATEST_CAL_TYPE', 'UP_BOND_DATE',\n",
       "       'UP_BOND_RSN', 'CORRECTIONAL_FAC', 'RELEASE_MONTH', 'RELEASE_YEAR',\n",
       "       'INMATE_HOUSING', 'DATE_OF_ENTRY', 'C_ASY_TYPE', 'C_BIRTHDATE',\n",
       "       'C_RELEASE_DATE', 'UPDATED_STATE', 'ADDRESS_CHANGEDON',\n",
       "       'ZBOND_MRG_FLAG', 'Sex', 'DATE_DETAINED', 'DATE_RELEASED', 'LPR',\n",
       "       'DETENTION_DATE', 'DETENTION_LOCATION', 'DCO_LOCATION',\n",
       "       'DETENTION_FACILITY_TYPE', 'CASEPRIORITY_CODE'],\n",
       "      dtype='object')"
      ]
     },
     "execution_count": 498,
     "metadata": {},
     "output_type": "execute_result"
    }
   ],
   "source": [
    "cases.columns"
   ]
  },
  {
   "cell_type": "markdown",
   "id": "11b75805",
   "metadata": {},
   "source": [
    "### Selected Features for EDA – `A_TblCase`\n",
    "\n",
    "The list of selected columns below was discussed earlier in the documentation for the source dataset. It represents the core case-level features relevant to our analysis of juvenile immigration cases.\n",
    "\n",
    "These fields include:\n",
    "\n",
    "- Demographic information (e.g., `GENDER`, `NAT`, `LANG`)  \n",
    "- Case characteristics (e.g., `CASE_TYPE`, `CUSTODY`, `LATEST_HEARING`)  \n",
    "- Key dates (e.g., `DATE_OF_ENTRY`, `DETENTION_DATE`, `C_BIRTHDATE`)\n",
    "- representation status: While `ATTY_NBR` exists as a legacy field in A_TblCase, accurate and up-to-date representation data should be derived from the `tbl_RepsAssigned` table using the IDNCASE key."
   ]
  },
  {
   "cell_type": "code",
   "execution_count": 499,
   "id": "2f51ac3d",
   "metadata": {},
   "outputs": [],
   "source": [
    "selected_columns = [\n",
    "    \"IDNCASE\",\n",
    "    \"NAT\",\n",
    "    \"LANG\",\n",
    "    \"CUSTODY\",\n",
    "    \"CASE_TYPE\",\n",
    "    \"LATEST_HEARING\",\n",
    "    \"LATEST_CAL_TYPE\",\n",
    "    \"DATE_OF_ENTRY\",\n",
    "    \"C_BIRTHDATE\",\n",
    "    \"Sex\",\n",
    "    \"DATE_DETAINED\",\n",
    "    \"DATE_RELEASED\",\n",
    "    \"DETENTION_DATE\",\n",
    "]"
   ]
  },
  {
   "cell_type": "code",
   "execution_count": 500,
   "id": "adfb9c3c",
   "metadata": {},
   "outputs": [],
   "source": [
    "cases = cases[selected_columns]"
   ]
  },
  {
   "cell_type": "code",
   "execution_count": 501,
   "id": "b6e68d35",
   "metadata": {},
   "outputs": [
    {
     "data": {
      "text/html": [
       "<div>\n",
       "<style scoped>\n",
       "    .dataframe tbody tr th:only-of-type {\n",
       "        vertical-align: middle;\n",
       "    }\n",
       "\n",
       "    .dataframe tbody tr th {\n",
       "        vertical-align: top;\n",
       "    }\n",
       "\n",
       "    .dataframe thead th {\n",
       "        text-align: right;\n",
       "    }\n",
       "</style>\n",
       "<table border=\"1\" class=\"dataframe\">\n",
       "  <thead>\n",
       "    <tr style=\"text-align: right;\">\n",
       "      <th></th>\n",
       "      <th>IDNCASE</th>\n",
       "      <th>NAT</th>\n",
       "      <th>LANG</th>\n",
       "      <th>CUSTODY</th>\n",
       "      <th>CASE_TYPE</th>\n",
       "      <th>LATEST_HEARING</th>\n",
       "      <th>LATEST_CAL_TYPE</th>\n",
       "      <th>DATE_OF_ENTRY</th>\n",
       "      <th>C_BIRTHDATE</th>\n",
       "      <th>Sex</th>\n",
       "      <th>DATE_DETAINED</th>\n",
       "      <th>DATE_RELEASED</th>\n",
       "      <th>DETENTION_DATE</th>\n",
       "    </tr>\n",
       "  </thead>\n",
       "  <tbody>\n",
       "    <tr>\n",
       "      <th>0</th>\n",
       "      <td>6807606</td>\n",
       "      <td>MX</td>\n",
       "      <td>SP</td>\n",
       "      <td>D</td>\n",
       "      <td>RMV</td>\n",
       "      <td>NaN</td>\n",
       "      <td>NaN</td>\n",
       "      <td>NaN</td>\n",
       "      <td>NaN</td>\n",
       "      <td>NaN</td>\n",
       "      <td>NaN</td>\n",
       "      <td>NaN</td>\n",
       "      <td>NaN</td>\n",
       "    </tr>\n",
       "    <tr>\n",
       "      <th>1</th>\n",
       "      <td>6807608</td>\n",
       "      <td>RP</td>\n",
       "      <td>ENG</td>\n",
       "      <td>R</td>\n",
       "      <td>RMV</td>\n",
       "      <td>2012-08-16 00:00:00.000</td>\n",
       "      <td>M</td>\n",
       "      <td>1996-02-19 00:00:00.000</td>\n",
       "      <td>7/1969</td>\n",
       "      <td>NaN</td>\n",
       "      <td>2011-07-19 00:00:00.000</td>\n",
       "      <td>2011-08-24 00:00:00.000</td>\n",
       "      <td>NaN</td>\n",
       "    </tr>\n",
       "    <tr>\n",
       "      <th>2</th>\n",
       "      <td>6807609</td>\n",
       "      <td>MX</td>\n",
       "      <td>SP</td>\n",
       "      <td>D</td>\n",
       "      <td>RMV</td>\n",
       "      <td>2021-07-19 00:00:00.000</td>\n",
       "      <td>M</td>\n",
       "      <td>NaN</td>\n",
       "      <td>NaN</td>\n",
       "      <td>NaN</td>\n",
       "      <td>2020-02-03 00:00:00.000</td>\n",
       "      <td>NaN</td>\n",
       "      <td>NaN</td>\n",
       "    </tr>\n",
       "    <tr>\n",
       "      <th>3</th>\n",
       "      <td>6807610</td>\n",
       "      <td>ES</td>\n",
       "      <td>SP</td>\n",
       "      <td>R</td>\n",
       "      <td>RMV</td>\n",
       "      <td>2024-09-09 00:00:00.000</td>\n",
       "      <td>I</td>\n",
       "      <td>NaN</td>\n",
       "      <td>5/1971</td>\n",
       "      <td>NaN</td>\n",
       "      <td>2011-07-07 00:00:00.000</td>\n",
       "      <td>2011-09-15 00:00:00.000</td>\n",
       "      <td>NaN</td>\n",
       "    </tr>\n",
       "    <tr>\n",
       "      <th>4</th>\n",
       "      <td>6807611</td>\n",
       "      <td>MX</td>\n",
       "      <td>SP</td>\n",
       "      <td>D</td>\n",
       "      <td>RMV</td>\n",
       "      <td>NaN</td>\n",
       "      <td>NaN</td>\n",
       "      <td>NaN</td>\n",
       "      <td>7/1981</td>\n",
       "      <td>NaN</td>\n",
       "      <td>NaN</td>\n",
       "      <td>NaN</td>\n",
       "      <td>NaN</td>\n",
       "    </tr>\n",
       "  </tbody>\n",
       "</table>\n",
       "</div>"
      ],
      "text/plain": [
       "   IDNCASE NAT  ...            DATE_RELEASED DETENTION_DATE\n",
       "0  6807606  MX  ...                      NaN            NaN\n",
       "1  6807608  RP  ...  2011-08-24 00:00:00.000            NaN\n",
       "2  6807609  MX  ...                      NaN            NaN\n",
       "3  6807610  ES  ...  2011-09-15 00:00:00.000            NaN\n",
       "4  6807611  MX  ...                      NaN            NaN\n",
       "\n",
       "[5 rows x 13 columns]"
      ]
     },
     "execution_count": 501,
     "metadata": {},
     "output_type": "execute_result"
    }
   ],
   "source": [
    "cases.head()"
   ]
  },
  {
   "cell_type": "code",
   "execution_count": 502,
   "id": "aacbbf42",
   "metadata": {},
   "outputs": [
    {
     "name": "stdout",
     "output_type": "stream",
     "text": [
      "<class 'pandas.core.frame.DataFrame'>\n",
      "RangeIndex: 1000 entries, 0 to 999\n",
      "Data columns (total 13 columns):\n",
      " #   Column           Non-Null Count  Dtype  \n",
      "---  ------           --------------  -----  \n",
      " 0   IDNCASE          1000 non-null   int64  \n",
      " 1   NAT              983 non-null    object \n",
      " 2   LANG             985 non-null    object \n",
      " 3   CUSTODY          985 non-null    object \n",
      " 4   CASE_TYPE        1000 non-null   object \n",
      " 5   LATEST_HEARING   817 non-null    object \n",
      " 6   LATEST_CAL_TYPE  818 non-null    object \n",
      " 7   DATE_OF_ENTRY    723 non-null    object \n",
      " 8   C_BIRTHDATE      249 non-null    object \n",
      " 9   Sex              253 non-null    object \n",
      " 10  DATE_DETAINED    195 non-null    object \n",
      " 11  DATE_RELEASED    78 non-null     object \n",
      " 12  DETENTION_DATE   0 non-null      float64\n",
      "dtypes: float64(1), int64(1), object(11)\n",
      "memory usage: 101.7+ KB\n"
     ]
    }
   ],
   "source": [
    "cases.info()"
   ]
  },
  {
   "cell_type": "markdown",
   "id": "2a812a28",
   "metadata": {},
   "source": [
    "#### Note on `DETENTION_DATE`\n",
    "\n",
    "This field is entirely null in the sample, but we'll reassess after  \n",
    "loading the full dataset."
   ]
  },
  {
   "cell_type": "code",
   "execution_count": 503,
   "id": "e932d3cd",
   "metadata": {},
   "outputs": [
    {
     "data": {
      "text/plain": [
       "IDNCASE              int64\n",
       "NAT                 object\n",
       "LANG                object\n",
       "CUSTODY             object\n",
       "CASE_TYPE           object\n",
       "LATEST_HEARING      object\n",
       "LATEST_CAL_TYPE     object\n",
       "DATE_OF_ENTRY       object\n",
       "C_BIRTHDATE         object\n",
       "Sex                 object\n",
       "DATE_DETAINED       object\n",
       "DATE_RELEASED       object\n",
       "DETENTION_DATE     float64\n",
       "dtype: object"
      ]
     },
     "execution_count": 503,
     "metadata": {},
     "output_type": "execute_result"
    }
   ],
   "source": [
    "cases.dtypes"
   ]
  },
  {
   "cell_type": "markdown",
   "id": "c08b9fa7",
   "metadata": {},
   "source": [
    "#### Specifying Column Data Types\n",
    "\n",
    "- `Int64`: Used for `IDNCASE` to allow nullable integer values.\n",
    "- `category`: Applied to string columns with repeated values  \n",
    "  (e.g., `NAT`, `LANG`, `CUSTODY`, `CASE_TYPE`, `LATEST_CAL_TYPE`, `GENDER`)  \n",
    "  for efficient storage and faster processing.\n",
    "- `string`: Used for `C_BIRTHDATE` since it uses a partial date format (`MM/YYYY`)  \n",
    "  and may contain nulls.\n",
    "- `float64`: Used for `DETENTION_DATE`, which appears to contain only nulls in the  \n",
    "  sample but may include numeric timestamps or intervals in the full dataset."
   ]
  },
  {
   "cell_type": "code",
   "execution_count": 504,
   "id": "bba89a2f",
   "metadata": {},
   "outputs": [],
   "source": [
    "dtype = {\n",
    "    \"IDNCASE\": \"Int64\",\n",
    "    \"NAT\": \"category\",\n",
    "    \"LANG\": \"category\",\n",
    "    \"CUSTODY\": \"category\",\n",
    "    \"CASE_TYPE\": \"category\",\n",
    "    \"LATEST_CAL_TYPE\": \"category\",\n",
    "    \"Sex\": \"category\",\n",
    "    \"C_BIRTHDATE\": \"string\",\n",
    "    \"DETENTION_DATE\": \"float64\",\n",
    "}"
   ]
  },
  {
   "cell_type": "code",
   "execution_count": 505,
   "id": "29dc9806",
   "metadata": {},
   "outputs": [],
   "source": [
    "cases = pd.read_csv(\n",
    "    filepath_or_buffer=case_path,\n",
    "    delimiter=\"\\t\",\n",
    "    encoding=\"utf-8\",\n",
    "    on_bad_lines=\"skip\",\n",
    "    usecols=selected_columns,\n",
    "    dtype=dtype,\n",
    "    parse_dates=[\"LATEST_HEARING\", \"DATE_OF_ENTRY\", \"DATE_DETAINED\", \"DATE_RELEASED\"],\n",
    "    low_memory=False,\n",
    "    # skiprows=[11711221],  # skip malformed row: C error - EOF inside string on this line\n",
    ")"
   ]
  },
  {
   "cell_type": "markdown",
   "id": "0ed0e49a",
   "metadata": {},
   "source": [
    "### Data Inspection"
   ]
  },
  {
   "cell_type": "code",
   "execution_count": 506,
   "id": "ec1375ba",
   "metadata": {},
   "outputs": [
    {
     "data": {
      "text/html": [
       "<div>\n",
       "<style scoped>\n",
       "    .dataframe tbody tr th:only-of-type {\n",
       "        vertical-align: middle;\n",
       "    }\n",
       "\n",
       "    .dataframe tbody tr th {\n",
       "        vertical-align: top;\n",
       "    }\n",
       "\n",
       "    .dataframe thead th {\n",
       "        text-align: right;\n",
       "    }\n",
       "</style>\n",
       "<table border=\"1\" class=\"dataframe\">\n",
       "  <thead>\n",
       "    <tr style=\"text-align: right;\">\n",
       "      <th></th>\n",
       "      <th>IDNCASE</th>\n",
       "      <th>NAT</th>\n",
       "      <th>LANG</th>\n",
       "      <th>CUSTODY</th>\n",
       "      <th>CASE_TYPE</th>\n",
       "      <th>LATEST_HEARING</th>\n",
       "      <th>LATEST_CAL_TYPE</th>\n",
       "      <th>DATE_OF_ENTRY</th>\n",
       "      <th>C_BIRTHDATE</th>\n",
       "      <th>Sex</th>\n",
       "      <th>DATE_DETAINED</th>\n",
       "      <th>DATE_RELEASED</th>\n",
       "      <th>DETENTION_DATE</th>\n",
       "    </tr>\n",
       "  </thead>\n",
       "  <tbody>\n",
       "    <tr>\n",
       "      <th>0</th>\n",
       "      <td>6807606</td>\n",
       "      <td>MX</td>\n",
       "      <td>SP</td>\n",
       "      <td>D</td>\n",
       "      <td>RMV</td>\n",
       "      <td>NaN</td>\n",
       "      <td>NaN</td>\n",
       "      <td>NaN</td>\n",
       "      <td>&lt;NA&gt;</td>\n",
       "      <td>NaN</td>\n",
       "      <td>NaN</td>\n",
       "      <td>NaN</td>\n",
       "      <td>NaN</td>\n",
       "    </tr>\n",
       "    <tr>\n",
       "      <th>1</th>\n",
       "      <td>6807608</td>\n",
       "      <td>RP</td>\n",
       "      <td>ENG</td>\n",
       "      <td>R</td>\n",
       "      <td>RMV</td>\n",
       "      <td>2012-08-16 00:00:00.000</td>\n",
       "      <td>M</td>\n",
       "      <td>1996-02-19 00:00:00.000</td>\n",
       "      <td>7/1969</td>\n",
       "      <td>NaN</td>\n",
       "      <td>2011-07-19 00:00:00.000</td>\n",
       "      <td>2011-08-24 00:00:00.000</td>\n",
       "      <td>NaN</td>\n",
       "    </tr>\n",
       "    <tr>\n",
       "      <th>2</th>\n",
       "      <td>6807609</td>\n",
       "      <td>MX</td>\n",
       "      <td>SP</td>\n",
       "      <td>D</td>\n",
       "      <td>RMV</td>\n",
       "      <td>2021-07-19 00:00:00.000</td>\n",
       "      <td>M</td>\n",
       "      <td>NaN</td>\n",
       "      <td>&lt;NA&gt;</td>\n",
       "      <td>NaN</td>\n",
       "      <td>2020-02-03 00:00:00.000</td>\n",
       "      <td>NaN</td>\n",
       "      <td>NaN</td>\n",
       "    </tr>\n",
       "    <tr>\n",
       "      <th>3</th>\n",
       "      <td>6807610</td>\n",
       "      <td>ES</td>\n",
       "      <td>SP</td>\n",
       "      <td>R</td>\n",
       "      <td>RMV</td>\n",
       "      <td>2024-09-09 00:00:00.000</td>\n",
       "      <td>I</td>\n",
       "      <td>NaN</td>\n",
       "      <td>5/1971</td>\n",
       "      <td>NaN</td>\n",
       "      <td>2011-07-07 00:00:00.000</td>\n",
       "      <td>2011-09-15 00:00:00.000</td>\n",
       "      <td>NaN</td>\n",
       "    </tr>\n",
       "    <tr>\n",
       "      <th>4</th>\n",
       "      <td>6807611</td>\n",
       "      <td>MX</td>\n",
       "      <td>SP</td>\n",
       "      <td>D</td>\n",
       "      <td>RMV</td>\n",
       "      <td>NaN</td>\n",
       "      <td>NaN</td>\n",
       "      <td>NaN</td>\n",
       "      <td>7/1981</td>\n",
       "      <td>NaN</td>\n",
       "      <td>NaN</td>\n",
       "      <td>NaN</td>\n",
       "      <td>NaN</td>\n",
       "    </tr>\n",
       "  </tbody>\n",
       "</table>\n",
       "</div>"
      ],
      "text/plain": [
       "   IDNCASE NAT  ...            DATE_RELEASED DETENTION_DATE\n",
       "0  6807606  MX  ...                      NaN            NaN\n",
       "1  6807608  RP  ...  2011-08-24 00:00:00.000            NaN\n",
       "2  6807609  MX  ...                      NaN            NaN\n",
       "3  6807610  ES  ...  2011-09-15 00:00:00.000            NaN\n",
       "4  6807611  MX  ...                      NaN            NaN\n",
       "\n",
       "[5 rows x 13 columns]"
      ]
     },
     "execution_count": 506,
     "metadata": {},
     "output_type": "execute_result"
    }
   ],
   "source": [
    "cases.head()"
   ]
  },
  {
   "cell_type": "code",
   "execution_count": 507,
   "id": "2a6fe9bd",
   "metadata": {},
   "outputs": [
    {
     "name": "stdout",
     "output_type": "stream",
     "text": [
      "<class 'pandas.core.frame.DataFrame'>\n",
      "RangeIndex: 12124239 entries, 0 to 12124238\n",
      "Data columns (total 13 columns):\n",
      " #   Column           Dtype   \n",
      "---  ------           -----   \n",
      " 0   IDNCASE          Int64   \n",
      " 1   NAT              category\n",
      " 2   LANG             category\n",
      " 3   CUSTODY          category\n",
      " 4   CASE_TYPE        category\n",
      " 5   LATEST_HEARING   object  \n",
      " 6   LATEST_CAL_TYPE  category\n",
      " 7   DATE_OF_ENTRY    object  \n",
      " 8   C_BIRTHDATE      string  \n",
      " 9   Sex              category\n",
      " 10  DATE_DETAINED    object  \n",
      " 11  DATE_RELEASED    object  \n",
      " 12  DETENTION_DATE   float64 \n",
      "dtypes: Int64(1), category(6), float64(1), object(4), string(1)\n",
      "memory usage: 751.6+ MB\n"
     ]
    }
   ],
   "source": [
    "cases.info()"
   ]
  },
  {
   "cell_type": "code",
   "execution_count": 508,
   "id": "20bf1c35",
   "metadata": {},
   "outputs": [
    {
     "data": {
      "text/plain": [
       "(12124239, 13)"
      ]
     },
     "execution_count": 508,
     "metadata": {},
     "output_type": "execute_result"
    }
   ],
   "source": [
    "cases.shape"
   ]
  },
  {
   "cell_type": "markdown",
   "id": "7a868b39",
   "metadata": {},
   "source": [
    "#### Filtering for Juvenile Cases\n",
    "\n",
    "The current `cases` DataFrame includes both adult and juvenile records.  \n",
    "To isolate only juvenile cases, we will filter it using the list of  \n",
    "`idnCase` values from `tbl_JuvenileHistory`, without performing a full merge."
   ]
  },
  {
   "cell_type": "code",
   "execution_count": 509,
   "id": "0be3f313",
   "metadata": {},
   "outputs": [],
   "source": [
    "juvenile_cases = cases[cases[\"IDNCASE\"].isin(juvenile_case_ids)].reset_index(drop=True)"
   ]
  },
  {
   "cell_type": "markdown",
   "id": "f074e344",
   "metadata": {},
   "source": [
    "#### Category Cleanup\n",
    "\n",
    "Removed unused category levels after filtering to ensure all categorical columns reflect only the values present in the `juvenile_cases` subset."
   ]
  },
  {
   "cell_type": "code",
   "execution_count": 510,
   "id": "52b81ac1",
   "metadata": {},
   "outputs": [],
   "source": [
    "for col in juvenile_cases.select_dtypes(include=\"category\"):\n",
    "    juvenile_cases[col] = juvenile_cases[col].cat.remove_unused_categories()"
   ]
  },
  {
   "cell_type": "code",
   "execution_count": 511,
   "id": "301b7ea5",
   "metadata": {},
   "outputs": [
    {
     "data": {
      "text/html": [
       "<div>\n",
       "<style scoped>\n",
       "    .dataframe tbody tr th:only-of-type {\n",
       "        vertical-align: middle;\n",
       "    }\n",
       "\n",
       "    .dataframe tbody tr th {\n",
       "        vertical-align: top;\n",
       "    }\n",
       "\n",
       "    .dataframe thead th {\n",
       "        text-align: right;\n",
       "    }\n",
       "</style>\n",
       "<table border=\"1\" class=\"dataframe\">\n",
       "  <thead>\n",
       "    <tr style=\"text-align: right;\">\n",
       "      <th></th>\n",
       "      <th>IDNCASE</th>\n",
       "      <th>NAT</th>\n",
       "      <th>LANG</th>\n",
       "      <th>CUSTODY</th>\n",
       "      <th>CASE_TYPE</th>\n",
       "      <th>LATEST_HEARING</th>\n",
       "      <th>LATEST_CAL_TYPE</th>\n",
       "      <th>DATE_OF_ENTRY</th>\n",
       "      <th>C_BIRTHDATE</th>\n",
       "      <th>Sex</th>\n",
       "      <th>DATE_DETAINED</th>\n",
       "      <th>DATE_RELEASED</th>\n",
       "      <th>DETENTION_DATE</th>\n",
       "    </tr>\n",
       "  </thead>\n",
       "  <tbody>\n",
       "    <tr>\n",
       "      <th>0</th>\n",
       "      <td>6807609</td>\n",
       "      <td>MX</td>\n",
       "      <td>SP</td>\n",
       "      <td>D</td>\n",
       "      <td>RMV</td>\n",
       "      <td>2021-07-19 00:00:00.000</td>\n",
       "      <td>M</td>\n",
       "      <td>NaN</td>\n",
       "      <td>&lt;NA&gt;</td>\n",
       "      <td>NaN</td>\n",
       "      <td>2020-02-03 00:00:00.000</td>\n",
       "      <td>NaN</td>\n",
       "      <td>NaN</td>\n",
       "    </tr>\n",
       "    <tr>\n",
       "      <th>1</th>\n",
       "      <td>6807621</td>\n",
       "      <td>TZ</td>\n",
       "      <td>SWA</td>\n",
       "      <td>D</td>\n",
       "      <td>RMV</td>\n",
       "      <td>NaN</td>\n",
       "      <td>NaN</td>\n",
       "      <td>NaN</td>\n",
       "      <td>&lt;NA&gt;</td>\n",
       "      <td>NaN</td>\n",
       "      <td>2011-09-27 00:00:00.000</td>\n",
       "      <td>NaN</td>\n",
       "      <td>NaN</td>\n",
       "    </tr>\n",
       "    <tr>\n",
       "      <th>2</th>\n",
       "      <td>6807631</td>\n",
       "      <td>HO</td>\n",
       "      <td>SP</td>\n",
       "      <td>D</td>\n",
       "      <td>RMV</td>\n",
       "      <td>NaN</td>\n",
       "      <td>NaN</td>\n",
       "      <td>2011-07-01 00:00:00.000</td>\n",
       "      <td>&lt;NA&gt;</td>\n",
       "      <td>NaN</td>\n",
       "      <td>2011-10-19 00:00:00.000</td>\n",
       "      <td>NaN</td>\n",
       "      <td>NaN</td>\n",
       "    </tr>\n",
       "    <tr>\n",
       "      <th>3</th>\n",
       "      <td>6807676</td>\n",
       "      <td>MX</td>\n",
       "      <td>SP</td>\n",
       "      <td>N</td>\n",
       "      <td>RMV</td>\n",
       "      <td>NaN</td>\n",
       "      <td>NaN</td>\n",
       "      <td>NaN</td>\n",
       "      <td>&lt;NA&gt;</td>\n",
       "      <td>NaN</td>\n",
       "      <td>NaN</td>\n",
       "      <td>NaN</td>\n",
       "      <td>NaN</td>\n",
       "    </tr>\n",
       "    <tr>\n",
       "      <th>4</th>\n",
       "      <td>6807683</td>\n",
       "      <td>MX</td>\n",
       "      <td>ENG</td>\n",
       "      <td>N</td>\n",
       "      <td>RMV</td>\n",
       "      <td>2016-03-10 00:00:00.000</td>\n",
       "      <td>M</td>\n",
       "      <td>NaN</td>\n",
       "      <td>&lt;NA&gt;</td>\n",
       "      <td>NaN</td>\n",
       "      <td>NaN</td>\n",
       "      <td>NaN</td>\n",
       "      <td>NaN</td>\n",
       "    </tr>\n",
       "  </tbody>\n",
       "</table>\n",
       "</div>"
      ],
      "text/plain": [
       "   IDNCASE NAT LANG  ...            DATE_DETAINED DATE_RELEASED DETENTION_DATE\n",
       "0  6807609  MX   SP  ...  2020-02-03 00:00:00.000           NaN            NaN\n",
       "1  6807621  TZ  SWA  ...  2011-09-27 00:00:00.000           NaN            NaN\n",
       "2  6807631  HO   SP  ...  2011-10-19 00:00:00.000           NaN            NaN\n",
       "3  6807676  MX   SP  ...                      NaN           NaN            NaN\n",
       "4  6807683  MX  ENG  ...                      NaN           NaN            NaN\n",
       "\n",
       "[5 rows x 13 columns]"
      ]
     },
     "execution_count": 511,
     "metadata": {},
     "output_type": "execute_result"
    }
   ],
   "source": [
    "juvenile_cases.head()"
   ]
  },
  {
   "cell_type": "code",
   "execution_count": 512,
   "id": "386544e7",
   "metadata": {},
   "outputs": [
    {
     "data": {
      "text/plain": [
       "(1923172, 13)"
      ]
     },
     "execution_count": 512,
     "metadata": {},
     "output_type": "execute_result"
    }
   ],
   "source": [
    "juvenile_cases.shape"
   ]
  },
  {
   "cell_type": "code",
   "execution_count": 513,
   "id": "9f0bcc9c",
   "metadata": {},
   "outputs": [
    {
     "name": "stdout",
     "output_type": "stream",
     "text": [
      "<class 'pandas.core.frame.DataFrame'>\n",
      "RangeIndex: 1923172 entries, 0 to 1923171\n",
      "Data columns (total 13 columns):\n",
      " #   Column           Dtype   \n",
      "---  ------           -----   \n",
      " 0   IDNCASE          Int64   \n",
      " 1   NAT              category\n",
      " 2   LANG             category\n",
      " 3   CUSTODY          category\n",
      " 4   CASE_TYPE        category\n",
      " 5   LATEST_HEARING   object  \n",
      " 6   LATEST_CAL_TYPE  category\n",
      " 7   DATE_OF_ENTRY    object  \n",
      " 8   C_BIRTHDATE      string  \n",
      " 9   Sex              category\n",
      " 10  DATE_DETAINED    object  \n",
      " 11  DATE_RELEASED    object  \n",
      " 12  DETENTION_DATE   float64 \n",
      "dtypes: Int64(1), category(6), float64(1), object(4), string(1)\n",
      "memory usage: 119.2+ MB\n"
     ]
    }
   ],
   "source": [
    "juvenile_cases.info()"
   ]
  },
  {
   "cell_type": "markdown",
   "id": "70050a50",
   "metadata": {},
   "source": [
    "### Missing Values Summary\n",
    "\n",
    "Counts and percentages of missing values were calculated for each column in the `juvenile_cases` dataset to assess data completeness.  \n",
    "`.isna().sum()` computes the total number of missing entries, and the percentage is derived by dividing by the total number of rows.  \n",
    "Columns are sorted by missing count to highlight those requiring attention during data cleaning."
   ]
  },
  {
   "cell_type": "code",
   "execution_count": 514,
   "id": "34071448",
   "metadata": {},
   "outputs": [
    {
     "data": {
      "text/html": [
       "<div>\n",
       "<style scoped>\n",
       "    .dataframe tbody tr th:only-of-type {\n",
       "        vertical-align: middle;\n",
       "    }\n",
       "\n",
       "    .dataframe tbody tr th {\n",
       "        vertical-align: top;\n",
       "    }\n",
       "\n",
       "    .dataframe thead th {\n",
       "        text-align: right;\n",
       "    }\n",
       "</style>\n",
       "<table border=\"1\" class=\"dataframe\">\n",
       "  <thead>\n",
       "    <tr style=\"text-align: right;\">\n",
       "      <th></th>\n",
       "      <th>Missing Count</th>\n",
       "      <th>Missing %</th>\n",
       "    </tr>\n",
       "  </thead>\n",
       "  <tbody>\n",
       "    <tr>\n",
       "      <th>DETENTION_DATE</th>\n",
       "      <td>1923171</td>\n",
       "      <td>100.00</td>\n",
       "    </tr>\n",
       "    <tr>\n",
       "      <th>DATE_RELEASED</th>\n",
       "      <td>1460521</td>\n",
       "      <td>75.94</td>\n",
       "    </tr>\n",
       "    <tr>\n",
       "      <th>DATE_DETAINED</th>\n",
       "      <td>1084523</td>\n",
       "      <td>56.39</td>\n",
       "    </tr>\n",
       "    <tr>\n",
       "      <th>Sex</th>\n",
       "      <td>503601</td>\n",
       "      <td>26.19</td>\n",
       "    </tr>\n",
       "    <tr>\n",
       "      <th>DATE_OF_ENTRY</th>\n",
       "      <td>500057</td>\n",
       "      <td>26.00</td>\n",
       "    </tr>\n",
       "    <tr>\n",
       "      <th>C_BIRTHDATE</th>\n",
       "      <td>460967</td>\n",
       "      <td>23.97</td>\n",
       "    </tr>\n",
       "    <tr>\n",
       "      <th>LATEST_CAL_TYPE</th>\n",
       "      <td>317532</td>\n",
       "      <td>16.51</td>\n",
       "    </tr>\n",
       "    <tr>\n",
       "      <th>LATEST_HEARING</th>\n",
       "      <td>310755</td>\n",
       "      <td>16.16</td>\n",
       "    </tr>\n",
       "    <tr>\n",
       "      <th>NAT</th>\n",
       "      <td>3290</td>\n",
       "      <td>0.17</td>\n",
       "    </tr>\n",
       "    <tr>\n",
       "      <th>LANG</th>\n",
       "      <td>1870</td>\n",
       "      <td>0.10</td>\n",
       "    </tr>\n",
       "    <tr>\n",
       "      <th>CASE_TYPE</th>\n",
       "      <td>5</td>\n",
       "      <td>0.00</td>\n",
       "    </tr>\n",
       "    <tr>\n",
       "      <th>CUSTODY</th>\n",
       "      <td>4</td>\n",
       "      <td>0.00</td>\n",
       "    </tr>\n",
       "    <tr>\n",
       "      <th>IDNCASE</th>\n",
       "      <td>0</td>\n",
       "      <td>0.00</td>\n",
       "    </tr>\n",
       "  </tbody>\n",
       "</table>\n",
       "</div>"
      ],
      "text/plain": [
       "                 Missing Count  Missing %\n",
       "DETENTION_DATE         1923171     100.00\n",
       "DATE_RELEASED          1460521      75.94\n",
       "DATE_DETAINED          1084523      56.39\n",
       "Sex                     503601      26.19\n",
       "DATE_OF_ENTRY           500057      26.00\n",
       "C_BIRTHDATE             460967      23.97\n",
       "LATEST_CAL_TYPE         317532      16.51\n",
       "LATEST_HEARING          310755      16.16\n",
       "NAT                       3290       0.17\n",
       "LANG                      1870       0.10\n",
       "CASE_TYPE                    5       0.00\n",
       "CUSTODY                      4       0.00\n",
       "IDNCASE                      0       0.00"
      ]
     },
     "metadata": {},
     "output_type": "display_data"
    }
   ],
   "source": [
    "null_counts = juvenile_cases.isna().sum()\n",
    "percent_missing = (null_counts / len(juvenile_cases)) * 100\n",
    "\n",
    "missing_summary = pd.DataFrame(\n",
    "    {\"Missing Count\": null_counts, \"Missing %\": percent_missing.round(2)}\n",
    ").sort_values(by=\"Missing Count\", ascending=False)\n",
    "\n",
    "display(missing_summary)"
   ]
  },
  {
   "cell_type": "markdown",
   "id": "1e8721b0",
   "metadata": {},
   "source": [
    "The `DETENTION_DATE` column is entirely null (100% missing) and therefore will be dropped from the dataset"
   ]
  },
  {
   "cell_type": "code",
   "execution_count": 515,
   "id": "e7e16ffc",
   "metadata": {},
   "outputs": [],
   "source": [
    "juvenile_cases = juvenile_cases.drop(\"DETENTION_DATE\", axis=1)"
   ]
  },
  {
   "cell_type": "markdown",
   "id": "e5c5e7fc",
   "metadata": {},
   "source": [
    "#### Datetime Format Validation\n",
    "\n",
    "The following date-related features will be the focus of the next stage of preprocessing:  \n",
    "- `LATEST_HEARING`  \n",
    "- `DATE_OF_ENTRY`  \n",
    "- `C_BIRTHDATE`  \n",
    "- `DATE_DETAINED`  \n",
    "- `DATE_RELEASED`  \n",
    "\n",
    "These features may require format standardization and conversion to datetime objects to enable accurate temporal analysis.\n",
    "\n",
    "Every datetime feature (except `C_BIRTHDATE`) follows the format `'YYYY-MM-DD 00:00:00.000'` (e.g., `'2025-02-04 00:00:00.000'`).\n",
    "\n",
    "Before conversion, each feature will be tested against this pattern to ensure values are valid.  \n",
    "All non-null entries will be checked to avoid unintended data loss during transformation with `pd.to_datetime()`.\n",
    "\n",
    "Only the **`YYYY-MM-DD`** portion of each timestamp will be retained."
   ]
  },
  {
   "cell_type": "code",
   "execution_count": 516,
   "id": "d688d84a",
   "metadata": {},
   "outputs": [],
   "source": [
    "def find_invalid_dates(df, column):\n",
    "    \"\"\"\n",
    "    Returns non-null rows that don’t match the `YYYY-MM-DD` pattern.\n",
    "    \"\"\"\n",
    "    return df[\n",
    "        df[column].notna()\n",
    "        & ~df[column].astype(str).str.contains(r\"\\d{4}-\\d{2}-\\d{2}\", regex=True)\n",
    "    ][[column]]"
   ]
  },
  {
   "cell_type": "code",
   "execution_count": 517,
   "id": "b7f2fc5b",
   "metadata": {},
   "outputs": [],
   "source": [
    "invalid_latest_hearing = find_invalid_dates(juvenile_cases, \"LATEST_HEARING\")\n",
    "invalid_date_of_entry = find_invalid_dates(juvenile_cases, \"DATE_OF_ENTRY\")\n",
    "invalid_date_detained = find_invalid_dates(juvenile_cases, \"DATE_DETAINED\")\n",
    "invalid_date_released = find_invalid_dates(juvenile_cases, \"DATE_RELEASED\")"
   ]
  },
  {
   "cell_type": "code",
   "execution_count": 518,
   "id": "44a1058a",
   "metadata": {},
   "outputs": [],
   "source": [
    "def report_invalid(name, df):\n",
    "    \"\"\"\n",
    "    Prints the number of invalid entries and displays the DataFrame if not empty.\n",
    "    \"\"\"\n",
    "    count = len(df)\n",
    "    print(f\"{name}: {count} invalid entr{'y' if count == 1 else 'ies'}\")\n",
    "    if count > 0:\n",
    "        display(df)"
   ]
  },
  {
   "cell_type": "code",
   "execution_count": 519,
   "id": "3fa4d4c5",
   "metadata": {},
   "outputs": [
    {
     "name": "stdout",
     "output_type": "stream",
     "text": [
      "LATEST_HEARING: 11 invalid entries\n"
     ]
    },
    {
     "data": {
      "text/html": [
       "<div>\n",
       "<style scoped>\n",
       "    .dataframe tbody tr th:only-of-type {\n",
       "        vertical-align: middle;\n",
       "    }\n",
       "\n",
       "    .dataframe tbody tr th {\n",
       "        vertical-align: top;\n",
       "    }\n",
       "\n",
       "    .dataframe thead th {\n",
       "        text-align: right;\n",
       "    }\n",
       "</style>\n",
       "<table border=\"1\" class=\"dataframe\">\n",
       "  <thead>\n",
       "    <tr style=\"text-align: right;\">\n",
       "      <th></th>\n",
       "      <th>LATEST_HEARING</th>\n",
       "    </tr>\n",
       "  </thead>\n",
       "  <tbody>\n",
       "    <tr>\n",
       "      <th>1658348</th>\n",
       "      <td>PHI</td>\n",
       "    </tr>\n",
       "    <tr>\n",
       "      <th>1679699</th>\n",
       "      <td>SFR</td>\n",
       "    </tr>\n",
       "    <tr>\n",
       "      <th>1683625</th>\n",
       "      <td>NEW</td>\n",
       "    </tr>\n",
       "    <tr>\n",
       "      <th>1723497</th>\n",
       "      <td>CHE</td>\n",
       "    </tr>\n",
       "    <tr>\n",
       "      <th>1738962</th>\n",
       "      <td>HAR</td>\n",
       "    </tr>\n",
       "    <tr>\n",
       "      <th>1742864</th>\n",
       "      <td>NYV</td>\n",
       "    </tr>\n",
       "    <tr>\n",
       "      <th>1743005</th>\n",
       "      <td>NYV</td>\n",
       "    </tr>\n",
       "    <tr>\n",
       "      <th>1747408</th>\n",
       "      <td>PHI</td>\n",
       "    </tr>\n",
       "    <tr>\n",
       "      <th>1775947</th>\n",
       "      <td>DAL</td>\n",
       "    </tr>\n",
       "    <tr>\n",
       "      <th>1805844</th>\n",
       "      <td>SNA</td>\n",
       "    </tr>\n",
       "    <tr>\n",
       "      <th>1908366</th>\n",
       "      <td>PHO</td>\n",
       "    </tr>\n",
       "  </tbody>\n",
       "</table>\n",
       "</div>"
      ],
      "text/plain": [
       "        LATEST_HEARING\n",
       "1658348            PHI\n",
       "1679699            SFR\n",
       "1683625            NEW\n",
       "1723497            CHE\n",
       "1738962            HAR\n",
       "1742864            NYV\n",
       "1743005            NYV\n",
       "1747408            PHI\n",
       "1775947            DAL\n",
       "1805844            SNA\n",
       "1908366            PHO"
      ]
     },
     "metadata": {},
     "output_type": "display_data"
    },
    {
     "name": "stdout",
     "output_type": "stream",
     "text": [
      "DATE_OF_ENTRY: 0 invalid entries\n",
      "DATE_DETAINED: 8 invalid entries\n"
     ]
    },
    {
     "data": {
      "text/html": [
       "<div>\n",
       "<style scoped>\n",
       "    .dataframe tbody tr th:only-of-type {\n",
       "        vertical-align: middle;\n",
       "    }\n",
       "\n",
       "    .dataframe tbody tr th {\n",
       "        vertical-align: top;\n",
       "    }\n",
       "\n",
       "    .dataframe thead th {\n",
       "        text-align: right;\n",
       "    }\n",
       "</style>\n",
       "<table border=\"1\" class=\"dataframe\">\n",
       "  <thead>\n",
       "    <tr style=\"text-align: right;\">\n",
       "      <th></th>\n",
       "      <th>DATE_DETAINED</th>\n",
       "    </tr>\n",
       "  </thead>\n",
       "  <tbody>\n",
       "    <tr>\n",
       "      <th>1658348</th>\n",
       "      <td>F</td>\n",
       "    </tr>\n",
       "    <tr>\n",
       "      <th>1679699</th>\n",
       "      <td>M</td>\n",
       "    </tr>\n",
       "    <tr>\n",
       "      <th>1738962</th>\n",
       "      <td>F</td>\n",
       "    </tr>\n",
       "    <tr>\n",
       "      <th>1742864</th>\n",
       "      <td>M</td>\n",
       "    </tr>\n",
       "    <tr>\n",
       "      <th>1743005</th>\n",
       "      <td>M</td>\n",
       "    </tr>\n",
       "    <tr>\n",
       "      <th>1747408</th>\n",
       "      <td>M</td>\n",
       "    </tr>\n",
       "    <tr>\n",
       "      <th>1805844</th>\n",
       "      <td>M</td>\n",
       "    </tr>\n",
       "    <tr>\n",
       "      <th>1908366</th>\n",
       "      <td>F</td>\n",
       "    </tr>\n",
       "  </tbody>\n",
       "</table>\n",
       "</div>"
      ],
      "text/plain": [
       "        DATE_DETAINED\n",
       "1658348             F\n",
       "1679699             M\n",
       "1738962             F\n",
       "1742864             M\n",
       "1743005             M\n",
       "1747408             M\n",
       "1805844             M\n",
       "1908366             F"
      ]
     },
     "metadata": {},
     "output_type": "display_data"
    },
    {
     "name": "stdout",
     "output_type": "stream",
     "text": [
      "DATE_RELEASED: 0 invalid entries\n"
     ]
    }
   ],
   "source": [
    "report_invalid(\"LATEST_HEARING\", invalid_latest_hearing)\n",
    "report_invalid(\"DATE_OF_ENTRY\", invalid_date_of_entry)\n",
    "report_invalid(\"DATE_DETAINED\", invalid_date_detained)\n",
    "report_invalid(\"DATE_RELEASED\", invalid_date_released)"
   ]
  },
  {
   "cell_type": "markdown",
   "id": "4e82cdfa",
   "metadata": {},
   "source": [
    "Invalid date values were not counted separately, as `errors='coerce'` was used in `pd.to_datetime()`.  \n",
    "This automatically handles invalid formats by converting them to `NaT`, simplifying the cleaning process."
   ]
  },
  {
   "cell_type": "code",
   "execution_count": 520,
   "id": "38405366",
   "metadata": {},
   "outputs": [],
   "source": [
    "date_cols = [\"LATEST_HEARING\", \"DATE_OF_ENTRY\", \"DATE_DETAINED\", \"DATE_RELEASED\"]\n",
    "\n",
    "juvenile_cases[date_cols] = juvenile_cases[date_cols].apply(\n",
    "    lambda col: pd.to_datetime(col, errors=\"coerce\")\n",
    ")"
   ]
  },
  {
   "cell_type": "markdown",
   "id": "8a679ecb",
   "metadata": {},
   "source": [
    "Identified non-null `C_BIRTHDATE` values that do not match the expected `MM/YYYY` format.  \n",
    "This helps reveal alternate formats and prevents unintended data loss during conversion."
   ]
  },
  {
   "cell_type": "code",
   "execution_count": 521,
   "id": "89ce0eb9",
   "metadata": {},
   "outputs": [],
   "source": [
    "invalid_birthdates = juvenile_cases[\n",
    "    juvenile_cases[\"C_BIRTHDATE\"].notna()\n",
    "    & ~juvenile_cases[\"C_BIRTHDATE\"]\n",
    "    .astype(str)\n",
    "    .str.contains(r\"^\\d{1,2}/\\d{4}$\", regex=True)\n",
    "][[\"C_BIRTHDATE\"]]"
   ]
  },
  {
   "cell_type": "code",
   "execution_count": 522,
   "id": "c44d1d38",
   "metadata": {},
   "outputs": [
    {
     "name": "stdout",
     "output_type": "stream",
     "text": [
      "Invalid C_BIRTHDATE entries: 8\n"
     ]
    },
    {
     "data": {
      "text/html": [
       "<div>\n",
       "<style scoped>\n",
       "    .dataframe tbody tr th:only-of-type {\n",
       "        vertical-align: middle;\n",
       "    }\n",
       "\n",
       "    .dataframe tbody tr th {\n",
       "        vertical-align: top;\n",
       "    }\n",
       "\n",
       "    .dataframe thead th {\n",
       "        text-align: right;\n",
       "    }\n",
       "</style>\n",
       "<table border=\"1\" class=\"dataframe\">\n",
       "  <thead>\n",
       "    <tr style=\"text-align: right;\">\n",
       "      <th></th>\n",
       "      <th>C_BIRTHDATE</th>\n",
       "    </tr>\n",
       "  </thead>\n",
       "  <tbody>\n",
       "    <tr>\n",
       "      <th>1658348</th>\n",
       "      <td>E</td>\n",
       "    </tr>\n",
       "    <tr>\n",
       "      <th>1723497</th>\n",
       "      <td>E</td>\n",
       "    </tr>\n",
       "    <tr>\n",
       "      <th>1738962</th>\n",
       "      <td>E</td>\n",
       "    </tr>\n",
       "    <tr>\n",
       "      <th>1742864</th>\n",
       "      <td>E</td>\n",
       "    </tr>\n",
       "    <tr>\n",
       "      <th>1743005</th>\n",
       "      <td>E</td>\n",
       "    </tr>\n",
       "    <tr>\n",
       "      <th>1747408</th>\n",
       "      <td>E</td>\n",
       "    </tr>\n",
       "    <tr>\n",
       "      <th>1775947</th>\n",
       "      <td>E</td>\n",
       "    </tr>\n",
       "    <tr>\n",
       "      <th>1805844</th>\n",
       "      <td>E</td>\n",
       "    </tr>\n",
       "  </tbody>\n",
       "</table>\n",
       "</div>"
      ],
      "text/plain": [
       "        C_BIRTHDATE\n",
       "1658348           E\n",
       "1723497           E\n",
       "1738962           E\n",
       "1742864           E\n",
       "1743005           E\n",
       "1747408           E\n",
       "1775947           E\n",
       "1805844           E"
      ]
     },
     "metadata": {},
     "output_type": "display_data"
    }
   ],
   "source": [
    "print(f\"Invalid C_BIRTHDATE entries: {len(invalid_birthdates)}\")\n",
    "display(invalid_birthdates)"
   ]
  },
  {
   "cell_type": "code",
   "execution_count": 523,
   "id": "430f3a4d",
   "metadata": {},
   "outputs": [],
   "source": [
    "juvenile_cases[\"C_BIRTHDATE\"] = pd.to_datetime(\n",
    "    juvenile_cases[\"C_BIRTHDATE\"], format=\"%m/%Y\", errors=\"coerce\"\n",
    ")"
   ]
  },
  {
   "cell_type": "markdown",
   "id": "bb6e0720",
   "metadata": {},
   "source": [
    "#### Date Conversion Check\n",
    "\n",
    "Confirmed that all date columns were successfully converted to `datetime64[ns]` format."
   ]
  },
  {
   "cell_type": "code",
   "execution_count": 524,
   "id": "3930c1ea",
   "metadata": {},
   "outputs": [
    {
     "name": "stdout",
     "output_type": "stream",
     "text": [
      "LATEST_HEARING    datetime64[ns]\n",
      "DATE_OF_ENTRY     datetime64[ns]\n",
      "DATE_DETAINED     datetime64[ns]\n",
      "DATE_RELEASED     datetime64[ns]\n",
      "C_BIRTHDATE       datetime64[ns]\n",
      "dtype: object\n"
     ]
    }
   ],
   "source": [
    "date_cols = [\n",
    "    \"LATEST_HEARING\",\n",
    "    \"DATE_OF_ENTRY\",\n",
    "    \"DATE_DETAINED\",\n",
    "    \"DATE_RELEASED\",\n",
    "    \"C_BIRTHDATE\",\n",
    "]\n",
    "print(juvenile_cases[date_cols].dtypes)"
   ]
  },
  {
   "cell_type": "code",
   "execution_count": 525,
   "id": "2fd7dcbb",
   "metadata": {},
   "outputs": [
    {
     "name": "stdout",
     "output_type": "stream",
     "text": [
      "<class 'pandas.core.frame.DataFrame'>\n",
      "RangeIndex: 1923172 entries, 0 to 1923171\n",
      "Data columns (total 12 columns):\n",
      " #   Column           Dtype         \n",
      "---  ------           -----         \n",
      " 0   IDNCASE          Int64         \n",
      " 1   NAT              category      \n",
      " 2   LANG             category      \n",
      " 3   CUSTODY          category      \n",
      " 4   CASE_TYPE        category      \n",
      " 5   LATEST_HEARING   datetime64[ns]\n",
      " 6   LATEST_CAL_TYPE  category      \n",
      " 7   DATE_OF_ENTRY    datetime64[ns]\n",
      " 8   C_BIRTHDATE      datetime64[ns]\n",
      " 9   Sex              category      \n",
      " 10  DATE_DETAINED    datetime64[ns]\n",
      " 11  DATE_RELEASED    datetime64[ns]\n",
      "dtypes: Int64(1), category(6), datetime64[ns](5)\n",
      "memory usage: 104.5 MB\n"
     ]
    }
   ],
   "source": [
    "juvenile_cases.info()"
   ]
  },
  {
   "cell_type": "code",
   "execution_count": 526,
   "id": "5d518a08",
   "metadata": {},
   "outputs": [
    {
     "data": {
      "text/html": [
       "<div>\n",
       "<style scoped>\n",
       "    .dataframe tbody tr th:only-of-type {\n",
       "        vertical-align: middle;\n",
       "    }\n",
       "\n",
       "    .dataframe tbody tr th {\n",
       "        vertical-align: top;\n",
       "    }\n",
       "\n",
       "    .dataframe thead th {\n",
       "        text-align: right;\n",
       "    }\n",
       "</style>\n",
       "<table border=\"1\" class=\"dataframe\">\n",
       "  <thead>\n",
       "    <tr style=\"text-align: right;\">\n",
       "      <th></th>\n",
       "      <th>IDNCASE</th>\n",
       "      <th>NAT</th>\n",
       "      <th>LANG</th>\n",
       "      <th>CUSTODY</th>\n",
       "      <th>CASE_TYPE</th>\n",
       "      <th>LATEST_HEARING</th>\n",
       "      <th>LATEST_CAL_TYPE</th>\n",
       "      <th>DATE_OF_ENTRY</th>\n",
       "      <th>C_BIRTHDATE</th>\n",
       "      <th>Sex</th>\n",
       "      <th>DATE_DETAINED</th>\n",
       "      <th>DATE_RELEASED</th>\n",
       "    </tr>\n",
       "  </thead>\n",
       "  <tbody>\n",
       "    <tr>\n",
       "      <th>0</th>\n",
       "      <td>6807609</td>\n",
       "      <td>MX</td>\n",
       "      <td>SP</td>\n",
       "      <td>D</td>\n",
       "      <td>RMV</td>\n",
       "      <td>2021-07-19</td>\n",
       "      <td>M</td>\n",
       "      <td>NaT</td>\n",
       "      <td>NaT</td>\n",
       "      <td>NaN</td>\n",
       "      <td>2020-02-03</td>\n",
       "      <td>NaT</td>\n",
       "    </tr>\n",
       "    <tr>\n",
       "      <th>1</th>\n",
       "      <td>6807621</td>\n",
       "      <td>TZ</td>\n",
       "      <td>SWA</td>\n",
       "      <td>D</td>\n",
       "      <td>RMV</td>\n",
       "      <td>NaT</td>\n",
       "      <td>NaN</td>\n",
       "      <td>NaT</td>\n",
       "      <td>NaT</td>\n",
       "      <td>NaN</td>\n",
       "      <td>2011-09-27</td>\n",
       "      <td>NaT</td>\n",
       "    </tr>\n",
       "    <tr>\n",
       "      <th>2</th>\n",
       "      <td>6807631</td>\n",
       "      <td>HO</td>\n",
       "      <td>SP</td>\n",
       "      <td>D</td>\n",
       "      <td>RMV</td>\n",
       "      <td>NaT</td>\n",
       "      <td>NaN</td>\n",
       "      <td>2011-07-01</td>\n",
       "      <td>NaT</td>\n",
       "      <td>NaN</td>\n",
       "      <td>2011-10-19</td>\n",
       "      <td>NaT</td>\n",
       "    </tr>\n",
       "    <tr>\n",
       "      <th>3</th>\n",
       "      <td>6807676</td>\n",
       "      <td>MX</td>\n",
       "      <td>SP</td>\n",
       "      <td>N</td>\n",
       "      <td>RMV</td>\n",
       "      <td>NaT</td>\n",
       "      <td>NaN</td>\n",
       "      <td>NaT</td>\n",
       "      <td>NaT</td>\n",
       "      <td>NaN</td>\n",
       "      <td>NaT</td>\n",
       "      <td>NaT</td>\n",
       "    </tr>\n",
       "    <tr>\n",
       "      <th>4</th>\n",
       "      <td>6807683</td>\n",
       "      <td>MX</td>\n",
       "      <td>ENG</td>\n",
       "      <td>N</td>\n",
       "      <td>RMV</td>\n",
       "      <td>2016-03-10</td>\n",
       "      <td>M</td>\n",
       "      <td>NaT</td>\n",
       "      <td>NaT</td>\n",
       "      <td>NaN</td>\n",
       "      <td>NaT</td>\n",
       "      <td>NaT</td>\n",
       "    </tr>\n",
       "  </tbody>\n",
       "</table>\n",
       "</div>"
      ],
      "text/plain": [
       "   IDNCASE NAT LANG CUSTODY  ... C_BIRTHDATE  Sex DATE_DETAINED DATE_RELEASED\n",
       "0  6807609  MX   SP       D  ...         NaT  NaN    2020-02-03           NaT\n",
       "1  6807621  TZ  SWA       D  ...         NaT  NaN    2011-09-27           NaT\n",
       "2  6807631  HO   SP       D  ...         NaT  NaN    2011-10-19           NaT\n",
       "3  6807676  MX   SP       N  ...         NaT  NaN           NaT           NaT\n",
       "4  6807683  MX  ENG       N  ...         NaT  NaN           NaT           NaT\n",
       "\n",
       "[5 rows x 12 columns]"
      ]
     },
     "execution_count": 526,
     "metadata": {},
     "output_type": "execute_result"
    }
   ],
   "source": [
    "juvenile_cases.head()"
   ]
  },
  {
   "cell_type": "markdown",
   "id": "0ba76eeb",
   "metadata": {},
   "source": [
    "#### Categorical Value Cleanup\n",
    "\n",
    "Standardized and cleaned values in key categorical features (`NAT`, `LANG`, `CUSTODY`, `CASE_TYPE`, `LATEST_CAL_TYPE`, `Sex`)  \n",
    "to ensure consistency and prevent issues caused by typos or rare variants.\n",
    "\n",
    "`NAT` and `LANG` contain a large number of unique values.  \n",
    "These were retained in full to preserve detail and will be grouped or simplified as needed during analysis."
   ]
  },
  {
   "cell_type": "code",
   "execution_count": 527,
   "id": "f230711a",
   "metadata": {},
   "outputs": [
    {
     "data": {
      "text/plain": [
       "CUSTODY\n",
       "N      1040503\n",
       "R       488510\n",
       "D       394144\n",
       "SP           9\n",
       "LIN          1\n",
       "POR          1\n",
       "Name: count, dtype: int64"
      ]
     },
     "execution_count": 527,
     "metadata": {},
     "output_type": "execute_result"
    }
   ],
   "source": [
    "juvenile_cases[\"CUSTODY\"].value_counts()"
   ]
  },
  {
   "cell_type": "code",
   "execution_count": 528,
   "id": "3f0221e0",
   "metadata": {},
   "outputs": [
    {
     "data": {
      "text/plain": [
       "CASE_TYPE\n",
       "RMV    1781888\n",
       "CFR      89495\n",
       "RFR      22294\n",
       "WHO      22261\n",
       "AOC       4909\n",
       "DEP       1872\n",
       "REC        227\n",
       "EXC        156\n",
       "CSR         54\n",
       "0            6\n",
       "AOL          2\n",
       "NAC          2\n",
       "DCC          1\n",
       "Name: count, dtype: int64"
      ]
     },
     "execution_count": 528,
     "metadata": {},
     "output_type": "execute_result"
    }
   ],
   "source": [
    "juvenile_cases[\"CASE_TYPE\"].value_counts()"
   ]
  },
  {
   "cell_type": "code",
   "execution_count": 529,
   "id": "d9ed6b49",
   "metadata": {},
   "outputs": [
    {
     "data": {
      "text/plain": [
       "LATEST_CAL_TYPE\n",
       "M       1100100\n",
       "I        505503\n",
       "N            25\n",
       "0900          4\n",
       "0830          2\n",
       "1030          2\n",
       "R             2\n",
       "1000          1\n",
       "1300          1\n",
       "Name: count, dtype: int64"
      ]
     },
     "execution_count": 529,
     "metadata": {},
     "output_type": "execute_result"
    }
   ],
   "source": [
    "juvenile_cases[\"LATEST_CAL_TYPE\"].value_counts()"
   ]
  },
  {
   "cell_type": "markdown",
   "id": "acdd6319",
   "metadata": {},
   "source": [
    "Cleaned `LATEST_CAL_TYPE` by keeping known values (`M` = Master, `I` = Individual) and replacing unexpected entries (e.g., time strings or unknown codes) with `NaN`."
   ]
  },
  {
   "cell_type": "code",
   "execution_count": 530,
   "id": "93aa16b4",
   "metadata": {},
   "outputs": [],
   "source": [
    "valid_types = [\"M\", \"I\"]\n",
    "\n",
    "juvenile_cases[\"LATEST_CAL_TYPE\"] = (\n",
    "    juvenile_cases[\"LATEST_CAL_TYPE\"]\n",
    "    .apply(lambda x: x if x in valid_types else pd.NA)\n",
    "    .astype(\"category\")\n",
    ")\n",
    "\n",
    "juvenile_cases[\"LATEST_CAL_TYPE\"] = juvenile_cases[\n",
    "    \"LATEST_CAL_TYPE\"\n",
    "].cat.remove_unused_categories()"
   ]
  },
  {
   "cell_type": "code",
   "execution_count": 531,
   "id": "0de7129e",
   "metadata": {},
   "outputs": [
    {
     "data": {
      "text/plain": [
       "Sex\n",
       "M    909482\n",
       "F    510082\n",
       "N         6\n",
       "U         1\n",
       "Name: count, dtype: int64"
      ]
     },
     "execution_count": 531,
     "metadata": {},
     "output_type": "execute_result"
    }
   ],
   "source": [
    "juvenile_cases[\"Sex\"].value_counts()"
   ]
  },
  {
   "cell_type": "markdown",
   "id": "e000f733",
   "metadata": {},
   "source": [
    "Cleaned `GENDER` by keeping known values (`M` = Male, `F` = Female) and replaced rare or unclear codes (`N`, `U`) with `NaN` to ensure consistency and avoid ambiguity in gender-related analysis."
   ]
  },
  {
   "cell_type": "code",
   "execution_count": 532,
   "id": "7dd13367",
   "metadata": {},
   "outputs": [],
   "source": [
    "juvenile_cases[\"Sex\"] = (\n",
    "    juvenile_cases[\"Sex\"]\n",
    "    .apply(lambda x: x if x in [\"M\", \"F\"] else pd.NA)\n",
    "    .astype(\"category\")\n",
    ")\n",
    "\n",
    "juvenile_cases[\"Sex\"] = juvenile_cases[\"Sex\"].cat.remove_unused_categories()"
   ]
  },
  {
   "cell_type": "code",
   "execution_count": 533,
   "id": "29409321",
   "metadata": {},
   "outputs": [
    {
     "data": {
      "text/html": [
       "<div>\n",
       "<style scoped>\n",
       "    .dataframe tbody tr th:only-of-type {\n",
       "        vertical-align: middle;\n",
       "    }\n",
       "\n",
       "    .dataframe tbody tr th {\n",
       "        vertical-align: top;\n",
       "    }\n",
       "\n",
       "    .dataframe thead th {\n",
       "        text-align: right;\n",
       "    }\n",
       "</style>\n",
       "<table border=\"1\" class=\"dataframe\">\n",
       "  <thead>\n",
       "    <tr style=\"text-align: right;\">\n",
       "      <th></th>\n",
       "      <th>IDNCASE</th>\n",
       "      <th>NAT</th>\n",
       "      <th>LANG</th>\n",
       "      <th>CUSTODY</th>\n",
       "      <th>CASE_TYPE</th>\n",
       "      <th>LATEST_HEARING</th>\n",
       "      <th>LATEST_CAL_TYPE</th>\n",
       "      <th>DATE_OF_ENTRY</th>\n",
       "      <th>C_BIRTHDATE</th>\n",
       "      <th>Sex</th>\n",
       "      <th>DATE_DETAINED</th>\n",
       "      <th>DATE_RELEASED</th>\n",
       "    </tr>\n",
       "  </thead>\n",
       "  <tbody>\n",
       "    <tr>\n",
       "      <th>0</th>\n",
       "      <td>6807609</td>\n",
       "      <td>MX</td>\n",
       "      <td>SP</td>\n",
       "      <td>D</td>\n",
       "      <td>RMV</td>\n",
       "      <td>2021-07-19</td>\n",
       "      <td>M</td>\n",
       "      <td>NaT</td>\n",
       "      <td>NaT</td>\n",
       "      <td>NaN</td>\n",
       "      <td>2020-02-03</td>\n",
       "      <td>NaT</td>\n",
       "    </tr>\n",
       "    <tr>\n",
       "      <th>1</th>\n",
       "      <td>6807621</td>\n",
       "      <td>TZ</td>\n",
       "      <td>SWA</td>\n",
       "      <td>D</td>\n",
       "      <td>RMV</td>\n",
       "      <td>NaT</td>\n",
       "      <td>NaN</td>\n",
       "      <td>NaT</td>\n",
       "      <td>NaT</td>\n",
       "      <td>NaN</td>\n",
       "      <td>2011-09-27</td>\n",
       "      <td>NaT</td>\n",
       "    </tr>\n",
       "    <tr>\n",
       "      <th>2</th>\n",
       "      <td>6807631</td>\n",
       "      <td>HO</td>\n",
       "      <td>SP</td>\n",
       "      <td>D</td>\n",
       "      <td>RMV</td>\n",
       "      <td>NaT</td>\n",
       "      <td>NaN</td>\n",
       "      <td>2011-07-01</td>\n",
       "      <td>NaT</td>\n",
       "      <td>NaN</td>\n",
       "      <td>2011-10-19</td>\n",
       "      <td>NaT</td>\n",
       "    </tr>\n",
       "    <tr>\n",
       "      <th>3</th>\n",
       "      <td>6807676</td>\n",
       "      <td>MX</td>\n",
       "      <td>SP</td>\n",
       "      <td>N</td>\n",
       "      <td>RMV</td>\n",
       "      <td>NaT</td>\n",
       "      <td>NaN</td>\n",
       "      <td>NaT</td>\n",
       "      <td>NaT</td>\n",
       "      <td>NaN</td>\n",
       "      <td>NaT</td>\n",
       "      <td>NaT</td>\n",
       "    </tr>\n",
       "    <tr>\n",
       "      <th>4</th>\n",
       "      <td>6807683</td>\n",
       "      <td>MX</td>\n",
       "      <td>ENG</td>\n",
       "      <td>N</td>\n",
       "      <td>RMV</td>\n",
       "      <td>2016-03-10</td>\n",
       "      <td>M</td>\n",
       "      <td>NaT</td>\n",
       "      <td>NaT</td>\n",
       "      <td>NaN</td>\n",
       "      <td>NaT</td>\n",
       "      <td>NaT</td>\n",
       "    </tr>\n",
       "  </tbody>\n",
       "</table>\n",
       "</div>"
      ],
      "text/plain": [
       "   IDNCASE NAT LANG CUSTODY  ... C_BIRTHDATE  Sex DATE_DETAINED DATE_RELEASED\n",
       "0  6807609  MX   SP       D  ...         NaT  NaN    2020-02-03           NaT\n",
       "1  6807621  TZ  SWA       D  ...         NaT  NaN    2011-09-27           NaT\n",
       "2  6807631  HO   SP       D  ...         NaT  NaN    2011-10-19           NaT\n",
       "3  6807676  MX   SP       N  ...         NaT  NaN           NaT           NaT\n",
       "4  6807683  MX  ENG       N  ...         NaT  NaN           NaT           NaT\n",
       "\n",
       "[5 rows x 12 columns]"
      ]
     },
     "execution_count": 533,
     "metadata": {},
     "output_type": "execute_result"
    }
   ],
   "source": [
    "juvenile_cases.head()"
   ]
  },
  {
   "cell_type": "code",
   "execution_count": 534,
   "id": "5fa5868b",
   "metadata": {},
   "outputs": [],
   "source": [
    "juvenile_cases.to_csv(\n",
    "    \"../cleaned/juvenile_cases_cleaned.csv.gz\", index=False, compression=\"gzip\"\n",
    ")"
   ]
  },
  {
   "cell_type": "markdown",
   "id": "e8ba56c7",
   "metadata": {},
   "source": [
    "### Cleaned `A_TblCase`\n",
    "\n",
    "- Filtered to ~1.86M juvenile-related cases based on `IDNCASE`.\n",
    "- Reset index after filtering.\n",
    "- Removed unused categories from categorical columns.\n",
    "- Converted date fields to `datetime64[ns]`:\n",
    "  - `LATEST_HEARING`\n",
    "  - `DATE_OF_ENTRY`\n",
    "  - `C_BIRTHDATE` (parsed from `MM/YYYY` format)\n",
    "  - `DATE_DETAINED`\n",
    "  - `DATE_RELEASED`\n",
    "- Cleaned categorical features:\n",
    "  - `LATEST_CAL_TYPE`: kept only `M` (Master) and `I` (Individual); others set to `NaN`\n",
    "  - `GENDER`: kept only `M` and `F`; others set to `NaN`\n",
    "\n",
    "Saved cleaned file as:  \n",
    "`cases_juvenile_cleaned.csv.gz`"
   ]
  },
  {
   "cell_type": "markdown",
   "id": "3a47e74d",
   "metadata": {},
   "source": [
    "## 3. Clean tbl_RepsAssigned\n",
    "\n",
    "### Table Description: \n",
    "\n",
    "The `tbl_RepsAssigned` table contains detailed records of represented cases in the immigration system, including both noncitizen (Alien) and government (INS) representation. Each row represents an instance of legal representation assigned to a case.\n",
    "\n",
    "\n",
    "This table is essential for identifying the presence and type of legal representation in each case."
   ]
  },
  {
   "cell_type": "markdown",
   "id": "a5f9074b",
   "metadata": {},
   "source": [
    "### Data Inspection"
   ]
  },
  {
   "cell_type": "code",
   "execution_count": 535,
   "id": "bd59a96f",
   "metadata": {},
   "outputs": [],
   "source": [
    "reps_assigned = pd.read_csv(\"tbl_RepsAssigned.csv\", delimiter=\"\\t\", low_memory=False)"
   ]
  },
  {
   "cell_type": "code",
   "execution_count": 536,
   "id": "c2626114",
   "metadata": {},
   "outputs": [
    {
     "data": {
      "text/html": [
       "<div>\n",
       "<style scoped>\n",
       "    .dataframe tbody tr th:only-of-type {\n",
       "        vertical-align: middle;\n",
       "    }\n",
       "\n",
       "    .dataframe tbody tr th {\n",
       "        vertical-align: top;\n",
       "    }\n",
       "\n",
       "    .dataframe thead th {\n",
       "        text-align: right;\n",
       "    }\n",
       "</style>\n",
       "<table border=\"1\" class=\"dataframe\">\n",
       "  <thead>\n",
       "    <tr style=\"text-align: right;\">\n",
       "      <th></th>\n",
       "      <th>IDNREPSASSIGNED</th>\n",
       "      <th>IDNCASE</th>\n",
       "      <th>STRATTYLEVEL</th>\n",
       "      <th>STRATTYTYPE</th>\n",
       "      <th>PARENT_TABLE</th>\n",
       "      <th>PARENT_IDN</th>\n",
       "      <th>BASE_CITY_CODE</th>\n",
       "      <th>INS_TA_DATE_ASSIGNED</th>\n",
       "      <th>E_27_DATE</th>\n",
       "      <th>E_28_DATE</th>\n",
       "      <th>BLNPRIMEATTY</th>\n",
       "    </tr>\n",
       "  </thead>\n",
       "  <tbody>\n",
       "    <tr>\n",
       "      <th>0</th>\n",
       "      <td>5945062</td>\n",
       "      <td>2047751</td>\n",
       "      <td>COURT</td>\n",
       "      <td>ALIEN</td>\n",
       "      <td>A_Tblcase</td>\n",
       "      <td>2047751.0</td>\n",
       "      <td>WAS</td>\n",
       "      <td>NaN</td>\n",
       "      <td>NaN</td>\n",
       "      <td>2004-04-06 00:00:00.000</td>\n",
       "      <td>1</td>\n",
       "    </tr>\n",
       "    <tr>\n",
       "      <th>1</th>\n",
       "      <td>5945065</td>\n",
       "      <td>2052183</td>\n",
       "      <td>COURT</td>\n",
       "      <td>ALIEN</td>\n",
       "      <td>A_Tblcase</td>\n",
       "      <td>2052183.0</td>\n",
       "      <td>WAS</td>\n",
       "      <td>NaN</td>\n",
       "      <td>NaN</td>\n",
       "      <td>2004-04-15 00:00:00.000</td>\n",
       "      <td>1</td>\n",
       "    </tr>\n",
       "    <tr>\n",
       "      <th>2</th>\n",
       "      <td>5945066</td>\n",
       "      <td>2052595</td>\n",
       "      <td>COURT</td>\n",
       "      <td>ALIEN</td>\n",
       "      <td>A_Tblcase</td>\n",
       "      <td>2052595.0</td>\n",
       "      <td>WAS</td>\n",
       "      <td>NaN</td>\n",
       "      <td>NaN</td>\n",
       "      <td>1987-07-21 00:00:00.000</td>\n",
       "      <td>1</td>\n",
       "    </tr>\n",
       "    <tr>\n",
       "      <th>3</th>\n",
       "      <td>5945067</td>\n",
       "      <td>2054039</td>\n",
       "      <td>COURT</td>\n",
       "      <td>ALIEN</td>\n",
       "      <td>A_Tblcase</td>\n",
       "      <td>2054039.0</td>\n",
       "      <td>WAS</td>\n",
       "      <td>NaN</td>\n",
       "      <td>NaN</td>\n",
       "      <td>1994-06-15 00:00:00.000</td>\n",
       "      <td>1</td>\n",
       "    </tr>\n",
       "    <tr>\n",
       "      <th>4</th>\n",
       "      <td>5945068</td>\n",
       "      <td>2056837</td>\n",
       "      <td>COURT</td>\n",
       "      <td>ALIEN</td>\n",
       "      <td>A_Tblcase</td>\n",
       "      <td>2056837.0</td>\n",
       "      <td>WAS</td>\n",
       "      <td>NaN</td>\n",
       "      <td>NaN</td>\n",
       "      <td>2003-05-15 00:00:00.000</td>\n",
       "      <td>1</td>\n",
       "    </tr>\n",
       "  </tbody>\n",
       "</table>\n",
       "</div>"
      ],
      "text/plain": [
       "   IDNREPSASSIGNED  IDNCASE  ...                E_28_DATE BLNPRIMEATTY\n",
       "0          5945062  2047751  ...  2004-04-06 00:00:00.000            1\n",
       "1          5945065  2052183  ...  2004-04-15 00:00:00.000            1\n",
       "2          5945066  2052595  ...  1987-07-21 00:00:00.000            1\n",
       "3          5945067  2054039  ...  1994-06-15 00:00:00.000            1\n",
       "4          5945068  2056837  ...  2003-05-15 00:00:00.000            1\n",
       "\n",
       "[5 rows x 11 columns]"
      ]
     },
     "execution_count": 536,
     "metadata": {},
     "output_type": "execute_result"
    }
   ],
   "source": [
    "reps_assigned.head()"
   ]
  },
  {
   "cell_type": "code",
   "execution_count": 537,
   "id": "6fac53ef",
   "metadata": {},
   "outputs": [
    {
     "data": {
      "text/plain": [
       "Index(['IDNREPSASSIGNED', 'IDNCASE', 'STRATTYLEVEL', 'STRATTYTYPE',\n",
       "       'PARENT_TABLE', 'PARENT_IDN', 'BASE_CITY_CODE', 'INS_TA_DATE_ASSIGNED',\n",
       "       'E_27_DATE', 'E_28_DATE', 'BLNPRIMEATTY'],\n",
       "      dtype='object')"
      ]
     },
     "execution_count": 537,
     "metadata": {},
     "output_type": "execute_result"
    }
   ],
   "source": [
    "reps_assigned.columns"
   ]
  },
  {
   "cell_type": "code",
   "execution_count": 538,
   "id": "3cb5d01c",
   "metadata": {},
   "outputs": [
    {
     "name": "stdout",
     "output_type": "stream",
     "text": [
      "<class 'pandas.core.frame.DataFrame'>\n",
      "RangeIndex: 24350854 entries, 0 to 24350853\n",
      "Data columns (total 11 columns):\n",
      " #   Column                Dtype  \n",
      "---  ------                -----  \n",
      " 0   IDNREPSASSIGNED       int64  \n",
      " 1   IDNCASE               int64  \n",
      " 2   STRATTYLEVEL          object \n",
      " 3   STRATTYTYPE           object \n",
      " 4   PARENT_TABLE          object \n",
      " 5   PARENT_IDN            float64\n",
      " 6   BASE_CITY_CODE        object \n",
      " 7   INS_TA_DATE_ASSIGNED  object \n",
      " 8   E_27_DATE             object \n",
      " 9   E_28_DATE             object \n",
      " 10  BLNPRIMEATTY          int64  \n",
      "dtypes: float64(1), int64(3), object(7)\n",
      "memory usage: 2.0+ GB\n"
     ]
    }
   ],
   "source": [
    "reps_assigned.info()"
   ]
  },
  {
   "cell_type": "code",
   "execution_count": 539,
   "id": "6c91fba2",
   "metadata": {},
   "outputs": [
    {
     "data": {
      "text/plain": [
       "(24350854, 11)"
      ]
     },
     "execution_count": 539,
     "metadata": {},
     "output_type": "execute_result"
    }
   ],
   "source": [
    "reps_assigned.shape"
   ]
  },
  {
   "cell_type": "code",
   "execution_count": 540,
   "id": "f392ae8b",
   "metadata": {},
   "outputs": [
    {
     "data": {
      "text/plain": [
       "IDNREPSASSIGNED                0\n",
       "IDNCASE                        0\n",
       "STRATTYLEVEL                   0\n",
       "STRATTYTYPE                    0\n",
       "PARENT_TABLE                   0\n",
       "PARENT_IDN                     1\n",
       "BASE_CITY_CODE           7912377\n",
       "INS_TA_DATE_ASSIGNED    11642124\n",
       "E_27_DATE               23405446\n",
       "E_28_DATE               12693828\n",
       "BLNPRIMEATTY                   0\n",
       "dtype: int64"
      ]
     },
     "execution_count": 540,
     "metadata": {},
     "output_type": "execute_result"
    }
   ],
   "source": [
    "reps_assigned.isna().sum()"
   ]
  },
  {
   "cell_type": "code",
   "execution_count": 541,
   "id": "1427818a",
   "metadata": {},
   "outputs": [
    {
     "data": {
      "text/plain": [
       "array(['COURT', 'BOARD'], dtype=object)"
      ]
     },
     "execution_count": 541,
     "metadata": {},
     "output_type": "execute_result"
    }
   ],
   "source": [
    "# to check the values in STRATTYLEVE\n",
    "reps_assigned[\"STRATTYLEVEL\"].unique()"
   ]
  },
  {
   "cell_type": "code",
   "execution_count": 542,
   "id": "e9fbb429",
   "metadata": {},
   "outputs": [
    {
     "data": {
      "text/plain": [
       "array(['ALIEN', 'INS'], dtype=object)"
      ]
     },
     "execution_count": 542,
     "metadata": {},
     "output_type": "execute_result"
    }
   ],
   "source": [
    "#  to check the values in STRATTYLEVE\n",
    "reps_assigned[\"STRATTYTYPE\"].unique()"
   ]
  },
  {
   "cell_type": "markdown",
   "id": "17acf242",
   "metadata": {},
   "source": [
    "#### Filtering for Alien Representation\n",
    "\n",
    "The current `reps_assigned` DataFrame includes records for both noncitizen (Alien) and government (Immigration and Naturalization Service, or INS) representation.\n",
    "\n",
    "To focus only on cases where the attorney is representing the noncitizen, the data will be filtered to keep only rows where the `STRATTYTYPE` column has the value `ALIEN`."
   ]
  },
  {
   "cell_type": "code",
   "execution_count": 543,
   "id": "333c0bb8",
   "metadata": {},
   "outputs": [
    {
     "data": {
      "text/plain": [
       "array(['ALIEN'], dtype=object)"
      ]
     },
     "execution_count": 543,
     "metadata": {},
     "output_type": "execute_result"
    }
   ],
   "source": [
    "reps_assigned = reps_assigned[reps_assigned[\"STRATTYTYPE\"] == \"ALIEN\"].reset_index(\n",
    "    drop=True\n",
    ")\n",
    "# to check the unique values in STRATTYTYPE after filtering\n",
    "reps_assigned[\"STRATTYTYPE\"].unique()"
   ]
  },
  {
   "cell_type": "markdown",
   "id": "dd4e4d63",
   "metadata": {},
   "source": [
    "#### Filtering for Juvenile Cases\n",
    "\n",
    "The current `reps_assigned` DataFrame is populated with both adult and juvenile records.  \n",
    "\n",
    "To isolate only juvenile cases, it will be filtered using the list of `idnCase` values from `tbl_JuvenileHistory`, without a full merge being performed.\n"
   ]
  },
  {
   "cell_type": "code",
   "execution_count": 544,
   "id": "7d323a12",
   "metadata": {},
   "outputs": [],
   "source": [
    "juvenile_reps = reps_assigned[\n",
    "    reps_assigned[\"IDNCASE\"].isin(juvenile_case_ids)\n",
    "].reset_index(drop=True)"
   ]
  },
  {
   "cell_type": "code",
   "execution_count": 545,
   "id": "7b1f1d59",
   "metadata": {},
   "outputs": [
    {
     "data": {
      "text/plain": [
       "(2704603, 11)"
      ]
     },
     "execution_count": 545,
     "metadata": {},
     "output_type": "execute_result"
    }
   ],
   "source": [
    "juvenile_reps.shape"
   ]
  },
  {
   "cell_type": "markdown",
   "id": "477ec4d8",
   "metadata": {},
   "source": [
    "### Deciding Between `IDNCASE` and `PARENT_IDN` for later Merging with Cases Table\n",
    "#### Comparing `PARENT_IDN` and `IDNCASE`\n",
    "\n",
    "- `PARENT_IDN` is represented as the ID of the case in the parent table, which may or may not be `tblCase`.\n",
    "- `IDNCASE` is represented as the ID of the case specifically in `tblCase`.\n",
    "\n",
    "Before proceeding, we need to determine whether to use `IDNCASE` or `PARENT_IDN` as the key for merging with the cases table.\n",
    "\n",
    "To make this decision, the following steps will be taken:\n",
    "\n",
    "- Filter to keep only rows where the parent table is `tbl_case`.\n",
    "- Compare `IDNCASE` and `PARENT_IDN` to check if their values are identical; they should theoretically match.\n",
    "- Assess missing values and data types for both columns to decide which is more reliable for merging.\n",
    "\n"
   ]
  },
  {
   "cell_type": "markdown",
   "id": "153435ba",
   "metadata": {},
   "source": [
    "#### Filter to keep only rows where the parent table is `tbl_case`."
   ]
  },
  {
   "cell_type": "code",
   "execution_count": 546,
   "id": "858c92f7",
   "metadata": {},
   "outputs": [
    {
     "data": {
      "text/plain": [
       "PARENT_TABLE\n",
       "a_tblcase    2529175\n",
       "tblappeal      89452\n",
       "A_Tblcase      50325\n",
       "tblAppeal      34703\n",
       "A_TblCase        948\n",
       "Name: count, dtype: int64"
      ]
     },
     "execution_count": 546,
     "metadata": {},
     "output_type": "execute_result"
    }
   ],
   "source": [
    "# checking the possible parent tables and their counts\n",
    "juvenile_reps[\"PARENT_TABLE\"].value_counts()"
   ]
  },
  {
   "cell_type": "markdown",
   "id": "4ae3b44a",
   "metadata": {},
   "source": [
    "**Note:** The `tbl_case` table appears under three different capitalization variants in the data:  \n",
    "- `A_TblCase`  \n",
    "- `A_Tblcase`  \n",
    "- `a_tblcase`  \n",
    "\n",
    "this should be considerd when filtring the data for `tbl_case`"
   ]
  },
  {
   "cell_type": "code",
   "execution_count": 547,
   "id": "03ecec67",
   "metadata": {},
   "outputs": [
    {
     "data": {
      "text/plain": [
       "PARENT_TABLE\n",
       "a_tblcase    2529175\n",
       "A_Tblcase      50325\n",
       "A_TblCase        948\n",
       "Name: count, dtype: int64"
      ]
     },
     "execution_count": 547,
     "metadata": {},
     "output_type": "execute_result"
    }
   ],
   "source": [
    "juvenile_reps = juvenile_reps[\n",
    "    juvenile_reps[\"PARENT_TABLE\"].isin([\"A_TblCase\", \"A_Tblcase\", \"a_tblcase\"])\n",
    "].reset_index(drop=True)\n",
    "\n",
    "juvenile_reps[\"PARENT_TABLE\"].value_counts()"
   ]
  },
  {
   "cell_type": "markdown",
   "id": "f7874658",
   "metadata": {},
   "source": [
    "#### Compare `IDNCASE` and `PARENT_IDN` to check if their values are identical.\n"
   ]
  },
  {
   "cell_type": "code",
   "execution_count": 548,
   "id": "8c1a6d8c",
   "metadata": {},
   "outputs": [
    {
     "name": "stdout",
     "output_type": "stream",
     "text": [
      "Match_IDNCASE_PARENTS\n",
      "True     2580425\n",
      "False         23\n",
      "Name: count, dtype: int64\n"
     ]
    }
   ],
   "source": [
    "juvenile_reps[\"Match_IDNCASE_PARENTS\"] = (juvenile_reps[\"IDNCASE\"]\n",
    "    == juvenile_reps[\"PARENT_IDN\"])\n",
    "\n",
    "print(juvenile_reps[\"Match_IDNCASE_PARENTS\"].value_counts())\n",
    "juvenile_reps = juvenile_reps.drop(\"Match_IDNCASE_PARENTS\", axis=1)"
   ]
  },
  {
   "cell_type": "code",
   "execution_count": null,
   "id": "ecee7ca2",
   "metadata": {},
   "outputs": [
    {
     "data": {
      "text/html": [
       "<div>\n",
       "<style scoped>\n",
       "    .dataframe tbody tr th:only-of-type {\n",
       "        vertical-align: middle;\n",
       "    }\n",
       "\n",
       "    .dataframe tbody tr th {\n",
       "        vertical-align: top;\n",
       "    }\n",
       "\n",
       "    .dataframe thead th {\n",
       "        text-align: right;\n",
       "    }\n",
       "</style>\n",
       "<table border=\"1\" class=\"dataframe\">\n",
       "  <thead>\n",
       "    <tr style=\"text-align: right;\">\n",
       "      <th></th>\n",
       "      <th>IDNREPSASSIGNED</th>\n",
       "      <th>IDNCASE</th>\n",
       "      <th>STRATTYLEVEL</th>\n",
       "      <th>STRATTYTYPE</th>\n",
       "      <th>PARENT_TABLE</th>\n",
       "      <th>PARENT_IDN</th>\n",
       "      <th>BASE_CITY_CODE</th>\n",
       "      <th>INS_TA_DATE_ASSIGNED</th>\n",
       "      <th>E_27_DATE</th>\n",
       "      <th>E_28_DATE</th>\n",
       "      <th>BLNPRIMEATTY</th>\n",
       "    </tr>\n",
       "  </thead>\n",
       "  <tbody>\n",
       "    <tr>\n",
       "      <th>28197</th>\n",
       "      <td>12086960</td>\n",
       "      <td>6163622</td>\n",
       "      <td>COURT</td>\n",
       "      <td>ALIEN</td>\n",
       "      <td>a_tblcase</td>\n",
       "      <td>3317728.0</td>\n",
       "      <td>NYC</td>\n",
       "      <td>NaN</td>\n",
       "      <td>NaN</td>\n",
       "      <td>2009-03-05 00:00:00.000</td>\n",
       "      <td>0</td>\n",
       "    </tr>\n",
       "    <tr>\n",
       "      <th>31780</th>\n",
       "      <td>12573607</td>\n",
       "      <td>6271339</td>\n",
       "      <td>COURT</td>\n",
       "      <td>ALIEN</td>\n",
       "      <td>a_tblcase</td>\n",
       "      <td>6271917.0</td>\n",
       "      <td>DET</td>\n",
       "      <td>NaN</td>\n",
       "      <td>NaN</td>\n",
       "      <td>2010-01-28 00:00:00.000</td>\n",
       "      <td>1</td>\n",
       "    </tr>\n",
       "    <tr>\n",
       "      <th>35667</th>\n",
       "      <td>13110143</td>\n",
       "      <td>6597692</td>\n",
       "      <td>COURT</td>\n",
       "      <td>ALIEN</td>\n",
       "      <td>a_tblcase</td>\n",
       "      <td>6622225.0</td>\n",
       "      <td>HON</td>\n",
       "      <td>NaN</td>\n",
       "      <td>NaN</td>\n",
       "      <td>2010-12-06 00:00:00.000</td>\n",
       "      <td>1</td>\n",
       "    </tr>\n",
       "    <tr>\n",
       "      <th>57232</th>\n",
       "      <td>15128637</td>\n",
       "      <td>7304902</td>\n",
       "      <td>COURT</td>\n",
       "      <td>ALIEN</td>\n",
       "      <td>a_tblcase</td>\n",
       "      <td>7258006.0</td>\n",
       "      <td>NaN</td>\n",
       "      <td>NaN</td>\n",
       "      <td>NaN</td>\n",
       "      <td>2015-11-27 00:00:00.000</td>\n",
       "      <td>1</td>\n",
       "    </tr>\n",
       "    <tr>\n",
       "      <th>127551</th>\n",
       "      <td>16946073</td>\n",
       "      <td>6163622</td>\n",
       "      <td>COURT</td>\n",
       "      <td>ALIEN</td>\n",
       "      <td>a_tblcase</td>\n",
       "      <td>3317728.0</td>\n",
       "      <td>NYC</td>\n",
       "      <td>NaN</td>\n",
       "      <td>NaN</td>\n",
       "      <td>2009-03-05 00:00:00.000</td>\n",
       "      <td>0</td>\n",
       "    </tr>\n",
       "  </tbody>\n",
       "</table>\n",
       "</div>"
      ],
      "text/plain": [
       "        IDNREPSASSIGNED  IDNCASE  ...                E_28_DATE BLNPRIMEATTY\n",
       "28197          12086960  6163622  ...  2009-03-05 00:00:00.000            0\n",
       "31780          12573607  6271339  ...  2010-01-28 00:00:00.000            1\n",
       "35667          13110143  6597692  ...  2010-12-06 00:00:00.000            1\n",
       "57232          15128637  7304902  ...  2015-11-27 00:00:00.000            1\n",
       "127551         16946073  6163622  ...  2009-03-05 00:00:00.000            0\n",
       "\n",
       "[5 rows x 11 columns]"
      ]
     },
     "execution_count": 549,
     "metadata": {},
     "output_type": "execute_result"
    }
   ],
   "source": [
    "# show sample of the rows where IDNCASE and PARENT_IDN are different\n",
    "mismatched_rows = juvenile_reps[juvenile_reps[\"IDNCASE\"] != juvenile_reps[\"PARENT_IDN\"]]\n",
    "mismatched_rows.head()"
   ]
  },
  {
   "cell_type": "markdown",
   "id": "a5cc1d14",
   "metadata": {},
   "source": [
    "The two keys are identical for most cases, but further investigation is needed to determine which is more accurate and reliable for merging later."
   ]
  },
  {
   "cell_type": "markdown",
   "id": "61aac989",
   "metadata": {},
   "source": [
    "#### Assess missing values and data types for both columns to decide which is more reliable for merging."
   ]
  },
  {
   "cell_type": "code",
   "execution_count": 550,
   "id": "61ab313d",
   "metadata": {},
   "outputs": [
    {
     "name": "stdout",
     "output_type": "stream",
     "text": [
      "Empty IDNCASE values: 0\n",
      "Empty PARENT_IDN values: 0\n"
     ]
    }
   ],
   "source": [
    "print(f\"Empty IDNCASE values: {juvenile_reps['IDNCASE'].isna().sum()}\")\n",
    "print(f\"Empty PARENT_IDN values: {juvenile_reps['PARENT_IDN'].isna().sum()}\")"
   ]
  },
  {
   "cell_type": "code",
   "execution_count": 551,
   "id": "3a43d670",
   "metadata": {},
   "outputs": [
    {
     "name": "stdout",
     "output_type": "stream",
     "text": [
      "IDNCASE data type is: int64\n",
      "PARENT_IDN data type is: float64\n"
     ]
    }
   ],
   "source": [
    "print(f\"IDNCASE data type is: {juvenile_reps[\"IDNCASE\"].dtype}\")\n",
    "print(f\"PARENT_IDN data type is: {juvenile_reps[\"PARENT_IDN\"].dtype}\")"
   ]
  },
  {
   "cell_type": "markdown",
   "id": "61a87b1f",
   "metadata": {},
   "source": [
    "A definitive conclusion regarding which key is more accurate could not be reached. The primary distinction lies in the data type—integer is preferable as it aligns with the format used in other tables, although this is not critical since data types can be easily adjusted. Given that only 23 out of 2.5 million records contain differing values, the `IDNCASE` field will be utilized for subsequent merging."
   ]
  },
  {
   "cell_type": "markdown",
   "id": "66062c4e",
   "metadata": {},
   "source": [
    "### Checking for Repeated Cases\n",
    "\n",
    "Identify and document cases that appear multiple times in the dataset, as these duplicates may impact downstream analysis and interpretation."
   ]
  },
  {
   "cell_type": "code",
   "execution_count": 552,
   "id": "393d611b",
   "metadata": {},
   "outputs": [
    {
     "data": {
      "text/plain": [
       "(2580448, 11)"
      ]
     },
     "execution_count": 552,
     "metadata": {},
     "output_type": "execute_result"
    }
   ],
   "source": [
    "juvenile_reps.shape"
   ]
  },
  {
   "cell_type": "code",
   "execution_count": 553,
   "id": "ea6cc1c3",
   "metadata": {},
   "outputs": [
    {
     "data": {
      "text/plain": [
       "0"
      ]
     },
     "execution_count": 553,
     "metadata": {},
     "output_type": "execute_result"
    }
   ],
   "source": [
    "# checking for repeated cases in all columns\n",
    "repeated_cases = juvenile_reps[juvenile_reps.duplicated(keep=False)]\n",
    "repeated_cases.shape[0]"
   ]
  },
  {
   "cell_type": "code",
   "execution_count": null,
   "id": "02d0a6e1",
   "metadata": {},
   "outputs": [],
   "source": [
    "# checking for repeated cases in idnCase\n",
    "repeated_cases_idncase = juvenile_reps[juvenile_reps.duplicated(subset=[\"IDNCASE\"], keep=False)]\n",
    "repeated_cases_idncase.shape[0]"
   ]
  },
  {
   "cell_type": "code",
   "execution_count": 555,
   "id": "cc123a58",
   "metadata": {},
   "outputs": [
    {
     "data": {
      "text/plain": [
       "array(['COURT'], dtype=object)"
      ]
     },
     "execution_count": 555,
     "metadata": {},
     "output_type": "execute_result"
    }
   ],
   "source": [
    "juvenile_reps[\"STRATTYLEVEL\"].unique()"
   ]
  },
  {
   "cell_type": "markdown",
   "id": "7751e86d",
   "metadata": {},
   "source": [
    "Most `IDNCASE` values are repeated, with some differences in other columns.  \n",
    "However, since all records in this representation table are for represented cases and share the same `STRATTYLEVEL` (\"COURT\" for all alien juvenile cases),  \n",
    "we can safely drop duplicate entries without impacting the analysis."
   ]
  },
  {
   "cell_type": "code",
   "execution_count": 556,
   "id": "6f5df8a6",
   "metadata": {},
   "outputs": [],
   "source": [
    "juvenile_reps = juvenile_reps.drop_duplicates(subset=[\"IDNCASE\"],keep=\"first\")"
   ]
  },
  {
   "cell_type": "code",
   "execution_count": 557,
   "id": "09ee71e7",
   "metadata": {},
   "outputs": [
    {
     "data": {
      "text/plain": [
       "(1031166, 11)"
      ]
     },
     "execution_count": 557,
     "metadata": {},
     "output_type": "execute_result"
    }
   ],
   "source": [
    "juvenile_reps.shape"
   ]
  },
  {
   "cell_type": "markdown",
   "id": "a2023f98",
   "metadata": {},
   "source": [
    "### Selected Features  – `tbl_RepsAssigned`\n",
    "\n",
    "\n",
    "- `IDNREPSASSIGNED`: primary key\n",
    "- `IDNCASE`: Foreign key, links this table to tblCase table\n",
    "- `STRATTYLEVEL`: This field tells you at which stage or jurisdiction level the attorney is participating:\n",
    "  - `\"COURT\"` = Immigration Court\n",
    "  - `\"BOARD\"` = Board of Immigration Appeals\n",
    "- `STRATTYTYPE`: This field tells you who the attorney or representative is representing in the case.\n",
    "  - `ALIEN`: This means the attorney or representative is representing the noncitizen in the case. (which means the person is represented)\n",
    "  - `INS` stands for the Immigration and Naturalization Service.\n",
    "\n",
    "- `E_28_DATE`: Date of submission of **Form EOIR-28** —  \n",
    "  Notice of Entry of Appearance as Attorney or Representative Before the Immigration Court.  \n",
    "\n",
    " - `E_27_DATE`: Date of submission of **Form EOIR-27** — \n",
    "  Notice of Entry of Appearance as Attorney or Representative Before the Board of Immigration Appeals (BIA).  \n"
   ]
  },
  {
   "cell_type": "code",
   "execution_count": 558,
   "id": "f997af97",
   "metadata": {},
   "outputs": [
    {
     "data": {
      "text/html": [
       "<div>\n",
       "<style scoped>\n",
       "    .dataframe tbody tr th:only-of-type {\n",
       "        vertical-align: middle;\n",
       "    }\n",
       "\n",
       "    .dataframe tbody tr th {\n",
       "        vertical-align: top;\n",
       "    }\n",
       "\n",
       "    .dataframe thead th {\n",
       "        text-align: right;\n",
       "    }\n",
       "</style>\n",
       "<table border=\"1\" class=\"dataframe\">\n",
       "  <thead>\n",
       "    <tr style=\"text-align: right;\">\n",
       "      <th></th>\n",
       "      <th>IDNREPSASSIGNED</th>\n",
       "      <th>IDNCASE</th>\n",
       "      <th>STRATTYLEVEL</th>\n",
       "      <th>STRATTYTYPE</th>\n",
       "      <th>E_28_DATE</th>\n",
       "      <th>E_27_DATE</th>\n",
       "    </tr>\n",
       "  </thead>\n",
       "  <tbody>\n",
       "    <tr>\n",
       "      <th>0</th>\n",
       "      <td>5947072</td>\n",
       "      <td>2607017</td>\n",
       "      <td>COURT</td>\n",
       "      <td>ALIEN</td>\n",
       "      <td>2004-09-23 00:00:00.000</td>\n",
       "      <td>NaN</td>\n",
       "    </tr>\n",
       "    <tr>\n",
       "      <th>1</th>\n",
       "      <td>5947352</td>\n",
       "      <td>2848551</td>\n",
       "      <td>COURT</td>\n",
       "      <td>ALIEN</td>\n",
       "      <td>1991-10-29 00:00:00.000</td>\n",
       "      <td>NaN</td>\n",
       "    </tr>\n",
       "    <tr>\n",
       "      <th>2</th>\n",
       "      <td>5948254</td>\n",
       "      <td>2824744</td>\n",
       "      <td>COURT</td>\n",
       "      <td>ALIEN</td>\n",
       "      <td>1999-06-25 00:00:00.000</td>\n",
       "      <td>NaN</td>\n",
       "    </tr>\n",
       "    <tr>\n",
       "      <th>3</th>\n",
       "      <td>5948542</td>\n",
       "      <td>2047758</td>\n",
       "      <td>COURT</td>\n",
       "      <td>ALIEN</td>\n",
       "      <td>2004-07-15 00:00:00.000</td>\n",
       "      <td>NaN</td>\n",
       "    </tr>\n",
       "    <tr>\n",
       "      <th>4</th>\n",
       "      <td>5949322</td>\n",
       "      <td>3131023</td>\n",
       "      <td>COURT</td>\n",
       "      <td>ALIEN</td>\n",
       "      <td>2005-05-26 00:00:00.000</td>\n",
       "      <td>NaN</td>\n",
       "    </tr>\n",
       "  </tbody>\n",
       "</table>\n",
       "</div>"
      ],
      "text/plain": [
       "   IDNREPSASSIGNED  IDNCASE  ...                E_28_DATE E_27_DATE\n",
       "0          5947072  2607017  ...  2004-09-23 00:00:00.000       NaN\n",
       "1          5947352  2848551  ...  1991-10-29 00:00:00.000       NaN\n",
       "2          5948254  2824744  ...  1999-06-25 00:00:00.000       NaN\n",
       "3          5948542  2047758  ...  2004-07-15 00:00:00.000       NaN\n",
       "4          5949322  3131023  ...  2005-05-26 00:00:00.000       NaN\n",
       "\n",
       "[5 rows x 6 columns]"
      ]
     },
     "execution_count": 558,
     "metadata": {},
     "output_type": "execute_result"
    }
   ],
   "source": [
    "columns = [\n",
    "    \"IDNREPSASSIGNED\",\n",
    "    \"IDNCASE\",\n",
    "    \"STRATTYLEVEL\",\n",
    "    \"STRATTYTYPE\",\n",
    "    \"E_28_DATE\",\n",
    "    \"E_27_DATE\",\n",
    "]\n",
    "\n",
    "juvenile_reps = juvenile_reps[columns]\n",
    "juvenile_reps.head()"
   ]
  },
  {
   "cell_type": "code",
   "execution_count": 559,
   "id": "b8e2f8d7",
   "metadata": {},
   "outputs": [
    {
     "data": {
      "text/plain": [
       "(1031166, 6)"
      ]
     },
     "execution_count": 559,
     "metadata": {},
     "output_type": "execute_result"
    }
   ],
   "source": [
    "juvenile_reps.shape"
   ]
  },
  {
   "cell_type": "markdown",
   "id": "0f527f77",
   "metadata": {},
   "source": [
    "#### Datetime Format Validation\n",
    "\n",
    "The following date-related features will be the focus of the next stage of preprocessing:  \n",
    "- `E_28_DATE`  \n",
    "- `E_27_DATE`  \n",
    "\n",
    "These features may require format standardization and conversion to datetime objects to enable accurate temporal analysis.\n",
    "\n",
    "Every datetime feature follows the format `'YYYY-MM-DD 00:00:00.000'` (e.g., `'2025-02-04 00:00:00.000'`).\n",
    "\n",
    "Before conversion, each feature will be tested against this pattern to ensure values are valid.  \n",
    "All non-null entries will be checked to avoid unintended data loss during transformation with `pd.to_datetime()`.\n",
    "\n",
    "Only the **`YYYY-MM-DD`** portion of each timestamp will be retained."
   ]
  },
  {
   "cell_type": "markdown",
   "id": "d60647c7",
   "metadata": {},
   "source": [
    "The `find_invalid_dates` function, which was defined earlier, will be used."
   ]
  },
  {
   "cell_type": "code",
   "execution_count": 560,
   "id": "8ca07bbb",
   "metadata": {},
   "outputs": [],
   "source": [
    "invalid_E_28_DATE = find_invalid_dates(juvenile_reps, \"E_28_DATE\")\n",
    "invalid_E_27_DATE = find_invalid_dates(juvenile_reps, \"E_27_DATE\")"
   ]
  },
  {
   "cell_type": "markdown",
   "id": "5ad454d0",
   "metadata": {},
   "source": [
    "The `report_invalid` function, which was defined earlier, will be used.\n"
   ]
  },
  {
   "cell_type": "code",
   "execution_count": 561,
   "id": "6d108a49",
   "metadata": {},
   "outputs": [
    {
     "name": "stdout",
     "output_type": "stream",
     "text": [
      "E_28_DATE: 0 invalid entries\n",
      "E_27_DATE: 0 invalid entries\n"
     ]
    }
   ],
   "source": [
    "report_invalid(\"E_28_DATE\", invalid_E_28_DATE)\n",
    "report_invalid(\"E_27_DATE\", invalid_E_27_DATE)"
   ]
  },
  {
   "cell_type": "code",
   "execution_count": 562,
   "id": "9f0c35fb",
   "metadata": {},
   "outputs": [],
   "source": [
    "date_cols = [\"E_28_DATE\", \"E_27_DATE\"]\n",
    "\n",
    "juvenile_reps[date_cols] = juvenile_reps[date_cols].apply(\n",
    "    lambda col: pd.to_datetime(col, errors=\"coerce\")\n",
    ")"
   ]
  },
  {
   "cell_type": "markdown",
   "id": "67ae2c74",
   "metadata": {},
   "source": [
    "#### Specifying Column Data Types"
   ]
  },
  {
   "cell_type": "code",
   "execution_count": 563,
   "id": "814ff363",
   "metadata": {},
   "outputs": [
    {
     "data": {
      "text/plain": [
       "IDNREPSASSIGNED             int64\n",
       "IDNCASE                     int64\n",
       "STRATTYLEVEL               object\n",
       "STRATTYTYPE                object\n",
       "E_28_DATE          datetime64[ns]\n",
       "E_27_DATE          datetime64[ns]\n",
       "dtype: object"
      ]
     },
     "execution_count": 563,
     "metadata": {},
     "output_type": "execute_result"
    }
   ],
   "source": [
    "juvenile_reps.dtypes"
   ]
  },
  {
   "cell_type": "code",
   "execution_count": 564,
   "id": "3fc7859c",
   "metadata": {},
   "outputs": [
    {
     "data": {
      "text/plain": [
       "IDNREPSASSIGNED             int64\n",
       "IDNCASE                     int64\n",
       "STRATTYLEVEL             category\n",
       "STRATTYTYPE              category\n",
       "E_28_DATE          datetime64[ns]\n",
       "E_27_DATE          datetime64[ns]\n",
       "dtype: object"
      ]
     },
     "execution_count": 564,
     "metadata": {},
     "output_type": "execute_result"
    }
   ],
   "source": [
    "juvenile_reps = juvenile_reps.astype(\n",
    "    {\"STRATTYLEVEL\": \"category\", \"STRATTYTYPE\": \"category\"}\n",
    ")\n",
    "juvenile_reps.dtypes"
   ]
  },
  {
   "cell_type": "code",
   "execution_count": 565,
   "id": "5c2b03a0",
   "metadata": {},
   "outputs": [],
   "source": [
    "juvenile_reps.to_csv(\n",
    "    \"../cleaned/juvenile_reps_assigned.csv.gz\", index=False, compression=\"gzip\"\n",
    ")"
   ]
  },
  {
   "cell_type": "markdown",
   "id": "db1d2e6d",
   "metadata": {},
   "source": [
    "### Cleaned `tbl_RepsAssigned`\n",
    "\n",
    "- Filtered to ~2.7M Alien_juvenile represntaion related cases based on `STRATTYTYPE` & `IDNCASE`.\n",
    "- Reset index after filtering.\n",
    "- Selected only the relevant 6 columns for further analysis:\n",
    "  - `IDNREPSASSIGNED`, `IDNCASE`, `STRATTYLEVEL`, `STRATTYTYPE`, `E_28_DATE`, `E_27_DATE`\n",
    "- Converted date fields to `category`:\n",
    "  - `STRATTYLEVEL`\n",
    "  - `STRATTYTYPE `\n",
    "- Converted date fields to `datetime64[ns]`:\n",
    "  - `E_28_DATE`\n",
    "  - `E_27_DATE`\n",
    "\n",
    "Saved cleaned file as:  \n",
    "`juvenile_reps_assigned.csv.gz`"
   ]
  },
  {
   "cell_type": "markdown",
   "id": "b0355e40",
   "metadata": {},
   "source": [
    "## 4. Clean B_TblProceeding"
   ]
  },
  {
   "cell_type": "markdown",
   "id": "d245b1c5",
   "metadata": {},
   "source": [
    "### Initial Data Inspection"
   ]
  },
  {
   "cell_type": "markdown",
   "id": "812913ae",
   "metadata": {},
   "source": [
    "\n",
    "The dataset contains approximately 12 million rows. To avoid memory issues and reduce unnecessary processing, only the first 1000 rows will be inspected initially:\n",
    "\n",
    "- Get an overview of the data types (`dtypes`)\n",
    "- Identify columns/features worth keeping for the EDA\n",
    "- Skip any columns that appear to be irrelevant or redundant\n",
    "\n",
    "This initial check will help streamline the analysis and focus only on useful information."
   ]
  },
  {
   "cell_type": "code",
   "execution_count": 566,
   "id": "11ef247f",
   "metadata": {},
   "outputs": [],
   "source": [
    "proceedings_path = \"B_TblProceeding.csv\"\n",
    "proceedings = pd.read_csv(\n",
    "    filepath_or_buffer=proceedings_path, delimiter=\"\\t\", nrows=1000\n",
    ")"
   ]
  },
  {
   "cell_type": "code",
   "execution_count": 567,
   "id": "988f935c",
   "metadata": {},
   "outputs": [
    {
     "data": {
      "text/html": [
       "<div>\n",
       "<style scoped>\n",
       "    .dataframe tbody tr th:only-of-type {\n",
       "        vertical-align: middle;\n",
       "    }\n",
       "\n",
       "    .dataframe tbody tr th {\n",
       "        vertical-align: top;\n",
       "    }\n",
       "\n",
       "    .dataframe thead th {\n",
       "        text-align: right;\n",
       "    }\n",
       "</style>\n",
       "<table border=\"1\" class=\"dataframe\">\n",
       "  <thead>\n",
       "    <tr style=\"text-align: right;\">\n",
       "      <th></th>\n",
       "      <th>IDNPROCEEDING</th>\n",
       "      <th>IDNCASE</th>\n",
       "      <th>OSC_DATE</th>\n",
       "      <th>INPUT_DATE</th>\n",
       "      <th>BASE_CITY_CODE</th>\n",
       "      <th>HEARING_LOC_CODE</th>\n",
       "      <th>IJ_CODE</th>\n",
       "      <th>TRANS_IN_DATE</th>\n",
       "      <th>PREV_HEARING_LOC</th>\n",
       "      <th>PREV_HEARING_BASE</th>\n",
       "      <th>PREV_IJ_CODE</th>\n",
       "      <th>TRANS_NBR</th>\n",
       "      <th>HEARING_DATE</th>\n",
       "      <th>HEARING_TIME</th>\n",
       "      <th>DEC_TYPE</th>\n",
       "      <th>DEC_CODE</th>\n",
       "      <th>DEPORTED_1</th>\n",
       "      <th>DEPORTED_2</th>\n",
       "      <th>OTHER_COMP</th>\n",
       "      <th>APPEAL_RSVD</th>\n",
       "      <th>APPEAL_NOT_FILED</th>\n",
       "      <th>COMP_DATE</th>\n",
       "      <th>ABSENTIA</th>\n",
       "      <th>VENUE_CHG_GRANTED</th>\n",
       "      <th>TRANSFER_TO</th>\n",
       "      <th>DATE_APPEAL_DUE_STATUS</th>\n",
       "      <th>TRANSFER_STATUS</th>\n",
       "      <th>CUSTODY</th>\n",
       "      <th>CASE_TYPE</th>\n",
       "      <th>NAT</th>\n",
       "      <th>LANG</th>\n",
       "      <th>SCHEDULED_HEAR_LOC</th>\n",
       "      <th>CORRECTIONAL_FAC</th>\n",
       "      <th>CRIM_IND</th>\n",
       "      <th>IHP</th>\n",
       "      <th>AGGRAVATE_FELON</th>\n",
       "      <th>DATE_DETAINED</th>\n",
       "      <th>DATE_RELEASED</th>\n",
       "    </tr>\n",
       "  </thead>\n",
       "  <tbody>\n",
       "    <tr>\n",
       "      <th>0</th>\n",
       "      <td>9329335</td>\n",
       "      <td>9431121</td>\n",
       "      <td>2019-12-22 00:00:00.000</td>\n",
       "      <td>2020-01-31 00:00:00.000</td>\n",
       "      <td>CHL</td>\n",
       "      <td>CHL</td>\n",
       "      <td>SC2</td>\n",
       "      <td>NaN</td>\n",
       "      <td>NaN</td>\n",
       "      <td>NaN</td>\n",
       "      <td>NaN</td>\n",
       "      <td>NaN</td>\n",
       "      <td>2022-02-22 00:00:00.000</td>\n",
       "      <td>800.0</td>\n",
       "      <td>NaN</td>\n",
       "      <td>NaN</td>\n",
       "      <td>NaN</td>\n",
       "      <td>NaN</td>\n",
       "      <td>NaN</td>\n",
       "      <td>NaN</td>\n",
       "      <td>NaN</td>\n",
       "      <td>NaN</td>\n",
       "      <td>NaN</td>\n",
       "      <td>NaN</td>\n",
       "      <td>NaN</td>\n",
       "      <td>NaN</td>\n",
       "      <td>NaN</td>\n",
       "      <td>N</td>\n",
       "      <td>RMV</td>\n",
       "      <td>MX</td>\n",
       "      <td>SP</td>\n",
       "      <td>NaN</td>\n",
       "      <td>NaN</td>\n",
       "      <td>N</td>\n",
       "      <td>NaN</td>\n",
       "      <td>0.0</td>\n",
       "      <td>NaN</td>\n",
       "      <td>NaN</td>\n",
       "    </tr>\n",
       "    <tr>\n",
       "      <th>1</th>\n",
       "      <td>9329336</td>\n",
       "      <td>9431122</td>\n",
       "      <td>2019-12-22 00:00:00.000</td>\n",
       "      <td>2020-01-31 00:00:00.000</td>\n",
       "      <td>CHL</td>\n",
       "      <td>CHL</td>\n",
       "      <td>SC2</td>\n",
       "      <td>NaN</td>\n",
       "      <td>NaN</td>\n",
       "      <td>NaN</td>\n",
       "      <td>NaN</td>\n",
       "      <td>NaN</td>\n",
       "      <td>2022-02-22 00:00:00.000</td>\n",
       "      <td>800.0</td>\n",
       "      <td>NaN</td>\n",
       "      <td>NaN</td>\n",
       "      <td>NaN</td>\n",
       "      <td>NaN</td>\n",
       "      <td>NaN</td>\n",
       "      <td>NaN</td>\n",
       "      <td>NaN</td>\n",
       "      <td>NaN</td>\n",
       "      <td>NaN</td>\n",
       "      <td>NaN</td>\n",
       "      <td>NaN</td>\n",
       "      <td>NaN</td>\n",
       "      <td>NaN</td>\n",
       "      <td>N</td>\n",
       "      <td>RMV</td>\n",
       "      <td>MX</td>\n",
       "      <td>SP</td>\n",
       "      <td>NaN</td>\n",
       "      <td>NaN</td>\n",
       "      <td>N</td>\n",
       "      <td>NaN</td>\n",
       "      <td>0.0</td>\n",
       "      <td>NaN</td>\n",
       "      <td>NaN</td>\n",
       "    </tr>\n",
       "    <tr>\n",
       "      <th>2</th>\n",
       "      <td>9329337</td>\n",
       "      <td>9431123</td>\n",
       "      <td>2019-12-22 00:00:00.000</td>\n",
       "      <td>2020-01-31 00:00:00.000</td>\n",
       "      <td>CHL</td>\n",
       "      <td>CHL</td>\n",
       "      <td>SC2</td>\n",
       "      <td>NaN</td>\n",
       "      <td>NaN</td>\n",
       "      <td>NaN</td>\n",
       "      <td>NaN</td>\n",
       "      <td>NaN</td>\n",
       "      <td>2022-02-22 00:00:00.000</td>\n",
       "      <td>800.0</td>\n",
       "      <td>NaN</td>\n",
       "      <td>NaN</td>\n",
       "      <td>NaN</td>\n",
       "      <td>NaN</td>\n",
       "      <td>NaN</td>\n",
       "      <td>NaN</td>\n",
       "      <td>NaN</td>\n",
       "      <td>NaN</td>\n",
       "      <td>NaN</td>\n",
       "      <td>NaN</td>\n",
       "      <td>NaN</td>\n",
       "      <td>NaN</td>\n",
       "      <td>NaN</td>\n",
       "      <td>N</td>\n",
       "      <td>RMV</td>\n",
       "      <td>MX</td>\n",
       "      <td>SP</td>\n",
       "      <td>NaN</td>\n",
       "      <td>NaN</td>\n",
       "      <td>N</td>\n",
       "      <td>NaN</td>\n",
       "      <td>0.0</td>\n",
       "      <td>NaN</td>\n",
       "      <td>NaN</td>\n",
       "    </tr>\n",
       "    <tr>\n",
       "      <th>3</th>\n",
       "      <td>9329338</td>\n",
       "      <td>9431124</td>\n",
       "      <td>2019-12-09 00:00:00.000</td>\n",
       "      <td>2020-02-13 00:00:00.000</td>\n",
       "      <td>KRO</td>\n",
       "      <td>BCJ</td>\n",
       "      <td>DL</td>\n",
       "      <td>NaN</td>\n",
       "      <td>NaN</td>\n",
       "      <td>NaN</td>\n",
       "      <td>NaN</td>\n",
       "      <td>NaN</td>\n",
       "      <td>2020-02-24 00:00:00.000</td>\n",
       "      <td>830.0</td>\n",
       "      <td>O</td>\n",
       "      <td>X</td>\n",
       "      <td>CU</td>\n",
       "      <td>NaN</td>\n",
       "      <td>NaN</td>\n",
       "      <td>NaN</td>\n",
       "      <td>NaN</td>\n",
       "      <td>2020-02-24 00:00:00.000</td>\n",
       "      <td>N</td>\n",
       "      <td>NaN</td>\n",
       "      <td>NaN</td>\n",
       "      <td>2020-03-25 00:00:00.000</td>\n",
       "      <td>NaN</td>\n",
       "      <td>D</td>\n",
       "      <td>RMV</td>\n",
       "      <td>CU</td>\n",
       "      <td>SP</td>\n",
       "      <td>NaN</td>\n",
       "      <td>NaN</td>\n",
       "      <td>Y</td>\n",
       "      <td>NaN</td>\n",
       "      <td>0.0</td>\n",
       "      <td>2020-02-07 00:00:00.000</td>\n",
       "      <td>NaN</td>\n",
       "    </tr>\n",
       "    <tr>\n",
       "      <th>4</th>\n",
       "      <td>9329339</td>\n",
       "      <td>9431125</td>\n",
       "      <td>2019-12-12 00:00:00.000</td>\n",
       "      <td>2020-01-31 00:00:00.000</td>\n",
       "      <td>CHL</td>\n",
       "      <td>CHL</td>\n",
       "      <td>SC2</td>\n",
       "      <td>NaN</td>\n",
       "      <td>NaN</td>\n",
       "      <td>NaN</td>\n",
       "      <td>NaN</td>\n",
       "      <td>NaN</td>\n",
       "      <td>2022-02-22 00:00:00.000</td>\n",
       "      <td>800.0</td>\n",
       "      <td>NaN</td>\n",
       "      <td>NaN</td>\n",
       "      <td>NaN</td>\n",
       "      <td>NaN</td>\n",
       "      <td>NaN</td>\n",
       "      <td>NaN</td>\n",
       "      <td>NaN</td>\n",
       "      <td>NaN</td>\n",
       "      <td>NaN</td>\n",
       "      <td>NaN</td>\n",
       "      <td>NaN</td>\n",
       "      <td>NaN</td>\n",
       "      <td>NaN</td>\n",
       "      <td>R</td>\n",
       "      <td>RMV</td>\n",
       "      <td>MX</td>\n",
       "      <td>SP</td>\n",
       "      <td>NaN</td>\n",
       "      <td>NaN</td>\n",
       "      <td>N</td>\n",
       "      <td>NaN</td>\n",
       "      <td>0.0</td>\n",
       "      <td>2020-01-31 00:00:00.000</td>\n",
       "      <td>2020-01-31 00:00:00.000</td>\n",
       "    </tr>\n",
       "  </tbody>\n",
       "</table>\n",
       "</div>"
      ],
      "text/plain": [
       "   IDNPROCEEDING  IDNCASE  ...            DATE_DETAINED            DATE_RELEASED\n",
       "0        9329335  9431121  ...                      NaN                      NaN\n",
       "1        9329336  9431122  ...                      NaN                      NaN\n",
       "2        9329337  9431123  ...                      NaN                      NaN\n",
       "3        9329338  9431124  ...  2020-02-07 00:00:00.000                      NaN\n",
       "4        9329339  9431125  ...  2020-01-31 00:00:00.000  2020-01-31 00:00:00.000\n",
       "\n",
       "[5 rows x 38 columns]"
      ]
     },
     "execution_count": 567,
     "metadata": {},
     "output_type": "execute_result"
    }
   ],
   "source": [
    "proceedings.head()"
   ]
  },
  {
   "cell_type": "code",
   "execution_count": 568,
   "id": "4d38dea6",
   "metadata": {},
   "outputs": [
    {
     "name": "stdout",
     "output_type": "stream",
     "text": [
      "<class 'pandas.core.frame.DataFrame'>\n",
      "RangeIndex: 1000 entries, 0 to 999\n",
      "Data columns (total 38 columns):\n",
      " #   Column                  Non-Null Count  Dtype  \n",
      "---  ------                  --------------  -----  \n",
      " 0   IDNPROCEEDING           1000 non-null   int64  \n",
      " 1   IDNCASE                 1000 non-null   int64  \n",
      " 2   OSC_DATE                1000 non-null   object \n",
      " 3   INPUT_DATE              971 non-null    object \n",
      " 4   BASE_CITY_CODE          1000 non-null   object \n",
      " 5   HEARING_LOC_CODE        1000 non-null   object \n",
      " 6   IJ_CODE                 983 non-null    object \n",
      " 7   TRANS_IN_DATE           208 non-null    object \n",
      " 8   PREV_HEARING_LOC        430 non-null    object \n",
      " 9   PREV_HEARING_BASE       430 non-null    object \n",
      " 10  PREV_IJ_CODE            426 non-null    object \n",
      " 11  TRANS_NBR               436 non-null    float64\n",
      " 12  HEARING_DATE            965 non-null    object \n",
      " 13  HEARING_TIME            965 non-null    float64\n",
      " 14  DEC_TYPE                624 non-null    object \n",
      " 15  DEC_CODE                546 non-null    object \n",
      " 16  DEPORTED_1              432 non-null    object \n",
      " 17  DEPORTED_2              246 non-null    object \n",
      " 18  OTHER_COMP              372 non-null    object \n",
      " 19  APPEAL_RSVD             288 non-null    object \n",
      " 20  APPEAL_NOT_FILED        244 non-null    object \n",
      " 21  COMP_DATE               675 non-null    object \n",
      " 22  ABSENTIA                657 non-null    object \n",
      " 23  VENUE_CHG_GRANTED       130 non-null    object \n",
      " 24  TRANSFER_TO             338 non-null    object \n",
      " 25  DATE_APPEAL_DUE_STATUS  591 non-null    object \n",
      " 26  TRANSFER_STATUS         505 non-null    object \n",
      " 27  CUSTODY                 1000 non-null   object \n",
      " 28  CASE_TYPE               1000 non-null   object \n",
      " 29  NAT                     998 non-null    object \n",
      " 30  LANG                    1000 non-null   object \n",
      " 31  SCHEDULED_HEAR_LOC      249 non-null    object \n",
      " 32  CORRECTIONAL_FAC        226 non-null    object \n",
      " 33  CRIM_IND                983 non-null    object \n",
      " 34  IHP                     226 non-null    object \n",
      " 35  AGGRAVATE_FELON         740 non-null    float64\n",
      " 36  DATE_DETAINED           213 non-null    object \n",
      " 37  DATE_RELEASED           110 non-null    object \n",
      "dtypes: float64(3), int64(2), object(33)\n",
      "memory usage: 297.0+ KB\n"
     ]
    }
   ],
   "source": [
    "proceedings.info()"
   ]
  },
  {
   "cell_type": "code",
   "execution_count": 569,
   "id": "bd25b6a2",
   "metadata": {},
   "outputs": [
    {
     "data": {
      "text/plain": [
       "Index(['IDNPROCEEDING', 'IDNCASE', 'OSC_DATE', 'INPUT_DATE', 'BASE_CITY_CODE',\n",
       "       'HEARING_LOC_CODE', 'IJ_CODE', 'TRANS_IN_DATE', 'PREV_HEARING_LOC',\n",
       "       'PREV_HEARING_BASE', 'PREV_IJ_CODE', 'TRANS_NBR', 'HEARING_DATE',\n",
       "       'HEARING_TIME', 'DEC_TYPE', 'DEC_CODE', 'DEPORTED_1', 'DEPORTED_2',\n",
       "       'OTHER_COMP', 'APPEAL_RSVD', 'APPEAL_NOT_FILED', 'COMP_DATE',\n",
       "       'ABSENTIA', 'VENUE_CHG_GRANTED', 'TRANSFER_TO',\n",
       "       'DATE_APPEAL_DUE_STATUS', 'TRANSFER_STATUS', 'CUSTODY', 'CASE_TYPE',\n",
       "       'NAT', 'LANG', 'SCHEDULED_HEAR_LOC', 'CORRECTIONAL_FAC', 'CRIM_IND',\n",
       "       'IHP', 'AGGRAVATE_FELON', 'DATE_DETAINED', 'DATE_RELEASED'],\n",
       "      dtype='object')"
      ]
     },
     "execution_count": 569,
     "metadata": {},
     "output_type": "execute_result"
    }
   ],
   "source": [
    "proceedings.columns"
   ]
  },
  {
   "cell_type": "markdown",
   "id": "0dfd7be9",
   "metadata": {},
   "source": [
    "### Selected Features for EDA – `B_TblProceeding`\n",
    "\n",
    "The selected columns below are core proceeding-level features relevant to analyzing juvenile immigration cases. They were chosen based on the source dataset documentation and their importance for understanding case timelines, decisions, and access to justice.\n",
    "\n",
    "These fields include:\n",
    "\n",
    "- **Case timeline**: `OSC_DATE`, `COMP_DATE`, `INPUT_DATE`\n",
    "- **Case outcomes**: `DEC_CODE`, `ABSENTIA`, `CRIM_IND`\n",
    "- **Demographics & access**: `NAT`, `LANG`, `CUSTODY`, `CASE_TYPE`\n",
    "- **Court geography**: `BASE_CITY_CODE`, `HEARING_LOC_CODE`\n",
    "\n",
    "These variables allow us to track the duration of proceedings, categorize outcomes, and evaluate regional disparities and vulnerability factors."
   ]
  },
  {
   "cell_type": "code",
   "execution_count": 570,
   "id": "a08266bb",
   "metadata": {},
   "outputs": [],
   "source": [
    "selected_columns = [\n",
    "    \"IDNPROCEEDING\",\n",
    "    \"IDNCASE\",\n",
    "    \"OSC_DATE\",\n",
    "    \"INPUT_DATE\",\n",
    "    \"COMP_DATE\",\n",
    "    \"BASE_CITY_CODE\",\n",
    "    \"HEARING_LOC_CODE\",\n",
    "    \"DEC_CODE\",\n",
    "    \"ABSENTIA\",\n",
    "    \"CRIM_IND\",\n",
    "    \"NAT\",\n",
    "    \"LANG\",\n",
    "    \"CASE_TYPE\",\n",
    "    \"CUSTODY\",\n",
    "    \"DATE_DETAINED\",\n",
    "    \"DATE_RELEASED\",\n",
    "]"
   ]
  },
  {
   "cell_type": "code",
   "execution_count": 571,
   "id": "642648e1",
   "metadata": {},
   "outputs": [],
   "source": [
    "proceedings = proceedings[selected_columns]"
   ]
  },
  {
   "cell_type": "code",
   "execution_count": 572,
   "id": "4c561305",
   "metadata": {},
   "outputs": [
    {
     "data": {
      "text/html": [
       "<div>\n",
       "<style scoped>\n",
       "    .dataframe tbody tr th:only-of-type {\n",
       "        vertical-align: middle;\n",
       "    }\n",
       "\n",
       "    .dataframe tbody tr th {\n",
       "        vertical-align: top;\n",
       "    }\n",
       "\n",
       "    .dataframe thead th {\n",
       "        text-align: right;\n",
       "    }\n",
       "</style>\n",
       "<table border=\"1\" class=\"dataframe\">\n",
       "  <thead>\n",
       "    <tr style=\"text-align: right;\">\n",
       "      <th></th>\n",
       "      <th>IDNPROCEEDING</th>\n",
       "      <th>IDNCASE</th>\n",
       "      <th>OSC_DATE</th>\n",
       "      <th>INPUT_DATE</th>\n",
       "      <th>COMP_DATE</th>\n",
       "      <th>BASE_CITY_CODE</th>\n",
       "      <th>HEARING_LOC_CODE</th>\n",
       "      <th>DEC_CODE</th>\n",
       "      <th>ABSENTIA</th>\n",
       "      <th>CRIM_IND</th>\n",
       "      <th>NAT</th>\n",
       "      <th>LANG</th>\n",
       "      <th>CASE_TYPE</th>\n",
       "      <th>CUSTODY</th>\n",
       "      <th>DATE_DETAINED</th>\n",
       "      <th>DATE_RELEASED</th>\n",
       "    </tr>\n",
       "  </thead>\n",
       "  <tbody>\n",
       "    <tr>\n",
       "      <th>0</th>\n",
       "      <td>9329335</td>\n",
       "      <td>9431121</td>\n",
       "      <td>2019-12-22 00:00:00.000</td>\n",
       "      <td>2020-01-31 00:00:00.000</td>\n",
       "      <td>NaN</td>\n",
       "      <td>CHL</td>\n",
       "      <td>CHL</td>\n",
       "      <td>NaN</td>\n",
       "      <td>NaN</td>\n",
       "      <td>N</td>\n",
       "      <td>MX</td>\n",
       "      <td>SP</td>\n",
       "      <td>RMV</td>\n",
       "      <td>N</td>\n",
       "      <td>NaN</td>\n",
       "      <td>NaN</td>\n",
       "    </tr>\n",
       "    <tr>\n",
       "      <th>1</th>\n",
       "      <td>9329336</td>\n",
       "      <td>9431122</td>\n",
       "      <td>2019-12-22 00:00:00.000</td>\n",
       "      <td>2020-01-31 00:00:00.000</td>\n",
       "      <td>NaN</td>\n",
       "      <td>CHL</td>\n",
       "      <td>CHL</td>\n",
       "      <td>NaN</td>\n",
       "      <td>NaN</td>\n",
       "      <td>N</td>\n",
       "      <td>MX</td>\n",
       "      <td>SP</td>\n",
       "      <td>RMV</td>\n",
       "      <td>N</td>\n",
       "      <td>NaN</td>\n",
       "      <td>NaN</td>\n",
       "    </tr>\n",
       "    <tr>\n",
       "      <th>2</th>\n",
       "      <td>9329337</td>\n",
       "      <td>9431123</td>\n",
       "      <td>2019-12-22 00:00:00.000</td>\n",
       "      <td>2020-01-31 00:00:00.000</td>\n",
       "      <td>NaN</td>\n",
       "      <td>CHL</td>\n",
       "      <td>CHL</td>\n",
       "      <td>NaN</td>\n",
       "      <td>NaN</td>\n",
       "      <td>N</td>\n",
       "      <td>MX</td>\n",
       "      <td>SP</td>\n",
       "      <td>RMV</td>\n",
       "      <td>N</td>\n",
       "      <td>NaN</td>\n",
       "      <td>NaN</td>\n",
       "    </tr>\n",
       "    <tr>\n",
       "      <th>3</th>\n",
       "      <td>9329338</td>\n",
       "      <td>9431124</td>\n",
       "      <td>2019-12-09 00:00:00.000</td>\n",
       "      <td>2020-02-13 00:00:00.000</td>\n",
       "      <td>2020-02-24 00:00:00.000</td>\n",
       "      <td>KRO</td>\n",
       "      <td>BCJ</td>\n",
       "      <td>X</td>\n",
       "      <td>N</td>\n",
       "      <td>Y</td>\n",
       "      <td>CU</td>\n",
       "      <td>SP</td>\n",
       "      <td>RMV</td>\n",
       "      <td>D</td>\n",
       "      <td>2020-02-07 00:00:00.000</td>\n",
       "      <td>NaN</td>\n",
       "    </tr>\n",
       "    <tr>\n",
       "      <th>4</th>\n",
       "      <td>9329339</td>\n",
       "      <td>9431125</td>\n",
       "      <td>2019-12-12 00:00:00.000</td>\n",
       "      <td>2020-01-31 00:00:00.000</td>\n",
       "      <td>NaN</td>\n",
       "      <td>CHL</td>\n",
       "      <td>CHL</td>\n",
       "      <td>NaN</td>\n",
       "      <td>NaN</td>\n",
       "      <td>N</td>\n",
       "      <td>MX</td>\n",
       "      <td>SP</td>\n",
       "      <td>RMV</td>\n",
       "      <td>R</td>\n",
       "      <td>2020-01-31 00:00:00.000</td>\n",
       "      <td>2020-01-31 00:00:00.000</td>\n",
       "    </tr>\n",
       "  </tbody>\n",
       "</table>\n",
       "</div>"
      ],
      "text/plain": [
       "   IDNPROCEEDING  IDNCASE  ...            DATE_DETAINED            DATE_RELEASED\n",
       "0        9329335  9431121  ...                      NaN                      NaN\n",
       "1        9329336  9431122  ...                      NaN                      NaN\n",
       "2        9329337  9431123  ...                      NaN                      NaN\n",
       "3        9329338  9431124  ...  2020-02-07 00:00:00.000                      NaN\n",
       "4        9329339  9431125  ...  2020-01-31 00:00:00.000  2020-01-31 00:00:00.000\n",
       "\n",
       "[5 rows x 16 columns]"
      ]
     },
     "execution_count": 572,
     "metadata": {},
     "output_type": "execute_result"
    }
   ],
   "source": [
    "proceedings.head()"
   ]
  },
  {
   "cell_type": "code",
   "execution_count": 573,
   "id": "e0e2af86",
   "metadata": {},
   "outputs": [
    {
     "name": "stdout",
     "output_type": "stream",
     "text": [
      "<class 'pandas.core.frame.DataFrame'>\n",
      "RangeIndex: 1000 entries, 0 to 999\n",
      "Data columns (total 16 columns):\n",
      " #   Column            Non-Null Count  Dtype \n",
      "---  ------            --------------  ----- \n",
      " 0   IDNPROCEEDING     1000 non-null   int64 \n",
      " 1   IDNCASE           1000 non-null   int64 \n",
      " 2   OSC_DATE          1000 non-null   object\n",
      " 3   INPUT_DATE        971 non-null    object\n",
      " 4   COMP_DATE         675 non-null    object\n",
      " 5   BASE_CITY_CODE    1000 non-null   object\n",
      " 6   HEARING_LOC_CODE  1000 non-null   object\n",
      " 7   DEC_CODE          546 non-null    object\n",
      " 8   ABSENTIA          657 non-null    object\n",
      " 9   CRIM_IND          983 non-null    object\n",
      " 10  NAT               998 non-null    object\n",
      " 11  LANG              1000 non-null   object\n",
      " 12  CASE_TYPE         1000 non-null   object\n",
      " 13  CUSTODY           1000 non-null   object\n",
      " 14  DATE_DETAINED     213 non-null    object\n",
      " 15  DATE_RELEASED     110 non-null    object\n",
      "dtypes: int64(2), object(14)\n",
      "memory usage: 125.1+ KB\n"
     ]
    }
   ],
   "source": [
    "proceedings.info()"
   ]
  },
  {
   "cell_type": "code",
   "execution_count": 574,
   "id": "25048e9e",
   "metadata": {},
   "outputs": [
    {
     "data": {
      "text/plain": [
       "IDNPROCEEDING        int64\n",
       "IDNCASE              int64\n",
       "OSC_DATE            object\n",
       "INPUT_DATE          object\n",
       "COMP_DATE           object\n",
       "BASE_CITY_CODE      object\n",
       "HEARING_LOC_CODE    object\n",
       "DEC_CODE            object\n",
       "ABSENTIA            object\n",
       "CRIM_IND            object\n",
       "NAT                 object\n",
       "LANG                object\n",
       "CASE_TYPE           object\n",
       "CUSTODY             object\n",
       "DATE_DETAINED       object\n",
       "DATE_RELEASED       object\n",
       "dtype: object"
      ]
     },
     "execution_count": 574,
     "metadata": {},
     "output_type": "execute_result"
    }
   ],
   "source": [
    "proceedings.dtypes"
   ]
  },
  {
   "cell_type": "markdown",
   "id": "c31e1a2d",
   "metadata": {},
   "source": [
    "#### Specifying Column Data Types\n",
    "\n",
    "- `Int64`: Used for `IDNPROCEEDING`, `IDNCASE` to support nullable integer IDs.  \n",
    "- `category`: Applied to repeated string fields for memory efficiency:\n",
    "  `BASE_CITY_CODE`, `HEARING_LOC_CODE`, `DEC_CODE`, `ABSENTIA`, `CRIM_IND`,\n",
    "  `NAT`, `LANG`, `CASE_TYPE`, `CUSTODY`.  \n",
    "- `object`: Used for date fields (`OSC_DATE`, `INPUT_DATE`, `COMP_DATE`,\n",
    "  `DATE_DETAINED`, `DATE_RELEASED`) to preserve original formats before validation\n",
    "  and conversion to `datetime`."
   ]
  },
  {
   "cell_type": "code",
   "execution_count": 575,
   "id": "323ec7cd",
   "metadata": {},
   "outputs": [],
   "source": [
    "dtypes = {\n",
    "    \"IDNPROCEEDING\": \"Int64\",\n",
    "    \"IDNCASE\": \"Int64\",\n",
    "    \"OSC_DATE\": \"object\",\n",
    "    \"INPUT_DATE\": \"object\",\n",
    "    \"COMP_DATE\": \"object\",\n",
    "    \"BASE_CITY_CODE\": \"category\",\n",
    "    \"HEARING_LOC_CODE\": \"category\",\n",
    "    \"DEC_CODE\": \"category\",\n",
    "    \"ABSENTIA\": \"category\",\n",
    "    \"CRIM_IND\": \"category\",\n",
    "    \"NAT\": \"category\",\n",
    "    \"LANG\": \"category\",\n",
    "    \"CASE_TYPE\": \"category\",\n",
    "    \"CUSTODY\": \"category\",\n",
    "    \"DATE_DETAINED\": \"object\",\n",
    "    \"DATE_RELEASED\": \"object\",\n",
    "}"
   ]
  },
  {
   "cell_type": "markdown",
   "id": "0643aaae",
   "metadata": {},
   "source": [
    "### Skipping Malformed Rows\n",
    "\n",
    "Some lines in the dataset have an incorrect number of tab-separated fields, which can cause parsing errors during loading.  \n",
    "The script first determines the expected number of columns from the header, then identifies and skips any rows that don't match.  \n",
    "This approach ensures only properly structured records are read without triggering errors or discarding valid data."
   ]
  },
  {
   "cell_type": "code",
   "execution_count": 576,
   "id": "c6e63e8d",
   "metadata": {},
   "outputs": [
    {
     "name": "stdout",
     "output_type": "stream",
     "text": [
      "Rows to skip: [97835, 570096, 570097, 711871, 808187, 925893, 1340981, 1374429, 1375092, 1526869, 1540198, 1634092, 2027082, 2178293, 2178294, 2799401, 2833726, 2845396, 2874449, 2874454, 3050966, 3072502, 3089401, 3094348, 3314332, 3314333, 3499731, 3529540, 3834981, 4010908, 4192732, 4192733, 4247596, 4328751, 4328752, 4402946, 4456120, 4485669, 4485670, 4594041, 4594042, 4777655, 5037195, 5289573, 5294225, 5460027, 5505089, 5685628, 5765052, 5767554, 5770037, 6079161, 6079162, 6354988, 6372650, 6720545, 6720546, 6906838, 7537286, 7537287, 7903157, 7903158, 8106585, 8106586, 8192257, 8296762, 8561598, 8660111, 8738299, 8738764, 8744904, 8831487, 8914785, 9882723, 9973801, 10102404, 10244630, 10284073, 10438487, 10551043, 10813073, 10894138, 10894139, 10937485, 11256349, 11256350, 11415193, 11415194, 11451606, 11482022, 11523116, 11539956, 11551964, 11586386, 11668880, 13514773, 13514774, 13529532, 13529533, 13535869, 14139697, 14139698, 14392108, 14392109, 14464216, 14557193, 14557194, 14796190, 14796191, 14856170, 14856171, 14908476, 14914396, 14944438, 14980851, 14980852, 15011263]\n"
     ]
    }
   ],
   "source": [
    "import csv\n",
    "\n",
    "with open(proceedings_path, \"r\", encoding=\"utf-8\", errors=\"ignore\") as f:\n",
    "    header = f.readline().rstrip(\"\\n\").split(\"\\t\")\n",
    "n_fields = len(header)\n",
    "\n",
    "bad_rows = []\n",
    "with open(proceedings_path, \"r\", encoding=\"utf-8\", errors=\"ignore\") as f:\n",
    "    for i, line in enumerate(f):\n",
    "        if i == 0:\n",
    "            continue  # skip header\n",
    "        if len(line.rstrip(\"\\n\").split(\"\\t\")) != n_fields:\n",
    "            bad_rows.append(i)\n",
    "\n",
    "print(\"Rows to skip:\", bad_rows)"
   ]
  },
  {
   "cell_type": "code",
   "execution_count": 577,
   "id": "fe00596e",
   "metadata": {},
   "outputs": [],
   "source": [
    "proceedings = pd.read_csv(\n",
    "    proceedings_path,\n",
    "    sep=\"\\t\",\n",
    "    usecols=selected_columns,\n",
    "    dtype=str,\n",
    "    skiprows=bad_rows,\n",
    "    quoting=csv.QUOTE_NONE,\n",
    ")"
   ]
  },
  {
   "cell_type": "code",
   "execution_count": 578,
   "id": "36834681",
   "metadata": {},
   "outputs": [],
   "source": [
    "proceedings = proceedings.astype(dtypes)"
   ]
  },
  {
   "cell_type": "code",
   "execution_count": 579,
   "id": "24d47fbf",
   "metadata": {},
   "outputs": [],
   "source": [
    "juvenile_proceedings = proceedings[\n",
    "    proceedings[\"IDNPROCEEDING\"].isin(juvenile_proceeding_ids)\n",
    "].reset_index(drop=True)"
   ]
  },
  {
   "cell_type": "code",
   "execution_count": 580,
   "id": "02f6933f",
   "metadata": {},
   "outputs": [
    {
     "name": "stdout",
     "output_type": "stream",
     "text": [
      "Number of idnProceeding keys in tbl_JuvenileHistory.csv table: 2,819,053\n",
      "Number of matched juvenile rows in B_TblProceeding.csv based on those keys: 2,819,051\n"
     ]
    }
   ],
   "source": [
    "print(\n",
    "    f\"Number of idnProceeding keys in tbl_JuvenileHistory.csv table: {len(juvenile_proceeding_ids):,}\"\n",
    ")\n",
    "print(\n",
    "    f\"Number of matched juvenile rows in B_TblProceeding.csv based on those keys: {juvenile_proceedings.shape[0]:,}\"\n",
    ")"
   ]
  },
  {
   "cell_type": "code",
   "execution_count": 581,
   "id": "2953b7a9",
   "metadata": {},
   "outputs": [
    {
     "data": {
      "text/html": [
       "<div>\n",
       "<style scoped>\n",
       "    .dataframe tbody tr th:only-of-type {\n",
       "        vertical-align: middle;\n",
       "    }\n",
       "\n",
       "    .dataframe tbody tr th {\n",
       "        vertical-align: top;\n",
       "    }\n",
       "\n",
       "    .dataframe thead th {\n",
       "        text-align: right;\n",
       "    }\n",
       "</style>\n",
       "<table border=\"1\" class=\"dataframe\">\n",
       "  <thead>\n",
       "    <tr style=\"text-align: right;\">\n",
       "      <th></th>\n",
       "      <th>IDNPROCEEDING</th>\n",
       "      <th>IDNCASE</th>\n",
       "      <th>OSC_DATE</th>\n",
       "      <th>INPUT_DATE</th>\n",
       "      <th>BASE_CITY_CODE</th>\n",
       "      <th>HEARING_LOC_CODE</th>\n",
       "      <th>DEC_CODE</th>\n",
       "      <th>COMP_DATE</th>\n",
       "      <th>ABSENTIA</th>\n",
       "      <th>CUSTODY</th>\n",
       "      <th>CASE_TYPE</th>\n",
       "      <th>NAT</th>\n",
       "      <th>LANG</th>\n",
       "      <th>CRIM_IND</th>\n",
       "      <th>DATE_DETAINED</th>\n",
       "      <th>DATE_RELEASED</th>\n",
       "    </tr>\n",
       "  </thead>\n",
       "  <tbody>\n",
       "    <tr>\n",
       "      <th>0</th>\n",
       "      <td>9329335</td>\n",
       "      <td>9431121</td>\n",
       "      <td>2019-12-22 00:00:00.000</td>\n",
       "      <td>2020-01-31 00:00:00.000</td>\n",
       "      <td>CHL</td>\n",
       "      <td>CHL</td>\n",
       "      <td>NaN</td>\n",
       "      <td>NaN</td>\n",
       "      <td>NaN</td>\n",
       "      <td>N</td>\n",
       "      <td>RMV</td>\n",
       "      <td>MX</td>\n",
       "      <td>SP</td>\n",
       "      <td>N</td>\n",
       "      <td>NaN</td>\n",
       "      <td>NaN</td>\n",
       "    </tr>\n",
       "    <tr>\n",
       "      <th>1</th>\n",
       "      <td>9329336</td>\n",
       "      <td>9431122</td>\n",
       "      <td>2019-12-22 00:00:00.000</td>\n",
       "      <td>2020-01-31 00:00:00.000</td>\n",
       "      <td>CHL</td>\n",
       "      <td>CHL</td>\n",
       "      <td>NaN</td>\n",
       "      <td>NaN</td>\n",
       "      <td>NaN</td>\n",
       "      <td>N</td>\n",
       "      <td>RMV</td>\n",
       "      <td>MX</td>\n",
       "      <td>SP</td>\n",
       "      <td>N</td>\n",
       "      <td>NaN</td>\n",
       "      <td>NaN</td>\n",
       "    </tr>\n",
       "    <tr>\n",
       "      <th>2</th>\n",
       "      <td>9329337</td>\n",
       "      <td>9431123</td>\n",
       "      <td>2019-12-22 00:00:00.000</td>\n",
       "      <td>2020-01-31 00:00:00.000</td>\n",
       "      <td>CHL</td>\n",
       "      <td>CHL</td>\n",
       "      <td>NaN</td>\n",
       "      <td>NaN</td>\n",
       "      <td>NaN</td>\n",
       "      <td>N</td>\n",
       "      <td>RMV</td>\n",
       "      <td>MX</td>\n",
       "      <td>SP</td>\n",
       "      <td>N</td>\n",
       "      <td>NaN</td>\n",
       "      <td>NaN</td>\n",
       "    </tr>\n",
       "    <tr>\n",
       "      <th>3</th>\n",
       "      <td>9329338</td>\n",
       "      <td>9431124</td>\n",
       "      <td>2019-12-09 00:00:00.000</td>\n",
       "      <td>2020-02-13 00:00:00.000</td>\n",
       "      <td>KRO</td>\n",
       "      <td>BCJ</td>\n",
       "      <td>X</td>\n",
       "      <td>2020-02-24 00:00:00.000</td>\n",
       "      <td>N</td>\n",
       "      <td>D</td>\n",
       "      <td>RMV</td>\n",
       "      <td>CU</td>\n",
       "      <td>SP</td>\n",
       "      <td>Y</td>\n",
       "      <td>2020-02-07 00:00:00.000</td>\n",
       "      <td>NaN</td>\n",
       "    </tr>\n",
       "    <tr>\n",
       "      <th>4</th>\n",
       "      <td>9329339</td>\n",
       "      <td>9431125</td>\n",
       "      <td>2019-12-12 00:00:00.000</td>\n",
       "      <td>2020-01-31 00:00:00.000</td>\n",
       "      <td>CHL</td>\n",
       "      <td>CHL</td>\n",
       "      <td>NaN</td>\n",
       "      <td>NaN</td>\n",
       "      <td>NaN</td>\n",
       "      <td>R</td>\n",
       "      <td>RMV</td>\n",
       "      <td>MX</td>\n",
       "      <td>SP</td>\n",
       "      <td>N</td>\n",
       "      <td>2020-01-31 00:00:00.000</td>\n",
       "      <td>2020-01-31 00:00:00.000</td>\n",
       "    </tr>\n",
       "  </tbody>\n",
       "</table>\n",
       "</div>"
      ],
      "text/plain": [
       "   IDNPROCEEDING  IDNCASE  ...            DATE_DETAINED            DATE_RELEASED\n",
       "0        9329335  9431121  ...                      NaN                      NaN\n",
       "1        9329336  9431122  ...                      NaN                      NaN\n",
       "2        9329337  9431123  ...                      NaN                      NaN\n",
       "3        9329338  9431124  ...  2020-02-07 00:00:00.000                      NaN\n",
       "4        9329339  9431125  ...  2020-01-31 00:00:00.000  2020-01-31 00:00:00.000\n",
       "\n",
       "[5 rows x 16 columns]"
      ]
     },
     "execution_count": 581,
     "metadata": {},
     "output_type": "execute_result"
    }
   ],
   "source": [
    "juvenile_proceedings.head()"
   ]
  },
  {
   "cell_type": "code",
   "execution_count": 582,
   "id": "f61d3792",
   "metadata": {},
   "outputs": [
    {
     "name": "stdout",
     "output_type": "stream",
     "text": [
      "<class 'pandas.core.frame.DataFrame'>\n",
      "RangeIndex: 2819051 entries, 0 to 2819050\n",
      "Data columns (total 16 columns):\n",
      " #   Column            Dtype   \n",
      "---  ------            -----   \n",
      " 0   IDNPROCEEDING     Int64   \n",
      " 1   IDNCASE           Int64   \n",
      " 2   OSC_DATE          object  \n",
      " 3   INPUT_DATE        object  \n",
      " 4   BASE_CITY_CODE    category\n",
      " 5   HEARING_LOC_CODE  category\n",
      " 6   DEC_CODE          category\n",
      " 7   COMP_DATE         object  \n",
      " 8   ABSENTIA          category\n",
      " 9   CUSTODY           category\n",
      " 10  CASE_TYPE         category\n",
      " 11  NAT               category\n",
      " 12  LANG              category\n",
      " 13  CRIM_IND          category\n",
      " 14  DATE_DETAINED     object  \n",
      " 15  DATE_RELEASED     object  \n",
      "dtypes: Int64(2), category(9), object(5)\n",
      "memory usage: 188.3+ MB\n"
     ]
    }
   ],
   "source": [
    "juvenile_proceedings.info()"
   ]
  },
  {
   "cell_type": "markdown",
   "id": "65ebd2cb",
   "metadata": {},
   "source": [
    "#### Datetime Format Validation\n",
    "\n",
    "The following date-related features will be the focus of the next stage of preprocessing:  \n",
    "- `OSC_DATE`  \n",
    "- `INPUT_DATE`  \n",
    "- `COMP_DATE`  \n",
    "- `DATE_DETAINED`  \n",
    "- `DATE_RELEASED`  \n",
    "\n",
    "These features may require format standardization and conversion to datetime objects to enable accurate temporal analysis.\n",
    "\n",
    "Every datetime feature (except `C_BIRTHDATE`) follows the format `'YYYY-MM-DD 00:00:00.000'` (e.g., `'2025-02-04 00:00:00.000'`).\n",
    "\n",
    "Before conversion, each feature will be tested against this pattern to ensure values are valid.  \n",
    "All non-null entries will be checked to avoid unintended data loss during transformation with `pd.to_datetime()`.\n",
    "\n",
    "Only the **`YYYY-MM-DD`** portion of each timestamp will be retained."
   ]
  },
  {
   "cell_type": "code",
   "execution_count": 583,
   "id": "1b0430df",
   "metadata": {},
   "outputs": [],
   "source": [
    "invalid_osc_date = find_invalid_dates(juvenile_proceedings, \"OSC_DATE\")\n",
    "invalid_input_date = find_invalid_dates(juvenile_proceedings, \"INPUT_DATE\")\n",
    "invalid_comp_date = find_invalid_dates(juvenile_proceedings, \"COMP_DATE\")\n",
    "invalid_date_detained = find_invalid_dates(juvenile_proceedings, \"DATE_DETAINED\")\n",
    "invalid_date_released = find_invalid_dates(juvenile_proceedings, \"DATE_RELEASED\")"
   ]
  },
  {
   "cell_type": "code",
   "execution_count": 584,
   "id": "ad0b74c4",
   "metadata": {},
   "outputs": [
    {
     "name": "stdout",
     "output_type": "stream",
     "text": [
      "OSC_DATE: 0 invalid entries\n",
      "INPUT_DATE: 0 invalid entries\n",
      "COMP_DATE: 0 invalid entries\n",
      "DATE_DETAINED: 0 invalid entries\n",
      "DATE_RELEASED: 0 invalid entries\n"
     ]
    }
   ],
   "source": [
    "report_invalid(\"OSC_DATE\", invalid_osc_date)\n",
    "report_invalid(\"INPUT_DATE\", invalid_input_date)\n",
    "report_invalid(\"COMP_DATE\", invalid_comp_date)\n",
    "report_invalid(\"DATE_DETAINED\", invalid_date_detained)\n",
    "report_invalid(\"DATE_RELEASED\", invalid_date_released)"
   ]
  },
  {
   "cell_type": "code",
   "execution_count": 585,
   "id": "363be51f",
   "metadata": {},
   "outputs": [],
   "source": [
    "date_cols = [\"OSC_DATE\", \"INPUT_DATE\", \"COMP_DATE\", \"DATE_DETAINED\", \"DATE_RELEASED\"]\n",
    "\n",
    "juvenile_proceedings[date_cols] = juvenile_proceedings[date_cols].apply(\n",
    "    lambda col: pd.to_datetime(col, errors=\"coerce\")\n",
    ")"
   ]
  },
  {
   "cell_type": "code",
   "execution_count": 586,
   "id": "c1caf625",
   "metadata": {},
   "outputs": [
    {
     "name": "stdout",
     "output_type": "stream",
     "text": [
      "<class 'pandas.core.frame.DataFrame'>\n",
      "RangeIndex: 2819051 entries, 0 to 2819050\n",
      "Data columns (total 16 columns):\n",
      " #   Column            Dtype         \n",
      "---  ------            -----         \n",
      " 0   IDNPROCEEDING     Int64         \n",
      " 1   IDNCASE           Int64         \n",
      " 2   OSC_DATE          datetime64[ns]\n",
      " 3   INPUT_DATE        datetime64[ns]\n",
      " 4   BASE_CITY_CODE    category      \n",
      " 5   HEARING_LOC_CODE  category      \n",
      " 6   DEC_CODE          category      \n",
      " 7   COMP_DATE         datetime64[ns]\n",
      " 8   ABSENTIA          category      \n",
      " 9   CUSTODY           category      \n",
      " 10  CASE_TYPE         category      \n",
      " 11  NAT               category      \n",
      " 12  LANG              category      \n",
      " 13  CRIM_IND          category      \n",
      " 14  DATE_DETAINED     datetime64[ns]\n",
      " 15  DATE_RELEASED     datetime64[ns]\n",
      "dtypes: Int64(2), category(9), datetime64[ns](5)\n",
      "memory usage: 188.3 MB\n"
     ]
    }
   ],
   "source": [
    "juvenile_proceedings.info()"
   ]
  },
  {
   "cell_type": "code",
   "execution_count": 587,
   "id": "303194d9",
   "metadata": {},
   "outputs": [
    {
     "data": {
      "text/html": [
       "<div>\n",
       "<style scoped>\n",
       "    .dataframe tbody tr th:only-of-type {\n",
       "        vertical-align: middle;\n",
       "    }\n",
       "\n",
       "    .dataframe tbody tr th {\n",
       "        vertical-align: top;\n",
       "    }\n",
       "\n",
       "    .dataframe thead th {\n",
       "        text-align: right;\n",
       "    }\n",
       "</style>\n",
       "<table border=\"1\" class=\"dataframe\">\n",
       "  <thead>\n",
       "    <tr style=\"text-align: right;\">\n",
       "      <th></th>\n",
       "      <th>Missing Count</th>\n",
       "      <th>Missing %</th>\n",
       "    </tr>\n",
       "  </thead>\n",
       "  <tbody>\n",
       "    <tr>\n",
       "      <th>DATE_RELEASED</th>\n",
       "      <td>1797051</td>\n",
       "      <td>63.75</td>\n",
       "    </tr>\n",
       "    <tr>\n",
       "      <th>DATE_DETAINED</th>\n",
       "      <td>1339487</td>\n",
       "      <td>47.52</td>\n",
       "    </tr>\n",
       "    <tr>\n",
       "      <th>DEC_CODE</th>\n",
       "      <td>1325544</td>\n",
       "      <td>47.02</td>\n",
       "    </tr>\n",
       "    <tr>\n",
       "      <th>ABSENTIA</th>\n",
       "      <td>443884</td>\n",
       "      <td>15.75</td>\n",
       "    </tr>\n",
       "    <tr>\n",
       "      <th>COMP_DATE</th>\n",
       "      <td>419983</td>\n",
       "      <td>14.90</td>\n",
       "    </tr>\n",
       "    <tr>\n",
       "      <th>CRIM_IND</th>\n",
       "      <td>173907</td>\n",
       "      <td>6.17</td>\n",
       "    </tr>\n",
       "    <tr>\n",
       "      <th>OSC_DATE</th>\n",
       "      <td>24218</td>\n",
       "      <td>0.86</td>\n",
       "    </tr>\n",
       "    <tr>\n",
       "      <th>INPUT_DATE</th>\n",
       "      <td>11182</td>\n",
       "      <td>0.40</td>\n",
       "    </tr>\n",
       "    <tr>\n",
       "      <th>NAT</th>\n",
       "      <td>8194</td>\n",
       "      <td>0.29</td>\n",
       "    </tr>\n",
       "    <tr>\n",
       "      <th>LANG</th>\n",
       "      <td>1919</td>\n",
       "      <td>0.07</td>\n",
       "    </tr>\n",
       "    <tr>\n",
       "      <th>HEARING_LOC_CODE</th>\n",
       "      <td>73</td>\n",
       "      <td>0.00</td>\n",
       "    </tr>\n",
       "    <tr>\n",
       "      <th>CUSTODY</th>\n",
       "      <td>15</td>\n",
       "      <td>0.00</td>\n",
       "    </tr>\n",
       "    <tr>\n",
       "      <th>BASE_CITY_CODE</th>\n",
       "      <td>1</td>\n",
       "      <td>0.00</td>\n",
       "    </tr>\n",
       "    <tr>\n",
       "      <th>IDNPROCEEDING</th>\n",
       "      <td>0</td>\n",
       "      <td>0.00</td>\n",
       "    </tr>\n",
       "    <tr>\n",
       "      <th>IDNCASE</th>\n",
       "      <td>0</td>\n",
       "      <td>0.00</td>\n",
       "    </tr>\n",
       "    <tr>\n",
       "      <th>CASE_TYPE</th>\n",
       "      <td>0</td>\n",
       "      <td>0.00</td>\n",
       "    </tr>\n",
       "  </tbody>\n",
       "</table>\n",
       "</div>"
      ],
      "text/plain": [
       "                  Missing Count  Missing %\n",
       "DATE_RELEASED           1797051      63.75\n",
       "DATE_DETAINED           1339487      47.52\n",
       "DEC_CODE                1325544      47.02\n",
       "ABSENTIA                 443884      15.75\n",
       "COMP_DATE                419983      14.90\n",
       "CRIM_IND                 173907       6.17\n",
       "OSC_DATE                  24218       0.86\n",
       "INPUT_DATE                11182       0.40\n",
       "NAT                        8194       0.29\n",
       "LANG                       1919       0.07\n",
       "HEARING_LOC_CODE             73       0.00\n",
       "CUSTODY                      15       0.00\n",
       "BASE_CITY_CODE                1       0.00\n",
       "IDNPROCEEDING                 0       0.00\n",
       "IDNCASE                       0       0.00\n",
       "CASE_TYPE                     0       0.00"
      ]
     },
     "metadata": {},
     "output_type": "display_data"
    }
   ],
   "source": [
    "null_counts = juvenile_proceedings.isna().sum()\n",
    "percent_missing = (null_counts / len(juvenile_proceedings)) * 100\n",
    "\n",
    "missing_summary = pd.DataFrame(\n",
    "    {\"Missing Count\": null_counts, \"Missing %\": percent_missing.round(2)}\n",
    ").sort_values(by=\"Missing Count\", ascending=False)\n",
    "\n",
    "display(missing_summary)"
   ]
  },
  {
   "cell_type": "markdown",
   "id": "1eb3dde3",
   "metadata": {},
   "source": [
    "### Categorical Value Cleanup\n",
    "\n",
    "Currently reviewing categorical columns to identify and clean inconsistent or invalid entries.  \n",
    "Suspicious values (e.g., empty strings, control characters, or rare invalid codes) will be converted to `NaN` for clarity and downstream compatibility.\n",
    "\n",
    "Target columns:\n",
    "- BASE_CITY_CODE\n",
    "- HEARING_LOC_CODE\n",
    "- DEC_CODE\n",
    "- ABSENTIA\n",
    "- CUSTODY\n",
    "- CASE_TYPE\n",
    "- NAT\n",
    "- LANG\n",
    "- CRIM_IND\n",
    "\n",
    "This step ensures categorical data is standardized and ready for analysis."
   ]
  },
  {
   "cell_type": "code",
   "execution_count": 588,
   "id": "7ce1ca9b",
   "metadata": {},
   "outputs": [
    {
     "data": {
      "text/plain": [
       "BASE_CITY_CODE\n",
       "MIA    130860\n",
       "NYC    121506\n",
       "SFR    105165\n",
       "SNA    103132\n",
       "DAL     95447\n",
       "        ...  \n",
       "ELC         0\n",
       "LAN         0\n",
       "TST         0\n",
       "BDC         0\n",
       "NYD         0\n",
       "Name: count, Length: 88, dtype: int64"
      ]
     },
     "execution_count": 588,
     "metadata": {},
     "output_type": "execute_result"
    }
   ],
   "source": [
    "juvenile_proceedings[\"BASE_CITY_CODE\"].value_counts()"
   ]
  },
  {
   "cell_type": "code",
   "execution_count": 589,
   "id": "c968ebe6",
   "metadata": {},
   "outputs": [
    {
     "data": {
      "text/plain": [
       "HEARING_LOC_CODE\n",
       "MIA    123648\n",
       "NYC    117607\n",
       "SFR     82208\n",
       "DAL     76035\n",
       "CHL     75154\n",
       "        ...  \n",
       "POL         0\n",
       "ECE         0\n",
       "ECD         0\n",
       "PRC         0\n",
       "1AC         0\n",
       "Name: count, Length: 836, dtype: int64"
      ]
     },
     "execution_count": 589,
     "metadata": {},
     "output_type": "execute_result"
    }
   ],
   "source": [
    "juvenile_proceedings[\"HEARING_LOC_CODE\"].value_counts()"
   ]
  },
  {
   "cell_type": "code",
   "execution_count": 590,
   "id": "0b0937ea",
   "metadata": {},
   "outputs": [
    {
     "data": {
      "text/html": [
       "<div>\n",
       "<style scoped>\n",
       "    .dataframe tbody tr th:only-of-type {\n",
       "        vertical-align: middle;\n",
       "    }\n",
       "\n",
       "    .dataframe tbody tr th {\n",
       "        vertical-align: top;\n",
       "    }\n",
       "\n",
       "    .dataframe thead th {\n",
       "        text-align: right;\n",
       "    }\n",
       "</style>\n",
       "<table border=\"1\" class=\"dataframe\">\n",
       "  <thead>\n",
       "    <tr style=\"text-align: right;\">\n",
       "      <th></th>\n",
       "      <th>CASE_TYPE</th>\n",
       "      <th>DEC_CODE</th>\n",
       "    </tr>\n",
       "  </thead>\n",
       "  <tbody>\n",
       "    <tr>\n",
       "      <th>3</th>\n",
       "      <td>RMV</td>\n",
       "      <td>X</td>\n",
       "    </tr>\n",
       "    <tr>\n",
       "      <th>5</th>\n",
       "      <td>RMV</td>\n",
       "      <td>V</td>\n",
       "    </tr>\n",
       "    <tr>\n",
       "      <th>7</th>\n",
       "      <td>RMV</td>\n",
       "      <td>X</td>\n",
       "    </tr>\n",
       "    <tr>\n",
       "      <th>8</th>\n",
       "      <td>RMV</td>\n",
       "      <td>X</td>\n",
       "    </tr>\n",
       "    <tr>\n",
       "      <th>9</th>\n",
       "      <td>CFR</td>\n",
       "      <td>A</td>\n",
       "    </tr>\n",
       "    <tr>\n",
       "      <th>...</th>\n",
       "      <td>...</td>\n",
       "      <td>...</td>\n",
       "    </tr>\n",
       "    <tr>\n",
       "      <th>2819042</th>\n",
       "      <td>RMV</td>\n",
       "      <td>X</td>\n",
       "    </tr>\n",
       "    <tr>\n",
       "      <th>2819044</th>\n",
       "      <td>CFR</td>\n",
       "      <td>V</td>\n",
       "    </tr>\n",
       "    <tr>\n",
       "      <th>2819045</th>\n",
       "      <td>RMV</td>\n",
       "      <td>X</td>\n",
       "    </tr>\n",
       "    <tr>\n",
       "      <th>2819046</th>\n",
       "      <td>RMV</td>\n",
       "      <td>X</td>\n",
       "    </tr>\n",
       "    <tr>\n",
       "      <th>2819050</th>\n",
       "      <td>RMV</td>\n",
       "      <td>X</td>\n",
       "    </tr>\n",
       "  </tbody>\n",
       "</table>\n",
       "<p>1493507 rows × 2 columns</p>\n",
       "</div>"
      ],
      "text/plain": [
       "        CASE_TYPE DEC_CODE\n",
       "3             RMV        X\n",
       "5             RMV        V\n",
       "7             RMV        X\n",
       "8             RMV        X\n",
       "9             CFR        A\n",
       "...           ...      ...\n",
       "2819042       RMV        X\n",
       "2819044       CFR        V\n",
       "2819045       RMV        X\n",
       "2819046       RMV        X\n",
       "2819050       RMV        X\n",
       "\n",
       "[1493507 rows x 2 columns]"
      ]
     },
     "metadata": {},
     "output_type": "display_data"
    }
   ],
   "source": [
    "display(\n",
    "    juvenile_proceedings[\n",
    "        juvenile_proceedings[\"CASE_TYPE\"].notna()\n",
    "        & juvenile_proceedings[\"DEC_CODE\"].notna()\n",
    "    ][[\"CASE_TYPE\", \"DEC_CODE\"]]\n",
    ")"
   ]
  },
  {
   "cell_type": "code",
   "execution_count": 591,
   "id": "1aa0bcb8",
   "metadata": {},
   "outputs": [
    {
     "data": {
      "text/plain": [
       "DEC_CODE\n",
       "X    712195\n",
       "U    284771\n",
       "T    183240\n",
       "V    105445\n",
       "A     84170\n",
       "R     82231\n",
       "      14761\n",
       "D     11935\n",
       "W      5522\n",
       "G      2843\n",
       "O      2084\n",
       "E      1479\n",
       "Z      1457\n",
       "L       953\n",
       "H       342\n",
       "J        71\n",
       "S         4\n",
       "C         3\n",
       "K         1\n",
       "2         0\n",
       "Name: count, dtype: int64"
      ]
     },
     "execution_count": 591,
     "metadata": {},
     "output_type": "execute_result"
    }
   ],
   "source": [
    "juvenile_proceedings[\"DEC_CODE\"].value_counts()"
   ]
  },
  {
   "cell_type": "code",
   "execution_count": 592,
   "id": "e7b501d0",
   "metadata": {},
   "outputs": [
    {
     "name": "stderr",
     "output_type": "stream",
     "text": [
      "C:\\Users\\3mmar\\AppData\\Local\\Temp\\ipykernel_23212\\3557471322.py:1: FutureWarning: The behavior of Series.replace (and DataFrame.replace) with CategoricalDtype is deprecated. In a future version, replace will only be used for cases that preserve the categories. To change the categories, use ser.cat.rename_categories instead.\n",
      "  juvenile_proceedings[\"DEC_CODE\"] = juvenile_proceedings[\"DEC_CODE\"].replace(\"2\", np.nan)\n"
     ]
    }
   ],
   "source": [
    "juvenile_proceedings[\"DEC_CODE\"] = juvenile_proceedings[\"DEC_CODE\"].replace(\"2\", np.nan)"
   ]
  },
  {
   "cell_type": "code",
   "execution_count": 593,
   "id": "df3d3a74",
   "metadata": {},
   "outputs": [
    {
     "data": {
      "text/plain": [
       "ABSENTIA\n",
       "N    1969135\n",
       "Y     406018\n",
       "          14\n",
       "5          0\n",
       "Name: count, dtype: int64"
      ]
     },
     "execution_count": 593,
     "metadata": {},
     "output_type": "execute_result"
    }
   ],
   "source": [
    "juvenile_proceedings[\"ABSENTIA\"].value_counts()"
   ]
  },
  {
   "cell_type": "code",
   "execution_count": 594,
   "id": "c40e6f9c",
   "metadata": {},
   "outputs": [
    {
     "name": "stderr",
     "output_type": "stream",
     "text": [
      "C:\\Users\\3mmar\\AppData\\Local\\Temp\\ipykernel_23212\\1017904240.py:1: FutureWarning: The behavior of Series.replace (and DataFrame.replace) with CategoricalDtype is deprecated. In a future version, replace will only be used for cases that preserve the categories. To change the categories, use ser.cat.rename_categories instead.\n",
      "  juvenile_proceedings[\"ABSENTIA\"] = juvenile_proceedings[\"ABSENTIA\"].replace(\n"
     ]
    }
   ],
   "source": [
    "juvenile_proceedings[\"ABSENTIA\"] = juvenile_proceedings[\"ABSENTIA\"].replace(\n",
    "    {\"\": np.nan, \"5\": np.nan}\n",
    ")"
   ]
  },
  {
   "cell_type": "code",
   "execution_count": 595,
   "id": "69d61ba4",
   "metadata": {},
   "outputs": [
    {
     "data": {
      "text/plain": [
       "CUSTODY\n",
       "N    1257933\n",
       "R    1076461\n",
       "D     484641\n",
       "\u001b          1\n",
       "\u0003          0\n",
       "\u000f          0\n",
       "\u0013          0\n",
       "C          0\n",
       "Name: count, dtype: int64"
      ]
     },
     "execution_count": 595,
     "metadata": {},
     "output_type": "execute_result"
    }
   ],
   "source": [
    "juvenile_proceedings[\"CUSTODY\"].value_counts()"
   ]
  },
  {
   "cell_type": "code",
   "execution_count": 596,
   "id": "44e5ab2b",
   "metadata": {},
   "outputs": [],
   "source": [
    "valid_custody = [\"N\", \"R\", \"D\"]\n",
    "juvenile_proceedings[\"CUSTODY\"] = juvenile_proceedings[\"CUSTODY\"].where(\n",
    "    juvenile_proceedings[\"CUSTODY\"].isin(valid_custody), np.nan\n",
    ")"
   ]
  },
  {
   "cell_type": "code",
   "execution_count": 597,
   "id": "bc0f457e",
   "metadata": {},
   "outputs": [
    {
     "data": {
      "text/plain": [
       "CRIM_IND\n",
       "N           2586750\n",
       "Y             58378\n",
       "                 16\n",
       "Name: count, dtype: int64"
      ]
     },
     "execution_count": 597,
     "metadata": {},
     "output_type": "execute_result"
    }
   ],
   "source": [
    "juvenile_proceedings[[\"CRIM_IND\"]].value_counts()"
   ]
  },
  {
   "cell_type": "code",
   "execution_count": 598,
   "id": "834a6049",
   "metadata": {},
   "outputs": [],
   "source": [
    "juvenile_proceedings[\"CRIM_IND\"] = juvenile_proceedings[\"CRIM_IND\"].replace(\n",
    "    r\"^\\s*$\", np.nan, regex=True\n",
    ")"
   ]
  },
  {
   "cell_type": "code",
   "execution_count": 599,
   "id": "406bf1c3",
   "metadata": {},
   "outputs": [
    {
     "data": {
      "text/plain": [
       "LANG\n",
       "SP     2225917\n",
       "ENG     121951\n",
       "POR      62926\n",
       "PUN      48666\n",
       "CRE      30086\n",
       "        ...   \n",
       "BGQ          0\n",
       "RMS          0\n",
       "ILG          0\n",
       "BEM          0\n",
       "FSI          0\n",
       "Name: count, Length: 567, dtype: int64"
      ]
     },
     "execution_count": 599,
     "metadata": {},
     "output_type": "execute_result"
    }
   ],
   "source": [
    "juvenile_proceedings[\"LANG\"].value_counts()"
   ]
  },
  {
   "cell_type": "code",
   "execution_count": 600,
   "id": "64b85d7a",
   "metadata": {},
   "outputs": [
    {
     "data": {
      "text/plain": [
       "NAT\n",
       "GT    599057\n",
       "HO    532679\n",
       "MX    371442\n",
       "ES    333348\n",
       "CU    109364\n",
       "       ...  \n",
       "PC         0\n",
       "PF         0\n",
       "RQ         0\n",
       "SB         0\n",
       "b6         0\n",
       "Name: count, Length: 264, dtype: int64"
      ]
     },
     "execution_count": 600,
     "metadata": {},
     "output_type": "execute_result"
    }
   ],
   "source": [
    "juvenile_proceedings[\"NAT\"].value_counts()"
   ]
  },
  {
   "cell_type": "markdown",
   "id": "b05b4fc2",
   "metadata": {},
   "source": [
    "Replaced invalid values with `NaN` and removed unused categories for cleaner analysis."
   ]
  },
  {
   "cell_type": "code",
   "execution_count": 601,
   "id": "9158727c",
   "metadata": {},
   "outputs": [],
   "source": [
    "categorical_cols = [\n",
    "    \"BASE_CITY_CODE\",\n",
    "    \"HEARING_LOC_CODE\",\n",
    "    \"DEC_CODE\",\n",
    "    \"ABSENTIA\",\n",
    "    \"CUSTODY\",\n",
    "    \"CASE_TYPE\",\n",
    "    \"NAT\",\n",
    "    \"LANG\",\n",
    "    \"CRIM_IND\",\n",
    "]\n",
    "\n",
    "for col in categorical_cols:\n",
    "    if isinstance(juvenile_proceedings[col].dtype, pd.CategoricalDtype):\n",
    "        juvenile_proceedings[col] = juvenile_proceedings[\n",
    "            col\n",
    "        ].cat.remove_unused_categories()"
   ]
  },
  {
   "cell_type": "code",
   "execution_count": 602,
   "id": "4beccabd",
   "metadata": {},
   "outputs": [
    {
     "data": {
      "text/plain": [
       "0"
      ]
     },
     "execution_count": 602,
     "metadata": {},
     "output_type": "execute_result"
    }
   ],
   "source": [
    "juvenile_proceedings.duplicated().sum()"
   ]
  },
  {
   "cell_type": "code",
   "execution_count": 603,
   "id": "8a560fb8",
   "metadata": {},
   "outputs": [
    {
     "data": {
      "text/html": [
       "<div>\n",
       "<style scoped>\n",
       "    .dataframe tbody tr th:only-of-type {\n",
       "        vertical-align: middle;\n",
       "    }\n",
       "\n",
       "    .dataframe tbody tr th {\n",
       "        vertical-align: top;\n",
       "    }\n",
       "\n",
       "    .dataframe thead th {\n",
       "        text-align: right;\n",
       "    }\n",
       "</style>\n",
       "<table border=\"1\" class=\"dataframe\">\n",
       "  <thead>\n",
       "    <tr style=\"text-align: right;\">\n",
       "      <th></th>\n",
       "      <th>IDNPROCEEDING</th>\n",
       "      <th>IDNCASE</th>\n",
       "      <th>OSC_DATE</th>\n",
       "      <th>INPUT_DATE</th>\n",
       "      <th>BASE_CITY_CODE</th>\n",
       "      <th>HEARING_LOC_CODE</th>\n",
       "      <th>DEC_CODE</th>\n",
       "      <th>COMP_DATE</th>\n",
       "      <th>ABSENTIA</th>\n",
       "      <th>CUSTODY</th>\n",
       "      <th>CASE_TYPE</th>\n",
       "      <th>NAT</th>\n",
       "      <th>LANG</th>\n",
       "      <th>CRIM_IND</th>\n",
       "      <th>DATE_DETAINED</th>\n",
       "      <th>DATE_RELEASED</th>\n",
       "    </tr>\n",
       "  </thead>\n",
       "  <tbody>\n",
       "    <tr>\n",
       "      <th>0</th>\n",
       "      <td>9329335</td>\n",
       "      <td>9431121</td>\n",
       "      <td>2019-12-22</td>\n",
       "      <td>2020-01-31</td>\n",
       "      <td>CHL</td>\n",
       "      <td>CHL</td>\n",
       "      <td>NaN</td>\n",
       "      <td>NaT</td>\n",
       "      <td>NaN</td>\n",
       "      <td>N</td>\n",
       "      <td>RMV</td>\n",
       "      <td>MX</td>\n",
       "      <td>SP</td>\n",
       "      <td>N</td>\n",
       "      <td>NaT</td>\n",
       "      <td>NaT</td>\n",
       "    </tr>\n",
       "    <tr>\n",
       "      <th>1</th>\n",
       "      <td>9329336</td>\n",
       "      <td>9431122</td>\n",
       "      <td>2019-12-22</td>\n",
       "      <td>2020-01-31</td>\n",
       "      <td>CHL</td>\n",
       "      <td>CHL</td>\n",
       "      <td>NaN</td>\n",
       "      <td>NaT</td>\n",
       "      <td>NaN</td>\n",
       "      <td>N</td>\n",
       "      <td>RMV</td>\n",
       "      <td>MX</td>\n",
       "      <td>SP</td>\n",
       "      <td>N</td>\n",
       "      <td>NaT</td>\n",
       "      <td>NaT</td>\n",
       "    </tr>\n",
       "    <tr>\n",
       "      <th>2</th>\n",
       "      <td>9329337</td>\n",
       "      <td>9431123</td>\n",
       "      <td>2019-12-22</td>\n",
       "      <td>2020-01-31</td>\n",
       "      <td>CHL</td>\n",
       "      <td>CHL</td>\n",
       "      <td>NaN</td>\n",
       "      <td>NaT</td>\n",
       "      <td>NaN</td>\n",
       "      <td>N</td>\n",
       "      <td>RMV</td>\n",
       "      <td>MX</td>\n",
       "      <td>SP</td>\n",
       "      <td>N</td>\n",
       "      <td>NaT</td>\n",
       "      <td>NaT</td>\n",
       "    </tr>\n",
       "    <tr>\n",
       "      <th>3</th>\n",
       "      <td>9329338</td>\n",
       "      <td>9431124</td>\n",
       "      <td>2019-12-09</td>\n",
       "      <td>2020-02-13</td>\n",
       "      <td>KRO</td>\n",
       "      <td>BCJ</td>\n",
       "      <td>X</td>\n",
       "      <td>2020-02-24</td>\n",
       "      <td>N</td>\n",
       "      <td>D</td>\n",
       "      <td>RMV</td>\n",
       "      <td>CU</td>\n",
       "      <td>SP</td>\n",
       "      <td>Y</td>\n",
       "      <td>2020-02-07</td>\n",
       "      <td>NaT</td>\n",
       "    </tr>\n",
       "    <tr>\n",
       "      <th>4</th>\n",
       "      <td>9329339</td>\n",
       "      <td>9431125</td>\n",
       "      <td>2019-12-12</td>\n",
       "      <td>2020-01-31</td>\n",
       "      <td>CHL</td>\n",
       "      <td>CHL</td>\n",
       "      <td>NaN</td>\n",
       "      <td>NaT</td>\n",
       "      <td>NaN</td>\n",
       "      <td>R</td>\n",
       "      <td>RMV</td>\n",
       "      <td>MX</td>\n",
       "      <td>SP</td>\n",
       "      <td>N</td>\n",
       "      <td>2020-01-31</td>\n",
       "      <td>2020-01-31</td>\n",
       "    </tr>\n",
       "  </tbody>\n",
       "</table>\n",
       "</div>"
      ],
      "text/plain": [
       "   IDNPROCEEDING  IDNCASE   OSC_DATE  ... CRIM_IND DATE_DETAINED DATE_RELEASED\n",
       "0        9329335  9431121 2019-12-22  ...        N           NaT           NaT\n",
       "1        9329336  9431122 2019-12-22  ...        N           NaT           NaT\n",
       "2        9329337  9431123 2019-12-22  ...        N           NaT           NaT\n",
       "3        9329338  9431124 2019-12-09  ...        Y    2020-02-07           NaT\n",
       "4        9329339  9431125 2019-12-12  ...        N    2020-01-31    2020-01-31\n",
       "\n",
       "[5 rows x 16 columns]"
      ]
     },
     "execution_count": 603,
     "metadata": {},
     "output_type": "execute_result"
    }
   ],
   "source": [
    "juvenile_proceedings.head()"
   ]
  },
  {
   "cell_type": "code",
   "execution_count": 604,
   "id": "e65871ca",
   "metadata": {},
   "outputs": [],
   "source": [
    "juvenile_proceedings.to_csv(\n",
    "    \"../cleaned/juvenile_proceedings_cleaned.csv.gz\", index=False, compression=\"gzip\"\n",
    ")"
   ]
  },
  {
   "cell_type": "markdown",
   "id": "a517aad0",
   "metadata": {},
   "source": [
    "### Cleaned `tbl_Proceeding`\n",
    "\n",
    "- The raw file (about 12 million rows) was filtered to only include proceedings related to juveniles by matching `idnProceeding` values found in `tbl_JuvenileHistory`, resulting in approximately 2.8 million rows.\n",
    "- Malformed rows with missing or extra fields were detected and skipped during import to prevent errors.\n",
    "- Only relevant columns (as defined in `selected_columns` and `dtypes` in the notebook) were retained for analysis.\n",
    "- All data was initially read as `str`, then column data types were updated as needed.\n",
    "- The DataFrame index was reset after filtering.\n",
    "- Unused or fully null columns were removed.\n",
    "- The final table contains only juvenile-related proceeding records.\n",
    "\n",
    "Saved the cleaned file as:  \n",
    "- `juvenile_proceedings_cleaned.csv.gz`"
   ]
  }
 ],
 "metadata": {
  "kernelspec": {
   "display_name": "base",
   "language": "python",
   "name": "python3"
  },
  "language_info": {
   "codemirror_mode": {
    "name": "ipython",
    "version": 3
   },
   "file_extension": ".py",
   "mimetype": "text/x-python",
   "name": "python",
   "nbconvert_exporter": "python",
   "pygments_lexer": "ipython3",
   "version": "3.12.7"
  }
 },
 "nbformat": 4,
 "nbformat_minor": 5
}
