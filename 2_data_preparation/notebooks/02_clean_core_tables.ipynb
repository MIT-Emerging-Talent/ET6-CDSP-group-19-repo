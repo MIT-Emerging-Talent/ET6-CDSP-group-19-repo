{
 "cells": [
  {
   "cell_type": "code",
   "execution_count": 2,
   "id": "f7e07d7c",
   "metadata": {},
   "outputs": [],
   "source": [
    "import pandas as pd"
   ]
  },
  {
   "cell_type": "code",
   "execution_count": 3,
   "id": "1236199e",
   "metadata": {},
   "outputs": [],
   "source": [
    "pd.options.display.max_columns = False"
   ]
  },
  {
   "cell_type": "markdown",
   "id": "a2ae9747",
   "metadata": {},
   "source": [
    "## 1. Clean tbl_JuvenileHistory"
   ]
  },
  {
   "cell_type": "markdown",
   "id": "05a708b3",
   "metadata": {},
   "source": [
    "### Initial Data Inspection"
   ]
  },
  {
   "cell_type": "markdown",
   "id": "7dc3ad1e",
   "metadata": {},
   "source": [
    "\n",
    "The dataset contains approximately 3 million rows. To avoid memory issues and reduce unnecessary processing, only the first 100 rows will be inspected initially:\n",
    "\n",
    "- Get an overview of the data types (`dtypes`)\n",
    "- Identify columns/features worth keeping for the EDA\n",
    "- Skip any columns that appear to be irrelevant or redundant\n",
    "\n",
    "This initial check will help streamline the analysis and focus only on useful information."
   ]
  },
  {
   "cell_type": "code",
   "execution_count": 4,
   "id": "04bf6b36",
   "metadata": {},
   "outputs": [],
   "source": [
    "juvenile_history_path = \"tbl_JuvenileHistory.csv\"\n",
    "juvenile_history = pd.read_csv(\n",
    "    filepath_or_buffer=juvenile_history_path, delimiter=\"\\t\", nrows=100\n",
    ")"
   ]
  },
  {
   "cell_type": "code",
   "execution_count": 5,
   "id": "e14b26a5",
   "metadata": {},
   "outputs": [
    {
     "data": {
      "text/html": [
       "<div>\n",
       "<style scoped>\n",
       "    .dataframe tbody tr th:only-of-type {\n",
       "        vertical-align: middle;\n",
       "    }\n",
       "\n",
       "    .dataframe tbody tr th {\n",
       "        vertical-align: top;\n",
       "    }\n",
       "\n",
       "    .dataframe thead th {\n",
       "        text-align: right;\n",
       "    }\n",
       "</style>\n",
       "<table border=\"1\" class=\"dataframe\">\n",
       "  <thead>\n",
       "    <tr style=\"text-align: right;\">\n",
       "      <th></th>\n",
       "      <th>idnJuvenileHistory</th>\n",
       "      <th>idnCase</th>\n",
       "      <th>idnProceeding</th>\n",
       "      <th>idnJuvenile</th>\n",
       "      <th>DATCREATEDON</th>\n",
       "      <th>DATMODIFIEDON</th>\n",
       "    </tr>\n",
       "  </thead>\n",
       "  <tbody>\n",
       "    <tr>\n",
       "      <th>0</th>\n",
       "      <td>5</td>\n",
       "      <td>2046990</td>\n",
       "      <td>3200129</td>\n",
       "      <td>1</td>\n",
       "      <td>2014-09-06 19:24:46.373</td>\n",
       "      <td>NaN</td>\n",
       "    </tr>\n",
       "    <tr>\n",
       "      <th>1</th>\n",
       "      <td>6</td>\n",
       "      <td>2047179</td>\n",
       "      <td>3199488</td>\n",
       "      <td>1</td>\n",
       "      <td>2014-09-06 19:24:46.373</td>\n",
       "      <td>NaN</td>\n",
       "    </tr>\n",
       "    <tr>\n",
       "      <th>2</th>\n",
       "      <td>7</td>\n",
       "      <td>2047179</td>\n",
       "      <td>3199489</td>\n",
       "      <td>1</td>\n",
       "      <td>2014-09-06 19:24:46.373</td>\n",
       "      <td>NaN</td>\n",
       "    </tr>\n",
       "    <tr>\n",
       "      <th>3</th>\n",
       "      <td>8</td>\n",
       "      <td>2047199</td>\n",
       "      <td>3199497</td>\n",
       "      <td>1</td>\n",
       "      <td>2014-09-06 19:24:46.373</td>\n",
       "      <td>NaN</td>\n",
       "    </tr>\n",
       "    <tr>\n",
       "      <th>4</th>\n",
       "      <td>9</td>\n",
       "      <td>2047199</td>\n",
       "      <td>3199498</td>\n",
       "      <td>1</td>\n",
       "      <td>2014-09-06 19:24:46.373</td>\n",
       "      <td>NaN</td>\n",
       "    </tr>\n",
       "  </tbody>\n",
       "</table>\n",
       "</div>"
      ],
      "text/plain": [
       "   idnJuvenileHistory  idnCase  ...             DATCREATEDON  DATMODIFIEDON\n",
       "0                   5  2046990  ...  2014-09-06 19:24:46.373            NaN\n",
       "1                   6  2047179  ...  2014-09-06 19:24:46.373            NaN\n",
       "2                   7  2047179  ...  2014-09-06 19:24:46.373            NaN\n",
       "3                   8  2047199  ...  2014-09-06 19:24:46.373            NaN\n",
       "4                   9  2047199  ...  2014-09-06 19:24:46.373            NaN\n",
       "\n",
       "[5 rows x 6 columns]"
      ]
     },
     "execution_count": 5,
     "metadata": {},
     "output_type": "execute_result"
    }
   ],
   "source": [
    "juvenile_history.head()"
   ]
  },
  {
   "cell_type": "code",
   "execution_count": 6,
   "id": "9e39b1b3",
   "metadata": {},
   "outputs": [
    {
     "name": "stdout",
     "output_type": "stream",
     "text": [
      "<class 'pandas.core.frame.DataFrame'>\n",
      "RangeIndex: 100 entries, 0 to 99\n",
      "Data columns (total 6 columns):\n",
      " #   Column              Non-Null Count  Dtype  \n",
      "---  ------              --------------  -----  \n",
      " 0   idnJuvenileHistory  100 non-null    int64  \n",
      " 1   idnCase             100 non-null    int64  \n",
      " 2   idnProceeding       100 non-null    int64  \n",
      " 3   idnJuvenile         100 non-null    int64  \n",
      " 4   DATCREATEDON        100 non-null    object \n",
      " 5   DATMODIFIEDON       0 non-null      float64\n",
      "dtypes: float64(1), int64(4), object(1)\n",
      "memory usage: 4.8+ KB\n"
     ]
    }
   ],
   "source": [
    "juvenile_history.info()"
   ]
  },
  {
   "cell_type": "code",
   "execution_count": 7,
   "id": "6be91f1e",
   "metadata": {},
   "outputs": [
    {
     "data": {
      "text/plain": [
       "Index(['idnJuvenileHistory', 'idnCase', 'idnProceeding', 'idnJuvenile',\n",
       "       'DATCREATEDON', 'DATMODIFIEDON'],\n",
       "      dtype='object')"
      ]
     },
     "execution_count": 7,
     "metadata": {},
     "output_type": "execute_result"
    }
   ],
   "source": [
    "juvenile_history.columns"
   ]
  },
  {
   "cell_type": "markdown",
   "id": "fc941c74",
   "metadata": {},
   "source": [
    "**`idnJuvenile`**: Although stored as `int64`, this column only contains values from 1 to 6 (as per `Lookup/tblLookup_Juvenile.csv`). It should be treated as a categorical feature.\n",
    "\n",
    "**`DATCREATEDON`** and **`DATMODIFIEDON`**:\n",
    "  - `DATCREATEDON` likely reflects the date when the record was entered into the system, not when the case itself was initiated.\n",
    "  - `DATMODIFIEDON` contains only null values and may be dropped."
   ]
  },
  {
   "cell_type": "code",
   "execution_count": 8,
   "id": "5df0de0b",
   "metadata": {},
   "outputs": [],
   "source": [
    "juvenile_history = pd.read_csv(\n",
    "    filepath_or_buffer=juvenile_history_path,\n",
    "    delimiter=\"\\t\",\n",
    "    usecols=[\"idnJuvenileHistory\", \"idnCase\", \"idnProceeding\", \"idnJuvenile\"],\n",
    "    dtype={\n",
    "        \"idnJuvenileHistory\": \"Int64\",\n",
    "        \"idnCase\": \"Int64\",\n",
    "        \"idnProceeding\": \"Int64\",\n",
    "        \"idnJuvenile\": \"category\",\n",
    "    },\n",
    "    low_memory=False,\n",
    ")"
   ]
  },
  {
   "cell_type": "markdown",
   "id": "02daed51",
   "metadata": {},
   "source": [
    "### Data Inspection"
   ]
  },
  {
   "cell_type": "code",
   "execution_count": 9,
   "id": "09ebe5c1",
   "metadata": {},
   "outputs": [
    {
     "data": {
      "text/html": [
       "<div>\n",
       "<style scoped>\n",
       "    .dataframe tbody tr th:only-of-type {\n",
       "        vertical-align: middle;\n",
       "    }\n",
       "\n",
       "    .dataframe tbody tr th {\n",
       "        vertical-align: top;\n",
       "    }\n",
       "\n",
       "    .dataframe thead th {\n",
       "        text-align: right;\n",
       "    }\n",
       "</style>\n",
       "<table border=\"1\" class=\"dataframe\">\n",
       "  <thead>\n",
       "    <tr style=\"text-align: right;\">\n",
       "      <th></th>\n",
       "      <th>idnJuvenileHistory</th>\n",
       "      <th>idnCase</th>\n",
       "      <th>idnProceeding</th>\n",
       "      <th>idnJuvenile</th>\n",
       "    </tr>\n",
       "  </thead>\n",
       "  <tbody>\n",
       "    <tr>\n",
       "      <th>0</th>\n",
       "      <td>5</td>\n",
       "      <td>2046990</td>\n",
       "      <td>3200129</td>\n",
       "      <td>1</td>\n",
       "    </tr>\n",
       "    <tr>\n",
       "      <th>1</th>\n",
       "      <td>6</td>\n",
       "      <td>2047179</td>\n",
       "      <td>3199488</td>\n",
       "      <td>1</td>\n",
       "    </tr>\n",
       "    <tr>\n",
       "      <th>2</th>\n",
       "      <td>7</td>\n",
       "      <td>2047179</td>\n",
       "      <td>3199489</td>\n",
       "      <td>1</td>\n",
       "    </tr>\n",
       "    <tr>\n",
       "      <th>3</th>\n",
       "      <td>8</td>\n",
       "      <td>2047199</td>\n",
       "      <td>3199497</td>\n",
       "      <td>1</td>\n",
       "    </tr>\n",
       "    <tr>\n",
       "      <th>4</th>\n",
       "      <td>9</td>\n",
       "      <td>2047199</td>\n",
       "      <td>3199498</td>\n",
       "      <td>1</td>\n",
       "    </tr>\n",
       "  </tbody>\n",
       "</table>\n",
       "</div>"
      ],
      "text/plain": [
       "   idnJuvenileHistory  idnCase  idnProceeding idnJuvenile\n",
       "0                   5  2046990        3200129           1\n",
       "1                   6  2047179        3199488           1\n",
       "2                   7  2047179        3199489           1\n",
       "3                   8  2047199        3199497           1\n",
       "4                   9  2047199        3199498           1"
      ]
     },
     "execution_count": 9,
     "metadata": {},
     "output_type": "execute_result"
    }
   ],
   "source": [
    "juvenile_history.head()"
   ]
  },
  {
   "cell_type": "code",
   "execution_count": 10,
   "id": "9f863a1a",
   "metadata": {},
   "outputs": [
    {
     "data": {
      "text/plain": [
       "(2857093, 4)"
      ]
     },
     "execution_count": 10,
     "metadata": {},
     "output_type": "execute_result"
    }
   ],
   "source": [
    "juvenile_history.shape"
   ]
  },
  {
   "cell_type": "code",
   "execution_count": 11,
   "id": "98b8463b",
   "metadata": {},
   "outputs": [
    {
     "name": "stdout",
     "output_type": "stream",
     "text": [
      "<class 'pandas.core.frame.DataFrame'>\n",
      "RangeIndex: 2857093 entries, 0 to 2857092\n",
      "Data columns (total 4 columns):\n",
      " #   Column              Dtype   \n",
      "---  ------              -----   \n",
      " 0   idnJuvenileHistory  Int64   \n",
      " 1   idnCase             Int64   \n",
      " 2   idnProceeding       Int64   \n",
      " 3   idnJuvenile         category\n",
      "dtypes: Int64(3), category(1)\n",
      "memory usage: 76.3 MB\n"
     ]
    }
   ],
   "source": [
    "juvenile_history.info()"
   ]
  },
  {
   "cell_type": "code",
   "execution_count": 12,
   "id": "eb0ab55f",
   "metadata": {},
   "outputs": [
    {
     "data": {
      "text/plain": [
       "idnJuvenileHistory      0\n",
       "idnCase                 0\n",
       "idnProceeding          98\n",
       "idnJuvenile           999\n",
       "dtype: int64"
      ]
     },
     "execution_count": 12,
     "metadata": {},
     "output_type": "execute_result"
    }
   ],
   "source": [
    "juvenile_history.isna().sum()"
   ]
  },
  {
   "cell_type": "code",
   "execution_count": 13,
   "id": "0755ae12",
   "metadata": {},
   "outputs": [
    {
     "data": {
      "text/plain": [
       "0"
      ]
     },
     "execution_count": 13,
     "metadata": {},
     "output_type": "execute_result"
    }
   ],
   "source": [
    "juvenile_history.duplicated().sum()"
   ]
  },
  {
   "cell_type": "markdown",
   "id": "5e6ae9d2",
   "metadata": {},
   "source": [
    "#### `idnCase` List\n",
    "\n",
    "Before working with `A_TblCase`, we extract the list of `idnCase` values  \n",
    "associated with juvenile records. This will allow us to filter the case-level  \n",
    "dataset to include only juvenile-related cases, without performing a full merge."
   ]
  },
  {
   "cell_type": "code",
   "execution_count": 14,
   "id": "2b018068",
   "metadata": {},
   "outputs": [],
   "source": [
    "juvenile_case_ids = juvenile_history[\"idnCase\"].unique()"
   ]
  },
  {
   "cell_type": "code",
   "execution_count": 15,
   "id": "2d268d29",
   "metadata": {},
   "outputs": [],
   "source": [
    "juvenile_history.to_csv(\n",
    "    \"../outputs/juvenile_history_cleaned.csv.gz\", index=False, compression=\"gzip\"\n",
    ")"
   ]
  },
  {
   "cell_type": "markdown",
   "id": "905af58c",
   "metadata": {},
   "source": [
    "### Cleaned `tbl_JuvenileHistory`\n",
    "\n",
    "- Loaded ~2.85M rows from the raw CSV file.\n",
    "- Dropped irrelevant or fully null columns.\n",
    "- Converted `idnJuvenile` to a categorical variable.\n",
    "- Retained only 4 key fields:\n",
    "  - `idnJuvenileHistory`: primary key\n",
    "  - `idnCase`: foreign key to `tbl_Case`\n",
    "  - `idnProceeding`: foreign key to `tbl_Proceeding`\n",
    "  - `idnJuvenile`: foreign key to `tblLookup_Juvenile`\n",
    "- Missing values:\n",
    "  - `idnProceeding`: 98 missing\n",
    "  - `idnJuvenile`: 999 missing\n",
    "\n",
    "Saved cleaned file as:\n",
    "- `juvenile_history_cleaned.csv.gz` "
   ]
  },
  {
   "cell_type": "markdown",
   "id": "d4861f54",
   "metadata": {},
   "source": [
    "## 2. Clean A_TblCase"
   ]
  },
  {
   "cell_type": "markdown",
   "id": "0ae6dcda",
   "metadata": {},
   "source": [
    "### Initial Data Inspection"
   ]
  },
  {
   "cell_type": "markdown",
   "id": "9adff737",
   "metadata": {},
   "source": [
    "\n",
    "The dataset contains approximately 12 million rows. To avoid memory issues and reduce unnecessary processing, only the first 1000 rows will be inspected initially:\n",
    "\n",
    "- Get an overview of the data types (`dtypes`)\n",
    "- Identify columns/features worth keeping for the EDA\n",
    "- Skip any columns that appear to be irrelevant or redundant\n",
    "\n",
    "This initial check will help streamline the analysis and focus only on useful information."
   ]
  },
  {
   "cell_type": "code",
   "execution_count": 16,
   "id": "e82f073f",
   "metadata": {},
   "outputs": [],
   "source": [
    "case_path = \"A_TblCase.csv\"\n",
    "cases = pd.read_csv(filepath_or_buffer=case_path, delimiter=\"\\t\", nrows=1000)"
   ]
  },
  {
   "cell_type": "code",
   "execution_count": 17,
   "id": "9daa5c67",
   "metadata": {},
   "outputs": [
    {
     "data": {
      "text/html": [
       "<div>\n",
       "<style scoped>\n",
       "    .dataframe tbody tr th:only-of-type {\n",
       "        vertical-align: middle;\n",
       "    }\n",
       "\n",
       "    .dataframe tbody tr th {\n",
       "        vertical-align: top;\n",
       "    }\n",
       "\n",
       "    .dataframe thead th {\n",
       "        text-align: right;\n",
       "    }\n",
       "</style>\n",
       "<table border=\"1\" class=\"dataframe\">\n",
       "  <thead>\n",
       "    <tr style=\"text-align: right;\">\n",
       "      <th></th>\n",
       "      <th>IDNCASE</th>\n",
       "      <th>ALIEN_CITY</th>\n",
       "      <th>ALIEN_STATE</th>\n",
       "      <th>ALIEN_ZIPCODE</th>\n",
       "      <th>UPDATED_ZIPCODE</th>\n",
       "      <th>UPDATED_CITY</th>\n",
       "      <th>NAT</th>\n",
       "      <th>LANG</th>\n",
       "      <th>CUSTODY</th>\n",
       "      <th>SITE_TYPE</th>\n",
       "      <th>E_28_DATE</th>\n",
       "      <th>ATTY_NBR</th>\n",
       "      <th>CASE_TYPE</th>\n",
       "      <th>UPDATE_SITE</th>\n",
       "      <th>LATEST_HEARING</th>\n",
       "      <th>LATEST_TIME</th>\n",
       "      <th>LATEST_CAL_TYPE</th>\n",
       "      <th>UP_BOND_DATE</th>\n",
       "      <th>UP_BOND_RSN</th>\n",
       "      <th>CORRECTIONAL_FAC</th>\n",
       "      <th>RELEASE_MONTH</th>\n",
       "      <th>RELEASE_YEAR</th>\n",
       "      <th>INMATE_HOUSING</th>\n",
       "      <th>DATE_OF_ENTRY</th>\n",
       "      <th>C_ASY_TYPE</th>\n",
       "      <th>C_BIRTHDATE</th>\n",
       "      <th>C_RELEASE_DATE</th>\n",
       "      <th>UPDATED_STATE</th>\n",
       "      <th>ADDRESS_CHANGEDON</th>\n",
       "      <th>ZBOND_MRG_FLAG</th>\n",
       "      <th>GENDER</th>\n",
       "      <th>DATE_DETAINED</th>\n",
       "      <th>DATE_RELEASED</th>\n",
       "      <th>LPR</th>\n",
       "      <th>DETENTION_DATE</th>\n",
       "      <th>DETENTION_LOCATION</th>\n",
       "      <th>DCO_LOCATION</th>\n",
       "      <th>DETENTION_FACILITY_TYPE</th>\n",
       "      <th>CASEPRIORITY_CODE</th>\n",
       "    </tr>\n",
       "  </thead>\n",
       "  <tbody>\n",
       "    <tr>\n",
       "      <th>0</th>\n",
       "      <td>11782069</td>\n",
       "      <td>SAINT CHARLES</td>\n",
       "      <td>IL</td>\n",
       "      <td>60174</td>\n",
       "      <td>NaN</td>\n",
       "      <td>NaN</td>\n",
       "      <td>VE</td>\n",
       "      <td>SP</td>\n",
       "      <td>N</td>\n",
       "      <td>M</td>\n",
       "      <td>NaN</td>\n",
       "      <td>NaN</td>\n",
       "      <td>RMV</td>\n",
       "      <td>CHI</td>\n",
       "      <td>2026-01-20 00:00:00.000</td>\n",
       "      <td>900.0</td>\n",
       "      <td>M</td>\n",
       "      <td>NaN</td>\n",
       "      <td>NaN</td>\n",
       "      <td>NaN</td>\n",
       "      <td>NaN</td>\n",
       "      <td>NaN</td>\n",
       "      <td>NaN</td>\n",
       "      <td>2023-05-04 00:00:00.000</td>\n",
       "      <td>NaN</td>\n",
       "      <td>11/1999</td>\n",
       "      <td>NaN</td>\n",
       "      <td>NaN</td>\n",
       "      <td>NaN</td>\n",
       "      <td>NaN</td>\n",
       "      <td>F</td>\n",
       "      <td>NaN</td>\n",
       "      <td>NaN</td>\n",
       "      <td>NaN</td>\n",
       "      <td>NaN</td>\n",
       "      <td>NaN</td>\n",
       "      <td>NaN</td>\n",
       "      <td>NaN</td>\n",
       "      <td>NaN</td>\n",
       "    </tr>\n",
       "    <tr>\n",
       "      <th>1</th>\n",
       "      <td>11782070</td>\n",
       "      <td>PLYMOUTH</td>\n",
       "      <td>MA</td>\n",
       "      <td>02360</td>\n",
       "      <td>NaN</td>\n",
       "      <td>NaN</td>\n",
       "      <td>EC</td>\n",
       "      <td>SP</td>\n",
       "      <td>D</td>\n",
       "      <td>M</td>\n",
       "      <td>NaN</td>\n",
       "      <td>NaN</td>\n",
       "      <td>RMV</td>\n",
       "      <td>CHE</td>\n",
       "      <td>NaN</td>\n",
       "      <td>NaN</td>\n",
       "      <td>NaN</td>\n",
       "      <td>NaN</td>\n",
       "      <td>NaN</td>\n",
       "      <td>NaN</td>\n",
       "      <td>NaN</td>\n",
       "      <td>NaN</td>\n",
       "      <td>NaN</td>\n",
       "      <td>2023-04-30 00:00:00.000</td>\n",
       "      <td>NaN</td>\n",
       "      <td>11/1983</td>\n",
       "      <td>NaN</td>\n",
       "      <td>NaN</td>\n",
       "      <td>2024-11-19 08:32:39.000</td>\n",
       "      <td>NaN</td>\n",
       "      <td>M</td>\n",
       "      <td>2024-11-14 00:00:00.000</td>\n",
       "      <td>NaN</td>\n",
       "      <td>NaN</td>\n",
       "      <td>NaN</td>\n",
       "      <td>NaN</td>\n",
       "      <td>NaN</td>\n",
       "      <td>NaN</td>\n",
       "      <td>NaN</td>\n",
       "    </tr>\n",
       "    <tr>\n",
       "      <th>2</th>\n",
       "      <td>11782071</td>\n",
       "      <td>WEST SACRAMENTO</td>\n",
       "      <td>CA</td>\n",
       "      <td>95691</td>\n",
       "      <td>NaN</td>\n",
       "      <td>NaN</td>\n",
       "      <td>RU</td>\n",
       "      <td>RUS</td>\n",
       "      <td>N</td>\n",
       "      <td>M</td>\n",
       "      <td>NaN</td>\n",
       "      <td>NaN</td>\n",
       "      <td>RMV</td>\n",
       "      <td>SFR</td>\n",
       "      <td>2026-08-19 00:00:00.000</td>\n",
       "      <td>1330.0</td>\n",
       "      <td>M</td>\n",
       "      <td>NaN</td>\n",
       "      <td>NaN</td>\n",
       "      <td>NaN</td>\n",
       "      <td>NaN</td>\n",
       "      <td>NaN</td>\n",
       "      <td>NaN</td>\n",
       "      <td>2023-05-04 00:00:00.000</td>\n",
       "      <td>E</td>\n",
       "      <td>5/1985</td>\n",
       "      <td>NaN</td>\n",
       "      <td>NaN</td>\n",
       "      <td>2024-11-01 12:22:02.000</td>\n",
       "      <td>NaN</td>\n",
       "      <td>F</td>\n",
       "      <td>NaN</td>\n",
       "      <td>NaN</td>\n",
       "      <td>NaN</td>\n",
       "      <td>NaN</td>\n",
       "      <td>NaN</td>\n",
       "      <td>NaN</td>\n",
       "      <td>NaN</td>\n",
       "      <td>NaN</td>\n",
       "    </tr>\n",
       "    <tr>\n",
       "      <th>3</th>\n",
       "      <td>11782072</td>\n",
       "      <td>SAN JOSE</td>\n",
       "      <td>CA</td>\n",
       "      <td>95117</td>\n",
       "      <td>NaN</td>\n",
       "      <td>NaN</td>\n",
       "      <td>MX</td>\n",
       "      <td>SP</td>\n",
       "      <td>N</td>\n",
       "      <td>M</td>\n",
       "      <td>2024-04-19 11:32:17.227</td>\n",
       "      <td>0.0</td>\n",
       "      <td>RMV</td>\n",
       "      <td>SFR</td>\n",
       "      <td>2028-02-17 00:00:00.000</td>\n",
       "      <td>1330.0</td>\n",
       "      <td>M</td>\n",
       "      <td>NaN</td>\n",
       "      <td>NaN</td>\n",
       "      <td>NaN</td>\n",
       "      <td>NaN</td>\n",
       "      <td>NaN</td>\n",
       "      <td>NaN</td>\n",
       "      <td>2023-05-03 00:00:00.000</td>\n",
       "      <td>E</td>\n",
       "      <td>9/1999</td>\n",
       "      <td>NaN</td>\n",
       "      <td>NaN</td>\n",
       "      <td>2025-03-17 14:07:53.000</td>\n",
       "      <td>NaN</td>\n",
       "      <td>F</td>\n",
       "      <td>NaN</td>\n",
       "      <td>NaN</td>\n",
       "      <td>NaN</td>\n",
       "      <td>NaN</td>\n",
       "      <td>NaN</td>\n",
       "      <td>NaN</td>\n",
       "      <td>NaN</td>\n",
       "      <td>NaN</td>\n",
       "    </tr>\n",
       "    <tr>\n",
       "      <th>4</th>\n",
       "      <td>11782074</td>\n",
       "      <td>KEARNS</td>\n",
       "      <td>UT</td>\n",
       "      <td>84118</td>\n",
       "      <td>NaN</td>\n",
       "      <td>NaN</td>\n",
       "      <td>VE</td>\n",
       "      <td>SP</td>\n",
       "      <td>N</td>\n",
       "      <td>M</td>\n",
       "      <td>NaN</td>\n",
       "      <td>NaN</td>\n",
       "      <td>RMV</td>\n",
       "      <td>SLC</td>\n",
       "      <td>2025-11-25 00:00:00.000</td>\n",
       "      <td>1400.0</td>\n",
       "      <td>M</td>\n",
       "      <td>NaN</td>\n",
       "      <td>NaN</td>\n",
       "      <td>NaN</td>\n",
       "      <td>NaN</td>\n",
       "      <td>NaN</td>\n",
       "      <td>NaN</td>\n",
       "      <td>2023-04-30 00:00:00.000</td>\n",
       "      <td>E</td>\n",
       "      <td>9/2004</td>\n",
       "      <td>NaN</td>\n",
       "      <td>NaN</td>\n",
       "      <td>NaN</td>\n",
       "      <td>NaN</td>\n",
       "      <td>F</td>\n",
       "      <td>NaN</td>\n",
       "      <td>NaN</td>\n",
       "      <td>NaN</td>\n",
       "      <td>NaN</td>\n",
       "      <td>NaN</td>\n",
       "      <td>NaN</td>\n",
       "      <td>NaN</td>\n",
       "      <td>NaN</td>\n",
       "    </tr>\n",
       "  </tbody>\n",
       "</table>\n",
       "</div>"
      ],
      "text/plain": [
       "    IDNCASE       ALIEN_CITY  ... DETENTION_FACILITY_TYPE CASEPRIORITY_CODE\n",
       "0  11782069    SAINT CHARLES  ...                     NaN               NaN\n",
       "1  11782070         PLYMOUTH  ...                     NaN               NaN\n",
       "2  11782071  WEST SACRAMENTO  ...                     NaN               NaN\n",
       "3  11782072         SAN JOSE  ...                     NaN               NaN\n",
       "4  11782074           KEARNS  ...                     NaN               NaN\n",
       "\n",
       "[5 rows x 39 columns]"
      ]
     },
     "execution_count": 17,
     "metadata": {},
     "output_type": "execute_result"
    }
   ],
   "source": [
    "cases.head()"
   ]
  },
  {
   "cell_type": "code",
   "execution_count": 18,
   "id": "48cb779a",
   "metadata": {},
   "outputs": [
    {
     "name": "stdout",
     "output_type": "stream",
     "text": [
      "<class 'pandas.core.frame.DataFrame'>\n",
      "RangeIndex: 1000 entries, 0 to 999\n",
      "Data columns (total 39 columns):\n",
      " #   Column                   Non-Null Count  Dtype  \n",
      "---  ------                   --------------  -----  \n",
      " 0   IDNCASE                  1000 non-null   int64  \n",
      " 1   ALIEN_CITY               958 non-null    object \n",
      " 2   ALIEN_STATE              974 non-null    object \n",
      " 3   ALIEN_ZIPCODE            974 non-null    object \n",
      " 4   UPDATED_ZIPCODE          0 non-null      float64\n",
      " 5   UPDATED_CITY             0 non-null      float64\n",
      " 6   NAT                      1000 non-null   object \n",
      " 7   LANG                     1000 non-null   object \n",
      " 8   CUSTODY                  1000 non-null   object \n",
      " 9   SITE_TYPE                878 non-null    object \n",
      " 10  E_28_DATE                271 non-null    object \n",
      " 11  ATTY_NBR                 526 non-null    float64\n",
      " 12  CASE_TYPE                1000 non-null   object \n",
      " 13  UPDATE_SITE              1000 non-null   object \n",
      " 14  LATEST_HEARING           859 non-null    object \n",
      " 15  LATEST_TIME              859 non-null    float64\n",
      " 16  LATEST_CAL_TYPE          854 non-null    object \n",
      " 17  UP_BOND_DATE             0 non-null      float64\n",
      " 18  UP_BOND_RSN              116 non-null    object \n",
      " 19  CORRECTIONAL_FAC         134 non-null    object \n",
      " 20  RELEASE_MONTH            214 non-null    object \n",
      " 21  RELEASE_YEAR             214 non-null    object \n",
      " 22  INMATE_HOUSING           118 non-null    object \n",
      " 23  DATE_OF_ENTRY            643 non-null    object \n",
      " 24  C_ASY_TYPE               430 non-null    object \n",
      " 25  C_BIRTHDATE              558 non-null    object \n",
      " 26  C_RELEASE_DATE           1 non-null      object \n",
      " 27  UPDATED_STATE            0 non-null      float64\n",
      " 28  ADDRESS_CHANGEDON        292 non-null    object \n",
      " 29  ZBOND_MRG_FLAG           116 non-null    object \n",
      " 30  GENDER                   554 non-null    object \n",
      " 31  DATE_DETAINED            39 non-null     object \n",
      " 32  DATE_RELEASED            5 non-null      object \n",
      " 33  LPR                      42 non-null     float64\n",
      " 34  DETENTION_DATE           0 non-null      float64\n",
      " 35  DETENTION_LOCATION       0 non-null      float64\n",
      " 36  DCO_LOCATION             0 non-null      float64\n",
      " 37  DETENTION_FACILITY_TYPE  0 non-null      float64\n",
      " 38  CASEPRIORITY_CODE        1 non-null      object \n",
      "dtypes: float64(11), int64(1), object(27)\n",
      "memory usage: 304.8+ KB\n"
     ]
    }
   ],
   "source": [
    "cases.info()"
   ]
  },
  {
   "cell_type": "code",
   "execution_count": 19,
   "id": "7ebe49ca",
   "metadata": {},
   "outputs": [
    {
     "data": {
      "text/plain": [
       "Index(['IDNCASE', 'ALIEN_CITY', 'ALIEN_STATE', 'ALIEN_ZIPCODE',\n",
       "       'UPDATED_ZIPCODE', 'UPDATED_CITY', 'NAT', 'LANG', 'CUSTODY',\n",
       "       'SITE_TYPE', 'E_28_DATE', 'ATTY_NBR', 'CASE_TYPE', 'UPDATE_SITE',\n",
       "       'LATEST_HEARING', 'LATEST_TIME', 'LATEST_CAL_TYPE', 'UP_BOND_DATE',\n",
       "       'UP_BOND_RSN', 'CORRECTIONAL_FAC', 'RELEASE_MONTH', 'RELEASE_YEAR',\n",
       "       'INMATE_HOUSING', 'DATE_OF_ENTRY', 'C_ASY_TYPE', 'C_BIRTHDATE',\n",
       "       'C_RELEASE_DATE', 'UPDATED_STATE', 'ADDRESS_CHANGEDON',\n",
       "       'ZBOND_MRG_FLAG', 'GENDER', 'DATE_DETAINED', 'DATE_RELEASED', 'LPR',\n",
       "       'DETENTION_DATE', 'DETENTION_LOCATION', 'DCO_LOCATION',\n",
       "       'DETENTION_FACILITY_TYPE', 'CASEPRIORITY_CODE'],\n",
       "      dtype='object')"
      ]
     },
     "execution_count": 19,
     "metadata": {},
     "output_type": "execute_result"
    }
   ],
   "source": [
    "cases.columns"
   ]
  },
  {
   "cell_type": "markdown",
   "id": "11b75805",
   "metadata": {},
   "source": [
    "#### Selected Features for EDA\n",
    "\n",
    "The list of selected columns below was discussed earlier in the documentation for the source dataset. It represents the core case-level features relevant to our analysis of juvenile immigration cases.\n",
    "\n",
    "These fields include:\n",
    "\n",
    "- Demographic information (e.g., `GENDER`, `NAT`, `LANG`)  \n",
    "- Case characteristics (e.g., `CASE_TYPE`, `CUSTODY`, `LATEST_HEARING`)  \n",
    "- Key dates (e.g., `DATE_OF_ENTRY`, `DETENTION_DATE`, `C_BIRTHDATE`)"
   ]
  },
  {
   "cell_type": "code",
   "execution_count": 20,
   "id": "2f51ac3d",
   "metadata": {},
   "outputs": [],
   "source": [
    "selected_columns = [\n",
    "    \"IDNCASE\",\n",
    "    \"NAT\",\n",
    "    \"LANG\",\n",
    "    \"CUSTODY\",\n",
    "    \"CASE_TYPE\",\n",
    "    \"LATEST_HEARING\",\n",
    "    \"LATEST_CAL_TYPE\",\n",
    "    \"DATE_OF_ENTRY\",\n",
    "    \"C_BIRTHDATE\",\n",
    "    \"GENDER\",\n",
    "    \"DATE_DETAINED\",\n",
    "    \"DATE_RELEASED\",\n",
    "    \"DETENTION_DATE\",\n",
    "]"
   ]
  },
  {
   "cell_type": "code",
   "execution_count": 21,
   "id": "adfb9c3c",
   "metadata": {},
   "outputs": [],
   "source": [
    "cases = cases[selected_columns]"
   ]
  },
  {
   "cell_type": "code",
   "execution_count": 22,
   "id": "b6e68d35",
   "metadata": {},
   "outputs": [
    {
     "data": {
      "text/html": [
       "<div>\n",
       "<style scoped>\n",
       "    .dataframe tbody tr th:only-of-type {\n",
       "        vertical-align: middle;\n",
       "    }\n",
       "\n",
       "    .dataframe tbody tr th {\n",
       "        vertical-align: top;\n",
       "    }\n",
       "\n",
       "    .dataframe thead th {\n",
       "        text-align: right;\n",
       "    }\n",
       "</style>\n",
       "<table border=\"1\" class=\"dataframe\">\n",
       "  <thead>\n",
       "    <tr style=\"text-align: right;\">\n",
       "      <th></th>\n",
       "      <th>IDNCASE</th>\n",
       "      <th>NAT</th>\n",
       "      <th>LANG</th>\n",
       "      <th>CUSTODY</th>\n",
       "      <th>CASE_TYPE</th>\n",
       "      <th>LATEST_HEARING</th>\n",
       "      <th>LATEST_CAL_TYPE</th>\n",
       "      <th>DATE_OF_ENTRY</th>\n",
       "      <th>C_BIRTHDATE</th>\n",
       "      <th>GENDER</th>\n",
       "      <th>DATE_DETAINED</th>\n",
       "      <th>DATE_RELEASED</th>\n",
       "      <th>DETENTION_DATE</th>\n",
       "    </tr>\n",
       "  </thead>\n",
       "  <tbody>\n",
       "    <tr>\n",
       "      <th>0</th>\n",
       "      <td>11782069</td>\n",
       "      <td>VE</td>\n",
       "      <td>SP</td>\n",
       "      <td>N</td>\n",
       "      <td>RMV</td>\n",
       "      <td>2026-01-20 00:00:00.000</td>\n",
       "      <td>M</td>\n",
       "      <td>2023-05-04 00:00:00.000</td>\n",
       "      <td>11/1999</td>\n",
       "      <td>F</td>\n",
       "      <td>NaN</td>\n",
       "      <td>NaN</td>\n",
       "      <td>NaN</td>\n",
       "    </tr>\n",
       "    <tr>\n",
       "      <th>1</th>\n",
       "      <td>11782070</td>\n",
       "      <td>EC</td>\n",
       "      <td>SP</td>\n",
       "      <td>D</td>\n",
       "      <td>RMV</td>\n",
       "      <td>NaN</td>\n",
       "      <td>NaN</td>\n",
       "      <td>2023-04-30 00:00:00.000</td>\n",
       "      <td>11/1983</td>\n",
       "      <td>M</td>\n",
       "      <td>2024-11-14 00:00:00.000</td>\n",
       "      <td>NaN</td>\n",
       "      <td>NaN</td>\n",
       "    </tr>\n",
       "    <tr>\n",
       "      <th>2</th>\n",
       "      <td>11782071</td>\n",
       "      <td>RU</td>\n",
       "      <td>RUS</td>\n",
       "      <td>N</td>\n",
       "      <td>RMV</td>\n",
       "      <td>2026-08-19 00:00:00.000</td>\n",
       "      <td>M</td>\n",
       "      <td>2023-05-04 00:00:00.000</td>\n",
       "      <td>5/1985</td>\n",
       "      <td>F</td>\n",
       "      <td>NaN</td>\n",
       "      <td>NaN</td>\n",
       "      <td>NaN</td>\n",
       "    </tr>\n",
       "    <tr>\n",
       "      <th>3</th>\n",
       "      <td>11782072</td>\n",
       "      <td>MX</td>\n",
       "      <td>SP</td>\n",
       "      <td>N</td>\n",
       "      <td>RMV</td>\n",
       "      <td>2028-02-17 00:00:00.000</td>\n",
       "      <td>M</td>\n",
       "      <td>2023-05-03 00:00:00.000</td>\n",
       "      <td>9/1999</td>\n",
       "      <td>F</td>\n",
       "      <td>NaN</td>\n",
       "      <td>NaN</td>\n",
       "      <td>NaN</td>\n",
       "    </tr>\n",
       "    <tr>\n",
       "      <th>4</th>\n",
       "      <td>11782074</td>\n",
       "      <td>VE</td>\n",
       "      <td>SP</td>\n",
       "      <td>N</td>\n",
       "      <td>RMV</td>\n",
       "      <td>2025-11-25 00:00:00.000</td>\n",
       "      <td>M</td>\n",
       "      <td>2023-04-30 00:00:00.000</td>\n",
       "      <td>9/2004</td>\n",
       "      <td>F</td>\n",
       "      <td>NaN</td>\n",
       "      <td>NaN</td>\n",
       "      <td>NaN</td>\n",
       "    </tr>\n",
       "  </tbody>\n",
       "</table>\n",
       "</div>"
      ],
      "text/plain": [
       "    IDNCASE NAT LANG  ...            DATE_DETAINED DATE_RELEASED DETENTION_DATE\n",
       "0  11782069  VE   SP  ...                      NaN           NaN            NaN\n",
       "1  11782070  EC   SP  ...  2024-11-14 00:00:00.000           NaN            NaN\n",
       "2  11782071  RU  RUS  ...                      NaN           NaN            NaN\n",
       "3  11782072  MX   SP  ...                      NaN           NaN            NaN\n",
       "4  11782074  VE   SP  ...                      NaN           NaN            NaN\n",
       "\n",
       "[5 rows x 13 columns]"
      ]
     },
     "execution_count": 22,
     "metadata": {},
     "output_type": "execute_result"
    }
   ],
   "source": [
    "cases.head()"
   ]
  },
  {
   "cell_type": "code",
   "execution_count": 23,
   "id": "aacbbf42",
   "metadata": {},
   "outputs": [
    {
     "name": "stdout",
     "output_type": "stream",
     "text": [
      "<class 'pandas.core.frame.DataFrame'>\n",
      "RangeIndex: 1000 entries, 0 to 999\n",
      "Data columns (total 13 columns):\n",
      " #   Column           Non-Null Count  Dtype  \n",
      "---  ------           --------------  -----  \n",
      " 0   IDNCASE          1000 non-null   int64  \n",
      " 1   NAT              1000 non-null   object \n",
      " 2   LANG             1000 non-null   object \n",
      " 3   CUSTODY          1000 non-null   object \n",
      " 4   CASE_TYPE        1000 non-null   object \n",
      " 5   LATEST_HEARING   859 non-null    object \n",
      " 6   LATEST_CAL_TYPE  854 non-null    object \n",
      " 7   DATE_OF_ENTRY    643 non-null    object \n",
      " 8   C_BIRTHDATE      558 non-null    object \n",
      " 9   GENDER           554 non-null    object \n",
      " 10  DATE_DETAINED    39 non-null     object \n",
      " 11  DATE_RELEASED    5 non-null      object \n",
      " 12  DETENTION_DATE   0 non-null      float64\n",
      "dtypes: float64(1), int64(1), object(11)\n",
      "memory usage: 101.7+ KB\n"
     ]
    }
   ],
   "source": [
    "cases.info()"
   ]
  },
  {
   "cell_type": "markdown",
   "id": "2a812a28",
   "metadata": {},
   "source": [
    "#### Note on `DETENTION_DATE`\n",
    "\n",
    "This field is entirely null in the sample, but we'll reassess after  \n",
    "loading the full dataset."
   ]
  },
  {
   "cell_type": "code",
   "execution_count": 24,
   "id": "e932d3cd",
   "metadata": {},
   "outputs": [
    {
     "data": {
      "text/plain": [
       "IDNCASE              int64\n",
       "NAT                 object\n",
       "LANG                object\n",
       "CUSTODY             object\n",
       "CASE_TYPE           object\n",
       "LATEST_HEARING      object\n",
       "LATEST_CAL_TYPE     object\n",
       "DATE_OF_ENTRY       object\n",
       "C_BIRTHDATE         object\n",
       "GENDER              object\n",
       "DATE_DETAINED       object\n",
       "DATE_RELEASED       object\n",
       "DETENTION_DATE     float64\n",
       "dtype: object"
      ]
     },
     "execution_count": 24,
     "metadata": {},
     "output_type": "execute_result"
    }
   ],
   "source": [
    "cases.dtypes"
   ]
  },
  {
   "cell_type": "markdown",
   "id": "c08b9fa7",
   "metadata": {},
   "source": [
    "#### Specifying Column Data Types\n",
    "\n",
    "- `Int64`: Used for `IDNCASE` to allow nullable integer values.\n",
    "- `category`: Applied to string columns with repeated values  \n",
    "  (e.g., `NAT`, `LANG`, `CUSTODY`, `CASE_TYPE`, `LATEST_CAL_TYPE`, `GENDER`)  \n",
    "  for efficient storage and faster processing.\n",
    "- `string`: Used for `C_BIRTHDATE` since it uses a partial date format (`MM/YYYY`)  \n",
    "  and may contain nulls.\n",
    "- `float64`: Used for `DETENTION_DATE`, which appears to contain only nulls in the  \n",
    "  sample but may include numeric timestamps or intervals in the full dataset."
   ]
  },
  {
   "cell_type": "code",
   "execution_count": 25,
   "id": "bba89a2f",
   "metadata": {},
   "outputs": [],
   "source": [
    "dtype = {\n",
    "    \"IDNCASE\": \"Int64\",\n",
    "    \"NAT\": \"category\",\n",
    "    \"LANG\": \"category\",\n",
    "    \"CUSTODY\": \"category\",\n",
    "    \"CASE_TYPE\": \"category\",\n",
    "    \"LATEST_CAL_TYPE\": \"category\",\n",
    "    \"GENDER\": \"category\",\n",
    "    \"C_BIRTHDATE\": \"string\",\n",
    "    \"DETENTION_DATE\": \"float64\",\n",
    "}"
   ]
  },
  {
   "cell_type": "code",
   "execution_count": 26,
   "id": "29dc9806",
   "metadata": {},
   "outputs": [],
   "source": [
    "cases = pd.read_csv(\n",
    "    filepath_or_buffer=case_path,\n",
    "    delimiter=\"\\t\",\n",
    "    on_bad_lines=\"skip\",\n",
    "    usecols=selected_columns,\n",
    "    dtype=dtype,\n",
    "    parse_dates=[\"LATEST_HEARING\", \"DATE_OF_ENTRY\", \"DATE_DETAINED\", \"DATE_RELEASED\"],\n",
    "    low_memory=False,\n",
    "    skiprows=[11711221],  # skip malformed row: C error - EOF inside string on this line\n",
    ")"
   ]
  },
  {
   "cell_type": "markdown",
   "id": "0ed0e49a",
   "metadata": {},
   "source": [
    "### Data Inspection"
   ]
  },
  {
   "cell_type": "code",
   "execution_count": 27,
   "id": "ec1375ba",
   "metadata": {},
   "outputs": [
    {
     "data": {
      "text/html": [
       "<div>\n",
       "<style scoped>\n",
       "    .dataframe tbody tr th:only-of-type {\n",
       "        vertical-align: middle;\n",
       "    }\n",
       "\n",
       "    .dataframe tbody tr th {\n",
       "        vertical-align: top;\n",
       "    }\n",
       "\n",
       "    .dataframe thead th {\n",
       "        text-align: right;\n",
       "    }\n",
       "</style>\n",
       "<table border=\"1\" class=\"dataframe\">\n",
       "  <thead>\n",
       "    <tr style=\"text-align: right;\">\n",
       "      <th></th>\n",
       "      <th>IDNCASE</th>\n",
       "      <th>NAT</th>\n",
       "      <th>LANG</th>\n",
       "      <th>CUSTODY</th>\n",
       "      <th>CASE_TYPE</th>\n",
       "      <th>LATEST_HEARING</th>\n",
       "      <th>LATEST_CAL_TYPE</th>\n",
       "      <th>DATE_OF_ENTRY</th>\n",
       "      <th>C_BIRTHDATE</th>\n",
       "      <th>GENDER</th>\n",
       "      <th>DATE_DETAINED</th>\n",
       "      <th>DATE_RELEASED</th>\n",
       "      <th>DETENTION_DATE</th>\n",
       "    </tr>\n",
       "  </thead>\n",
       "  <tbody>\n",
       "    <tr>\n",
       "      <th>0</th>\n",
       "      <td>11782069</td>\n",
       "      <td>VE</td>\n",
       "      <td>SP</td>\n",
       "      <td>N</td>\n",
       "      <td>RMV</td>\n",
       "      <td>2026-01-20 00:00:00.000</td>\n",
       "      <td>M</td>\n",
       "      <td>2023-05-04 00:00:00.000</td>\n",
       "      <td>11/1999</td>\n",
       "      <td>F</td>\n",
       "      <td>NaN</td>\n",
       "      <td>NaN</td>\n",
       "      <td>NaN</td>\n",
       "    </tr>\n",
       "    <tr>\n",
       "      <th>1</th>\n",
       "      <td>11782070</td>\n",
       "      <td>EC</td>\n",
       "      <td>SP</td>\n",
       "      <td>D</td>\n",
       "      <td>RMV</td>\n",
       "      <td>NaN</td>\n",
       "      <td>NaN</td>\n",
       "      <td>2023-04-30 00:00:00.000</td>\n",
       "      <td>11/1983</td>\n",
       "      <td>M</td>\n",
       "      <td>2024-11-14 00:00:00.000</td>\n",
       "      <td>NaN</td>\n",
       "      <td>NaN</td>\n",
       "    </tr>\n",
       "    <tr>\n",
       "      <th>2</th>\n",
       "      <td>11782071</td>\n",
       "      <td>RU</td>\n",
       "      <td>RUS</td>\n",
       "      <td>N</td>\n",
       "      <td>RMV</td>\n",
       "      <td>2026-08-19 00:00:00.000</td>\n",
       "      <td>M</td>\n",
       "      <td>2023-05-04 00:00:00.000</td>\n",
       "      <td>5/1985</td>\n",
       "      <td>F</td>\n",
       "      <td>NaN</td>\n",
       "      <td>NaN</td>\n",
       "      <td>NaN</td>\n",
       "    </tr>\n",
       "    <tr>\n",
       "      <th>3</th>\n",
       "      <td>11782072</td>\n",
       "      <td>MX</td>\n",
       "      <td>SP</td>\n",
       "      <td>N</td>\n",
       "      <td>RMV</td>\n",
       "      <td>2028-02-17 00:00:00.000</td>\n",
       "      <td>M</td>\n",
       "      <td>2023-05-03 00:00:00.000</td>\n",
       "      <td>9/1999</td>\n",
       "      <td>F</td>\n",
       "      <td>NaN</td>\n",
       "      <td>NaN</td>\n",
       "      <td>NaN</td>\n",
       "    </tr>\n",
       "    <tr>\n",
       "      <th>4</th>\n",
       "      <td>11782074</td>\n",
       "      <td>VE</td>\n",
       "      <td>SP</td>\n",
       "      <td>N</td>\n",
       "      <td>RMV</td>\n",
       "      <td>2025-11-25 00:00:00.000</td>\n",
       "      <td>M</td>\n",
       "      <td>2023-04-30 00:00:00.000</td>\n",
       "      <td>9/2004</td>\n",
       "      <td>F</td>\n",
       "      <td>NaN</td>\n",
       "      <td>NaN</td>\n",
       "      <td>NaN</td>\n",
       "    </tr>\n",
       "  </tbody>\n",
       "</table>\n",
       "</div>"
      ],
      "text/plain": [
       "    IDNCASE NAT LANG  ...            DATE_DETAINED DATE_RELEASED DETENTION_DATE\n",
       "0  11782069  VE   SP  ...                      NaN           NaN            NaN\n",
       "1  11782070  EC   SP  ...  2024-11-14 00:00:00.000           NaN            NaN\n",
       "2  11782071  RU  RUS  ...                      NaN           NaN            NaN\n",
       "3  11782072  MX   SP  ...                      NaN           NaN            NaN\n",
       "4  11782074  VE   SP  ...                      NaN           NaN            NaN\n",
       "\n",
       "[5 rows x 13 columns]"
      ]
     },
     "execution_count": 27,
     "metadata": {},
     "output_type": "execute_result"
    }
   ],
   "source": [
    "cases.head()"
   ]
  },
  {
   "cell_type": "code",
   "execution_count": 28,
   "id": "2a6fe9bd",
   "metadata": {},
   "outputs": [
    {
     "name": "stdout",
     "output_type": "stream",
     "text": [
      "<class 'pandas.core.frame.DataFrame'>\n",
      "RangeIndex: 11711220 entries, 0 to 11711219\n",
      "Data columns (total 13 columns):\n",
      " #   Column           Dtype   \n",
      "---  ------           -----   \n",
      " 0   IDNCASE          Int64   \n",
      " 1   NAT              category\n",
      " 2   LANG             category\n",
      " 3   CUSTODY          category\n",
      " 4   CASE_TYPE        category\n",
      " 5   LATEST_HEARING   object  \n",
      " 6   LATEST_CAL_TYPE  category\n",
      " 7   DATE_OF_ENTRY    object  \n",
      " 8   C_BIRTHDATE      string  \n",
      " 9   GENDER           category\n",
      " 10  DATE_DETAINED    object  \n",
      " 11  DATE_RELEASED    object  \n",
      " 12  DETENTION_DATE   float64 \n",
      "dtypes: Int64(1), category(6), float64(1), object(4), string(1)\n",
      "memory usage: 726.0+ MB\n"
     ]
    }
   ],
   "source": [
    "cases.info()"
   ]
  },
  {
   "cell_type": "code",
   "execution_count": 29,
   "id": "20bf1c35",
   "metadata": {},
   "outputs": [
    {
     "data": {
      "text/plain": [
       "(11711220, 13)"
      ]
     },
     "execution_count": 29,
     "metadata": {},
     "output_type": "execute_result"
    }
   ],
   "source": [
    "cases.shape"
   ]
  },
  {
   "cell_type": "markdown",
   "id": "7a868b39",
   "metadata": {},
   "source": [
    "#### Filtering for Juvenile Cases\n",
    "\n",
    "The current `cases` DataFrame includes both adult and juvenile records.  \n",
    "To isolate only juvenile cases, we will filter it using the list of  \n",
    "`idnCase` values from `tbl_JuvenileHistory`, without performing a full merge."
   ]
  },
  {
   "cell_type": "code",
   "execution_count": 30,
   "id": "0be3f313",
   "metadata": {},
   "outputs": [],
   "source": [
    "juvenile_cases = cases[cases[\"IDNCASE\"].isin(juvenile_case_ids)].reset_index(drop=True)"
   ]
  },
  {
   "cell_type": "markdown",
   "id": "f074e344",
   "metadata": {},
   "source": [
    "#### Category Cleanup\n",
    "\n",
    "Removed unused category levels after filtering to ensure all categorical columns reflect only the values present in the `juvenile_cases` subset."
   ]
  },
  {
   "cell_type": "code",
   "execution_count": 31,
   "id": "52b81ac1",
   "metadata": {},
   "outputs": [],
   "source": [
    "for col in juvenile_cases.select_dtypes(include='category'):\n",
    "    juvenile_cases[col] = juvenile_cases[col].cat.remove_unused_categories()"
   ]
  },
  {
   "cell_type": "code",
   "execution_count": 32,
   "id": "301b7ea5",
   "metadata": {},
   "outputs": [
    {
     "data": {
      "text/html": [
       "<div>\n",
       "<style scoped>\n",
       "    .dataframe tbody tr th:only-of-type {\n",
       "        vertical-align: middle;\n",
       "    }\n",
       "\n",
       "    .dataframe tbody tr th {\n",
       "        vertical-align: top;\n",
       "    }\n",
       "\n",
       "    .dataframe thead th {\n",
       "        text-align: right;\n",
       "    }\n",
       "</style>\n",
       "<table border=\"1\" class=\"dataframe\">\n",
       "  <thead>\n",
       "    <tr style=\"text-align: right;\">\n",
       "      <th></th>\n",
       "      <th>IDNCASE</th>\n",
       "      <th>NAT</th>\n",
       "      <th>LANG</th>\n",
       "      <th>CUSTODY</th>\n",
       "      <th>CASE_TYPE</th>\n",
       "      <th>LATEST_HEARING</th>\n",
       "      <th>LATEST_CAL_TYPE</th>\n",
       "      <th>DATE_OF_ENTRY</th>\n",
       "      <th>C_BIRTHDATE</th>\n",
       "      <th>GENDER</th>\n",
       "      <th>DATE_DETAINED</th>\n",
       "      <th>DATE_RELEASED</th>\n",
       "      <th>DETENTION_DATE</th>\n",
       "    </tr>\n",
       "  </thead>\n",
       "  <tbody>\n",
       "    <tr>\n",
       "      <th>0</th>\n",
       "      <td>13758313</td>\n",
       "      <td>GT</td>\n",
       "      <td>SP</td>\n",
       "      <td>N</td>\n",
       "      <td>RMV</td>\n",
       "      <td>NaN</td>\n",
       "      <td>NaN</td>\n",
       "      <td>2024-01-21 00:00:00.000</td>\n",
       "      <td>2/2008</td>\n",
       "      <td>F</td>\n",
       "      <td>NaN</td>\n",
       "      <td>NaN</td>\n",
       "      <td>NaN</td>\n",
       "    </tr>\n",
       "    <tr>\n",
       "      <th>1</th>\n",
       "      <td>14870586</td>\n",
       "      <td>MX</td>\n",
       "      <td>SP</td>\n",
       "      <td>D</td>\n",
       "      <td>RFR</td>\n",
       "      <td>2025-02-04 00:00:00.000</td>\n",
       "      <td>I</td>\n",
       "      <td>NaN</td>\n",
       "      <td>&lt;NA&gt;</td>\n",
       "      <td>NaN</td>\n",
       "      <td>2025-01-22 00:00:00.000</td>\n",
       "      <td>NaN</td>\n",
       "      <td>NaN</td>\n",
       "    </tr>\n",
       "    <tr>\n",
       "      <th>2</th>\n",
       "      <td>14870588</td>\n",
       "      <td>GT</td>\n",
       "      <td>SP</td>\n",
       "      <td>R</td>\n",
       "      <td>WHO</td>\n",
       "      <td>2025-07-31 00:00:00.000</td>\n",
       "      <td>M</td>\n",
       "      <td>NaN</td>\n",
       "      <td>6/1997</td>\n",
       "      <td>F</td>\n",
       "      <td>2025-01-29 00:00:00.000</td>\n",
       "      <td>2025-02-06 00:00:00.000</td>\n",
       "      <td>NaN</td>\n",
       "    </tr>\n",
       "    <tr>\n",
       "      <th>3</th>\n",
       "      <td>13816559</td>\n",
       "      <td>MX</td>\n",
       "      <td>SP</td>\n",
       "      <td>N</td>\n",
       "      <td>RMV</td>\n",
       "      <td>2027-02-18 00:00:00.000</td>\n",
       "      <td>I</td>\n",
       "      <td>NaN</td>\n",
       "      <td>5/2020</td>\n",
       "      <td>M</td>\n",
       "      <td>NaN</td>\n",
       "      <td>NaN</td>\n",
       "      <td>NaN</td>\n",
       "    </tr>\n",
       "    <tr>\n",
       "      <th>4</th>\n",
       "      <td>13816560</td>\n",
       "      <td>MX</td>\n",
       "      <td>SP</td>\n",
       "      <td>N</td>\n",
       "      <td>RMV</td>\n",
       "      <td>2027-02-18 00:00:00.000</td>\n",
       "      <td>I</td>\n",
       "      <td>NaN</td>\n",
       "      <td>5/2021</td>\n",
       "      <td>F</td>\n",
       "      <td>NaN</td>\n",
       "      <td>NaN</td>\n",
       "      <td>NaN</td>\n",
       "    </tr>\n",
       "  </tbody>\n",
       "</table>\n",
       "</div>"
      ],
      "text/plain": [
       "    IDNCASE NAT  ...            DATE_RELEASED DETENTION_DATE\n",
       "0  13758313  GT  ...                      NaN            NaN\n",
       "1  14870586  MX  ...                      NaN            NaN\n",
       "2  14870588  GT  ...  2025-02-06 00:00:00.000            NaN\n",
       "3  13816559  MX  ...                      NaN            NaN\n",
       "4  13816560  MX  ...                      NaN            NaN\n",
       "\n",
       "[5 rows x 13 columns]"
      ]
     },
     "execution_count": 32,
     "metadata": {},
     "output_type": "execute_result"
    }
   ],
   "source": [
    "juvenile_cases.head()"
   ]
  },
  {
   "cell_type": "code",
   "execution_count": 33,
   "id": "386544e7",
   "metadata": {},
   "outputs": [
    {
     "data": {
      "text/plain": [
       "(1858773, 13)"
      ]
     },
     "execution_count": 33,
     "metadata": {},
     "output_type": "execute_result"
    }
   ],
   "source": [
    "juvenile_cases.shape"
   ]
  },
  {
   "cell_type": "code",
   "execution_count": 34,
   "id": "9f0bcc9c",
   "metadata": {},
   "outputs": [
    {
     "name": "stdout",
     "output_type": "stream",
     "text": [
      "<class 'pandas.core.frame.DataFrame'>\n",
      "RangeIndex: 1858773 entries, 0 to 1858772\n",
      "Data columns (total 13 columns):\n",
      " #   Column           Dtype   \n",
      "---  ------           -----   \n",
      " 0   IDNCASE          Int64   \n",
      " 1   NAT              category\n",
      " 2   LANG             category\n",
      " 3   CUSTODY          category\n",
      " 4   CASE_TYPE        category\n",
      " 5   LATEST_HEARING   object  \n",
      " 6   LATEST_CAL_TYPE  category\n",
      " 7   DATE_OF_ENTRY    object  \n",
      " 8   C_BIRTHDATE      string  \n",
      " 9   GENDER           category\n",
      " 10  DATE_DETAINED    object  \n",
      " 11  DATE_RELEASED    object  \n",
      " 12  DETENTION_DATE   float64 \n",
      "dtypes: Int64(1), category(6), float64(1), object(4), string(1)\n",
      "memory usage: 115.2+ MB\n"
     ]
    }
   ],
   "source": [
    "juvenile_cases.info()"
   ]
  },
  {
   "cell_type": "markdown",
   "id": "70050a50",
   "metadata": {},
   "source": [
    "### Missing Values Summary\n",
    "\n",
    "Counts and percentages of missing values were calculated for each column in the `juvenile_cases` dataset to assess data completeness.  \n",
    "`.isna().sum()` computes the total number of missing entries, and the percentage is derived by dividing by the total number of rows.  \n",
    "Columns are sorted by missing count to highlight those requiring attention during data cleaning."
   ]
  },
  {
   "cell_type": "code",
   "execution_count": 35,
   "id": "34071448",
   "metadata": {},
   "outputs": [
    {
     "data": {
      "text/html": [
       "<div>\n",
       "<style scoped>\n",
       "    .dataframe tbody tr th:only-of-type {\n",
       "        vertical-align: middle;\n",
       "    }\n",
       "\n",
       "    .dataframe tbody tr th {\n",
       "        vertical-align: top;\n",
       "    }\n",
       "\n",
       "    .dataframe thead th {\n",
       "        text-align: right;\n",
       "    }\n",
       "</style>\n",
       "<table border=\"1\" class=\"dataframe\">\n",
       "  <thead>\n",
       "    <tr style=\"text-align: right;\">\n",
       "      <th></th>\n",
       "      <th>Missing Count</th>\n",
       "      <th>Missing %</th>\n",
       "    </tr>\n",
       "  </thead>\n",
       "  <tbody>\n",
       "    <tr>\n",
       "      <th>DETENTION_DATE</th>\n",
       "      <td>1858773</td>\n",
       "      <td>100.00</td>\n",
       "    </tr>\n",
       "    <tr>\n",
       "      <th>DATE_RELEASED</th>\n",
       "      <td>1411804</td>\n",
       "      <td>75.95</td>\n",
       "    </tr>\n",
       "    <tr>\n",
       "      <th>DATE_DETAINED</th>\n",
       "      <td>1053320</td>\n",
       "      <td>56.67</td>\n",
       "    </tr>\n",
       "    <tr>\n",
       "      <th>GENDER</th>\n",
       "      <td>488535</td>\n",
       "      <td>26.28</td>\n",
       "    </tr>\n",
       "    <tr>\n",
       "      <th>DATE_OF_ENTRY</th>\n",
       "      <td>480722</td>\n",
       "      <td>25.86</td>\n",
       "    </tr>\n",
       "    <tr>\n",
       "      <th>C_BIRTHDATE</th>\n",
       "      <td>446724</td>\n",
       "      <td>24.03</td>\n",
       "    </tr>\n",
       "    <tr>\n",
       "      <th>LATEST_CAL_TYPE</th>\n",
       "      <td>303538</td>\n",
       "      <td>16.33</td>\n",
       "    </tr>\n",
       "    <tr>\n",
       "      <th>LATEST_HEARING</th>\n",
       "      <td>296813</td>\n",
       "      <td>15.97</td>\n",
       "    </tr>\n",
       "    <tr>\n",
       "      <th>NAT</th>\n",
       "      <td>3057</td>\n",
       "      <td>0.16</td>\n",
       "    </tr>\n",
       "    <tr>\n",
       "      <th>LANG</th>\n",
       "      <td>1692</td>\n",
       "      <td>0.09</td>\n",
       "    </tr>\n",
       "    <tr>\n",
       "      <th>CUSTODY</th>\n",
       "      <td>4</td>\n",
       "      <td>0.00</td>\n",
       "    </tr>\n",
       "    <tr>\n",
       "      <th>CASE_TYPE</th>\n",
       "      <td>4</td>\n",
       "      <td>0.00</td>\n",
       "    </tr>\n",
       "    <tr>\n",
       "      <th>IDNCASE</th>\n",
       "      <td>0</td>\n",
       "      <td>0.00</td>\n",
       "    </tr>\n",
       "  </tbody>\n",
       "</table>\n",
       "</div>"
      ],
      "text/plain": [
       "                 Missing Count  Missing %\n",
       "DETENTION_DATE         1858773     100.00\n",
       "DATE_RELEASED          1411804      75.95\n",
       "DATE_DETAINED          1053320      56.67\n",
       "GENDER                  488535      26.28\n",
       "DATE_OF_ENTRY           480722      25.86\n",
       "C_BIRTHDATE             446724      24.03\n",
       "LATEST_CAL_TYPE         303538      16.33\n",
       "LATEST_HEARING          296813      15.97\n",
       "NAT                       3057       0.16\n",
       "LANG                      1692       0.09\n",
       "CUSTODY                      4       0.00\n",
       "CASE_TYPE                    4       0.00\n",
       "IDNCASE                      0       0.00"
      ]
     },
     "metadata": {},
     "output_type": "display_data"
    }
   ],
   "source": [
    "null_counts = juvenile_cases.isna().sum()\n",
    "percent_missing = (null_counts / len(juvenile_cases)) * 100\n",
    "\n",
    "missing_summary = pd.DataFrame(\n",
    "    {\"Missing Count\": null_counts, \"Missing %\": percent_missing.round(2)}\n",
    ").sort_values(by=\"Missing Count\", ascending=False)\n",
    "\n",
    "display(missing_summary)"
   ]
  },
  {
   "cell_type": "markdown",
   "id": "1e8721b0",
   "metadata": {},
   "source": [
    "The `DETENTION_DATE` column is entirely null (100% missing) and therefore will be dropped from the dataset"
   ]
  },
  {
   "cell_type": "code",
   "execution_count": 36,
   "id": "e7e16ffc",
   "metadata": {},
   "outputs": [],
   "source": [
    "juvenile_cases = juvenile_cases.drop(\"DETENTION_DATE\", axis=1)"
   ]
  },
  {
   "cell_type": "markdown",
   "id": "e5c5e7fc",
   "metadata": {},
   "source": [
    "#### Datetime Format Validation\n",
    "\n",
    "The following date-related features will be the focus of the next stage of preprocessing:  \n",
    "- `LATEST_HEARING`  \n",
    "- `DATE_OF_ENTRY`  \n",
    "- `C_BIRTHDATE`  \n",
    "- `DATE_DETAINED`  \n",
    "- `DATE_RELEASED`  \n",
    "\n",
    "These features may require format standardization and conversion to datetime objects to enable accurate temporal analysis.\n",
    "\n",
    "Every datetime feature (except `C_BIRTHDATE`) follows the format `'YYYY-MM-DD 00:00:00.000'` (e.g., `'2025-02-04 00:00:00.000'`).\n",
    "\n",
    "Before conversion, each feature will be tested against this pattern to ensure values are valid.  \n",
    "All non-null entries will be checked to avoid unintended data loss during transformation with `pd.to_datetime()`.\n",
    "\n",
    "Only the **`YYYY-MM-DD`** portion of each timestamp will be retained."
   ]
  },
  {
   "cell_type": "code",
   "execution_count": 37,
   "id": "d688d84a",
   "metadata": {},
   "outputs": [],
   "source": [
    "def find_invalid_dates(df, column):\n",
    "    \"\"\"\n",
    "    Returns non-null rows that don’t match the `YYYY-MM-DD` pattern.\n",
    "    \"\"\"\n",
    "    return df[\n",
    "        df[column].notna() &\n",
    "        ~df[column].astype(str).str.contains(r'\\d{4}-\\d{2}-\\d{2}', regex=True)\n",
    "    ][[column]]"
   ]
  },
  {
   "cell_type": "code",
   "execution_count": 38,
   "id": "b7f2fc5b",
   "metadata": {},
   "outputs": [],
   "source": [
    "invalid_latest_hearing = find_invalid_dates(juvenile_cases, 'LATEST_HEARING')\n",
    "invalid_date_of_entry = find_invalid_dates(juvenile_cases, 'DATE_OF_ENTRY')\n",
    "invalid_date_detained = find_invalid_dates(juvenile_cases, 'DATE_DETAINED')\n",
    "invalid_date_released = find_invalid_dates(juvenile_cases, 'DATE_RELEASED')"
   ]
  },
  {
   "cell_type": "code",
   "execution_count": 39,
   "id": "44a1058a",
   "metadata": {},
   "outputs": [],
   "source": [
    "def report_invalid(name, df):\n",
    "    \"\"\"\n",
    "    Prints the number of invalid entries and displays the DataFrame if not empty.\n",
    "    \"\"\"\n",
    "    count = len(df)\n",
    "    print(f\"{name}: {count} invalid entr{'y' if count == 1 else 'ies'}\")\n",
    "    if count > 0:\n",
    "        display(df)  "
   ]
  },
  {
   "cell_type": "code",
   "execution_count": 40,
   "id": "3fa4d4c5",
   "metadata": {},
   "outputs": [
    {
     "name": "stdout",
     "output_type": "stream",
     "text": [
      "LATEST_HEARING: 9 invalid entries\n"
     ]
    },
    {
     "data": {
      "text/html": [
       "<div>\n",
       "<style scoped>\n",
       "    .dataframe tbody tr th:only-of-type {\n",
       "        vertical-align: middle;\n",
       "    }\n",
       "\n",
       "    .dataframe tbody tr th {\n",
       "        vertical-align: top;\n",
       "    }\n",
       "\n",
       "    .dataframe thead th {\n",
       "        text-align: right;\n",
       "    }\n",
       "</style>\n",
       "<table border=\"1\" class=\"dataframe\">\n",
       "  <thead>\n",
       "    <tr style=\"text-align: right;\">\n",
       "      <th></th>\n",
       "      <th>LATEST_HEARING</th>\n",
       "    </tr>\n",
       "  </thead>\n",
       "  <tbody>\n",
       "    <tr>\n",
       "      <th>1676217</th>\n",
       "      <td>SFR</td>\n",
       "    </tr>\n",
       "    <tr>\n",
       "      <th>1678888</th>\n",
       "      <td>PHI</td>\n",
       "    </tr>\n",
       "    <tr>\n",
       "      <th>1701983</th>\n",
       "      <td>NEW</td>\n",
       "    </tr>\n",
       "    <tr>\n",
       "      <th>1774914</th>\n",
       "      <td>NYV</td>\n",
       "    </tr>\n",
       "    <tr>\n",
       "      <th>1775104</th>\n",
       "      <td>NYV</td>\n",
       "    </tr>\n",
       "    <tr>\n",
       "      <th>1788271</th>\n",
       "      <td>PHI</td>\n",
       "    </tr>\n",
       "    <tr>\n",
       "      <th>1790694</th>\n",
       "      <td>HAR</td>\n",
       "    </tr>\n",
       "    <tr>\n",
       "      <th>1796974</th>\n",
       "      <td>DAL</td>\n",
       "    </tr>\n",
       "    <tr>\n",
       "      <th>1842725</th>\n",
       "      <td>SNA</td>\n",
       "    </tr>\n",
       "  </tbody>\n",
       "</table>\n",
       "</div>"
      ],
      "text/plain": [
       "        LATEST_HEARING\n",
       "1676217            SFR\n",
       "1678888            PHI\n",
       "1701983            NEW\n",
       "1774914            NYV\n",
       "1775104            NYV\n",
       "1788271            PHI\n",
       "1790694            HAR\n",
       "1796974            DAL\n",
       "1842725            SNA"
      ]
     },
     "metadata": {},
     "output_type": "display_data"
    },
    {
     "name": "stdout",
     "output_type": "stream",
     "text": [
      "DATE_OF_ENTRY: 0 invalid entries\n",
      "DATE_DETAINED: 7 invalid entries\n"
     ]
    },
    {
     "data": {
      "text/html": [
       "<div>\n",
       "<style scoped>\n",
       "    .dataframe tbody tr th:only-of-type {\n",
       "        vertical-align: middle;\n",
       "    }\n",
       "\n",
       "    .dataframe tbody tr th {\n",
       "        vertical-align: top;\n",
       "    }\n",
       "\n",
       "    .dataframe thead th {\n",
       "        text-align: right;\n",
       "    }\n",
       "</style>\n",
       "<table border=\"1\" class=\"dataframe\">\n",
       "  <thead>\n",
       "    <tr style=\"text-align: right;\">\n",
       "      <th></th>\n",
       "      <th>DATE_DETAINED</th>\n",
       "    </tr>\n",
       "  </thead>\n",
       "  <tbody>\n",
       "    <tr>\n",
       "      <th>1676217</th>\n",
       "      <td>M</td>\n",
       "    </tr>\n",
       "    <tr>\n",
       "      <th>1678888</th>\n",
       "      <td>F</td>\n",
       "    </tr>\n",
       "    <tr>\n",
       "      <th>1774914</th>\n",
       "      <td>M</td>\n",
       "    </tr>\n",
       "    <tr>\n",
       "      <th>1775104</th>\n",
       "      <td>M</td>\n",
       "    </tr>\n",
       "    <tr>\n",
       "      <th>1788271</th>\n",
       "      <td>M</td>\n",
       "    </tr>\n",
       "    <tr>\n",
       "      <th>1790694</th>\n",
       "      <td>F</td>\n",
       "    </tr>\n",
       "    <tr>\n",
       "      <th>1842725</th>\n",
       "      <td>M</td>\n",
       "    </tr>\n",
       "  </tbody>\n",
       "</table>\n",
       "</div>"
      ],
      "text/plain": [
       "        DATE_DETAINED\n",
       "1676217             M\n",
       "1678888             F\n",
       "1774914             M\n",
       "1775104             M\n",
       "1788271             M\n",
       "1790694             F\n",
       "1842725             M"
      ]
     },
     "metadata": {},
     "output_type": "display_data"
    },
    {
     "name": "stdout",
     "output_type": "stream",
     "text": [
      "DATE_RELEASED: 0 invalid entries\n"
     ]
    }
   ],
   "source": [
    "report_invalid(\"LATEST_HEARING\", invalid_latest_hearing)\n",
    "report_invalid(\"DATE_OF_ENTRY\", invalid_date_of_entry)\n",
    "report_invalid(\"DATE_DETAINED\", invalid_date_detained)\n",
    "report_invalid(\"DATE_RELEASED\", invalid_date_released)"
   ]
  },
  {
   "cell_type": "markdown",
   "id": "4e82cdfa",
   "metadata": {},
   "source": [
    "Invalid date values were not counted separately, as `errors='coerce'` was used in `pd.to_datetime()`.  \n",
    "This automatically handles invalid formats by converting them to `NaT`, simplifying the cleaning process."
   ]
  },
  {
   "cell_type": "code",
   "execution_count": 41,
   "id": "38405366",
   "metadata": {},
   "outputs": [],
   "source": [
    "date_cols = ['LATEST_HEARING', 'DATE_OF_ENTRY', 'DATE_DETAINED', 'DATE_RELEASED']\n",
    "\n",
    "juvenile_cases[date_cols] = juvenile_cases[date_cols].apply(\n",
    "    lambda col: pd.to_datetime(col, errors='coerce')\n",
    ")"
   ]
  },
  {
   "cell_type": "markdown",
   "id": "8a679ecb",
   "metadata": {},
   "source": [
    "Identified non-null `C_BIRTHDATE` values that do not match the expected `MM/YYYY` format.  \n",
    "This helps reveal alternate formats and prevents unintended data loss during conversion."
   ]
  },
  {
   "cell_type": "code",
   "execution_count": 42,
   "id": "89ce0eb9",
   "metadata": {},
   "outputs": [],
   "source": [
    "invalid_birthdates = juvenile_cases[\n",
    "    juvenile_cases['C_BIRTHDATE'].notna() &\n",
    "    ~juvenile_cases['C_BIRTHDATE'].astype(str).str.contains(r'^\\d{1,2}/\\d{4}$', regex=True)\n",
    "][['C_BIRTHDATE']]"
   ]
  },
  {
   "cell_type": "code",
   "execution_count": 43,
   "id": "c44d1d38",
   "metadata": {},
   "outputs": [
    {
     "name": "stdout",
     "output_type": "stream",
     "text": [
      "Invalid C_BIRTHDATE entries: 7\n"
     ]
    },
    {
     "data": {
      "text/html": [
       "<div>\n",
       "<style scoped>\n",
       "    .dataframe tbody tr th:only-of-type {\n",
       "        vertical-align: middle;\n",
       "    }\n",
       "\n",
       "    .dataframe tbody tr th {\n",
       "        vertical-align: top;\n",
       "    }\n",
       "\n",
       "    .dataframe thead th {\n",
       "        text-align: right;\n",
       "    }\n",
       "</style>\n",
       "<table border=\"1\" class=\"dataframe\">\n",
       "  <thead>\n",
       "    <tr style=\"text-align: right;\">\n",
       "      <th></th>\n",
       "      <th>C_BIRTHDATE</th>\n",
       "    </tr>\n",
       "  </thead>\n",
       "  <tbody>\n",
       "    <tr>\n",
       "      <th>1678888</th>\n",
       "      <td>E</td>\n",
       "    </tr>\n",
       "    <tr>\n",
       "      <th>1774914</th>\n",
       "      <td>E</td>\n",
       "    </tr>\n",
       "    <tr>\n",
       "      <th>1775104</th>\n",
       "      <td>E</td>\n",
       "    </tr>\n",
       "    <tr>\n",
       "      <th>1788271</th>\n",
       "      <td>E</td>\n",
       "    </tr>\n",
       "    <tr>\n",
       "      <th>1790694</th>\n",
       "      <td>E</td>\n",
       "    </tr>\n",
       "    <tr>\n",
       "      <th>1796974</th>\n",
       "      <td>E</td>\n",
       "    </tr>\n",
       "    <tr>\n",
       "      <th>1842725</th>\n",
       "      <td>E</td>\n",
       "    </tr>\n",
       "  </tbody>\n",
       "</table>\n",
       "</div>"
      ],
      "text/plain": [
       "        C_BIRTHDATE\n",
       "1678888           E\n",
       "1774914           E\n",
       "1775104           E\n",
       "1788271           E\n",
       "1790694           E\n",
       "1796974           E\n",
       "1842725           E"
      ]
     },
     "metadata": {},
     "output_type": "display_data"
    }
   ],
   "source": [
    "print(f\"Invalid C_BIRTHDATE entries: {len(invalid_birthdates)}\")\n",
    "display(invalid_birthdates)"
   ]
  },
  {
   "cell_type": "code",
   "execution_count": 44,
   "id": "430f3a4d",
   "metadata": {},
   "outputs": [],
   "source": [
    "juvenile_cases['C_BIRTHDATE'] = pd.to_datetime(\n",
    "    juvenile_cases['C_BIRTHDATE'],\n",
    "    format='%m/%Y',\n",
    "    errors='coerce'\n",
    ")"
   ]
  },
  {
   "cell_type": "markdown",
   "id": "bb6e0720",
   "metadata": {},
   "source": [
    "#### Date Conversion Check\n",
    "\n",
    "Confirmed that all date columns were successfully converted to `datetime64[ns]` format."
   ]
  },
  {
   "cell_type": "code",
   "execution_count": 45,
   "id": "3930c1ea",
   "metadata": {},
   "outputs": [
    {
     "name": "stdout",
     "output_type": "stream",
     "text": [
      "LATEST_HEARING    datetime64[ns]\n",
      "DATE_OF_ENTRY     datetime64[ns]\n",
      "DATE_DETAINED     datetime64[ns]\n",
      "DATE_RELEASED     datetime64[ns]\n",
      "C_BIRTHDATE       datetime64[ns]\n",
      "dtype: object\n"
     ]
    }
   ],
   "source": [
    "date_cols = ['LATEST_HEARING', 'DATE_OF_ENTRY', 'DATE_DETAINED', 'DATE_RELEASED', 'C_BIRTHDATE']\n",
    "print(juvenile_cases[date_cols].dtypes)"
   ]
  },
  {
   "cell_type": "code",
   "execution_count": 46,
   "id": "2fd7dcbb",
   "metadata": {},
   "outputs": [
    {
     "name": "stdout",
     "output_type": "stream",
     "text": [
      "<class 'pandas.core.frame.DataFrame'>\n",
      "RangeIndex: 1858773 entries, 0 to 1858772\n",
      "Data columns (total 12 columns):\n",
      " #   Column           Dtype         \n",
      "---  ------           -----         \n",
      " 0   IDNCASE          Int64         \n",
      " 1   NAT              category      \n",
      " 2   LANG             category      \n",
      " 3   CUSTODY          category      \n",
      " 4   CASE_TYPE        category      \n",
      " 5   LATEST_HEARING   datetime64[ns]\n",
      " 6   LATEST_CAL_TYPE  category      \n",
      " 7   DATE_OF_ENTRY    datetime64[ns]\n",
      " 8   C_BIRTHDATE      datetime64[ns]\n",
      " 9   GENDER           category      \n",
      " 10  DATE_DETAINED    datetime64[ns]\n",
      " 11  DATE_RELEASED    datetime64[ns]\n",
      "dtypes: Int64(1), category(6), datetime64[ns](5)\n",
      "memory usage: 101.0 MB\n"
     ]
    }
   ],
   "source": [
    "juvenile_cases.info()"
   ]
  },
  {
   "cell_type": "code",
   "execution_count": 47,
   "id": "5d518a08",
   "metadata": {},
   "outputs": [
    {
     "data": {
      "text/html": [
       "<div>\n",
       "<style scoped>\n",
       "    .dataframe tbody tr th:only-of-type {\n",
       "        vertical-align: middle;\n",
       "    }\n",
       "\n",
       "    .dataframe tbody tr th {\n",
       "        vertical-align: top;\n",
       "    }\n",
       "\n",
       "    .dataframe thead th {\n",
       "        text-align: right;\n",
       "    }\n",
       "</style>\n",
       "<table border=\"1\" class=\"dataframe\">\n",
       "  <thead>\n",
       "    <tr style=\"text-align: right;\">\n",
       "      <th></th>\n",
       "      <th>IDNCASE</th>\n",
       "      <th>NAT</th>\n",
       "      <th>LANG</th>\n",
       "      <th>CUSTODY</th>\n",
       "      <th>CASE_TYPE</th>\n",
       "      <th>LATEST_HEARING</th>\n",
       "      <th>LATEST_CAL_TYPE</th>\n",
       "      <th>DATE_OF_ENTRY</th>\n",
       "      <th>C_BIRTHDATE</th>\n",
       "      <th>GENDER</th>\n",
       "      <th>DATE_DETAINED</th>\n",
       "      <th>DATE_RELEASED</th>\n",
       "    </tr>\n",
       "  </thead>\n",
       "  <tbody>\n",
       "    <tr>\n",
       "      <th>0</th>\n",
       "      <td>13758313</td>\n",
       "      <td>GT</td>\n",
       "      <td>SP</td>\n",
       "      <td>N</td>\n",
       "      <td>RMV</td>\n",
       "      <td>NaT</td>\n",
       "      <td>NaN</td>\n",
       "      <td>2024-01-21</td>\n",
       "      <td>2008-02-01</td>\n",
       "      <td>F</td>\n",
       "      <td>NaT</td>\n",
       "      <td>NaT</td>\n",
       "    </tr>\n",
       "    <tr>\n",
       "      <th>1</th>\n",
       "      <td>14870586</td>\n",
       "      <td>MX</td>\n",
       "      <td>SP</td>\n",
       "      <td>D</td>\n",
       "      <td>RFR</td>\n",
       "      <td>2025-02-04</td>\n",
       "      <td>I</td>\n",
       "      <td>NaT</td>\n",
       "      <td>NaT</td>\n",
       "      <td>NaN</td>\n",
       "      <td>2025-01-22</td>\n",
       "      <td>NaT</td>\n",
       "    </tr>\n",
       "    <tr>\n",
       "      <th>2</th>\n",
       "      <td>14870588</td>\n",
       "      <td>GT</td>\n",
       "      <td>SP</td>\n",
       "      <td>R</td>\n",
       "      <td>WHO</td>\n",
       "      <td>2025-07-31</td>\n",
       "      <td>M</td>\n",
       "      <td>NaT</td>\n",
       "      <td>1997-06-01</td>\n",
       "      <td>F</td>\n",
       "      <td>2025-01-29</td>\n",
       "      <td>2025-02-06</td>\n",
       "    </tr>\n",
       "    <tr>\n",
       "      <th>3</th>\n",
       "      <td>13816559</td>\n",
       "      <td>MX</td>\n",
       "      <td>SP</td>\n",
       "      <td>N</td>\n",
       "      <td>RMV</td>\n",
       "      <td>2027-02-18</td>\n",
       "      <td>I</td>\n",
       "      <td>NaT</td>\n",
       "      <td>2020-05-01</td>\n",
       "      <td>M</td>\n",
       "      <td>NaT</td>\n",
       "      <td>NaT</td>\n",
       "    </tr>\n",
       "    <tr>\n",
       "      <th>4</th>\n",
       "      <td>13816560</td>\n",
       "      <td>MX</td>\n",
       "      <td>SP</td>\n",
       "      <td>N</td>\n",
       "      <td>RMV</td>\n",
       "      <td>2027-02-18</td>\n",
       "      <td>I</td>\n",
       "      <td>NaT</td>\n",
       "      <td>2021-05-01</td>\n",
       "      <td>F</td>\n",
       "      <td>NaT</td>\n",
       "      <td>NaT</td>\n",
       "    </tr>\n",
       "  </tbody>\n",
       "</table>\n",
       "</div>"
      ],
      "text/plain": [
       "    IDNCASE NAT LANG CUSTODY  ... C_BIRTHDATE GENDER DATE_DETAINED DATE_RELEASED\n",
       "0  13758313  GT   SP       N  ...  2008-02-01      F           NaT           NaT\n",
       "1  14870586  MX   SP       D  ...         NaT    NaN    2025-01-22           NaT\n",
       "2  14870588  GT   SP       R  ...  1997-06-01      F    2025-01-29    2025-02-06\n",
       "3  13816559  MX   SP       N  ...  2020-05-01      M           NaT           NaT\n",
       "4  13816560  MX   SP       N  ...  2021-05-01      F           NaT           NaT\n",
       "\n",
       "[5 rows x 12 columns]"
      ]
     },
     "execution_count": 47,
     "metadata": {},
     "output_type": "execute_result"
    }
   ],
   "source": [
    "juvenile_cases.head()"
   ]
  },
  {
   "cell_type": "markdown",
   "id": "0ba76eeb",
   "metadata": {},
   "source": [
    "#### Categorical Value Cleanup\n",
    "\n",
    "Standardized and cleaned values in key categorical features (`NAT`, `LANG`, `CUSTODY`, `CASE_TYPE`, `LATEST_CAL_TYPE`, `GENDER`)  \n",
    "to ensure consistency and prevent issues caused by typos or rare variants.\n",
    "\n",
    "`NAT` and `LANG` contain a large number of unique values.  \n",
    "These were retained in full to preserve detail and will be grouped or simplified as needed during analysis."
   ]
  },
  {
   "cell_type": "code",
   "execution_count": 48,
   "id": "f230711a",
   "metadata": {},
   "outputs": [
    {
     "data": {
      "text/plain": [
       "CUSTODY\n",
       "N      1010878\n",
       "R       471998\n",
       "D       375884\n",
       "SP           8\n",
       "POR          1\n",
       "Name: count, dtype: int64"
      ]
     },
     "execution_count": 48,
     "metadata": {},
     "output_type": "execute_result"
    }
   ],
   "source": [
    "juvenile_cases['CUSTODY'].value_counts()"
   ]
  },
  {
   "cell_type": "code",
   "execution_count": 49,
   "id": "3f0221e0",
   "metadata": {},
   "outputs": [
    {
     "data": {
      "text/plain": [
       "CASE_TYPE\n",
       "RMV    1721295\n",
       "CFR      88087\n",
       "RFR      21395\n",
       "WHO      21372\n",
       "AOC       4358\n",
       "DEP       1830\n",
       "REC        218\n",
       "EXC        153\n",
       "CSR         51\n",
       "0            5\n",
       "AOL          2\n",
       "NAC          2\n",
       "DCC          1\n",
       "Name: count, dtype: int64"
      ]
     },
     "execution_count": 49,
     "metadata": {},
     "output_type": "execute_result"
    }
   ],
   "source": [
    "juvenile_cases['CASE_TYPE'].value_counts()"
   ]
  },
  {
   "cell_type": "code",
   "execution_count": 50,
   "id": "d9ed6b49",
   "metadata": {},
   "outputs": [
    {
     "data": {
      "text/plain": [
       "LATEST_CAL_TYPE\n",
       "M       1069154\n",
       "I        486049\n",
       "N            22\n",
       "0900          4\n",
       "1300          2\n",
       "R             2\n",
       "0830          1\n",
       "1030          1\n",
       "Name: count, dtype: int64"
      ]
     },
     "execution_count": 50,
     "metadata": {},
     "output_type": "execute_result"
    }
   ],
   "source": [
    "juvenile_cases['LATEST_CAL_TYPE'].value_counts()"
   ]
  },
  {
   "cell_type": "markdown",
   "id": "acdd6319",
   "metadata": {},
   "source": [
    "Cleaned `LATEST_CAL_TYPE` by keeping known values (`M` = Master, `I` = Individual) and replacing unexpected entries (e.g., time strings or unknown codes) with `NaN`."
   ]
  },
  {
   "cell_type": "code",
   "execution_count": 51,
   "id": "93aa16b4",
   "metadata": {},
   "outputs": [],
   "source": [
    "valid_types = ['M', 'I']\n",
    "\n",
    "juvenile_cases['LATEST_CAL_TYPE'] = juvenile_cases['LATEST_CAL_TYPE'].apply(\n",
    "    lambda x: x if x in valid_types else pd.NA\n",
    ").astype('category')\n",
    "\n",
    "juvenile_cases['LATEST_CAL_TYPE'] = juvenile_cases['LATEST_CAL_TYPE'].cat.remove_unused_categories()"
   ]
  },
  {
   "cell_type": "code",
   "execution_count": 52,
   "id": "0de7129e",
   "metadata": {},
   "outputs": [
    {
     "data": {
      "text/plain": [
       "GENDER\n",
       "M    875507\n",
       "F    494724\n",
       "N         6\n",
       "U         1\n",
       "Name: count, dtype: int64"
      ]
     },
     "execution_count": 52,
     "metadata": {},
     "output_type": "execute_result"
    }
   ],
   "source": [
    "juvenile_cases['GENDER'].value_counts()"
   ]
  },
  {
   "cell_type": "markdown",
   "id": "e000f733",
   "metadata": {},
   "source": [
    "Cleaned `GENDER` by keeping known values (`M` = Male, `F` = Female) and replaced rare or unclear codes (`N`, `U`) with `NaN` to ensure consistency and avoid ambiguity in gender-related analysis."
   ]
  },
  {
   "cell_type": "code",
   "execution_count": 53,
   "id": "7dd13367",
   "metadata": {},
   "outputs": [],
   "source": [
    "juvenile_cases['GENDER'] = juvenile_cases['GENDER'].apply(\n",
    "    lambda x: x if x in ['M', 'F'] else pd.NA\n",
    ").astype('category')\n",
    "\n",
    "juvenile_cases['GENDER'] = juvenile_cases['GENDER'].cat.remove_unused_categories()"
   ]
  },
  {
   "cell_type": "code",
   "execution_count": 55,
   "id": "29409321",
   "metadata": {},
   "outputs": [
    {
     "data": {
      "text/html": [
       "<div>\n",
       "<style scoped>\n",
       "    .dataframe tbody tr th:only-of-type {\n",
       "        vertical-align: middle;\n",
       "    }\n",
       "\n",
       "    .dataframe tbody tr th {\n",
       "        vertical-align: top;\n",
       "    }\n",
       "\n",
       "    .dataframe thead th {\n",
       "        text-align: right;\n",
       "    }\n",
       "</style>\n",
       "<table border=\"1\" class=\"dataframe\">\n",
       "  <thead>\n",
       "    <tr style=\"text-align: right;\">\n",
       "      <th></th>\n",
       "      <th>IDNCASE</th>\n",
       "      <th>NAT</th>\n",
       "      <th>LANG</th>\n",
       "      <th>CUSTODY</th>\n",
       "      <th>CASE_TYPE</th>\n",
       "      <th>LATEST_HEARING</th>\n",
       "      <th>LATEST_CAL_TYPE</th>\n",
       "      <th>DATE_OF_ENTRY</th>\n",
       "      <th>C_BIRTHDATE</th>\n",
       "      <th>GENDER</th>\n",
       "      <th>DATE_DETAINED</th>\n",
       "      <th>DATE_RELEASED</th>\n",
       "    </tr>\n",
       "  </thead>\n",
       "  <tbody>\n",
       "    <tr>\n",
       "      <th>0</th>\n",
       "      <td>13758313</td>\n",
       "      <td>GT</td>\n",
       "      <td>SP</td>\n",
       "      <td>N</td>\n",
       "      <td>RMV</td>\n",
       "      <td>NaT</td>\n",
       "      <td>NaN</td>\n",
       "      <td>2024-01-21</td>\n",
       "      <td>2008-02-01</td>\n",
       "      <td>F</td>\n",
       "      <td>NaT</td>\n",
       "      <td>NaT</td>\n",
       "    </tr>\n",
       "    <tr>\n",
       "      <th>1</th>\n",
       "      <td>14870586</td>\n",
       "      <td>MX</td>\n",
       "      <td>SP</td>\n",
       "      <td>D</td>\n",
       "      <td>RFR</td>\n",
       "      <td>2025-02-04</td>\n",
       "      <td>I</td>\n",
       "      <td>NaT</td>\n",
       "      <td>NaT</td>\n",
       "      <td>NaN</td>\n",
       "      <td>2025-01-22</td>\n",
       "      <td>NaT</td>\n",
       "    </tr>\n",
       "    <tr>\n",
       "      <th>2</th>\n",
       "      <td>14870588</td>\n",
       "      <td>GT</td>\n",
       "      <td>SP</td>\n",
       "      <td>R</td>\n",
       "      <td>WHO</td>\n",
       "      <td>2025-07-31</td>\n",
       "      <td>M</td>\n",
       "      <td>NaT</td>\n",
       "      <td>1997-06-01</td>\n",
       "      <td>F</td>\n",
       "      <td>2025-01-29</td>\n",
       "      <td>2025-02-06</td>\n",
       "    </tr>\n",
       "    <tr>\n",
       "      <th>3</th>\n",
       "      <td>13816559</td>\n",
       "      <td>MX</td>\n",
       "      <td>SP</td>\n",
       "      <td>N</td>\n",
       "      <td>RMV</td>\n",
       "      <td>2027-02-18</td>\n",
       "      <td>I</td>\n",
       "      <td>NaT</td>\n",
       "      <td>2020-05-01</td>\n",
       "      <td>M</td>\n",
       "      <td>NaT</td>\n",
       "      <td>NaT</td>\n",
       "    </tr>\n",
       "    <tr>\n",
       "      <th>4</th>\n",
       "      <td>13816560</td>\n",
       "      <td>MX</td>\n",
       "      <td>SP</td>\n",
       "      <td>N</td>\n",
       "      <td>RMV</td>\n",
       "      <td>2027-02-18</td>\n",
       "      <td>I</td>\n",
       "      <td>NaT</td>\n",
       "      <td>2021-05-01</td>\n",
       "      <td>F</td>\n",
       "      <td>NaT</td>\n",
       "      <td>NaT</td>\n",
       "    </tr>\n",
       "  </tbody>\n",
       "</table>\n",
       "</div>"
      ],
      "text/plain": [
       "    IDNCASE NAT LANG CUSTODY  ... C_BIRTHDATE GENDER DATE_DETAINED DATE_RELEASED\n",
       "0  13758313  GT   SP       N  ...  2008-02-01      F           NaT           NaT\n",
       "1  14870586  MX   SP       D  ...         NaT    NaN    2025-01-22           NaT\n",
       "2  14870588  GT   SP       R  ...  1997-06-01      F    2025-01-29    2025-02-06\n",
       "3  13816559  MX   SP       N  ...  2020-05-01      M           NaT           NaT\n",
       "4  13816560  MX   SP       N  ...  2021-05-01      F           NaT           NaT\n",
       "\n",
       "[5 rows x 12 columns]"
      ]
     },
     "execution_count": 55,
     "metadata": {},
     "output_type": "execute_result"
    }
   ],
   "source": [
    "juvenile_cases.head()"
   ]
  },
  {
   "cell_type": "code",
   "execution_count": 54,
   "id": "5fa5868b",
   "metadata": {},
   "outputs": [],
   "source": [
    "juvenile_cases.to_csv(\n",
    "    \"../outputs/juvenile_cases_cleaned.csv.gz\", index=False, compression=\"gzip\"\n",
    ")"
   ]
  },
  {
   "cell_type": "markdown",
   "id": "e8ba56c7",
   "metadata": {},
   "source": [
    "### Cleaned `tbl_Case`\n",
    "\n",
    "- Filtered to ~1.86M juvenile-related cases based on `IDNCASE`.\n",
    "- Reset index after filtering.\n",
    "- Removed unused categories from categorical columns.\n",
    "- Converted date fields to `datetime64[ns]`:\n",
    "  - `LATEST_HEARING`\n",
    "  - `DATE_OF_ENTRY`\n",
    "  - `C_BIRTHDATE` (parsed from `MM/YYYY` format)\n",
    "  - `DATE_DETAINED`\n",
    "  - `DATE_RELEASED`\n",
    "- Cleaned categorical features:\n",
    "  - `LATEST_CAL_TYPE`: kept only `M` (Master) and `I` (Individual); others set to `NaN`\n",
    "  - `GENDER`: kept only `M` and `F`; others set to `NaN`\n",
    "\n",
    "Saved cleaned file as:  \n",
    "`cases_juvenile_cleaned.csv.gz`"
   ]
  }
 ],
 "metadata": {
  "kernelspec": {
   "display_name": "ds",
   "language": "python",
   "name": "python3"
  },
  "language_info": {
   "codemirror_mode": {
    "name": "ipython",
    "version": 3
   },
   "file_extension": ".py",
   "mimetype": "text/x-python",
   "name": "python",
   "nbconvert_exporter": "python",
   "pygments_lexer": "ipython3",
   "version": "3.12.9"
  }
 },
 "nbformat": 4,
 "nbformat_minor": 5
}
