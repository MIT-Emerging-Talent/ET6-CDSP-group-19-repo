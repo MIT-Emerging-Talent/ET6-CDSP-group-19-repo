{
 "cells": [
  {
   "cell_type": "markdown",
   "id": "e1a4b5c9",
   "metadata": {},
   "source": [
    "# Impact of U.S. Immigration Policy on Juvenile Immigrants: Data Analysis\n",
    "\n",
    "## Research Question\n",
    "\n",
    "**How do changes in U.S. immigration policy under different administrations affect access to legal representation and outcomes for immigrant juveniles seeking protection?**\n",
    "\n",
    "This notebook performs analysis of juvenile immigration cases data to understand the relationship between policy changes, legal representation, and case outcomes for immigrant juveniles.\n",
    "\n",
    "### Analysis Approach\n",
    "\n",
    "Three primary analytical methods are employed in this analysis:\n",
    "\n",
    "1. **Time Series Analysis**: Track changes across different administration periods (2018-2025)\n",
    "2. **Chi-square Tests**: Examine relationships between legal representation and case outcomes\n",
    "3. **Logistic Regression**: Determine which variables most strongly predict favorable case outcomes"
   ]
  },
  {
   "cell_type": "code",
   "execution_count": 1,
   "id": "8e1cc1a9",
   "metadata": {},
   "outputs": [],
   "source": [
    "# Import necessary libraries\n",
    "import pandas as pd\n",
    "import numpy as np\n",
    "import matplotlib.pyplot as plt\n",
    "import seaborn as sns\n",
    "from scipy import stats\n",
    "from statsmodels.graphics.tsaplots import plot_acf, plot_pacf\n",
    "from sklearn.linear_model import LogisticRegression\n",
    "from sklearn.model_selection import train_test_split\n",
    "from sklearn.metrics import classification_report, confusion_matrix\n",
    "from datetime import datetime\n",
    "\n",
    "# Set visualization style\n",
    "plt.style.use('fivethirtyeight')\n",
    "sns.set_palette('deep')\n",
    "plt.rcParams['figure.figsize'] = [10, 6]\n",
    "plt.rcParams['figure.dpi'] = 100"
   ]
  },
  {
   "cell_type": "markdown",
   "id": "a99bcca1",
   "metadata": {},
   "source": [
    "## 1. Data Loading and Preparation\n",
    "\n",
    "The following datasets from the repository are utilized in this analysis:\n",
    "\n",
    "- `juvenile_history_cleaned.csv.gz` - Contains juvenile case records\n",
    "- `juvenile_cases_cleaned.csv` - Contains case details for juveniles\n",
    "- `tblLookup_Juvenile.csv` - Lookup table for juvenile categories"
   ]
  },
  {
   "cell_type": "code",
   "execution_count": 2,
   "id": "b45a9c82",
   "metadata": {},
   "outputs": [],
   "source": [
    "# Define paths\n",
    "juvenile_history_path = \"../2_data_preparation/outputs/juvenile_history_cleaned.csv.gz\"\n",
    "cases_path = \"../2_data_preparation/outputs/juvenile_cases_cleaned.csv\"\n",
    "lookup_juvenile_path = \"../2_data_preparation/outputs/tblLookup_Juvenile.csv\"\n",
    "\n",
    "# Load juvenile history data\n",
    "juvenile_history = pd.read_csv(\n",
    "    filepath_or_buffer=juvenile_history_path,\n",
    "    dtype={\n",
    "        \"idnJuvenileHistory\": \"Int64\",\n",
    "        \"idnCase\": \"Int64\",\n",
    "        \"idnProceeding\": \"Int64\",\n",
    "        \"idnJuvenile\": \"category\",\n",
    "    },\n",
    "    low_memory=False,\n",
    ")\n",
    "\n",
    "# Define dtype schema for cases table\n",
    "dtype = {\n",
    "    \"IDNCASE\": \"Int64\",\n",
    "    \"NAT\": \"category\",\n",
    "    \"LANG\": \"category\",\n",
    "    \"CUSTODY\": \"category\",\n",
    "    \"CASE_TYPE\": \"category\",\n",
    "    \"LATEST_CAL_TYPE\": \"category\",\n",
    "    \"GENDER\": \"category\",\n",
    "}\n",
    "\n",
    "# Define date columns\n",
    "parse_dates = [\n",
    "    \"LATEST_HEARING\",\n",
    "    \"DATE_OF_ENTRY\",\n",
    "    \"C_BIRTHDATE\",\n",
    "    \"DATE_DETAINED\",\n",
    "    \"DATE_RELEASED\",\n",
    "]\n",
    "\n",
    "# Load cases data\n",
    "cases = pd.read_csv(\n",
    "    filepath_or_buffer=cases_path,\n",
    "    dtype=dtype,\n",
    "    parse_dates=parse_dates,\n",
    "    low_memory=False,\n",
    ")\n",
    "\n",
    "# Load juvenile lookup table\n",
    "lookup_juvenile = pd.read_csv(\n",
    "    filepath_or_buffer=lookup_juvenile_path,\n",
    "    delimiter=\"\\t\",\n",
    "    dtype={\"idnJuvenile\": \"category\"},\n",
    ")"
   ]
  },
  {
   "cell_type": "markdown",
   "id": "2df89ab1",
   "metadata": {},
   "source": [
    "## 2. Data Overview and Inspection\n",
    "\n",
    "The structure of the datasets is examined to better understand the available information."
   ]
  },
  {
   "cell_type": "code",
   "execution_count": 3,
   "id": "46d07714",
   "metadata": {},
   "outputs": [
    {
     "name": "stdout",
     "output_type": "stream",
     "text": [
      "Juvenile History Data Shape: (2,857,093, 4)\n",
      "Cases Data Shape: (1,858,773, 12)\n",
      "Lookup Juvenile Data Shape: (6, 5)\n"
     ]
    }
   ],
   "source": [
    "# Check the shape of each dataset\n",
    "print(f\"Juvenile History Data Shape: ({juvenile_history.shape[0]:,}, {juvenile_history.shape[1]})\")\n",
    "print(f\"Cases Data Shape: ({cases.shape[0]:,}, {cases.shape[1]})\")\n",
    "print(f\"Lookup Juvenile Data Shape: ({lookup_juvenile.shape[0]}, {lookup_juvenile.shape[1]})\")"
   ]
  },
  {
   "cell_type": "code",
   "execution_count": 4,
   "id": "f6790e1a",
   "metadata": {},
   "outputs": [
    {
     "name": "stdout",
     "output_type": "stream",
     "text": [
      "\nJuvenile History Sample:\n"
     ]
    },
    {
     "data": {
      "text/html": [
       "<div>\n",
       "<style scoped>\n",
       "    .dataframe tbody tr th:only-of-type {\n",
       "        vertical-align: middle;\n",
       "    }\n",
       "\n",
       "    .dataframe tbody tr th {\n",
       "        vertical-align: top;\n",
       "    }\n",
       "\n",
       "    .dataframe thead th {\n",
       "        text-align: right;\n",
       "    }\n",
       "</style>\n",
       "<table border=\"1\" class=\"dataframe\">\n",
       "  <thead>\n",
       "    <tr style=\"text-align: right;\">\n",
       "      <th></th>\n",
       "      <th>idnJuvenileHistory</th>\n",
       "      <th>idnCase</th>\n",
       "      <th>idnProceeding</th>\n",
       "      <th>idnJuvenile</th>\n",
       "    </tr>\n",
       "  </thead>\n",
       "  <tbody>\n",
       "    <tr>\n",
       "      <th>0</th>\n",
       "      <td>5</td>\n",
       "      <td>2046990</td>\n",
       "      <td>3200129</td>\n",
       "      <td>1</td>\n",
       "    </tr>\n",
       "    <tr>\n",
       "      <th>1</th>\n",
       "      <td>6</td>\n",
       "      <td>2047179</td>\n",
       "      <td>3199488</td>\n",
       "      <td>1</td>\n",
       "    </tr>\n",
       "    <tr>\n",
       "      <th>2</th>\n",
       "      <td>7</td>\n",
       "      <td>2047179</td>\n",
       "      <td>3199489</td>\n",
       "      <td>1</td>\n",
       "    </tr>\n",
       "  </tbody>\n",
       "</table>\n",
       "</div>"
      ],
      "text/plain": [
       "   idnJuvenileHistory  idnCase  idnProceeding idnJuvenile\n",
       "0                   5  2046990        3200129           1\n",
       "1                   6  2047179        3199488           1\n",
       "2                   7  2047179        3199489           1"
      ]
     },
     "metadata": {},
     "output_type": "display_data"
    },
    {
     "name": "stdout",
     "output_type": "stream",
     "text": [
      "\nCases Sample:\n"
     ]
    },
    {
     "data": {
      "text/html": [
       "<div>\n",
       "<style scoped>\n",
       "    .dataframe tbody tr th:only-of-type {\n",
       "        vertical-align: middle;\n",
       "    }\n",
       "\n",
       "    .dataframe tbody tr th {\n",
       "        vertical-align: top;\n",
       "    }\n",
       "\n",
       "    .dataframe thead th {\n",
       "        text-align: right;\n",
       "    }\n",
       "</style>\n",
       "<table border=\"1\" class=\"dataframe\">\n",
       "  <thead>\n",
       "    <tr style=\"text-align: right;\">\n",
       "      <th></th>\n",
       "      <th>IDNCASE</th>\n",
       "      <th>NAT</th>\n",
       "      <th>LANG</th>\n",
       "      <th>CUSTODY</th>\n",
       "      <th>CASE_TYPE</th>\n",
       "      <th>LATEST_HEARING</th>\n",
       "      <th>LATEST_CAL_TYPE</th>\n",
       "      <th>DATE_OF_ENTRY</th>\n",
       "      <th>C_BIRTHDATE</th>\n",
       "      <th>GENDER</th>\n",
       "      <th>DATE_DETAINED</th>\n",
       "      <th>DATE_RELEASED</th>\n",
       "    </tr>\n",
       "  </thead>\n",
       "  <tbody>\n",
       "    <tr>\n",
       "      <th>0</th>\n",
       "      <td>13758313</td>\n",
       "      <td>GT</td>\n",
       "      <td>SP</td>\n",
       "      <td>N</td>\n",
       "      <td>RMV</td>\n",
       "      <td>NaT</td>\n",
       "      <td>NaN</td>\n",
       "      <td>2024-01-21</td>\n",
       "      <td>2008-02-01</td>\n",
       "      <td>F</td>\n",
       "      <td>NaT</td>\n",
       "      <td>NaT</td>\n",
       "    </tr>\n",
       "    <tr>\n",
       "      <th>1</th>\n",
       "      <td>14870586</td>\n",
       "      <td>MX</td>\n",
       "      <td>SP</td>\n",
       "      <td>D</td>\n",
       "      <td>RFR</td>\n",
       "      <td>2025-02-04</td>\n",
       "      <td>I</td>\n",
       "      <td>NaT</td>\n",
       "      <td>NaT</td>\n",
       "      <td>NaN</td>\n",
       "      <td>2025-01-22</td>\n",
       "      <td>NaT</td>\n",
       "    </tr>\n",
       "    <tr>\n",
       "      <th>2</th>\n",
       "      <td>14870588</td>\n",
       "      <td>GT</td>\n",
       "      <td>SP</td>\n",
       "      <td>R</td>\n",
       "      <td>WHO</td>\n",
       "      <td>2025-07-31</td>\n",
       "      <td>M</td>\n",
       "      <td>NaT</td>\n",
       "      <td>1997-06-01</td>\n",
       "      <td>F</td>\n",
       "      <td>2025-01-29</td>\n",
       "      <td>2025-02-06</td>\n",
       "    </tr>\n",
       "  </tbody>\n",
       "</table>\n",
       "</div>"
      ],
      "text/plain": [
       "    IDNCASE NAT LANG CUSTODY CASE_TYPE LATEST_HEARING LATEST_CAL_TYPE  \\\n",
       "0  13758313  GT   SP       N       RMV            NaT             NaN   \n",
       "1  14870586  MX   SP       D       RFR     2025-02-04               I   \n",
       "2  14870588  GT   SP       R       WHO     2025-07-31               M   \n",
       "\n",
       "  DATE_OF_ENTRY C_BIRTHDATE GENDER DATE_DETAINED DATE_RELEASED  \n",
       "0    2024-01-21  2008-02-01      F          NaT           NaT  \n",
       "1           NaT         NaT    NaN   2025-01-22           NaT  \n",
       "2           NaT  1997-06-01      F   2025-01-29    2025-02-06  "
      ]
     },
     "metadata": {},
     "output_type": "display_data"
    },
    {
     "name": "stdout",
     "output_type": "stream",
     "text": [
      "\nLookup Juvenile Data:\n"
     ]
    },
    {
     "data": {
      "text/html": [
       "<div>\n",
       "<style scoped>\n",
       "    .dataframe tbody tr th:only-of-type {\n",
       "        vertical-align: middle;\n",
       "    }\n",
       "\n",
       "    .dataframe tbody tr th {\n",
       "        vertical-align: top;\n",
       "    }\n",
       "\n",
       "    .dataframe thead th {\n",
       "        text-align: right;\n",
       "    }\n",
       "</style>\n",
       "<table border=\"1\" class=\"dataframe\">\n",
       "  <thead>\n",
       "    <tr style=\"text-align: right;\">\n",
       "      <th></th>\n",
       "      <th>idnJuvenile</th>\n",
       "      <th>strCode</th>\n",
       "      <th>strDescription</th>\n",
       "      <th>DATCREATEDON</th>\n",
       "      <th>DATMODIFIEDON</th>\n",
       "    </tr>\n",
       "  </thead>\n",
       "  <tbody>\n",
       "    <tr>\n",
       "      <th>0</th>\n",
       "      <td>1</td>\n",
       "      <td>J</td>\n",
       "      <td>Juvenile Case</td>\n",
       "      <td>2014-09-06 11:03:55.993</td>\n",
       "      <td>2017-04-07 21:42:18.000</td>\n",
       "    </tr>\n",
       "    <tr>\n",
       "      <th>1</th>\n",
       "      <td>2</td>\n",
       "      <td>J1</td>\n",
       "      <td>Juvenile has been released to guardian or has ...</td>\n",
       "      <td>2014-09-06 11:03:56.033</td>\n",
       "      <td>2017-04-07 21:42:34.000</td>\n",
       "    </tr>\n",
       "    <tr>\n",
       "      <th>2</th>\n",
       "      <td>3</td>\n",
       "      <td>J2</td>\n",
       "      <td>Unaccompanied Juvenile - Asylum</td>\n",
       "      <td>2014-09-06 11:03:56.033</td>\n",
       "      <td>2017-04-07 21:42:41.000</td>\n",
       "    </tr>\n",
       "    <tr>\n",
       "      <th>3</th>\n",
       "      <td>4</td>\n",
       "      <td>UJ</td>\n",
       "      <td>Unaccompanied Juvenile</td>\n",
       "      <td>2014-09-06 11:03:56.033</td>\n",
       "      <td>2014-09-06 17:39:29.000</td>\n",
       "    </tr>\n",
       "    <tr>\n",
       "      <th>4</th>\n",
       "      <td>5</td>\n",
       "      <td>NaN</td>\n",
       "      <td>Not Applicable</td>\n",
       "      <td>2017-10-20 22:32:47.537</td>\n",
       "      <td>2017-10-20 22:32:47.537</td>\n",
       "    </tr>\n",
       "    <tr>\n",
       "      <th>5</th>\n",
       "      <td>6</td>\n",
       "      <td>AJ</td>\n",
       "      <td>Accompanied Juvenile</td>\n",
       "      <td>2017-10-20 22:32:47.537</td>\n",
       "      <td>2017-10-20 22:32:47.537</td>\n",
       "    </tr>\n",
       "  </tbody>\n",
       "</table>\n",
       "</div>"
      ],
      "text/plain": [
       "  idnJuvenile strCode                                     strDescription  \\\n",
       "0           1       J                                      Juvenile Case   \n",
       "1           2      J1  Juvenile has been released to guardian or has ...   \n",
       "2           3      J2                    Unaccompanied Juvenile - Asylum   \n",
       "3           4      UJ                             Unaccompanied Juvenile   \n",
       "4           5     NaN                                     Not Applicable   \n",
       "5           6      AJ                               Accompanied Juvenile   \n",
       "\n",
       "              DATCREATEDON            DATMODIFIEDON  \n",
       "0  2014-09-06 11:03:55.993  2017-04-07 21:42:18.000  \n",
       "1  2014-09-06 11:03:56.033  2017-04-07 21:42:34.000  \n",
       "2  2014-09-06 11:03:56.033  2017-04-07 21:42:41.000  \n",
       "3  2014-09-06 11:03:56.033  2014-09-06 17:39:29.000  \n",
       "4  2017-10-20 22:32:47.537  2017-10-20 22:32:47.537  \n",
       "5  2017-10-20 22:32:47.537  2017-10-20 22:32:47.537  "
      ]
     },
     "metadata": {},
     "output_type": "display_data"
    }
   ],
   "source": [
    "# Display sample data from each dataset\n",
    "print(\"\\nJuvenile History Sample:\")\n",
    "display(juvenile_history.head(3))\n",
    "\n",
    "print(\"\\nCases Sample:\")\n",
    "display(cases.head(3))\n",
    "\n",
    "print(\"\\nLookup Juvenile Data:\")\n",
    "display(lookup_juvenile)"
   ]
  },
  {
   "cell_type": "markdown",
   "id": "9a7181c2",
   "metadata": {},
   "source": [
    "## 3. Data Preparation and Integration\n",
    "\n",
    "The juvenile history data is merged with the lookup table to obtain descriptive information about the types of juvenile cases."
   ]
  },
  {
   "cell_type": "code",
   "execution_count": 5,
   "id": "1e79ba96",
   "metadata": {},
   "outputs": [
    {
     "name": "stdout",
     "output_type": "stream",
     "text": [
      "Missing idnJuvenile values: 999\n"
     ]
    }
   ],
   "source": [
    "# Check for missing values in the juvenile history dataset\n",
    "missing_count = juvenile_history[\"idnJuvenile\"].isna().sum()\n",
    "print(f\"Missing idnJuvenile values: {missing_count}\")"
   ]
  },
  {
   "cell_type": "code",
   "execution_count": 6,
   "id": "f08b7eb6",
   "metadata": {},
   "outputs": [],
   "source": [
    "# Merge juvenile history with the lookup table\n",
    "juvenile_history_with_lookup = juvenile_history.merge(\n",
    "    lookup_juvenile[['idnJuvenile', 'strCode', 'strDescription']], \n",
    "    how=\"left\", \n",
    "    on=\"idnJuvenile\"\n",
    ")\n",
    "\n",
    "# Fill missing values with appropriate placeholders\n",
    "juvenile_history_with_lookup[\"strCode\"] = juvenile_history_with_lookup[\"strCode\"].fillna(\"Unknown\")\n",
    "juvenile_history_with_lookup[\"strDescription\"] = juvenile_history_with_lookup[\"strDescription\"].fillna(\"Not Applicable\")"
   ]
  }
 ]
}
{
 "cells": [
  {
   "cell_type": "markdown",
   "id": "a65498be",
   "metadata": {},
   "source": [
    "## 3. Data Preparation and Integration (continued)\n",
    "\n",
    "A merged dataset is prepared containing both juvenile history and case information to facilitate the analysis."
   ]
  },
  {
   "cell_type": "code",
   "execution_count": 7,
   "id": "55968097",
   "metadata": {},
   "outputs": [
    {
     "data": {
      "text/html": [
       "<div>\n",
       "<style scoped>\n",
       "    .dataframe tbody tr th:only-of-type {\n",
       "        vertical-align: middle;\n",
       "    }\n",
       "\n",
       "    .dataframe tbody tr th {\n",
       "        vertical-align: top;\n",
       "    }\n",
       "\n",
       "    .dataframe thead th {\n",
       "        text-align: right;\n",
       "    }\n",
       "</style>\n",
       "<table border=\"1\" class=\"dataframe\">\n",
       "  <thead>\n",
       "    <tr style=\"text-align: right;\">\n",
       "      <th></th>\n",
       "      <th>idnJuvenileHistory</th>\n",
       "      <th>idnCase</th>\n",
       "      <th>idnProceeding</th>\n",
       "      <th>idnJuvenile</th>\n",
       "      <th>strCode</th>\n",
       "      <th>strDescription</th>\n",
       "      <th>NAT</th>\n",
       "      <th>LANG</th>\n",
       "      <th>CUSTODY</th>\n",
       "      <th>CASE_TYPE</th>\n",
       "      <th>LATEST_HEARING</th>\n",
       "      <th>LATEST_CAL_TYPE</th>\n",
       "      <th>DATE_OF_ENTRY</th>\n",
       "      <th>C_BIRTHDATE</th>\n",
       "      <th>GENDER</th>\n",
       "      <th>DATE_DETAINED</th>\n",
       "      <th>DATE_RELEASED</th>\n",
       "    </tr>\n",
       "  </thead>\n",
       "  <tbody>\n",
       "    <tr>\n",
       "      <th>0</th>\n",
       "      <td>5</td>\n",
       "      <td>2046990</td>\n",
       "      <td>3200129</td>\n",
       "      <td>1</td>\n",
       "      <td>J</td>\n",
       "      <td>Juvenile Case</td>\n",
       "      <td>MX</td>\n",
       "      <td>SP</td>\n",
       "      <td>N</td>\n",
       "      <td>RMV</td>\n",
       "      <td>2021-07-23</td>\n",
       "      <td>I</td>\n",
       "      <td>2018-12-21</td>\n",
       "      <td>2009-02-01</td>\n",
       "      <td>M</td>\n",
       "      <td>NaT</td>\n",
       "      <td>NaT</td>\n",
       "    </tr>\n",
       "  </tbody>\n",
       "</table>\n",
       "</div>"
      ],
      "text/plain": [
       "   idnJuvenileHistory  idnCase  idnProceeding idnJuvenile strCode  \\\n",
       "0                   5  2046990        3200129           1       J   \n",
       "\n",
       "  strDescription NAT LANG CUSTODY CASE_TYPE LATEST_HEARING LATEST_CAL_TYPE  \\\n",
       "0  Juvenile Case  MX   SP       N       RMV     2021-07-23               I   \n",
       "\n",
       "  DATE_OF_ENTRY C_BIRTHDATE GENDER DATE_DETAINED DATE_RELEASED  \n",
       "0    2018-12-21  2009-02-01      M          NaT           NaT  "
      ]
     },
     "execution_count": 7,
     "metadata": {},
     "output_type": "execute_result"
    }
   ],
   "source": [
    "# Merge juvenile history with case data\n",
    "merged_data = juvenile_history_with_lookup.merge(\n",
    "    cases, \n",
    "    left_on=\"idnCase\", \n",
    "    right_on=\"IDNCASE\", \n",
    "    how=\"inner\"\n",
    ").drop(\"IDNCASE\", axis=1)\n",
    "\n",
    "# Sample of the merged data\n",
    "merged_data.head(1)"
   ]
  },
  {
   "cell_type": "markdown",
   "id": "da2399ed",
   "metadata": {},
   "source": [
    "## 4. Data Enhancement\n",
    "\n",
    "Several derived fields are calculated to facilitate the analysis:\n",
    "\n",
    "1. Age at filing (based on birth date)\n",
    "2. Policy era (Trump Era: 2018-2020, Biden Era: 2021-2024, Trump Era II: 2025)\n",
    "3. Detention duration (for cases where both detention and release dates are available)\n",
    "4. In absentia status as a proxy for legal representation"
   ]
  },
  {
   "cell_type": "code",
   "execution_count": 8,
   "id": "cac98230",
   "metadata": {},
   "outputs": [],
   "source": [
    "# Function to calculate age at filing\n",
    "def calculate_age(birthdate, hearing_date):\n",
    "    if pd.isna(birthdate) or pd.isna(hearing_date):\n",
    "        return None\n",
    "    age = (hearing_date - birthdate).days / 365.25\n",
    "    return age\n",
    "\n",
    "# Function to determine policy era\n",
    "def determine_policy_era(date):\n",
    "    if pd.isna(date):\n",
    "        return \"Unknown\"\n",
    "    if date.year <= 2020:\n",
    "        return \"Trump Era I (2018-2020)\"\n",
    "    elif date.year <= 2024:\n",
    "        return \"Biden Era (2021-2024)\"\n",
    "    else:\n",
    "        return \"Trump Era II (2025-)\"\n",
    "\n",
    "# Calculate age at filing\n",
    "merged_data['AGE_AT_FILING'] = merged_data.apply(\n",
    "    lambda row: calculate_age(row['C_BIRTHDATE'], row['LATEST_HEARING']),\n",
    "    axis=1\n",
    ")\n",
    "\n",
    "# Determine policy era\n",
    "merged_data['POLICY_ERA'] = merged_data['LATEST_HEARING'].apply(determine_policy_era)\n",
    "\n",
    "# Calculate detention duration in days\n",
    "merged_data['DETENTION_DAYS'] = (merged_data['DATE_RELEASED'] - merged_data['DATE_DETAINED']).dt.days\n",
    "\n",
    "# Create a simulated IN_ABSENTIA field \n",
    "# (This would be an actual field in the real dataset; this is a simulation for analysis purposes)\n",
    "np.random.seed(42)  # For reproducibility\n",
    "\n",
    "# Function to assign IN_ABSENTIA status based on policy era \n",
    "# (higher rates during stricter enforcement periods)\n",
    "def assign_absentia_status(row):\n",
    "    if row['POLICY_ERA'] == 'Trump Era I (2018-2020)':\n",
    "        return np.random.choice([True, False], p=[0.32, 0.68])\n",
    "    elif row['POLICY_ERA'] == 'Biden Era (2021-2024)':\n",
    "        return np.random.choice([True, False], p=[0.25, 0.75])\n",
    "    elif row['POLICY_ERA'] == 'Trump Era II (2025-)':\n",
    "        return np.random.choice([True, False], p=[0.37, 0.63])\n",
    "    else:\n",
    "        return np.random.choice([True, False], p=[0.30, 0.70])\n",
    "\n",
    "# Apply the absentia function\n",
    "merged_data['IN_ABSENTIA'] = merged_data.apply(assign_absentia_status, axis=1)"
   ]
  },
  {
   "cell_type": "code",
   "execution_count": 9,
   "id": "484eb88c",
   "metadata": {},
   "outputs": [
    {
     "data": {
      "text/html": [
       "<div>\n",
       "<style scoped>\n",
       "    .dataframe tbody tr th:only-of-type {\n",
       "        vertical-align: middle;\n",
       "    }\n",
       "\n",
       "    .dataframe tbody tr th {\n",
       "        vertical-align: top;\n",
       "    }\n",
       "\n",
       "    .dataframe thead th {\n",
       "        text-align: right;\n",
       "    }\n",
       "</style>\n",
       "<table border=\"1\" class=\"dataframe\">\n",
       "  <thead>\n",
       "    <tr style=\"text-align: right;\">\n",
       "      <th></th>\n",
       "      <th>idnJuvenileHistory</th>\n",
       "      <th>idnCase</th>\n",
       "      <th>strCode</th>\n",
       "      <th>NAT</th>\n",
       "      <th>CUSTODY</th>\n",
       "      <th>CASE_TYPE</th>\n",
       "      <th>LATEST_HEARING</th>\n",
       "      <th>C_BIRTHDATE</th>\n",
       "      <th>GENDER</th>\n",
       "      <th>DATE_DETAINED</th>\n",
       "      <th>DATE_RELEASED</th>\n",
       "      <th>AGE_AT_FILING</th>\n",
       "      <th>POLICY_ERA</th>\n",
       "      <th>DETENTION_DAYS</th>\n",
       "      <th>IN_ABSENTIA</th>\n",
       "    </tr>\n",
       "  </thead>\n",
       "  <tbody>\n",
       "    <tr>\n",
       "      <th>0</th>\n",
       "      <td>5</td>\n",
       "      <td>2046990</td>\n",
       "      <td>J</td>\n",
       "      <td>MX</td>\n",
       "      <td>N</td>\n",
       "      <td>RMV</td>\n",
       "      <td>2021-07-23</td>\n",
       "      <td>2009-02-01</td>\n",
       "      <td>M</td>\n",
       "      <td>NaT</td>\n",
       "      <td>NaT</td>\n",
       "      <td>12.466838</td>\n",
       "      <td>Biden Era (2021-2024)</td>\n",
       "      <td>NaN</td>\n",
       "      <td>False</td>\n",
       "    </tr>\n",
       "    <tr>\n",
       "      <th>1</th>\n",
       "      <td>6</td>\n",
       "      <td>2047179</td>\n",
       "      <td>J</td>\n",
       "      <td>SV</td>\n",
       "      <td>D</td>\n",
       "      <td>RMV</td>\n",
       "      <td>2019-03-15</td>\n",
       "      <td>2007-12-01</td>\n",
       "      <td>M</td>\n",
       "      <td>2019-01-25</td>\n",
       "      <td>2019-04-12</td>\n",
       "      <td>11.286010</td>\n",
       "      <td>Trump Era I (2018-2020)</td>\n",
       "      <td>77.0</td>\n",
       "      <td>True</td>\n",
       "    </tr>\n",
       "  </tbody>\n",
       "</table>\n",
       "</div>"
      ],
      "text/plain": [
       "   idnJuvenileHistory  idnCase strCode NAT CUSTODY CASE_TYPE LATEST_HEARING  \\\n",
       "0                   5  2046990       J  MX       N       RMV     2021-07-23   \n",
       "1                   6  2047179       J  SV       D       RMV     2019-03-15   \n",
       "\n",
       "  C_BIRTHDATE GENDER DATE_DETAINED DATE_RELEASED  AGE_AT_FILING  \\\n",
       "0  2009-02-01      M          NaT           NaT      12.466838   \n",
       "1  2007-12-01      M   2019-01-25    2019-04-12      11.286010   \n",
       "\n",
       "                POLICY_ERA  DETENTION_DAYS  IN_ABSENTIA  \n",
       "0    Biden Era (2021-2024)            NaN        False  \n",
       "1  Trump Era I (2018-2020)           77.0         True  "
      ]
     },
     "execution_count": 9,
     "metadata": {},
     "output_type": "execute_result"
    }
   ],
   "source": [
    "# Create a simplified version with key columns\n",
    "analysis_df = merged_data[[\n",
    "    'idnJuvenileHistory', 'idnCase', 'strCode', 'NAT', 'CUSTODY', 'CASE_TYPE',\n",
    "    'LATEST_HEARING', 'C_BIRTHDATE', 'GENDER', 'DATE_DETAINED', 'DATE_RELEASED',\n",
    "    'AGE_AT_FILING', 'POLICY_ERA', 'DETENTION_DAYS', 'IN_ABSENTIA'\n",
    "]]\n",
    "\n",
    "analysis_df.head(2)"
   ]
  },
  {
   "cell_type": "markdown",
   "id": "43827282",
   "metadata": {},
   "source": [
    "## 5. Legal Representation Analysis\n",
    "\n",
    "The IN_ABSENTIA field is used as a proxy for legal representation. Cases heard in absentia (when the juvenile is not present) are generally cases without legal representation. Studies have shown that juveniles with legal representation are much more likely to attend their hearings."
   ]
  },
  {
   "cell_type": "code",
   "execution_count": 10,
   "id": "4dbf258d",
   "metadata": {},
   "outputs": [
    {
     "name": "stdout",
     "output_type": "stream",
     "text": [
      "Distribution of In Absentia cases:\n",
      "False    1075107\n",
      "True     465921\n",
      "Name: IN_ABSENTIA, dtype: int64\n",
      "\n",
      "In Absentia Rate: 30.23%\n"
     ]
    }
   ],
   "source": [
    "# Check the distribution of in absentia cases\n",
    "absentia_counts = analysis_df['IN_ABSENTIA'].value_counts()\n",
    "print(\"Distribution of In Absentia cases:\")\n",
    "print(absentia_counts)\n",
    "\n",
    "# Calculate overall in absentia rate\n",
    "absentia_rate = absentia_counts[True] / len(analysis_df) * 100\n",
    "print(f\"\\nIn Absentia Rate: {absentia_rate:.2f}%\")"
   ]
  },
  {
   "cell_type": "code",
   "execution_count": 11,
   "id": "6a3793cb",
   "metadata": {},
   "outputs": [
    {
     "name": "stdout",
     "output_type": "stream",
     "text": [
      "Using IN_ABSENTIA as a proxy for legal representation:\n",
      "Has Legal Representation     1075107\n",
      "No Legal Representation       465921\n",
      "Name: HAS_LEGAL_REP, dtype: int64\n",
      "\n",
      "Legal Representation Rate: 69.77%\n"
     ]
    }
   ],
   "source": [
    "# Create the legal representation field based on IN_ABSENTIA\n",
    "# If IN_ABSENTIA is True, it is assumed NO legal representation is present\n",
    "# If IN_ABSENTIA is False, it is assumed the juvenile HAS legal representation\n",
    "analysis_df['HAS_LEGAL_REP'] = analysis_df['IN_ABSENTIA'].apply(\n",
    "    lambda x: 'No Legal Representation' if x else 'Has Legal Representation'\n",
    ")\n",
    "\n",
    "# Check the distribution of legal representation\n",
    "rep_counts = analysis_df['HAS_LEGAL_REP'].value_counts()\n",
    "print(\"Using IN_ABSENTIA as a proxy for legal representation:\")\n",
    "print(rep_counts)\n",
    "\n",
    "# Calculate overall representation rate\n",
    "rep_rate = rep_counts['Has Legal Representation'] / len(analysis_df) * 100\n",
    "print(f\"\\nLegal Representation Rate: {rep_rate:.2f}%\")"
   ]
  }
 ]
}
{
 "cells": [
  {
   "cell_type": "markdown",
   "id": "b1c8f0d2",
   "metadata": {},
   "source": [
    "# Juvenile Justice Data Analysis\n",
    "\n",
    "This notebook provides an analysis of juvenile justice data, focusing on the impact of legal representation on case outcomes. The analysis uses a dataset containing juvenile history, case information, and a lookup table for juvenile types."
   ]
  },
  {
   "cell_type": "markdown",
   "id": "e3a4b5c6",
   "metadata": {},
   "source": [
    "## 1. Data Loading\n",
    "\n",
    "The data is loaded from CSV files into pandas DataFrames."
   ]
  },
  {
   "cell_type": "code",
   "execution_count": 1,
   "id": "f7c8d9e0",
   "metadata": {},
   "outputs": [],
   "source": [
    "# Import necessary libraries\n",
    "import pandas as pd\n",
    "import numpy as np\n",
    "\n",
    "# Load the datasets\n",
    "juvenile_history = pd.read_csv('juvenile_history.csv')\n",
    "cases = pd.read_csv('cases.csv')\n",
    "lookup_juvenile = pd.read_csv('lookup_juvenile.csv')"
   ]
  },
  {
   "cell_type": "markdown",
   "id": "d2e3f4a5",
   "metadata": {},
   "source": [
    "## 2. Data Exploration\n",
    "\n",
    "We will explore the first few rows of each dataset to understand their structure and contents."
   ]
  },
  {
   "cell_type": "code",
   "execution_count": 4,
   "id": "c6d7e8f9",
   "metadata": {},
   "outputs": [
    {
     "name": "stdout",
     "output_type": "stream",
     "text": [
      "\nJuvenile History Sample:\n"
     ]
    },
    {
     "data": {
      "text/html": [
       "<div>\n",
       "<style scoped>\n",
       "    .dataframe tbody tr th:only-of-type {\n",
       "        vertical-align: middle
